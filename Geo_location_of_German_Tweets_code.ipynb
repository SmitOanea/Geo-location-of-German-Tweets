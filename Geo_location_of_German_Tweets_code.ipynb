{
  "nbformat": 4,
  "nbformat_minor": 0,
  "metadata": {
    "accelerator": "GPU",
    "colab": {
      "provenance": [],
      "toc_visible": true
    },
    "kernelspec": {
      "display_name": "Python 3",
      "name": "python3"
    },
    "widgets": {
      "application/vnd.jupyter.widget-state+json": {
        "a9b75d24147e40fdb419bd637a205a8a": {
          "model_module": "@jupyter-widgets/controls",
          "model_name": "HBoxModel",
          "state": {
            "_view_name": "HBoxView",
            "_dom_classes": [],
            "_model_name": "HBoxModel",
            "_view_module": "@jupyter-widgets/controls",
            "_model_module_version": "1.5.0",
            "_view_count": null,
            "_view_module_version": "1.5.0",
            "box_style": "",
            "layout": "IPY_MODEL_aef8c535ba474f7789b305b5e92f2db3",
            "_model_module": "@jupyter-widgets/controls",
            "children": [
              "IPY_MODEL_4c9298d2d0da4fb8b332fd17f49b0060",
              "IPY_MODEL_5031872d9bb74f98968e4e8bf99a8d2b",
              "IPY_MODEL_c7fcb679ad25424892e79d1eec001d40"
            ]
          },
          "model_module_version": "1.5.0"
        },
        "aef8c535ba474f7789b305b5e92f2db3": {
          "model_module": "@jupyter-widgets/base",
          "model_name": "LayoutModel",
          "state": {
            "_view_name": "LayoutView",
            "grid_template_rows": null,
            "right": null,
            "justify_content": null,
            "_view_module": "@jupyter-widgets/base",
            "overflow": null,
            "_model_module_version": "1.2.0",
            "_view_count": null,
            "flex_flow": null,
            "width": null,
            "min_width": null,
            "border": null,
            "align_items": null,
            "bottom": null,
            "_model_module": "@jupyter-widgets/base",
            "top": null,
            "grid_column": null,
            "overflow_y": null,
            "overflow_x": null,
            "grid_auto_flow": null,
            "grid_area": null,
            "grid_template_columns": null,
            "flex": null,
            "_model_name": "LayoutModel",
            "justify_items": null,
            "grid_row": null,
            "max_height": null,
            "align_content": null,
            "visibility": null,
            "align_self": null,
            "height": null,
            "min_height": null,
            "padding": null,
            "grid_auto_rows": null,
            "grid_gap": null,
            "max_width": null,
            "order": null,
            "_view_module_version": "1.2.0",
            "grid_template_areas": null,
            "object_position": null,
            "object_fit": null,
            "grid_auto_columns": null,
            "margin": null,
            "display": null,
            "left": null
          },
          "model_module_version": "1.2.0"
        },
        "4c9298d2d0da4fb8b332fd17f49b0060": {
          "model_module": "@jupyter-widgets/controls",
          "model_name": "HTMLModel",
          "state": {
            "_view_name": "HTMLView",
            "style": "IPY_MODEL_2315dff45cd640869983af50c1dddb70",
            "_dom_classes": [],
            "description": "",
            "_model_name": "HTMLModel",
            "placeholder": "​",
            "_view_module": "@jupyter-widgets/controls",
            "_model_module_version": "1.5.0",
            "value": "100%",
            "_view_count": null,
            "_view_module_version": "1.5.0",
            "description_tooltip": null,
            "_model_module": "@jupyter-widgets/controls",
            "layout": "IPY_MODEL_c2b30d4eeb2c4694ba164bb394c6e432"
          },
          "model_module_version": "1.5.0"
        },
        "5031872d9bb74f98968e4e8bf99a8d2b": {
          "model_module": "@jupyter-widgets/controls",
          "model_name": "FloatProgressModel",
          "state": {
            "_view_name": "ProgressView",
            "style": "IPY_MODEL_ee8a118b75e643f68bb7d06ff5aaed5b",
            "_dom_classes": [],
            "description": "",
            "_model_name": "FloatProgressModel",
            "bar_style": "success",
            "max": 17663,
            "_view_module": "@jupyter-widgets/controls",
            "_model_module_version": "1.5.0",
            "value": 17663,
            "_view_count": null,
            "_view_module_version": "1.5.0",
            "orientation": "horizontal",
            "min": 0,
            "description_tooltip": null,
            "_model_module": "@jupyter-widgets/controls",
            "layout": "IPY_MODEL_d72bbc38a3b34bdba0c80258d985e17c"
          },
          "model_module_version": "1.5.0"
        },
        "c7fcb679ad25424892e79d1eec001d40": {
          "model_module": "@jupyter-widgets/controls",
          "model_name": "HTMLModel",
          "state": {
            "_view_name": "HTMLView",
            "style": "IPY_MODEL_c932e60b22c04b31b46d895d49a40a99",
            "_dom_classes": [],
            "description": "",
            "_model_name": "HTMLModel",
            "placeholder": "​",
            "_view_module": "@jupyter-widgets/controls",
            "_model_module_version": "1.5.0",
            "value": " 17663/17663 [00:20&lt;00:00, 1123.61it/s]",
            "_view_count": null,
            "_view_module_version": "1.5.0",
            "description_tooltip": null,
            "_model_module": "@jupyter-widgets/controls",
            "layout": "IPY_MODEL_7f927aabb35c44c48354c9cf19ab6954"
          },
          "model_module_version": "1.5.0"
        },
        "2315dff45cd640869983af50c1dddb70": {
          "model_module": "@jupyter-widgets/controls",
          "model_name": "DescriptionStyleModel",
          "state": {
            "_view_name": "StyleView",
            "_model_name": "DescriptionStyleModel",
            "description_width": "",
            "_view_module": "@jupyter-widgets/base",
            "_model_module_version": "1.5.0",
            "_view_count": null,
            "_view_module_version": "1.2.0",
            "_model_module": "@jupyter-widgets/controls"
          },
          "model_module_version": "1.5.0"
        },
        "c2b30d4eeb2c4694ba164bb394c6e432": {
          "model_module": "@jupyter-widgets/base",
          "model_name": "LayoutModel",
          "state": {
            "_view_name": "LayoutView",
            "grid_template_rows": null,
            "right": null,
            "justify_content": null,
            "_view_module": "@jupyter-widgets/base",
            "overflow": null,
            "_model_module_version": "1.2.0",
            "_view_count": null,
            "flex_flow": null,
            "width": null,
            "min_width": null,
            "border": null,
            "align_items": null,
            "bottom": null,
            "_model_module": "@jupyter-widgets/base",
            "top": null,
            "grid_column": null,
            "overflow_y": null,
            "overflow_x": null,
            "grid_auto_flow": null,
            "grid_area": null,
            "grid_template_columns": null,
            "flex": null,
            "_model_name": "LayoutModel",
            "justify_items": null,
            "grid_row": null,
            "max_height": null,
            "align_content": null,
            "visibility": null,
            "align_self": null,
            "height": null,
            "min_height": null,
            "padding": null,
            "grid_auto_rows": null,
            "grid_gap": null,
            "max_width": null,
            "order": null,
            "_view_module_version": "1.2.0",
            "grid_template_areas": null,
            "object_position": null,
            "object_fit": null,
            "grid_auto_columns": null,
            "margin": null,
            "display": null,
            "left": null
          },
          "model_module_version": "1.2.0"
        },
        "ee8a118b75e643f68bb7d06ff5aaed5b": {
          "model_module": "@jupyter-widgets/controls",
          "model_name": "ProgressStyleModel",
          "state": {
            "_view_name": "StyleView",
            "_model_name": "ProgressStyleModel",
            "description_width": "",
            "_view_module": "@jupyter-widgets/base",
            "_model_module_version": "1.5.0",
            "_view_count": null,
            "_view_module_version": "1.2.0",
            "bar_color": null,
            "_model_module": "@jupyter-widgets/controls"
          },
          "model_module_version": "1.5.0"
        },
        "d72bbc38a3b34bdba0c80258d985e17c": {
          "model_module": "@jupyter-widgets/base",
          "model_name": "LayoutModel",
          "state": {
            "_view_name": "LayoutView",
            "grid_template_rows": null,
            "right": null,
            "justify_content": null,
            "_view_module": "@jupyter-widgets/base",
            "overflow": null,
            "_model_module_version": "1.2.0",
            "_view_count": null,
            "flex_flow": null,
            "width": null,
            "min_width": null,
            "border": null,
            "align_items": null,
            "bottom": null,
            "_model_module": "@jupyter-widgets/base",
            "top": null,
            "grid_column": null,
            "overflow_y": null,
            "overflow_x": null,
            "grid_auto_flow": null,
            "grid_area": null,
            "grid_template_columns": null,
            "flex": null,
            "_model_name": "LayoutModel",
            "justify_items": null,
            "grid_row": null,
            "max_height": null,
            "align_content": null,
            "visibility": null,
            "align_self": null,
            "height": null,
            "min_height": null,
            "padding": null,
            "grid_auto_rows": null,
            "grid_gap": null,
            "max_width": null,
            "order": null,
            "_view_module_version": "1.2.0",
            "grid_template_areas": null,
            "object_position": null,
            "object_fit": null,
            "grid_auto_columns": null,
            "margin": null,
            "display": null,
            "left": null
          },
          "model_module_version": "1.2.0"
        },
        "c932e60b22c04b31b46d895d49a40a99": {
          "model_module": "@jupyter-widgets/controls",
          "model_name": "DescriptionStyleModel",
          "state": {
            "_view_name": "StyleView",
            "_model_name": "DescriptionStyleModel",
            "description_width": "",
            "_view_module": "@jupyter-widgets/base",
            "_model_module_version": "1.5.0",
            "_view_count": null,
            "_view_module_version": "1.2.0",
            "_model_module": "@jupyter-widgets/controls"
          },
          "model_module_version": "1.5.0"
        },
        "7f927aabb35c44c48354c9cf19ab6954": {
          "model_module": "@jupyter-widgets/base",
          "model_name": "LayoutModel",
          "state": {
            "_view_name": "LayoutView",
            "grid_template_rows": null,
            "right": null,
            "justify_content": null,
            "_view_module": "@jupyter-widgets/base",
            "overflow": null,
            "_model_module_version": "1.2.0",
            "_view_count": null,
            "flex_flow": null,
            "width": null,
            "min_width": null,
            "border": null,
            "align_items": null,
            "bottom": null,
            "_model_module": "@jupyter-widgets/base",
            "top": null,
            "grid_column": null,
            "overflow_y": null,
            "overflow_x": null,
            "grid_auto_flow": null,
            "grid_area": null,
            "grid_template_columns": null,
            "flex": null,
            "_model_name": "LayoutModel",
            "justify_items": null,
            "grid_row": null,
            "max_height": null,
            "align_content": null,
            "visibility": null,
            "align_self": null,
            "height": null,
            "min_height": null,
            "padding": null,
            "grid_auto_rows": null,
            "grid_gap": null,
            "max_width": null,
            "order": null,
            "_view_module_version": "1.2.0",
            "grid_template_areas": null,
            "object_position": null,
            "object_fit": null,
            "grid_auto_columns": null,
            "margin": null,
            "display": null,
            "left": null
          },
          "model_module_version": "1.2.0"
        },
        "6eecf94f8f3e4c5a9e50e520fe04c4d8": {
          "model_module": "@jupyter-widgets/controls",
          "model_name": "HBoxModel",
          "state": {
            "_view_name": "HBoxView",
            "_dom_classes": [],
            "_model_name": "HBoxModel",
            "_view_module": "@jupyter-widgets/controls",
            "_model_module_version": "1.5.0",
            "_view_count": null,
            "_view_module_version": "1.5.0",
            "box_style": "",
            "layout": "IPY_MODEL_038ec8fb73df4ce689d01a021d4bd8d0",
            "_model_module": "@jupyter-widgets/controls",
            "children": [
              "IPY_MODEL_9f542851719e42828f531484c417a324",
              "IPY_MODEL_b0b6d93aff6e4cb982f75eff796437ce",
              "IPY_MODEL_6503a84a2c8c4331ab6fe43ba2398b82"
            ]
          },
          "model_module_version": "1.5.0"
        },
        "038ec8fb73df4ce689d01a021d4bd8d0": {
          "model_module": "@jupyter-widgets/base",
          "model_name": "LayoutModel",
          "state": {
            "_view_name": "LayoutView",
            "grid_template_rows": null,
            "right": null,
            "justify_content": null,
            "_view_module": "@jupyter-widgets/base",
            "overflow": null,
            "_model_module_version": "1.2.0",
            "_view_count": null,
            "flex_flow": null,
            "width": null,
            "min_width": null,
            "border": null,
            "align_items": null,
            "bottom": null,
            "_model_module": "@jupyter-widgets/base",
            "top": null,
            "grid_column": null,
            "overflow_y": null,
            "overflow_x": null,
            "grid_auto_flow": null,
            "grid_area": null,
            "grid_template_columns": null,
            "flex": null,
            "_model_name": "LayoutModel",
            "justify_items": null,
            "grid_row": null,
            "max_height": null,
            "align_content": null,
            "visibility": null,
            "align_self": null,
            "height": null,
            "min_height": null,
            "padding": null,
            "grid_auto_rows": null,
            "grid_gap": null,
            "max_width": null,
            "order": null,
            "_view_module_version": "1.2.0",
            "grid_template_areas": null,
            "object_position": null,
            "object_fit": null,
            "grid_auto_columns": null,
            "margin": null,
            "display": null,
            "left": null
          },
          "model_module_version": "1.2.0"
        },
        "9f542851719e42828f531484c417a324": {
          "model_module": "@jupyter-widgets/controls",
          "model_name": "HTMLModel",
          "state": {
            "_view_name": "HTMLView",
            "style": "IPY_MODEL_da61377ec0ad47ceb0c3353978d51173",
            "_dom_classes": [],
            "description": "",
            "_model_name": "HTMLModel",
            "placeholder": "​",
            "_view_module": "@jupyter-widgets/controls",
            "_model_module_version": "1.5.0",
            "value": "Epoch 2 of 6:  17%",
            "_view_count": null,
            "_view_module_version": "1.5.0",
            "description_tooltip": null,
            "_model_module": "@jupyter-widgets/controls",
            "layout": "IPY_MODEL_9dd9a3b0af484419b3a4b71ccd0d0278"
          },
          "model_module_version": "1.5.0"
        },
        "b0b6d93aff6e4cb982f75eff796437ce": {
          "model_module": "@jupyter-widgets/controls",
          "model_name": "FloatProgressModel",
          "state": {
            "_view_name": "ProgressView",
            "style": "IPY_MODEL_991dacf74f034b919db077ab30d24078",
            "_dom_classes": [],
            "description": "",
            "_model_name": "FloatProgressModel",
            "bar_style": "",
            "max": 6,
            "_view_module": "@jupyter-widgets/controls",
            "_model_module_version": "1.5.0",
            "value": 1,
            "_view_count": null,
            "_view_module_version": "1.5.0",
            "orientation": "horizontal",
            "min": 0,
            "description_tooltip": null,
            "_model_module": "@jupyter-widgets/controls",
            "layout": "IPY_MODEL_522d6a6073a549f6b9fe98b8fc22dae8"
          },
          "model_module_version": "1.5.0"
        },
        "6503a84a2c8c4331ab6fe43ba2398b82": {
          "model_module": "@jupyter-widgets/controls",
          "model_name": "HTMLModel",
          "state": {
            "_view_name": "HTMLView",
            "style": "IPY_MODEL_cedbfcfce4e6487bab1a8d4f0a2fc3f7",
            "_dom_classes": [],
            "description": "",
            "_model_name": "HTMLModel",
            "placeholder": "​",
            "_view_module": "@jupyter-widgets/controls",
            "_model_module_version": "1.5.0",
            "value": " 1/6 [06:27&lt;32:18, 387.72s/it]",
            "_view_count": null,
            "_view_module_version": "1.5.0",
            "description_tooltip": null,
            "_model_module": "@jupyter-widgets/controls",
            "layout": "IPY_MODEL_1f326add182246968c2c1b3779108332"
          },
          "model_module_version": "1.5.0"
        },
        "da61377ec0ad47ceb0c3353978d51173": {
          "model_module": "@jupyter-widgets/controls",
          "model_name": "DescriptionStyleModel",
          "state": {
            "_view_name": "StyleView",
            "_model_name": "DescriptionStyleModel",
            "description_width": "",
            "_view_module": "@jupyter-widgets/base",
            "_model_module_version": "1.5.0",
            "_view_count": null,
            "_view_module_version": "1.2.0",
            "_model_module": "@jupyter-widgets/controls"
          },
          "model_module_version": "1.5.0"
        },
        "9dd9a3b0af484419b3a4b71ccd0d0278": {
          "model_module": "@jupyter-widgets/base",
          "model_name": "LayoutModel",
          "state": {
            "_view_name": "LayoutView",
            "grid_template_rows": null,
            "right": null,
            "justify_content": null,
            "_view_module": "@jupyter-widgets/base",
            "overflow": null,
            "_model_module_version": "1.2.0",
            "_view_count": null,
            "flex_flow": null,
            "width": null,
            "min_width": null,
            "border": null,
            "align_items": null,
            "bottom": null,
            "_model_module": "@jupyter-widgets/base",
            "top": null,
            "grid_column": null,
            "overflow_y": null,
            "overflow_x": null,
            "grid_auto_flow": null,
            "grid_area": null,
            "grid_template_columns": null,
            "flex": null,
            "_model_name": "LayoutModel",
            "justify_items": null,
            "grid_row": null,
            "max_height": null,
            "align_content": null,
            "visibility": null,
            "align_self": null,
            "height": null,
            "min_height": null,
            "padding": null,
            "grid_auto_rows": null,
            "grid_gap": null,
            "max_width": null,
            "order": null,
            "_view_module_version": "1.2.0",
            "grid_template_areas": null,
            "object_position": null,
            "object_fit": null,
            "grid_auto_columns": null,
            "margin": null,
            "display": null,
            "left": null
          },
          "model_module_version": "1.2.0"
        },
        "991dacf74f034b919db077ab30d24078": {
          "model_module": "@jupyter-widgets/controls",
          "model_name": "ProgressStyleModel",
          "state": {
            "_view_name": "StyleView",
            "_model_name": "ProgressStyleModel",
            "description_width": "",
            "_view_module": "@jupyter-widgets/base",
            "_model_module_version": "1.5.0",
            "_view_count": null,
            "_view_module_version": "1.2.0",
            "bar_color": null,
            "_model_module": "@jupyter-widgets/controls"
          },
          "model_module_version": "1.5.0"
        },
        "522d6a6073a549f6b9fe98b8fc22dae8": {
          "model_module": "@jupyter-widgets/base",
          "model_name": "LayoutModel",
          "state": {
            "_view_name": "LayoutView",
            "grid_template_rows": null,
            "right": null,
            "justify_content": null,
            "_view_module": "@jupyter-widgets/base",
            "overflow": null,
            "_model_module_version": "1.2.0",
            "_view_count": null,
            "flex_flow": null,
            "width": null,
            "min_width": null,
            "border": null,
            "align_items": null,
            "bottom": null,
            "_model_module": "@jupyter-widgets/base",
            "top": null,
            "grid_column": null,
            "overflow_y": null,
            "overflow_x": null,
            "grid_auto_flow": null,
            "grid_area": null,
            "grid_template_columns": null,
            "flex": null,
            "_model_name": "LayoutModel",
            "justify_items": null,
            "grid_row": null,
            "max_height": null,
            "align_content": null,
            "visibility": null,
            "align_self": null,
            "height": null,
            "min_height": null,
            "padding": null,
            "grid_auto_rows": null,
            "grid_gap": null,
            "max_width": null,
            "order": null,
            "_view_module_version": "1.2.0",
            "grid_template_areas": null,
            "object_position": null,
            "object_fit": null,
            "grid_auto_columns": null,
            "margin": null,
            "display": null,
            "left": null
          },
          "model_module_version": "1.2.0"
        },
        "cedbfcfce4e6487bab1a8d4f0a2fc3f7": {
          "model_module": "@jupyter-widgets/controls",
          "model_name": "DescriptionStyleModel",
          "state": {
            "_view_name": "StyleView",
            "_model_name": "DescriptionStyleModel",
            "description_width": "",
            "_view_module": "@jupyter-widgets/base",
            "_model_module_version": "1.5.0",
            "_view_count": null,
            "_view_module_version": "1.2.0",
            "_model_module": "@jupyter-widgets/controls"
          },
          "model_module_version": "1.5.0"
        },
        "1f326add182246968c2c1b3779108332": {
          "model_module": "@jupyter-widgets/base",
          "model_name": "LayoutModel",
          "state": {
            "_view_name": "LayoutView",
            "grid_template_rows": null,
            "right": null,
            "justify_content": null,
            "_view_module": "@jupyter-widgets/base",
            "overflow": null,
            "_model_module_version": "1.2.0",
            "_view_count": null,
            "flex_flow": null,
            "width": null,
            "min_width": null,
            "border": null,
            "align_items": null,
            "bottom": null,
            "_model_module": "@jupyter-widgets/base",
            "top": null,
            "grid_column": null,
            "overflow_y": null,
            "overflow_x": null,
            "grid_auto_flow": null,
            "grid_area": null,
            "grid_template_columns": null,
            "flex": null,
            "_model_name": "LayoutModel",
            "justify_items": null,
            "grid_row": null,
            "max_height": null,
            "align_content": null,
            "visibility": null,
            "align_self": null,
            "height": null,
            "min_height": null,
            "padding": null,
            "grid_auto_rows": null,
            "grid_gap": null,
            "max_width": null,
            "order": null,
            "_view_module_version": "1.2.0",
            "grid_template_areas": null,
            "object_position": null,
            "object_fit": null,
            "grid_auto_columns": null,
            "margin": null,
            "display": null,
            "left": null
          },
          "model_module_version": "1.2.0"
        },
        "8805e3400b87422497e137e2f5708835": {
          "model_module": "@jupyter-widgets/controls",
          "model_name": "HBoxModel",
          "state": {
            "_view_name": "HBoxView",
            "_dom_classes": [],
            "_model_name": "HBoxModel",
            "_view_module": "@jupyter-widgets/controls",
            "_model_module_version": "1.5.0",
            "_view_count": null,
            "_view_module_version": "1.5.0",
            "box_style": "",
            "layout": "IPY_MODEL_618bc96de6644862b350cc21f699873c",
            "_model_module": "@jupyter-widgets/controls",
            "children": [
              "IPY_MODEL_03aba60d184f460a96f8085816980d7e",
              "IPY_MODEL_c7ebfca0aa744cec9644f60e5c3852ed",
              "IPY_MODEL_1403d10359f54994bdf4363cc1aec098"
            ]
          },
          "model_module_version": "1.5.0"
        },
        "618bc96de6644862b350cc21f699873c": {
          "model_module": "@jupyter-widgets/base",
          "model_name": "LayoutModel",
          "state": {
            "_view_name": "LayoutView",
            "grid_template_rows": null,
            "right": null,
            "justify_content": null,
            "_view_module": "@jupyter-widgets/base",
            "overflow": null,
            "_model_module_version": "1.2.0",
            "_view_count": null,
            "flex_flow": null,
            "width": null,
            "min_width": null,
            "border": null,
            "align_items": null,
            "bottom": null,
            "_model_module": "@jupyter-widgets/base",
            "top": null,
            "grid_column": null,
            "overflow_y": null,
            "overflow_x": null,
            "grid_auto_flow": null,
            "grid_area": null,
            "grid_template_columns": null,
            "flex": null,
            "_model_name": "LayoutModel",
            "justify_items": null,
            "grid_row": null,
            "max_height": null,
            "align_content": null,
            "visibility": null,
            "align_self": null,
            "height": null,
            "min_height": null,
            "padding": null,
            "grid_auto_rows": null,
            "grid_gap": null,
            "max_width": null,
            "order": null,
            "_view_module_version": "1.2.0",
            "grid_template_areas": null,
            "object_position": null,
            "object_fit": null,
            "grid_auto_columns": null,
            "margin": null,
            "display": null,
            "left": null
          },
          "model_module_version": "1.2.0"
        },
        "03aba60d184f460a96f8085816980d7e": {
          "model_module": "@jupyter-widgets/controls",
          "model_name": "HTMLModel",
          "state": {
            "_view_name": "HTMLView",
            "style": "IPY_MODEL_417cfd8db6904ac6a65fab5aaee79531",
            "_dom_classes": [],
            "description": "",
            "_model_name": "HTMLModel",
            "placeholder": "​",
            "_view_module": "@jupyter-widgets/controls",
            "_model_module_version": "1.5.0",
            "value": "Epochs 0/6. Running Loss:  748.2786: 100%",
            "_view_count": null,
            "_view_module_version": "1.5.0",
            "description_tooltip": null,
            "_model_module": "@jupyter-widgets/controls",
            "layout": "IPY_MODEL_924c9bd262e648a088d80f8670d4ef25"
          },
          "model_module_version": "1.5.0"
        },
        "c7ebfca0aa744cec9644f60e5c3852ed": {
          "model_module": "@jupyter-widgets/controls",
          "model_name": "FloatProgressModel",
          "state": {
            "_view_name": "ProgressView",
            "style": "IPY_MODEL_5d0155371bee4d6bb1a0e6f8691aec23",
            "_dom_classes": [],
            "description": "",
            "_model_name": "FloatProgressModel",
            "bar_style": "success",
            "max": 2208,
            "_view_module": "@jupyter-widgets/controls",
            "_model_module_version": "1.5.0",
            "value": 2208,
            "_view_count": null,
            "_view_module_version": "1.5.0",
            "orientation": "horizontal",
            "min": 0,
            "description_tooltip": null,
            "_model_module": "@jupyter-widgets/controls",
            "layout": "IPY_MODEL_67b8b123421b4c7bb505fdff628b864a"
          },
          "model_module_version": "1.5.0"
        },
        "1403d10359f54994bdf4363cc1aec098": {
          "model_module": "@jupyter-widgets/controls",
          "model_name": "HTMLModel",
          "state": {
            "_view_name": "HTMLView",
            "style": "IPY_MODEL_adde751aac10476ab9217b51f0614dc1",
            "_dom_classes": [],
            "description": "",
            "_model_name": "HTMLModel",
            "placeholder": "​",
            "_view_module": "@jupyter-widgets/controls",
            "_model_module_version": "1.5.0",
            "value": " 2208/2208 [05:44&lt;00:00,  8.08it/s]",
            "_view_count": null,
            "_view_module_version": "1.5.0",
            "description_tooltip": null,
            "_model_module": "@jupyter-widgets/controls",
            "layout": "IPY_MODEL_ff2fe68a92c74ad9898ddd562f7e4fd8"
          },
          "model_module_version": "1.5.0"
        },
        "417cfd8db6904ac6a65fab5aaee79531": {
          "model_module": "@jupyter-widgets/controls",
          "model_name": "DescriptionStyleModel",
          "state": {
            "_view_name": "StyleView",
            "_model_name": "DescriptionStyleModel",
            "description_width": "",
            "_view_module": "@jupyter-widgets/base",
            "_model_module_version": "1.5.0",
            "_view_count": null,
            "_view_module_version": "1.2.0",
            "_model_module": "@jupyter-widgets/controls"
          },
          "model_module_version": "1.5.0"
        },
        "924c9bd262e648a088d80f8670d4ef25": {
          "model_module": "@jupyter-widgets/base",
          "model_name": "LayoutModel",
          "state": {
            "_view_name": "LayoutView",
            "grid_template_rows": null,
            "right": null,
            "justify_content": null,
            "_view_module": "@jupyter-widgets/base",
            "overflow": null,
            "_model_module_version": "1.2.0",
            "_view_count": null,
            "flex_flow": null,
            "width": null,
            "min_width": null,
            "border": null,
            "align_items": null,
            "bottom": null,
            "_model_module": "@jupyter-widgets/base",
            "top": null,
            "grid_column": null,
            "overflow_y": null,
            "overflow_x": null,
            "grid_auto_flow": null,
            "grid_area": null,
            "grid_template_columns": null,
            "flex": null,
            "_model_name": "LayoutModel",
            "justify_items": null,
            "grid_row": null,
            "max_height": null,
            "align_content": null,
            "visibility": null,
            "align_self": null,
            "height": null,
            "min_height": null,
            "padding": null,
            "grid_auto_rows": null,
            "grid_gap": null,
            "max_width": null,
            "order": null,
            "_view_module_version": "1.2.0",
            "grid_template_areas": null,
            "object_position": null,
            "object_fit": null,
            "grid_auto_columns": null,
            "margin": null,
            "display": null,
            "left": null
          },
          "model_module_version": "1.2.0"
        },
        "5d0155371bee4d6bb1a0e6f8691aec23": {
          "model_module": "@jupyter-widgets/controls",
          "model_name": "ProgressStyleModel",
          "state": {
            "_view_name": "StyleView",
            "_model_name": "ProgressStyleModel",
            "description_width": "",
            "_view_module": "@jupyter-widgets/base",
            "_model_module_version": "1.5.0",
            "_view_count": null,
            "_view_module_version": "1.2.0",
            "bar_color": null,
            "_model_module": "@jupyter-widgets/controls"
          },
          "model_module_version": "1.5.0"
        },
        "67b8b123421b4c7bb505fdff628b864a": {
          "model_module": "@jupyter-widgets/base",
          "model_name": "LayoutModel",
          "state": {
            "_view_name": "LayoutView",
            "grid_template_rows": null,
            "right": null,
            "justify_content": null,
            "_view_module": "@jupyter-widgets/base",
            "overflow": null,
            "_model_module_version": "1.2.0",
            "_view_count": null,
            "flex_flow": null,
            "width": null,
            "min_width": null,
            "border": null,
            "align_items": null,
            "bottom": null,
            "_model_module": "@jupyter-widgets/base",
            "top": null,
            "grid_column": null,
            "overflow_y": null,
            "overflow_x": null,
            "grid_auto_flow": null,
            "grid_area": null,
            "grid_template_columns": null,
            "flex": null,
            "_model_name": "LayoutModel",
            "justify_items": null,
            "grid_row": null,
            "max_height": null,
            "align_content": null,
            "visibility": null,
            "align_self": null,
            "height": null,
            "min_height": null,
            "padding": null,
            "grid_auto_rows": null,
            "grid_gap": null,
            "max_width": null,
            "order": null,
            "_view_module_version": "1.2.0",
            "grid_template_areas": null,
            "object_position": null,
            "object_fit": null,
            "grid_auto_columns": null,
            "margin": null,
            "display": null,
            "left": null
          },
          "model_module_version": "1.2.0"
        },
        "adde751aac10476ab9217b51f0614dc1": {
          "model_module": "@jupyter-widgets/controls",
          "model_name": "DescriptionStyleModel",
          "state": {
            "_view_name": "StyleView",
            "_model_name": "DescriptionStyleModel",
            "description_width": "",
            "_view_module": "@jupyter-widgets/base",
            "_model_module_version": "1.5.0",
            "_view_count": null,
            "_view_module_version": "1.2.0",
            "_model_module": "@jupyter-widgets/controls"
          },
          "model_module_version": "1.5.0"
        },
        "ff2fe68a92c74ad9898ddd562f7e4fd8": {
          "model_module": "@jupyter-widgets/base",
          "model_name": "LayoutModel",
          "state": {
            "_view_name": "LayoutView",
            "grid_template_rows": null,
            "right": null,
            "justify_content": null,
            "_view_module": "@jupyter-widgets/base",
            "overflow": null,
            "_model_module_version": "1.2.0",
            "_view_count": null,
            "flex_flow": null,
            "width": null,
            "min_width": null,
            "border": null,
            "align_items": null,
            "bottom": null,
            "_model_module": "@jupyter-widgets/base",
            "top": null,
            "grid_column": null,
            "overflow_y": null,
            "overflow_x": null,
            "grid_auto_flow": null,
            "grid_area": null,
            "grid_template_columns": null,
            "flex": null,
            "_model_name": "LayoutModel",
            "justify_items": null,
            "grid_row": null,
            "max_height": null,
            "align_content": null,
            "visibility": null,
            "align_self": null,
            "height": null,
            "min_height": null,
            "padding": null,
            "grid_auto_rows": null,
            "grid_gap": null,
            "max_width": null,
            "order": null,
            "_view_module_version": "1.2.0",
            "grid_template_areas": null,
            "object_position": null,
            "object_fit": null,
            "grid_auto_columns": null,
            "margin": null,
            "display": null,
            "left": null
          },
          "model_module_version": "1.2.0"
        },
        "26a01cea44174dccb72c9775699782a3": {
          "model_module": "@jupyter-widgets/controls",
          "model_name": "HBoxModel",
          "state": {
            "_view_name": "HBoxView",
            "_dom_classes": [],
            "_model_name": "HBoxModel",
            "_view_module": "@jupyter-widgets/controls",
            "_model_module_version": "1.5.0",
            "_view_count": null,
            "_view_module_version": "1.5.0",
            "box_style": "",
            "layout": "IPY_MODEL_b3dc08da7f214ac1baba5bb6d335de9a",
            "_model_module": "@jupyter-widgets/controls",
            "children": [
              "IPY_MODEL_6eb1b85cbf1b4414a9dce4bb0f780872",
              "IPY_MODEL_d941db1da7734121b6088950d1cd42e0",
              "IPY_MODEL_3c557513fe474d31b2f0197b18c5a6f2"
            ]
          },
          "model_module_version": "1.5.0"
        },
        "b3dc08da7f214ac1baba5bb6d335de9a": {
          "model_module": "@jupyter-widgets/base",
          "model_name": "LayoutModel",
          "state": {
            "_view_name": "LayoutView",
            "grid_template_rows": null,
            "right": null,
            "justify_content": null,
            "_view_module": "@jupyter-widgets/base",
            "overflow": null,
            "_model_module_version": "1.2.0",
            "_view_count": null,
            "flex_flow": null,
            "width": null,
            "min_width": null,
            "border": null,
            "align_items": null,
            "bottom": null,
            "_model_module": "@jupyter-widgets/base",
            "top": null,
            "grid_column": null,
            "overflow_y": null,
            "overflow_x": null,
            "grid_auto_flow": null,
            "grid_area": null,
            "grid_template_columns": null,
            "flex": null,
            "_model_name": "LayoutModel",
            "justify_items": null,
            "grid_row": null,
            "max_height": null,
            "align_content": null,
            "visibility": null,
            "align_self": null,
            "height": null,
            "min_height": null,
            "padding": null,
            "grid_auto_rows": null,
            "grid_gap": null,
            "max_width": null,
            "order": null,
            "_view_module_version": "1.2.0",
            "grid_template_areas": null,
            "object_position": null,
            "object_fit": null,
            "grid_auto_columns": null,
            "margin": null,
            "display": null,
            "left": null
          },
          "model_module_version": "1.2.0"
        },
        "6eb1b85cbf1b4414a9dce4bb0f780872": {
          "model_module": "@jupyter-widgets/controls",
          "model_name": "HTMLModel",
          "state": {
            "_view_name": "HTMLView",
            "style": "IPY_MODEL_4a07fcd40a3e4dec80fc39a79ed97e35",
            "_dom_classes": [],
            "description": "",
            "_model_name": "HTMLModel",
            "placeholder": "​",
            "_view_module": "@jupyter-widgets/controls",
            "_model_module_version": "1.5.0",
            "value": "Epochs 1/6. Running Loss:  718.2297:   0%",
            "_view_count": null,
            "_view_module_version": "1.5.0",
            "description_tooltip": null,
            "_model_module": "@jupyter-widgets/controls",
            "layout": "IPY_MODEL_569bb227fcac471797a1958df8c4a7d1"
          },
          "model_module_version": "1.5.0"
        },
        "d941db1da7734121b6088950d1cd42e0": {
          "model_module": "@jupyter-widgets/controls",
          "model_name": "FloatProgressModel",
          "state": {
            "_view_name": "ProgressView",
            "style": "IPY_MODEL_53a61caa820c4bb3a0d9bfa8686c2645",
            "_dom_classes": [],
            "description": "",
            "_model_name": "FloatProgressModel",
            "bar_style": "",
            "max": 2208,
            "_view_module": "@jupyter-widgets/controls",
            "_model_module_version": "1.5.0",
            "value": 11,
            "_view_count": null,
            "_view_module_version": "1.5.0",
            "orientation": "horizontal",
            "min": 0,
            "description_tooltip": null,
            "_model_module": "@jupyter-widgets/controls",
            "layout": "IPY_MODEL_01a5175163684847947f5308c6a97ed6"
          },
          "model_module_version": "1.5.0"
        },
        "3c557513fe474d31b2f0197b18c5a6f2": {
          "model_module": "@jupyter-widgets/controls",
          "model_name": "HTMLModel",
          "state": {
            "_view_name": "HTMLView",
            "style": "IPY_MODEL_a855cdb9fe144bb292464ebddda21845",
            "_dom_classes": [],
            "description": "",
            "_model_name": "HTMLModel",
            "placeholder": "​",
            "_view_module": "@jupyter-widgets/controls",
            "_model_module_version": "1.5.0",
            "value": " 11/2208 [00:01&lt;04:36,  7.95it/s]",
            "_view_count": null,
            "_view_module_version": "1.5.0",
            "description_tooltip": null,
            "_model_module": "@jupyter-widgets/controls",
            "layout": "IPY_MODEL_991d85b0c3a740379c6eb8d1fc5ec5c6"
          },
          "model_module_version": "1.5.0"
        },
        "4a07fcd40a3e4dec80fc39a79ed97e35": {
          "model_module": "@jupyter-widgets/controls",
          "model_name": "DescriptionStyleModel",
          "state": {
            "_view_name": "StyleView",
            "_model_name": "DescriptionStyleModel",
            "description_width": "",
            "_view_module": "@jupyter-widgets/base",
            "_model_module_version": "1.5.0",
            "_view_count": null,
            "_view_module_version": "1.2.0",
            "_model_module": "@jupyter-widgets/controls"
          },
          "model_module_version": "1.5.0"
        },
        "569bb227fcac471797a1958df8c4a7d1": {
          "model_module": "@jupyter-widgets/base",
          "model_name": "LayoutModel",
          "state": {
            "_view_name": "LayoutView",
            "grid_template_rows": null,
            "right": null,
            "justify_content": null,
            "_view_module": "@jupyter-widgets/base",
            "overflow": null,
            "_model_module_version": "1.2.0",
            "_view_count": null,
            "flex_flow": null,
            "width": null,
            "min_width": null,
            "border": null,
            "align_items": null,
            "bottom": null,
            "_model_module": "@jupyter-widgets/base",
            "top": null,
            "grid_column": null,
            "overflow_y": null,
            "overflow_x": null,
            "grid_auto_flow": null,
            "grid_area": null,
            "grid_template_columns": null,
            "flex": null,
            "_model_name": "LayoutModel",
            "justify_items": null,
            "grid_row": null,
            "max_height": null,
            "align_content": null,
            "visibility": null,
            "align_self": null,
            "height": null,
            "min_height": null,
            "padding": null,
            "grid_auto_rows": null,
            "grid_gap": null,
            "max_width": null,
            "order": null,
            "_view_module_version": "1.2.0",
            "grid_template_areas": null,
            "object_position": null,
            "object_fit": null,
            "grid_auto_columns": null,
            "margin": null,
            "display": null,
            "left": null
          },
          "model_module_version": "1.2.0"
        },
        "53a61caa820c4bb3a0d9bfa8686c2645": {
          "model_module": "@jupyter-widgets/controls",
          "model_name": "ProgressStyleModel",
          "state": {
            "_view_name": "StyleView",
            "_model_name": "ProgressStyleModel",
            "description_width": "",
            "_view_module": "@jupyter-widgets/base",
            "_model_module_version": "1.5.0",
            "_view_count": null,
            "_view_module_version": "1.2.0",
            "bar_color": null,
            "_model_module": "@jupyter-widgets/controls"
          },
          "model_module_version": "1.5.0"
        },
        "01a5175163684847947f5308c6a97ed6": {
          "model_module": "@jupyter-widgets/base",
          "model_name": "LayoutModel",
          "state": {
            "_view_name": "LayoutView",
            "grid_template_rows": null,
            "right": null,
            "justify_content": null,
            "_view_module": "@jupyter-widgets/base",
            "overflow": null,
            "_model_module_version": "1.2.0",
            "_view_count": null,
            "flex_flow": null,
            "width": null,
            "min_width": null,
            "border": null,
            "align_items": null,
            "bottom": null,
            "_model_module": "@jupyter-widgets/base",
            "top": null,
            "grid_column": null,
            "overflow_y": null,
            "overflow_x": null,
            "grid_auto_flow": null,
            "grid_area": null,
            "grid_template_columns": null,
            "flex": null,
            "_model_name": "LayoutModel",
            "justify_items": null,
            "grid_row": null,
            "max_height": null,
            "align_content": null,
            "visibility": null,
            "align_self": null,
            "height": null,
            "min_height": null,
            "padding": null,
            "grid_auto_rows": null,
            "grid_gap": null,
            "max_width": null,
            "order": null,
            "_view_module_version": "1.2.0",
            "grid_template_areas": null,
            "object_position": null,
            "object_fit": null,
            "grid_auto_columns": null,
            "margin": null,
            "display": null,
            "left": null
          },
          "model_module_version": "1.2.0"
        },
        "a855cdb9fe144bb292464ebddda21845": {
          "model_module": "@jupyter-widgets/controls",
          "model_name": "DescriptionStyleModel",
          "state": {
            "_view_name": "StyleView",
            "_model_name": "DescriptionStyleModel",
            "description_width": "",
            "_view_module": "@jupyter-widgets/base",
            "_model_module_version": "1.5.0",
            "_view_count": null,
            "_view_module_version": "1.2.0",
            "_model_module": "@jupyter-widgets/controls"
          },
          "model_module_version": "1.5.0"
        },
        "991d85b0c3a740379c6eb8d1fc5ec5c6": {
          "model_module": "@jupyter-widgets/base",
          "model_name": "LayoutModel",
          "state": {
            "_view_name": "LayoutView",
            "grid_template_rows": null,
            "right": null,
            "justify_content": null,
            "_view_module": "@jupyter-widgets/base",
            "overflow": null,
            "_model_module_version": "1.2.0",
            "_view_count": null,
            "flex_flow": null,
            "width": null,
            "min_width": null,
            "border": null,
            "align_items": null,
            "bottom": null,
            "_model_module": "@jupyter-widgets/base",
            "top": null,
            "grid_column": null,
            "overflow_y": null,
            "overflow_x": null,
            "grid_auto_flow": null,
            "grid_area": null,
            "grid_template_columns": null,
            "flex": null,
            "_model_name": "LayoutModel",
            "justify_items": null,
            "grid_row": null,
            "max_height": null,
            "align_content": null,
            "visibility": null,
            "align_self": null,
            "height": null,
            "min_height": null,
            "padding": null,
            "grid_auto_rows": null,
            "grid_gap": null,
            "max_width": null,
            "order": null,
            "_view_module_version": "1.2.0",
            "grid_template_areas": null,
            "object_position": null,
            "object_fit": null,
            "grid_auto_columns": null,
            "margin": null,
            "display": null,
            "left": null
          },
          "model_module_version": "1.2.0"
        },
        "21df26ff5d2c46a690cb41f3541dc8b0": {
          "model_module": "@jupyter-widgets/controls",
          "model_name": "HBoxModel",
          "state": {
            "_view_name": "HBoxView",
            "_dom_classes": [],
            "_model_name": "HBoxModel",
            "_view_module": "@jupyter-widgets/controls",
            "_model_module_version": "1.5.0",
            "_view_count": null,
            "_view_module_version": "1.5.0",
            "box_style": "",
            "layout": "IPY_MODEL_8cc6fc7f8a034d9a971f921020aa6148",
            "_model_module": "@jupyter-widgets/controls",
            "children": [
              "IPY_MODEL_5eed584a9fa14071a3a970da58d1dc5c",
              "IPY_MODEL_7e99c40307a44f1789dabb0dac086a34",
              "IPY_MODEL_997f2d908af74bbab7f418090f686114"
            ]
          },
          "model_module_version": "1.5.0"
        },
        "8cc6fc7f8a034d9a971f921020aa6148": {
          "model_module": "@jupyter-widgets/base",
          "model_name": "LayoutModel",
          "state": {
            "_view_name": "LayoutView",
            "grid_template_rows": null,
            "right": null,
            "justify_content": null,
            "_view_module": "@jupyter-widgets/base",
            "overflow": null,
            "_model_module_version": "1.2.0",
            "_view_count": null,
            "flex_flow": null,
            "width": null,
            "min_width": null,
            "border": null,
            "align_items": null,
            "bottom": null,
            "_model_module": "@jupyter-widgets/base",
            "top": null,
            "grid_column": null,
            "overflow_y": null,
            "overflow_x": null,
            "grid_auto_flow": null,
            "grid_area": null,
            "grid_template_columns": null,
            "flex": null,
            "_model_name": "LayoutModel",
            "justify_items": null,
            "grid_row": null,
            "max_height": null,
            "align_content": null,
            "visibility": null,
            "align_self": null,
            "height": null,
            "min_height": null,
            "padding": null,
            "grid_auto_rows": null,
            "grid_gap": null,
            "max_width": null,
            "order": null,
            "_view_module_version": "1.2.0",
            "grid_template_areas": null,
            "object_position": null,
            "object_fit": null,
            "grid_auto_columns": null,
            "margin": null,
            "display": null,
            "left": null
          },
          "model_module_version": "1.2.0"
        },
        "5eed584a9fa14071a3a970da58d1dc5c": {
          "model_module": "@jupyter-widgets/controls",
          "model_name": "HTMLModel",
          "state": {
            "_view_name": "HTMLView",
            "style": "IPY_MODEL_e247f510b68d47479037f252408a08e8",
            "_dom_classes": [],
            "description": "",
            "_model_name": "HTMLModel",
            "placeholder": "​",
            "_view_module": "@jupyter-widgets/controls",
            "_model_module_version": "1.5.0",
            "value": "100%",
            "_view_count": null,
            "_view_module_version": "1.5.0",
            "description_tooltip": null,
            "_model_module": "@jupyter-widgets/controls",
            "layout": "IPY_MODEL_845edc6cd31b498c9eb4bc411adb353a"
          },
          "model_module_version": "1.5.0"
        },
        "7e99c40307a44f1789dabb0dac086a34": {
          "model_module": "@jupyter-widgets/controls",
          "model_name": "FloatProgressModel",
          "state": {
            "_view_name": "ProgressView",
            "style": "IPY_MODEL_8c819f4e66be4d34b8948d838b32131f",
            "_dom_classes": [],
            "description": "",
            "_model_name": "FloatProgressModel",
            "bar_style": "success",
            "max": 3044,
            "_view_module": "@jupyter-widgets/controls",
            "_model_module_version": "1.5.0",
            "value": 3044,
            "_view_count": null,
            "_view_module_version": "1.5.0",
            "orientation": "horizontal",
            "min": 0,
            "description_tooltip": null,
            "_model_module": "@jupyter-widgets/controls",
            "layout": "IPY_MODEL_1ea70ebc12a14b3e823dbbc443754f75"
          },
          "model_module_version": "1.5.0"
        },
        "997f2d908af74bbab7f418090f686114": {
          "model_module": "@jupyter-widgets/controls",
          "model_name": "HTMLModel",
          "state": {
            "_view_name": "HTMLView",
            "style": "IPY_MODEL_453e28df9197405cab79192b6348d4bc",
            "_dom_classes": [],
            "description": "",
            "_model_name": "HTMLModel",
            "placeholder": "​",
            "_view_module": "@jupyter-widgets/controls",
            "_model_module_version": "1.5.0",
            "value": " 3044/3044 [00:03&lt;00:00, 974.72it/s]",
            "_view_count": null,
            "_view_module_version": "1.5.0",
            "description_tooltip": null,
            "_model_module": "@jupyter-widgets/controls",
            "layout": "IPY_MODEL_fbf12f65a18a4cf7a7dea386c79ae64d"
          },
          "model_module_version": "1.5.0"
        },
        "e247f510b68d47479037f252408a08e8": {
          "model_module": "@jupyter-widgets/controls",
          "model_name": "DescriptionStyleModel",
          "state": {
            "_view_name": "StyleView",
            "_model_name": "DescriptionStyleModel",
            "description_width": "",
            "_view_module": "@jupyter-widgets/base",
            "_model_module_version": "1.5.0",
            "_view_count": null,
            "_view_module_version": "1.2.0",
            "_model_module": "@jupyter-widgets/controls"
          },
          "model_module_version": "1.5.0"
        },
        "845edc6cd31b498c9eb4bc411adb353a": {
          "model_module": "@jupyter-widgets/base",
          "model_name": "LayoutModel",
          "state": {
            "_view_name": "LayoutView",
            "grid_template_rows": null,
            "right": null,
            "justify_content": null,
            "_view_module": "@jupyter-widgets/base",
            "overflow": null,
            "_model_module_version": "1.2.0",
            "_view_count": null,
            "flex_flow": null,
            "width": null,
            "min_width": null,
            "border": null,
            "align_items": null,
            "bottom": null,
            "_model_module": "@jupyter-widgets/base",
            "top": null,
            "grid_column": null,
            "overflow_y": null,
            "overflow_x": null,
            "grid_auto_flow": null,
            "grid_area": null,
            "grid_template_columns": null,
            "flex": null,
            "_model_name": "LayoutModel",
            "justify_items": null,
            "grid_row": null,
            "max_height": null,
            "align_content": null,
            "visibility": null,
            "align_self": null,
            "height": null,
            "min_height": null,
            "padding": null,
            "grid_auto_rows": null,
            "grid_gap": null,
            "max_width": null,
            "order": null,
            "_view_module_version": "1.2.0",
            "grid_template_areas": null,
            "object_position": null,
            "object_fit": null,
            "grid_auto_columns": null,
            "margin": null,
            "display": null,
            "left": null
          },
          "model_module_version": "1.2.0"
        },
        "8c819f4e66be4d34b8948d838b32131f": {
          "model_module": "@jupyter-widgets/controls",
          "model_name": "ProgressStyleModel",
          "state": {
            "_view_name": "StyleView",
            "_model_name": "ProgressStyleModel",
            "description_width": "",
            "_view_module": "@jupyter-widgets/base",
            "_model_module_version": "1.5.0",
            "_view_count": null,
            "_view_module_version": "1.2.0",
            "bar_color": null,
            "_model_module": "@jupyter-widgets/controls"
          },
          "model_module_version": "1.5.0"
        },
        "1ea70ebc12a14b3e823dbbc443754f75": {
          "model_module": "@jupyter-widgets/base",
          "model_name": "LayoutModel",
          "state": {
            "_view_name": "LayoutView",
            "grid_template_rows": null,
            "right": null,
            "justify_content": null,
            "_view_module": "@jupyter-widgets/base",
            "overflow": null,
            "_model_module_version": "1.2.0",
            "_view_count": null,
            "flex_flow": null,
            "width": null,
            "min_width": null,
            "border": null,
            "align_items": null,
            "bottom": null,
            "_model_module": "@jupyter-widgets/base",
            "top": null,
            "grid_column": null,
            "overflow_y": null,
            "overflow_x": null,
            "grid_auto_flow": null,
            "grid_area": null,
            "grid_template_columns": null,
            "flex": null,
            "_model_name": "LayoutModel",
            "justify_items": null,
            "grid_row": null,
            "max_height": null,
            "align_content": null,
            "visibility": null,
            "align_self": null,
            "height": null,
            "min_height": null,
            "padding": null,
            "grid_auto_rows": null,
            "grid_gap": null,
            "max_width": null,
            "order": null,
            "_view_module_version": "1.2.0",
            "grid_template_areas": null,
            "object_position": null,
            "object_fit": null,
            "grid_auto_columns": null,
            "margin": null,
            "display": null,
            "left": null
          },
          "model_module_version": "1.2.0"
        },
        "453e28df9197405cab79192b6348d4bc": {
          "model_module": "@jupyter-widgets/controls",
          "model_name": "DescriptionStyleModel",
          "state": {
            "_view_name": "StyleView",
            "_model_name": "DescriptionStyleModel",
            "description_width": "",
            "_view_module": "@jupyter-widgets/base",
            "_model_module_version": "1.5.0",
            "_view_count": null,
            "_view_module_version": "1.2.0",
            "_model_module": "@jupyter-widgets/controls"
          },
          "model_module_version": "1.5.0"
        },
        "fbf12f65a18a4cf7a7dea386c79ae64d": {
          "model_module": "@jupyter-widgets/base",
          "model_name": "LayoutModel",
          "state": {
            "_view_name": "LayoutView",
            "grid_template_rows": null,
            "right": null,
            "justify_content": null,
            "_view_module": "@jupyter-widgets/base",
            "overflow": null,
            "_model_module_version": "1.2.0",
            "_view_count": null,
            "flex_flow": null,
            "width": null,
            "min_width": null,
            "border": null,
            "align_items": null,
            "bottom": null,
            "_model_module": "@jupyter-widgets/base",
            "top": null,
            "grid_column": null,
            "overflow_y": null,
            "overflow_x": null,
            "grid_auto_flow": null,
            "grid_area": null,
            "grid_template_columns": null,
            "flex": null,
            "_model_name": "LayoutModel",
            "justify_items": null,
            "grid_row": null,
            "max_height": null,
            "align_content": null,
            "visibility": null,
            "align_self": null,
            "height": null,
            "min_height": null,
            "padding": null,
            "grid_auto_rows": null,
            "grid_gap": null,
            "max_width": null,
            "order": null,
            "_view_module_version": "1.2.0",
            "grid_template_areas": null,
            "object_position": null,
            "object_fit": null,
            "grid_auto_columns": null,
            "margin": null,
            "display": null,
            "left": null
          },
          "model_module_version": "1.2.0"
        },
        "be711a0955594ba5aa315cf849530522": {
          "model_module": "@jupyter-widgets/controls",
          "model_name": "HBoxModel",
          "state": {
            "_view_name": "HBoxView",
            "_dom_classes": [],
            "_model_name": "HBoxModel",
            "_view_module": "@jupyter-widgets/controls",
            "_model_module_version": "1.5.0",
            "_view_count": null,
            "_view_module_version": "1.5.0",
            "box_style": "",
            "layout": "IPY_MODEL_2e99056d9f624125855239c1151f4b1f",
            "_model_module": "@jupyter-widgets/controls",
            "children": [
              "IPY_MODEL_2ac3ba6deb7a442dbd13ccb4fb89c1c1",
              "IPY_MODEL_4b4f012072904e47954bf177c3559772",
              "IPY_MODEL_2ec5749313054b51bf7467ce9fa824aa"
            ]
          },
          "model_module_version": "1.5.0"
        },
        "2e99056d9f624125855239c1151f4b1f": {
          "model_module": "@jupyter-widgets/base",
          "model_name": "LayoutModel",
          "state": {
            "_view_name": "LayoutView",
            "grid_template_rows": null,
            "right": null,
            "justify_content": null,
            "_view_module": "@jupyter-widgets/base",
            "overflow": null,
            "_model_module_version": "1.2.0",
            "_view_count": null,
            "flex_flow": null,
            "width": null,
            "min_width": null,
            "border": null,
            "align_items": null,
            "bottom": null,
            "_model_module": "@jupyter-widgets/base",
            "top": null,
            "grid_column": null,
            "overflow_y": null,
            "overflow_x": null,
            "grid_auto_flow": null,
            "grid_area": null,
            "grid_template_columns": null,
            "flex": null,
            "_model_name": "LayoutModel",
            "justify_items": null,
            "grid_row": null,
            "max_height": null,
            "align_content": null,
            "visibility": null,
            "align_self": null,
            "height": null,
            "min_height": null,
            "padding": null,
            "grid_auto_rows": null,
            "grid_gap": null,
            "max_width": null,
            "order": null,
            "_view_module_version": "1.2.0",
            "grid_template_areas": null,
            "object_position": null,
            "object_fit": null,
            "grid_auto_columns": null,
            "margin": null,
            "display": null,
            "left": null
          },
          "model_module_version": "1.2.0"
        },
        "2ac3ba6deb7a442dbd13ccb4fb89c1c1": {
          "model_module": "@jupyter-widgets/controls",
          "model_name": "HTMLModel",
          "state": {
            "_view_name": "HTMLView",
            "style": "IPY_MODEL_88bb2e7b23df4fd49bec9aa363850c5d",
            "_dom_classes": [],
            "description": "",
            "_model_name": "HTMLModel",
            "placeholder": "​",
            "_view_module": "@jupyter-widgets/controls",
            "_model_module_version": "1.5.0",
            "value": "Running Evaluation: 100%",
            "_view_count": null,
            "_view_module_version": "1.5.0",
            "description_tooltip": null,
            "_model_module": "@jupyter-widgets/controls",
            "layout": "IPY_MODEL_5aaa6b23fe1a4d8b948b7de7718ccd8c"
          },
          "model_module_version": "1.5.0"
        },
        "4b4f012072904e47954bf177c3559772": {
          "model_module": "@jupyter-widgets/controls",
          "model_name": "FloatProgressModel",
          "state": {
            "_view_name": "ProgressView",
            "style": "IPY_MODEL_6b42409ec022441fb92b1114b792ac02",
            "_dom_classes": [],
            "description": "",
            "_model_name": "FloatProgressModel",
            "bar_style": "success",
            "max": 381,
            "_view_module": "@jupyter-widgets/controls",
            "_model_module_version": "1.5.0",
            "value": 381,
            "_view_count": null,
            "_view_module_version": "1.5.0",
            "orientation": "horizontal",
            "min": 0,
            "description_tooltip": null,
            "_model_module": "@jupyter-widgets/controls",
            "layout": "IPY_MODEL_ac045116e6e5413695207df14c64ed5a"
          },
          "model_module_version": "1.5.0"
        },
        "2ec5749313054b51bf7467ce9fa824aa": {
          "model_module": "@jupyter-widgets/controls",
          "model_name": "HTMLModel",
          "state": {
            "_view_name": "HTMLView",
            "style": "IPY_MODEL_6129344a429b4a999db1372d869e8f8a",
            "_dom_classes": [],
            "description": "",
            "_model_name": "HTMLModel",
            "placeholder": "​",
            "_view_module": "@jupyter-widgets/controls",
            "_model_module_version": "1.5.0",
            "value": " 381/381 [00:11&lt;00:00, 35.95it/s]",
            "_view_count": null,
            "_view_module_version": "1.5.0",
            "description_tooltip": null,
            "_model_module": "@jupyter-widgets/controls",
            "layout": "IPY_MODEL_6fbe458c19824617863fc17633995c8e"
          },
          "model_module_version": "1.5.0"
        },
        "88bb2e7b23df4fd49bec9aa363850c5d": {
          "model_module": "@jupyter-widgets/controls",
          "model_name": "DescriptionStyleModel",
          "state": {
            "_view_name": "StyleView",
            "_model_name": "DescriptionStyleModel",
            "description_width": "",
            "_view_module": "@jupyter-widgets/base",
            "_model_module_version": "1.5.0",
            "_view_count": null,
            "_view_module_version": "1.2.0",
            "_model_module": "@jupyter-widgets/controls"
          },
          "model_module_version": "1.5.0"
        },
        "5aaa6b23fe1a4d8b948b7de7718ccd8c": {
          "model_module": "@jupyter-widgets/base",
          "model_name": "LayoutModel",
          "state": {
            "_view_name": "LayoutView",
            "grid_template_rows": null,
            "right": null,
            "justify_content": null,
            "_view_module": "@jupyter-widgets/base",
            "overflow": null,
            "_model_module_version": "1.2.0",
            "_view_count": null,
            "flex_flow": null,
            "width": null,
            "min_width": null,
            "border": null,
            "align_items": null,
            "bottom": null,
            "_model_module": "@jupyter-widgets/base",
            "top": null,
            "grid_column": null,
            "overflow_y": null,
            "overflow_x": null,
            "grid_auto_flow": null,
            "grid_area": null,
            "grid_template_columns": null,
            "flex": null,
            "_model_name": "LayoutModel",
            "justify_items": null,
            "grid_row": null,
            "max_height": null,
            "align_content": null,
            "visibility": null,
            "align_self": null,
            "height": null,
            "min_height": null,
            "padding": null,
            "grid_auto_rows": null,
            "grid_gap": null,
            "max_width": null,
            "order": null,
            "_view_module_version": "1.2.0",
            "grid_template_areas": null,
            "object_position": null,
            "object_fit": null,
            "grid_auto_columns": null,
            "margin": null,
            "display": null,
            "left": null
          },
          "model_module_version": "1.2.0"
        },
        "6b42409ec022441fb92b1114b792ac02": {
          "model_module": "@jupyter-widgets/controls",
          "model_name": "ProgressStyleModel",
          "state": {
            "_view_name": "StyleView",
            "_model_name": "ProgressStyleModel",
            "description_width": "",
            "_view_module": "@jupyter-widgets/base",
            "_model_module_version": "1.5.0",
            "_view_count": null,
            "_view_module_version": "1.2.0",
            "bar_color": null,
            "_model_module": "@jupyter-widgets/controls"
          },
          "model_module_version": "1.5.0"
        },
        "ac045116e6e5413695207df14c64ed5a": {
          "model_module": "@jupyter-widgets/base",
          "model_name": "LayoutModel",
          "state": {
            "_view_name": "LayoutView",
            "grid_template_rows": null,
            "right": null,
            "justify_content": null,
            "_view_module": "@jupyter-widgets/base",
            "overflow": null,
            "_model_module_version": "1.2.0",
            "_view_count": null,
            "flex_flow": null,
            "width": null,
            "min_width": null,
            "border": null,
            "align_items": null,
            "bottom": null,
            "_model_module": "@jupyter-widgets/base",
            "top": null,
            "grid_column": null,
            "overflow_y": null,
            "overflow_x": null,
            "grid_auto_flow": null,
            "grid_area": null,
            "grid_template_columns": null,
            "flex": null,
            "_model_name": "LayoutModel",
            "justify_items": null,
            "grid_row": null,
            "max_height": null,
            "align_content": null,
            "visibility": null,
            "align_self": null,
            "height": null,
            "min_height": null,
            "padding": null,
            "grid_auto_rows": null,
            "grid_gap": null,
            "max_width": null,
            "order": null,
            "_view_module_version": "1.2.0",
            "grid_template_areas": null,
            "object_position": null,
            "object_fit": null,
            "grid_auto_columns": null,
            "margin": null,
            "display": null,
            "left": null
          },
          "model_module_version": "1.2.0"
        },
        "6129344a429b4a999db1372d869e8f8a": {
          "model_module": "@jupyter-widgets/controls",
          "model_name": "DescriptionStyleModel",
          "state": {
            "_view_name": "StyleView",
            "_model_name": "DescriptionStyleModel",
            "description_width": "",
            "_view_module": "@jupyter-widgets/base",
            "_model_module_version": "1.5.0",
            "_view_count": null,
            "_view_module_version": "1.2.0",
            "_model_module": "@jupyter-widgets/controls"
          },
          "model_module_version": "1.5.0"
        },
        "6fbe458c19824617863fc17633995c8e": {
          "model_module": "@jupyter-widgets/base",
          "model_name": "LayoutModel",
          "state": {
            "_view_name": "LayoutView",
            "grid_template_rows": null,
            "right": null,
            "justify_content": null,
            "_view_module": "@jupyter-widgets/base",
            "overflow": null,
            "_model_module_version": "1.2.0",
            "_view_count": null,
            "flex_flow": null,
            "width": null,
            "min_width": null,
            "border": null,
            "align_items": null,
            "bottom": null,
            "_model_module": "@jupyter-widgets/base",
            "top": null,
            "grid_column": null,
            "overflow_y": null,
            "overflow_x": null,
            "grid_auto_flow": null,
            "grid_area": null,
            "grid_template_columns": null,
            "flex": null,
            "_model_name": "LayoutModel",
            "justify_items": null,
            "grid_row": null,
            "max_height": null,
            "align_content": null,
            "visibility": null,
            "align_self": null,
            "height": null,
            "min_height": null,
            "padding": null,
            "grid_auto_rows": null,
            "grid_gap": null,
            "max_width": null,
            "order": null,
            "_view_module_version": "1.2.0",
            "grid_template_areas": null,
            "object_position": null,
            "object_fit": null,
            "grid_auto_columns": null,
            "margin": null,
            "display": null,
            "left": null
          },
          "model_module_version": "1.2.0"
        },
        "36c710be97154af2a630434a1d9b7569": {
          "model_module": "@jupyter-widgets/controls",
          "model_name": "HBoxModel",
          "state": {
            "_view_name": "HBoxView",
            "_dom_classes": [],
            "_model_name": "HBoxModel",
            "_view_module": "@jupyter-widgets/controls",
            "_model_module_version": "1.5.0",
            "_view_count": null,
            "_view_module_version": "1.5.0",
            "box_style": "",
            "layout": "IPY_MODEL_460746ac3a294f6ba79c07a0c98fd64a",
            "_model_module": "@jupyter-widgets/controls",
            "children": [
              "IPY_MODEL_5aa23351443a410793ba9bf975fa69c4",
              "IPY_MODEL_629b63e1aa2f459489fac1568f576833",
              "IPY_MODEL_ba5c41199bb44bf9883fbce374328c15"
            ]
          },
          "model_module_version": "1.5.0"
        },
        "460746ac3a294f6ba79c07a0c98fd64a": {
          "model_module": "@jupyter-widgets/base",
          "model_name": "LayoutModel",
          "state": {
            "_view_name": "LayoutView",
            "grid_template_rows": null,
            "right": null,
            "justify_content": null,
            "_view_module": "@jupyter-widgets/base",
            "overflow": null,
            "_model_module_version": "1.2.0",
            "_view_count": null,
            "flex_flow": null,
            "width": null,
            "min_width": null,
            "border": null,
            "align_items": null,
            "bottom": null,
            "_model_module": "@jupyter-widgets/base",
            "top": null,
            "grid_column": null,
            "overflow_y": null,
            "overflow_x": null,
            "grid_auto_flow": null,
            "grid_area": null,
            "grid_template_columns": null,
            "flex": null,
            "_model_name": "LayoutModel",
            "justify_items": null,
            "grid_row": null,
            "max_height": null,
            "align_content": null,
            "visibility": null,
            "align_self": null,
            "height": null,
            "min_height": null,
            "padding": null,
            "grid_auto_rows": null,
            "grid_gap": null,
            "max_width": null,
            "order": null,
            "_view_module_version": "1.2.0",
            "grid_template_areas": null,
            "object_position": null,
            "object_fit": null,
            "grid_auto_columns": null,
            "margin": null,
            "display": null,
            "left": null
          },
          "model_module_version": "1.2.0"
        },
        "5aa23351443a410793ba9bf975fa69c4": {
          "model_module": "@jupyter-widgets/controls",
          "model_name": "HTMLModel",
          "state": {
            "_view_name": "HTMLView",
            "style": "IPY_MODEL_181c6923c26d428e93dc2ab3d231b892",
            "_dom_classes": [],
            "description": "",
            "_model_name": "HTMLModel",
            "placeholder": "​",
            "_view_module": "@jupyter-widgets/controls",
            "_model_module_version": "1.5.0",
            "value": "100%",
            "_view_count": null,
            "_view_module_version": "1.5.0",
            "description_tooltip": null,
            "_model_module": "@jupyter-widgets/controls",
            "layout": "IPY_MODEL_1cf9ea3fb44348f3a1cf83ccbf359ff5"
          },
          "model_module_version": "1.5.0"
        },
        "629b63e1aa2f459489fac1568f576833": {
          "model_module": "@jupyter-widgets/controls",
          "model_name": "FloatProgressModel",
          "state": {
            "_view_name": "ProgressView",
            "style": "IPY_MODEL_40bd4846ea294a1c9f8dab9cd4419795",
            "_dom_classes": [],
            "description": "",
            "_model_name": "FloatProgressModel",
            "bar_style": "success",
            "max": 3044,
            "_view_module": "@jupyter-widgets/controls",
            "_model_module_version": "1.5.0",
            "value": 3044,
            "_view_count": null,
            "_view_module_version": "1.5.0",
            "orientation": "horizontal",
            "min": 0,
            "description_tooltip": null,
            "_model_module": "@jupyter-widgets/controls",
            "layout": "IPY_MODEL_26de2e055c124e97b87571f8d6e4fab3"
          },
          "model_module_version": "1.5.0"
        },
        "ba5c41199bb44bf9883fbce374328c15": {
          "model_module": "@jupyter-widgets/controls",
          "model_name": "HTMLModel",
          "state": {
            "_view_name": "HTMLView",
            "style": "IPY_MODEL_fcb74036dea04559aa319e066f19fed2",
            "_dom_classes": [],
            "description": "",
            "_model_name": "HTMLModel",
            "placeholder": "​",
            "_view_module": "@jupyter-widgets/controls",
            "_model_module_version": "1.5.0",
            "value": " 3044/3044 [00:03&lt;00:00, 972.82it/s]",
            "_view_count": null,
            "_view_module_version": "1.5.0",
            "description_tooltip": null,
            "_model_module": "@jupyter-widgets/controls",
            "layout": "IPY_MODEL_c813c630310349d0bf2654c71a2c1a73"
          },
          "model_module_version": "1.5.0"
        },
        "181c6923c26d428e93dc2ab3d231b892": {
          "model_module": "@jupyter-widgets/controls",
          "model_name": "DescriptionStyleModel",
          "state": {
            "_view_name": "StyleView",
            "_model_name": "DescriptionStyleModel",
            "description_width": "",
            "_view_module": "@jupyter-widgets/base",
            "_model_module_version": "1.5.0",
            "_view_count": null,
            "_view_module_version": "1.2.0",
            "_model_module": "@jupyter-widgets/controls"
          },
          "model_module_version": "1.5.0"
        },
        "1cf9ea3fb44348f3a1cf83ccbf359ff5": {
          "model_module": "@jupyter-widgets/base",
          "model_name": "LayoutModel",
          "state": {
            "_view_name": "LayoutView",
            "grid_template_rows": null,
            "right": null,
            "justify_content": null,
            "_view_module": "@jupyter-widgets/base",
            "overflow": null,
            "_model_module_version": "1.2.0",
            "_view_count": null,
            "flex_flow": null,
            "width": null,
            "min_width": null,
            "border": null,
            "align_items": null,
            "bottom": null,
            "_model_module": "@jupyter-widgets/base",
            "top": null,
            "grid_column": null,
            "overflow_y": null,
            "overflow_x": null,
            "grid_auto_flow": null,
            "grid_area": null,
            "grid_template_columns": null,
            "flex": null,
            "_model_name": "LayoutModel",
            "justify_items": null,
            "grid_row": null,
            "max_height": null,
            "align_content": null,
            "visibility": null,
            "align_self": null,
            "height": null,
            "min_height": null,
            "padding": null,
            "grid_auto_rows": null,
            "grid_gap": null,
            "max_width": null,
            "order": null,
            "_view_module_version": "1.2.0",
            "grid_template_areas": null,
            "object_position": null,
            "object_fit": null,
            "grid_auto_columns": null,
            "margin": null,
            "display": null,
            "left": null
          },
          "model_module_version": "1.2.0"
        },
        "40bd4846ea294a1c9f8dab9cd4419795": {
          "model_module": "@jupyter-widgets/controls",
          "model_name": "ProgressStyleModel",
          "state": {
            "_view_name": "StyleView",
            "_model_name": "ProgressStyleModel",
            "description_width": "",
            "_view_module": "@jupyter-widgets/base",
            "_model_module_version": "1.5.0",
            "_view_count": null,
            "_view_module_version": "1.2.0",
            "bar_color": null,
            "_model_module": "@jupyter-widgets/controls"
          },
          "model_module_version": "1.5.0"
        },
        "26de2e055c124e97b87571f8d6e4fab3": {
          "model_module": "@jupyter-widgets/base",
          "model_name": "LayoutModel",
          "state": {
            "_view_name": "LayoutView",
            "grid_template_rows": null,
            "right": null,
            "justify_content": null,
            "_view_module": "@jupyter-widgets/base",
            "overflow": null,
            "_model_module_version": "1.2.0",
            "_view_count": null,
            "flex_flow": null,
            "width": null,
            "min_width": null,
            "border": null,
            "align_items": null,
            "bottom": null,
            "_model_module": "@jupyter-widgets/base",
            "top": null,
            "grid_column": null,
            "overflow_y": null,
            "overflow_x": null,
            "grid_auto_flow": null,
            "grid_area": null,
            "grid_template_columns": null,
            "flex": null,
            "_model_name": "LayoutModel",
            "justify_items": null,
            "grid_row": null,
            "max_height": null,
            "align_content": null,
            "visibility": null,
            "align_self": null,
            "height": null,
            "min_height": null,
            "padding": null,
            "grid_auto_rows": null,
            "grid_gap": null,
            "max_width": null,
            "order": null,
            "_view_module_version": "1.2.0",
            "grid_template_areas": null,
            "object_position": null,
            "object_fit": null,
            "grid_auto_columns": null,
            "margin": null,
            "display": null,
            "left": null
          },
          "model_module_version": "1.2.0"
        },
        "fcb74036dea04559aa319e066f19fed2": {
          "model_module": "@jupyter-widgets/controls",
          "model_name": "DescriptionStyleModel",
          "state": {
            "_view_name": "StyleView",
            "_model_name": "DescriptionStyleModel",
            "description_width": "",
            "_view_module": "@jupyter-widgets/base",
            "_model_module_version": "1.5.0",
            "_view_count": null,
            "_view_module_version": "1.2.0",
            "_model_module": "@jupyter-widgets/controls"
          },
          "model_module_version": "1.5.0"
        },
        "c813c630310349d0bf2654c71a2c1a73": {
          "model_module": "@jupyter-widgets/base",
          "model_name": "LayoutModel",
          "state": {
            "_view_name": "LayoutView",
            "grid_template_rows": null,
            "right": null,
            "justify_content": null,
            "_view_module": "@jupyter-widgets/base",
            "overflow": null,
            "_model_module_version": "1.2.0",
            "_view_count": null,
            "flex_flow": null,
            "width": null,
            "min_width": null,
            "border": null,
            "align_items": null,
            "bottom": null,
            "_model_module": "@jupyter-widgets/base",
            "top": null,
            "grid_column": null,
            "overflow_y": null,
            "overflow_x": null,
            "grid_auto_flow": null,
            "grid_area": null,
            "grid_template_columns": null,
            "flex": null,
            "_model_name": "LayoutModel",
            "justify_items": null,
            "grid_row": null,
            "max_height": null,
            "align_content": null,
            "visibility": null,
            "align_self": null,
            "height": null,
            "min_height": null,
            "padding": null,
            "grid_auto_rows": null,
            "grid_gap": null,
            "max_width": null,
            "order": null,
            "_view_module_version": "1.2.0",
            "grid_template_areas": null,
            "object_position": null,
            "object_fit": null,
            "grid_auto_columns": null,
            "margin": null,
            "display": null,
            "left": null
          },
          "model_module_version": "1.2.0"
        },
        "750cee353d1c4ecfac667b3796f30c26": {
          "model_module": "@jupyter-widgets/controls",
          "model_name": "HBoxModel",
          "state": {
            "_view_name": "HBoxView",
            "_dom_classes": [],
            "_model_name": "HBoxModel",
            "_view_module": "@jupyter-widgets/controls",
            "_model_module_version": "1.5.0",
            "_view_count": null,
            "_view_module_version": "1.5.0",
            "box_style": "",
            "layout": "IPY_MODEL_e6ed247911d8412f812f4db2602f029c",
            "_model_module": "@jupyter-widgets/controls",
            "children": [
              "IPY_MODEL_78f3e63708804b30af91f26fe328f89b",
              "IPY_MODEL_0e088bdae03247ed91d274e4114e603b",
              "IPY_MODEL_c26d41a81a0947ad829528f1d14c86e2"
            ]
          },
          "model_module_version": "1.5.0"
        },
        "e6ed247911d8412f812f4db2602f029c": {
          "model_module": "@jupyter-widgets/base",
          "model_name": "LayoutModel",
          "state": {
            "_view_name": "LayoutView",
            "grid_template_rows": null,
            "right": null,
            "justify_content": null,
            "_view_module": "@jupyter-widgets/base",
            "overflow": null,
            "_model_module_version": "1.2.0",
            "_view_count": null,
            "flex_flow": null,
            "width": null,
            "min_width": null,
            "border": null,
            "align_items": null,
            "bottom": null,
            "_model_module": "@jupyter-widgets/base",
            "top": null,
            "grid_column": null,
            "overflow_y": null,
            "overflow_x": null,
            "grid_auto_flow": null,
            "grid_area": null,
            "grid_template_columns": null,
            "flex": null,
            "_model_name": "LayoutModel",
            "justify_items": null,
            "grid_row": null,
            "max_height": null,
            "align_content": null,
            "visibility": null,
            "align_self": null,
            "height": null,
            "min_height": null,
            "padding": null,
            "grid_auto_rows": null,
            "grid_gap": null,
            "max_width": null,
            "order": null,
            "_view_module_version": "1.2.0",
            "grid_template_areas": null,
            "object_position": null,
            "object_fit": null,
            "grid_auto_columns": null,
            "margin": null,
            "display": null,
            "left": null
          },
          "model_module_version": "1.2.0"
        },
        "78f3e63708804b30af91f26fe328f89b": {
          "model_module": "@jupyter-widgets/controls",
          "model_name": "HTMLModel",
          "state": {
            "_view_name": "HTMLView",
            "style": "IPY_MODEL_907f868384cc411bb642d7648afdb9e8",
            "_dom_classes": [],
            "description": "",
            "_model_name": "HTMLModel",
            "placeholder": "​",
            "_view_module": "@jupyter-widgets/controls",
            "_model_module_version": "1.5.0",
            "value": "  0%",
            "_view_count": null,
            "_view_module_version": "1.5.0",
            "description_tooltip": null,
            "_model_module": "@jupyter-widgets/controls",
            "layout": "IPY_MODEL_c2d07a7dad5f4ee691648d953fd4e300"
          },
          "model_module_version": "1.5.0"
        },
        "0e088bdae03247ed91d274e4114e603b": {
          "model_module": "@jupyter-widgets/controls",
          "model_name": "FloatProgressModel",
          "state": {
            "_view_name": "ProgressView",
            "style": "IPY_MODEL_b7fd38ce74364f9f9f655d923762eebb",
            "_dom_classes": [],
            "description": "",
            "_model_name": "FloatProgressModel",
            "bar_style": "danger",
            "max": 381,
            "_view_module": "@jupyter-widgets/controls",
            "_model_module_version": "1.5.0",
            "value": 0,
            "_view_count": null,
            "_view_module_version": "1.5.0",
            "orientation": "horizontal",
            "min": 0,
            "description_tooltip": null,
            "_model_module": "@jupyter-widgets/controls",
            "layout": "IPY_MODEL_fb12ae0140de430b9582a1df5c07001a"
          },
          "model_module_version": "1.5.0"
        },
        "c26d41a81a0947ad829528f1d14c86e2": {
          "model_module": "@jupyter-widgets/controls",
          "model_name": "HTMLModel",
          "state": {
            "_view_name": "HTMLView",
            "style": "IPY_MODEL_b17dc2efc61a45818a85c5729f4a613b",
            "_dom_classes": [],
            "description": "",
            "_model_name": "HTMLModel",
            "placeholder": "​",
            "_view_module": "@jupyter-widgets/controls",
            "_model_module_version": "1.5.0",
            "value": " 0/381 [00:00&lt;?, ?it/s]",
            "_view_count": null,
            "_view_module_version": "1.5.0",
            "description_tooltip": null,
            "_model_module": "@jupyter-widgets/controls",
            "layout": "IPY_MODEL_20d14534a2ee4fd7b67db59a074ba50e"
          },
          "model_module_version": "1.5.0"
        },
        "907f868384cc411bb642d7648afdb9e8": {
          "model_module": "@jupyter-widgets/controls",
          "model_name": "DescriptionStyleModel",
          "state": {
            "_view_name": "StyleView",
            "_model_name": "DescriptionStyleModel",
            "description_width": "",
            "_view_module": "@jupyter-widgets/base",
            "_model_module_version": "1.5.0",
            "_view_count": null,
            "_view_module_version": "1.2.0",
            "_model_module": "@jupyter-widgets/controls"
          },
          "model_module_version": "1.5.0"
        },
        "c2d07a7dad5f4ee691648d953fd4e300": {
          "model_module": "@jupyter-widgets/base",
          "model_name": "LayoutModel",
          "state": {
            "_view_name": "LayoutView",
            "grid_template_rows": null,
            "right": null,
            "justify_content": null,
            "_view_module": "@jupyter-widgets/base",
            "overflow": null,
            "_model_module_version": "1.2.0",
            "_view_count": null,
            "flex_flow": null,
            "width": null,
            "min_width": null,
            "border": null,
            "align_items": null,
            "bottom": null,
            "_model_module": "@jupyter-widgets/base",
            "top": null,
            "grid_column": null,
            "overflow_y": null,
            "overflow_x": null,
            "grid_auto_flow": null,
            "grid_area": null,
            "grid_template_columns": null,
            "flex": null,
            "_model_name": "LayoutModel",
            "justify_items": null,
            "grid_row": null,
            "max_height": null,
            "align_content": null,
            "visibility": null,
            "align_self": null,
            "height": null,
            "min_height": null,
            "padding": null,
            "grid_auto_rows": null,
            "grid_gap": null,
            "max_width": null,
            "order": null,
            "_view_module_version": "1.2.0",
            "grid_template_areas": null,
            "object_position": null,
            "object_fit": null,
            "grid_auto_columns": null,
            "margin": null,
            "display": null,
            "left": null
          },
          "model_module_version": "1.2.0"
        },
        "b7fd38ce74364f9f9f655d923762eebb": {
          "model_module": "@jupyter-widgets/controls",
          "model_name": "ProgressStyleModel",
          "state": {
            "_view_name": "StyleView",
            "_model_name": "ProgressStyleModel",
            "description_width": "",
            "_view_module": "@jupyter-widgets/base",
            "_model_module_version": "1.5.0",
            "_view_count": null,
            "_view_module_version": "1.2.0",
            "bar_color": null,
            "_model_module": "@jupyter-widgets/controls"
          },
          "model_module_version": "1.5.0"
        },
        "fb12ae0140de430b9582a1df5c07001a": {
          "model_module": "@jupyter-widgets/base",
          "model_name": "LayoutModel",
          "state": {
            "_view_name": "LayoutView",
            "grid_template_rows": null,
            "right": null,
            "justify_content": null,
            "_view_module": "@jupyter-widgets/base",
            "overflow": null,
            "_model_module_version": "1.2.0",
            "_view_count": null,
            "flex_flow": null,
            "width": null,
            "min_width": null,
            "border": null,
            "align_items": null,
            "bottom": null,
            "_model_module": "@jupyter-widgets/base",
            "top": null,
            "grid_column": null,
            "overflow_y": null,
            "overflow_x": null,
            "grid_auto_flow": null,
            "grid_area": null,
            "grid_template_columns": null,
            "flex": null,
            "_model_name": "LayoutModel",
            "justify_items": null,
            "grid_row": null,
            "max_height": null,
            "align_content": null,
            "visibility": null,
            "align_self": null,
            "height": null,
            "min_height": null,
            "padding": null,
            "grid_auto_rows": null,
            "grid_gap": null,
            "max_width": null,
            "order": null,
            "_view_module_version": "1.2.0",
            "grid_template_areas": null,
            "object_position": null,
            "object_fit": null,
            "grid_auto_columns": null,
            "margin": null,
            "display": null,
            "left": null
          },
          "model_module_version": "1.2.0"
        },
        "b17dc2efc61a45818a85c5729f4a613b": {
          "model_module": "@jupyter-widgets/controls",
          "model_name": "DescriptionStyleModel",
          "state": {
            "_view_name": "StyleView",
            "_model_name": "DescriptionStyleModel",
            "description_width": "",
            "_view_module": "@jupyter-widgets/base",
            "_model_module_version": "1.5.0",
            "_view_count": null,
            "_view_module_version": "1.2.0",
            "_model_module": "@jupyter-widgets/controls"
          },
          "model_module_version": "1.5.0"
        },
        "20d14534a2ee4fd7b67db59a074ba50e": {
          "model_module": "@jupyter-widgets/base",
          "model_name": "LayoutModel",
          "state": {
            "_view_name": "LayoutView",
            "grid_template_rows": null,
            "right": null,
            "justify_content": null,
            "_view_module": "@jupyter-widgets/base",
            "overflow": null,
            "_model_module_version": "1.2.0",
            "_view_count": null,
            "flex_flow": null,
            "width": null,
            "min_width": null,
            "border": null,
            "align_items": null,
            "bottom": null,
            "_model_module": "@jupyter-widgets/base",
            "top": null,
            "grid_column": null,
            "overflow_y": null,
            "overflow_x": null,
            "grid_auto_flow": null,
            "grid_area": null,
            "grid_template_columns": null,
            "flex": null,
            "_model_name": "LayoutModel",
            "justify_items": null,
            "grid_row": null,
            "max_height": null,
            "align_content": null,
            "visibility": null,
            "align_self": null,
            "height": null,
            "min_height": null,
            "padding": null,
            "grid_auto_rows": null,
            "grid_gap": null,
            "max_width": null,
            "order": null,
            "_view_module_version": "1.2.0",
            "grid_template_areas": null,
            "object_position": null,
            "object_fit": null,
            "grid_auto_columns": null,
            "margin": null,
            "display": null,
            "left": null
          },
          "model_module_version": "1.2.0"
        }
      }
    }
  },
  "cells": [
    {
      "cell_type": "markdown",
      "metadata": {
        "id": "EqgH2U7p6JTX"
      },
      "source": [
        "# **Geo-location of German Tweets**"
      ]
    },
    {
      "cell_type": "code",
      "metadata": {
        "colab": {
          "base_uri": "https://localhost:8080/"
        },
        "id": "zFE2Wt2MsUus",
        "outputId": "87898700-2afb-47c3-aeb3-d7a3c5720f58"
      },
      "source": [
        "import numpy as np\n",
        "import re\n",
        "from sklearn import preprocessing\n",
        "from sklearn.linear_model import Ridge\n",
        "from sklearn.svm import SVR\n",
        "from sklearn.metrics import mean_squared_error, mean_absolute_error # use this function to compute MSE, MAE\n",
        "from sklearn.kernel_ridge import KernelRidge\n",
        "from sklearn.neighbors import KNeighborsRegressor\n",
        "import heapq\n",
        "import gc\n",
        "import pickle\n",
        "import nltk\n",
        "from nltk.corpus import stopwords\n",
        "nltk.download('stopwords')\n",
        "from nltk.stem.snowball import SnowballStemmer\n",
        "from sklearn.ensemble import RandomForestRegressor\n",
        "from sklearn.datasets import make_regression"
      ],
      "execution_count": null,
      "outputs": [
        {
          "output_type": "stream",
          "text": [
            "[nltk_data] Downloading package stopwords to /root/nltk_data...\n",
            "[nltk_data]   Package stopwords is already up-to-date!\n"
          ],
          "name": "stdout"
        }
      ]
    },
    {
      "cell_type": "code",
      "metadata": {
        "id": "Mq05zSUVJH1-"
      },
      "source": [
        "delimiters = \"\\n\", \" \", \".\", \",\", \"?\", \"!\", \":\", \";\", \"\\\"\", \"(\", \")\", \"#\", \"*\", \"{\", \"}\", \"[\", \"]\", \"_\", \"/\", \"<\", \">\"\n",
        "regexPattern = '|'.join(map(re.escape, delimiters))\n",
        "number_features_BOW = 2700\n",
        "number_training_samples = 22583\n",
        "feature_extractor = \"BOW\"#can be either \"BOW\" or \"W2V_1\" #or \"W2V_2\" or \"W2V_3\"\n",
        "truncate_predicted_scores = False\n",
        "remove_stopwords = True\n",
        "stemming = True"
      ],
      "execution_count": null,
      "outputs": []
    },
    {
      "cell_type": "code",
      "metadata": {
        "id": "3ZOQWKZT6EoL"
      },
      "source": [
        "def Split_in_parts(row):\n",
        "\n",
        "  first_part = \"\"\n",
        "\n",
        "  i = 0\n",
        "  while row[i]!='\\\"':\n",
        "    first_part = first_part + row[i]\n",
        "    i+=1\n",
        "  ind_second_part = i+1\n",
        "\n",
        "  second_part = row[ind_second_part:-1]#remove the last '\\\"'\n",
        "\n",
        "\n",
        "  first_part = first_part[:-1]#remove the last character from first_part\n",
        "\n",
        "  first_part = first_part.split(\",\")\n",
        "\n",
        "  test_row = False\n",
        "  if len(first_part)!=3:\n",
        "    test_row = True\n",
        "\n",
        "  first_part = [float(first_part[i]) for i in range(len(first_part))]#convert first_part from strings to numbers\n",
        "\n",
        "  tweet_ID = int(first_part[0])\n",
        "\n",
        "  if test_row==False:\n",
        "    label  = [first_part[1], first_part[2] ]\n",
        "    return tweet_ID, label, second_part\n",
        "  #else\n",
        "  return tweet_ID, second_part"
      ],
      "execution_count": null,
      "outputs": []
    },
    {
      "cell_type": "code",
      "metadata": {
        "colab": {
          "base_uri": "https://localhost:8080/"
        },
        "id": "gKKx4UDQyt6X",
        "outputId": "4bc4648c-76c4-4103-b580-d649e1fbeb5e"
      },
      "source": [
        "germanStemmer=SnowballStemmer(\"german\")\n",
        "#germanStemmer.stem(\"suche\")\n",
        "def transform_word(word):\n",
        "    result = \"\"\n",
        "    if remove_stopwords==True:\n",
        "        if word in stopwords.words('german'):\n",
        "            result = \"\"\n",
        "            return result\n",
        "    if remove_stopwords==False:\n",
        "      if word in stopwords.words('german'):\n",
        "            result = word\n",
        "            return result\n",
        "    if stemming==True:\n",
        "        result = germanStemmer.stem(word)\n",
        "        return result\n",
        "    return result\n",
        "print(transform_word(\"suche\"))\n",
        "print(stemming)"
      ],
      "execution_count": null,
      "outputs": [
        {
          "output_type": "stream",
          "text": [
            "such\n",
            "True\n"
          ],
          "name": "stdout"
        }
      ]
    },
    {
      "cell_type": "markdown",
      "metadata": {
        "id": "USR0AlaAFwzq"
      },
      "source": [
        "# Define feature extractors:\n",
        "\n"
      ]
    },
    {
      "cell_type": "markdown",
      "metadata": {
        "id": "JrII0dgcF3b_"
      },
      "source": [
        "## Feature Extractor 1: Bag of Words"
      ]
    },
    {
      "cell_type": "code",
      "metadata": {
        "id": "HmvHRQu2jOWC"
      },
      "source": [
        "'''class BagOfWords:\n",
        "    # a. Initialize the vocabulary in the constructor (it should be empty).\n",
        "    def __init__(self):\n",
        "        self.vocab = {\n",
        "            'UNK': 0\n",
        "        }\n",
        "        self.vocab_size = 1\n",
        "\n",
        "    # b. Implement the 'build_vocabulary' function that takes as input the training essays (numpy array of lists)\n",
        "    # and build the vocabulary and return the vocabulary size\n",
        "    def build_dictionary(self, essays):\n",
        "        for essay in essays:\n",
        "            for word in essay:\n",
        "                if word not in self.vocab:\n",
        "                    self.vocab[word] = self.vocab_size\n",
        "                    self.vocab_size += 1\n",
        "        return self.vocab_size\n",
        "\n",
        "    # c. Implement the 'get_features' function that takes as input the essays and returns the BOW reprezentations\n",
        "    # (it should be a matrix of NxD, where N is the number of essays and D the length of the dictionary).\n",
        "    def get_features(self, data):\n",
        "        results = np.zeros((len(data), self.vocab_size), dtype=np.float32)\n",
        "\n",
        "        for idx, essay in enumerate(data):\n",
        "            for word in essay:\n",
        "                if word not in self.vocab:\n",
        "                    results[idx, 0] += 1 # for the unknown\n",
        "                else:\n",
        "                    results[idx, self.vocab[word]] += 1\n",
        "       return results\n",
        "'''\n",
        "\n",
        "\n",
        "class BagOfWords:\n",
        "    def __init__(self):\n",
        "        self.vocab = {\n",
        "            'UNK': [0,0]#freq, id\n",
        "        }\n",
        "        self.vocab_truncated = {\n",
        "            'UNK': [0]#freq\n",
        "        }\n",
        "        self.vocab_size = 1\n",
        "\n",
        "    def build_dictionary(self, word_lists):\n",
        "        print(\"I am in the build_dict...\")\n",
        "        for ind1 in range(len(word_lists)):\n",
        "            if ind1%1000==0:\n",
        "              print(\"ind1 = \", ind1)\n",
        "            wlist = word_lists[ind1]\n",
        "            for word in wlist:\n",
        "                word = transform_word(word)\n",
        "                if word!=\"\":#this appears sometimes, even when we don't remove the stopwords, so don't change it\n",
        "                  if word not in self.vocab:\n",
        "                    self.vocab_size = self.vocab_size + 1\n",
        "                    self.vocab[word] = [1, self.vocab_size - 1]#freq, id\n",
        "                  else:\n",
        "                    self.vocab[word][0]+=1#freq\n",
        "        #and now:\n",
        "        print(\"rebuilding dictionary...\")\n",
        "        self.rebuild_dictionary(number_features_BOW)\n",
        "\n",
        "        return self.vocab_size\n",
        "\n",
        "    def rebuild_dictionary(self, number_words):\n",
        "      for word in self.vocab:\n",
        "        self.vocab_truncated[word] = self.vocab[word][0]#only freq\n",
        "      #now truncate to the first number_words words (except first 100 words, which are probably prepositions)\n",
        "      most_freq = heapq.nlargest(number_words+100,self.vocab_truncated, key=self.vocab_truncated.get)\n",
        "      print(\"sunt in functie si am most_freq = \", most_freq)\n",
        "      #delete the first 100 elements, because they are noise (only in case remove_stopwords==False)\n",
        "      if remove_stopwords==False:\n",
        "        most_freq = most_freq[100:]\n",
        "\n",
        "      print(\"acum lungimea este\", len(most_freq), \" iar lista este \", most_freq)\n",
        "\n",
        "      #free the memory (or try to)\n",
        "      del self.vocab\n",
        "      del self.vocab_truncated\n",
        "      gc.collect()\n",
        "\n",
        "      #initialize it again\n",
        "      self.vocab = {\n",
        "            'UNK': 0#id\n",
        "        }\n",
        "      self.vocab_size = 1\n",
        "\n",
        "      #build a normal dictionary but with less words\n",
        "      for word in most_freq:\n",
        "          if word not in self.vocab:\n",
        "            self.vocab_size = self.vocab_size + 1\n",
        "            self.vocab[word] = self.vocab_size - 1#id\n",
        "      print(\"la sfarsit, avem \", self.vocab_size, \" cuvinte\")\n",
        "\n",
        "    def get_features(self, data):\n",
        "        features = np.zeros((len(data), self.vocab_size), dtype=np.float32)\n",
        "\n",
        "        for id, tweet in enumerate(data):\n",
        "            for word in tweet:\n",
        "                if word not in self.vocab:\n",
        "                    features[id, 0] += 1 # for the unknown\n",
        "                else:\n",
        "                    features[id, self.vocab[word]] += 1\n",
        "        return features"
      ],
      "execution_count": null,
      "outputs": []
    },
    {
      "cell_type": "code",
      "metadata": {
        "colab": {
          "base_uri": "https://localhost:8080/",
          "height": 52
        },
        "id": "hnjGOzHDjJlx",
        "outputId": "e05299b6-08ee-45cd-deec-4ce69ff0ebff"
      },
      "source": [
        "'''def Extract_features1(training_data):#bag of words\n",
        "  BOW = BagOfWords()\n",
        "  print(\"build dictionary = \", BOW.build_dictionary(training_data))\n",
        "\n",
        "  ftrs = BOW.get_features(training_data)\n",
        "  return ftrs\n",
        "'''\n"
      ],
      "execution_count": null,
      "outputs": [
        {
          "output_type": "execute_result",
          "data": {
            "application/vnd.google.colaboratory.intrinsic+json": {
              "type": "string"
            },
            "text/plain": [
              "'def Extract_features1(training_data):#bag of words\\n  BOW = BagOfWords()\\n  print(\"build dictionary = \", BOW.build_dictionary(training_data))\\n\\n  ftrs = BOW.get_features(training_data)\\n  return ftrs\\n'"
            ]
          },
          "metadata": {
            "tags": []
          },
          "execution_count": 6
        }
      ]
    },
    {
      "cell_type": "markdown",
      "metadata": {
        "id": "G0dPEU-zF-gL"
      },
      "source": [
        "## Feature Extractor 2: W2V\n",
        "(it has get_features_1, get_features_2 and get_features_3)"
      ]
    },
    {
      "cell_type": "code",
      "metadata": {
        "id": "gqp8fEzjOW98"
      },
      "source": [
        "def read_vector_embeddings():\n",
        "      if feature_extractor[0]!='W':\n",
        "        return None\n",
        "      with open(\"/content/drive/MyDrive/Master AI/First Year/Semester 1/PML/vectors_w2v.txt\") as f:\n",
        "        content_w2v_vectors = f.readlines()\n",
        "      print(\"first vector embedding: \", content_w2v_vectors[0])\n",
        "      print(\"second vector embedding: \", content_w2v_vectors[1])\n",
        "      print(\"third vector embedding: \", content_w2v_vectors[2])\n",
        "      return content_w2v_vectors\n",
        "content_w2v_vectors = read_vector_embeddings()\n"
      ],
      "execution_count": null,
      "outputs": []
    },
    {
      "cell_type": "code",
      "metadata": {
        "colab": {
          "base_uri": "https://localhost:8080/",
          "height": 162
        },
        "id": "WZZzOFHdGHfF",
        "outputId": "5a5975a4-fe90-4e88-a956-91c58d93495f"
      },
      "source": [
        "print(len(content_w2v_vectors))"
      ],
      "execution_count": null,
      "outputs": [
        {
          "output_type": "error",
          "ename": "TypeError",
          "evalue": "ignored",
          "traceback": [
            "\u001b[0;31m---------------------------------------------------------------------------\u001b[0m",
            "\u001b[0;31mTypeError\u001b[0m                                 Traceback (most recent call last)",
            "\u001b[0;32m<ipython-input-12-e7863737664b>\u001b[0m in \u001b[0;36m<module>\u001b[0;34m()\u001b[0m\n\u001b[0;32m----> 1\u001b[0;31m \u001b[0mprint\u001b[0m\u001b[0;34m(\u001b[0m\u001b[0mlen\u001b[0m\u001b[0;34m(\u001b[0m\u001b[0mcontent_w2v_vectors\u001b[0m\u001b[0;34m)\u001b[0m\u001b[0;34m)\u001b[0m\u001b[0;34m\u001b[0m\u001b[0;34m\u001b[0m\u001b[0m\n\u001b[0m",
            "\u001b[0;31mTypeError\u001b[0m: object of type 'NoneType' has no len()"
          ]
        }
      ]
    },
    {
      "cell_type": "code",
      "metadata": {
        "id": "ZCM9wT4H-nUP",
        "colab": {
          "base_uri": "https://localhost:8080/",
          "height": 229
        },
        "outputId": "5a5bc2ea-2276-478b-d4e5-dcf0778897c4"
      },
      "source": [
        "def split_vector_in_parts(line):\n",
        "  word = \"\"\n",
        "  vector = []\n",
        "  index = 2#skip the furst character, which for some reason is a lowercase b. Skip also the '\n",
        "  while line[index]!='\\'':\n",
        "    word = word + line[index]\n",
        "    index+=1\n",
        "  index+=1#skip the '\n",
        "\n",
        "  line = line[index:]\n",
        "  line = line.split()\n",
        "  line = [float(nb) for nb in line]\n",
        "\n",
        "  #if word!=transform_word(word):\n",
        "  #  print(\"DIFERIT!\\nword=\", word, \"  stem=\", transform_word(word))\n",
        "\n",
        "  return transform_word(word), line\n",
        "\n",
        "\n",
        "a = content_w2v_vectors[121]\n",
        "\n",
        "print(split_vector_in_parts(a))\n",
        "\n",
        "embedded_words = []\n",
        "vectors = []\n",
        "for i in range(len(content_w2v_vectors)):\n",
        "  if i%5000==1:\n",
        "    print(\"i = \", i)\n",
        "    print(\"embedded words[-1]:\", embedded_words[-1])\n",
        "  w, v = split_vector_in_parts(content_w2v_vectors[i])\n",
        "  if w not in embedded_words and w!=\"\":\n",
        "    embedded_words.append(w)\n",
        "    vectors.append(v)\n",
        "print(len(embedded_words))\n",
        "r = 6/0"
      ],
      "execution_count": null,
      "outputs": [
        {
          "output_type": "error",
          "ename": "TypeError",
          "evalue": "ignored",
          "traceback": [
            "\u001b[0;31m---------------------------------------------------------------------------\u001b[0m",
            "\u001b[0;31mTypeError\u001b[0m                                 Traceback (most recent call last)",
            "\u001b[0;32m<ipython-input-13-6e64d56e385d>\u001b[0m in \u001b[0;36m<module>\u001b[0;34m()\u001b[0m\n\u001b[1;32m     18\u001b[0m \u001b[0;34m\u001b[0m\u001b[0m\n\u001b[1;32m     19\u001b[0m \u001b[0;34m\u001b[0m\u001b[0m\n\u001b[0;32m---> 20\u001b[0;31m \u001b[0ma\u001b[0m \u001b[0;34m=\u001b[0m \u001b[0mcontent_w2v_vectors\u001b[0m\u001b[0;34m[\u001b[0m\u001b[0;36m121\u001b[0m\u001b[0;34m]\u001b[0m\u001b[0;34m\u001b[0m\u001b[0;34m\u001b[0m\u001b[0m\n\u001b[0m\u001b[1;32m     21\u001b[0m \u001b[0;34m\u001b[0m\u001b[0m\n\u001b[1;32m     22\u001b[0m \u001b[0mprint\u001b[0m\u001b[0;34m(\u001b[0m\u001b[0msplit_vector_in_parts\u001b[0m\u001b[0;34m(\u001b[0m\u001b[0ma\u001b[0m\u001b[0;34m)\u001b[0m\u001b[0;34m)\u001b[0m\u001b[0;34m\u001b[0m\u001b[0;34m\u001b[0m\u001b[0m\n",
            "\u001b[0;31mTypeError\u001b[0m: 'NoneType' object is not subscriptable"
          ]
        }
      ]
    },
    {
      "cell_type": "code",
      "metadata": {
        "id": "FHw24n-ysuSr",
        "colab": {
          "base_uri": "https://localhost:8080/",
          "height": 229
        },
        "outputId": "bfdaad8a-be32-405f-e254-bc231d6c9b87"
      },
      "source": [
        "import pickle\n",
        "\n",
        "output = open('/content/drive/MyDrive/Master AI/First Year/Semester 1/PML/distinct_stemmed_embedded_words.pkl', 'wb')\n",
        "pickle.dump(embedded_words, output)\n",
        "output.close()\n",
        "\n",
        "output = open('/content/drive/MyDrive/Master AI/First Year/Semester 1/PML/distinct_stemmed_vectors.pkl', 'wb')\n",
        "pickle.dump(vectors, output)\n",
        "output.close()\n"
      ],
      "execution_count": null,
      "outputs": [
        {
          "output_type": "error",
          "ename": "NameError",
          "evalue": "ignored",
          "traceback": [
            "\u001b[0;31m---------------------------------------------------------------------------\u001b[0m",
            "\u001b[0;31mNameError\u001b[0m                                 Traceback (most recent call last)",
            "\u001b[0;32m<ipython-input-14-85a0717a07b9>\u001b[0m in \u001b[0;36m<module>\u001b[0;34m()\u001b[0m\n\u001b[1;32m      2\u001b[0m \u001b[0;34m\u001b[0m\u001b[0m\n\u001b[1;32m      3\u001b[0m \u001b[0moutput\u001b[0m \u001b[0;34m=\u001b[0m \u001b[0mopen\u001b[0m\u001b[0;34m(\u001b[0m\u001b[0;34m'/content/drive/MyDrive/Master AI/First Year/Semester 1/PML/distinct_stemmed_embedded_words.pkl'\u001b[0m\u001b[0;34m,\u001b[0m \u001b[0;34m'wb'\u001b[0m\u001b[0;34m)\u001b[0m\u001b[0;34m\u001b[0m\u001b[0;34m\u001b[0m\u001b[0m\n\u001b[0;32m----> 4\u001b[0;31m \u001b[0mpickle\u001b[0m\u001b[0;34m.\u001b[0m\u001b[0mdump\u001b[0m\u001b[0;34m(\u001b[0m\u001b[0membedded_words\u001b[0m\u001b[0;34m,\u001b[0m \u001b[0moutput\u001b[0m\u001b[0;34m)\u001b[0m\u001b[0;34m\u001b[0m\u001b[0;34m\u001b[0m\u001b[0m\n\u001b[0m\u001b[1;32m      5\u001b[0m \u001b[0moutput\u001b[0m\u001b[0;34m.\u001b[0m\u001b[0mclose\u001b[0m\u001b[0;34m(\u001b[0m\u001b[0;34m)\u001b[0m\u001b[0;34m\u001b[0m\u001b[0;34m\u001b[0m\u001b[0m\n\u001b[1;32m      6\u001b[0m \u001b[0;34m\u001b[0m\u001b[0m\n",
            "\u001b[0;31mNameError\u001b[0m: name 'embedded_words' is not defined"
          ]
        }
      ]
    },
    {
      "cell_type": "code",
      "metadata": {
        "id": "yAbOt_UNtPHi"
      },
      "source": [
        "pkl_file = open('/content/drive/MyDrive/Master AI/First Year/Semester 1/PML/distinct_stemmed_embedded_words.pkl', 'rb')\n",
        "embs = pickle.load(pkl_file)\n",
        "pkl_file.close()\n",
        "\n",
        "embs\n",
        "len(embs)"
      ],
      "execution_count": null,
      "outputs": []
    },
    {
      "cell_type": "code",
      "metadata": {
        "colab": {
          "base_uri": "https://localhost:8080/",
          "height": 229
        },
        "id": "eG7ZgYMx-OE_",
        "outputId": "5c9d006f-eaf3-44af-9f9d-e6dfb391d432"
      },
      "source": [
        "print(\"len content vectors = \", len(content_w2v_vectors))\n",
        "print(\"len content vectors[0] = \", len(content_w2v_vectors[0]))\n",
        "print(\"len content vectors[1] = \", len(content_w2v_vectors[1]))\n",
        "print(\"len content vectors[2] = \", len(content_w2v_vectors[2]))\n",
        "print(type(content_w2v_vectors[0]))"
      ],
      "execution_count": null,
      "outputs": [
        {
          "output_type": "error",
          "ename": "TypeError",
          "evalue": "ignored",
          "traceback": [
            "\u001b[0;31m---------------------------------------------------------------------------\u001b[0m",
            "\u001b[0;31mTypeError\u001b[0m                                 Traceback (most recent call last)",
            "\u001b[0;32m<ipython-input-15-1365b50de58a>\u001b[0m in \u001b[0;36m<module>\u001b[0;34m()\u001b[0m\n\u001b[0;32m----> 1\u001b[0;31m \u001b[0mprint\u001b[0m\u001b[0;34m(\u001b[0m\u001b[0;34m\"len content vectors = \"\u001b[0m\u001b[0;34m,\u001b[0m \u001b[0mlen\u001b[0m\u001b[0;34m(\u001b[0m\u001b[0mcontent_w2v_vectors\u001b[0m\u001b[0;34m)\u001b[0m\u001b[0;34m)\u001b[0m\u001b[0;34m\u001b[0m\u001b[0;34m\u001b[0m\u001b[0m\n\u001b[0m\u001b[1;32m      2\u001b[0m \u001b[0mprint\u001b[0m\u001b[0;34m(\u001b[0m\u001b[0;34m\"len content vectors[0] = \"\u001b[0m\u001b[0;34m,\u001b[0m \u001b[0mlen\u001b[0m\u001b[0;34m(\u001b[0m\u001b[0mcontent_w2v_vectors\u001b[0m\u001b[0;34m[\u001b[0m\u001b[0;36m0\u001b[0m\u001b[0;34m]\u001b[0m\u001b[0;34m)\u001b[0m\u001b[0;34m)\u001b[0m\u001b[0;34m\u001b[0m\u001b[0;34m\u001b[0m\u001b[0m\n\u001b[1;32m      3\u001b[0m \u001b[0mprint\u001b[0m\u001b[0;34m(\u001b[0m\u001b[0;34m\"len content vectors[1] = \"\u001b[0m\u001b[0;34m,\u001b[0m \u001b[0mlen\u001b[0m\u001b[0;34m(\u001b[0m\u001b[0mcontent_w2v_vectors\u001b[0m\u001b[0;34m[\u001b[0m\u001b[0;36m1\u001b[0m\u001b[0;34m]\u001b[0m\u001b[0;34m)\u001b[0m\u001b[0;34m)\u001b[0m\u001b[0;34m\u001b[0m\u001b[0;34m\u001b[0m\u001b[0m\n\u001b[1;32m      4\u001b[0m \u001b[0mprint\u001b[0m\u001b[0;34m(\u001b[0m\u001b[0;34m\"len content vectors[2] = \"\u001b[0m\u001b[0;34m,\u001b[0m \u001b[0mlen\u001b[0m\u001b[0;34m(\u001b[0m\u001b[0mcontent_w2v_vectors\u001b[0m\u001b[0;34m[\u001b[0m\u001b[0;36m2\u001b[0m\u001b[0;34m]\u001b[0m\u001b[0;34m)\u001b[0m\u001b[0;34m)\u001b[0m\u001b[0;34m\u001b[0m\u001b[0;34m\u001b[0m\u001b[0m\n\u001b[1;32m      5\u001b[0m \u001b[0mprint\u001b[0m\u001b[0;34m(\u001b[0m\u001b[0mtype\u001b[0m\u001b[0;34m(\u001b[0m\u001b[0mcontent_w2v_vectors\u001b[0m\u001b[0;34m[\u001b[0m\u001b[0;36m0\u001b[0m\u001b[0;34m]\u001b[0m\u001b[0;34m)\u001b[0m\u001b[0;34m)\u001b[0m\u001b[0;34m\u001b[0m\u001b[0;34m\u001b[0m\u001b[0m\n",
            "\u001b[0;31mTypeError\u001b[0m: object of type 'NoneType' has no len()"
          ]
        }
      ]
    },
    {
      "cell_type": "code",
      "metadata": {
        "id": "HFOYDN548fgK"
      },
      "source": [
        "class Word2Vec:\n",
        "    def __init__(self):\n",
        "        self.vocab = {\n",
        "            'UNK': [0,0]#freq, id\n",
        "        }\n",
        "        self.vocab_truncated = {\n",
        "            'UNK': [0]#freq\n",
        "        }\n",
        "        self.vocab_size = 1\n",
        "        self.vector_embeddings = None\n",
        "\n",
        "    def build_dictionary(self, word_lists):\n",
        "        for ind1 in range(len(word_lists)):\n",
        "            wlist = word_lists[ind1]\n",
        "            for word in wlist:\n",
        "                if word!=\"\":#don't know why this appears sometimes\n",
        "                  if word not in self.vocab:\n",
        "                    self.vocab_size = self.vocab_size + 1\n",
        "                    self.vocab[word] = [1, self.vocab_size - 1]#freq, id\n",
        "                  else:\n",
        "                    self.vocab[word][0]+=1#freq\n",
        "        #and now:\n",
        "        self.rebuild_dictionary(number_features_BOW)\n",
        "\n",
        "        return self.vocab_size\n",
        "\n",
        "    def rebuild_dictionary(self, number_words):\n",
        "      for word in self.vocab:\n",
        "        self.vocab_truncated[word] = self.vocab[word][0]#only freq\n",
        "      #now truncate to the first number_words words (except first 100 words, which are probably prepositions)\n",
        "      most_freq = heapq.nlargest(number_words+100,self.vocab_truncated, key=self.vocab_truncated.get)\n",
        "      print(\"sunt in functie si am most_freq = \", most_freq)\n",
        "      #delete the first 100 elements, because they are noise\n",
        "      most_freq = most_freq[100:]\n",
        "      print(\"acum lungimea este\", len(most_freq), \" iar lista este \", most_freq)\n",
        "\n",
        "      #free the memory (or try to)\n",
        "      del self.vocab\n",
        "      del self.vocab_truncated\n",
        "      gc.collect()\n",
        "\n",
        "      #initialize it again\n",
        "      self.vocab = {\n",
        "            'UNK': 0#id\n",
        "        }\n",
        "      self.vocab_size = 1\n",
        "\n",
        "      #build a normal dictionary but with less words\n",
        "      for word in most_freq:\n",
        "          if word not in self.vocab:\n",
        "            self.vocab_size = self.vocab_size + 1\n",
        "            self.vocab[word] = self.vocab_size - 1#id\n",
        "      print(\"la sfarsit, avem \", self.vocab_size, \" cuvinte\")\n",
        "      #r = t/0\n",
        "\n",
        "    def get_features_1(self, data):#average the vectors of the words\n",
        "\n",
        "      #input:\n",
        "      features = np.zeros((len(data), self.vocab_size), dtype=np.float32)\n",
        "\n",
        "      for id, tweet in enumerate(data):\n",
        "        for word in tweet:\n",
        "          if word in self.vocab:\n",
        "            t = 1        #we want to have the vector embedding of this word\n",
        "      return features\n",
        "\n",
        "#def text2Vec(line):\n",
        "\n"
      ],
      "execution_count": null,
      "outputs": []
    },
    {
      "cell_type": "markdown",
      "metadata": {
        "id": "b5upPE1Wq5I8"
      },
      "source": [
        "# Read the data from files:"
      ]
    },
    {
      "cell_type": "code",
      "metadata": {
        "colab": {
          "base_uri": "https://localhost:8080/"
        },
        "id": "tgsOXKnIasRe",
        "outputId": "463cd17e-8cc6-45d5-f29d-33c2a025b9b3"
      },
      "source": [
        "\n",
        "with open(\"/content/drive/MyDrive/Master AI/First Year/Semester 1/PML/Kaggle data/training.txt\") as f:\n",
        "    content_training = f.readlines()\n",
        "print(\"len training = \", content_training)\n",
        "with open(\"/content/drive/MyDrive/Master AI/First Year/Semester 1/PML/Kaggle data/validation.txt\") as f:\n",
        "    content_validation = f.readlines()\n",
        "with open(\"/content/drive/MyDrive/Master AI/First Year/Semester 1/PML/Kaggle data/test.txt\") as f:\n",
        "    content_test = f.readlines()"
      ],
      "execution_count": null,
      "outputs": [
        {
          "output_type": "stream",
          "text": [
            "IOPub data rate exceeded.\n",
            "The notebook server will temporarily stop sending output\n",
            "to the client in order to avoid crashing it.\n",
            "To change this limit, set the config variable\n",
            "`--NotebookApp.iopub_data_rate_limit`.\n",
            "\n",
            "Current values:\n",
            "NotebookApp.iopub_data_rate_limit=1000000.0 (bytes/sec)\n",
            "NotebookApp.rate_limit_window=3.0 (secs)\n",
            "\n"
          ],
          "name": "stderr"
        }
      ]
    },
    {
      "cell_type": "code",
      "metadata": {
        "colab": {
          "base_uri": "https://localhost:8080/"
        },
        "id": "rk5kFvWWbzqc",
        "outputId": "68374a66-f6d3-44b2-b7ea-99d0d4eb2f47"
      },
      "source": [
        "print(\"content_test[0] = \", content_test[0])\n",
        "print(\"content_test[1] = \", content_test[1])\n",
        "print(\"content_test[2] = \", content_test[2])"
      ],
      "execution_count": null,
      "outputs": [
        {
          "output_type": "stream",
          "text": [
            "content_test[0] =  300121,\"👩min vibi funktionkert nöd... 👧hesch d'batterie dri gsteckt? 👩ja, aber das isch nöd sgliiche...\"\n",
            "\n",
            "content_test[1] =  302441,\"Ich: Also langsam söti scho schlafe Au Ich: Hesch di scho mal gwundered ob all mensche all farve glich gsehnd? @OJ nei machet ned alli glich vld isch mis grüen dis blau und dis rot mis schwarz vld seitmer drum adligi sind blaublüetig will s bluet eigentlich nöd rot isch, oder doch? #allesefragvodeperspektive Hani mi au scho gfröged Mis rechte Aug gsehts scho ned genau glich wie mis lingge hemmer da es paar stoner? #stonerthoughts\"\n",
            "\n",
            "content_test[2] =  300266,\"Hez hie ou lüt wo dr ganz tag ine biudschirm müesse starre u dür das ougeweh becho hei? Heiter irgendwelchi entspannigs/entlastigstipps? Am abe eine blaze Ougearzt. Wahrschinlech bruchsch e brüue. Oder wedä eini hesch e nöii korrektur. regumässig uf wiit entfernti pünkt luege, usem fänschter z.b. Vergiss nid z'blinzle, muesch es chli bewusst mache 😊 Eventuel hocksch ou ds nöch/ds wiuit weg vom Pc bim optiker luege wäge brüue oder ev. nöii korrektur, immer wider chli pünkt innere angere distanz aus dr biudschirm ahluege u wes geiht regumässig mau ufstah. villech ou befüechtigströpfli usprobiere\"\n",
            "\n"
          ],
          "name": "stdout"
        }
      ]
    },
    {
      "cell_type": "code",
      "metadata": {
        "id": "AN2Hz1w_7T8j"
      },
      "source": [
        "def Read_training(batch_size, batch_start_index, training_data, training_labels, training_IDs):\n",
        "  training_data = []\n",
        "  training_labels = []\n",
        "  training_IDs = []\n",
        "\n",
        "  #_________________________________________Training data_________________________________________\n",
        "\n",
        "  print(\"batch_size = \", batch_size)\n",
        "  i = 0\n",
        "  shortest_text = 2000000000\n",
        "  for index in range(batch_start_index, batch_start_index+batch_size):\n",
        "    if i%2000==0:\n",
        "      print(\"reading step = \", i)\n",
        "      print(\"shortest_text = \", shortest_text)\n",
        "    row = content_training[index]\n",
        "    row = row.lower()\n",
        "\n",
        "    if i==0:\n",
        "      print(\"first row in training is: \", row)\n",
        "\n",
        "    tweet_ID, label, text = Split_in_parts(row)\n",
        "\n",
        "\n",
        "    splitted_text = re.split(regexPattern, text)\n",
        "\n",
        "    '''if len(splitted_text)<shortest_text:\n",
        "      shortest_text = len(splitted_text)\n",
        "    print(\"splitted text = \", splitted_text)\n",
        "    for word in splitted_text:\n",
        "      haveit = (word in embedded_words)\n",
        "      print(\"word = \", word, \" have it = \", haveit)\n",
        "    t = 7/0'''\n",
        "    training_data.append(splitted_text)\n",
        "    training_labels.append(label)\n",
        "    training_IDs.append(tweet_ID)\n",
        "\n",
        "    i+=1\n",
        "\n",
        "\n",
        "  #print(\"finished reading!\")\n",
        "  #print(\"shortest shortest text = \", shortest_text)\n",
        "  #r = 6/0\n",
        "\n",
        "  training_data = np.array(training_data, dtype=object)\n",
        "  training_labels = np.array(training_labels, dtype=np.float32)\n",
        "  training_IDs = np.array(training_IDs, dtype=int)\n",
        "\n",
        "  print(\"finished converting to np. Now choosing feature extractor:\")\n",
        "\n",
        "  if feature_extractor==\"BOW\":\n",
        "    print(\"instatiating BOW object...\")\n",
        "    BOW = BagOfWords()\n",
        "    print(\"BOW instantiated!\")\n",
        "    print(\"build dictionary = \", BOW.build_dictionary(training_data))\n",
        "    training_ftrs = BOW.get_features(training_data)\n",
        "\n",
        "    print(BOW.vocab)\n",
        "\n",
        "    print(\"training_ftrs shape= \", training_ftrs.shape)\n",
        "    print(\"training_ftrs[0] type= \", type(training_ftrs[0]))\n",
        "    print(\"training_ftrs[0][0] type= \", type(training_ftrs[0][0]))\n",
        "    return training_ftrs, BOW, training_labels, training_IDs\n",
        "\n",
        "  elif feature_extractor==\"W2V_1\":\n",
        "    W2V = Word2Vec()\n",
        "    training_ftrs = W2V.get_features_1(training_data)\n",
        "    print(\"I just calllled get_features_1\")\n",
        "    return training_ftrs, W2V, training_labels, training_IDs\n",
        "  else:\n",
        "    r = 7/0\n",
        "  #return training_ftrs, training_labels, training_IDs\n",
        "\n",
        "#_________________________________________Now work with test and validation_________________________________________\n",
        "\n",
        "\n",
        "def Read_test_and_validation(MODEL, validation_data, validation_labels, validation_IDs, test_data, test_labels, test_IDs):\n",
        "  validation_data = []\n",
        "  validation_labels = []\n",
        "  validation_IDs = []\n",
        "  #_________________________________________Validation data_________________________________________\n",
        "  i = 0\n",
        "  print(\"len content validation = \", len(content_validation))\n",
        "  for index in range(len(content_validation)):\n",
        "    if index%1000==0:\n",
        "      print(\"index validation = \", index)\n",
        "    row = content_validation[index]\n",
        "    row = row.lower()\n",
        "    if i==0:\n",
        "      print(\"first row validation = \", row)\n",
        "    if i==1:\n",
        "      print(\"second row validation = \", row)\n",
        "\n",
        "    tweet_ID, label, text = Split_in_parts(row)\n",
        "\n",
        "\n",
        "\n",
        "    splitted_text = re.split(regexPattern, text)\n",
        "\n",
        "\n",
        "    validation_data.append(splitted_text)\n",
        "    validation_labels.append(label)\n",
        "    validation_IDs.append(tweet_ID)\n",
        "    i+=1\n",
        "\n",
        "\n",
        "\n",
        "  validation_data = np.array(validation_data)\n",
        "  validation_labels = np.array(validation_labels)\n",
        "  validation_IDs = np.array(validation_IDs)\n",
        "\n",
        "  if feature_extractor==\"BOW\":\n",
        "    validation_ftrs = MODEL.get_features(validation_data)\n",
        "    print(MODEL.vocab)\n",
        "  elif feature_extractor==\"W2V_1\":\n",
        "    validation_ftrs = MODEL.get_features_1(validation_data)\n",
        "    print(\"I just calllled get_features_1 for validation\")\n",
        "\n",
        "\n",
        "\n",
        "  test_data = []\n",
        "  test_IDs = []\n",
        "  #_________________________________________Test data_________________________________________\n",
        "  i = 0\n",
        "  print(\"len content test = \", len(content_test))\n",
        "  for index in range(len(content_test)):\n",
        "    if index%1000==0:\n",
        "      print(\"index test = \", index)\n",
        "    row = content_test[index]\n",
        "    row = row.lower()\n",
        "    if i==0:\n",
        "      print(\"first row test = \", row)\n",
        "    if i==1:\n",
        "      print(\"second row test = \", row)\n",
        "\n",
        "    tweet_ID, text = Split_in_parts(row)\n",
        "\n",
        "\n",
        "\n",
        "    splitted_text = re.split(regexPattern, text)\n",
        "\n",
        "\n",
        "    test_data.append(splitted_text)\n",
        "    test_IDs.append(tweet_ID)\n",
        "    i+=1\n",
        "\n",
        "\n",
        "\n",
        "  test_data = np.array(test_data)\n",
        "  test_labels = np.array(test_labels)\n",
        "  test_IDs = np.array(test_IDs)\n",
        "  if feature_extractor==\"BOW\":\n",
        "    test_ftrs = MODEL.get_features(test_data)\n",
        "  elif feature_extractor==\"W2V_1\":\n",
        "    test_ftrs = MODEL.get_features_1(test_data)\n",
        "  #print(BOW.vocab)\n",
        "\n",
        "\n",
        "  return test_ftrs, test_IDs, validation_ftrs, validation_labels, validation_IDs\n",
        "\n",
        "\n",
        "\n",
        "\n",
        "#free the memory\n",
        "##del content_training\n",
        "##del content_test\n",
        "##del content_validation"
      ],
      "execution_count": null,
      "outputs": []
    },
    {
      "cell_type": "code",
      "metadata": {
        "colab": {
          "base_uri": "https://localhost:8080/"
        },
        "id": "lh8B6sQOnKkI",
        "outputId": "e3cf9a43-42b2-4fbf-ae96-1bb4bac3133e"
      },
      "source": [
        "validation_data = []\n",
        "validation_labels = []\n",
        "validation_IDs = []\n",
        "\n",
        "test_data = []\n",
        "test_labels = []\n",
        "test_IDs = []\n",
        "\n",
        "training_data = []\n",
        "training_labels = []\n",
        "training_IDs = []\n",
        "\n",
        "print(\"len content_training = \", len(content_training))\n",
        "\n",
        "training_ftrs, bow, training_labels, training_IDs = Read_training(number_training_samples, 0, training_data, training_labels, training_IDs)\n",
        "\n",
        "print(\"features type = \", type(training_ftrs))\n",
        "print(\"features shape = \", training_ftrs.shape)\n",
        "\n",
        "most_freq = heapq.nsmallest(200,bow.vocab, key=bow.vocab.get)\n",
        "\n",
        "#bow.rebuild_dictionary(10000)\n",
        "test_labels = []\n",
        "test_ftrs, test_IDs, validation_ftrs, validation_labels, validation_IDs = Read_test_and_validation(bow, validation_data, validation_labels, validation_IDs, test_data, test_labels, test_IDs)"
      ],
      "execution_count": null,
      "outputs": [
        {
          "output_type": "stream",
          "text": [
            "len content_training =  22583\n",
            "batch_size =  22583\n",
            "reading step =  0\n",
            "shortest_text =  2000000000\n",
            "first row in training is:  119165,51.810067114093954,10.191330935251802,\"seit d vase: \"\"wenn ich kaputt gang, bringt das 1 jahr unglück.\"\" antwortet de spiegel: \"\"das isch doch gar nüt. wenn ich kaputt gang, bringt das 7 jahr pech!\"\" dadruf fangt s kondom a lache. s'atomkraftwerk au 😋 uuuh nöd schlecht 👍 seisch anere frau sie isch fett und du hesch dis lebe lang unglück (au wenn i dem fall nüm lang lebsch)\"\n",
            "\n",
            "reading step =  2000\n",
            "shortest_text =  2000000000\n",
            "reading step =  4000\n",
            "shortest_text =  2000000000\n",
            "reading step =  6000\n",
            "shortest_text =  2000000000\n",
            "reading step =  8000\n",
            "shortest_text =  2000000000\n",
            "reading step =  10000\n",
            "shortest_text =  2000000000\n",
            "reading step =  12000\n",
            "shortest_text =  2000000000\n",
            "reading step =  14000\n",
            "shortest_text =  2000000000\n",
            "reading step =  16000\n",
            "shortest_text =  2000000000\n",
            "reading step =  18000\n",
            "shortest_text =  2000000000\n",
            "reading step =  20000\n",
            "shortest_text =  2000000000\n",
            "reading step =  22000\n",
            "shortest_text =  2000000000\n",
            "finished converting to np. Now choosing feature extractor:\n",
            "instatiating BOW object...\n",
            "BOW instantiated!\n",
            "I am in the build_dict...\n",
            "ind1 =  0\n",
            "ind1 =  1000\n",
            "ind1 =  2000\n",
            "ind1 =  3000\n",
            "ind1 =  4000\n",
            "ind1 =  5000\n",
            "ind1 =  6000\n",
            "ind1 =  7000\n",
            "ind1 =  8000\n",
            "ind1 =  9000\n",
            "ind1 =  10000\n",
            "ind1 =  11000\n",
            "ind1 =  12000\n",
            "ind1 =  13000\n",
            "ind1 =  14000\n",
            "ind1 =  15000\n",
            "ind1 =  16000\n",
            "ind1 =  17000\n",
            "ind1 =  18000\n",
            "ind1 =  19000\n",
            "ind1 =  20000\n",
            "ind1 =  21000\n",
            "ind1 =  22000\n",
            "rebuilding dictionary...\n",
            "sunt in functie si am most_freq =  ['isch', 'de', 'au', 'i', 'ja', 'e', 'en', 'no', 'uf', 'het', 'bi', 'nid', 'ha', '😂', 'scho', 'vo', 'ned', 'd', 'mer', 'han', 'nod', 'hesch', 'bisch', 'z', '@1', '@2', 'eifach', 'a', 'mal', 'guet', 'imm', 'si', 's', '@oj', 'mach', 'u', '-', 'dr', 'grad', 'gsi', 'mi', 'nei', 'di', 'us', 'kei', '@3', 'jo', 'git', '2', 'hani', 'hend', 'mini', 'me', 'chli', 'ah', 'jodel', 'haha', 'wer', 'ganz', 'war', 'min', 'go', '😅', 'schon', 'weiss', 'meh', 'frau', 'esch', 'mol', '🤔', 'chasch', '1', 'tag', 'dank', 'hut', 'ds', 'cha', '@4', 'bim', 'opp', 'num', 'wieso', 'sich', 'gern', 'glaub', 'nut', 'alt', '😉', 'lieb', 'lut', 'ide', 'eh', 'gha', 'lang', 'nie', 'nit', '3', 'do', 'ond', 'macht', 'da', 'oj', 'voll', 'glich', 'find', 'chan', 'lueg', '😊', 'gmacht', 'o', 'w', 'richtig', 'alli', 'mega', 'bess', 'm', 'genau', 'dini', 'hed', 'ig', 'well', 'gseh', 'muess', 'leid', 'em', 'din', 'jahr', 'ab', 'wenn', 'schaff', 'erst', '🙈', '😂😂', 'halt', 'kolleg', 'aso', 'wurd', 'cho', 'gad', 'scheiss', '&', 'paar', 'mis', 'geil', 'det', 'frag', 'sit', 'abr', 'ou', 'feri', 'sorry', '@5', 'hett', 'gaht', 'oh', 'muesch', 'oppis', 'is', '5', 'gar', 'moment', 'selb', 'na', 'gang', 'mau', 'hei', 'zug', 'hat', 'kenn', 'bitt', 'bini', 'ohni', 'mann', 'oper', 'wuch', 'gueti', 'word', 'ebe', 'sag', 'seg', 'morn', 'recht', 'mim', 'best', '😍', 'heisst', 'wen', '😄', 'ish', 'ech', 'frund', 'all', 'wur', 'numm', 'ih', 'as', 'probl', 'hand', 'ni', 'ke', 'sup', 'eu', 'seit', 'ga', 'ma', 'wett', 'sach', '4', 'gseit', 'chunt', 'weisch', 'echt', 'be', 'morg', 'ne', 'wennd', '😁', 'frog', 'bett', 'gross', 'id', 'person', 'eher', 'ez', 'gah', 'nach', 'odr', 'mit', 'los', 'met', '🙄', 'hahaha', 'gseht', 'druf', 'frundin', 'eini', 'goht', 'wenig', 'opis', 'lauft', 'eis', 'cham', 'has', 'fall', 'kik', 'typ', 'schlimm', 'ufem', 'chunnt', 'leb', 'jaa', 'sex', '@6', 'mr', 'sech', 'jhj', 'chum', 'denk', 'sogar', 'woni', 'ess', '^^', 'klar', 'kennt', 'use', 'denkt', 'neu', 'merci', 'schnell', 'auto', 'eigent', 'dia', 'lust', 'gluck', 'wiso', 'suech', 'liebi', 'sii', 'machsch', 'ziit', 'fahr', 'dur', 'bier', 'fur', '😂😂😂', 'ir', 'mensch', 'den', 'ok', 'viu', '😏', 'sin', 'wed', 'dis', 'spass', 'demfall', 'son', 'bruch', 'susch', 'zwei', 'chani', 'cool', 'we', 'anderi', 'meist', 'drum', 'meinsch', 'ka', 'eif', 'passiert', 'geh', 'huer', 'brucht', 'luut', 'eig', 'gmeint', 'sott', 'xd', 'jodl', 'nam', 'for', 'schlecht', 'egal', 'ghort', 'wos', 'der', 'schrib', 'wid', '20', 'wel', '10', 'eus', 'red', 'wend', 'vill', 'gest', 'geld', 'the', 'zit', 'wenni', 'b', 'etz', 'schlaf', 'einzig', 'handy', 'wag', 'falsch', 'weg', 'erfahr', 'nacht', 'wart', 'eim', 'hahah', 'vlt', 'mues', 'abe', 'stimmt', 'zuri', 'hie', 'jetz', 'besch', 'hatt', 'irgendwi', 'trotzd', 'wa', 'send', 'geit', 'lehr', '😜', 'easy', 'wia', 'dra', 'hey', 'ine', 'hasch', 'gfuhl', 'zue', 'wohl', 'wach', 'ober', 'fast', 'hoff', 'trink', 'gfund', 'wass', 'usgang', 'das', 'chond', 'dim', 'abig', 'bild', 'nah', 'warum', 'garn', 'gut', 'iz', 'johr', 'film', 'normal', 'lab', 'soll', 'witz', 'mehr', 'wem', 'wurkli', 'sini', 'of', 'monet', 'heiss', 'bezieh', 'ume', 'nu', 'wi', 'dert', 'frou', 'post', 'lustig', 'mier', 'stadt', 'wird', 'mami', 'wott', 'jung', 'kollegin', 'antwort', 'dat', 'schrieb', 'chind', 'oft', 'auso', 'wuss', 'wit', 'ahnig', 'ca', 'dasi', 'teil', 'her', 'grund', 'weni', 'obe', 'wort', 'gnueg', 'becho', 'ufe', 'wot', 'debi', 'schwiz', 'findi', 'fertig', 'vorh', 'keis', '6', 'stund', 'beid', 'usem', 'noch', 'tont', 'allei', 'dam', 'findet', 'googl', '7', '@7', 'aui', 'frei', 'wichtig', 'p', 'dumm', 'gib', 'stell', 'chont', 'nix', 'obb', 'nimm', 'chonnt', '18', 'ufs', 'arsch', 'lern', 'se', 'angst', 'will', 'amig', 'noni', '0', 'geg', 'etc', 'tur', 'langsam', 'wetsch', 'hund', 'ar', 'musch', 'sinn', 'maa', 'sind', 'soo', 'und', 'see', 'wotsch', 'sust', 'vod', 'neui', 'inn', 'toll', 'fuhl', 'halb', 'repost', 'platz', 'je', 'wiit', 'nor', 'chonn', 'passt', 'drub', 'ane', 'ihri', '😋', 'emm', 'wirsch', 'off', 'app', 'la', 'vu', 'ner', 'letscht', 'epp', 'demit', 'spiel', 'nud', 'zam', 'seri', 'bish', 'zahl', 'chauf', 'nar', 'lauf', 'gratis', 'wemm', 'vor', 'minut', 'chunsch', 'ade', 'schuel', 'komisch', 'schwarz', 'gse', 'gond', 'niemert', 'mag', 'arm', 'dorf', 'chas', 'bruchsch', 'ort', 'fing', 'summ', 'ex', 'niem', 'wohn', 'probi', 'lah', 'bring', 'mitm', 'job', 'berlin', 'wies', 'defur', 'schwiiz', 'weis', 'tue', 'hesh', 'immerno', 'vorall', 'hallo', 'pizza', 'wenigst', 'suscht', 'lied', 'gliich', 'racht', 'uberhaupt', 'seisch', 'netflix', '30', 'gsii', 'internet', 'wurdi', 'wom', 'kommentar', 'wc', '😎', 'welt', 'elt', '☺️', 'dezu', 'gott', 'tipps', 'schad', 'bus', '😘', 'naja', 'meinig', 'schoni', 'natur', 'hmm', 'ticket', '=', 'ben', 'froh', 'nonig', 'tuet', 'lach', 'kenni', 'dutsch', '21', 'hamm', 'letzt', 'bringt', 'blod', 'ernst', 'sis', 'nimmt', '@8', 'duss', 'top', 'tipp', 'ufd', 'gid', 'oke', 'vat', 'nochi', 'dort', 'gloub', 'uss', 'ersch', 'schluss', 'kind', 'obs', 'ass', 'mached', 'machi', 'gibt', 'bescht', 'aues', 'fasch', 'zeig', 'bald', 'zrugg', 'wil', 'haut', 'afang', 'bock', 'upvot', '🤗', 'vell', 'biz', '15', 'and', 'downvot', 'fein', 'staht', 'buech', 'grossi', 'churz', 'moglich', 'chatz', 't', 'ob', 'dot', 'okay', 'alln', 'chlin', 'beidi', 'zimm', 'bar', 'land', 'einfach', 'militar', 'kennsch', 'fahrt', 'ihn', 'oppert', 'wod', 'chund', 'rot', 'lad', 'verbi', 'hilft', 'bad', 'ad', 'art', 'singl', 'geht', 'solang', 'wunsch', 'zem', 'chill', 'jemand', 'bahnhof', 'fr', 'denn', 'hast', 'obis', 'willsch', 'weh', 'wuri', 'not', 'momentan', 'miar', 'wet', 'chon', 'hass', 'irgendwo', 'gam', 'hilf', '👍', 'leut', 'erscht', 'wund', 'ei', 'langwil', 'neh', 'guat', 'aug', 'druff', 'humor', 'gedank', 'hol', 'momant', 'glas', 'pro', 'zerst', 'gnau', 'schwer', 'direkt', 'mocht', 'empfehl', 'musig', 'gwusst', 'papi', 'wou', 'zb', 'hos', 'coop', 'darf', 'extra', 'bid', '19', 'kasch', 'flug', 'uberall', '17', 'party', 'ehr', 'arzt', 'rauch', 'sport', 'bro', '12', 'irgend', 'studi', 'villicht', '8', '😇', 'openair', 'famili', 'hauptsach', '😬', 'arbeit', 'ch', 'definitiv', 'stoht', 'wand', 'jedi', 'hetti', 'schlof', 'woch', 'bzw', 'eint', 'heit', 'got', 'dehei', 'schu', 'welli', 'snap', 'gsehsch', 'sho', 'dihei', 'aut', 'vilicht', 'chopf', 'plan', 'omg', 'mangisch', '50', 'obwohl', 'schaffsch', 'ach', 'student', 'warm', 'eppis', 'freu', 'dann', 'krass', 'bern', 'wann', 'haar', 'heut', 'findsch', 'ich', 'muett', 'bitz', 'helf', '😳', 'hoch', 'sim', '22', 'itz', 'unbedingt', 'wohnig', 'kauf', 'meint', 'zersch', 'pruefig', 'hot', 'macha', 'link', 'spot', 'dier', 'versuech', 'shit', 'salb', 'vil', 'dankt', 'acht', 'sry', 'joo', 'karma', 'alkohol', '🤣', 'darum', 'ward', 'bevor', 'uber', 'wow', '👌', '😌', 'schlacht', 'luscht', 'eigentli', 'wohnsch', 'perfekt', '00', 'fett', 'you', 'sitz', 'endlich', 'to', '😀', 'migros', 'les', 'ein', 'schatz', 'vergess', 'wari', 'prufung', 'bod', 'ere', 'kai', 'keini', 'usw', 'verstand', 'werd', 'wosch', '😱', 'gall', 'ghor', 'statt', 'meld', 'due', 'chef', 'n', 'viel', 'dassi', 'zyt', 'punkt', 'fest', 'devo', 'gsicht', 'siech', 'musik', '😒', 'gunstig', 'komm', 'ii', 'aua', 'machet', 'ehrlich', 'st', 'verliebt', 'druck', 'insta', '100', 'eso', 'ufm', 'nett', 'glucklich', 'verstah', 'wurklich', 'trurig', 'kann', 'mech', 'kopf', 'aub', 'wahr', 'weli', '😔', 'widr', 'dass', 'opert', 'muss', 'nic', 'wtf', 'evtl', 'loh', 'gfallt', 'youtub', 'sus', '24', 'schiss', 'sofort', 'entscheid', 'he', 'fritig', 'wes', 'zwusch', 'eui', 'verlor', 'luegsch', '16', 'geili', 'kaputt', 'siit', 'englisch', 'vegan', 'amel', '@9', 'blau', 'drin', 'interessiert', 'velo', 'duet', 'sack', 'it', 'goh', 'wursch', 'hung', '23', 'funktioniert', 'ier', 'gasch', 'chomed', 'sig', 'vom', 'zom', 'roll', 'konnt', 'tier', 'kauft', 'ind', 'entwed', 'seid', 'liecht', 'nein', 'nai', 'kes', 'wirklich', 'absolut', 'fuck', 'zieh', 'iner', 'hor', 'muend', 'luegt', 'extr', 'kontakt', 'brued', 'sot', 'gruess', 'zahlt', 'interess', 'ztue', 'zemm', 'club', 'dech', 'nomal', 'bestand', '🙃', 'chanc', '9', 'kevin', 'bir', 'spruch', 'fang', 'nr', 'ding', 'gschrib', 'nomol', 'samstig', 'thema', 'ussert', '🙂', 'mitem', 'gnuss', '25', 'ang', 'farb', 'obbis', 'blib', 'chom', '14', 'nom', 'hubsch', 'jaaa', 'werdet', 'verdammt', 'monsch', 'gsesch', 'mah', 'zeigt', 'sunntig', 'bos', 'sowieso', 'einisch', 'ellei', 'verzell', 'freud', '😭', 'furd', 'uh', 'gmerkt', 'gluegt', 'sooo', 'sowas', 'thun', 'huus', 'tv', 'satz', 'ebb', 'gschafft', 'nackt', 'uff', 'anstatt', 'zweit', 'schick', 'mou', 'korp', 'hind', 'mued', 'sell', 'pass', 'stah', 'fleisch', 'willi', 'foti', 'okey', '🤓', 'hoi', 'spannend', 'kurz', 'saub', 'dusch', 'wasi', 'kunnt', 'elei', 'polizei', 'fuess', 'iphon', 'billig', 'end', 'hasslich', 'neus', 'schomal', '😆', 'muet', 'toff', 'jez', 'neb', 'von', 'vou', 'schribt', 'schwierig', 'stark', 'uni', 'imfall', 'sett', 'drus', 'hatti', 'fascht', 'h', 'facebook', 'mantig', 'tot', 'klein', 'merksch', 'nachh', 'sorg', '❤️', 'echli', 'per', 'weissi', 'ligg', 'aa', 'bhf', 'lohnt', 'umgeb', 'gles', 'ehm', 'hemm', 'aarau', 'schriib', 'gued', 'hahahaha', '😃', 'aha', 'heh', 'eier', 'eich', 'barn', 'gfrogt', 'blick', 'weekend', 'bem', 'channel', 'dinn', 'ehn', 'naturli', 'andern', 'geng', 'nimmsch', 'zamm', 'unterschied', 'musst', 'har', 'hock', 'franzos', 'erklar', 'bereit', 'etzt', 'wert', 'furn', 'snapchat', 'frogt', '13', 'uch', 'plotzlich', '😍😍', 'c', 'neii', 'schoggi', 'vorschlag', 'muen', 'strass', 'fruehn', 'treff', 'mir', 'chunnsch', 'won', 'imen', '20min', 'grupp', 'ame', 'badi', 'las', 'fehl', 'vorstell', 'kenned', 'traum', 'sohn', 'merkt', 'jap', 'get', 'situation', 'gno', 'uus', 'gisch', '🙊', 'unterhalt', 'penn', 'denksch', 'partn', 'ope', 'eimal', 'heimat', 'hart', 'diar', 'arschloch', 'zum', 'putz', 'start', 'logisch', 'ganzi', 'hahahah', 'sau', 'lol', 'immerhin', 'dick', 'nech', 'losch', 'nee', 'schweiz', 'suecht', 'epis', 'duu', 'spitz', '😐', 'studium', 'lass', 'schwul', 'herzig', 'spat', 'monat', 'chrank', 'iwi', 'schusch', '😝', 'ahnlich', 'glernt', 'tuur', 'immr', 'ahh', 'wiss', 'restaurant', 'jahrig', 'gag', 'mengisch', 'chamm', 'wien', 'onlin', 'gfahr', '+', '😩', 'probiert', 'fan', 'gosch', '☺', 'woh', 'gseid', '😂😂😂😂', 'nop', 'kha', 'spielt', 'iss', 'ubrig', 'verdient', 'dri', 'stress', 'herz', 'schueh', 'gell', 'choch', 'schwanz', 'frauefeld', 'grusig', 'uhr', 'postet', 'meer', 'zuefall', 'hutt', 'bestimmt', 'tatsach', 'gschrieb', 'hert', 'heb', 'wurk', 'klass', 'interessant', 'bsuech', 'bekannt', 'fu', 'gschicht', 'werded', 'sbb', 'hald', 'fruen', 'doof', 'region', 'allgemein', 'gsie', 'chlini', 'reg', 'jeda', 'fraua', 'fangt', 'usgseh', 'gfragt', '😕', 'solli', 'eue', 'kah', '40', 'schwang', 'fb', 'herr', 'deheim', '😑', 'usland', 'check', 'pc', 'beim', 'ohh', 'obi', 'zeit', 'frank', 'gsund', 'gratuli', 'kuss', 'nennt', 'kondom', 'whatsapp', 'gahn', 'gschaft', 'rest', 'schriebt', 'gsehn', 'folg', 'merk', 'vollig', 'kat', 'oich', 'fiir', 'chur', 'stond', 'simm', 'rechtig', 'mc', 'nomm', 'ziemlich', 'besti', 'freund', 'stort', 'seh', 'praktisch', 'suess', 'watt', 'milch', 'winti', 'ruhig', 'werbig', 'kanton', 'gleich', 'hoor', 'choi', 'anderst', 'fix', 'nia', 'kommt', 'katz', 'flughaf', 'wieviel', 'charakt', 'ps', 'uberleg', 'langt', 'lo', '😓', 'hotel', 'buch', 'brust', 'hanis', 'my', 'warsch', 'bruef', 'fenst', 'danka', 'fisch', 'dafur', 'stolz', 'tod', 'beni', 'konn', 'hang', 'standig', 'gd', 'kv', 'gat', 'giz', 'frueh', 'gitt', 'imn', 'derf', 'amn', 'sunn', 'vllt', 'rs', 'verkauf', 'kli', 'dasd', 'amen', 'positiv', 'fuhlt', 'august', 'nim', 'spontan', 'luft', 'zrug', 'vum', 'lost', 'komplett', 'loch', 'dummi', 'iar', 'luschtig', 'sekund', 'stimm', 'penis', 'lw', 'soviel', 'staffl', 'gschid', 'sofa', 'bueb', 'notig', 'vermiss', 'hoffent', 'dasm', 'nem', 'zh', 'gniess', 'sou', 'blibt', 'werum', 'festival', '100%', 'schwost', 'bau', 'dutschland', 'alti', 'priis', 'achtung', 'louft', 'dru', 'suechsch', 'reis', 'coiffeur', 'drbi', '👍🏻', 'zurch', 'r', 'langi', 'leer', 'hi', 'mittag', 'knapp', 'stuck', 'x', 'geb', 'lock', '😢', 'oaff', 'selt', '@', 'schritt', 'irgendwenn', 'wettsch', 'mo', 'pack', 'wint', 'lohn', 'kino', 'god', 'zviel', 'gruen', 'glac', 'agfang', 'kaffi', 'gerad', 'hsg', 'mund', 'luz', 'ohr', 'nass', 'jz', 'anonym', 'hanni', 'speziell', 'meitli', 'kennelern', 'dialekt', 'gwussi', 'video', 'gescht', 'set', 'text', 'bin', 'hamburg', 'spinn', 'deutsch', 'happy', 'oasg', 'wussed', 'total', 'gnue', 'liebt', 'fehlt', 'zwenig', 'haa', 'weck', '2017', 'lap', 'chalt', 'bwl', 'wasch', 'andersch', 'ung', 'usa', 'gheit', 'nas', 'fahrsch', 'emu', 'verbii', 'gli', 'chillig', 'cooli', 'unterweg', 'wusst', 'muessi', 'g', 'troff', '💪', 'park', 'feria', 'letschti', 'seich', 'schomol', 'steit', 'sagt', 'tind', 'ries', 'freut', 'zahlsch', 'frogsch', 'mimimi', 'viellicht', 'koch', 'unnot', 'euri', 'fend', 'starch', 'lik', 'radio', 'besser', 'brot', 'gurt', 'eper', 'math', 'nachd', 'geisch', 'dus', 'automat', 'thron', '🤔😂', 'bes', 'gess', '11', 'eme', 'vomn', 'wiu', 'alueg', 'chleid', 'haltet', 'peinlich', 'such', 'alk', 'motivation', 'hm', 'ire', 'eigentlech', 'zwusched', 'fick', 'halbi', 'lond', 'sei', 'jaja', 'gloff', 'nachricht', 'fand', 'max', 'mond', 'keni', 'thurgau', 'zimli', 'buro', 'com', 'bracht', 'brief', 'ernsthaft', 'dasch', 'vergass', 'mannlich', 'baby', 'wennt', 'fak', 'f', 'meischt', 'jogg', 'sobald', 'lit', 'fragt', 'usi', 'efach', 'liv', 'gfall', 'lif', 'drog', 'ewig', 'endi', '😫', \"'\", 'kack', '😣', 'gmuetlich', 'ums', 'egau', 'redet', 'list', '26', '😂🙈', 'test', 'usgseht', 'rein', 'wor', 'on', 'mugg', 'suechi', 'banan', 'flasch', 'lieg', 'grill', 'nurno', 'juli', 'passi', '😞', 'weu', 'drah', 'plus', 'schafft', 'mitenand', 'chend', 'ged', 'kuschl', 'fernseh', 'wei', 'stand', 'outo', 'gonn', 'burg', 'normali', 'chumi', 'hen', 'zelt', 'witzig', 'saga', 'znacht', 'wucheend', 'schuld', 'oi', 'trifft', 'krank', '👀', 'chomm', 'obig', 'ischm', 'aba', 'seged', 'verstoh', 'wurklech', 'bachelor', 'zwoi', 'black', 'empfahl', 'wuu', 'vieli', 'erwachs', 'sam', '👌🏻', 'gsehnd', 'frundschaft', 'wilsch', 'brugg', 'muehsam', 'net', 'zerscht', 'gschmack', 'fo', 'usseh', 'wg', 'mail', 'rag', 'geburtstag', 'taglich', 'muass', 'schwirig', 'wuchen', 'hetsch', 'flirtechani', 'bitch', 'schmockt', 'drufah', 'hashtag', 'bsoff', 'erfolg', '😅😂', 'seht', 'muesst', 'strand', 'ken', 'fescht', 'tanz', 'kleid', 'abelad', 'stoh', 'gald', 'polo', 'dringend', 'griff', 'salat', 'ali', 'relativ', 'okei', 'ahfang', '@10', 'drink', 'moll', 'heim', 'gstorb', 'sterb', 'fallt', 'wucha', 'denked', 'muasch', 'bechunsch', 'emn', 'schreib', 'song', 'hassig', 'grosst', 'eina', 'sucht', 'irgendwelchi', 'damal', 'sock', 'mid', 'fuhlsch', 'auno', 'verpasst', 'richtigi', 'med', 'mitti', 'bechum', 'dassd', 'gahsch', 'wohnt', 'du', '❤', 'ersti', 'blitz', 'habt', 'harzig', 'wurdet', 'gsehni', 'esh', 'ziel', 'regnet', 'debii', '🤷🏼\\u200d♀️', '👌🏼', 'gwuss', 'updat', 'foteli', 'privat', 'tut', 'lov', 'nen', 'ufmerksam', 'sem', 'pet', 'polizist', 'chash', 'jungi', 'gab', 'wiis', 'nanig', 'klappt', 'mue', 'vot', 'spar', 'tocht', 'schuch', 'sprich', 'zuekunft', 'bstell', 'muesi', 'nenn', 'gruss', 'laht', 'bewusst', 'schisst', 'idiot', 'wunderschon', 'quasi', 'tisch', 'eiget', 'walt', 'denki', 'jahrigi', 'lug', 'orang', 'drei', 'aktuell', 'balkon', 'evt', 'gras', '👍🏼', 'flach', 'usm', 'weri', 'l', 'parat', 'ov', 'wuki', 'zud', 'verchauf', 'verletzt', 'laba', 'rund', 'gwunn', 'wald', 'mast', 'seb', 'meldet', 'dan', 'koleg', 'kam', 'beleid', 'videos', 'krieg', '✌', 'produkt', 'vielleicht', '😥', 'fremd', 'akku', 'nab', 'schmerz', 'gitz', 'holl', 'chips', 'darfsch', 'truurig', 'liab', 'checkt', 'vilech', 'up', 'ufhor', 'ufstah', 'willkomm', 'franz', 'story', 'flieg', 'wirdi', 'liit', 'lg', '12i', 'losig', 'leba', 'ent', 'wured', 'somm', 'stirbt', 'abo', 'kompliziert', 'cola', 'fruh', 'hoffnig', 'kiff', '1000', 'gass', 'niveau', 'zieht', 'stellt', 'fitness', 'gemacht', 'sg', 'kostet', 'gart', 'sowiso', 'eusi', 'freundin', 'dett', '6i', 'zmach', '45', 'assessment', 'info', 'dunn', 'spil', 'isst', '28', 'hann', 'blond', 'k', 'bh', 'wersch', 'don', 'frusch', 'muul', 'mama', 'schnall', 'segi', 'why', 'kanni', 'unfall', '5i', 'uberleit', 'ko', 'steht', 'tja', 'parkplatz', '😡', 'mueh', '2-3', '60', 'kafi', 'lernt', 'duesch', 'wetti', 'frisch', 'kass', 'ussag', 'intressiert', 'aah', 'schieb', 'emol', 'tuesch', 'schono', 'ubel', 'usserd', '“', 'genial', 'erwart', 'huara', 'hus', 'chostet', 'dorfsch', 'autobahn', 'chouf', 'nd', 'friendzon', 'bstellt', 'hau', 'was', 'jep', 'mehreri', 'jemal', 'gloscht', 'tattoo', 'paus', 'verein', 'vorn', 'renn', 'une', 'nutella', 'girl', 'blas', 'natel', 'jok', 'ching', 'abschluss', 'ers', '😛', 'vogel', 'pris', 'wild', 'bekomm', 'konzert', '😍😍😍', 'band', 'tun', 'kennet', 'heissisch', 'bank', 'wii', 'real', 'haus', 'out', 'figg', 'leg', 'mind', 'mitarbeit', 'mindest', 'bmw', 'tim', 'schau', 'angscht', 'chonnti', '😅😅', 'wixx', 'attraktiv', 'fingi', 'berg', 'schiff', 'hort', 'one', 'gsellschaft', 'drauf', 'sympath', 'zama', 'schnau', 'blieb', 'aar', 'usverseh', 'itali', 'nachbar', 'gsuecht', 'lag', '200', 'telefon', 'neei', 'verdi', 'beweg', 'jugend', 'sexy', 'fakt', 'dud', 'verzellt', 'diskussion', 'glaubi', 'respekt', 'spital', 'angeri', 'wond', 'verwirrt', 'om', 'arbet', 'cod', 'gstand', 'wahrschin', 'hitz', 'wartet', 'madel', 'komischi', 'mus', 'chlii', 'ahn', '2x', 'tolli', 'schaffet', 'dor', 'morga', 'tee', 'mitneh', 'fress', 'bedutet', 'romant', 'xi', 'autos', 'zog', 'yes', 'nutzt', 'sitt', 'namal', 'niid', 'rueh', 'sound', 'aun', 'servic', 'ihrn', 'break', 'gusch', 'wechsl', 'himmel', '4i', 'dir', 'zha', 'star', 'frond', 'liegt', 'einsam', '1x', 'ebbis', 'gahd', 'ey', '😶', 'drmit', 'aner', 'firma', 'vergiss', 'wuk', 'eba', 'interessi', '3er', 'what', 'noh', 'sottsch', 'sglich', 'v', 'brutal', 'hobby', 'sgfuhl', 'erwartet', 'abend', 'traff', 'swisscom', 'trunk', 'rum', 'dena', '--', 'beidn', 'dach', 'kenneglernt', 'spiegel', 'kund', 'setz', 'erlebt', 'gsproch', 'wis', 'mussi', 'duschi', 'bruchi', 'uuf', 'kumm', 'vorteil', 'schribsch', 'gwitt', 'wared', 'gomm', 'dran', 'sozial', 'mark', 'lis', 'freiwill', 'jooo', 'wiem', 'heftig', 'woll', 'autofahr', 'stock', 'furz', 'hell', 'bluet', '80', 'wasd', 'ssj', 'down', 'nebed', 'agebot', 'ufn', 'leist', 'versteh', 'verwutscht', 'letst', 'septemb', 'aargau', 'held', 'eth', 'versuecht', 'begriff', 'amu', 'desweg', 'jedoch', 'bechunnt', 'mitemn', '🤔🤔', 'nehm', 'asiat', 'erreicht', 'win', 'verglich', 'fuessball', 'wahrschinli', 'mercii', 'grat', 'sies', 'trag', 'jed', 'entschuld', 'schwizerdutsch', 'hocksch', 'somit', 'termin', 'klaut', 'sitzt', 'typisch', 'anschin', 'nagel', 'alban', 'chlis', 'schaffa', 'wahl', '90', 'heissi', 'denket', 'lies', 'intress', 'prison', 'olt', 'chann', 'sali', 'rap', 'un', '2h', 'suff', 'sa', 'schlechti', 'back', 'fed', 'bizli', 'lahn', 'drzue', 'ai', 'pill', 'ufgfall', '@11', 'gschlecht', 'damfau', '🎉', 'fuecht', 'rappi', 'workli', 'fair', 'bach', 'big', 'huut', 'erkennt', '20i', 'baum', 'styl', 'geseh', 'eidut', 'emal', 'langet', 'rundi', 'weit', 'sotti', 'lauch', 'spani', 'glaubt', 'mom', 'mentig', 'ph', 'ghorsch', 'chat', 'jean', 'dabei', 'schnitt', 'chuchi', 'fit', 'vori', 'depression', 'drfur', 'redsch', 'riis', 'rasi', 'joor', 'ois', 'plotzli', 'studiert', 'wk', 'mull', 'naturlech', 'fruech', 'lernsch', 'roti', 'ruum', 'dont', 'hmmm', 'villech', 'abem', 'lueged', 'packli', 'ws', 'fragsch', 'hihi', 'astand', 'rock', 'meined', 'wella', 'busi', 'ihr', 'heti', 'zeich', 'chlei', 'zah', 'ging', 'fuul', 'trozd', 'grundsatz', '🙈😂', 'foreveralon', 'rat', 'spotify', 'offent', 'sosch', 'rezept', 'half', 'bruuch', 'sprach', 'zfried', 'ev', 'ironi', '🙌', 'harry', 'usbild', 'gnoh', 'zuck', 'went', 'zumind', '😂😅', 'steck', 'eppert', '27', 'umgekehrt', 'kampf', 'polit', 'benutz', 'bechunt', 'mueni', 'betrunk', 'behindert', 'breaking', 'hubschi', 'nervt', 'eimol', 'albani', 'team', 'zo', 'putzt', 'dad', 'luegi', 'www', 'kenna', 'guata', 'wahnsinn', 'swiss', 'g20', 'rapp', 'heicho', 'gym', 'zmorg', 'hoffentli', 'besseri', 'emen', 'sega', 'mitbewohn', 'machem', 'via', 'schwarzi', 'leistig', 'schlau', 'sing', 'ernahr', 'dankbar', 'passend', 'arrogant', 'legal', 'nochli', 'cousin', 'kamera', 'verhalt', 'chines', 'strom', 'rip', 'nerv', 'sy', 'm20', 'weisi', 'unglaub', 'brauch', 'training', 'ups', 'zerstort', 'nami', '18ni', 'erinner', 'korrekt', 'chonti', 'chontsch', 'hurat', 'puff', 'mac', 'troch', 'buechstab', 'chonnd', 'jungfrau', 'stei', 'bsund', 'eventuell', 'ufer', 'wlan', 'gwohnt', 'bliib', 'abstand', 'new', 'lebt', 'rugg', '🤷🏼\\u200d♂️', 'imfau', 'regelmass', 'bewerb', 't-shirt', 'fach', 'ablenk', 'opf', 'regel', 'rassist', 'daa', 'wurdsch', 'match', 'jedesmal', 'infos', 'mittwuch', 'maximilian', 'mutt', 'verbot', 'erlaubt', 'fium', 'fir', 'suuf', 'wieni', 'dritt', 'ignori', 'scham', 'noo', 'verbring', 'fragenuberfrag', 'dorfi', 'ziemli', 'ines', 'churzi', 'worda', 'endli', 'desto', 'verlur', 'lachl', 'nuut', 'minus', 'baustell', 'ids', 'oha', 'ubercho', 'irgendwas', 'chumm', 'supp', 'steu', 'verarscht', 'harz', 'nutz', '🤦🏼\\u200d♀️', 'eifacht', 'unt', '😯', 'bitzli', 'lernphas', 'chart', 'nervos', 'kaff', 'kur', 'glichi', 'sieht', 'block', 'moderator', 'schoon', 'fahl', '1-2', 'ros', 'sch', 'leck', 'kolleginn', 'degeg', 'issisch', 'einzigi', 'schloss', 'fahra', 'plotzlech', 'sms', 'saged', 'jop', 'ehe', 'notgeil', 'mod', 'mes', 'gsi😂', 'chest', 'km', 'bringsch', 'vertrau', 'europa', 'lovoo', 'besuch', 'fau', 'vermuet', 'lueget', 'reda', 'klappet', 'meini', 'tip', 'traini', 'aktiv', 'good', 'wema', 'option', 'buur', 'cheib', 'waut', 'glock', 'stor', 'darfi', 'suit', 'rucksack', 'amol', 'hing', 'bedut', 'camping', 'konto', 'your', 'gset', '🙌🏻', 'schoo', 'bruscht', 'ziet', 'ouu', 'programm', 'gend', 'mundlich', 'kalt', 'dah', 'heii', 'gsy', 'erd', 'religion', 'diskuti', 'strang', 'energi', 'usegfund', 'laptop', 'hiuft', 'spaghetti', 'bart', 'lig', 'stutz', 'drvo', 'next', 'magsch', 'suss', 'munich', '5min', 'theoret', 'drinn', 'istell', 'abgeh', 'ligt', 'druckt', 'w21', 'gegenub', 'verstond', 'ezt', 'null', '😵', 'schiint', 'panik', 'trotz', 'andi', 'guati', 'boot', 'umd', 'true', 'schwar', 'vorau', 'namli', 'glehrt', 'moss', 'ring', 'jezt', 'benutzt', 'ann', 'gmold', 'fahred', 'soooo', 'dreck', 'euchi', 'usprobi', 'mein', 'hufig', 'schriebsch', 'raus', 'amerika', 'gehort', 'trump', 'jah', 'trinkt', 'ahlueg', 'maschin', 'weish', 'auu', 'acho', '150', 'biet', 'wunscht', 'geschrieb', 'high', 'schwitz', 'erchlar', 'getrank', 'namlich', 'hb', 'dunkel', 'chomet', 'liabi', 'pott', 'lack', 'nachem', 'wahrschindli', '🤷', 'essa', 'billet', 'negst', 'hatsch', 'chf', 'artikel', 'hoh', 'gau', 'lenzburg', 'ener', 'chent', 'family', 'werom', 'brud', 'nomau', 'stur', 'gesagt', 'kontroll', 'uberhoupt', 'derbi', 'buess', 'fendi', 'verkauft', 'ans', 'versicher', 'gfueu', 'kensch', 'linkin', 'verlieb', 'decki', 'eg', 'box', '•', 'luaga', 'io', '😂👌', 'pfann', 'wochen', 'ufstoh', 'bisi', 'hutzutag', '🍻', 'doktor', 'solothurn', 'gangi', 'music', 'tram', 'hattsch', 'salz', 'wolf', 'hof', '✌🏼', 'm23', 'schwach', 'jedefall', 'tua', 'brocht', 'spazi', 'deutschland', 'umgab', 'dera', 'schiess', 'stross', 'isch😂', 'geburi', 'downgvotet', 'phas', 'regl', 'woss', 'zua', 'bruucht', 'ime', 'medi', 'gschiss', 'gefuhl', 'hockt', 'biss', 'beantwort', 'ton', 'moched', 'zellt', 'schutz', 'negativ', 'kart', 'ver', 'verarsch', 'prinzip', 'frondin', 'gschlacht', 'gschickt', 'sowit', 'ikea', '😮', 'ball', 'ge', 'flirt', 'thailand', 'mitt', 'schul', 'derfsch', 'motz', 'kopfhor', 'websit', 'ahgfang', '✌️', 'hous', 'hochdutsch', 'spricht', 'stinkt', 'cbd', 'wahri', 'ohhh', 'hahha', 'qualitat', 'zuestand', '-ich', 'normau', 'daheim', 'garag', 'wallis', 'are', 'wiblich', 'mass', 'koff', 'ever', 'tuend', 'ufreg', 'schreibt', 'gra', 'werda', 'stern', 'fingsch', 'womm', 'vier', 'gan', 'pennt', 'auss', 'genug', 'vorhar', 'ui', 'day', 'tell', 'miet', 'afo', 'eut', 'hab', 'afa', 'gfung', 'ragnet', 'grenz', 'wan', 'form', 'drom', 'ufen', '🤦🏻\\u200d♂️', 'laufsch', 'schuss', 'nani', 'if', 'tuat', 'mos', 'fuehl', 'android', 'vorus', 'zmittag', 'ed', 'last', 'oma', '3-4', 'basl', 'ussicht', 'minr', 'gschlaf', 'fucking', 'wukli']\n",
            "acum lungimea este 2800  iar lista este  ['isch', 'de', 'au', 'i', 'ja', 'e', 'en', 'no', 'uf', 'het', 'bi', 'nid', 'ha', '😂', 'scho', 'vo', 'ned', 'd', 'mer', 'han', 'nod', 'hesch', 'bisch', 'z', '@1', '@2', 'eifach', 'a', 'mal', 'guet', 'imm', 'si', 's', '@oj', 'mach', 'u', '-', 'dr', 'grad', 'gsi', 'mi', 'nei', 'di', 'us', 'kei', '@3', 'jo', 'git', '2', 'hani', 'hend', 'mini', 'me', 'chli', 'ah', 'jodel', 'haha', 'wer', 'ganz', 'war', 'min', 'go', '😅', 'schon', 'weiss', 'meh', 'frau', 'esch', 'mol', '🤔', 'chasch', '1', 'tag', 'dank', 'hut', 'ds', 'cha', '@4', 'bim', 'opp', 'num', 'wieso', 'sich', 'gern', 'glaub', 'nut', 'alt', '😉', 'lieb', 'lut', 'ide', 'eh', 'gha', 'lang', 'nie', 'nit', '3', 'do', 'ond', 'macht', 'da', 'oj', 'voll', 'glich', 'find', 'chan', 'lueg', '😊', 'gmacht', 'o', 'w', 'richtig', 'alli', 'mega', 'bess', 'm', 'genau', 'dini', 'hed', 'ig', 'well', 'gseh', 'muess', 'leid', 'em', 'din', 'jahr', 'ab', 'wenn', 'schaff', 'erst', '🙈', '😂😂', 'halt', 'kolleg', 'aso', 'wurd', 'cho', 'gad', 'scheiss', '&', 'paar', 'mis', 'geil', 'det', 'frag', 'sit', 'abr', 'ou', 'feri', 'sorry', '@5', 'hett', 'gaht', 'oh', 'muesch', 'oppis', 'is', '5', 'gar', 'moment', 'selb', 'na', 'gang', 'mau', 'hei', 'zug', 'hat', 'kenn', 'bitt', 'bini', 'ohni', 'mann', 'oper', 'wuch', 'gueti', 'word', 'ebe', 'sag', 'seg', 'morn', 'recht', 'mim', 'best', '😍', 'heisst', 'wen', '😄', 'ish', 'ech', 'frund', 'all', 'wur', 'numm', 'ih', 'as', 'probl', 'hand', 'ni', 'ke', 'sup', 'eu', 'seit', 'ga', 'ma', 'wett', 'sach', '4', 'gseit', 'chunt', 'weisch', 'echt', 'be', 'morg', 'ne', 'wennd', '😁', 'frog', 'bett', 'gross', 'id', 'person', 'eher', 'ez', 'gah', 'nach', 'odr', 'mit', 'los', 'met', '🙄', 'hahaha', 'gseht', 'druf', 'frundin', 'eini', 'goht', 'wenig', 'opis', 'lauft', 'eis', 'cham', 'has', 'fall', 'kik', 'typ', 'schlimm', 'ufem', 'chunnt', 'leb', 'jaa', 'sex', '@6', 'mr', 'sech', 'jhj', 'chum', 'denk', 'sogar', 'woni', 'ess', '^^', 'klar', 'kennt', 'use', 'denkt', 'neu', 'merci', 'schnell', 'auto', 'eigent', 'dia', 'lust', 'gluck', 'wiso', 'suech', 'liebi', 'sii', 'machsch', 'ziit', 'fahr', 'dur', 'bier', 'fur', '😂😂😂', 'ir', 'mensch', 'den', 'ok', 'viu', '😏', 'sin', 'wed', 'dis', 'spass', 'demfall', 'son', 'bruch', 'susch', 'zwei', 'chani', 'cool', 'we', 'anderi', 'meist', 'drum', 'meinsch', 'ka', 'eif', 'passiert', 'geh', 'huer', 'brucht', 'luut', 'eig', 'gmeint', 'sott', 'xd', 'jodl', 'nam', 'for', 'schlecht', 'egal', 'ghort', 'wos', 'der', 'schrib', 'wid', '20', 'wel', '10', 'eus', 'red', 'wend', 'vill', 'gest', 'geld', 'the', 'zit', 'wenni', 'b', 'etz', 'schlaf', 'einzig', 'handy', 'wag', 'falsch', 'weg', 'erfahr', 'nacht', 'wart', 'eim', 'hahah', 'vlt', 'mues', 'abe', 'stimmt', 'zuri', 'hie', 'jetz', 'besch', 'hatt', 'irgendwi', 'trotzd', 'wa', 'send', 'geit', 'lehr', '😜', 'easy', 'wia', 'dra', 'hey', 'ine', 'hasch', 'gfuhl', 'zue', 'wohl', 'wach', 'ober', 'fast', 'hoff', 'trink', 'gfund', 'wass', 'usgang', 'das', 'chond', 'dim', 'abig', 'bild', 'nah', 'warum', 'garn', 'gut', 'iz', 'johr', 'film', 'normal', 'lab', 'soll', 'witz', 'mehr', 'wem', 'wurkli', 'sini', 'of', 'monet', 'heiss', 'bezieh', 'ume', 'nu', 'wi', 'dert', 'frou', 'post', 'lustig', 'mier', 'stadt', 'wird', 'mami', 'wott', 'jung', 'kollegin', 'antwort', 'dat', 'schrieb', 'chind', 'oft', 'auso', 'wuss', 'wit', 'ahnig', 'ca', 'dasi', 'teil', 'her', 'grund', 'weni', 'obe', 'wort', 'gnueg', 'becho', 'ufe', 'wot', 'debi', 'schwiz', 'findi', 'fertig', 'vorh', 'keis', '6', 'stund', 'beid', 'usem', 'noch', 'tont', 'allei', 'dam', 'findet', 'googl', '7', '@7', 'aui', 'frei', 'wichtig', 'p', 'dumm', 'gib', 'stell', 'chont', 'nix', 'obb', 'nimm', 'chonnt', '18', 'ufs', 'arsch', 'lern', 'se', 'angst', 'will', 'amig', 'noni', '0', 'geg', 'etc', 'tur', 'langsam', 'wetsch', 'hund', 'ar', 'musch', 'sinn', 'maa', 'sind', 'soo', 'und', 'see', 'wotsch', 'sust', 'vod', 'neui', 'inn', 'toll', 'fuhl', 'halb', 'repost', 'platz', 'je', 'wiit', 'nor', 'chonn', 'passt', 'drub', 'ane', 'ihri', '😋', 'emm', 'wirsch', 'off', 'app', 'la', 'vu', 'ner', 'letscht', 'epp', 'demit', 'spiel', 'nud', 'zam', 'seri', 'bish', 'zahl', 'chauf', 'nar', 'lauf', 'gratis', 'wemm', 'vor', 'minut', 'chunsch', 'ade', 'schuel', 'komisch', 'schwarz', 'gse', 'gond', 'niemert', 'mag', 'arm', 'dorf', 'chas', 'bruchsch', 'ort', 'fing', 'summ', 'ex', 'niem', 'wohn', 'probi', 'lah', 'bring', 'mitm', 'job', 'berlin', 'wies', 'defur', 'schwiiz', 'weis', 'tue', 'hesh', 'immerno', 'vorall', 'hallo', 'pizza', 'wenigst', 'suscht', 'lied', 'gliich', 'racht', 'uberhaupt', 'seisch', 'netflix', '30', 'gsii', 'internet', 'wurdi', 'wom', 'kommentar', 'wc', '😎', 'welt', 'elt', '☺️', 'dezu', 'gott', 'tipps', 'schad', 'bus', '😘', 'naja', 'meinig', 'schoni', 'natur', 'hmm', 'ticket', '=', 'ben', 'froh', 'nonig', 'tuet', 'lach', 'kenni', 'dutsch', '21', 'hamm', 'letzt', 'bringt', 'blod', 'ernst', 'sis', 'nimmt', '@8', 'duss', 'top', 'tipp', 'ufd', 'gid', 'oke', 'vat', 'nochi', 'dort', 'gloub', 'uss', 'ersch', 'schluss', 'kind', 'obs', 'ass', 'mached', 'machi', 'gibt', 'bescht', 'aues', 'fasch', 'zeig', 'bald', 'zrugg', 'wil', 'haut', 'afang', 'bock', 'upvot', '🤗', 'vell', 'biz', '15', 'and', 'downvot', 'fein', 'staht', 'buech', 'grossi', 'churz', 'moglich', 'chatz', 't', 'ob', 'dot', 'okay', 'alln', 'chlin', 'beidi', 'zimm', 'bar', 'land', 'einfach', 'militar', 'kennsch', 'fahrt', 'ihn', 'oppert', 'wod', 'chund', 'rot', 'lad', 'verbi', 'hilft', 'bad', 'ad', 'art', 'singl', 'geht', 'solang', 'wunsch', 'zem', 'chill', 'jemand', 'bahnhof', 'fr', 'denn', 'hast', 'obis', 'willsch', 'weh', 'wuri', 'not', 'momentan', 'miar', 'wet', 'chon', 'hass', 'irgendwo', 'gam', 'hilf', '👍', 'leut', 'erscht', 'wund', 'ei', 'langwil', 'neh', 'guat', 'aug', 'druff', 'humor', 'gedank', 'hol', 'momant', 'glas', 'pro', 'zerst', 'gnau', 'schwer', 'direkt', 'mocht', 'empfehl', 'musig', 'gwusst', 'papi', 'wou', 'zb', 'hos', 'coop', 'darf', 'extra', 'bid', '19', 'kasch', 'flug', 'uberall', '17', 'party', 'ehr', 'arzt', 'rauch', 'sport', 'bro', '12', 'irgend', 'studi', 'villicht', '8', '😇', 'openair', 'famili', 'hauptsach', '😬', 'arbeit', 'ch', 'definitiv', 'stoht', 'wand', 'jedi', 'hetti', 'schlof', 'woch', 'bzw', 'eint', 'heit', 'got', 'dehei', 'schu', 'welli', 'snap', 'gsehsch', 'sho', 'dihei', 'aut', 'vilicht', 'chopf', 'plan', 'omg', 'mangisch', '50', 'obwohl', 'schaffsch', 'ach', 'student', 'warm', 'eppis', 'freu', 'dann', 'krass', 'bern', 'wann', 'haar', 'heut', 'findsch', 'ich', 'muett', 'bitz', 'helf', '😳', 'hoch', 'sim', '22', 'itz', 'unbedingt', 'wohnig', 'kauf', 'meint', 'zersch', 'pruefig', 'hot', 'macha', 'link', 'spot', 'dier', 'versuech', 'shit', 'salb', 'vil', 'dankt', 'acht', 'sry', 'joo', 'karma', 'alkohol', '🤣', 'darum', 'ward', 'bevor', 'uber', 'wow', '👌', '😌', 'schlacht', 'luscht', 'eigentli', 'wohnsch', 'perfekt', '00', 'fett', 'you', 'sitz', 'endlich', 'to', '😀', 'migros', 'les', 'ein', 'schatz', 'vergess', 'wari', 'prufung', 'bod', 'ere', 'kai', 'keini', 'usw', 'verstand', 'werd', 'wosch', '😱', 'gall', 'ghor', 'statt', 'meld', 'due', 'chef', 'n', 'viel', 'dassi', 'zyt', 'punkt', 'fest', 'devo', 'gsicht', 'siech', 'musik', '😒', 'gunstig', 'komm', 'ii', 'aua', 'machet', 'ehrlich', 'st', 'verliebt', 'druck', 'insta', '100', 'eso', 'ufm', 'nett', 'glucklich', 'verstah', 'wurklich', 'trurig', 'kann', 'mech', 'kopf', 'aub', 'wahr', 'weli', '😔', 'widr', 'dass', 'opert', 'muss', 'nic', 'wtf', 'evtl', 'loh', 'gfallt', 'youtub', 'sus', '24', 'schiss', 'sofort', 'entscheid', 'he', 'fritig', 'wes', 'zwusch', 'eui', 'verlor', 'luegsch', '16', 'geili', 'kaputt', 'siit', 'englisch', 'vegan', 'amel', '@9', 'blau', 'drin', 'interessiert', 'velo', 'duet', 'sack', 'it', 'goh', 'wursch', 'hung', '23', 'funktioniert', 'ier', 'gasch', 'chomed', 'sig', 'vom', 'zom', 'roll', 'konnt', 'tier', 'kauft', 'ind', 'entwed', 'seid', 'liecht', 'nein', 'nai', 'kes', 'wirklich', 'absolut', 'fuck', 'zieh', 'iner', 'hor', 'muend', 'luegt', 'extr', 'kontakt', 'brued', 'sot', 'gruess', 'zahlt', 'interess', 'ztue', 'zemm', 'club', 'dech', 'nomal', 'bestand', '🙃', 'chanc', '9', 'kevin', 'bir', 'spruch', 'fang', 'nr', 'ding', 'gschrib', 'nomol', 'samstig', 'thema', 'ussert', '🙂', 'mitem', 'gnuss', '25', 'ang', 'farb', 'obbis', 'blib', 'chom', '14', 'nom', 'hubsch', 'jaaa', 'werdet', 'verdammt', 'monsch', 'gsesch', 'mah', 'zeigt', 'sunntig', 'bos', 'sowieso', 'einisch', 'ellei', 'verzell', 'freud', '😭', 'furd', 'uh', 'gmerkt', 'gluegt', 'sooo', 'sowas', 'thun', 'huus', 'tv', 'satz', 'ebb', 'gschafft', 'nackt', 'uff', 'anstatt', 'zweit', 'schick', 'mou', 'korp', 'hind', 'mued', 'sell', 'pass', 'stah', 'fleisch', 'willi', 'foti', 'okey', '🤓', 'hoi', 'spannend', 'kurz', 'saub', 'dusch', 'wasi', 'kunnt', 'elei', 'polizei', 'fuess', 'iphon', 'billig', 'end', 'hasslich', 'neus', 'schomal', '😆', 'muet', 'toff', 'jez', 'neb', 'von', 'vou', 'schribt', 'schwierig', 'stark', 'uni', 'imfall', 'sett', 'drus', 'hatti', 'fascht', 'h', 'facebook', 'mantig', 'tot', 'klein', 'merksch', 'nachh', 'sorg', '❤️', 'echli', 'per', 'weissi', 'ligg', 'aa', 'bhf', 'lohnt', 'umgeb', 'gles', 'ehm', 'hemm', 'aarau', 'schriib', 'gued', 'hahahaha', '😃', 'aha', 'heh', 'eier', 'eich', 'barn', 'gfrogt', 'blick', 'weekend', 'bem', 'channel', 'dinn', 'ehn', 'naturli', 'andern', 'geng', 'nimmsch', 'zamm', 'unterschied', 'musst', 'har', 'hock', 'franzos', 'erklar', 'bereit', 'etzt', 'wert', 'furn', 'snapchat', 'frogt', '13', 'uch', 'plotzlich', '😍😍', 'c', 'neii', 'schoggi', 'vorschlag', 'muen', 'strass', 'fruehn', 'treff', 'mir', 'chunnsch', 'won', 'imen', '20min', 'grupp', 'ame', 'badi', 'las', 'fehl', 'vorstell', 'kenned', 'traum', 'sohn', 'merkt', 'jap', 'get', 'situation', 'gno', 'uus', 'gisch', '🙊', 'unterhalt', 'penn', 'denksch', 'partn', 'ope', 'eimal', 'heimat', 'hart', 'diar', 'arschloch', 'zum', 'putz', 'start', 'logisch', 'ganzi', 'hahahah', 'sau', 'lol', 'immerhin', 'dick', 'nech', 'losch', 'nee', 'schweiz', 'suecht', 'epis', 'duu', 'spitz', '😐', 'studium', 'lass', 'schwul', 'herzig', 'spat', 'monat', 'chrank', 'iwi', 'schusch', '😝', 'ahnlich', 'glernt', 'tuur', 'immr', 'ahh', 'wiss', 'restaurant', 'jahrig', 'gag', 'mengisch', 'chamm', 'wien', 'onlin', 'gfahr', '+', '😩', 'probiert', 'fan', 'gosch', '☺', 'woh', 'gseid', '😂😂😂😂', 'nop', 'kha', 'spielt', 'iss', 'ubrig', 'verdient', 'dri', 'stress', 'herz', 'schueh', 'gell', 'choch', 'schwanz', 'frauefeld', 'grusig', 'uhr', 'postet', 'meer', 'zuefall', 'hutt', 'bestimmt', 'tatsach', 'gschrieb', 'hert', 'heb', 'wurk', 'klass', 'interessant', 'bsuech', 'bekannt', 'fu', 'gschicht', 'werded', 'sbb', 'hald', 'fruen', 'doof', 'region', 'allgemein', 'gsie', 'chlini', 'reg', 'jeda', 'fraua', 'fangt', 'usgseh', 'gfragt', '😕', 'solli', 'eue', 'kah', '40', 'schwang', 'fb', 'herr', 'deheim', '😑', 'usland', 'check', 'pc', 'beim', 'ohh', 'obi', 'zeit', 'frank', 'gsund', 'gratuli', 'kuss', 'nennt', 'kondom', 'whatsapp', 'gahn', 'gschaft', 'rest', 'schriebt', 'gsehn', 'folg', 'merk', 'vollig', 'kat', 'oich', 'fiir', 'chur', 'stond', 'simm', 'rechtig', 'mc', 'nomm', 'ziemlich', 'besti', 'freund', 'stort', 'seh', 'praktisch', 'suess', 'watt', 'milch', 'winti', 'ruhig', 'werbig', 'kanton', 'gleich', 'hoor', 'choi', 'anderst', 'fix', 'nia', 'kommt', 'katz', 'flughaf', 'wieviel', 'charakt', 'ps', 'uberleg', 'langt', 'lo', '😓', 'hotel', 'buch', 'brust', 'hanis', 'my', 'warsch', 'bruef', 'fenst', 'danka', 'fisch', 'dafur', 'stolz', 'tod', 'beni', 'konn', 'hang', 'standig', 'gd', 'kv', 'gat', 'giz', 'frueh', 'gitt', 'imn', 'derf', 'amn', 'sunn', 'vllt', 'rs', 'verkauf', 'kli', 'dasd', 'amen', 'positiv', 'fuhlt', 'august', 'nim', 'spontan', 'luft', 'zrug', 'vum', 'lost', 'komplett', 'loch', 'dummi', 'iar', 'luschtig', 'sekund', 'stimm', 'penis', 'lw', 'soviel', 'staffl', 'gschid', 'sofa', 'bueb', 'notig', 'vermiss', 'hoffent', 'dasm', 'nem', 'zh', 'gniess', 'sou', 'blibt', 'werum', 'festival', '100%', 'schwost', 'bau', 'dutschland', 'alti', 'priis', 'achtung', 'louft', 'dru', 'suechsch', 'reis', 'coiffeur', 'drbi', '👍🏻', 'zurch', 'r', 'langi', 'leer', 'hi', 'mittag', 'knapp', 'stuck', 'x', 'geb', 'lock', '😢', 'oaff', 'selt', '@', 'schritt', 'irgendwenn', 'wettsch', 'mo', 'pack', 'wint', 'lohn', 'kino', 'god', 'zviel', 'gruen', 'glac', 'agfang', 'kaffi', 'gerad', 'hsg', 'mund', 'luz', 'ohr', 'nass', 'jz', 'anonym', 'hanni', 'speziell', 'meitli', 'kennelern', 'dialekt', 'gwussi', 'video', 'gescht', 'set', 'text', 'bin', 'hamburg', 'spinn', 'deutsch', 'happy', 'oasg', 'wussed', 'total', 'gnue', 'liebt', 'fehlt', 'zwenig', 'haa', 'weck', '2017', 'lap', 'chalt', 'bwl', 'wasch', 'andersch', 'ung', 'usa', 'gheit', 'nas', 'fahrsch', 'emu', 'verbii', 'gli', 'chillig', 'cooli', 'unterweg', 'wusst', 'muessi', 'g', 'troff', '💪', 'park', 'feria', 'letschti', 'seich', 'schomol', 'steit', 'sagt', 'tind', 'ries', 'freut', 'zahlsch', 'frogsch', 'mimimi', 'viellicht', 'koch', 'unnot', 'euri', 'fend', 'starch', 'lik', 'radio', 'besser', 'brot', 'gurt', 'eper', 'math', 'nachd', 'geisch', 'dus', 'automat', 'thron', '🤔😂', 'bes', 'gess', '11', 'eme', 'vomn', 'wiu', 'alueg', 'chleid', 'haltet', 'peinlich', 'such', 'alk', 'motivation', 'hm', 'ire', 'eigentlech', 'zwusched', 'fick', 'halbi', 'lond', 'sei', 'jaja', 'gloff', 'nachricht', 'fand', 'max', 'mond', 'keni', 'thurgau', 'zimli', 'buro', 'com', 'bracht', 'brief', 'ernsthaft', 'dasch', 'vergass', 'mannlich', 'baby', 'wennt', 'fak', 'f', 'meischt', 'jogg', 'sobald', 'lit', 'fragt', 'usi', 'efach', 'liv', 'gfall', 'lif', 'drog', 'ewig', 'endi', '😫', \"'\", 'kack', '😣', 'gmuetlich', 'ums', 'egau', 'redet', 'list', '26', '😂🙈', 'test', 'usgseht', 'rein', 'wor', 'on', 'mugg', 'suechi', 'banan', 'flasch', 'lieg', 'grill', 'nurno', 'juli', 'passi', '😞', 'weu', 'drah', 'plus', 'schafft', 'mitenand', 'chend', 'ged', 'kuschl', 'fernseh', 'wei', 'stand', 'outo', 'gonn', 'burg', 'normali', 'chumi', 'hen', 'zelt', 'witzig', 'saga', 'znacht', 'wucheend', 'schuld', 'oi', 'trifft', 'krank', '👀', 'chomm', 'obig', 'ischm', 'aba', 'seged', 'verstoh', 'wurklech', 'bachelor', 'zwoi', 'black', 'empfahl', 'wuu', 'vieli', 'erwachs', 'sam', '👌🏻', 'gsehnd', 'frundschaft', 'wilsch', 'brugg', 'muehsam', 'net', 'zerscht', 'gschmack', 'fo', 'usseh', 'wg', 'mail', 'rag', 'geburtstag', 'taglich', 'muass', 'schwirig', 'wuchen', 'hetsch', 'flirtechani', 'bitch', 'schmockt', 'drufah', 'hashtag', 'bsoff', 'erfolg', '😅😂', 'seht', 'muesst', 'strand', 'ken', 'fescht', 'tanz', 'kleid', 'abelad', 'stoh', 'gald', 'polo', 'dringend', 'griff', 'salat', 'ali', 'relativ', 'okei', 'ahfang', '@10', 'drink', 'moll', 'heim', 'gstorb', 'sterb', 'fallt', 'wucha', 'denked', 'muasch', 'bechunsch', 'emn', 'schreib', 'song', 'hassig', 'grosst', 'eina', 'sucht', 'irgendwelchi', 'damal', 'sock', 'mid', 'fuhlsch', 'auno', 'verpasst', 'richtigi', 'med', 'mitti', 'bechum', 'dassd', 'gahsch', 'wohnt', 'du', '❤', 'ersti', 'blitz', 'habt', 'harzig', 'wurdet', 'gsehni', 'esh', 'ziel', 'regnet', 'debii', '🤷🏼\\u200d♀️', '👌🏼', 'gwuss', 'updat', 'foteli', 'privat', 'tut', 'lov', 'nen', 'ufmerksam', 'sem', 'pet', 'polizist', 'chash', 'jungi', 'gab', 'wiis', 'nanig', 'klappt', 'mue', 'vot', 'spar', 'tocht', 'schuch', 'sprich', 'zuekunft', 'bstell', 'muesi', 'nenn', 'gruss', 'laht', 'bewusst', 'schisst', 'idiot', 'wunderschon', 'quasi', 'tisch', 'eiget', 'walt', 'denki', 'jahrigi', 'lug', 'orang', 'drei', 'aktuell', 'balkon', 'evt', 'gras', '👍🏼', 'flach', 'usm', 'weri', 'l', 'parat', 'ov', 'wuki', 'zud', 'verchauf', 'verletzt', 'laba', 'rund', 'gwunn', 'wald', 'mast', 'seb', 'meldet', 'dan', 'koleg', 'kam', 'beleid', 'videos', 'krieg', '✌', 'produkt', 'vielleicht', '😥', 'fremd', 'akku', 'nab', 'schmerz', 'gitz', 'holl', 'chips', 'darfsch', 'truurig', 'liab', 'checkt', 'vilech', 'up', 'ufhor', 'ufstah', 'willkomm', 'franz', 'story', 'flieg', 'wirdi', 'liit', 'lg', '12i', 'losig', 'leba', 'ent', 'wured', 'somm', 'stirbt', 'abo', 'kompliziert', 'cola', 'fruh', 'hoffnig', 'kiff', '1000', 'gass', 'niveau', 'zieht', 'stellt', 'fitness', 'gemacht', 'sg', 'kostet', 'gart', 'sowiso', 'eusi', 'freundin', 'dett', '6i', 'zmach', '45', 'assessment', 'info', 'dunn', 'spil', 'isst', '28', 'hann', 'blond', 'k', 'bh', 'wersch', 'don', 'frusch', 'muul', 'mama', 'schnall', 'segi', 'why', 'kanni', 'unfall', '5i', 'uberleit', 'ko', 'steht', 'tja', 'parkplatz', '😡', 'mueh', '2-3', '60', 'kafi', 'lernt', 'duesch', 'wetti', 'frisch', 'kass', 'ussag', 'intressiert', 'aah', 'schieb', 'emol', 'tuesch', 'schono', 'ubel', 'usserd', '“', 'genial', 'erwart', 'huara', 'hus', 'chostet', 'dorfsch', 'autobahn', 'chouf', 'nd', 'friendzon', 'bstellt', 'hau', 'was', 'jep', 'mehreri', 'jemal', 'gloscht', 'tattoo', 'paus', 'verein', 'vorn', 'renn', 'une', 'nutella', 'girl', 'blas', 'natel', 'jok', 'ching', 'abschluss', 'ers', '😛', 'vogel', 'pris', 'wild', 'bekomm', 'konzert', '😍😍😍', 'band', 'tun', 'kennet', 'heissisch', 'bank', 'wii', 'real', 'haus', 'out', 'figg', 'leg', 'mind', 'mitarbeit', 'mindest', 'bmw', 'tim', 'schau', 'angscht', 'chonnti', '😅😅', 'wixx', 'attraktiv', 'fingi', 'berg', 'schiff', 'hort', 'one', 'gsellschaft', 'drauf', 'sympath', 'zama', 'schnau', 'blieb', 'aar', 'usverseh', 'itali', 'nachbar', 'gsuecht', 'lag', '200', 'telefon', 'neei', 'verdi', 'beweg', 'jugend', 'sexy', 'fakt', 'dud', 'verzellt', 'diskussion', 'glaubi', 'respekt', 'spital', 'angeri', 'wond', 'verwirrt', 'om', 'arbet', 'cod', 'gstand', 'wahrschin', 'hitz', 'wartet', 'madel', 'komischi', 'mus', 'chlii', 'ahn', '2x', 'tolli', 'schaffet', 'dor', 'morga', 'tee', 'mitneh', 'fress', 'bedutet', 'romant', 'xi', 'autos', 'zog', 'yes', 'nutzt', 'sitt', 'namal', 'niid', 'rueh', 'sound', 'aun', 'servic', 'ihrn', 'break', 'gusch', 'wechsl', 'himmel', '4i', 'dir', 'zha', 'star', 'frond', 'liegt', 'einsam', '1x', 'ebbis', 'gahd', 'ey', '😶', 'drmit', 'aner', 'firma', 'vergiss', 'wuk', 'eba', 'interessi', '3er', 'what', 'noh', 'sottsch', 'sglich', 'v', 'brutal', 'hobby', 'sgfuhl', 'erwartet', 'abend', 'traff', 'swisscom', 'trunk', 'rum', 'dena', '--', 'beidn', 'dach', 'kenneglernt', 'spiegel', 'kund', 'setz', 'erlebt', 'gsproch', 'wis', 'mussi', 'duschi', 'bruchi', 'uuf', 'kumm', 'vorteil', 'schribsch', 'gwitt', 'wared', 'gomm', 'dran', 'sozial', 'mark', 'lis', 'freiwill', 'jooo', 'wiem', 'heftig', 'woll', 'autofahr', 'stock', 'furz', 'hell', 'bluet', '80', 'wasd', 'ssj', 'down', 'nebed', 'agebot', 'ufn', 'leist', 'versteh', 'verwutscht', 'letst', 'septemb', 'aargau', 'held', 'eth', 'versuecht', 'begriff', 'amu', 'desweg', 'jedoch', 'bechunnt', 'mitemn', '🤔🤔', 'nehm', 'asiat', 'erreicht', 'win', 'verglich', 'fuessball', 'wahrschinli', 'mercii', 'grat', 'sies', 'trag', 'jed', 'entschuld', 'schwizerdutsch', 'hocksch', 'somit', 'termin', 'klaut', 'sitzt', 'typisch', 'anschin', 'nagel', 'alban', 'chlis', 'schaffa', 'wahl', '90', 'heissi', 'denket', 'lies', 'intress', 'prison', 'olt', 'chann', 'sali', 'rap', 'un', '2h', 'suff', 'sa', 'schlechti', 'back', 'fed', 'bizli', 'lahn', 'drzue', 'ai', 'pill', 'ufgfall', '@11', 'gschlecht', 'damfau', '🎉', 'fuecht', 'rappi', 'workli', 'fair', 'bach', 'big', 'huut', 'erkennt', '20i', 'baum', 'styl', 'geseh', 'eidut', 'emal', 'langet', 'rundi', 'weit', 'sotti', 'lauch', 'spani', 'glaubt', 'mom', 'mentig', 'ph', 'ghorsch', 'chat', 'jean', 'dabei', 'schnitt', 'chuchi', 'fit', 'vori', 'depression', 'drfur', 'redsch', 'riis', 'rasi', 'joor', 'ois', 'plotzli', 'studiert', 'wk', 'mull', 'naturlech', 'fruech', 'lernsch', 'roti', 'ruum', 'dont', 'hmmm', 'villech', 'abem', 'lueged', 'packli', 'ws', 'fragsch', 'hihi', 'astand', 'rock', 'meined', 'wella', 'busi', 'ihr', 'heti', 'zeich', 'chlei', 'zah', 'ging', 'fuul', 'trozd', 'grundsatz', '🙈😂', 'foreveralon', 'rat', 'spotify', 'offent', 'sosch', 'rezept', 'half', 'bruuch', 'sprach', 'zfried', 'ev', 'ironi', '🙌', 'harry', 'usbild', 'gnoh', 'zuck', 'went', 'zumind', '😂😅', 'steck', 'eppert', '27', 'umgekehrt', 'kampf', 'polit', 'benutz', 'bechunt', 'mueni', 'betrunk', 'behindert', 'breaking', 'hubschi', 'nervt', 'eimol', 'albani', 'team', 'zo', 'putzt', 'dad', 'luegi', 'www', 'kenna', 'guata', 'wahnsinn', 'swiss', 'g20', 'rapp', 'heicho', 'gym', 'zmorg', 'hoffentli', 'besseri', 'emen', 'sega', 'mitbewohn', 'machem', 'via', 'schwarzi', 'leistig', 'schlau', 'sing', 'ernahr', 'dankbar', 'passend', 'arrogant', 'legal', 'nochli', 'cousin', 'kamera', 'verhalt', 'chines', 'strom', 'rip', 'nerv', 'sy', 'm20', 'weisi', 'unglaub', 'brauch', 'training', 'ups', 'zerstort', 'nami', '18ni', 'erinner', 'korrekt', 'chonti', 'chontsch', 'hurat', 'puff', 'mac', 'troch', 'buechstab', 'chonnd', 'jungfrau', 'stei', 'bsund', 'eventuell', 'ufer', 'wlan', 'gwohnt', 'bliib', 'abstand', 'new', 'lebt', 'rugg', '🤷🏼\\u200d♂️', 'imfau', 'regelmass', 'bewerb', 't-shirt', 'fach', 'ablenk', 'opf', 'regel', 'rassist', 'daa', 'wurdsch', 'match', 'jedesmal', 'infos', 'mittwuch', 'maximilian', 'mutt', 'verbot', 'erlaubt', 'fium', 'fir', 'suuf', 'wieni', 'dritt', 'ignori', 'scham', 'noo', 'verbring', 'fragenuberfrag', 'dorfi', 'ziemli', 'ines', 'churzi', 'worda', 'endli', 'desto', 'verlur', 'lachl', 'nuut', 'minus', 'baustell', 'ids', 'oha', 'ubercho', 'irgendwas', 'chumm', 'supp', 'steu', 'verarscht', 'harz', 'nutz', '🤦🏼\\u200d♀️', 'eifacht', 'unt', '😯', 'bitzli', 'lernphas', 'chart', 'nervos', 'kaff', 'kur', 'glichi', 'sieht', 'block', 'moderator', 'schoon', 'fahl', '1-2', 'ros', 'sch', 'leck', 'kolleginn', 'degeg', 'issisch', 'einzigi', 'schloss', 'fahra', 'plotzlech', 'sms', 'saged', 'jop', 'ehe', 'notgeil', 'mod', 'mes', 'gsi😂', 'chest', 'km', 'bringsch', 'vertrau', 'europa', 'lovoo', 'besuch', 'fau', 'vermuet', 'lueget', 'reda', 'klappet', 'meini', 'tip', 'traini', 'aktiv', 'good', 'wema', 'option', 'buur', 'cheib', 'waut', 'glock', 'stor', 'darfi', 'suit', 'rucksack', 'amol', 'hing', 'bedut', 'camping', 'konto', 'your', 'gset', '🙌🏻', 'schoo', 'bruscht', 'ziet', 'ouu', 'programm', 'gend', 'mundlich', 'kalt', 'dah', 'heii', 'gsy', 'erd', 'religion', 'diskuti', 'strang', 'energi', 'usegfund', 'laptop', 'hiuft', 'spaghetti', 'bart', 'lig', 'stutz', 'drvo', 'next', 'magsch', 'suss', 'munich', '5min', 'theoret', 'drinn', 'istell', 'abgeh', 'ligt', 'druckt', 'w21', 'gegenub', 'verstond', 'ezt', 'null', '😵', 'schiint', 'panik', 'trotz', 'andi', 'guati', 'boot', 'umd', 'true', 'schwar', 'vorau', 'namli', 'glehrt', 'moss', 'ring', 'jezt', 'benutzt', 'ann', 'gmold', 'fahred', 'soooo', 'dreck', 'euchi', 'usprobi', 'mein', 'hufig', 'schriebsch', 'raus', 'amerika', 'gehort', 'trump', 'jah', 'trinkt', 'ahlueg', 'maschin', 'weish', 'auu', 'acho', '150', 'biet', 'wunscht', 'geschrieb', 'high', 'schwitz', 'erchlar', 'getrank', 'namlich', 'hb', 'dunkel', 'chomet', 'liabi', 'pott', 'lack', 'nachem', 'wahrschindli', '🤷', 'essa', 'billet', 'negst', 'hatsch', 'chf', 'artikel', 'hoh', 'gau', 'lenzburg', 'ener', 'chent', 'family', 'werom', 'brud', 'nomau', 'stur', 'gesagt', 'kontroll', 'uberhoupt', 'derbi', 'buess', 'fendi', 'verkauft', 'ans', 'versicher', 'gfueu', 'kensch', 'linkin', 'verlieb', 'decki', 'eg', 'box', '•', 'luaga', 'io', '😂👌', 'pfann', 'wochen', 'ufstoh', 'bisi', 'hutzutag', '🍻', 'doktor', 'solothurn', 'gangi', 'music', 'tram', 'hattsch', 'salz', 'wolf', 'hof', '✌🏼', 'm23', 'schwach', 'jedefall', 'tua', 'brocht', 'spazi', 'deutschland', 'umgab', 'dera', 'schiess', 'stross', 'isch😂', 'geburi', 'downgvotet', 'phas', 'regl', 'woss', 'zua', 'bruucht', 'ime', 'medi', 'gschiss', 'gefuhl', 'hockt', 'biss', 'beantwort', 'ton', 'moched', 'zellt', 'schutz', 'negativ', 'kart', 'ver', 'verarsch', 'prinzip', 'frondin', 'gschlacht', 'gschickt', 'sowit', 'ikea', '😮', 'ball', 'ge', 'flirt', 'thailand', 'mitt', 'schul', 'derfsch', 'motz', 'kopfhor', 'websit', 'ahgfang', '✌️', 'hous', 'hochdutsch', 'spricht', 'stinkt', 'cbd', 'wahri', 'ohhh', 'hahha', 'qualitat', 'zuestand', '-ich', 'normau', 'daheim', 'garag', 'wallis', 'are', 'wiblich', 'mass', 'koff', 'ever', 'tuend', 'ufreg', 'schreibt', 'gra', 'werda', 'stern', 'fingsch', 'womm', 'vier', 'gan', 'pennt', 'auss', 'genug', 'vorhar', 'ui', 'day', 'tell', 'miet', 'afo', 'eut', 'hab', 'afa', 'gfung', 'ragnet', 'grenz', 'wan', 'form', 'drom', 'ufen', '🤦🏻\\u200d♂️', 'laufsch', 'schuss', 'nani', 'if', 'tuat', 'mos', 'fuehl', 'android', 'vorus', 'zmittag', 'ed', 'last', 'oma', '3-4', 'basl', 'ussicht', 'minr', 'gschlaf', 'fucking', 'wukli']\n",
            "la sfarsit, avem  2801  cuvinte\n",
            "build dictionary =  2801\n",
            "{'UNK': 0, 'isch': 1, 'de': 2, 'au': 3, 'i': 4, 'ja': 5, 'e': 6, 'en': 7, 'no': 8, 'uf': 9, 'het': 10, 'bi': 11, 'nid': 12, 'ha': 13, '😂': 14, 'scho': 15, 'vo': 16, 'ned': 17, 'd': 18, 'mer': 19, 'han': 20, 'nod': 21, 'hesch': 22, 'bisch': 23, 'z': 24, '@1': 25, '@2': 26, 'eifach': 27, 'a': 28, 'mal': 29, 'guet': 30, 'imm': 31, 'si': 32, 's': 33, '@oj': 34, 'mach': 35, 'u': 36, '-': 37, 'dr': 38, 'grad': 39, 'gsi': 40, 'mi': 41, 'nei': 42, 'di': 43, 'us': 44, 'kei': 45, '@3': 46, 'jo': 47, 'git': 48, '2': 49, 'hani': 50, 'hend': 51, 'mini': 52, 'me': 53, 'chli': 54, 'ah': 55, 'jodel': 56, 'haha': 57, 'wer': 58, 'ganz': 59, 'war': 60, 'min': 61, 'go': 62, '😅': 63, 'schon': 64, 'weiss': 65, 'meh': 66, 'frau': 67, 'esch': 68, 'mol': 69, '🤔': 70, 'chasch': 71, '1': 72, 'tag': 73, 'dank': 74, 'hut': 75, 'ds': 76, 'cha': 77, '@4': 78, 'bim': 79, 'opp': 80, 'num': 81, 'wieso': 82, 'sich': 83, 'gern': 84, 'glaub': 85, 'nut': 86, 'alt': 87, '😉': 88, 'lieb': 89, 'lut': 90, 'ide': 91, 'eh': 92, 'gha': 93, 'lang': 94, 'nie': 95, 'nit': 96, '3': 97, 'do': 98, 'ond': 99, 'macht': 100, 'da': 101, 'oj': 102, 'voll': 103, 'glich': 104, 'find': 105, 'chan': 106, 'lueg': 107, '😊': 108, 'gmacht': 109, 'o': 110, 'w': 111, 'richtig': 112, 'alli': 113, 'mega': 114, 'bess': 115, 'm': 116, 'genau': 117, 'dini': 118, 'hed': 119, 'ig': 120, 'well': 121, 'gseh': 122, 'muess': 123, 'leid': 124, 'em': 125, 'din': 126, 'jahr': 127, 'ab': 128, 'wenn': 129, 'schaff': 130, 'erst': 131, '🙈': 132, '😂😂': 133, 'halt': 134, 'kolleg': 135, 'aso': 136, 'wurd': 137, 'cho': 138, 'gad': 139, 'scheiss': 140, '&': 141, 'paar': 142, 'mis': 143, 'geil': 144, 'det': 145, 'frag': 146, 'sit': 147, 'abr': 148, 'ou': 149, 'feri': 150, 'sorry': 151, '@5': 152, 'hett': 153, 'gaht': 154, 'oh': 155, 'muesch': 156, 'oppis': 157, 'is': 158, '5': 159, 'gar': 160, 'moment': 161, 'selb': 162, 'na': 163, 'gang': 164, 'mau': 165, 'hei': 166, 'zug': 167, 'hat': 168, 'kenn': 169, 'bitt': 170, 'bini': 171, 'ohni': 172, 'mann': 173, 'oper': 174, 'wuch': 175, 'gueti': 176, 'word': 177, 'ebe': 178, 'sag': 179, 'seg': 180, 'morn': 181, 'recht': 182, 'mim': 183, 'best': 184, '😍': 185, 'heisst': 186, 'wen': 187, '😄': 188, 'ish': 189, 'ech': 190, 'frund': 191, 'all': 192, 'wur': 193, 'numm': 194, 'ih': 195, 'as': 196, 'probl': 197, 'hand': 198, 'ni': 199, 'ke': 200, 'sup': 201, 'eu': 202, 'seit': 203, 'ga': 204, 'ma': 205, 'wett': 206, 'sach': 207, '4': 208, 'gseit': 209, 'chunt': 210, 'weisch': 211, 'echt': 212, 'be': 213, 'morg': 214, 'ne': 215, 'wennd': 216, '😁': 217, 'frog': 218, 'bett': 219, 'gross': 220, 'id': 221, 'person': 222, 'eher': 223, 'ez': 224, 'gah': 225, 'nach': 226, 'odr': 227, 'mit': 228, 'los': 229, 'met': 230, '🙄': 231, 'hahaha': 232, 'gseht': 233, 'druf': 234, 'frundin': 235, 'eini': 236, 'goht': 237, 'wenig': 238, 'opis': 239, 'lauft': 240, 'eis': 241, 'cham': 242, 'has': 243, 'fall': 244, 'kik': 245, 'typ': 246, 'schlimm': 247, 'ufem': 248, 'chunnt': 249, 'leb': 250, 'jaa': 251, 'sex': 252, '@6': 253, 'mr': 254, 'sech': 255, 'jhj': 256, 'chum': 257, 'denk': 258, 'sogar': 259, 'woni': 260, 'ess': 261, '^^': 262, 'klar': 263, 'kennt': 264, 'use': 265, 'denkt': 266, 'neu': 267, 'merci': 268, 'schnell': 269, 'auto': 270, 'eigent': 271, 'dia': 272, 'lust': 273, 'gluck': 274, 'wiso': 275, 'suech': 276, 'liebi': 277, 'sii': 278, 'machsch': 279, 'ziit': 280, 'fahr': 281, 'dur': 282, 'bier': 283, 'fur': 284, '😂😂😂': 285, 'ir': 286, 'mensch': 287, 'den': 288, 'ok': 289, 'viu': 290, '😏': 291, 'sin': 292, 'wed': 293, 'dis': 294, 'spass': 295, 'demfall': 296, 'son': 297, 'bruch': 298, 'susch': 299, 'zwei': 300, 'chani': 301, 'cool': 302, 'we': 303, 'anderi': 304, 'meist': 305, 'drum': 306, 'meinsch': 307, 'ka': 308, 'eif': 309, 'passiert': 310, 'geh': 311, 'huer': 312, 'brucht': 313, 'luut': 314, 'eig': 315, 'gmeint': 316, 'sott': 317, 'xd': 318, 'jodl': 319, 'nam': 320, 'for': 321, 'schlecht': 322, 'egal': 323, 'ghort': 324, 'wos': 325, 'der': 326, 'schrib': 327, 'wid': 328, '20': 329, 'wel': 330, '10': 331, 'eus': 332, 'red': 333, 'wend': 334, 'vill': 335, 'gest': 336, 'geld': 337, 'the': 338, 'zit': 339, 'wenni': 340, 'b': 341, 'etz': 342, 'schlaf': 343, 'einzig': 344, 'handy': 345, 'wag': 346, 'falsch': 347, 'weg': 348, 'erfahr': 349, 'nacht': 350, 'wart': 351, 'eim': 352, 'hahah': 353, 'vlt': 354, 'mues': 355, 'abe': 356, 'stimmt': 357, 'zuri': 358, 'hie': 359, 'jetz': 360, 'besch': 361, 'hatt': 362, 'irgendwi': 363, 'trotzd': 364, 'wa': 365, 'send': 366, 'geit': 367, 'lehr': 368, '😜': 369, 'easy': 370, 'wia': 371, 'dra': 372, 'hey': 373, 'ine': 374, 'hasch': 375, 'gfuhl': 376, 'zue': 377, 'wohl': 378, 'wach': 379, 'ober': 380, 'fast': 381, 'hoff': 382, 'trink': 383, 'gfund': 384, 'wass': 385, 'usgang': 386, 'das': 387, 'chond': 388, 'dim': 389, 'abig': 390, 'bild': 391, 'nah': 392, 'warum': 393, 'garn': 394, 'gut': 395, 'iz': 396, 'johr': 397, 'film': 398, 'normal': 399, 'lab': 400, 'soll': 401, 'witz': 402, 'mehr': 403, 'wem': 404, 'wurkli': 405, 'sini': 406, 'of': 407, 'monet': 408, 'heiss': 409, 'bezieh': 410, 'ume': 411, 'nu': 412, 'wi': 413, 'dert': 414, 'frou': 415, 'post': 416, 'lustig': 417, 'mier': 418, 'stadt': 419, 'wird': 420, 'mami': 421, 'wott': 422, 'jung': 423, 'kollegin': 424, 'antwort': 425, 'dat': 426, 'schrieb': 427, 'chind': 428, 'oft': 429, 'auso': 430, 'wuss': 431, 'wit': 432, 'ahnig': 433, 'ca': 434, 'dasi': 435, 'teil': 436, 'her': 437, 'grund': 438, 'weni': 439, 'obe': 440, 'wort': 441, 'gnueg': 442, 'becho': 443, 'ufe': 444, 'wot': 445, 'debi': 446, 'schwiz': 447, 'findi': 448, 'fertig': 449, 'vorh': 450, 'keis': 451, '6': 452, 'stund': 453, 'beid': 454, 'usem': 455, 'noch': 456, 'tont': 457, 'allei': 458, 'dam': 459, 'findet': 460, 'googl': 461, '7': 462, '@7': 463, 'aui': 464, 'frei': 465, 'wichtig': 466, 'p': 467, 'dumm': 468, 'gib': 469, 'stell': 470, 'chont': 471, 'nix': 472, 'obb': 473, 'nimm': 474, 'chonnt': 475, '18': 476, 'ufs': 477, 'arsch': 478, 'lern': 479, 'se': 480, 'angst': 481, 'will': 482, 'amig': 483, 'noni': 484, '0': 485, 'geg': 486, 'etc': 487, 'tur': 488, 'langsam': 489, 'wetsch': 490, 'hund': 491, 'ar': 492, 'musch': 493, 'sinn': 494, 'maa': 495, 'sind': 496, 'soo': 497, 'und': 498, 'see': 499, 'wotsch': 500, 'sust': 501, 'vod': 502, 'neui': 503, 'inn': 504, 'toll': 505, 'fuhl': 506, 'halb': 507, 'repost': 508, 'platz': 509, 'je': 510, 'wiit': 511, 'nor': 512, 'chonn': 513, 'passt': 514, 'drub': 515, 'ane': 516, 'ihri': 517, '😋': 518, 'emm': 519, 'wirsch': 520, 'off': 521, 'app': 522, 'la': 523, 'vu': 524, 'ner': 525, 'letscht': 526, 'epp': 527, 'demit': 528, 'spiel': 529, 'nud': 530, 'zam': 531, 'seri': 532, 'bish': 533, 'zahl': 534, 'chauf': 535, 'nar': 536, 'lauf': 537, 'gratis': 538, 'wemm': 539, 'vor': 540, 'minut': 541, 'chunsch': 542, 'ade': 543, 'schuel': 544, 'komisch': 545, 'schwarz': 546, 'gse': 547, 'gond': 548, 'niemert': 549, 'mag': 550, 'arm': 551, 'dorf': 552, 'chas': 553, 'bruchsch': 554, 'ort': 555, 'fing': 556, 'summ': 557, 'ex': 558, 'niem': 559, 'wohn': 560, 'probi': 561, 'lah': 562, 'bring': 563, 'mitm': 564, 'job': 565, 'berlin': 566, 'wies': 567, 'defur': 568, 'schwiiz': 569, 'weis': 570, 'tue': 571, 'hesh': 572, 'immerno': 573, 'vorall': 574, 'hallo': 575, 'pizza': 576, 'wenigst': 577, 'suscht': 578, 'lied': 579, 'gliich': 580, 'racht': 581, 'uberhaupt': 582, 'seisch': 583, 'netflix': 584, '30': 585, 'gsii': 586, 'internet': 587, 'wurdi': 588, 'wom': 589, 'kommentar': 590, 'wc': 591, '😎': 592, 'welt': 593, 'elt': 594, '☺️': 595, 'dezu': 596, 'gott': 597, 'tipps': 598, 'schad': 599, 'bus': 600, '😘': 601, 'naja': 602, 'meinig': 603, 'schoni': 604, 'natur': 605, 'hmm': 606, 'ticket': 607, '=': 608, 'ben': 609, 'froh': 610, 'nonig': 611, 'tuet': 612, 'lach': 613, 'kenni': 614, 'dutsch': 615, '21': 616, 'hamm': 617, 'letzt': 618, 'bringt': 619, 'blod': 620, 'ernst': 621, 'sis': 622, 'nimmt': 623, '@8': 624, 'duss': 625, 'top': 626, 'tipp': 627, 'ufd': 628, 'gid': 629, 'oke': 630, 'vat': 631, 'nochi': 632, 'dort': 633, 'gloub': 634, 'uss': 635, 'ersch': 636, 'schluss': 637, 'kind': 638, 'obs': 639, 'ass': 640, 'mached': 641, 'machi': 642, 'gibt': 643, 'bescht': 644, 'aues': 645, 'fasch': 646, 'zeig': 647, 'bald': 648, 'zrugg': 649, 'wil': 650, 'haut': 651, 'afang': 652, 'bock': 653, 'upvot': 654, '🤗': 655, 'vell': 656, 'biz': 657, '15': 658, 'and': 659, 'downvot': 660, 'fein': 661, 'staht': 662, 'buech': 663, 'grossi': 664, 'churz': 665, 'moglich': 666, 'chatz': 667, 't': 668, 'ob': 669, 'dot': 670, 'okay': 671, 'alln': 672, 'chlin': 673, 'beidi': 674, 'zimm': 675, 'bar': 676, 'land': 677, 'einfach': 678, 'militar': 679, 'kennsch': 680, 'fahrt': 681, 'ihn': 682, 'oppert': 683, 'wod': 684, 'chund': 685, 'rot': 686, 'lad': 687, 'verbi': 688, 'hilft': 689, 'bad': 690, 'ad': 691, 'art': 692, 'singl': 693, 'geht': 694, 'solang': 695, 'wunsch': 696, 'zem': 697, 'chill': 698, 'jemand': 699, 'bahnhof': 700, 'fr': 701, 'denn': 702, 'hast': 703, 'obis': 704, 'willsch': 705, 'weh': 706, 'wuri': 707, 'not': 708, 'momentan': 709, 'miar': 710, 'wet': 711, 'chon': 712, 'hass': 713, 'irgendwo': 714, 'gam': 715, 'hilf': 716, '👍': 717, 'leut': 718, 'erscht': 719, 'wund': 720, 'ei': 721, 'langwil': 722, 'neh': 723, 'guat': 724, 'aug': 725, 'druff': 726, 'humor': 727, 'gedank': 728, 'hol': 729, 'momant': 730, 'glas': 731, 'pro': 732, 'zerst': 733, 'gnau': 734, 'schwer': 735, 'direkt': 736, 'mocht': 737, 'empfehl': 738, 'musig': 739, 'gwusst': 740, 'papi': 741, 'wou': 742, 'zb': 743, 'hos': 744, 'coop': 745, 'darf': 746, 'extra': 747, 'bid': 748, '19': 749, 'kasch': 750, 'flug': 751, 'uberall': 752, '17': 753, 'party': 754, 'ehr': 755, 'arzt': 756, 'rauch': 757, 'sport': 758, 'bro': 759, '12': 760, 'irgend': 761, 'studi': 762, 'villicht': 763, '8': 764, '😇': 765, 'openair': 766, 'famili': 767, 'hauptsach': 768, '😬': 769, 'arbeit': 770, 'ch': 771, 'definitiv': 772, 'stoht': 773, 'wand': 774, 'jedi': 775, 'hetti': 776, 'schlof': 777, 'woch': 778, 'bzw': 779, 'eint': 780, 'heit': 781, 'got': 782, 'dehei': 783, 'schu': 784, 'welli': 785, 'snap': 786, 'gsehsch': 787, 'sho': 788, 'dihei': 789, 'aut': 790, 'vilicht': 791, 'chopf': 792, 'plan': 793, 'omg': 794, 'mangisch': 795, '50': 796, 'obwohl': 797, 'schaffsch': 798, 'ach': 799, 'student': 800, 'warm': 801, 'eppis': 802, 'freu': 803, 'dann': 804, 'krass': 805, 'bern': 806, 'wann': 807, 'haar': 808, 'heut': 809, 'findsch': 810, 'ich': 811, 'muett': 812, 'bitz': 813, 'helf': 814, '😳': 815, 'hoch': 816, 'sim': 817, '22': 818, 'itz': 819, 'unbedingt': 820, 'wohnig': 821, 'kauf': 822, 'meint': 823, 'zersch': 824, 'pruefig': 825, 'hot': 826, 'macha': 827, 'link': 828, 'spot': 829, 'dier': 830, 'versuech': 831, 'shit': 832, 'salb': 833, 'vil': 834, 'dankt': 835, 'acht': 836, 'sry': 837, 'joo': 838, 'karma': 839, 'alkohol': 840, '🤣': 841, 'darum': 842, 'ward': 843, 'bevor': 844, 'uber': 845, 'wow': 846, '👌': 847, '😌': 848, 'schlacht': 849, 'luscht': 850, 'eigentli': 851, 'wohnsch': 852, 'perfekt': 853, '00': 854, 'fett': 855, 'you': 856, 'sitz': 857, 'endlich': 858, 'to': 859, '😀': 860, 'migros': 861, 'les': 862, 'ein': 863, 'schatz': 864, 'vergess': 865, 'wari': 866, 'prufung': 867, 'bod': 868, 'ere': 869, 'kai': 870, 'keini': 871, 'usw': 872, 'verstand': 873, 'werd': 874, 'wosch': 875, '😱': 876, 'gall': 877, 'ghor': 878, 'statt': 879, 'meld': 880, 'due': 881, 'chef': 882, 'n': 883, 'viel': 884, 'dassi': 885, 'zyt': 886, 'punkt': 887, 'fest': 888, 'devo': 889, 'gsicht': 890, 'siech': 891, 'musik': 892, '😒': 893, 'gunstig': 894, 'komm': 895, 'ii': 896, 'aua': 897, 'machet': 898, 'ehrlich': 899, 'st': 900, 'verliebt': 901, 'druck': 902, 'insta': 903, '100': 904, 'eso': 905, 'ufm': 906, 'nett': 907, 'glucklich': 908, 'verstah': 909, 'wurklich': 910, 'trurig': 911, 'kann': 912, 'mech': 913, 'kopf': 914, 'aub': 915, 'wahr': 916, 'weli': 917, '😔': 918, 'widr': 919, 'dass': 920, 'opert': 921, 'muss': 922, 'nic': 923, 'wtf': 924, 'evtl': 925, 'loh': 926, 'gfallt': 927, 'youtub': 928, 'sus': 929, '24': 930, 'schiss': 931, 'sofort': 932, 'entscheid': 933, 'he': 934, 'fritig': 935, 'wes': 936, 'zwusch': 937, 'eui': 938, 'verlor': 939, 'luegsch': 940, '16': 941, 'geili': 942, 'kaputt': 943, 'siit': 944, 'englisch': 945, 'vegan': 946, 'amel': 947, '@9': 948, 'blau': 949, 'drin': 950, 'interessiert': 951, 'velo': 952, 'duet': 953, 'sack': 954, 'it': 955, 'goh': 956, 'wursch': 957, 'hung': 958, '23': 959, 'funktioniert': 960, 'ier': 961, 'gasch': 962, 'chomed': 963, 'sig': 964, 'vom': 965, 'zom': 966, 'roll': 967, 'konnt': 968, 'tier': 969, 'kauft': 970, 'ind': 971, 'entwed': 972, 'seid': 973, 'liecht': 974, 'nein': 975, 'nai': 976, 'kes': 977, 'wirklich': 978, 'absolut': 979, 'fuck': 980, 'zieh': 981, 'iner': 982, 'hor': 983, 'muend': 984, 'luegt': 985, 'extr': 986, 'kontakt': 987, 'brued': 988, 'sot': 989, 'gruess': 990, 'zahlt': 991, 'interess': 992, 'ztue': 993, 'zemm': 994, 'club': 995, 'dech': 996, 'nomal': 997, 'bestand': 998, '🙃': 999, 'chanc': 1000, '9': 1001, 'kevin': 1002, 'bir': 1003, 'spruch': 1004, 'fang': 1005, 'nr': 1006, 'ding': 1007, 'gschrib': 1008, 'nomol': 1009, 'samstig': 1010, 'thema': 1011, 'ussert': 1012, '🙂': 1013, 'mitem': 1014, 'gnuss': 1015, '25': 1016, 'ang': 1017, 'farb': 1018, 'obbis': 1019, 'blib': 1020, 'chom': 1021, '14': 1022, 'nom': 1023, 'hubsch': 1024, 'jaaa': 1025, 'werdet': 1026, 'verdammt': 1027, 'monsch': 1028, 'gsesch': 1029, 'mah': 1030, 'zeigt': 1031, 'sunntig': 1032, 'bos': 1033, 'sowieso': 1034, 'einisch': 1035, 'ellei': 1036, 'verzell': 1037, 'freud': 1038, '😭': 1039, 'furd': 1040, 'uh': 1041, 'gmerkt': 1042, 'gluegt': 1043, 'sooo': 1044, 'sowas': 1045, 'thun': 1046, 'huus': 1047, 'tv': 1048, 'satz': 1049, 'ebb': 1050, 'gschafft': 1051, 'nackt': 1052, 'uff': 1053, 'anstatt': 1054, 'zweit': 1055, 'schick': 1056, 'mou': 1057, 'korp': 1058, 'hind': 1059, 'mued': 1060, 'sell': 1061, 'pass': 1062, 'stah': 1063, 'fleisch': 1064, 'willi': 1065, 'foti': 1066, 'okey': 1067, '🤓': 1068, 'hoi': 1069, 'spannend': 1070, 'kurz': 1071, 'saub': 1072, 'dusch': 1073, 'wasi': 1074, 'kunnt': 1075, 'elei': 1076, 'polizei': 1077, 'fuess': 1078, 'iphon': 1079, 'billig': 1080, 'end': 1081, 'hasslich': 1082, 'neus': 1083, 'schomal': 1084, '😆': 1085, 'muet': 1086, 'toff': 1087, 'jez': 1088, 'neb': 1089, 'von': 1090, 'vou': 1091, 'schribt': 1092, 'schwierig': 1093, 'stark': 1094, 'uni': 1095, 'imfall': 1096, 'sett': 1097, 'drus': 1098, 'hatti': 1099, 'fascht': 1100, 'h': 1101, 'facebook': 1102, 'mantig': 1103, 'tot': 1104, 'klein': 1105, 'merksch': 1106, 'nachh': 1107, 'sorg': 1108, '❤️': 1109, 'echli': 1110, 'per': 1111, 'weissi': 1112, 'ligg': 1113, 'aa': 1114, 'bhf': 1115, 'lohnt': 1116, 'umgeb': 1117, 'gles': 1118, 'ehm': 1119, 'hemm': 1120, 'aarau': 1121, 'schriib': 1122, 'gued': 1123, 'hahahaha': 1124, '😃': 1125, 'aha': 1126, 'heh': 1127, 'eier': 1128, 'eich': 1129, 'barn': 1130, 'gfrogt': 1131, 'blick': 1132, 'weekend': 1133, 'bem': 1134, 'channel': 1135, 'dinn': 1136, 'ehn': 1137, 'naturli': 1138, 'andern': 1139, 'geng': 1140, 'nimmsch': 1141, 'zamm': 1142, 'unterschied': 1143, 'musst': 1144, 'har': 1145, 'hock': 1146, 'franzos': 1147, 'erklar': 1148, 'bereit': 1149, 'etzt': 1150, 'wert': 1151, 'furn': 1152, 'snapchat': 1153, 'frogt': 1154, '13': 1155, 'uch': 1156, 'plotzlich': 1157, '😍😍': 1158, 'c': 1159, 'neii': 1160, 'schoggi': 1161, 'vorschlag': 1162, 'muen': 1163, 'strass': 1164, 'fruehn': 1165, 'treff': 1166, 'mir': 1167, 'chunnsch': 1168, 'won': 1169, 'imen': 1170, '20min': 1171, 'grupp': 1172, 'ame': 1173, 'badi': 1174, 'las': 1175, 'fehl': 1176, 'vorstell': 1177, 'kenned': 1178, 'traum': 1179, 'sohn': 1180, 'merkt': 1181, 'jap': 1182, 'get': 1183, 'situation': 1184, 'gno': 1185, 'uus': 1186, 'gisch': 1187, '🙊': 1188, 'unterhalt': 1189, 'penn': 1190, 'denksch': 1191, 'partn': 1192, 'ope': 1193, 'eimal': 1194, 'heimat': 1195, 'hart': 1196, 'diar': 1197, 'arschloch': 1198, 'zum': 1199, 'putz': 1200, 'start': 1201, 'logisch': 1202, 'ganzi': 1203, 'hahahah': 1204, 'sau': 1205, 'lol': 1206, 'immerhin': 1207, 'dick': 1208, 'nech': 1209, 'losch': 1210, 'nee': 1211, 'schweiz': 1212, 'suecht': 1213, 'epis': 1214, 'duu': 1215, 'spitz': 1216, '😐': 1217, 'studium': 1218, 'lass': 1219, 'schwul': 1220, 'herzig': 1221, 'spat': 1222, 'monat': 1223, 'chrank': 1224, 'iwi': 1225, 'schusch': 1226, '😝': 1227, 'ahnlich': 1228, 'glernt': 1229, 'tuur': 1230, 'immr': 1231, 'ahh': 1232, 'wiss': 1233, 'restaurant': 1234, 'jahrig': 1235, 'gag': 1236, 'mengisch': 1237, 'chamm': 1238, 'wien': 1239, 'onlin': 1240, 'gfahr': 1241, '+': 1242, '😩': 1243, 'probiert': 1244, 'fan': 1245, 'gosch': 1246, '☺': 1247, 'woh': 1248, 'gseid': 1249, '😂😂😂😂': 1250, 'nop': 1251, 'kha': 1252, 'spielt': 1253, 'iss': 1254, 'ubrig': 1255, 'verdient': 1256, 'dri': 1257, 'stress': 1258, 'herz': 1259, 'schueh': 1260, 'gell': 1261, 'choch': 1262, 'schwanz': 1263, 'frauefeld': 1264, 'grusig': 1265, 'uhr': 1266, 'postet': 1267, 'meer': 1268, 'zuefall': 1269, 'hutt': 1270, 'bestimmt': 1271, 'tatsach': 1272, 'gschrieb': 1273, 'hert': 1274, 'heb': 1275, 'wurk': 1276, 'klass': 1277, 'interessant': 1278, 'bsuech': 1279, 'bekannt': 1280, 'fu': 1281, 'gschicht': 1282, 'werded': 1283, 'sbb': 1284, 'hald': 1285, 'fruen': 1286, 'doof': 1287, 'region': 1288, 'allgemein': 1289, 'gsie': 1290, 'chlini': 1291, 'reg': 1292, 'jeda': 1293, 'fraua': 1294, 'fangt': 1295, 'usgseh': 1296, 'gfragt': 1297, '😕': 1298, 'solli': 1299, 'eue': 1300, 'kah': 1301, '40': 1302, 'schwang': 1303, 'fb': 1304, 'herr': 1305, 'deheim': 1306, '😑': 1307, 'usland': 1308, 'check': 1309, 'pc': 1310, 'beim': 1311, 'ohh': 1312, 'obi': 1313, 'zeit': 1314, 'frank': 1315, 'gsund': 1316, 'gratuli': 1317, 'kuss': 1318, 'nennt': 1319, 'kondom': 1320, 'whatsapp': 1321, 'gahn': 1322, 'gschaft': 1323, 'rest': 1324, 'schriebt': 1325, 'gsehn': 1326, 'folg': 1327, 'merk': 1328, 'vollig': 1329, 'kat': 1330, 'oich': 1331, 'fiir': 1332, 'chur': 1333, 'stond': 1334, 'simm': 1335, 'rechtig': 1336, 'mc': 1337, 'nomm': 1338, 'ziemlich': 1339, 'besti': 1340, 'freund': 1341, 'stort': 1342, 'seh': 1343, 'praktisch': 1344, 'suess': 1345, 'watt': 1346, 'milch': 1347, 'winti': 1348, 'ruhig': 1349, 'werbig': 1350, 'kanton': 1351, 'gleich': 1352, 'hoor': 1353, 'choi': 1354, 'anderst': 1355, 'fix': 1356, 'nia': 1357, 'kommt': 1358, 'katz': 1359, 'flughaf': 1360, 'wieviel': 1361, 'charakt': 1362, 'ps': 1363, 'uberleg': 1364, 'langt': 1365, 'lo': 1366, '😓': 1367, 'hotel': 1368, 'buch': 1369, 'brust': 1370, 'hanis': 1371, 'my': 1372, 'warsch': 1373, 'bruef': 1374, 'fenst': 1375, 'danka': 1376, 'fisch': 1377, 'dafur': 1378, 'stolz': 1379, 'tod': 1380, 'beni': 1381, 'konn': 1382, 'hang': 1383, 'standig': 1384, 'gd': 1385, 'kv': 1386, 'gat': 1387, 'giz': 1388, 'frueh': 1389, 'gitt': 1390, 'imn': 1391, 'derf': 1392, 'amn': 1393, 'sunn': 1394, 'vllt': 1395, 'rs': 1396, 'verkauf': 1397, 'kli': 1398, 'dasd': 1399, 'amen': 1400, 'positiv': 1401, 'fuhlt': 1402, 'august': 1403, 'nim': 1404, 'spontan': 1405, 'luft': 1406, 'zrug': 1407, 'vum': 1408, 'lost': 1409, 'komplett': 1410, 'loch': 1411, 'dummi': 1412, 'iar': 1413, 'luschtig': 1414, 'sekund': 1415, 'stimm': 1416, 'penis': 1417, 'lw': 1418, 'soviel': 1419, 'staffl': 1420, 'gschid': 1421, 'sofa': 1422, 'bueb': 1423, 'notig': 1424, 'vermiss': 1425, 'hoffent': 1426, 'dasm': 1427, 'nem': 1428, 'zh': 1429, 'gniess': 1430, 'sou': 1431, 'blibt': 1432, 'werum': 1433, 'festival': 1434, '100%': 1435, 'schwost': 1436, 'bau': 1437, 'dutschland': 1438, 'alti': 1439, 'priis': 1440, 'achtung': 1441, 'louft': 1442, 'dru': 1443, 'suechsch': 1444, 'reis': 1445, 'coiffeur': 1446, 'drbi': 1447, '👍🏻': 1448, 'zurch': 1449, 'r': 1450, 'langi': 1451, 'leer': 1452, 'hi': 1453, 'mittag': 1454, 'knapp': 1455, 'stuck': 1456, 'x': 1457, 'geb': 1458, 'lock': 1459, '😢': 1460, 'oaff': 1461, 'selt': 1462, '@': 1463, 'schritt': 1464, 'irgendwenn': 1465, 'wettsch': 1466, 'mo': 1467, 'pack': 1468, 'wint': 1469, 'lohn': 1470, 'kino': 1471, 'god': 1472, 'zviel': 1473, 'gruen': 1474, 'glac': 1475, 'agfang': 1476, 'kaffi': 1477, 'gerad': 1478, 'hsg': 1479, 'mund': 1480, 'luz': 1481, 'ohr': 1482, 'nass': 1483, 'jz': 1484, 'anonym': 1485, 'hanni': 1486, 'speziell': 1487, 'meitli': 1488, 'kennelern': 1489, 'dialekt': 1490, 'gwussi': 1491, 'video': 1492, 'gescht': 1493, 'set': 1494, 'text': 1495, 'bin': 1496, 'hamburg': 1497, 'spinn': 1498, 'deutsch': 1499, 'happy': 1500, 'oasg': 1501, 'wussed': 1502, 'total': 1503, 'gnue': 1504, 'liebt': 1505, 'fehlt': 1506, 'zwenig': 1507, 'haa': 1508, 'weck': 1509, '2017': 1510, 'lap': 1511, 'chalt': 1512, 'bwl': 1513, 'wasch': 1514, 'andersch': 1515, 'ung': 1516, 'usa': 1517, 'gheit': 1518, 'nas': 1519, 'fahrsch': 1520, 'emu': 1521, 'verbii': 1522, 'gli': 1523, 'chillig': 1524, 'cooli': 1525, 'unterweg': 1526, 'wusst': 1527, 'muessi': 1528, 'g': 1529, 'troff': 1530, '💪': 1531, 'park': 1532, 'feria': 1533, 'letschti': 1534, 'seich': 1535, 'schomol': 1536, 'steit': 1537, 'sagt': 1538, 'tind': 1539, 'ries': 1540, 'freut': 1541, 'zahlsch': 1542, 'frogsch': 1543, 'mimimi': 1544, 'viellicht': 1545, 'koch': 1546, 'unnot': 1547, 'euri': 1548, 'fend': 1549, 'starch': 1550, 'lik': 1551, 'radio': 1552, 'besser': 1553, 'brot': 1554, 'gurt': 1555, 'eper': 1556, 'math': 1557, 'nachd': 1558, 'geisch': 1559, 'dus': 1560, 'automat': 1561, 'thron': 1562, '🤔😂': 1563, 'bes': 1564, 'gess': 1565, '11': 1566, 'eme': 1567, 'vomn': 1568, 'wiu': 1569, 'alueg': 1570, 'chleid': 1571, 'haltet': 1572, 'peinlich': 1573, 'such': 1574, 'alk': 1575, 'motivation': 1576, 'hm': 1577, 'ire': 1578, 'eigentlech': 1579, 'zwusched': 1580, 'fick': 1581, 'halbi': 1582, 'lond': 1583, 'sei': 1584, 'jaja': 1585, 'gloff': 1586, 'nachricht': 1587, 'fand': 1588, 'max': 1589, 'mond': 1590, 'keni': 1591, 'thurgau': 1592, 'zimli': 1593, 'buro': 1594, 'com': 1595, 'bracht': 1596, 'brief': 1597, 'ernsthaft': 1598, 'dasch': 1599, 'vergass': 1600, 'mannlich': 1601, 'baby': 1602, 'wennt': 1603, 'fak': 1604, 'f': 1605, 'meischt': 1606, 'jogg': 1607, 'sobald': 1608, 'lit': 1609, 'fragt': 1610, 'usi': 1611, 'efach': 1612, 'liv': 1613, 'gfall': 1614, 'lif': 1615, 'drog': 1616, 'ewig': 1617, 'endi': 1618, '😫': 1619, \"'\": 1620, 'kack': 1621, '😣': 1622, 'gmuetlich': 1623, 'ums': 1624, 'egau': 1625, 'redet': 1626, 'list': 1627, '26': 1628, '😂🙈': 1629, 'test': 1630, 'usgseht': 1631, 'rein': 1632, 'wor': 1633, 'on': 1634, 'mugg': 1635, 'suechi': 1636, 'banan': 1637, 'flasch': 1638, 'lieg': 1639, 'grill': 1640, 'nurno': 1641, 'juli': 1642, 'passi': 1643, '😞': 1644, 'weu': 1645, 'drah': 1646, 'plus': 1647, 'schafft': 1648, 'mitenand': 1649, 'chend': 1650, 'ged': 1651, 'kuschl': 1652, 'fernseh': 1653, 'wei': 1654, 'stand': 1655, 'outo': 1656, 'gonn': 1657, 'burg': 1658, 'normali': 1659, 'chumi': 1660, 'hen': 1661, 'zelt': 1662, 'witzig': 1663, 'saga': 1664, 'znacht': 1665, 'wucheend': 1666, 'schuld': 1667, 'oi': 1668, 'trifft': 1669, 'krank': 1670, '👀': 1671, 'chomm': 1672, 'obig': 1673, 'ischm': 1674, 'aba': 1675, 'seged': 1676, 'verstoh': 1677, 'wurklech': 1678, 'bachelor': 1679, 'zwoi': 1680, 'black': 1681, 'empfahl': 1682, 'wuu': 1683, 'vieli': 1684, 'erwachs': 1685, 'sam': 1686, '👌🏻': 1687, 'gsehnd': 1688, 'frundschaft': 1689, 'wilsch': 1690, 'brugg': 1691, 'muehsam': 1692, 'net': 1693, 'zerscht': 1694, 'gschmack': 1695, 'fo': 1696, 'usseh': 1697, 'wg': 1698, 'mail': 1699, 'rag': 1700, 'geburtstag': 1701, 'taglich': 1702, 'muass': 1703, 'schwirig': 1704, 'wuchen': 1705, 'hetsch': 1706, 'flirtechani': 1707, 'bitch': 1708, 'schmockt': 1709, 'drufah': 1710, 'hashtag': 1711, 'bsoff': 1712, 'erfolg': 1713, '😅😂': 1714, 'seht': 1715, 'muesst': 1716, 'strand': 1717, 'ken': 1718, 'fescht': 1719, 'tanz': 1720, 'kleid': 1721, 'abelad': 1722, 'stoh': 1723, 'gald': 1724, 'polo': 1725, 'dringend': 1726, 'griff': 1727, 'salat': 1728, 'ali': 1729, 'relativ': 1730, 'okei': 1731, 'ahfang': 1732, '@10': 1733, 'drink': 1734, 'moll': 1735, 'heim': 1736, 'gstorb': 1737, 'sterb': 1738, 'fallt': 1739, 'wucha': 1740, 'denked': 1741, 'muasch': 1742, 'bechunsch': 1743, 'emn': 1744, 'schreib': 1745, 'song': 1746, 'hassig': 1747, 'grosst': 1748, 'eina': 1749, 'sucht': 1750, 'irgendwelchi': 1751, 'damal': 1752, 'sock': 1753, 'mid': 1754, 'fuhlsch': 1755, 'auno': 1756, 'verpasst': 1757, 'richtigi': 1758, 'med': 1759, 'mitti': 1760, 'bechum': 1761, 'dassd': 1762, 'gahsch': 1763, 'wohnt': 1764, 'du': 1765, '❤': 1766, 'ersti': 1767, 'blitz': 1768, 'habt': 1769, 'harzig': 1770, 'wurdet': 1771, 'gsehni': 1772, 'esh': 1773, 'ziel': 1774, 'regnet': 1775, 'debii': 1776, '🤷🏼\\u200d♀️': 1777, '👌🏼': 1778, 'gwuss': 1779, 'updat': 1780, 'foteli': 1781, 'privat': 1782, 'tut': 1783, 'lov': 1784, 'nen': 1785, 'ufmerksam': 1786, 'sem': 1787, 'pet': 1788, 'polizist': 1789, 'chash': 1790, 'jungi': 1791, 'gab': 1792, 'wiis': 1793, 'nanig': 1794, 'klappt': 1795, 'mue': 1796, 'vot': 1797, 'spar': 1798, 'tocht': 1799, 'schuch': 1800, 'sprich': 1801, 'zuekunft': 1802, 'bstell': 1803, 'muesi': 1804, 'nenn': 1805, 'gruss': 1806, 'laht': 1807, 'bewusst': 1808, 'schisst': 1809, 'idiot': 1810, 'wunderschon': 1811, 'quasi': 1812, 'tisch': 1813, 'eiget': 1814, 'walt': 1815, 'denki': 1816, 'jahrigi': 1817, 'lug': 1818, 'orang': 1819, 'drei': 1820, 'aktuell': 1821, 'balkon': 1822, 'evt': 1823, 'gras': 1824, '👍🏼': 1825, 'flach': 1826, 'usm': 1827, 'weri': 1828, 'l': 1829, 'parat': 1830, 'ov': 1831, 'wuki': 1832, 'zud': 1833, 'verchauf': 1834, 'verletzt': 1835, 'laba': 1836, 'rund': 1837, 'gwunn': 1838, 'wald': 1839, 'mast': 1840, 'seb': 1841, 'meldet': 1842, 'dan': 1843, 'koleg': 1844, 'kam': 1845, 'beleid': 1846, 'videos': 1847, 'krieg': 1848, '✌': 1849, 'produkt': 1850, 'vielleicht': 1851, '😥': 1852, 'fremd': 1853, 'akku': 1854, 'nab': 1855, 'schmerz': 1856, 'gitz': 1857, 'holl': 1858, 'chips': 1859, 'darfsch': 1860, 'truurig': 1861, 'liab': 1862, 'checkt': 1863, 'vilech': 1864, 'up': 1865, 'ufhor': 1866, 'ufstah': 1867, 'willkomm': 1868, 'franz': 1869, 'story': 1870, 'flieg': 1871, 'wirdi': 1872, 'liit': 1873, 'lg': 1874, '12i': 1875, 'losig': 1876, 'leba': 1877, 'ent': 1878, 'wured': 1879, 'somm': 1880, 'stirbt': 1881, 'abo': 1882, 'kompliziert': 1883, 'cola': 1884, 'fruh': 1885, 'hoffnig': 1886, 'kiff': 1887, '1000': 1888, 'gass': 1889, 'niveau': 1890, 'zieht': 1891, 'stellt': 1892, 'fitness': 1893, 'gemacht': 1894, 'sg': 1895, 'kostet': 1896, 'gart': 1897, 'sowiso': 1898, 'eusi': 1899, 'freundin': 1900, 'dett': 1901, '6i': 1902, 'zmach': 1903, '45': 1904, 'assessment': 1905, 'info': 1906, 'dunn': 1907, 'spil': 1908, 'isst': 1909, '28': 1910, 'hann': 1911, 'blond': 1912, 'k': 1913, 'bh': 1914, 'wersch': 1915, 'don': 1916, 'frusch': 1917, 'muul': 1918, 'mama': 1919, 'schnall': 1920, 'segi': 1921, 'why': 1922, 'kanni': 1923, 'unfall': 1924, '5i': 1925, 'uberleit': 1926, 'ko': 1927, 'steht': 1928, 'tja': 1929, 'parkplatz': 1930, '😡': 1931, 'mueh': 1932, '2-3': 1933, '60': 1934, 'kafi': 1935, 'lernt': 1936, 'duesch': 1937, 'wetti': 1938, 'frisch': 1939, 'kass': 1940, 'ussag': 1941, 'intressiert': 1942, 'aah': 1943, 'schieb': 1944, 'emol': 1945, 'tuesch': 1946, 'schono': 1947, 'ubel': 1948, 'usserd': 1949, '“': 1950, 'genial': 1951, 'erwart': 1952, 'huara': 1953, 'hus': 1954, 'chostet': 1955, 'dorfsch': 1956, 'autobahn': 1957, 'chouf': 1958, 'nd': 1959, 'friendzon': 1960, 'bstellt': 1961, 'hau': 1962, 'was': 1963, 'jep': 1964, 'mehreri': 1965, 'jemal': 1966, 'gloscht': 1967, 'tattoo': 1968, 'paus': 1969, 'verein': 1970, 'vorn': 1971, 'renn': 1972, 'une': 1973, 'nutella': 1974, 'girl': 1975, 'blas': 1976, 'natel': 1977, 'jok': 1978, 'ching': 1979, 'abschluss': 1980, 'ers': 1981, '😛': 1982, 'vogel': 1983, 'pris': 1984, 'wild': 1985, 'bekomm': 1986, 'konzert': 1987, '😍😍😍': 1988, 'band': 1989, 'tun': 1990, 'kennet': 1991, 'heissisch': 1992, 'bank': 1993, 'wii': 1994, 'real': 1995, 'haus': 1996, 'out': 1997, 'figg': 1998, 'leg': 1999, 'mind': 2000, 'mitarbeit': 2001, 'mindest': 2002, 'bmw': 2003, 'tim': 2004, 'schau': 2005, 'angscht': 2006, 'chonnti': 2007, '😅😅': 2008, 'wixx': 2009, 'attraktiv': 2010, 'fingi': 2011, 'berg': 2012, 'schiff': 2013, 'hort': 2014, 'one': 2015, 'gsellschaft': 2016, 'drauf': 2017, 'sympath': 2018, 'zama': 2019, 'schnau': 2020, 'blieb': 2021, 'aar': 2022, 'usverseh': 2023, 'itali': 2024, 'nachbar': 2025, 'gsuecht': 2026, 'lag': 2027, '200': 2028, 'telefon': 2029, 'neei': 2030, 'verdi': 2031, 'beweg': 2032, 'jugend': 2033, 'sexy': 2034, 'fakt': 2035, 'dud': 2036, 'verzellt': 2037, 'diskussion': 2038, 'glaubi': 2039, 'respekt': 2040, 'spital': 2041, 'angeri': 2042, 'wond': 2043, 'verwirrt': 2044, 'om': 2045, 'arbet': 2046, 'cod': 2047, 'gstand': 2048, 'wahrschin': 2049, 'hitz': 2050, 'wartet': 2051, 'madel': 2052, 'komischi': 2053, 'mus': 2054, 'chlii': 2055, 'ahn': 2056, '2x': 2057, 'tolli': 2058, 'schaffet': 2059, 'dor': 2060, 'morga': 2061, 'tee': 2062, 'mitneh': 2063, 'fress': 2064, 'bedutet': 2065, 'romant': 2066, 'xi': 2067, 'autos': 2068, 'zog': 2069, 'yes': 2070, 'nutzt': 2071, 'sitt': 2072, 'namal': 2073, 'niid': 2074, 'rueh': 2075, 'sound': 2076, 'aun': 2077, 'servic': 2078, 'ihrn': 2079, 'break': 2080, 'gusch': 2081, 'wechsl': 2082, 'himmel': 2083, '4i': 2084, 'dir': 2085, 'zha': 2086, 'star': 2087, 'frond': 2088, 'liegt': 2089, 'einsam': 2090, '1x': 2091, 'ebbis': 2092, 'gahd': 2093, 'ey': 2094, '😶': 2095, 'drmit': 2096, 'aner': 2097, 'firma': 2098, 'vergiss': 2099, 'wuk': 2100, 'eba': 2101, 'interessi': 2102, '3er': 2103, 'what': 2104, 'noh': 2105, 'sottsch': 2106, 'sglich': 2107, 'v': 2108, 'brutal': 2109, 'hobby': 2110, 'sgfuhl': 2111, 'erwartet': 2112, 'abend': 2113, 'traff': 2114, 'swisscom': 2115, 'trunk': 2116, 'rum': 2117, 'dena': 2118, '--': 2119, 'beidn': 2120, 'dach': 2121, 'kenneglernt': 2122, 'spiegel': 2123, 'kund': 2124, 'setz': 2125, 'erlebt': 2126, 'gsproch': 2127, 'wis': 2128, 'mussi': 2129, 'duschi': 2130, 'bruchi': 2131, 'uuf': 2132, 'kumm': 2133, 'vorteil': 2134, 'schribsch': 2135, 'gwitt': 2136, 'wared': 2137, 'gomm': 2138, 'dran': 2139, 'sozial': 2140, 'mark': 2141, 'lis': 2142, 'freiwill': 2143, 'jooo': 2144, 'wiem': 2145, 'heftig': 2146, 'woll': 2147, 'autofahr': 2148, 'stock': 2149, 'furz': 2150, 'hell': 2151, 'bluet': 2152, '80': 2153, 'wasd': 2154, 'ssj': 2155, 'down': 2156, 'nebed': 2157, 'agebot': 2158, 'ufn': 2159, 'leist': 2160, 'versteh': 2161, 'verwutscht': 2162, 'letst': 2163, 'septemb': 2164, 'aargau': 2165, 'held': 2166, 'eth': 2167, 'versuecht': 2168, 'begriff': 2169, 'amu': 2170, 'desweg': 2171, 'jedoch': 2172, 'bechunnt': 2173, 'mitemn': 2174, '🤔🤔': 2175, 'nehm': 2176, 'asiat': 2177, 'erreicht': 2178, 'win': 2179, 'verglich': 2180, 'fuessball': 2181, 'wahrschinli': 2182, 'mercii': 2183, 'grat': 2184, 'sies': 2185, 'trag': 2186, 'jed': 2187, 'entschuld': 2188, 'schwizerdutsch': 2189, 'hocksch': 2190, 'somit': 2191, 'termin': 2192, 'klaut': 2193, 'sitzt': 2194, 'typisch': 2195, 'anschin': 2196, 'nagel': 2197, 'alban': 2198, 'chlis': 2199, 'schaffa': 2200, 'wahl': 2201, '90': 2202, 'heissi': 2203, 'denket': 2204, 'lies': 2205, 'intress': 2206, 'prison': 2207, 'olt': 2208, 'chann': 2209, 'sali': 2210, 'rap': 2211, 'un': 2212, '2h': 2213, 'suff': 2214, 'sa': 2215, 'schlechti': 2216, 'back': 2217, 'fed': 2218, 'bizli': 2219, 'lahn': 2220, 'drzue': 2221, 'ai': 2222, 'pill': 2223, 'ufgfall': 2224, '@11': 2225, 'gschlecht': 2226, 'damfau': 2227, '🎉': 2228, 'fuecht': 2229, 'rappi': 2230, 'workli': 2231, 'fair': 2232, 'bach': 2233, 'big': 2234, 'huut': 2235, 'erkennt': 2236, '20i': 2237, 'baum': 2238, 'styl': 2239, 'geseh': 2240, 'eidut': 2241, 'emal': 2242, 'langet': 2243, 'rundi': 2244, 'weit': 2245, 'sotti': 2246, 'lauch': 2247, 'spani': 2248, 'glaubt': 2249, 'mom': 2250, 'mentig': 2251, 'ph': 2252, 'ghorsch': 2253, 'chat': 2254, 'jean': 2255, 'dabei': 2256, 'schnitt': 2257, 'chuchi': 2258, 'fit': 2259, 'vori': 2260, 'depression': 2261, 'drfur': 2262, 'redsch': 2263, 'riis': 2264, 'rasi': 2265, 'joor': 2266, 'ois': 2267, 'plotzli': 2268, 'studiert': 2269, 'wk': 2270, 'mull': 2271, 'naturlech': 2272, 'fruech': 2273, 'lernsch': 2274, 'roti': 2275, 'ruum': 2276, 'dont': 2277, 'hmmm': 2278, 'villech': 2279, 'abem': 2280, 'lueged': 2281, 'packli': 2282, 'ws': 2283, 'fragsch': 2284, 'hihi': 2285, 'astand': 2286, 'rock': 2287, 'meined': 2288, 'wella': 2289, 'busi': 2290, 'ihr': 2291, 'heti': 2292, 'zeich': 2293, 'chlei': 2294, 'zah': 2295, 'ging': 2296, 'fuul': 2297, 'trozd': 2298, 'grundsatz': 2299, '🙈😂': 2300, 'foreveralon': 2301, 'rat': 2302, 'spotify': 2303, 'offent': 2304, 'sosch': 2305, 'rezept': 2306, 'half': 2307, 'bruuch': 2308, 'sprach': 2309, 'zfried': 2310, 'ev': 2311, 'ironi': 2312, '🙌': 2313, 'harry': 2314, 'usbild': 2315, 'gnoh': 2316, 'zuck': 2317, 'went': 2318, 'zumind': 2319, '😂😅': 2320, 'steck': 2321, 'eppert': 2322, '27': 2323, 'umgekehrt': 2324, 'kampf': 2325, 'polit': 2326, 'benutz': 2327, 'bechunt': 2328, 'mueni': 2329, 'betrunk': 2330, 'behindert': 2331, 'breaking': 2332, 'hubschi': 2333, 'nervt': 2334, 'eimol': 2335, 'albani': 2336, 'team': 2337, 'zo': 2338, 'putzt': 2339, 'dad': 2340, 'luegi': 2341, 'www': 2342, 'kenna': 2343, 'guata': 2344, 'wahnsinn': 2345, 'swiss': 2346, 'g20': 2347, 'rapp': 2348, 'heicho': 2349, 'gym': 2350, 'zmorg': 2351, 'hoffentli': 2352, 'besseri': 2353, 'emen': 2354, 'sega': 2355, 'mitbewohn': 2356, 'machem': 2357, 'via': 2358, 'schwarzi': 2359, 'leistig': 2360, 'schlau': 2361, 'sing': 2362, 'ernahr': 2363, 'dankbar': 2364, 'passend': 2365, 'arrogant': 2366, 'legal': 2367, 'nochli': 2368, 'cousin': 2369, 'kamera': 2370, 'verhalt': 2371, 'chines': 2372, 'strom': 2373, 'rip': 2374, 'nerv': 2375, 'sy': 2376, 'm20': 2377, 'weisi': 2378, 'unglaub': 2379, 'brauch': 2380, 'training': 2381, 'ups': 2382, 'zerstort': 2383, 'nami': 2384, '18ni': 2385, 'erinner': 2386, 'korrekt': 2387, 'chonti': 2388, 'chontsch': 2389, 'hurat': 2390, 'puff': 2391, 'mac': 2392, 'troch': 2393, 'buechstab': 2394, 'chonnd': 2395, 'jungfrau': 2396, 'stei': 2397, 'bsund': 2398, 'eventuell': 2399, 'ufer': 2400, 'wlan': 2401, 'gwohnt': 2402, 'bliib': 2403, 'abstand': 2404, 'new': 2405, 'lebt': 2406, 'rugg': 2407, '🤷🏼\\u200d♂️': 2408, 'imfau': 2409, 'regelmass': 2410, 'bewerb': 2411, 't-shirt': 2412, 'fach': 2413, 'ablenk': 2414, 'opf': 2415, 'regel': 2416, 'rassist': 2417, 'daa': 2418, 'wurdsch': 2419, 'match': 2420, 'jedesmal': 2421, 'infos': 2422, 'mittwuch': 2423, 'maximilian': 2424, 'mutt': 2425, 'verbot': 2426, 'erlaubt': 2427, 'fium': 2428, 'fir': 2429, 'suuf': 2430, 'wieni': 2431, 'dritt': 2432, 'ignori': 2433, 'scham': 2434, 'noo': 2435, 'verbring': 2436, 'fragenuberfrag': 2437, 'dorfi': 2438, 'ziemli': 2439, 'ines': 2440, 'churzi': 2441, 'worda': 2442, 'endli': 2443, 'desto': 2444, 'verlur': 2445, 'lachl': 2446, 'nuut': 2447, 'minus': 2448, 'baustell': 2449, 'ids': 2450, 'oha': 2451, 'ubercho': 2452, 'irgendwas': 2453, 'chumm': 2454, 'supp': 2455, 'steu': 2456, 'verarscht': 2457, 'harz': 2458, 'nutz': 2459, '🤦🏼\\u200d♀️': 2460, 'eifacht': 2461, 'unt': 2462, '😯': 2463, 'bitzli': 2464, 'lernphas': 2465, 'chart': 2466, 'nervos': 2467, 'kaff': 2468, 'kur': 2469, 'glichi': 2470, 'sieht': 2471, 'block': 2472, 'moderator': 2473, 'schoon': 2474, 'fahl': 2475, '1-2': 2476, 'ros': 2477, 'sch': 2478, 'leck': 2479, 'kolleginn': 2480, 'degeg': 2481, 'issisch': 2482, 'einzigi': 2483, 'schloss': 2484, 'fahra': 2485, 'plotzlech': 2486, 'sms': 2487, 'saged': 2488, 'jop': 2489, 'ehe': 2490, 'notgeil': 2491, 'mod': 2492, 'mes': 2493, 'gsi😂': 2494, 'chest': 2495, 'km': 2496, 'bringsch': 2497, 'vertrau': 2498, 'europa': 2499, 'lovoo': 2500, 'besuch': 2501, 'fau': 2502, 'vermuet': 2503, 'lueget': 2504, 'reda': 2505, 'klappet': 2506, 'meini': 2507, 'tip': 2508, 'traini': 2509, 'aktiv': 2510, 'good': 2511, 'wema': 2512, 'option': 2513, 'buur': 2514, 'cheib': 2515, 'waut': 2516, 'glock': 2517, 'stor': 2518, 'darfi': 2519, 'suit': 2520, 'rucksack': 2521, 'amol': 2522, 'hing': 2523, 'bedut': 2524, 'camping': 2525, 'konto': 2526, 'your': 2527, 'gset': 2528, '🙌🏻': 2529, 'schoo': 2530, 'bruscht': 2531, 'ziet': 2532, 'ouu': 2533, 'programm': 2534, 'gend': 2535, 'mundlich': 2536, 'kalt': 2537, 'dah': 2538, 'heii': 2539, 'gsy': 2540, 'erd': 2541, 'religion': 2542, 'diskuti': 2543, 'strang': 2544, 'energi': 2545, 'usegfund': 2546, 'laptop': 2547, 'hiuft': 2548, 'spaghetti': 2549, 'bart': 2550, 'lig': 2551, 'stutz': 2552, 'drvo': 2553, 'next': 2554, 'magsch': 2555, 'suss': 2556, 'munich': 2557, '5min': 2558, 'theoret': 2559, 'drinn': 2560, 'istell': 2561, 'abgeh': 2562, 'ligt': 2563, 'druckt': 2564, 'w21': 2565, 'gegenub': 2566, 'verstond': 2567, 'ezt': 2568, 'null': 2569, '😵': 2570, 'schiint': 2571, 'panik': 2572, 'trotz': 2573, 'andi': 2574, 'guati': 2575, 'boot': 2576, 'umd': 2577, 'true': 2578, 'schwar': 2579, 'vorau': 2580, 'namli': 2581, 'glehrt': 2582, 'moss': 2583, 'ring': 2584, 'jezt': 2585, 'benutzt': 2586, 'ann': 2587, 'gmold': 2588, 'fahred': 2589, 'soooo': 2590, 'dreck': 2591, 'euchi': 2592, 'usprobi': 2593, 'mein': 2594, 'hufig': 2595, 'schriebsch': 2596, 'raus': 2597, 'amerika': 2598, 'gehort': 2599, 'trump': 2600, 'jah': 2601, 'trinkt': 2602, 'ahlueg': 2603, 'maschin': 2604, 'weish': 2605, 'auu': 2606, 'acho': 2607, '150': 2608, 'biet': 2609, 'wunscht': 2610, 'geschrieb': 2611, 'high': 2612, 'schwitz': 2613, 'erchlar': 2614, 'getrank': 2615, 'namlich': 2616, 'hb': 2617, 'dunkel': 2618, 'chomet': 2619, 'liabi': 2620, 'pott': 2621, 'lack': 2622, 'nachem': 2623, 'wahrschindli': 2624, '🤷': 2625, 'essa': 2626, 'billet': 2627, 'negst': 2628, 'hatsch': 2629, 'chf': 2630, 'artikel': 2631, 'hoh': 2632, 'gau': 2633, 'lenzburg': 2634, 'ener': 2635, 'chent': 2636, 'family': 2637, 'werom': 2638, 'brud': 2639, 'nomau': 2640, 'stur': 2641, 'gesagt': 2642, 'kontroll': 2643, 'uberhoupt': 2644, 'derbi': 2645, 'buess': 2646, 'fendi': 2647, 'verkauft': 2648, 'ans': 2649, 'versicher': 2650, 'gfueu': 2651, 'kensch': 2652, 'linkin': 2653, 'verlieb': 2654, 'decki': 2655, 'eg': 2656, 'box': 2657, '•': 2658, 'luaga': 2659, 'io': 2660, '😂👌': 2661, 'pfann': 2662, 'wochen': 2663, 'ufstoh': 2664, 'bisi': 2665, 'hutzutag': 2666, '🍻': 2667, 'doktor': 2668, 'solothurn': 2669, 'gangi': 2670, 'music': 2671, 'tram': 2672, 'hattsch': 2673, 'salz': 2674, 'wolf': 2675, 'hof': 2676, '✌🏼': 2677, 'm23': 2678, 'schwach': 2679, 'jedefall': 2680, 'tua': 2681, 'brocht': 2682, 'spazi': 2683, 'deutschland': 2684, 'umgab': 2685, 'dera': 2686, 'schiess': 2687, 'stross': 2688, 'isch😂': 2689, 'geburi': 2690, 'downgvotet': 2691, 'phas': 2692, 'regl': 2693, 'woss': 2694, 'zua': 2695, 'bruucht': 2696, 'ime': 2697, 'medi': 2698, 'gschiss': 2699, 'gefuhl': 2700, 'hockt': 2701, 'biss': 2702, 'beantwort': 2703, 'ton': 2704, 'moched': 2705, 'zellt': 2706, 'schutz': 2707, 'negativ': 2708, 'kart': 2709, 'ver': 2710, 'verarsch': 2711, 'prinzip': 2712, 'frondin': 2713, 'gschlacht': 2714, 'gschickt': 2715, 'sowit': 2716, 'ikea': 2717, '😮': 2718, 'ball': 2719, 'ge': 2720, 'flirt': 2721, 'thailand': 2722, 'mitt': 2723, 'schul': 2724, 'derfsch': 2725, 'motz': 2726, 'kopfhor': 2727, 'websit': 2728, 'ahgfang': 2729, '✌️': 2730, 'hous': 2731, 'hochdutsch': 2732, 'spricht': 2733, 'stinkt': 2734, 'cbd': 2735, 'wahri': 2736, 'ohhh': 2737, 'hahha': 2738, 'qualitat': 2739, 'zuestand': 2740, '-ich': 2741, 'normau': 2742, 'daheim': 2743, 'garag': 2744, 'wallis': 2745, 'are': 2746, 'wiblich': 2747, 'mass': 2748, 'koff': 2749, 'ever': 2750, 'tuend': 2751, 'ufreg': 2752, 'schreibt': 2753, 'gra': 2754, 'werda': 2755, 'stern': 2756, 'fingsch': 2757, 'womm': 2758, 'vier': 2759, 'gan': 2760, 'pennt': 2761, 'auss': 2762, 'genug': 2763, 'vorhar': 2764, 'ui': 2765, 'day': 2766, 'tell': 2767, 'miet': 2768, 'afo': 2769, 'eut': 2770, 'hab': 2771, 'afa': 2772, 'gfung': 2773, 'ragnet': 2774, 'grenz': 2775, 'wan': 2776, 'form': 2777, 'drom': 2778, 'ufen': 2779, '🤦🏻\\u200d♂️': 2780, 'laufsch': 2781, 'schuss': 2782, 'nani': 2783, 'if': 2784, 'tuat': 2785, 'mos': 2786, 'fuehl': 2787, 'android': 2788, 'vorus': 2789, 'zmittag': 2790, 'ed': 2791, 'last': 2792, 'oma': 2793, '3-4': 2794, 'basl': 2795, 'ussicht': 2796, 'minr': 2797, 'gschlaf': 2798, 'fucking': 2799, 'wukli': 2800}\n",
            "training_ftrs shape=  (22583, 2801)\n",
            "training_ftrs[0] type=  <class 'numpy.ndarray'>\n",
            "training_ftrs[0][0] type=  <class 'numpy.float32'>\n",
            "features type =  <class 'numpy.ndarray'>\n",
            "features shape =  (22583, 2801)\n",
            "len content validation =  3044\n",
            "index validation =  0\n",
            "first row validation =  203001,52.098389261744956,10.3544964028777,\"wenn mer anere party bi kollege en neue bro findt er hät sogar drü vo däne 😍\"\n",
            "\n",
            "second row validation =  200313,51.629865771812064,7.723453237410073,\"heii guetä wuchestart gha? jo wunderbar und du? jaa so nachde ferie chli müesam aber schüsch okeii👌 jojo nume nid z sträng nö so am afang 🙊 jo vou das isch so👌 ja danke :) aber au ig ha chli müeh gha so nach de ferie ja sicher han hüt frei gha😌\"\n",
            "\n",
            "index validation =  1000\n",
            "index validation =  2000\n",
            "index validation =  3000\n"
          ],
          "name": "stdout"
        },
        {
          "output_type": "stream",
          "text": [
            "/usr/local/lib/python3.6/dist-packages/ipykernel_launcher.py:107: VisibleDeprecationWarning: Creating an ndarray from ragged nested sequences (which is a list-or-tuple of lists-or-tuples-or ndarrays with different lengths or shapes) is deprecated. If you meant to do this, you must specify 'dtype=object' when creating the ndarray\n"
          ],
          "name": "stderr"
        },
        {
          "output_type": "stream",
          "text": [
            "{'UNK': 0, 'isch': 1, 'de': 2, 'au': 3, 'i': 4, 'ja': 5, 'e': 6, 'en': 7, 'no': 8, 'uf': 9, 'het': 10, 'bi': 11, 'nid': 12, 'ha': 13, '😂': 14, 'scho': 15, 'vo': 16, 'ned': 17, 'd': 18, 'mer': 19, 'han': 20, 'nod': 21, 'hesch': 22, 'bisch': 23, 'z': 24, '@1': 25, '@2': 26, 'eifach': 27, 'a': 28, 'mal': 29, 'guet': 30, 'imm': 31, 'si': 32, 's': 33, '@oj': 34, 'mach': 35, 'u': 36, '-': 37, 'dr': 38, 'grad': 39, 'gsi': 40, 'mi': 41, 'nei': 42, 'di': 43, 'us': 44, 'kei': 45, '@3': 46, 'jo': 47, 'git': 48, '2': 49, 'hani': 50, 'hend': 51, 'mini': 52, 'me': 53, 'chli': 54, 'ah': 55, 'jodel': 56, 'haha': 57, 'wer': 58, 'ganz': 59, 'war': 60, 'min': 61, 'go': 62, '😅': 63, 'schon': 64, 'weiss': 65, 'meh': 66, 'frau': 67, 'esch': 68, 'mol': 69, '🤔': 70, 'chasch': 71, '1': 72, 'tag': 73, 'dank': 74, 'hut': 75, 'ds': 76, 'cha': 77, '@4': 78, 'bim': 79, 'opp': 80, 'num': 81, 'wieso': 82, 'sich': 83, 'gern': 84, 'glaub': 85, 'nut': 86, 'alt': 87, '😉': 88, 'lieb': 89, 'lut': 90, 'ide': 91, 'eh': 92, 'gha': 93, 'lang': 94, 'nie': 95, 'nit': 96, '3': 97, 'do': 98, 'ond': 99, 'macht': 100, 'da': 101, 'oj': 102, 'voll': 103, 'glich': 104, 'find': 105, 'chan': 106, 'lueg': 107, '😊': 108, 'gmacht': 109, 'o': 110, 'w': 111, 'richtig': 112, 'alli': 113, 'mega': 114, 'bess': 115, 'm': 116, 'genau': 117, 'dini': 118, 'hed': 119, 'ig': 120, 'well': 121, 'gseh': 122, 'muess': 123, 'leid': 124, 'em': 125, 'din': 126, 'jahr': 127, 'ab': 128, 'wenn': 129, 'schaff': 130, 'erst': 131, '🙈': 132, '😂😂': 133, 'halt': 134, 'kolleg': 135, 'aso': 136, 'wurd': 137, 'cho': 138, 'gad': 139, 'scheiss': 140, '&': 141, 'paar': 142, 'mis': 143, 'geil': 144, 'det': 145, 'frag': 146, 'sit': 147, 'abr': 148, 'ou': 149, 'feri': 150, 'sorry': 151, '@5': 152, 'hett': 153, 'gaht': 154, 'oh': 155, 'muesch': 156, 'oppis': 157, 'is': 158, '5': 159, 'gar': 160, 'moment': 161, 'selb': 162, 'na': 163, 'gang': 164, 'mau': 165, 'hei': 166, 'zug': 167, 'hat': 168, 'kenn': 169, 'bitt': 170, 'bini': 171, 'ohni': 172, 'mann': 173, 'oper': 174, 'wuch': 175, 'gueti': 176, 'word': 177, 'ebe': 178, 'sag': 179, 'seg': 180, 'morn': 181, 'recht': 182, 'mim': 183, 'best': 184, '😍': 185, 'heisst': 186, 'wen': 187, '😄': 188, 'ish': 189, 'ech': 190, 'frund': 191, 'all': 192, 'wur': 193, 'numm': 194, 'ih': 195, 'as': 196, 'probl': 197, 'hand': 198, 'ni': 199, 'ke': 200, 'sup': 201, 'eu': 202, 'seit': 203, 'ga': 204, 'ma': 205, 'wett': 206, 'sach': 207, '4': 208, 'gseit': 209, 'chunt': 210, 'weisch': 211, 'echt': 212, 'be': 213, 'morg': 214, 'ne': 215, 'wennd': 216, '😁': 217, 'frog': 218, 'bett': 219, 'gross': 220, 'id': 221, 'person': 222, 'eher': 223, 'ez': 224, 'gah': 225, 'nach': 226, 'odr': 227, 'mit': 228, 'los': 229, 'met': 230, '🙄': 231, 'hahaha': 232, 'gseht': 233, 'druf': 234, 'frundin': 235, 'eini': 236, 'goht': 237, 'wenig': 238, 'opis': 239, 'lauft': 240, 'eis': 241, 'cham': 242, 'has': 243, 'fall': 244, 'kik': 245, 'typ': 246, 'schlimm': 247, 'ufem': 248, 'chunnt': 249, 'leb': 250, 'jaa': 251, 'sex': 252, '@6': 253, 'mr': 254, 'sech': 255, 'jhj': 256, 'chum': 257, 'denk': 258, 'sogar': 259, 'woni': 260, 'ess': 261, '^^': 262, 'klar': 263, 'kennt': 264, 'use': 265, 'denkt': 266, 'neu': 267, 'merci': 268, 'schnell': 269, 'auto': 270, 'eigent': 271, 'dia': 272, 'lust': 273, 'gluck': 274, 'wiso': 275, 'suech': 276, 'liebi': 277, 'sii': 278, 'machsch': 279, 'ziit': 280, 'fahr': 281, 'dur': 282, 'bier': 283, 'fur': 284, '😂😂😂': 285, 'ir': 286, 'mensch': 287, 'den': 288, 'ok': 289, 'viu': 290, '😏': 291, 'sin': 292, 'wed': 293, 'dis': 294, 'spass': 295, 'demfall': 296, 'son': 297, 'bruch': 298, 'susch': 299, 'zwei': 300, 'chani': 301, 'cool': 302, 'we': 303, 'anderi': 304, 'meist': 305, 'drum': 306, 'meinsch': 307, 'ka': 308, 'eif': 309, 'passiert': 310, 'geh': 311, 'huer': 312, 'brucht': 313, 'luut': 314, 'eig': 315, 'gmeint': 316, 'sott': 317, 'xd': 318, 'jodl': 319, 'nam': 320, 'for': 321, 'schlecht': 322, 'egal': 323, 'ghort': 324, 'wos': 325, 'der': 326, 'schrib': 327, 'wid': 328, '20': 329, 'wel': 330, '10': 331, 'eus': 332, 'red': 333, 'wend': 334, 'vill': 335, 'gest': 336, 'geld': 337, 'the': 338, 'zit': 339, 'wenni': 340, 'b': 341, 'etz': 342, 'schlaf': 343, 'einzig': 344, 'handy': 345, 'wag': 346, 'falsch': 347, 'weg': 348, 'erfahr': 349, 'nacht': 350, 'wart': 351, 'eim': 352, 'hahah': 353, 'vlt': 354, 'mues': 355, 'abe': 356, 'stimmt': 357, 'zuri': 358, 'hie': 359, 'jetz': 360, 'besch': 361, 'hatt': 362, 'irgendwi': 363, 'trotzd': 364, 'wa': 365, 'send': 366, 'geit': 367, 'lehr': 368, '😜': 369, 'easy': 370, 'wia': 371, 'dra': 372, 'hey': 373, 'ine': 374, 'hasch': 375, 'gfuhl': 376, 'zue': 377, 'wohl': 378, 'wach': 379, 'ober': 380, 'fast': 381, 'hoff': 382, 'trink': 383, 'gfund': 384, 'wass': 385, 'usgang': 386, 'das': 387, 'chond': 388, 'dim': 389, 'abig': 390, 'bild': 391, 'nah': 392, 'warum': 393, 'garn': 394, 'gut': 395, 'iz': 396, 'johr': 397, 'film': 398, 'normal': 399, 'lab': 400, 'soll': 401, 'witz': 402, 'mehr': 403, 'wem': 404, 'wurkli': 405, 'sini': 406, 'of': 407, 'monet': 408, 'heiss': 409, 'bezieh': 410, 'ume': 411, 'nu': 412, 'wi': 413, 'dert': 414, 'frou': 415, 'post': 416, 'lustig': 417, 'mier': 418, 'stadt': 419, 'wird': 420, 'mami': 421, 'wott': 422, 'jung': 423, 'kollegin': 424, 'antwort': 425, 'dat': 426, 'schrieb': 427, 'chind': 428, 'oft': 429, 'auso': 430, 'wuss': 431, 'wit': 432, 'ahnig': 433, 'ca': 434, 'dasi': 435, 'teil': 436, 'her': 437, 'grund': 438, 'weni': 439, 'obe': 440, 'wort': 441, 'gnueg': 442, 'becho': 443, 'ufe': 444, 'wot': 445, 'debi': 446, 'schwiz': 447, 'findi': 448, 'fertig': 449, 'vorh': 450, 'keis': 451, '6': 452, 'stund': 453, 'beid': 454, 'usem': 455, 'noch': 456, 'tont': 457, 'allei': 458, 'dam': 459, 'findet': 460, 'googl': 461, '7': 462, '@7': 463, 'aui': 464, 'frei': 465, 'wichtig': 466, 'p': 467, 'dumm': 468, 'gib': 469, 'stell': 470, 'chont': 471, 'nix': 472, 'obb': 473, 'nimm': 474, 'chonnt': 475, '18': 476, 'ufs': 477, 'arsch': 478, 'lern': 479, 'se': 480, 'angst': 481, 'will': 482, 'amig': 483, 'noni': 484, '0': 485, 'geg': 486, 'etc': 487, 'tur': 488, 'langsam': 489, 'wetsch': 490, 'hund': 491, 'ar': 492, 'musch': 493, 'sinn': 494, 'maa': 495, 'sind': 496, 'soo': 497, 'und': 498, 'see': 499, 'wotsch': 500, 'sust': 501, 'vod': 502, 'neui': 503, 'inn': 504, 'toll': 505, 'fuhl': 506, 'halb': 507, 'repost': 508, 'platz': 509, 'je': 510, 'wiit': 511, 'nor': 512, 'chonn': 513, 'passt': 514, 'drub': 515, 'ane': 516, 'ihri': 517, '😋': 518, 'emm': 519, 'wirsch': 520, 'off': 521, 'app': 522, 'la': 523, 'vu': 524, 'ner': 525, 'letscht': 526, 'epp': 527, 'demit': 528, 'spiel': 529, 'nud': 530, 'zam': 531, 'seri': 532, 'bish': 533, 'zahl': 534, 'chauf': 535, 'nar': 536, 'lauf': 537, 'gratis': 538, 'wemm': 539, 'vor': 540, 'minut': 541, 'chunsch': 542, 'ade': 543, 'schuel': 544, 'komisch': 545, 'schwarz': 546, 'gse': 547, 'gond': 548, 'niemert': 549, 'mag': 550, 'arm': 551, 'dorf': 552, 'chas': 553, 'bruchsch': 554, 'ort': 555, 'fing': 556, 'summ': 557, 'ex': 558, 'niem': 559, 'wohn': 560, 'probi': 561, 'lah': 562, 'bring': 563, 'mitm': 564, 'job': 565, 'berlin': 566, 'wies': 567, 'defur': 568, 'schwiiz': 569, 'weis': 570, 'tue': 571, 'hesh': 572, 'immerno': 573, 'vorall': 574, 'hallo': 575, 'pizza': 576, 'wenigst': 577, 'suscht': 578, 'lied': 579, 'gliich': 580, 'racht': 581, 'uberhaupt': 582, 'seisch': 583, 'netflix': 584, '30': 585, 'gsii': 586, 'internet': 587, 'wurdi': 588, 'wom': 589, 'kommentar': 590, 'wc': 591, '😎': 592, 'welt': 593, 'elt': 594, '☺️': 595, 'dezu': 596, 'gott': 597, 'tipps': 598, 'schad': 599, 'bus': 600, '😘': 601, 'naja': 602, 'meinig': 603, 'schoni': 604, 'natur': 605, 'hmm': 606, 'ticket': 607, '=': 608, 'ben': 609, 'froh': 610, 'nonig': 611, 'tuet': 612, 'lach': 613, 'kenni': 614, 'dutsch': 615, '21': 616, 'hamm': 617, 'letzt': 618, 'bringt': 619, 'blod': 620, 'ernst': 621, 'sis': 622, 'nimmt': 623, '@8': 624, 'duss': 625, 'top': 626, 'tipp': 627, 'ufd': 628, 'gid': 629, 'oke': 630, 'vat': 631, 'nochi': 632, 'dort': 633, 'gloub': 634, 'uss': 635, 'ersch': 636, 'schluss': 637, 'kind': 638, 'obs': 639, 'ass': 640, 'mached': 641, 'machi': 642, 'gibt': 643, 'bescht': 644, 'aues': 645, 'fasch': 646, 'zeig': 647, 'bald': 648, 'zrugg': 649, 'wil': 650, 'haut': 651, 'afang': 652, 'bock': 653, 'upvot': 654, '🤗': 655, 'vell': 656, 'biz': 657, '15': 658, 'and': 659, 'downvot': 660, 'fein': 661, 'staht': 662, 'buech': 663, 'grossi': 664, 'churz': 665, 'moglich': 666, 'chatz': 667, 't': 668, 'ob': 669, 'dot': 670, 'okay': 671, 'alln': 672, 'chlin': 673, 'beidi': 674, 'zimm': 675, 'bar': 676, 'land': 677, 'einfach': 678, 'militar': 679, 'kennsch': 680, 'fahrt': 681, 'ihn': 682, 'oppert': 683, 'wod': 684, 'chund': 685, 'rot': 686, 'lad': 687, 'verbi': 688, 'hilft': 689, 'bad': 690, 'ad': 691, 'art': 692, 'singl': 693, 'geht': 694, 'solang': 695, 'wunsch': 696, 'zem': 697, 'chill': 698, 'jemand': 699, 'bahnhof': 700, 'fr': 701, 'denn': 702, 'hast': 703, 'obis': 704, 'willsch': 705, 'weh': 706, 'wuri': 707, 'not': 708, 'momentan': 709, 'miar': 710, 'wet': 711, 'chon': 712, 'hass': 713, 'irgendwo': 714, 'gam': 715, 'hilf': 716, '👍': 717, 'leut': 718, 'erscht': 719, 'wund': 720, 'ei': 721, 'langwil': 722, 'neh': 723, 'guat': 724, 'aug': 725, 'druff': 726, 'humor': 727, 'gedank': 728, 'hol': 729, 'momant': 730, 'glas': 731, 'pro': 732, 'zerst': 733, 'gnau': 734, 'schwer': 735, 'direkt': 736, 'mocht': 737, 'empfehl': 738, 'musig': 739, 'gwusst': 740, 'papi': 741, 'wou': 742, 'zb': 743, 'hos': 744, 'coop': 745, 'darf': 746, 'extra': 747, 'bid': 748, '19': 749, 'kasch': 750, 'flug': 751, 'uberall': 752, '17': 753, 'party': 754, 'ehr': 755, 'arzt': 756, 'rauch': 757, 'sport': 758, 'bro': 759, '12': 760, 'irgend': 761, 'studi': 762, 'villicht': 763, '8': 764, '😇': 765, 'openair': 766, 'famili': 767, 'hauptsach': 768, '😬': 769, 'arbeit': 770, 'ch': 771, 'definitiv': 772, 'stoht': 773, 'wand': 774, 'jedi': 775, 'hetti': 776, 'schlof': 777, 'woch': 778, 'bzw': 779, 'eint': 780, 'heit': 781, 'got': 782, 'dehei': 783, 'schu': 784, 'welli': 785, 'snap': 786, 'gsehsch': 787, 'sho': 788, 'dihei': 789, 'aut': 790, 'vilicht': 791, 'chopf': 792, 'plan': 793, 'omg': 794, 'mangisch': 795, '50': 796, 'obwohl': 797, 'schaffsch': 798, 'ach': 799, 'student': 800, 'warm': 801, 'eppis': 802, 'freu': 803, 'dann': 804, 'krass': 805, 'bern': 806, 'wann': 807, 'haar': 808, 'heut': 809, 'findsch': 810, 'ich': 811, 'muett': 812, 'bitz': 813, 'helf': 814, '😳': 815, 'hoch': 816, 'sim': 817, '22': 818, 'itz': 819, 'unbedingt': 820, 'wohnig': 821, 'kauf': 822, 'meint': 823, 'zersch': 824, 'pruefig': 825, 'hot': 826, 'macha': 827, 'link': 828, 'spot': 829, 'dier': 830, 'versuech': 831, 'shit': 832, 'salb': 833, 'vil': 834, 'dankt': 835, 'acht': 836, 'sry': 837, 'joo': 838, 'karma': 839, 'alkohol': 840, '🤣': 841, 'darum': 842, 'ward': 843, 'bevor': 844, 'uber': 845, 'wow': 846, '👌': 847, '😌': 848, 'schlacht': 849, 'luscht': 850, 'eigentli': 851, 'wohnsch': 852, 'perfekt': 853, '00': 854, 'fett': 855, 'you': 856, 'sitz': 857, 'endlich': 858, 'to': 859, '😀': 860, 'migros': 861, 'les': 862, 'ein': 863, 'schatz': 864, 'vergess': 865, 'wari': 866, 'prufung': 867, 'bod': 868, 'ere': 869, 'kai': 870, 'keini': 871, 'usw': 872, 'verstand': 873, 'werd': 874, 'wosch': 875, '😱': 876, 'gall': 877, 'ghor': 878, 'statt': 879, 'meld': 880, 'due': 881, 'chef': 882, 'n': 883, 'viel': 884, 'dassi': 885, 'zyt': 886, 'punkt': 887, 'fest': 888, 'devo': 889, 'gsicht': 890, 'siech': 891, 'musik': 892, '😒': 893, 'gunstig': 894, 'komm': 895, 'ii': 896, 'aua': 897, 'machet': 898, 'ehrlich': 899, 'st': 900, 'verliebt': 901, 'druck': 902, 'insta': 903, '100': 904, 'eso': 905, 'ufm': 906, 'nett': 907, 'glucklich': 908, 'verstah': 909, 'wurklich': 910, 'trurig': 911, 'kann': 912, 'mech': 913, 'kopf': 914, 'aub': 915, 'wahr': 916, 'weli': 917, '😔': 918, 'widr': 919, 'dass': 920, 'opert': 921, 'muss': 922, 'nic': 923, 'wtf': 924, 'evtl': 925, 'loh': 926, 'gfallt': 927, 'youtub': 928, 'sus': 929, '24': 930, 'schiss': 931, 'sofort': 932, 'entscheid': 933, 'he': 934, 'fritig': 935, 'wes': 936, 'zwusch': 937, 'eui': 938, 'verlor': 939, 'luegsch': 940, '16': 941, 'geili': 942, 'kaputt': 943, 'siit': 944, 'englisch': 945, 'vegan': 946, 'amel': 947, '@9': 948, 'blau': 949, 'drin': 950, 'interessiert': 951, 'velo': 952, 'duet': 953, 'sack': 954, 'it': 955, 'goh': 956, 'wursch': 957, 'hung': 958, '23': 959, 'funktioniert': 960, 'ier': 961, 'gasch': 962, 'chomed': 963, 'sig': 964, 'vom': 965, 'zom': 966, 'roll': 967, 'konnt': 968, 'tier': 969, 'kauft': 970, 'ind': 971, 'entwed': 972, 'seid': 973, 'liecht': 974, 'nein': 975, 'nai': 976, 'kes': 977, 'wirklich': 978, 'absolut': 979, 'fuck': 980, 'zieh': 981, 'iner': 982, 'hor': 983, 'muend': 984, 'luegt': 985, 'extr': 986, 'kontakt': 987, 'brued': 988, 'sot': 989, 'gruess': 990, 'zahlt': 991, 'interess': 992, 'ztue': 993, 'zemm': 994, 'club': 995, 'dech': 996, 'nomal': 997, 'bestand': 998, '🙃': 999, 'chanc': 1000, '9': 1001, 'kevin': 1002, 'bir': 1003, 'spruch': 1004, 'fang': 1005, 'nr': 1006, 'ding': 1007, 'gschrib': 1008, 'nomol': 1009, 'samstig': 1010, 'thema': 1011, 'ussert': 1012, '🙂': 1013, 'mitem': 1014, 'gnuss': 1015, '25': 1016, 'ang': 1017, 'farb': 1018, 'obbis': 1019, 'blib': 1020, 'chom': 1021, '14': 1022, 'nom': 1023, 'hubsch': 1024, 'jaaa': 1025, 'werdet': 1026, 'verdammt': 1027, 'monsch': 1028, 'gsesch': 1029, 'mah': 1030, 'zeigt': 1031, 'sunntig': 1032, 'bos': 1033, 'sowieso': 1034, 'einisch': 1035, 'ellei': 1036, 'verzell': 1037, 'freud': 1038, '😭': 1039, 'furd': 1040, 'uh': 1041, 'gmerkt': 1042, 'gluegt': 1043, 'sooo': 1044, 'sowas': 1045, 'thun': 1046, 'huus': 1047, 'tv': 1048, 'satz': 1049, 'ebb': 1050, 'gschafft': 1051, 'nackt': 1052, 'uff': 1053, 'anstatt': 1054, 'zweit': 1055, 'schick': 1056, 'mou': 1057, 'korp': 1058, 'hind': 1059, 'mued': 1060, 'sell': 1061, 'pass': 1062, 'stah': 1063, 'fleisch': 1064, 'willi': 1065, 'foti': 1066, 'okey': 1067, '🤓': 1068, 'hoi': 1069, 'spannend': 1070, 'kurz': 1071, 'saub': 1072, 'dusch': 1073, 'wasi': 1074, 'kunnt': 1075, 'elei': 1076, 'polizei': 1077, 'fuess': 1078, 'iphon': 1079, 'billig': 1080, 'end': 1081, 'hasslich': 1082, 'neus': 1083, 'schomal': 1084, '😆': 1085, 'muet': 1086, 'toff': 1087, 'jez': 1088, 'neb': 1089, 'von': 1090, 'vou': 1091, 'schribt': 1092, 'schwierig': 1093, 'stark': 1094, 'uni': 1095, 'imfall': 1096, 'sett': 1097, 'drus': 1098, 'hatti': 1099, 'fascht': 1100, 'h': 1101, 'facebook': 1102, 'mantig': 1103, 'tot': 1104, 'klein': 1105, 'merksch': 1106, 'nachh': 1107, 'sorg': 1108, '❤️': 1109, 'echli': 1110, 'per': 1111, 'weissi': 1112, 'ligg': 1113, 'aa': 1114, 'bhf': 1115, 'lohnt': 1116, 'umgeb': 1117, 'gles': 1118, 'ehm': 1119, 'hemm': 1120, 'aarau': 1121, 'schriib': 1122, 'gued': 1123, 'hahahaha': 1124, '😃': 1125, 'aha': 1126, 'heh': 1127, 'eier': 1128, 'eich': 1129, 'barn': 1130, 'gfrogt': 1131, 'blick': 1132, 'weekend': 1133, 'bem': 1134, 'channel': 1135, 'dinn': 1136, 'ehn': 1137, 'naturli': 1138, 'andern': 1139, 'geng': 1140, 'nimmsch': 1141, 'zamm': 1142, 'unterschied': 1143, 'musst': 1144, 'har': 1145, 'hock': 1146, 'franzos': 1147, 'erklar': 1148, 'bereit': 1149, 'etzt': 1150, 'wert': 1151, 'furn': 1152, 'snapchat': 1153, 'frogt': 1154, '13': 1155, 'uch': 1156, 'plotzlich': 1157, '😍😍': 1158, 'c': 1159, 'neii': 1160, 'schoggi': 1161, 'vorschlag': 1162, 'muen': 1163, 'strass': 1164, 'fruehn': 1165, 'treff': 1166, 'mir': 1167, 'chunnsch': 1168, 'won': 1169, 'imen': 1170, '20min': 1171, 'grupp': 1172, 'ame': 1173, 'badi': 1174, 'las': 1175, 'fehl': 1176, 'vorstell': 1177, 'kenned': 1178, 'traum': 1179, 'sohn': 1180, 'merkt': 1181, 'jap': 1182, 'get': 1183, 'situation': 1184, 'gno': 1185, 'uus': 1186, 'gisch': 1187, '🙊': 1188, 'unterhalt': 1189, 'penn': 1190, 'denksch': 1191, 'partn': 1192, 'ope': 1193, 'eimal': 1194, 'heimat': 1195, 'hart': 1196, 'diar': 1197, 'arschloch': 1198, 'zum': 1199, 'putz': 1200, 'start': 1201, 'logisch': 1202, 'ganzi': 1203, 'hahahah': 1204, 'sau': 1205, 'lol': 1206, 'immerhin': 1207, 'dick': 1208, 'nech': 1209, 'losch': 1210, 'nee': 1211, 'schweiz': 1212, 'suecht': 1213, 'epis': 1214, 'duu': 1215, 'spitz': 1216, '😐': 1217, 'studium': 1218, 'lass': 1219, 'schwul': 1220, 'herzig': 1221, 'spat': 1222, 'monat': 1223, 'chrank': 1224, 'iwi': 1225, 'schusch': 1226, '😝': 1227, 'ahnlich': 1228, 'glernt': 1229, 'tuur': 1230, 'immr': 1231, 'ahh': 1232, 'wiss': 1233, 'restaurant': 1234, 'jahrig': 1235, 'gag': 1236, 'mengisch': 1237, 'chamm': 1238, 'wien': 1239, 'onlin': 1240, 'gfahr': 1241, '+': 1242, '😩': 1243, 'probiert': 1244, 'fan': 1245, 'gosch': 1246, '☺': 1247, 'woh': 1248, 'gseid': 1249, '😂😂😂😂': 1250, 'nop': 1251, 'kha': 1252, 'spielt': 1253, 'iss': 1254, 'ubrig': 1255, 'verdient': 1256, 'dri': 1257, 'stress': 1258, 'herz': 1259, 'schueh': 1260, 'gell': 1261, 'choch': 1262, 'schwanz': 1263, 'frauefeld': 1264, 'grusig': 1265, 'uhr': 1266, 'postet': 1267, 'meer': 1268, 'zuefall': 1269, 'hutt': 1270, 'bestimmt': 1271, 'tatsach': 1272, 'gschrieb': 1273, 'hert': 1274, 'heb': 1275, 'wurk': 1276, 'klass': 1277, 'interessant': 1278, 'bsuech': 1279, 'bekannt': 1280, 'fu': 1281, 'gschicht': 1282, 'werded': 1283, 'sbb': 1284, 'hald': 1285, 'fruen': 1286, 'doof': 1287, 'region': 1288, 'allgemein': 1289, 'gsie': 1290, 'chlini': 1291, 'reg': 1292, 'jeda': 1293, 'fraua': 1294, 'fangt': 1295, 'usgseh': 1296, 'gfragt': 1297, '😕': 1298, 'solli': 1299, 'eue': 1300, 'kah': 1301, '40': 1302, 'schwang': 1303, 'fb': 1304, 'herr': 1305, 'deheim': 1306, '😑': 1307, 'usland': 1308, 'check': 1309, 'pc': 1310, 'beim': 1311, 'ohh': 1312, 'obi': 1313, 'zeit': 1314, 'frank': 1315, 'gsund': 1316, 'gratuli': 1317, 'kuss': 1318, 'nennt': 1319, 'kondom': 1320, 'whatsapp': 1321, 'gahn': 1322, 'gschaft': 1323, 'rest': 1324, 'schriebt': 1325, 'gsehn': 1326, 'folg': 1327, 'merk': 1328, 'vollig': 1329, 'kat': 1330, 'oich': 1331, 'fiir': 1332, 'chur': 1333, 'stond': 1334, 'simm': 1335, 'rechtig': 1336, 'mc': 1337, 'nomm': 1338, 'ziemlich': 1339, 'besti': 1340, 'freund': 1341, 'stort': 1342, 'seh': 1343, 'praktisch': 1344, 'suess': 1345, 'watt': 1346, 'milch': 1347, 'winti': 1348, 'ruhig': 1349, 'werbig': 1350, 'kanton': 1351, 'gleich': 1352, 'hoor': 1353, 'choi': 1354, 'anderst': 1355, 'fix': 1356, 'nia': 1357, 'kommt': 1358, 'katz': 1359, 'flughaf': 1360, 'wieviel': 1361, 'charakt': 1362, 'ps': 1363, 'uberleg': 1364, 'langt': 1365, 'lo': 1366, '😓': 1367, 'hotel': 1368, 'buch': 1369, 'brust': 1370, 'hanis': 1371, 'my': 1372, 'warsch': 1373, 'bruef': 1374, 'fenst': 1375, 'danka': 1376, 'fisch': 1377, 'dafur': 1378, 'stolz': 1379, 'tod': 1380, 'beni': 1381, 'konn': 1382, 'hang': 1383, 'standig': 1384, 'gd': 1385, 'kv': 1386, 'gat': 1387, 'giz': 1388, 'frueh': 1389, 'gitt': 1390, 'imn': 1391, 'derf': 1392, 'amn': 1393, 'sunn': 1394, 'vllt': 1395, 'rs': 1396, 'verkauf': 1397, 'kli': 1398, 'dasd': 1399, 'amen': 1400, 'positiv': 1401, 'fuhlt': 1402, 'august': 1403, 'nim': 1404, 'spontan': 1405, 'luft': 1406, 'zrug': 1407, 'vum': 1408, 'lost': 1409, 'komplett': 1410, 'loch': 1411, 'dummi': 1412, 'iar': 1413, 'luschtig': 1414, 'sekund': 1415, 'stimm': 1416, 'penis': 1417, 'lw': 1418, 'soviel': 1419, 'staffl': 1420, 'gschid': 1421, 'sofa': 1422, 'bueb': 1423, 'notig': 1424, 'vermiss': 1425, 'hoffent': 1426, 'dasm': 1427, 'nem': 1428, 'zh': 1429, 'gniess': 1430, 'sou': 1431, 'blibt': 1432, 'werum': 1433, 'festival': 1434, '100%': 1435, 'schwost': 1436, 'bau': 1437, 'dutschland': 1438, 'alti': 1439, 'priis': 1440, 'achtung': 1441, 'louft': 1442, 'dru': 1443, 'suechsch': 1444, 'reis': 1445, 'coiffeur': 1446, 'drbi': 1447, '👍🏻': 1448, 'zurch': 1449, 'r': 1450, 'langi': 1451, 'leer': 1452, 'hi': 1453, 'mittag': 1454, 'knapp': 1455, 'stuck': 1456, 'x': 1457, 'geb': 1458, 'lock': 1459, '😢': 1460, 'oaff': 1461, 'selt': 1462, '@': 1463, 'schritt': 1464, 'irgendwenn': 1465, 'wettsch': 1466, 'mo': 1467, 'pack': 1468, 'wint': 1469, 'lohn': 1470, 'kino': 1471, 'god': 1472, 'zviel': 1473, 'gruen': 1474, 'glac': 1475, 'agfang': 1476, 'kaffi': 1477, 'gerad': 1478, 'hsg': 1479, 'mund': 1480, 'luz': 1481, 'ohr': 1482, 'nass': 1483, 'jz': 1484, 'anonym': 1485, 'hanni': 1486, 'speziell': 1487, 'meitli': 1488, 'kennelern': 1489, 'dialekt': 1490, 'gwussi': 1491, 'video': 1492, 'gescht': 1493, 'set': 1494, 'text': 1495, 'bin': 1496, 'hamburg': 1497, 'spinn': 1498, 'deutsch': 1499, 'happy': 1500, 'oasg': 1501, 'wussed': 1502, 'total': 1503, 'gnue': 1504, 'liebt': 1505, 'fehlt': 1506, 'zwenig': 1507, 'haa': 1508, 'weck': 1509, '2017': 1510, 'lap': 1511, 'chalt': 1512, 'bwl': 1513, 'wasch': 1514, 'andersch': 1515, 'ung': 1516, 'usa': 1517, 'gheit': 1518, 'nas': 1519, 'fahrsch': 1520, 'emu': 1521, 'verbii': 1522, 'gli': 1523, 'chillig': 1524, 'cooli': 1525, 'unterweg': 1526, 'wusst': 1527, 'muessi': 1528, 'g': 1529, 'troff': 1530, '💪': 1531, 'park': 1532, 'feria': 1533, 'letschti': 1534, 'seich': 1535, 'schomol': 1536, 'steit': 1537, 'sagt': 1538, 'tind': 1539, 'ries': 1540, 'freut': 1541, 'zahlsch': 1542, 'frogsch': 1543, 'mimimi': 1544, 'viellicht': 1545, 'koch': 1546, 'unnot': 1547, 'euri': 1548, 'fend': 1549, 'starch': 1550, 'lik': 1551, 'radio': 1552, 'besser': 1553, 'brot': 1554, 'gurt': 1555, 'eper': 1556, 'math': 1557, 'nachd': 1558, 'geisch': 1559, 'dus': 1560, 'automat': 1561, 'thron': 1562, '🤔😂': 1563, 'bes': 1564, 'gess': 1565, '11': 1566, 'eme': 1567, 'vomn': 1568, 'wiu': 1569, 'alueg': 1570, 'chleid': 1571, 'haltet': 1572, 'peinlich': 1573, 'such': 1574, 'alk': 1575, 'motivation': 1576, 'hm': 1577, 'ire': 1578, 'eigentlech': 1579, 'zwusched': 1580, 'fick': 1581, 'halbi': 1582, 'lond': 1583, 'sei': 1584, 'jaja': 1585, 'gloff': 1586, 'nachricht': 1587, 'fand': 1588, 'max': 1589, 'mond': 1590, 'keni': 1591, 'thurgau': 1592, 'zimli': 1593, 'buro': 1594, 'com': 1595, 'bracht': 1596, 'brief': 1597, 'ernsthaft': 1598, 'dasch': 1599, 'vergass': 1600, 'mannlich': 1601, 'baby': 1602, 'wennt': 1603, 'fak': 1604, 'f': 1605, 'meischt': 1606, 'jogg': 1607, 'sobald': 1608, 'lit': 1609, 'fragt': 1610, 'usi': 1611, 'efach': 1612, 'liv': 1613, 'gfall': 1614, 'lif': 1615, 'drog': 1616, 'ewig': 1617, 'endi': 1618, '😫': 1619, \"'\": 1620, 'kack': 1621, '😣': 1622, 'gmuetlich': 1623, 'ums': 1624, 'egau': 1625, 'redet': 1626, 'list': 1627, '26': 1628, '😂🙈': 1629, 'test': 1630, 'usgseht': 1631, 'rein': 1632, 'wor': 1633, 'on': 1634, 'mugg': 1635, 'suechi': 1636, 'banan': 1637, 'flasch': 1638, 'lieg': 1639, 'grill': 1640, 'nurno': 1641, 'juli': 1642, 'passi': 1643, '😞': 1644, 'weu': 1645, 'drah': 1646, 'plus': 1647, 'schafft': 1648, 'mitenand': 1649, 'chend': 1650, 'ged': 1651, 'kuschl': 1652, 'fernseh': 1653, 'wei': 1654, 'stand': 1655, 'outo': 1656, 'gonn': 1657, 'burg': 1658, 'normali': 1659, 'chumi': 1660, 'hen': 1661, 'zelt': 1662, 'witzig': 1663, 'saga': 1664, 'znacht': 1665, 'wucheend': 1666, 'schuld': 1667, 'oi': 1668, 'trifft': 1669, 'krank': 1670, '👀': 1671, 'chomm': 1672, 'obig': 1673, 'ischm': 1674, 'aba': 1675, 'seged': 1676, 'verstoh': 1677, 'wurklech': 1678, 'bachelor': 1679, 'zwoi': 1680, 'black': 1681, 'empfahl': 1682, 'wuu': 1683, 'vieli': 1684, 'erwachs': 1685, 'sam': 1686, '👌🏻': 1687, 'gsehnd': 1688, 'frundschaft': 1689, 'wilsch': 1690, 'brugg': 1691, 'muehsam': 1692, 'net': 1693, 'zerscht': 1694, 'gschmack': 1695, 'fo': 1696, 'usseh': 1697, 'wg': 1698, 'mail': 1699, 'rag': 1700, 'geburtstag': 1701, 'taglich': 1702, 'muass': 1703, 'schwirig': 1704, 'wuchen': 1705, 'hetsch': 1706, 'flirtechani': 1707, 'bitch': 1708, 'schmockt': 1709, 'drufah': 1710, 'hashtag': 1711, 'bsoff': 1712, 'erfolg': 1713, '😅😂': 1714, 'seht': 1715, 'muesst': 1716, 'strand': 1717, 'ken': 1718, 'fescht': 1719, 'tanz': 1720, 'kleid': 1721, 'abelad': 1722, 'stoh': 1723, 'gald': 1724, 'polo': 1725, 'dringend': 1726, 'griff': 1727, 'salat': 1728, 'ali': 1729, 'relativ': 1730, 'okei': 1731, 'ahfang': 1732, '@10': 1733, 'drink': 1734, 'moll': 1735, 'heim': 1736, 'gstorb': 1737, 'sterb': 1738, 'fallt': 1739, 'wucha': 1740, 'denked': 1741, 'muasch': 1742, 'bechunsch': 1743, 'emn': 1744, 'schreib': 1745, 'song': 1746, 'hassig': 1747, 'grosst': 1748, 'eina': 1749, 'sucht': 1750, 'irgendwelchi': 1751, 'damal': 1752, 'sock': 1753, 'mid': 1754, 'fuhlsch': 1755, 'auno': 1756, 'verpasst': 1757, 'richtigi': 1758, 'med': 1759, 'mitti': 1760, 'bechum': 1761, 'dassd': 1762, 'gahsch': 1763, 'wohnt': 1764, 'du': 1765, '❤': 1766, 'ersti': 1767, 'blitz': 1768, 'habt': 1769, 'harzig': 1770, 'wurdet': 1771, 'gsehni': 1772, 'esh': 1773, 'ziel': 1774, 'regnet': 1775, 'debii': 1776, '🤷🏼\\u200d♀️': 1777, '👌🏼': 1778, 'gwuss': 1779, 'updat': 1780, 'foteli': 1781, 'privat': 1782, 'tut': 1783, 'lov': 1784, 'nen': 1785, 'ufmerksam': 1786, 'sem': 1787, 'pet': 1788, 'polizist': 1789, 'chash': 1790, 'jungi': 1791, 'gab': 1792, 'wiis': 1793, 'nanig': 1794, 'klappt': 1795, 'mue': 1796, 'vot': 1797, 'spar': 1798, 'tocht': 1799, 'schuch': 1800, 'sprich': 1801, 'zuekunft': 1802, 'bstell': 1803, 'muesi': 1804, 'nenn': 1805, 'gruss': 1806, 'laht': 1807, 'bewusst': 1808, 'schisst': 1809, 'idiot': 1810, 'wunderschon': 1811, 'quasi': 1812, 'tisch': 1813, 'eiget': 1814, 'walt': 1815, 'denki': 1816, 'jahrigi': 1817, 'lug': 1818, 'orang': 1819, 'drei': 1820, 'aktuell': 1821, 'balkon': 1822, 'evt': 1823, 'gras': 1824, '👍🏼': 1825, 'flach': 1826, 'usm': 1827, 'weri': 1828, 'l': 1829, 'parat': 1830, 'ov': 1831, 'wuki': 1832, 'zud': 1833, 'verchauf': 1834, 'verletzt': 1835, 'laba': 1836, 'rund': 1837, 'gwunn': 1838, 'wald': 1839, 'mast': 1840, 'seb': 1841, 'meldet': 1842, 'dan': 1843, 'koleg': 1844, 'kam': 1845, 'beleid': 1846, 'videos': 1847, 'krieg': 1848, '✌': 1849, 'produkt': 1850, 'vielleicht': 1851, '😥': 1852, 'fremd': 1853, 'akku': 1854, 'nab': 1855, 'schmerz': 1856, 'gitz': 1857, 'holl': 1858, 'chips': 1859, 'darfsch': 1860, 'truurig': 1861, 'liab': 1862, 'checkt': 1863, 'vilech': 1864, 'up': 1865, 'ufhor': 1866, 'ufstah': 1867, 'willkomm': 1868, 'franz': 1869, 'story': 1870, 'flieg': 1871, 'wirdi': 1872, 'liit': 1873, 'lg': 1874, '12i': 1875, 'losig': 1876, 'leba': 1877, 'ent': 1878, 'wured': 1879, 'somm': 1880, 'stirbt': 1881, 'abo': 1882, 'kompliziert': 1883, 'cola': 1884, 'fruh': 1885, 'hoffnig': 1886, 'kiff': 1887, '1000': 1888, 'gass': 1889, 'niveau': 1890, 'zieht': 1891, 'stellt': 1892, 'fitness': 1893, 'gemacht': 1894, 'sg': 1895, 'kostet': 1896, 'gart': 1897, 'sowiso': 1898, 'eusi': 1899, 'freundin': 1900, 'dett': 1901, '6i': 1902, 'zmach': 1903, '45': 1904, 'assessment': 1905, 'info': 1906, 'dunn': 1907, 'spil': 1908, 'isst': 1909, '28': 1910, 'hann': 1911, 'blond': 1912, 'k': 1913, 'bh': 1914, 'wersch': 1915, 'don': 1916, 'frusch': 1917, 'muul': 1918, 'mama': 1919, 'schnall': 1920, 'segi': 1921, 'why': 1922, 'kanni': 1923, 'unfall': 1924, '5i': 1925, 'uberleit': 1926, 'ko': 1927, 'steht': 1928, 'tja': 1929, 'parkplatz': 1930, '😡': 1931, 'mueh': 1932, '2-3': 1933, '60': 1934, 'kafi': 1935, 'lernt': 1936, 'duesch': 1937, 'wetti': 1938, 'frisch': 1939, 'kass': 1940, 'ussag': 1941, 'intressiert': 1942, 'aah': 1943, 'schieb': 1944, 'emol': 1945, 'tuesch': 1946, 'schono': 1947, 'ubel': 1948, 'usserd': 1949, '“': 1950, 'genial': 1951, 'erwart': 1952, 'huara': 1953, 'hus': 1954, 'chostet': 1955, 'dorfsch': 1956, 'autobahn': 1957, 'chouf': 1958, 'nd': 1959, 'friendzon': 1960, 'bstellt': 1961, 'hau': 1962, 'was': 1963, 'jep': 1964, 'mehreri': 1965, 'jemal': 1966, 'gloscht': 1967, 'tattoo': 1968, 'paus': 1969, 'verein': 1970, 'vorn': 1971, 'renn': 1972, 'une': 1973, 'nutella': 1974, 'girl': 1975, 'blas': 1976, 'natel': 1977, 'jok': 1978, 'ching': 1979, 'abschluss': 1980, 'ers': 1981, '😛': 1982, 'vogel': 1983, 'pris': 1984, 'wild': 1985, 'bekomm': 1986, 'konzert': 1987, '😍😍😍': 1988, 'band': 1989, 'tun': 1990, 'kennet': 1991, 'heissisch': 1992, 'bank': 1993, 'wii': 1994, 'real': 1995, 'haus': 1996, 'out': 1997, 'figg': 1998, 'leg': 1999, 'mind': 2000, 'mitarbeit': 2001, 'mindest': 2002, 'bmw': 2003, 'tim': 2004, 'schau': 2005, 'angscht': 2006, 'chonnti': 2007, '😅😅': 2008, 'wixx': 2009, 'attraktiv': 2010, 'fingi': 2011, 'berg': 2012, 'schiff': 2013, 'hort': 2014, 'one': 2015, 'gsellschaft': 2016, 'drauf': 2017, 'sympath': 2018, 'zama': 2019, 'schnau': 2020, 'blieb': 2021, 'aar': 2022, 'usverseh': 2023, 'itali': 2024, 'nachbar': 2025, 'gsuecht': 2026, 'lag': 2027, '200': 2028, 'telefon': 2029, 'neei': 2030, 'verdi': 2031, 'beweg': 2032, 'jugend': 2033, 'sexy': 2034, 'fakt': 2035, 'dud': 2036, 'verzellt': 2037, 'diskussion': 2038, 'glaubi': 2039, 'respekt': 2040, 'spital': 2041, 'angeri': 2042, 'wond': 2043, 'verwirrt': 2044, 'om': 2045, 'arbet': 2046, 'cod': 2047, 'gstand': 2048, 'wahrschin': 2049, 'hitz': 2050, 'wartet': 2051, 'madel': 2052, 'komischi': 2053, 'mus': 2054, 'chlii': 2055, 'ahn': 2056, '2x': 2057, 'tolli': 2058, 'schaffet': 2059, 'dor': 2060, 'morga': 2061, 'tee': 2062, 'mitneh': 2063, 'fress': 2064, 'bedutet': 2065, 'romant': 2066, 'xi': 2067, 'autos': 2068, 'zog': 2069, 'yes': 2070, 'nutzt': 2071, 'sitt': 2072, 'namal': 2073, 'niid': 2074, 'rueh': 2075, 'sound': 2076, 'aun': 2077, 'servic': 2078, 'ihrn': 2079, 'break': 2080, 'gusch': 2081, 'wechsl': 2082, 'himmel': 2083, '4i': 2084, 'dir': 2085, 'zha': 2086, 'star': 2087, 'frond': 2088, 'liegt': 2089, 'einsam': 2090, '1x': 2091, 'ebbis': 2092, 'gahd': 2093, 'ey': 2094, '😶': 2095, 'drmit': 2096, 'aner': 2097, 'firma': 2098, 'vergiss': 2099, 'wuk': 2100, 'eba': 2101, 'interessi': 2102, '3er': 2103, 'what': 2104, 'noh': 2105, 'sottsch': 2106, 'sglich': 2107, 'v': 2108, 'brutal': 2109, 'hobby': 2110, 'sgfuhl': 2111, 'erwartet': 2112, 'abend': 2113, 'traff': 2114, 'swisscom': 2115, 'trunk': 2116, 'rum': 2117, 'dena': 2118, '--': 2119, 'beidn': 2120, 'dach': 2121, 'kenneglernt': 2122, 'spiegel': 2123, 'kund': 2124, 'setz': 2125, 'erlebt': 2126, 'gsproch': 2127, 'wis': 2128, 'mussi': 2129, 'duschi': 2130, 'bruchi': 2131, 'uuf': 2132, 'kumm': 2133, 'vorteil': 2134, 'schribsch': 2135, 'gwitt': 2136, 'wared': 2137, 'gomm': 2138, 'dran': 2139, 'sozial': 2140, 'mark': 2141, 'lis': 2142, 'freiwill': 2143, 'jooo': 2144, 'wiem': 2145, 'heftig': 2146, 'woll': 2147, 'autofahr': 2148, 'stock': 2149, 'furz': 2150, 'hell': 2151, 'bluet': 2152, '80': 2153, 'wasd': 2154, 'ssj': 2155, 'down': 2156, 'nebed': 2157, 'agebot': 2158, 'ufn': 2159, 'leist': 2160, 'versteh': 2161, 'verwutscht': 2162, 'letst': 2163, 'septemb': 2164, 'aargau': 2165, 'held': 2166, 'eth': 2167, 'versuecht': 2168, 'begriff': 2169, 'amu': 2170, 'desweg': 2171, 'jedoch': 2172, 'bechunnt': 2173, 'mitemn': 2174, '🤔🤔': 2175, 'nehm': 2176, 'asiat': 2177, 'erreicht': 2178, 'win': 2179, 'verglich': 2180, 'fuessball': 2181, 'wahrschinli': 2182, 'mercii': 2183, 'grat': 2184, 'sies': 2185, 'trag': 2186, 'jed': 2187, 'entschuld': 2188, 'schwizerdutsch': 2189, 'hocksch': 2190, 'somit': 2191, 'termin': 2192, 'klaut': 2193, 'sitzt': 2194, 'typisch': 2195, 'anschin': 2196, 'nagel': 2197, 'alban': 2198, 'chlis': 2199, 'schaffa': 2200, 'wahl': 2201, '90': 2202, 'heissi': 2203, 'denket': 2204, 'lies': 2205, 'intress': 2206, 'prison': 2207, 'olt': 2208, 'chann': 2209, 'sali': 2210, 'rap': 2211, 'un': 2212, '2h': 2213, 'suff': 2214, 'sa': 2215, 'schlechti': 2216, 'back': 2217, 'fed': 2218, 'bizli': 2219, 'lahn': 2220, 'drzue': 2221, 'ai': 2222, 'pill': 2223, 'ufgfall': 2224, '@11': 2225, 'gschlecht': 2226, 'damfau': 2227, '🎉': 2228, 'fuecht': 2229, 'rappi': 2230, 'workli': 2231, 'fair': 2232, 'bach': 2233, 'big': 2234, 'huut': 2235, 'erkennt': 2236, '20i': 2237, 'baum': 2238, 'styl': 2239, 'geseh': 2240, 'eidut': 2241, 'emal': 2242, 'langet': 2243, 'rundi': 2244, 'weit': 2245, 'sotti': 2246, 'lauch': 2247, 'spani': 2248, 'glaubt': 2249, 'mom': 2250, 'mentig': 2251, 'ph': 2252, 'ghorsch': 2253, 'chat': 2254, 'jean': 2255, 'dabei': 2256, 'schnitt': 2257, 'chuchi': 2258, 'fit': 2259, 'vori': 2260, 'depression': 2261, 'drfur': 2262, 'redsch': 2263, 'riis': 2264, 'rasi': 2265, 'joor': 2266, 'ois': 2267, 'plotzli': 2268, 'studiert': 2269, 'wk': 2270, 'mull': 2271, 'naturlech': 2272, 'fruech': 2273, 'lernsch': 2274, 'roti': 2275, 'ruum': 2276, 'dont': 2277, 'hmmm': 2278, 'villech': 2279, 'abem': 2280, 'lueged': 2281, 'packli': 2282, 'ws': 2283, 'fragsch': 2284, 'hihi': 2285, 'astand': 2286, 'rock': 2287, 'meined': 2288, 'wella': 2289, 'busi': 2290, 'ihr': 2291, 'heti': 2292, 'zeich': 2293, 'chlei': 2294, 'zah': 2295, 'ging': 2296, 'fuul': 2297, 'trozd': 2298, 'grundsatz': 2299, '🙈😂': 2300, 'foreveralon': 2301, 'rat': 2302, 'spotify': 2303, 'offent': 2304, 'sosch': 2305, 'rezept': 2306, 'half': 2307, 'bruuch': 2308, 'sprach': 2309, 'zfried': 2310, 'ev': 2311, 'ironi': 2312, '🙌': 2313, 'harry': 2314, 'usbild': 2315, 'gnoh': 2316, 'zuck': 2317, 'went': 2318, 'zumind': 2319, '😂😅': 2320, 'steck': 2321, 'eppert': 2322, '27': 2323, 'umgekehrt': 2324, 'kampf': 2325, 'polit': 2326, 'benutz': 2327, 'bechunt': 2328, 'mueni': 2329, 'betrunk': 2330, 'behindert': 2331, 'breaking': 2332, 'hubschi': 2333, 'nervt': 2334, 'eimol': 2335, 'albani': 2336, 'team': 2337, 'zo': 2338, 'putzt': 2339, 'dad': 2340, 'luegi': 2341, 'www': 2342, 'kenna': 2343, 'guata': 2344, 'wahnsinn': 2345, 'swiss': 2346, 'g20': 2347, 'rapp': 2348, 'heicho': 2349, 'gym': 2350, 'zmorg': 2351, 'hoffentli': 2352, 'besseri': 2353, 'emen': 2354, 'sega': 2355, 'mitbewohn': 2356, 'machem': 2357, 'via': 2358, 'schwarzi': 2359, 'leistig': 2360, 'schlau': 2361, 'sing': 2362, 'ernahr': 2363, 'dankbar': 2364, 'passend': 2365, 'arrogant': 2366, 'legal': 2367, 'nochli': 2368, 'cousin': 2369, 'kamera': 2370, 'verhalt': 2371, 'chines': 2372, 'strom': 2373, 'rip': 2374, 'nerv': 2375, 'sy': 2376, 'm20': 2377, 'weisi': 2378, 'unglaub': 2379, 'brauch': 2380, 'training': 2381, 'ups': 2382, 'zerstort': 2383, 'nami': 2384, '18ni': 2385, 'erinner': 2386, 'korrekt': 2387, 'chonti': 2388, 'chontsch': 2389, 'hurat': 2390, 'puff': 2391, 'mac': 2392, 'troch': 2393, 'buechstab': 2394, 'chonnd': 2395, 'jungfrau': 2396, 'stei': 2397, 'bsund': 2398, 'eventuell': 2399, 'ufer': 2400, 'wlan': 2401, 'gwohnt': 2402, 'bliib': 2403, 'abstand': 2404, 'new': 2405, 'lebt': 2406, 'rugg': 2407, '🤷🏼\\u200d♂️': 2408, 'imfau': 2409, 'regelmass': 2410, 'bewerb': 2411, 't-shirt': 2412, 'fach': 2413, 'ablenk': 2414, 'opf': 2415, 'regel': 2416, 'rassist': 2417, 'daa': 2418, 'wurdsch': 2419, 'match': 2420, 'jedesmal': 2421, 'infos': 2422, 'mittwuch': 2423, 'maximilian': 2424, 'mutt': 2425, 'verbot': 2426, 'erlaubt': 2427, 'fium': 2428, 'fir': 2429, 'suuf': 2430, 'wieni': 2431, 'dritt': 2432, 'ignori': 2433, 'scham': 2434, 'noo': 2435, 'verbring': 2436, 'fragenuberfrag': 2437, 'dorfi': 2438, 'ziemli': 2439, 'ines': 2440, 'churzi': 2441, 'worda': 2442, 'endli': 2443, 'desto': 2444, 'verlur': 2445, 'lachl': 2446, 'nuut': 2447, 'minus': 2448, 'baustell': 2449, 'ids': 2450, 'oha': 2451, 'ubercho': 2452, 'irgendwas': 2453, 'chumm': 2454, 'supp': 2455, 'steu': 2456, 'verarscht': 2457, 'harz': 2458, 'nutz': 2459, '🤦🏼\\u200d♀️': 2460, 'eifacht': 2461, 'unt': 2462, '😯': 2463, 'bitzli': 2464, 'lernphas': 2465, 'chart': 2466, 'nervos': 2467, 'kaff': 2468, 'kur': 2469, 'glichi': 2470, 'sieht': 2471, 'block': 2472, 'moderator': 2473, 'schoon': 2474, 'fahl': 2475, '1-2': 2476, 'ros': 2477, 'sch': 2478, 'leck': 2479, 'kolleginn': 2480, 'degeg': 2481, 'issisch': 2482, 'einzigi': 2483, 'schloss': 2484, 'fahra': 2485, 'plotzlech': 2486, 'sms': 2487, 'saged': 2488, 'jop': 2489, 'ehe': 2490, 'notgeil': 2491, 'mod': 2492, 'mes': 2493, 'gsi😂': 2494, 'chest': 2495, 'km': 2496, 'bringsch': 2497, 'vertrau': 2498, 'europa': 2499, 'lovoo': 2500, 'besuch': 2501, 'fau': 2502, 'vermuet': 2503, 'lueget': 2504, 'reda': 2505, 'klappet': 2506, 'meini': 2507, 'tip': 2508, 'traini': 2509, 'aktiv': 2510, 'good': 2511, 'wema': 2512, 'option': 2513, 'buur': 2514, 'cheib': 2515, 'waut': 2516, 'glock': 2517, 'stor': 2518, 'darfi': 2519, 'suit': 2520, 'rucksack': 2521, 'amol': 2522, 'hing': 2523, 'bedut': 2524, 'camping': 2525, 'konto': 2526, 'your': 2527, 'gset': 2528, '🙌🏻': 2529, 'schoo': 2530, 'bruscht': 2531, 'ziet': 2532, 'ouu': 2533, 'programm': 2534, 'gend': 2535, 'mundlich': 2536, 'kalt': 2537, 'dah': 2538, 'heii': 2539, 'gsy': 2540, 'erd': 2541, 'religion': 2542, 'diskuti': 2543, 'strang': 2544, 'energi': 2545, 'usegfund': 2546, 'laptop': 2547, 'hiuft': 2548, 'spaghetti': 2549, 'bart': 2550, 'lig': 2551, 'stutz': 2552, 'drvo': 2553, 'next': 2554, 'magsch': 2555, 'suss': 2556, 'munich': 2557, '5min': 2558, 'theoret': 2559, 'drinn': 2560, 'istell': 2561, 'abgeh': 2562, 'ligt': 2563, 'druckt': 2564, 'w21': 2565, 'gegenub': 2566, 'verstond': 2567, 'ezt': 2568, 'null': 2569, '😵': 2570, 'schiint': 2571, 'panik': 2572, 'trotz': 2573, 'andi': 2574, 'guati': 2575, 'boot': 2576, 'umd': 2577, 'true': 2578, 'schwar': 2579, 'vorau': 2580, 'namli': 2581, 'glehrt': 2582, 'moss': 2583, 'ring': 2584, 'jezt': 2585, 'benutzt': 2586, 'ann': 2587, 'gmold': 2588, 'fahred': 2589, 'soooo': 2590, 'dreck': 2591, 'euchi': 2592, 'usprobi': 2593, 'mein': 2594, 'hufig': 2595, 'schriebsch': 2596, 'raus': 2597, 'amerika': 2598, 'gehort': 2599, 'trump': 2600, 'jah': 2601, 'trinkt': 2602, 'ahlueg': 2603, 'maschin': 2604, 'weish': 2605, 'auu': 2606, 'acho': 2607, '150': 2608, 'biet': 2609, 'wunscht': 2610, 'geschrieb': 2611, 'high': 2612, 'schwitz': 2613, 'erchlar': 2614, 'getrank': 2615, 'namlich': 2616, 'hb': 2617, 'dunkel': 2618, 'chomet': 2619, 'liabi': 2620, 'pott': 2621, 'lack': 2622, 'nachem': 2623, 'wahrschindli': 2624, '🤷': 2625, 'essa': 2626, 'billet': 2627, 'negst': 2628, 'hatsch': 2629, 'chf': 2630, 'artikel': 2631, 'hoh': 2632, 'gau': 2633, 'lenzburg': 2634, 'ener': 2635, 'chent': 2636, 'family': 2637, 'werom': 2638, 'brud': 2639, 'nomau': 2640, 'stur': 2641, 'gesagt': 2642, 'kontroll': 2643, 'uberhoupt': 2644, 'derbi': 2645, 'buess': 2646, 'fendi': 2647, 'verkauft': 2648, 'ans': 2649, 'versicher': 2650, 'gfueu': 2651, 'kensch': 2652, 'linkin': 2653, 'verlieb': 2654, 'decki': 2655, 'eg': 2656, 'box': 2657, '•': 2658, 'luaga': 2659, 'io': 2660, '😂👌': 2661, 'pfann': 2662, 'wochen': 2663, 'ufstoh': 2664, 'bisi': 2665, 'hutzutag': 2666, '🍻': 2667, 'doktor': 2668, 'solothurn': 2669, 'gangi': 2670, 'music': 2671, 'tram': 2672, 'hattsch': 2673, 'salz': 2674, 'wolf': 2675, 'hof': 2676, '✌🏼': 2677, 'm23': 2678, 'schwach': 2679, 'jedefall': 2680, 'tua': 2681, 'brocht': 2682, 'spazi': 2683, 'deutschland': 2684, 'umgab': 2685, 'dera': 2686, 'schiess': 2687, 'stross': 2688, 'isch😂': 2689, 'geburi': 2690, 'downgvotet': 2691, 'phas': 2692, 'regl': 2693, 'woss': 2694, 'zua': 2695, 'bruucht': 2696, 'ime': 2697, 'medi': 2698, 'gschiss': 2699, 'gefuhl': 2700, 'hockt': 2701, 'biss': 2702, 'beantwort': 2703, 'ton': 2704, 'moched': 2705, 'zellt': 2706, 'schutz': 2707, 'negativ': 2708, 'kart': 2709, 'ver': 2710, 'verarsch': 2711, 'prinzip': 2712, 'frondin': 2713, 'gschlacht': 2714, 'gschickt': 2715, 'sowit': 2716, 'ikea': 2717, '😮': 2718, 'ball': 2719, 'ge': 2720, 'flirt': 2721, 'thailand': 2722, 'mitt': 2723, 'schul': 2724, 'derfsch': 2725, 'motz': 2726, 'kopfhor': 2727, 'websit': 2728, 'ahgfang': 2729, '✌️': 2730, 'hous': 2731, 'hochdutsch': 2732, 'spricht': 2733, 'stinkt': 2734, 'cbd': 2735, 'wahri': 2736, 'ohhh': 2737, 'hahha': 2738, 'qualitat': 2739, 'zuestand': 2740, '-ich': 2741, 'normau': 2742, 'daheim': 2743, 'garag': 2744, 'wallis': 2745, 'are': 2746, 'wiblich': 2747, 'mass': 2748, 'koff': 2749, 'ever': 2750, 'tuend': 2751, 'ufreg': 2752, 'schreibt': 2753, 'gra': 2754, 'werda': 2755, 'stern': 2756, 'fingsch': 2757, 'womm': 2758, 'vier': 2759, 'gan': 2760, 'pennt': 2761, 'auss': 2762, 'genug': 2763, 'vorhar': 2764, 'ui': 2765, 'day': 2766, 'tell': 2767, 'miet': 2768, 'afo': 2769, 'eut': 2770, 'hab': 2771, 'afa': 2772, 'gfung': 2773, 'ragnet': 2774, 'grenz': 2775, 'wan': 2776, 'form': 2777, 'drom': 2778, 'ufen': 2779, '🤦🏻\\u200d♂️': 2780, 'laufsch': 2781, 'schuss': 2782, 'nani': 2783, 'if': 2784, 'tuat': 2785, 'mos': 2786, 'fuehl': 2787, 'android': 2788, 'vorus': 2789, 'zmittag': 2790, 'ed': 2791, 'last': 2792, 'oma': 2793, '3-4': 2794, 'basl': 2795, 'ussicht': 2796, 'minr': 2797, 'gschlaf': 2798, 'fucking': 2799, 'wukli': 2800}\n",
            "len content test =  3138\n",
            "index test =  0\n",
            "first row test =  300121,\"👩min vibi funktionkert nöd... 👧hesch d'batterie dri gsteckt? 👩ja, aber das isch nöd sgliiche...\"\n",
            "\n",
            "second row test =  302441,\"ich: also langsam söti scho schlafe au ich: hesch di scho mal gwundered ob all mensche all farve glich gsehnd? @oj nei machet ned alli glich vld isch mis grüen dis blau und dis rot mis schwarz vld seitmer drum adligi sind blaublüetig will s bluet eigentlich nöd rot isch, oder doch? #allesefragvodeperspektive hani mi au scho gfröged mis rechte aug gsehts scho ned genau glich wie mis lingge hemmer da es paar stoner? #stonerthoughts\"\n",
            "\n",
            "index test =  1000\n",
            "index test =  2000\n",
            "index test =  3000\n"
          ],
          "name": "stdout"
        },
        {
          "output_type": "stream",
          "text": [
            "/usr/local/lib/python3.6/dist-packages/ipykernel_launcher.py:148: VisibleDeprecationWarning: Creating an ndarray from ragged nested sequences (which is a list-or-tuple of lists-or-tuples-or ndarrays with different lengths or shapes) is deprecated. If you meant to do this, you must specify 'dtype=object' when creating the ndarray\n"
          ],
          "name": "stderr"
        }
      ]
    },
    {
      "cell_type": "markdown",
      "metadata": {
        "id": "zYdEZEyLJsiO"
      },
      "source": [
        "# **Normalize the data:**"
      ]
    },
    {
      "cell_type": "code",
      "metadata": {
        "id": "vh1Z6Vn1Iz0C"
      },
      "source": [
        "def Normalize_data(training_ftrs, validation_ftrs, test_ftrs):\n",
        "  scaler = preprocessing.Normalizer(norm='l2')\n",
        "  scaler.fit(training_ftrs)\n",
        "\n",
        "  # scaling the training data\n",
        "  scaled_data_train = scaler.transform(training_ftrs)\n",
        "\n",
        "  # scaling the validation data\n",
        "  scaled_data_validation = scaler.transform(validation_ftrs)\n",
        "\n",
        "  # scaling the test data\n",
        "  scaled_data_test = scaler.transform(test_ftrs)\n",
        "  #print(scaled_data_test)\n",
        "\n",
        "  print(np.max(scaled_data_train))\n",
        "  print(np.mean(scaled_data_train))\n",
        "  print(np.mean(scaled_data_validation))\n",
        "  print(\"shape scaled data train\", scaled_data_train.shape)\n",
        "\n",
        "  return scaled_data_train, scaled_data_validation, scaled_data_test"
      ],
      "execution_count": null,
      "outputs": []
    },
    {
      "cell_type": "markdown",
      "metadata": {
        "id": "ZtKvg1bNP5Bf"
      },
      "source": [
        "# **Train the models:**"
      ]
    },
    {
      "cell_type": "markdown",
      "metadata": {
        "id": "zFEWOqBrDZrs"
      },
      "source": [
        "Train first batch:"
      ]
    },
    {
      "cell_type": "code",
      "metadata": {
        "colab": {
          "base_uri": "https://localhost:8080/",
          "height": 69
        },
        "id": "_ul9iPNXP4dL",
        "outputId": "e6ba9d2e-114c-407a-956c-e5099894b15c"
      },
      "source": [
        "\n",
        "\n",
        "# define the model\n",
        "#model_krr_x = Ridge() #alpha=10 ** -4, kernel='linear')\n",
        "#model_krr_y = Ridge()\n",
        "'''\n",
        "model_krr_x = KernelRidge(alpha=10 ** -4, kernel='rbf')\n",
        "model_krr_y = KernelRidge(alpha=10 ** -4, kernel='rbf')\n",
        "model_SVR_x = SVR(kernel='rbf')\n",
        "model_SVR_y = SVR(kernel='rbf')\n",
        "\n",
        "train_X_scores = [line[0] for line in training_labels]\n",
        "train_Y_scores = [line[1] for line in training_labels]\n",
        "\n",
        "# train the models\n",
        "print(\"training X phase...\")\n",
        "model_krr_x.fit(scaled_data_train, train_X_scores)\n",
        "###model_SVR_x.fit(scaled_data_train, train_X_scores)\n",
        "print(\"training Y phase...\")\n",
        "model_krr_y.fit(scaled_data_train, train_Y_scores)\n",
        "###model_SVR_y.fit(scaled_data_train, train_Y_scores)\n",
        "print(\"training done!\")\n",
        "\n",
        "\n",
        "'''\n",
        "\n",
        "'''\n",
        "# define the model\n",
        "model_krr_x = KernelRidge(alpha=10 ** -4, kernel='rbf')\n",
        "\n",
        "# train the model\n",
        "model_krr_x.fit(scaled_data_train, train_scores)\n",
        "\n",
        "# predict\n",
        "predicted_labels = kernel_ridge_regression.predict(scaled_data_test)\n",
        "print(mean_squared_error(predicted_labels, test_scores))\n",
        "print(mean_absolute_error(predicted_labels, test_scores))\n",
        "\n",
        "'''"
      ],
      "execution_count": null,
      "outputs": [
        {
          "output_type": "execute_result",
          "data": {
            "application/vnd.google.colaboratory.intrinsic+json": {
              "type": "string"
            },
            "text/plain": [
              "\"\\n# define the model \\nmodel_krr_x = KernelRidge(alpha=10 ** -4, kernel='rbf')\\n\\n# train the model\\nmodel_krr_x.fit(scaled_data_train, train_scores)\\n\\n# predict\\npredicted_labels = kernel_ridge_regression.predict(scaled_data_test)\\nprint(mean_squared_error(predicted_labels, test_scores))\\nprint(mean_absolute_error(predicted_labels, test_scores))\\n\\n\""
            ]
          },
          "metadata": {
            "tags": []
          },
          "execution_count": 12
        }
      ]
    },
    {
      "cell_type": "code",
      "metadata": {
        "id": "W_nWs71IDquZ"
      },
      "source": [
        "def Train(model_X, model_Y, train_ftrs_scaled, train_labels):\n",
        "  #this function will return the trained model\n",
        "\n",
        "  train_X_scores = [line[0] for line in train_labels]\n",
        "  train_Y_scores = [line[1] for line in train_labels]\n",
        "\n",
        "  # train the models\n",
        "  print(\"training X phase...\")\n",
        "  model_X.fit(train_ftrs_scaled, train_X_scores)\n",
        "  ###model_SVR_x.fit(scaled_data_train, train_X_scores)\n",
        "  print(\"training Y phase...\")\n",
        "  model_Y.fit(train_ftrs_scaled, train_Y_scores)\n",
        "  ###model_SVR_y.fit(scaled_data_train, train_Y_scores)\n",
        "  print(\"training done!\")\n",
        "\n",
        "  return model_X, model_Y"
      ],
      "execution_count": null,
      "outputs": []
    },
    {
      "cell_type": "code",
      "metadata": {
        "id": "zEveK15w7pa7"
      },
      "source": [
        "def compute_score(true_labels, predicted_labels):\n",
        "  true_X_labels = np.array([line[0] for line in true_labels], dtype=np.float32)\n",
        "  true_Y_labels = np.array([line[1] for line in true_labels], dtype=np.float32)\n",
        "\n",
        "  pred_X_labels = np.array([line[0] for line in predicted_labels], dtype=np.float32)\n",
        "  pred_Y_labels = np.array([line[1] for line in predicted_labels], dtype=np.float32)\n",
        "\n",
        "\n",
        "  sum_X = (abs(pred_X_labels - true_X_labels)).mean()\n",
        "  sum_Y = (abs(pred_Y_labels - true_Y_labels)).mean()\n",
        "\n",
        "\n",
        "  return sum_X + sum_Y\n"
      ],
      "execution_count": null,
      "outputs": []
    },
    {
      "cell_type": "code",
      "metadata": {
        "id": "jCTa7O94rldZ"
      },
      "source": [
        "listamea = [1,2,3,100]\n",
        "with open('/content/drive/MyDrive/Master AI/First Year/Semester 1/PML/numelelelele.pickle', 'wb+') as numepkl:\n",
        "    pickle.dump(listamea, numepkl, protocol=pickle.HIGHEST_PROTOCOL)"
      ],
      "execution_count": null,
      "outputs": []
    },
    {
      "cell_type": "code",
      "metadata": {
        "colab": {
          "base_uri": "https://localhost:8080/"
        },
        "id": "TMLUImf5sNl8",
        "outputId": "816be52b-f945-43ce-806a-27dfdd3509e8"
      },
      "source": [
        "with open('/content/drive/MyDrive/Master AI/First Year/Semester 1/PML/numelelelele.pickle', 'rb') as numepkl:\n",
        "    b = pickle.load(numepkl)\n",
        "\n",
        "print(b)"
      ],
      "execution_count": null,
      "outputs": [
        {
          "output_type": "stream",
          "text": [
            "[1, 2, 3, 100]\n"
          ],
          "name": "stdout"
        }
      ]
    },
    {
      "cell_type": "markdown",
      "metadata": {
        "id": "tDSIwfmBuSJB"
      },
      "source": [
        "# **Print the distinct GPS points:**"
      ]
    },
    {
      "cell_type": "markdown",
      "metadata": {
        "id": "qsmmLFvHQ1Fw"
      },
      "source": [
        "## Only the training labels:"
      ]
    },
    {
      "cell_type": "code",
      "metadata": {
        "colab": {
          "base_uri": "https://localhost:8080/"
        },
        "id": "iBB9OHPqugnn",
        "outputId": "d8953259-68ac-4245-b433-805004605948"
      },
      "source": [
        "distinct_training_labels = []\n",
        "print(\"type training labels = \", type(training_labels))\n",
        "print(\"len training labels = \", len(training_labels))\n",
        "\n",
        "for label in training_labels:\n",
        "  found = False\n",
        "  label = [label[0], label[1]]\n",
        "  if label not in distinct_training_labels:\n",
        "      distinct_training_labels.append(label)\n",
        "print(\"len distinct_training_labels = \", len(distinct_training_labels))"
      ],
      "execution_count": null,
      "outputs": [
        {
          "output_type": "stream",
          "text": [
            "type training labels =  <class 'numpy.ndarray'>\n",
            "len training labels =  22583\n",
            "len distinct_training_labels =  236\n"
          ],
          "name": "stdout"
        }
      ]
    },
    {
      "cell_type": "markdown",
      "metadata": {
        "id": "CIn6WT6fRHws"
      },
      "source": [
        "## Only validation labels:"
      ]
    },
    {
      "cell_type": "code",
      "metadata": {
        "colab": {
          "base_uri": "https://localhost:8080/"
        },
        "id": "q5uUCN4GAuT6",
        "outputId": "1b30319b-00fd-44cd-a06c-c9507cdbfa02"
      },
      "source": [
        "distinct_validation_labels = []\n",
        "print(\"type validation labels = \", type(validation_labels))\n",
        "print(\"len validation labels = \", len(validation_labels))\n",
        "\n",
        "for label in validation_labels:\n",
        "  found = False\n",
        "  label = [label[0], label[1]]\n",
        "  if label not in distinct_validation_labels:\n",
        "      distinct_validation_labels.append(label)\n",
        "print(\"len distinctvalidation_labels = \", len(distinct_validation_labels))\n",
        "print(\"validation labels:\\n\", distinct_validation_labels)"
      ],
      "execution_count": null,
      "outputs": [
        {
          "output_type": "stream",
          "text": [
            "type validation labels =  <class 'numpy.ndarray'>\n",
            "len validation labels =  3044\n",
            "len distinctvalidation_labels =  358\n",
            "validation labels:\n",
            " [[52.098389261744956, 10.3544964028777], [51.629865771812064, 7.723453237410073], [52.242550335570456, 8.967589928057553], [51.70194630872484, 8.416906474820145], [52.56691275167782, 9.94658273381295], [50.080134228187916, 7.947805755395681], [52.89127516778524, 11.149928057553957], [52.170469798657706, 10.476870503597123], [52.71107382550335, 9.987374100719425], [49.46744966442952, 7.988597122302156], [51.810067114093954, 9.803812949640289], [52.56691275167782, 9.803812949640289], [50.33241610738253, 9.314316546762594], [50.29637583892617, 12.006546762589927], [52.85523489932885, 8.04978417266187], [52.31463087248321, 9.701834532374104], [52.242550335570456, 11.802589928057554], [51.4496644295302, 9.477482014388489], [51.01718120805367, 9.518273381294964], [53.35979865771813, 9.966978417266187], [52.6389932885906, 10.41568345323741], [51.629865771812064, 10.843992805755398], [52.170469798657706, 9.987374100719425], [52.38671140939596, 11.700611510791369], [52.6389932885906, 11.333489208633093], [51.08926174496645, 7.47870503597122], [52.9273154362416, 8.172158273381296], [52.60295302013424, 8.110971223021586], [51.4496644295302, 9.94658273381295], [52.56691275167782, 7.845827338129496], [51.774026845637565, 10.109748201438848], [52.6389932885906, 9.824208633093527], [50.65677852348995, 12.088129496402878], [48.38624161073827, 8.865611510791368], [52.242550335570456, 9.253129496402877], [52.67503355704696, 8.416906474820145], [51.990268456375844, 11.45586330935252], [50.98114093959731, 7.417517985611514], [51.34154362416106, 7.60107913669065], [50.47657718120803, 7.947805755395681], [51.26946308724831, 8.886007194244606], [51.4496644295302, 9.110359712230217], [52.098389261744956, 8.70244604316547], [52.56691275167782, 8.355719424460432], [52.60295302013424, 9.314316546762594], [51.882147651006704, 8.763633093525183], [51.918187919463065, 10.599244604316546], [53.35979865771813, 10.170935251798564], [50.080134228187916, 10.191330935251802], [51.629865771812064, 11.965755395683455], [50.40449664429531, 8.110971223021586], [52.53087248322146, 11.027553956834534], [52.242550335570456, 10.293309352517987], [52.350671140939596, 7.866223021582734], [49.75577181208055, 8.355719424460432], [52.7831543624161, 8.314928057553956], [50.65677852348995, 7.764244604316545], [50.90906040268456, 7.825431654676262], [51.521744966442924, 10.395287769784176], [52.350671140939596, 9.538669064748202], [51.521744966442924, 8.04978417266187], [51.26946308724831, 7.4379136690647485], [52.458791946308736, 10.089352517985613], [49.972013422818776, 8.13136690647482], [52.56691275167782, 9.314316546762594], [51.810067114093954, 10.191330935251802], [50.40449664429531, 10.191330935251802], [52.56691275167782, 11.92496402877698], [52.56691275167782, 10.884784172661874], [51.4496644295302, 11.86377697841727], [50.94510067114095, 9.763021582733813], [51.05322147651006, 8.13136690647482], [52.170469798657706, 10.191330935251802], [50.47657718120803, 7.315539568345326], [52.350671140939596, 11.700611510791369], [52.85523489932885, 10.721618705035972], [50.58469798657717, 7.886618705035971], [51.34154362416106, 7.335935251798563], [51.37758389261742, 9.926187050359712], [51.19738255033556, 9.824208633093527], [50.260335570469806, 11.84338129496403], [50.62073825503353, 9.722230215827338], [48.27812080536913, 8.641258992805753], [50.83697986577181, 10.150539568345323], [53.53999999999999, 9.865000000000002], [51.810067114093954, 10.3544964028777], [52.4948322147651, 8.498489208633092], [53.35979865771813, 10.191330935251802], [50.98114093959731, 11.06834532374101], [51.918187919463065, 8.416906474820145], [50.080134228187916, 12.598021582733814], [51.12530201342281, 9.783417266187051], [50.36845637583892, 12.7], [52.458791946308736, 8.253741007194247], [52.74711409395974, 10.374892086330938], [52.6389932885906, 9.55906474820144], [52.67503355704696, 7.907014388489209], [52.81919463087246, 7.947805755395681], [51.19738255033556, 11.047949640287772], [51.665906040268425, 10.640035971223021], [51.48570469798656, 9.538669064748202], [50.69281879194631, 7.907014388489209], [50.44053691275167, 7.866223021582734], [52.31463087248321, 8.824820143884889], [50.98114093959731, 11.86377697841727], [50.80093959731545, 7.641870503597126], [51.882147651006704, 11.170323741007195], [51.5938255033557, 8.355719424460432], [51.26946308724831, 7.13197841726619], [52.67503355704696, 7.968201438848922], [50.188255033557056, 7.539892086330937], [52.42275167785232, 8.192553956834534], [51.3055033557047, 10.41568345323741], [49.719731543624135, 8.233345323741005], [50.90906040268456, 7.866223021582734], [50.90906040268456, 10.211726618705036], [50.94510067114095, 9.457086330935251], [52.96335570469799, 9.477482014388489], [52.170469798657706, 9.62025179856115], [53.32375838926171, 10.41568345323741], [52.71107382550335, 8.008992805755398], [51.1613422818792, 7.92741007194245], [51.918187919463065, 9.803812949640289], [52.170469798657706, 9.865000000000002], [50.94510067114095, 7.233956834532378], [52.026308724832205, 8.559676258992805], [50.260335570469806, 8.110971223021586], [52.27859060402682, 10.150539568345323], [51.882147651006704, 10.130143884892085], [51.01718120805367, 10.007769784172662], [51.954228187919455, 8.947194244604315], [51.3055033557047, 7.335935251798563], [51.84610738255034, 10.762410071942448], [50.58469798657717, 7.845827338129496], [50.98114093959731, 7.621474820143884], [50.76489932885903, 7.825431654676262], [49.719731543624135, 8.600467625899281], [52.53087248322146, 8.070179856115107], [48.27812080536913, 7.92741007194245], [51.629865771812064, 7.80503597122302], [50.33241610738253, 11.965755395683455], [51.5938255033557, 8.029388489208635], [50.87302013422817, 10.211726618705036], [51.990268456375844, 8.682050359712232], [50.83697986577181, 7.784640287769786], [52.458791946308736, 8.090575539568345], [52.458791946308736, 8.600467625899281], [50.008053691275165, 7.335935251798563], [52.38671140939596, 11.965755395683455], [52.38671140939596, 10.068956834532376], [51.810067114093954, 10.905179856115108], [51.5938255033557, 7.947805755395681], [51.954228187919455, 9.94658273381295], [52.458791946308736, 12.230899280575542], [52.062348993288595, 9.681438848920866], [52.60295302013424, 8.04978417266187], [53.10751677852349, 10.517661870503598], [51.34154362416106, 10.068956834532376], [48.35020134228188, 8.478093525179858], [52.31463087248321, 8.906402877697843], [51.1613422818792, 9.599856115107915], [53.03543624161071, 9.987374100719425], [53.25167785234899, 10.884784172661874], [52.60295302013424, 10.660431654676259], [50.87302013422817, 7.580683453237409], [52.170469798657706, 9.049172661870504], [50.260335570469806, 11.680215827338127], [51.48570469798656, 9.314316546762594], [52.71107382550335, 8.253741007194247], [52.27859060402682, 9.783417266187051], [52.53087248322146, 8.987985611510794], [52.81919463087246, 11.292697841726618], [52.4948322147651, 9.783417266187051], [52.53087248322146, 11.12953237410072], [51.918187919463065, 9.701834532374104], [52.85523489932885, 10.3544964028777], [52.4948322147651, 8.580071942446043], [52.13442953020132, 7.560287769784171], [52.170469798657706, 8.865611510791368], [50.152214765100666, 11.741402877697844], [52.38671140939596, 7.703057553956835], [51.84610738255034, 9.803812949640289], [51.990268456375844, 10.130143884892085], [52.458791946308736, 9.457086330935251], [50.54865771812081, 8.335323741007194], [53.28771812080535, 9.783417266187051], [50.58469798657717, 8.13136690647482], [50.152214765100666, 7.1115827338129485], [51.882147651006704, 10.0281654676259], [52.74711409395974, 10.252517985611512], [50.76489932885903, 7.499100719424462], [51.70194630872484, 10.374892086330938], [51.55778523489934, 9.824208633093527], [52.350671140939596, 9.253129496402877], [52.206510067114095, 8.37611510791367], [52.9273154362416, 11.272302158273384], [51.521744966442924, 10.701223021582734], [52.242550335570456, 9.681438848920866], [51.665906040268425, 11.86377697841727], [52.350671140939596, 10.089352517985613], [52.13442953020132, 8.886007194244606], [52.098389261744956, 9.783417266187051], [50.90906040268456, 9.518273381294964], [52.56691275167782, 9.334712230215828], [50.90906040268456, 8.355719424460432], [50.33241610738253, 7.845827338129496], [51.55778523489934, 7.988597122302156], [51.954228187919455, 9.681438848920866], [51.918187919463065, 8.641258992805753], [51.41362416107381, 8.478093525179858], [50.58469798657717, 7.988597122302156], [52.56691275167782, 9.375503597122304], [51.954228187919455, 10.007769784172662], [51.55778523489934, 9.94658273381295], [51.7379865771812, 8.824820143884889], [52.206510067114095, 9.477482014388489], [52.38671140939596, 9.49787769784173], [52.6389932885906, 8.294532374100722], [52.74711409395974, 8.172158273381296], [52.89127516778524, 11.700611510791369], [51.4496644295302, 9.803812949640289], [52.6389932885906, 9.701834532374104], [49.35932885906041, 8.151762589928058], [51.665906040268425, 10.252517985611512], [52.56691275167782, 9.88539568345324], [52.170469798657706, 9.661043165467628], [51.48570469798656, 10.660431654676259], [51.918187919463065, 11.741402877697844], [52.026308724832205, 10.150539568345323], [51.7379865771812, 10.293309352517987], [52.89127516778524, 10.0281654676259], [52.6389932885906, 7.988597122302156], [53.14355704697985, 11.353884892086334], [52.81919463087246, 8.722841726618707], [51.84610738255034, 7.60107913669065], [51.70194630872484, 9.966978417266187], [52.85523489932885, 10.456474820143885], [53.28771812080535, 10.109748201438848], [49.863892617449636, 8.110971223021586], [52.67503355704696, 11.802589928057554], [50.58469798657717, 7.703057553956835], [52.74711409395974, 8.498489208633092], [52.42275167785232, 10.170935251798564], [51.37758389261742, 7.499100719424462], [52.350671140939596, 9.62025179856115], [52.026308724832205, 10.007769784172662], [52.60295302013424, 10.3544964028777], [50.62073825503353, 9.436690647482013], [50.87302013422817, 9.865000000000002], [52.458791946308736, 9.966978417266187], [50.80093959731545, 9.966978417266187], [51.521744966442924, 10.41568345323741], [51.665906040268425, 10.905179856115108], [51.1613422818792, 9.701834532374104], [50.83697986577181, 7.4379136690647485], [52.38671140939596, 9.844604316546764], [52.27859060402682, 9.151151079136692], [52.4948322147651, 8.886007194244606], [51.521744966442924, 10.27291366906475], [50.69281879194631, 9.640647482014387], [52.458791946308736, 10.211726618705036], [52.062348993288595, 10.068956834532376], [50.008053691275165, 7.886618705035971], [52.53087248322146, 8.253741007194247], [52.60295302013424, 10.150539568345323], [50.90906040268456, 7.764244604316545], [51.23342281879192, 7.580683453237409], [50.47657718120803, 7.458309352517986], [50.33241610738253, 10.211726618705036], [52.242550335570456, 11.496654676258991], [51.990268456375844, 10.517661870503598], [51.7379865771812, 10.6808273381295], [50.11617449664428, 12.598021582733814], [52.42275167785232, 11.190719424460433], [51.990268456375844, 8.84521582733813], [52.27859060402682, 8.172158273381296], [50.54865771812081, 7.682661870503598], [52.31463087248321, 9.824208633093527], [52.67503355704696, 10.089352517985613], [52.81919463087246, 10.578848920863312], [50.47657718120803, 12.06773381294964], [51.34154362416106, 11.98615107913669], [50.58469798657717, 7.621474820143884], [50.98114093959731, 9.253129496402877], [50.008053691275165, 12.557230215827342], [52.85523489932885, 8.682050359712232], [51.48570469798656, 11.822985611510791], [51.665906040268425, 10.599244604316546], [52.458791946308736, 10.334100719424463], [51.41362416107381, 11.027553956834534], [51.665906040268425, 7.92741007194245], [52.71107382550335, 8.110971223021586], [51.48570469798656, 8.110971223021586], [52.242550335570456, 9.334712230215828], [51.3055033557047, 12.047338129496406], [50.98114093959731, 8.13136690647482], [53.2156375838926, 11.190719424460433], [52.458791946308736, 9.844604316546764], [52.206510067114095, 10.211726618705036], [50.76489932885903, 9.579460431654677], [52.242550335570456, 8.110971223021586], [51.521744966442924, 7.66226618705036], [52.206510067114095, 9.763021582733813], [48.38624161073827, 8.151762589928058], [51.19738255033556, 9.926187050359712], [52.206510067114095, 9.17154676258993], [51.48570469798656, 7.988597122302156], [52.242550335570456, 9.395899280575541], [52.74711409395974, 10.538057553956836], [52.42275167785232, 9.62025179856115], [50.83697986577181, 7.539892086330937], [52.350671140939596, 9.212338129496406], [51.990268456375844, 10.068956834532376], [48.35020134228188, 8.84521582733813], [52.13442953020132, 8.987985611510794], [48.16999999999999, 8.682050359712232], [50.54865771812081, 7.13197841726619], [50.36845637583892, 7.417517985611514], [51.34154362416106, 9.273525179856115], [50.69281879194631, 7.845827338129496], [52.74711409395974, 9.416294964028776], [51.1613422818792, 7.356330935251798], [52.026308724832205, 9.314316546762594], [52.96335570469799, 10.578848920863312], [51.810067114093954, 9.518273381294964], [51.3055033557047, 8.070179856115107], [52.13442953020132, 9.08996402877698], [52.74711409395974, 8.314928057553956], [52.170469798657706, 9.803812949640289], [51.3055033557047, 9.824208633093527], [51.7379865771812, 10.456474820143885], [51.70194630872484, 9.824208633093527], [52.458791946308736, 11.251906474820146], [52.31463087248321, 12.230899280575542], [51.590616438356165, 7.459545454545452], [50.26650684931505, 9.134772727272729], [52.215890410958906, 9.070340909090909], [52.142328767123274, 10.358977272727273], [52.215890410958906, 8.76965909090909], [52.142328767123274, 9.843522727272727], [51.884863013698606, 10.48784090909091], [51.40671232876713, 9.800568181818182], [52.58369863013698, 7.8676136363636395], [52.06876712328767, 10.23011363636364], [52.54691780821915, 9.650227272727271], [52.473356164383546, 8.275681818181816], [53.356095890410955, 10.036818181818184], [52.62047945205478, 10.294545454545457], [51.7745205479452, 9.650227272727271], [51.590616438356165, 10.745568181818186], [50.59753424657535, 12.05568181818182], [50.965342465753395, 9.349545454545456], [52.28945205479451, 9.54284090909091], [50.52397260273972, 7.438068181818181], [52.54691780821915, 7.588409090909092], [50.56075342465752, 9.564318181818184], [52.84116438356165, 7.8031818181818196], [51.884863013698606, 8.189772727272725]]\n"
          ],
          "name": "stdout"
        }
      ]
    },
    {
      "cell_type": "markdown",
      "metadata": {
        "id": "4KvTkD5gRBxE"
      },
      "source": [
        "## Overall distinct labels:"
      ]
    },
    {
      "cell_type": "code",
      "metadata": {
        "colab": {
          "base_uri": "https://localhost:8080/"
        },
        "id": "7rscinLe3lTe",
        "outputId": "4d523a94-b512-42b2-ee2e-a040b3e059d0"
      },
      "source": [
        "distinct_labels_overall = distinct_training_labels\n",
        "for lbl in distinct_validation_labels:\n",
        "  if lbl not in distinct_training_labels:\n",
        "      distinct_labels_overall.append(lbl)\n",
        "print(\"len distinct_labels_overall = \", len(distinct_labels_overall))\n",
        "print(236 + 358)\n",
        "\n",
        "sorted_x = sorted(distinct_labels_overall, key=lambda x: x[0])\n",
        "print(\"____________First 10 x values:____________\\n\", sorted_x[:10])\n",
        "print(\"____________Last 10 x values:____________\\n\", sorted_x[-10:], \"\\n\\n\")\n",
        "del sorted_x\n",
        "sorted_y = sorted(distinct_labels_overall, key=lambda x: x[1])\n",
        "print(\"____________First 10 y values:____________\\n\", sorted_y[:10])\n",
        "print(\"____________Last 10 y values:____________\\n\", sorted_y[-10:])\n",
        "del sorted_y\n",
        "\n",
        "print(\"\\n\\n\\t\\t\\t Distinct xs and ys overall now:\\n\\n\\n\")\n",
        "distinct_xs = []\n",
        "distinct_ys = []\n",
        "for lbl in distinct_labels_overall:\n",
        "  if lbl[0] not in distinct_xs:\n",
        "    distinct_xs.append(lbl[0])\n",
        "  if lbl[1] not in distinct_ys:\n",
        "    distinct_ys.append(lbl[1])\n",
        "print(\"len distinct xs = \", len(distinct_xs))\n",
        "print(distinct_xs)\n",
        "print(\"len distinct ys = \", len(distinct_ys))\n",
        "print(distinct_ys)\n",
        "\n",
        "print(\"\\n\\n\\n\\n\")\n",
        "\n",
        "print(\"\\n\\n\\t\\t\\t Distinct xs and ys for training now:\\n\\n\\n\")\n",
        "distinct_xs_tr = []\n",
        "distinct_ys_tr = []\n",
        "for lbl in distinct_training_labels:\n",
        "  if lbl[0] not in distinct_xs_tr:\n",
        "    distinct_xs_tr.append(lbl[0])\n",
        "  if lbl[1] not in distinct_ys_tr:\n",
        "    distinct_ys_tr.append(lbl[1])\n",
        "print(\"len distinct xs_tr = \", len(distinct_xs_tr))\n",
        "print(distinct_xs_tr)\n",
        "print(\"len distinct ys_tr = \", len(distinct_ys_tr))\n",
        "print(distinct_ys_tr)\n",
        "\n",
        "print(\"\\n\\n\\n\\n\")\n",
        "\n",
        "print(\"\\n\\n\\t\\t\\t Distinct xs and ys for validation now:\\n\\n\\n\")\n",
        "distinct_xs_val = []\n",
        "distinct_ys_val = []\n",
        "for lbl in distinct_validation_labels:\n",
        "  if lbl[0] not in distinct_xs_val:\n",
        "    distinct_xs_val.append(lbl[0])\n",
        "    if lbl[0] not in distinct_xs_tr:\n",
        "      r = 5/0\n",
        "  if lbl[1] not in distinct_ys_val:\n",
        "    distinct_ys_val.append(lbl[1])\n",
        "    if lbl[1] not in distinct_ys_tr:\n",
        "      r = 5/0\n",
        "\n",
        "print(\"len distinct xs_val = \", len(distinct_xs_val))\n",
        "print(distinct_xs_val)\n",
        "print(\"len distinct ys_val = \", len(distinct_ys_val))\n",
        "print(distinct_ys_val)\n",
        "\n",
        "print(\"\\n\\n\\n\\n\")"
      ],
      "execution_count": null,
      "outputs": [
        {
          "output_type": "stream",
          "text": [
            "len distinct_labels_overall =  594\n",
            "594\n",
            "____________First 10 x values:____________\n",
            " [[48.17, 8.426023], [48.17, 7.6743183], [48.16999999999999, 8.682050359712232], [48.24356, 8.640796], [48.24356, 8.254205], [48.27812080536913, 8.641258992805753], [48.27812080536913, 7.92741007194245], [48.280342, 8.662272], [48.280342, 7.910568], [48.35020134228188, 8.478093525179858]]\n",
            "____________Last 10 x values:____________\n",
            " [[53.32375838926171, 10.41568345323741], [53.356094, 10.0368185], [53.356094, 10.058295], [53.356094, 9.822045], [53.356095890410955, 10.036818181818184], [53.35979865771813, 9.966978417266187], [53.35979865771813, 10.170935251798564], [53.35979865771813, 10.191330935251802], [53.53999999999999, 9.865000000000002], [53.54, 9.714659]] \n",
            "\n",
            "\n",
            "____________First 10 y values:____________\n",
            " [[50.41363, 7.03], [51.25959, 7.0514774], [51.29637, 7.0514774], [49.93548, 7.0514774], [50.152214765100666, 7.1115827338129485], [51.26946308724831, 7.13197841726619], [50.54865771812081, 7.13197841726619], [50.928562, 7.1373863], [50.781437, 7.1588635], [51.22281, 7.1588635]]\n",
            "____________Last 10 y values:____________\n",
            " [[52.28945, 12.206022], [52.436577, 12.206022], [52.458791946308736, 12.230899280575542], [52.31463087248321, 12.230899280575542], [49.93548, 12.549659], [50.008053691275165, 12.557230215827342], [50.080134228187916, 12.598021582733814], [50.11617449664428, 12.598021582733814], [50.303288, 12.7], [50.36845637583892, 12.7]]\n",
            "\n",
            "\n",
            "\t\t\t Distinct xs and ys overall now:\n",
            "\n",
            "\n",
            "\n",
            "len distinct xs =  217\n",
            "[51.810066, 51.918186, 52.711075, 52.38671, 52.314632, 52.09839, 52.17047, 50.476578, 51.449665, 52.24255, 51.846107, 49.97201, 50.98114, 52.546917, 50.855, 50.928562, 52.951508, 50.965343, 51.002125, 51.40671, 51.73774, 49.898697, 52.5837, 51.77452, 50.560753, 51.480274, 52.62048, 52.21589, 51.848083, 52.068768, 52.326233, 49.64123, 52.363014, 50.597534, 52.694042, 48.17, 51.075684, 52.28945, 50.34007, 50.00904, 51.59062, 52.14233, 50.192944, 51.29637, 51.33315, 51.884865, 53.245754, 50.266506, 52.841164, 51.664177, 53.282536, 51.958424, 51.112465, 52.510136, 53.356094, 51.25959, 50.41363, 51.22281, 48.280342, 52.436577, 52.730824, 49.273426, 50.229725, 52.877945, 52.914726, 50.634315, 50.52397, 50.37685, 52.804382, 51.627396, 50.48719, 49.383766, 49.93548, 52.65726, 48.24356, 52.25267, 50.303288, 52.473354, 52.17911, 51.517056, 51.443493, 51.811302, 51.553837, 51.921642, 50.74466, 50.89178, 52.7676, 50.70788, 53.54, 50.781437, 52.10555, 52.031986, 53.319317, 52.399796, 51.149246, 50.81822, 51.70096, 51.995205, 53.09863, 50.082603, 52.098389261744956, 51.629865771812064, 52.242550335570456, 51.70194630872484, 52.56691275167782, 50.080134228187916, 52.89127516778524, 52.170469798657706, 52.71107382550335, 49.46744966442952, 51.810067114093954, 50.33241610738253, 50.29637583892617, 52.85523489932885, 52.31463087248321, 51.4496644295302, 51.01718120805367, 53.35979865771813, 52.6389932885906, 52.38671140939596, 51.08926174496645, 52.9273154362416, 52.60295302013424, 51.774026845637565, 50.65677852348995, 48.38624161073827, 52.67503355704696, 51.990268456375844, 50.98114093959731, 51.34154362416106, 50.47657718120803, 51.26946308724831, 51.882147651006704, 51.918187919463065, 50.40449664429531, 52.53087248322146, 52.350671140939596, 49.75577181208055, 52.7831543624161, 50.90906040268456, 51.521744966442924, 52.458791946308736, 49.972013422818776, 50.94510067114095, 51.05322147651006, 50.58469798657717, 51.37758389261742, 51.19738255033556, 50.260335570469806, 50.62073825503353, 48.27812080536913, 50.83697986577181, 53.53999999999999, 52.4948322147651, 51.12530201342281, 50.36845637583892, 52.74711409395974, 52.81919463087246, 51.665906040268425, 51.48570469798656, 50.69281879194631, 50.44053691275167, 50.80093959731545, 51.5938255033557, 50.188255033557056, 52.42275167785232, 51.3055033557047, 49.719731543624135, 52.96335570469799, 53.32375838926171, 51.1613422818792, 52.026308724832205, 52.27859060402682, 51.954228187919455, 51.84610738255034, 50.76489932885903, 50.87302013422817, 50.008053691275165, 52.062348993288595, 53.10751677852349, 48.35020134228188, 53.03543624161071, 53.25167785234899, 52.13442953020132, 50.152214765100666, 50.54865771812081, 53.28771812080535, 51.55778523489934, 52.206510067114095, 51.41362416107381, 51.7379865771812, 49.35932885906041, 53.14355704697985, 49.863892617449636, 51.23342281879192, 50.11617449664428, 53.2156375838926, 48.16999999999999, 51.590616438356165, 50.26650684931505, 52.215890410958906, 52.142328767123274, 51.884863013698606, 51.40671232876713, 52.58369863013698, 52.06876712328767, 52.54691780821915, 52.473356164383546, 53.356095890410955, 52.62047945205478, 51.7745205479452, 50.59753424657535, 50.965342465753395, 52.28945205479451, 50.52397260273972, 50.56075342465752, 52.84116438356165]\n",
            "len distinct ys =  337\n",
            "[10.191331, 10.599245, 9.987374, 11.700611, 9.701835, 10.354496, 9.314317, 7.3155394, 11.863777, 8.96759, 9.028777, 8.131367, 7.478705, 10.788523, 10.079773, 10.981818, 9.306591, 9.3495455, 7.889091, 9.800569, 9.972386, 9.134772, 10.058295, 9.564319, 10.273068, 10.294545, 8.769659, 8.554887, 10.230114, 7.609886, 7.996477, 11.647614, 7.5025, 9.843523, 9.070341, 8.426023, 9.650228, 7.1373863, 12.055682, 9.62875, 9.542841, 7.867614, 10.745568, 8.619318, 11.626137, 7.330682, 7.8031816, 8.490455, 8.12534, 7.2232957, 7.588409, 10.487841, 11.926818, 10.616705, 8.189773, 11.089205, 11.261023, 10.358977, 11.389886, 7.6957955, 7.4595456, 7.6743183, 10.938864, 10.0368185, 11.755, 7.0514774, 11.819432, 8.68375, 8.662272, 7.03, 9.671704, 11.175114, 10.423409, 7.910568, 7.9320455, 11.969772, 11.067727, 11.883863, 8.017955, 9.478409, 7.73875, 10.122727, 10.466364, 7.4165907, 8.103864, 8.640796, 9.822045, 7.652841, 12.7, 8.2756815, 8.146818, 8.92, 11.948296, 8.383068, 11.432841, 10.530795, 9.950909, 9.993864, 9.285113, 10.251591, 8.9629545, 9.15625, 8.082386, 9.865, 7.631364, 7.5669317, 9.929432, 9.714659, 8.361591, 9.027387, 8.254205, 7.4380684, 7.1588635, 10.015341, 7.2877274, 9.521363, 10.9603405, 11.690568, 8.791137, 7.5239773, 7.7172728, 9.607273, 9.693182, 9.886477, 10.81, 10.165682, 7.824659, 7.760227, 11.218068, 10.401932, 9.435454, 8.340114, 7.3951135, 7.352159, 12.0342045, 12.549659, 12.206022, 8.984432, 10.144204, 10.3375, 9.413978, 10.3544964028777, 7.723453237410073, 8.967589928057553, 8.416906474820145, 9.94658273381295, 7.947805755395681, 11.149928057553957, 10.476870503597123, 9.987374100719425, 7.988597122302156, 9.803812949640289, 9.314316546762594, 12.006546762589927, 8.04978417266187, 9.701834532374104, 11.802589928057554, 9.477482014388489, 9.518273381294964, 9.966978417266187, 10.41568345323741, 10.843992805755398, 11.700611510791369, 11.333489208633093, 7.47870503597122, 8.172158273381296, 8.110971223021586, 7.845827338129496, 10.109748201438848, 9.824208633093527, 12.088129496402878, 8.865611510791368, 9.253129496402877, 11.45586330935252, 7.417517985611514, 7.60107913669065, 8.886007194244606, 9.110359712230217, 8.70244604316547, 8.355719424460432, 8.763633093525183, 10.599244604316546, 10.170935251798564, 10.191330935251802, 11.965755395683455, 11.027553956834534, 10.293309352517987, 7.866223021582734, 8.314928057553956, 7.764244604316545, 7.825431654676262, 10.395287769784176, 9.538669064748202, 7.4379136690647485, 10.089352517985613, 8.13136690647482, 11.92496402877698, 10.884784172661874, 11.86377697841727, 9.763021582733813, 7.315539568345326, 10.721618705035972, 7.886618705035971, 7.335935251798563, 9.926187050359712, 11.84338129496403, 9.722230215827338, 8.641258992805753, 10.150539568345323, 9.865000000000002, 8.498489208633092, 11.06834532374101, 12.598021582733814, 9.783417266187051, 12.7, 8.253741007194247, 10.374892086330938, 9.55906474820144, 7.907014388489209, 11.047949640287772, 10.640035971223021, 8.824820143884889, 7.641870503597126, 11.170323741007195, 7.13197841726619, 7.968201438848922, 7.539892086330937, 8.192553956834534, 8.233345323741005, 10.211726618705036, 9.457086330935251, 9.62025179856115, 8.008992805755398, 7.92741007194245, 7.233956834532378, 8.559676258992805, 10.130143884892085, 10.007769784172662, 8.947194244604315, 10.762410071942448, 7.621474820143884, 8.600467625899281, 8.070179856115107, 7.80503597122302, 8.029388489208635, 8.682050359712232, 7.784640287769786, 8.090575539568345, 10.068956834532376, 10.905179856115108, 12.230899280575542, 9.681438848920866, 10.517661870503598, 8.478093525179858, 8.906402877697843, 9.599856115107915, 10.660431654676259, 7.580683453237409, 9.049172661870504, 11.680215827338127, 8.987985611510794, 11.292697841726618, 11.12953237410072, 8.580071942446043, 7.560287769784171, 11.741402877697844, 7.703057553956835, 8.335323741007194, 7.1115827338129485, 10.0281654676259, 10.252517985611512, 7.499100719424462, 8.37611510791367, 11.272302158273384, 10.701223021582734, 9.334712230215828, 9.375503597122304, 9.49787769784173, 8.294532374100722, 8.151762589928058, 9.88539568345324, 9.661043165467628, 11.353884892086334, 8.722841726618707, 10.456474820143885, 9.436690647482013, 9.844604316546764, 9.151151079136692, 10.27291366906475, 9.640647482014387, 7.458309352517986, 11.496654676258991, 10.6808273381295, 11.190719424460433, 8.84521582733813, 7.682661870503598, 10.578848920863312, 12.06773381294964, 11.98615107913669, 12.557230215827342, 11.822985611510791, 10.334100719424463, 12.047338129496406, 9.579460431654677, 7.66226618705036, 9.17154676258993, 9.395899280575541, 10.538057553956836, 9.212338129496406, 9.273525179856115, 9.416294964028776, 7.356330935251798, 9.08996402877698, 11.251906474820146, 7.459545454545452, 9.134772727272729, 9.070340909090909, 10.358977272727273, 8.76965909090909, 9.843522727272727, 10.48784090909091, 9.800568181818182, 7.8676136363636395, 10.23011363636364, 9.650227272727271, 8.275681818181816, 10.036818181818184, 10.294545454545457, 10.745568181818186, 12.05568181818182, 9.349545454545456, 9.54284090909091, 7.438068181818181, 7.588409090909092, 9.564318181818184, 7.8031818181818196, 8.189772727272725]\n",
            "\n",
            "\n",
            "\n",
            "\n",
            "\n",
            "\n",
            "\n",
            "\t\t\t Distinct xs and ys for training now:\n",
            "\n",
            "\n",
            "\n",
            "len distinct xs_tr =  217\n",
            "[51.810066, 51.918186, 52.711075, 52.38671, 52.314632, 52.09839, 52.17047, 50.476578, 51.449665, 52.24255, 51.846107, 49.97201, 50.98114, 52.546917, 50.855, 50.928562, 52.951508, 50.965343, 51.002125, 51.40671, 51.73774, 49.898697, 52.5837, 51.77452, 50.560753, 51.480274, 52.62048, 52.21589, 51.848083, 52.068768, 52.326233, 49.64123, 52.363014, 50.597534, 52.694042, 48.17, 51.075684, 52.28945, 50.34007, 50.00904, 51.59062, 52.14233, 50.192944, 51.29637, 51.33315, 51.884865, 53.245754, 50.266506, 52.841164, 51.664177, 53.282536, 51.958424, 51.112465, 52.510136, 53.356094, 51.25959, 50.41363, 51.22281, 48.280342, 52.436577, 52.730824, 49.273426, 50.229725, 52.877945, 52.914726, 50.634315, 50.52397, 50.37685, 52.804382, 51.627396, 50.48719, 49.383766, 49.93548, 52.65726, 48.24356, 52.25267, 50.303288, 52.473354, 52.17911, 51.517056, 51.443493, 51.811302, 51.553837, 51.921642, 50.74466, 50.89178, 52.7676, 50.70788, 53.54, 50.781437, 52.10555, 52.031986, 53.319317, 52.399796, 51.149246, 50.81822, 51.70096, 51.995205, 53.09863, 50.082603, 52.098389261744956, 51.629865771812064, 52.242550335570456, 51.70194630872484, 52.56691275167782, 50.080134228187916, 52.89127516778524, 52.170469798657706, 52.71107382550335, 49.46744966442952, 51.810067114093954, 50.33241610738253, 50.29637583892617, 52.85523489932885, 52.31463087248321, 51.4496644295302, 51.01718120805367, 53.35979865771813, 52.6389932885906, 52.38671140939596, 51.08926174496645, 52.9273154362416, 52.60295302013424, 51.774026845637565, 50.65677852348995, 48.38624161073827, 52.67503355704696, 51.990268456375844, 50.98114093959731, 51.34154362416106, 50.47657718120803, 51.26946308724831, 51.882147651006704, 51.918187919463065, 50.40449664429531, 52.53087248322146, 52.350671140939596, 49.75577181208055, 52.7831543624161, 50.90906040268456, 51.521744966442924, 52.458791946308736, 49.972013422818776, 50.94510067114095, 51.05322147651006, 50.58469798657717, 51.37758389261742, 51.19738255033556, 50.260335570469806, 50.62073825503353, 48.27812080536913, 50.83697986577181, 53.53999999999999, 52.4948322147651, 51.12530201342281, 50.36845637583892, 52.74711409395974, 52.81919463087246, 51.665906040268425, 51.48570469798656, 50.69281879194631, 50.44053691275167, 50.80093959731545, 51.5938255033557, 50.188255033557056, 52.42275167785232, 51.3055033557047, 49.719731543624135, 52.96335570469799, 53.32375838926171, 51.1613422818792, 52.026308724832205, 52.27859060402682, 51.954228187919455, 51.84610738255034, 50.76489932885903, 50.87302013422817, 50.008053691275165, 52.062348993288595, 53.10751677852349, 48.35020134228188, 53.03543624161071, 53.25167785234899, 52.13442953020132, 50.152214765100666, 50.54865771812081, 53.28771812080535, 51.55778523489934, 52.206510067114095, 51.41362416107381, 51.7379865771812, 49.35932885906041, 53.14355704697985, 49.863892617449636, 51.23342281879192, 50.11617449664428, 53.2156375838926, 48.16999999999999, 51.590616438356165, 50.26650684931505, 52.215890410958906, 52.142328767123274, 51.884863013698606, 51.40671232876713, 52.58369863013698, 52.06876712328767, 52.54691780821915, 52.473356164383546, 53.356095890410955, 52.62047945205478, 51.7745205479452, 50.59753424657535, 50.965342465753395, 52.28945205479451, 50.52397260273972, 50.56075342465752, 52.84116438356165]\n",
            "len distinct ys_tr =  337\n",
            "[10.191331, 10.599245, 9.987374, 11.700611, 9.701835, 10.354496, 9.314317, 7.3155394, 11.863777, 8.96759, 9.028777, 8.131367, 7.478705, 10.788523, 10.079773, 10.981818, 9.306591, 9.3495455, 7.889091, 9.800569, 9.972386, 9.134772, 10.058295, 9.564319, 10.273068, 10.294545, 8.769659, 8.554887, 10.230114, 7.609886, 7.996477, 11.647614, 7.5025, 9.843523, 9.070341, 8.426023, 9.650228, 7.1373863, 12.055682, 9.62875, 9.542841, 7.867614, 10.745568, 8.619318, 11.626137, 7.330682, 7.8031816, 8.490455, 8.12534, 7.2232957, 7.588409, 10.487841, 11.926818, 10.616705, 8.189773, 11.089205, 11.261023, 10.358977, 11.389886, 7.6957955, 7.4595456, 7.6743183, 10.938864, 10.0368185, 11.755, 7.0514774, 11.819432, 8.68375, 8.662272, 7.03, 9.671704, 11.175114, 10.423409, 7.910568, 7.9320455, 11.969772, 11.067727, 11.883863, 8.017955, 9.478409, 7.73875, 10.122727, 10.466364, 7.4165907, 8.103864, 8.640796, 9.822045, 7.652841, 12.7, 8.2756815, 8.146818, 8.92, 11.948296, 8.383068, 11.432841, 10.530795, 9.950909, 9.993864, 9.285113, 10.251591, 8.9629545, 9.15625, 8.082386, 9.865, 7.631364, 7.5669317, 9.929432, 9.714659, 8.361591, 9.027387, 8.254205, 7.4380684, 7.1588635, 10.015341, 7.2877274, 9.521363, 10.9603405, 11.690568, 8.791137, 7.5239773, 7.7172728, 9.607273, 9.693182, 9.886477, 10.81, 10.165682, 7.824659, 7.760227, 11.218068, 10.401932, 9.435454, 8.340114, 7.3951135, 7.352159, 12.0342045, 12.549659, 12.206022, 8.984432, 10.144204, 10.3375, 9.413978, 10.3544964028777, 7.723453237410073, 8.967589928057553, 8.416906474820145, 9.94658273381295, 7.947805755395681, 11.149928057553957, 10.476870503597123, 9.987374100719425, 7.988597122302156, 9.803812949640289, 9.314316546762594, 12.006546762589927, 8.04978417266187, 9.701834532374104, 11.802589928057554, 9.477482014388489, 9.518273381294964, 9.966978417266187, 10.41568345323741, 10.843992805755398, 11.700611510791369, 11.333489208633093, 7.47870503597122, 8.172158273381296, 8.110971223021586, 7.845827338129496, 10.109748201438848, 9.824208633093527, 12.088129496402878, 8.865611510791368, 9.253129496402877, 11.45586330935252, 7.417517985611514, 7.60107913669065, 8.886007194244606, 9.110359712230217, 8.70244604316547, 8.355719424460432, 8.763633093525183, 10.599244604316546, 10.170935251798564, 10.191330935251802, 11.965755395683455, 11.027553956834534, 10.293309352517987, 7.866223021582734, 8.314928057553956, 7.764244604316545, 7.825431654676262, 10.395287769784176, 9.538669064748202, 7.4379136690647485, 10.089352517985613, 8.13136690647482, 11.92496402877698, 10.884784172661874, 11.86377697841727, 9.763021582733813, 7.315539568345326, 10.721618705035972, 7.886618705035971, 7.335935251798563, 9.926187050359712, 11.84338129496403, 9.722230215827338, 8.641258992805753, 10.150539568345323, 9.865000000000002, 8.498489208633092, 11.06834532374101, 12.598021582733814, 9.783417266187051, 12.7, 8.253741007194247, 10.374892086330938, 9.55906474820144, 7.907014388489209, 11.047949640287772, 10.640035971223021, 8.824820143884889, 7.641870503597126, 11.170323741007195, 7.13197841726619, 7.968201438848922, 7.539892086330937, 8.192553956834534, 8.233345323741005, 10.211726618705036, 9.457086330935251, 9.62025179856115, 8.008992805755398, 7.92741007194245, 7.233956834532378, 8.559676258992805, 10.130143884892085, 10.007769784172662, 8.947194244604315, 10.762410071942448, 7.621474820143884, 8.600467625899281, 8.070179856115107, 7.80503597122302, 8.029388489208635, 8.682050359712232, 7.784640287769786, 8.090575539568345, 10.068956834532376, 10.905179856115108, 12.230899280575542, 9.681438848920866, 10.517661870503598, 8.478093525179858, 8.906402877697843, 9.599856115107915, 10.660431654676259, 7.580683453237409, 9.049172661870504, 11.680215827338127, 8.987985611510794, 11.292697841726618, 11.12953237410072, 8.580071942446043, 7.560287769784171, 11.741402877697844, 7.703057553956835, 8.335323741007194, 7.1115827338129485, 10.0281654676259, 10.252517985611512, 7.499100719424462, 8.37611510791367, 11.272302158273384, 10.701223021582734, 9.334712230215828, 9.375503597122304, 9.49787769784173, 8.294532374100722, 8.151762589928058, 9.88539568345324, 9.661043165467628, 11.353884892086334, 8.722841726618707, 10.456474820143885, 9.436690647482013, 9.844604316546764, 9.151151079136692, 10.27291366906475, 9.640647482014387, 7.458309352517986, 11.496654676258991, 10.6808273381295, 11.190719424460433, 8.84521582733813, 7.682661870503598, 10.578848920863312, 12.06773381294964, 11.98615107913669, 12.557230215827342, 11.822985611510791, 10.334100719424463, 12.047338129496406, 9.579460431654677, 7.66226618705036, 9.17154676258993, 9.395899280575541, 10.538057553956836, 9.212338129496406, 9.273525179856115, 9.416294964028776, 7.356330935251798, 9.08996402877698, 11.251906474820146, 7.459545454545452, 9.134772727272729, 9.070340909090909, 10.358977272727273, 8.76965909090909, 9.843522727272727, 10.48784090909091, 9.800568181818182, 7.8676136363636395, 10.23011363636364, 9.650227272727271, 8.275681818181816, 10.036818181818184, 10.294545454545457, 10.745568181818186, 12.05568181818182, 9.349545454545456, 9.54284090909091, 7.438068181818181, 7.588409090909092, 9.564318181818184, 7.8031818181818196, 8.189772727272725]\n",
            "\n",
            "\n",
            "\n",
            "\n",
            "\n",
            "\n",
            "\n",
            "\t\t\t Distinct xs and ys for validation now:\n",
            "\n",
            "\n",
            "\n",
            "len distinct xs_val =  117\n",
            "[52.098389261744956, 51.629865771812064, 52.242550335570456, 51.70194630872484, 52.56691275167782, 50.080134228187916, 52.89127516778524, 52.170469798657706, 52.71107382550335, 49.46744966442952, 51.810067114093954, 50.33241610738253, 50.29637583892617, 52.85523489932885, 52.31463087248321, 51.4496644295302, 51.01718120805367, 53.35979865771813, 52.6389932885906, 52.38671140939596, 51.08926174496645, 52.9273154362416, 52.60295302013424, 51.774026845637565, 50.65677852348995, 48.38624161073827, 52.67503355704696, 51.990268456375844, 50.98114093959731, 51.34154362416106, 50.47657718120803, 51.26946308724831, 51.882147651006704, 51.918187919463065, 50.40449664429531, 52.53087248322146, 52.350671140939596, 49.75577181208055, 52.7831543624161, 50.90906040268456, 51.521744966442924, 52.458791946308736, 49.972013422818776, 50.94510067114095, 51.05322147651006, 50.58469798657717, 51.37758389261742, 51.19738255033556, 50.260335570469806, 50.62073825503353, 48.27812080536913, 50.83697986577181, 53.53999999999999, 52.4948322147651, 51.12530201342281, 50.36845637583892, 52.74711409395974, 52.81919463087246, 51.665906040268425, 51.48570469798656, 50.69281879194631, 50.44053691275167, 50.80093959731545, 51.5938255033557, 50.188255033557056, 52.42275167785232, 51.3055033557047, 49.719731543624135, 52.96335570469799, 53.32375838926171, 51.1613422818792, 52.026308724832205, 52.27859060402682, 51.954228187919455, 51.84610738255034, 50.76489932885903, 50.87302013422817, 50.008053691275165, 52.062348993288595, 53.10751677852349, 48.35020134228188, 53.03543624161071, 53.25167785234899, 52.13442953020132, 50.152214765100666, 50.54865771812081, 53.28771812080535, 51.55778523489934, 52.206510067114095, 51.41362416107381, 51.7379865771812, 49.35932885906041, 53.14355704697985, 49.863892617449636, 51.23342281879192, 50.11617449664428, 53.2156375838926, 48.16999999999999, 51.590616438356165, 50.26650684931505, 52.215890410958906, 52.142328767123274, 51.884863013698606, 51.40671232876713, 52.58369863013698, 52.06876712328767, 52.54691780821915, 52.473356164383546, 53.356095890410955, 52.62047945205478, 51.7745205479452, 50.59753424657535, 50.965342465753395, 52.28945205479451, 50.52397260273972, 50.56075342465752, 52.84116438356165]\n",
            "len distinct ys_val =  196\n",
            "[10.3544964028777, 7.723453237410073, 8.967589928057553, 8.416906474820145, 9.94658273381295, 7.947805755395681, 11.149928057553957, 10.476870503597123, 9.987374100719425, 7.988597122302156, 9.803812949640289, 9.314316546762594, 12.006546762589927, 8.04978417266187, 9.701834532374104, 11.802589928057554, 9.477482014388489, 9.518273381294964, 9.966978417266187, 10.41568345323741, 10.843992805755398, 11.700611510791369, 11.333489208633093, 7.47870503597122, 8.172158273381296, 8.110971223021586, 7.845827338129496, 10.109748201438848, 9.824208633093527, 12.088129496402878, 8.865611510791368, 9.253129496402877, 11.45586330935252, 7.417517985611514, 7.60107913669065, 8.886007194244606, 9.110359712230217, 8.70244604316547, 8.355719424460432, 8.763633093525183, 10.599244604316546, 10.170935251798564, 10.191330935251802, 11.965755395683455, 11.027553956834534, 10.293309352517987, 7.866223021582734, 8.314928057553956, 7.764244604316545, 7.825431654676262, 10.395287769784176, 9.538669064748202, 7.4379136690647485, 10.089352517985613, 8.13136690647482, 11.92496402877698, 10.884784172661874, 11.86377697841727, 9.763021582733813, 7.315539568345326, 10.721618705035972, 7.886618705035971, 7.335935251798563, 9.926187050359712, 11.84338129496403, 9.722230215827338, 8.641258992805753, 10.150539568345323, 9.865000000000002, 8.498489208633092, 11.06834532374101, 12.598021582733814, 9.783417266187051, 12.7, 8.253741007194247, 10.374892086330938, 9.55906474820144, 7.907014388489209, 11.047949640287772, 10.640035971223021, 8.824820143884889, 7.641870503597126, 11.170323741007195, 7.13197841726619, 7.968201438848922, 7.539892086330937, 8.192553956834534, 8.233345323741005, 10.211726618705036, 9.457086330935251, 9.62025179856115, 8.008992805755398, 7.92741007194245, 7.233956834532378, 8.559676258992805, 10.130143884892085, 10.007769784172662, 8.947194244604315, 10.762410071942448, 7.621474820143884, 8.600467625899281, 8.070179856115107, 7.80503597122302, 8.029388489208635, 8.682050359712232, 7.784640287769786, 8.090575539568345, 10.068956834532376, 10.905179856115108, 12.230899280575542, 9.681438848920866, 10.517661870503598, 8.478093525179858, 8.906402877697843, 9.599856115107915, 10.660431654676259, 7.580683453237409, 9.049172661870504, 11.680215827338127, 8.987985611510794, 11.292697841726618, 11.12953237410072, 8.580071942446043, 7.560287769784171, 11.741402877697844, 7.703057553956835, 8.335323741007194, 7.1115827338129485, 10.0281654676259, 10.252517985611512, 7.499100719424462, 8.37611510791367, 11.272302158273384, 10.701223021582734, 9.334712230215828, 9.375503597122304, 9.49787769784173, 8.294532374100722, 8.151762589928058, 9.88539568345324, 9.661043165467628, 11.353884892086334, 8.722841726618707, 10.456474820143885, 9.436690647482013, 9.844604316546764, 9.151151079136692, 10.27291366906475, 9.640647482014387, 7.458309352517986, 11.496654676258991, 10.6808273381295, 11.190719424460433, 8.84521582733813, 7.682661870503598, 10.578848920863312, 12.06773381294964, 11.98615107913669, 12.557230215827342, 11.822985611510791, 10.334100719424463, 12.047338129496406, 9.579460431654677, 7.66226618705036, 9.17154676258993, 9.395899280575541, 10.538057553956836, 9.212338129496406, 9.273525179856115, 9.416294964028776, 7.356330935251798, 9.08996402877698, 11.251906474820146, 7.459545454545452, 9.134772727272729, 9.070340909090909, 10.358977272727273, 8.76965909090909, 9.843522727272727, 10.48784090909091, 9.800568181818182, 7.8676136363636395, 10.23011363636364, 9.650227272727271, 8.275681818181816, 10.036818181818184, 10.294545454545457, 10.745568181818186, 12.05568181818182, 9.349545454545456, 9.54284090909091, 7.438068181818181, 7.588409090909092, 9.564318181818184, 7.8031818181818196, 8.189772727272725]\n",
            "\n",
            "\n",
            "\n",
            "\n",
            "\n"
          ],
          "name": "stdout"
        }
      ]
    },
    {
      "cell_type": "code",
      "metadata": {
        "id": "fj7m3jQhCjB4"
      },
      "source": [
        "def truncate_scores(x_scores, y_scores):\n",
        "  trunc_x_scores = []\n",
        "  i1 = 0\n",
        "  for x in x_scores:\n",
        "    i1+=1\n",
        "    dist_min = +100000\n",
        "    #find the closest truncated value\n",
        "    closest = -1\n",
        "    for trunc_x in distinct_xs:\n",
        "      if abs(trunc_x - x) < dist_min:\n",
        "        dist_min = abs(trunc_x - x)\n",
        "        closest = trunc_x\n",
        "    trunc_x_scores.append(closest)\n",
        "\n",
        "  trunc_y_scores = []\n",
        "  i2 = 0\n",
        "  for y in y_scores:\n",
        "    i2+=1\n",
        "    dist_min = +100000\n",
        "    #find the closest truncated value\n",
        "    closest = -1\n",
        "    for trunc_y in distinct_ys:\n",
        "      if abs(trunc_y - y) < dist_min:\n",
        "        dist_min = abs(trunc_y - y)\n",
        "        closest = trunc_y\n",
        "    trunc_y_scores.append(closest)\n",
        "  print(\"i1 = \", i1)\n",
        "  print(\"i2 = \", i2)\n",
        "  return trunc_x_scores, trunc_y_scores"
      ],
      "execution_count": null,
      "outputs": []
    },
    {
      "cell_type": "code",
      "metadata": {
        "id": "YO0AfDeoPXuP"
      },
      "source": [
        "def convert_to_printable_string(x_scores, y_scores):\n",
        "  result = \"id,lat,long\\n\"\n",
        "  for i in range(len(test_IDs)):\n",
        "    id = test_IDs[i]\n",
        "    result = result + str(id) + \",\" + str(x_scores[i]) + \",\" + str(y_scores[i]) + \"\\n\"\n",
        "  return result\n"
      ],
      "execution_count": null,
      "outputs": []
    },
    {
      "cell_type": "markdown",
      "metadata": {
        "id": "CMQKAf47RWKj"
      },
      "source": [
        "# Call the previous functions:"
      ]
    },
    {
      "cell_type": "code",
      "metadata": {
        "colab": {
          "base_uri": "https://localhost:8080/"
        },
        "id": "aAvVlIFFFaKb",
        "outputId": "ad6fb72f-8cca-40ae-93e2-d4974ba80bff"
      },
      "source": [
        "#______________________Training the batch___________________________\n",
        "training_ftrs, bow, training_labels, training_IDs = Read_training(number_training_samples, 0, training_data, training_labels, training_IDs)\n",
        "#training_ftrs, bow, training_labels, training_IDs = Read_training(len(content_training), 0, training_data, training_labels, training_IDs)\n",
        "test_ftrs, test_IDs, validation_ftrs, validation_labels, validation_IDs = Read_test_and_validation(bow, validation_data, validation_labels, validation_IDs, test_data, test_labels, test_IDs)\n",
        "#test_ftrs, test_IDs, validation_ftrs, validation_labels, validation_IDs"
      ],
      "execution_count": null,
      "outputs": [
        {
          "output_type": "stream",
          "text": [
            "batch_size =  22583\n",
            "reading step =  0\n",
            "shortest_text =  2000000000\n",
            "first row in training is:  119165,51.810067114093954,10.191330935251802,\"seit d vase: \"\"wenn ich kaputt gang, bringt das 1 jahr unglück.\"\" antwortet de spiegel: \"\"das isch doch gar nüt. wenn ich kaputt gang, bringt das 7 jahr pech!\"\" dadruf fangt s kondom a lache. s'atomkraftwerk au 😋 uuuh nöd schlecht 👍 seisch anere frau sie isch fett und du hesch dis lebe lang unglück (au wenn i dem fall nüm lang lebsch)\"\n",
            "\n",
            "reading step =  2000\n",
            "shortest_text =  2000000000\n",
            "reading step =  4000\n",
            "shortest_text =  2000000000\n",
            "reading step =  6000\n",
            "shortest_text =  2000000000\n",
            "reading step =  8000\n",
            "shortest_text =  2000000000\n",
            "reading step =  10000\n",
            "shortest_text =  2000000000\n",
            "reading step =  12000\n",
            "shortest_text =  2000000000\n",
            "reading step =  14000\n",
            "shortest_text =  2000000000\n",
            "reading step =  16000\n",
            "shortest_text =  2000000000\n",
            "reading step =  18000\n",
            "shortest_text =  2000000000\n",
            "reading step =  20000\n",
            "shortest_text =  2000000000\n",
            "reading step =  22000\n",
            "shortest_text =  2000000000\n",
            "finished converting to np. Now choosing feature extractor:\n",
            "instatiating BOW object...\n",
            "BOW instantiated!\n",
            "I am in the build_dict...\n",
            "ind1 =  0\n",
            "ind1 =  1000\n",
            "ind1 =  2000\n",
            "ind1 =  3000\n",
            "ind1 =  4000\n",
            "ind1 =  5000\n",
            "ind1 =  6000\n",
            "ind1 =  7000\n",
            "ind1 =  8000\n",
            "ind1 =  9000\n",
            "ind1 =  10000\n",
            "ind1 =  11000\n",
            "ind1 =  12000\n",
            "ind1 =  13000\n",
            "ind1 =  14000\n",
            "ind1 =  15000\n",
            "ind1 =  16000\n",
            "ind1 =  17000\n",
            "ind1 =  18000\n",
            "ind1 =  19000\n",
            "ind1 =  20000\n",
            "ind1 =  21000\n",
            "ind1 =  22000\n",
            "rebuilding dictionary...\n",
            "sunt in functie si am most_freq =  ['isch', 'de', 'au', 'i', 'ja', 'e', 'en', 'no', 'uf', 'het', 'bi', 'nid', 'ha', '😂', 'scho', 'vo', 'ned', 'd', 'mer', 'han', 'nod', 'hesch', 'bisch', 'z', '@1', '@2', 'eifach', 'a', 'mal', 'guet', 'imm', 'si', 's', '@oj', 'mach', 'u', '-', 'dr', 'grad', 'gsi', 'mi', 'nei', 'di', 'us', 'kei', '@3', 'jo', 'git', '2', 'hani', 'hend', 'mini', 'me', 'chli', 'ah', 'jodel', 'haha', 'wer', 'ganz', 'war', 'min', 'go', '😅', 'schon', 'weiss', 'meh', 'frau', 'esch', 'mol', '🤔', 'chasch', '1', 'tag', 'dank', 'hut', 'ds', 'cha', '@4', 'bim', 'opp', 'num', 'wieso', 'sich', 'gern', 'glaub', 'nut', 'alt', '😉', 'lieb', 'lut', 'ide', 'eh', 'gha', 'lang', 'nie', 'nit', '3', 'do', 'ond', 'macht', 'da', 'oj', 'voll', 'glich', 'find', 'chan', 'lueg', '😊', 'gmacht', 'o', 'w', 'richtig', 'alli', 'mega', 'bess', 'm', 'genau', 'dini', 'hed', 'ig', 'well', 'gseh', 'muess', 'leid', 'em', 'din', 'jahr', 'ab', 'wenn', 'schaff', 'erst', '🙈', '😂😂', 'halt', 'kolleg', 'aso', 'wurd', 'cho', 'gad', 'scheiss', '&', 'paar', 'mis', 'geil', 'det', 'frag', 'sit', 'abr', 'ou', 'feri', 'sorry', '@5', 'hett', 'gaht', 'oh', 'muesch', 'oppis', 'is', '5', 'gar', 'moment', 'selb', 'na', 'gang', 'mau', 'hei', 'zug', 'hat', 'kenn', 'bitt', 'bini', 'ohni', 'mann', 'oper', 'wuch', 'gueti', 'word', 'ebe', 'sag', 'seg', 'morn', 'recht', 'mim', 'best', '😍', 'heisst', 'wen', '😄', 'ish', 'ech', 'frund', 'all', 'wur', 'numm', 'ih', 'as', 'probl', 'hand', 'ni', 'ke', 'sup', 'eu', 'seit', 'ga', 'ma', 'wett', 'sach', '4', 'gseit', 'chunt', 'weisch', 'echt', 'be', 'morg', 'ne', 'wennd', '😁', 'frog', 'bett', 'gross', 'id', 'person', 'eher', 'ez', 'gah', 'nach', 'odr', 'mit', 'los', 'met', '🙄', 'hahaha', 'gseht', 'druf', 'frundin', 'eini', 'goht', 'wenig', 'opis', 'lauft', 'eis', 'cham', 'has', 'fall', 'kik', 'typ', 'schlimm', 'ufem', 'chunnt', 'leb', 'jaa', 'sex', '@6', 'mr', 'sech', 'jhj', 'chum', 'denk', 'sogar', 'woni', 'ess', '^^', 'klar', 'kennt', 'use', 'denkt', 'neu', 'merci', 'schnell', 'auto', 'eigent', 'dia', 'lust', 'gluck', 'wiso', 'suech', 'liebi', 'sii', 'machsch', 'ziit', 'fahr', 'dur', 'bier', 'fur', '😂😂😂', 'ir', 'mensch', 'den', 'ok', 'viu', '😏', 'sin', 'wed', 'dis', 'spass', 'demfall', 'son', 'bruch', 'susch', 'zwei', 'chani', 'cool', 'we', 'anderi', 'meist', 'drum', 'meinsch', 'ka', 'eif', 'passiert', 'geh', 'huer', 'brucht', 'luut', 'eig', 'gmeint', 'sott', 'xd', 'jodl', 'nam', 'for', 'schlecht', 'egal', 'ghort', 'wos', 'der', 'schrib', 'wid', '20', 'wel', '10', 'eus', 'red', 'wend', 'vill', 'gest', 'geld', 'the', 'zit', 'wenni', 'b', 'etz', 'schlaf', 'einzig', 'handy', 'wag', 'falsch', 'weg', 'erfahr', 'nacht', 'wart', 'eim', 'hahah', 'vlt', 'mues', 'abe', 'stimmt', 'zuri', 'hie', 'jetz', 'besch', 'hatt', 'irgendwi', 'trotzd', 'wa', 'send', 'geit', 'lehr', '😜', 'easy', 'wia', 'dra', 'hey', 'ine', 'hasch', 'gfuhl', 'zue', 'wohl', 'wach', 'ober', 'fast', 'hoff', 'trink', 'gfund', 'wass', 'usgang', 'das', 'chond', 'dim', 'abig', 'bild', 'nah', 'warum', 'garn', 'gut', 'iz', 'johr', 'film', 'normal', 'lab', 'soll', 'witz', 'mehr', 'wem', 'wurkli', 'sini', 'of', 'monet', 'heiss', 'bezieh', 'ume', 'nu', 'wi', 'dert', 'frou', 'post', 'lustig', 'mier', 'stadt', 'wird', 'mami', 'wott', 'jung', 'kollegin', 'antwort', 'dat', 'schrieb', 'chind', 'oft', 'auso', 'wuss', 'wit', 'ahnig', 'ca', 'dasi', 'teil', 'her', 'grund', 'weni', 'obe', 'wort', 'gnueg', 'becho', 'ufe', 'wot', 'debi', 'schwiz', 'findi', 'fertig', 'vorh', 'keis', '6', 'stund', 'beid', 'usem', 'noch', 'tont', 'allei', 'dam', 'findet', 'googl', '7', '@7', 'aui', 'frei', 'wichtig', 'p', 'dumm', 'gib', 'stell', 'chont', 'nix', 'obb', 'nimm', 'chonnt', '18', 'ufs', 'arsch', 'lern', 'se', 'angst', 'will', 'amig', 'noni', '0', 'geg', 'etc', 'tur', 'langsam', 'wetsch', 'hund', 'ar', 'musch', 'sinn', 'maa', 'sind', 'soo', 'und', 'see', 'wotsch', 'sust', 'vod', 'neui', 'inn', 'toll', 'fuhl', 'halb', 'repost', 'platz', 'je', 'wiit', 'nor', 'chonn', 'passt', 'drub', 'ane', 'ihri', '😋', 'emm', 'wirsch', 'off', 'app', 'la', 'vu', 'ner', 'letscht', 'epp', 'demit', 'spiel', 'nud', 'zam', 'seri', 'bish', 'zahl', 'chauf', 'nar', 'lauf', 'gratis', 'wemm', 'vor', 'minut', 'chunsch', 'ade', 'schuel', 'komisch', 'schwarz', 'gse', 'gond', 'niemert', 'mag', 'arm', 'dorf', 'chas', 'bruchsch', 'ort', 'fing', 'summ', 'ex', 'niem', 'wohn', 'probi', 'lah', 'bring', 'mitm', 'job', 'berlin', 'wies', 'defur', 'schwiiz', 'weis', 'tue', 'hesh', 'immerno', 'vorall', 'hallo', 'pizza', 'wenigst', 'suscht', 'lied', 'gliich', 'racht', 'uberhaupt', 'seisch', 'netflix', '30', 'gsii', 'internet', 'wurdi', 'wom', 'kommentar', 'wc', '😎', 'welt', 'elt', '☺️', 'dezu', 'gott', 'tipps', 'schad', 'bus', '😘', 'naja', 'meinig', 'schoni', 'natur', 'hmm', 'ticket', '=', 'ben', 'froh', 'nonig', 'tuet', 'lach', 'kenni', 'dutsch', '21', 'hamm', 'letzt', 'bringt', 'blod', 'ernst', 'sis', 'nimmt', '@8', 'duss', 'top', 'tipp', 'ufd', 'gid', 'oke', 'vat', 'nochi', 'dort', 'gloub', 'uss', 'ersch', 'schluss', 'kind', 'obs', 'ass', 'mached', 'machi', 'gibt', 'bescht', 'aues', 'fasch', 'zeig', 'bald', 'zrugg', 'wil', 'haut', 'afang', 'bock', 'upvot', '🤗', 'vell', 'biz', '15', 'and', 'downvot', 'fein', 'staht', 'buech', 'grossi', 'churz', 'moglich', 'chatz', 't', 'ob', 'dot', 'okay', 'alln', 'chlin', 'beidi', 'zimm', 'bar', 'land', 'einfach', 'militar', 'kennsch', 'fahrt', 'ihn', 'oppert', 'wod', 'chund', 'rot', 'lad', 'verbi', 'hilft', 'bad', 'ad', 'art', 'singl', 'geht', 'solang', 'wunsch', 'zem', 'chill', 'jemand', 'bahnhof', 'fr', 'denn', 'hast', 'obis', 'willsch', 'weh', 'wuri', 'not', 'momentan', 'miar', 'wet', 'chon', 'hass', 'irgendwo', 'gam', 'hilf', '👍', 'leut', 'erscht', 'wund', 'ei', 'langwil', 'neh', 'guat', 'aug', 'druff', 'humor', 'gedank', 'hol', 'momant', 'glas', 'pro', 'zerst', 'gnau', 'schwer', 'direkt', 'mocht', 'empfehl', 'musig', 'gwusst', 'papi', 'wou', 'zb', 'hos', 'coop', 'darf', 'extra', 'bid', '19', 'kasch', 'flug', 'uberall', '17', 'party', 'ehr', 'arzt', 'rauch', 'sport', 'bro', '12', 'irgend', 'studi', 'villicht', '8', '😇', 'openair', 'famili', 'hauptsach', '😬', 'arbeit', 'ch', 'definitiv', 'stoht', 'wand', 'jedi', 'hetti', 'schlof', 'woch', 'bzw', 'eint', 'heit', 'got', 'dehei', 'schu', 'welli', 'snap', 'gsehsch', 'sho', 'dihei', 'aut', 'vilicht', 'chopf', 'plan', 'omg', 'mangisch', '50', 'obwohl', 'schaffsch', 'ach', 'student', 'warm', 'eppis', 'freu', 'dann', 'krass', 'bern', 'wann', 'haar', 'heut', 'findsch', 'ich', 'muett', 'bitz', 'helf', '😳', 'hoch', 'sim', '22', 'itz', 'unbedingt', 'wohnig', 'kauf', 'meint', 'zersch', 'pruefig', 'hot', 'macha', 'link', 'spot', 'dier', 'versuech', 'shit', 'salb', 'vil', 'dankt', 'acht', 'sry', 'joo', 'karma', 'alkohol', '🤣', 'darum', 'ward', 'bevor', 'uber', 'wow', '👌', '😌', 'schlacht', 'luscht', 'eigentli', 'wohnsch', 'perfekt', '00', 'fett', 'you', 'sitz', 'endlich', 'to', '😀', 'migros', 'les', 'ein', 'schatz', 'vergess', 'wari', 'prufung', 'bod', 'ere', 'kai', 'keini', 'usw', 'verstand', 'werd', 'wosch', '😱', 'gall', 'ghor', 'statt', 'meld', 'due', 'chef', 'n', 'viel', 'dassi', 'zyt', 'punkt', 'fest', 'devo', 'gsicht', 'siech', 'musik', '😒', 'gunstig', 'komm', 'ii', 'aua', 'machet', 'ehrlich', 'st', 'verliebt', 'druck', 'insta', '100', 'eso', 'ufm', 'nett', 'glucklich', 'verstah', 'wurklich', 'trurig', 'kann', 'mech', 'kopf', 'aub', 'wahr', 'weli', '😔', 'widr', 'dass', 'opert', 'muss', 'nic', 'wtf', 'evtl', 'loh', 'gfallt', 'youtub', 'sus', '24', 'schiss', 'sofort', 'entscheid', 'he', 'fritig', 'wes', 'zwusch', 'eui', 'verlor', 'luegsch', '16', 'geili', 'kaputt', 'siit', 'englisch', 'vegan', 'amel', '@9', 'blau', 'drin', 'interessiert', 'velo', 'duet', 'sack', 'it', 'goh', 'wursch', 'hung', '23', 'funktioniert', 'ier', 'gasch', 'chomed', 'sig', 'vom', 'zom', 'roll', 'konnt', 'tier', 'kauft', 'ind', 'entwed', 'seid', 'liecht', 'nein', 'nai', 'kes', 'wirklich', 'absolut', 'fuck', 'zieh', 'iner', 'hor', 'muend', 'luegt', 'extr', 'kontakt', 'brued', 'sot', 'gruess', 'zahlt', 'interess', 'ztue', 'zemm', 'club', 'dech', 'nomal', 'bestand', '🙃', 'chanc', '9', 'kevin', 'bir', 'spruch', 'fang', 'nr', 'ding', 'gschrib', 'nomol', 'samstig', 'thema', 'ussert', '🙂', 'mitem', 'gnuss', '25', 'ang', 'farb', 'obbis', 'blib', 'chom', '14', 'nom', 'hubsch', 'jaaa', 'werdet', 'verdammt', 'monsch', 'gsesch', 'mah', 'zeigt', 'sunntig', 'bos', 'sowieso', 'einisch', 'ellei', 'verzell', 'freud', '😭', 'furd', 'uh', 'gmerkt', 'gluegt', 'sooo', 'sowas', 'thun', 'huus', 'tv', 'satz', 'ebb', 'gschafft', 'nackt', 'uff', 'anstatt', 'zweit', 'schick', 'mou', 'korp', 'hind', 'mued', 'sell', 'pass', 'stah', 'fleisch', 'willi', 'foti', 'okey', '🤓', 'hoi', 'spannend', 'kurz', 'saub', 'dusch', 'wasi', 'kunnt', 'elei', 'polizei', 'fuess', 'iphon', 'billig', 'end', 'hasslich', 'neus', 'schomal', '😆', 'muet', 'toff', 'jez', 'neb', 'von', 'vou', 'schribt', 'schwierig', 'stark', 'uni', 'imfall', 'sett', 'drus', 'hatti', 'fascht', 'h', 'facebook', 'mantig', 'tot', 'klein', 'merksch', 'nachh', 'sorg', '❤️', 'echli', 'per', 'weissi', 'ligg', 'aa', 'bhf', 'lohnt', 'umgeb', 'gles', 'ehm', 'hemm', 'aarau', 'schriib', 'gued', 'hahahaha', '😃', 'aha', 'heh', 'eier', 'eich', 'barn', 'gfrogt', 'blick', 'weekend', 'bem', 'channel', 'dinn', 'ehn', 'naturli', 'andern', 'geng', 'nimmsch', 'zamm', 'unterschied', 'musst', 'har', 'hock', 'franzos', 'erklar', 'bereit', 'etzt', 'wert', 'furn', 'snapchat', 'frogt', '13', 'uch', 'plotzlich', '😍😍', 'c', 'neii', 'schoggi', 'vorschlag', 'muen', 'strass', 'fruehn', 'treff', 'mir', 'chunnsch', 'won', 'imen', '20min', 'grupp', 'ame', 'badi', 'las', 'fehl', 'vorstell', 'kenned', 'traum', 'sohn', 'merkt', 'jap', 'get', 'situation', 'gno', 'uus', 'gisch', '🙊', 'unterhalt', 'penn', 'denksch', 'partn', 'ope', 'eimal', 'heimat', 'hart', 'diar', 'arschloch', 'zum', 'putz', 'start', 'logisch', 'ganzi', 'hahahah', 'sau', 'lol', 'immerhin', 'dick', 'nech', 'losch', 'nee', 'schweiz', 'suecht', 'epis', 'duu', 'spitz', '😐', 'studium', 'lass', 'schwul', 'herzig', 'spat', 'monat', 'chrank', 'iwi', 'schusch', '😝', 'ahnlich', 'glernt', 'tuur', 'immr', 'ahh', 'wiss', 'restaurant', 'jahrig', 'gag', 'mengisch', 'chamm', 'wien', 'onlin', 'gfahr', '+', '😩', 'probiert', 'fan', 'gosch', '☺', 'woh', 'gseid', '😂😂😂😂', 'nop', 'kha', 'spielt', 'iss', 'ubrig', 'verdient', 'dri', 'stress', 'herz', 'schueh', 'gell', 'choch', 'schwanz', 'frauefeld', 'grusig', 'uhr', 'postet', 'meer', 'zuefall', 'hutt', 'bestimmt', 'tatsach', 'gschrieb', 'hert', 'heb', 'wurk', 'klass', 'interessant', 'bsuech', 'bekannt', 'fu', 'gschicht', 'werded', 'sbb', 'hald', 'fruen', 'doof', 'region', 'allgemein', 'gsie', 'chlini', 'reg', 'jeda', 'fraua', 'fangt', 'usgseh', 'gfragt', '😕', 'solli', 'eue', 'kah', '40', 'schwang', 'fb', 'herr', 'deheim', '😑', 'usland', 'check', 'pc', 'beim', 'ohh', 'obi', 'zeit', 'frank', 'gsund', 'gratuli', 'kuss', 'nennt', 'kondom', 'whatsapp', 'gahn', 'gschaft', 'rest', 'schriebt', 'gsehn', 'folg', 'merk', 'vollig', 'kat', 'oich', 'fiir', 'chur', 'stond', 'simm', 'rechtig', 'mc', 'nomm', 'ziemlich', 'besti', 'freund', 'stort', 'seh', 'praktisch', 'suess', 'watt', 'milch', 'winti', 'ruhig', 'werbig', 'kanton', 'gleich', 'hoor', 'choi', 'anderst', 'fix', 'nia', 'kommt', 'katz', 'flughaf', 'wieviel', 'charakt', 'ps', 'uberleg', 'langt', 'lo', '😓', 'hotel', 'buch', 'brust', 'hanis', 'my', 'warsch', 'bruef', 'fenst', 'danka', 'fisch', 'dafur', 'stolz', 'tod', 'beni', 'konn', 'hang', 'standig', 'gd', 'kv', 'gat', 'giz', 'frueh', 'gitt', 'imn', 'derf', 'amn', 'sunn', 'vllt', 'rs', 'verkauf', 'kli', 'dasd', 'amen', 'positiv', 'fuhlt', 'august', 'nim', 'spontan', 'luft', 'zrug', 'vum', 'lost', 'komplett', 'loch', 'dummi', 'iar', 'luschtig', 'sekund', 'stimm', 'penis', 'lw', 'soviel', 'staffl', 'gschid', 'sofa', 'bueb', 'notig', 'vermiss', 'hoffent', 'dasm', 'nem', 'zh', 'gniess', 'sou', 'blibt', 'werum', 'festival', '100%', 'schwost', 'bau', 'dutschland', 'alti', 'priis', 'achtung', 'louft', 'dru', 'suechsch', 'reis', 'coiffeur', 'drbi', '👍🏻', 'zurch', 'r', 'langi', 'leer', 'hi', 'mittag', 'knapp', 'stuck', 'x', 'geb', 'lock', '😢', 'oaff', 'selt', '@', 'schritt', 'irgendwenn', 'wettsch', 'mo', 'pack', 'wint', 'lohn', 'kino', 'god', 'zviel', 'gruen', 'glac', 'agfang', 'kaffi', 'gerad', 'hsg', 'mund', 'luz', 'ohr', 'nass', 'jz', 'anonym', 'hanni', 'speziell', 'meitli', 'kennelern', 'dialekt', 'gwussi', 'video', 'gescht', 'set', 'text', 'bin', 'hamburg', 'spinn', 'deutsch', 'happy', 'oasg', 'wussed', 'total', 'gnue', 'liebt', 'fehlt', 'zwenig', 'haa', 'weck', '2017', 'lap', 'chalt', 'bwl', 'wasch', 'andersch', 'ung', 'usa', 'gheit', 'nas', 'fahrsch', 'emu', 'verbii', 'gli', 'chillig', 'cooli', 'unterweg', 'wusst', 'muessi', 'g', 'troff', '💪', 'park', 'feria', 'letschti', 'seich', 'schomol', 'steit', 'sagt', 'tind', 'ries', 'freut', 'zahlsch', 'frogsch', 'mimimi', 'viellicht', 'koch', 'unnot', 'euri', 'fend', 'starch', 'lik', 'radio', 'besser', 'brot', 'gurt', 'eper', 'math', 'nachd', 'geisch', 'dus', 'automat', 'thron', '🤔😂', 'bes', 'gess', '11', 'eme', 'vomn', 'wiu', 'alueg', 'chleid', 'haltet', 'peinlich', 'such', 'alk', 'motivation', 'hm', 'ire', 'eigentlech', 'zwusched', 'fick', 'halbi', 'lond', 'sei', 'jaja', 'gloff', 'nachricht', 'fand', 'max', 'mond', 'keni', 'thurgau', 'zimli', 'buro', 'com', 'bracht', 'brief', 'ernsthaft', 'dasch', 'vergass', 'mannlich', 'baby', 'wennt', 'fak', 'f', 'meischt', 'jogg', 'sobald', 'lit', 'fragt', 'usi', 'efach', 'liv', 'gfall', 'lif', 'drog', 'ewig', 'endi', '😫', \"'\", 'kack', '😣', 'gmuetlich', 'ums', 'egau', 'redet', 'list', '26', '😂🙈', 'test', 'usgseht', 'rein', 'wor', 'on', 'mugg', 'suechi', 'banan', 'flasch', 'lieg', 'grill', 'nurno', 'juli', 'passi', '😞', 'weu', 'drah', 'plus', 'schafft', 'mitenand', 'chend', 'ged', 'kuschl', 'fernseh', 'wei', 'stand', 'outo', 'gonn', 'burg', 'normali', 'chumi', 'hen', 'zelt', 'witzig', 'saga', 'znacht', 'wucheend', 'schuld', 'oi', 'trifft', 'krank', '👀', 'chomm', 'obig', 'ischm', 'aba', 'seged', 'verstoh', 'wurklech', 'bachelor', 'zwoi', 'black', 'empfahl', 'wuu', 'vieli', 'erwachs', 'sam', '👌🏻', 'gsehnd', 'frundschaft', 'wilsch', 'brugg', 'muehsam', 'net', 'zerscht', 'gschmack', 'fo', 'usseh', 'wg', 'mail', 'rag', 'geburtstag', 'taglich', 'muass', 'schwirig', 'wuchen', 'hetsch', 'flirtechani', 'bitch', 'schmockt', 'drufah', 'hashtag', 'bsoff', 'erfolg', '😅😂', 'seht', 'muesst', 'strand', 'ken', 'fescht', 'tanz', 'kleid', 'abelad', 'stoh', 'gald', 'polo', 'dringend', 'griff', 'salat', 'ali', 'relativ', 'okei', 'ahfang', '@10', 'drink', 'moll', 'heim', 'gstorb', 'sterb', 'fallt', 'wucha', 'denked', 'muasch', 'bechunsch', 'emn', 'schreib', 'song', 'hassig', 'grosst', 'eina', 'sucht', 'irgendwelchi', 'damal', 'sock', 'mid', 'fuhlsch', 'auno', 'verpasst', 'richtigi', 'med', 'mitti', 'bechum', 'dassd', 'gahsch', 'wohnt', 'du', '❤', 'ersti', 'blitz', 'habt', 'harzig', 'wurdet', 'gsehni', 'esh', 'ziel', 'regnet', 'debii', '🤷🏼\\u200d♀️', '👌🏼', 'gwuss', 'updat', 'foteli', 'privat', 'tut', 'lov', 'nen', 'ufmerksam', 'sem', 'pet', 'polizist', 'chash', 'jungi', 'gab', 'wiis', 'nanig', 'klappt', 'mue', 'vot', 'spar', 'tocht', 'schuch', 'sprich', 'zuekunft', 'bstell', 'muesi', 'nenn', 'gruss', 'laht', 'bewusst', 'schisst', 'idiot', 'wunderschon', 'quasi', 'tisch', 'eiget', 'walt', 'denki', 'jahrigi', 'lug', 'orang', 'drei', 'aktuell', 'balkon', 'evt', 'gras', '👍🏼', 'flach', 'usm', 'weri', 'l', 'parat', 'ov', 'wuki', 'zud', 'verchauf', 'verletzt', 'laba', 'rund', 'gwunn', 'wald', 'mast', 'seb', 'meldet', 'dan', 'koleg', 'kam', 'beleid', 'videos', 'krieg', '✌', 'produkt', 'vielleicht', '😥', 'fremd', 'akku', 'nab', 'schmerz', 'gitz', 'holl', 'chips', 'darfsch', 'truurig', 'liab', 'checkt', 'vilech', 'up', 'ufhor', 'ufstah', 'willkomm', 'franz', 'story', 'flieg', 'wirdi', 'liit', 'lg', '12i', 'losig', 'leba', 'ent', 'wured', 'somm', 'stirbt', 'abo', 'kompliziert', 'cola', 'fruh', 'hoffnig', 'kiff', '1000', 'gass', 'niveau', 'zieht', 'stellt', 'fitness', 'gemacht', 'sg', 'kostet', 'gart', 'sowiso', 'eusi', 'freundin', 'dett', '6i', 'zmach', '45', 'assessment', 'info', 'dunn', 'spil', 'isst', '28', 'hann', 'blond', 'k', 'bh', 'wersch', 'don', 'frusch', 'muul', 'mama', 'schnall', 'segi', 'why', 'kanni', 'unfall', '5i', 'uberleit', 'ko', 'steht', 'tja', 'parkplatz', '😡', 'mueh', '2-3', '60', 'kafi', 'lernt', 'duesch', 'wetti', 'frisch', 'kass', 'ussag', 'intressiert', 'aah', 'schieb', 'emol', 'tuesch', 'schono', 'ubel', 'usserd', '“', 'genial', 'erwart', 'huara', 'hus', 'chostet', 'dorfsch', 'autobahn', 'chouf', 'nd', 'friendzon', 'bstellt', 'hau', 'was', 'jep', 'mehreri', 'jemal', 'gloscht', 'tattoo', 'paus', 'verein', 'vorn', 'renn', 'une', 'nutella', 'girl', 'blas', 'natel', 'jok', 'ching', 'abschluss', 'ers', '😛', 'vogel', 'pris', 'wild', 'bekomm', 'konzert', '😍😍😍', 'band', 'tun', 'kennet', 'heissisch', 'bank', 'wii', 'real', 'haus', 'out', 'figg', 'leg', 'mind', 'mitarbeit', 'mindest', 'bmw', 'tim', 'schau', 'angscht', 'chonnti', '😅😅', 'wixx', 'attraktiv', 'fingi', 'berg', 'schiff', 'hort', 'one', 'gsellschaft', 'drauf', 'sympath', 'zama', 'schnau', 'blieb', 'aar', 'usverseh', 'itali', 'nachbar', 'gsuecht', 'lag', '200', 'telefon', 'neei', 'verdi', 'beweg', 'jugend', 'sexy', 'fakt', 'dud', 'verzellt', 'diskussion', 'glaubi', 'respekt', 'spital', 'angeri', 'wond', 'verwirrt', 'om', 'arbet', 'cod', 'gstand', 'wahrschin', 'hitz', 'wartet', 'madel', 'komischi', 'mus', 'chlii', 'ahn', '2x', 'tolli', 'schaffet', 'dor', 'morga', 'tee', 'mitneh', 'fress', 'bedutet', 'romant', 'xi', 'autos', 'zog', 'yes', 'nutzt', 'sitt', 'namal', 'niid', 'rueh', 'sound', 'aun', 'servic', 'ihrn', 'break', 'gusch', 'wechsl', 'himmel', '4i', 'dir', 'zha', 'star', 'frond', 'liegt', 'einsam', '1x', 'ebbis', 'gahd', 'ey', '😶', 'drmit', 'aner', 'firma', 'vergiss', 'wuk', 'eba', 'interessi', '3er', 'what', 'noh', 'sottsch', 'sglich', 'v', 'brutal', 'hobby', 'sgfuhl', 'erwartet', 'abend', 'traff', 'swisscom', 'trunk', 'rum', 'dena', '--', 'beidn', 'dach', 'kenneglernt', 'spiegel', 'kund', 'setz', 'erlebt', 'gsproch', 'wis', 'mussi', 'duschi', 'bruchi', 'uuf', 'kumm', 'vorteil', 'schribsch', 'gwitt', 'wared', 'gomm', 'dran', 'sozial', 'mark', 'lis', 'freiwill', 'jooo', 'wiem', 'heftig', 'woll', 'autofahr', 'stock', 'furz', 'hell', 'bluet', '80', 'wasd', 'ssj', 'down', 'nebed', 'agebot', 'ufn', 'leist', 'versteh', 'verwutscht', 'letst', 'septemb', 'aargau', 'held', 'eth', 'versuecht', 'begriff', 'amu', 'desweg', 'jedoch', 'bechunnt', 'mitemn', '🤔🤔', 'nehm', 'asiat', 'erreicht', 'win', 'verglich', 'fuessball', 'wahrschinli', 'mercii', 'grat', 'sies', 'trag', 'jed', 'entschuld', 'schwizerdutsch', 'hocksch', 'somit', 'termin', 'klaut', 'sitzt', 'typisch', 'anschin', 'nagel', 'alban', 'chlis', 'schaffa', 'wahl', '90', 'heissi', 'denket', 'lies', 'intress', 'prison', 'olt', 'chann', 'sali', 'rap', 'un', '2h', 'suff', 'sa', 'schlechti', 'back', 'fed', 'bizli', 'lahn', 'drzue', 'ai', 'pill', 'ufgfall', '@11', 'gschlecht', 'damfau', '🎉', 'fuecht', 'rappi', 'workli', 'fair', 'bach', 'big', 'huut', 'erkennt', '20i', 'baum', 'styl', 'geseh', 'eidut', 'emal', 'langet', 'rundi', 'weit', 'sotti', 'lauch', 'spani', 'glaubt', 'mom', 'mentig', 'ph', 'ghorsch', 'chat', 'jean', 'dabei', 'schnitt', 'chuchi', 'fit', 'vori', 'depression', 'drfur', 'redsch', 'riis', 'rasi', 'joor', 'ois', 'plotzli', 'studiert', 'wk', 'mull', 'naturlech', 'fruech', 'lernsch', 'roti', 'ruum', 'dont', 'hmmm', 'villech', 'abem', 'lueged', 'packli', 'ws', 'fragsch', 'hihi', 'astand', 'rock', 'meined', 'wella', 'busi', 'ihr', 'heti', 'zeich', 'chlei', 'zah', 'ging', 'fuul', 'trozd', 'grundsatz', '🙈😂', 'foreveralon', 'rat', 'spotify', 'offent', 'sosch', 'rezept', 'half', 'bruuch', 'sprach', 'zfried', 'ev', 'ironi', '🙌', 'harry', 'usbild', 'gnoh', 'zuck', 'went', 'zumind', '😂😅', 'steck', 'eppert', '27', 'umgekehrt', 'kampf', 'polit', 'benutz', 'bechunt', 'mueni', 'betrunk', 'behindert', 'breaking', 'hubschi', 'nervt', 'eimol', 'albani', 'team', 'zo', 'putzt', 'dad', 'luegi', 'www', 'kenna', 'guata', 'wahnsinn', 'swiss', 'g20', 'rapp', 'heicho', 'gym', 'zmorg', 'hoffentli', 'besseri', 'emen', 'sega', 'mitbewohn', 'machem', 'via', 'schwarzi', 'leistig', 'schlau', 'sing', 'ernahr', 'dankbar', 'passend', 'arrogant', 'legal', 'nochli', 'cousin', 'kamera', 'verhalt', 'chines', 'strom', 'rip', 'nerv', 'sy', 'm20', 'weisi', 'unglaub', 'brauch', 'training', 'ups', 'zerstort', 'nami', '18ni', 'erinner', 'korrekt', 'chonti', 'chontsch', 'hurat', 'puff', 'mac', 'troch', 'buechstab', 'chonnd', 'jungfrau', 'stei', 'bsund', 'eventuell', 'ufer', 'wlan', 'gwohnt', 'bliib', 'abstand', 'new', 'lebt', 'rugg', '🤷🏼\\u200d♂️', 'imfau', 'regelmass', 'bewerb', 't-shirt', 'fach', 'ablenk', 'opf', 'regel', 'rassist', 'daa', 'wurdsch', 'match', 'jedesmal', 'infos', 'mittwuch', 'maximilian', 'mutt', 'verbot', 'erlaubt', 'fium', 'fir', 'suuf', 'wieni', 'dritt', 'ignori', 'scham', 'noo', 'verbring', 'fragenuberfrag', 'dorfi', 'ziemli', 'ines', 'churzi', 'worda', 'endli', 'desto', 'verlur', 'lachl', 'nuut', 'minus', 'baustell', 'ids', 'oha', 'ubercho', 'irgendwas', 'chumm', 'supp', 'steu', 'verarscht', 'harz', 'nutz', '🤦🏼\\u200d♀️', 'eifacht', 'unt', '😯', 'bitzli', 'lernphas', 'chart', 'nervos', 'kaff', 'kur', 'glichi', 'sieht', 'block', 'moderator', 'schoon', 'fahl', '1-2', 'ros', 'sch', 'leck', 'kolleginn', 'degeg', 'issisch', 'einzigi', 'schloss', 'fahra', 'plotzlech', 'sms', 'saged', 'jop', 'ehe', 'notgeil', 'mod', 'mes', 'gsi😂', 'chest', 'km', 'bringsch', 'vertrau', 'europa', 'lovoo', 'besuch', 'fau', 'vermuet', 'lueget', 'reda', 'klappet', 'meini', 'tip', 'traini', 'aktiv', 'good', 'wema', 'option', 'buur', 'cheib', 'waut', 'glock', 'stor', 'darfi', 'suit', 'rucksack', 'amol', 'hing', 'bedut', 'camping', 'konto', 'your', 'gset', '🙌🏻', 'schoo', 'bruscht', 'ziet', 'ouu', 'programm', 'gend', 'mundlich', 'kalt', 'dah', 'heii', 'gsy', 'erd', 'religion', 'diskuti', 'strang', 'energi', 'usegfund', 'laptop', 'hiuft', 'spaghetti', 'bart', 'lig', 'stutz', 'drvo', 'next', 'magsch', 'suss', 'munich', '5min', 'theoret', 'drinn', 'istell', 'abgeh', 'ligt', 'druckt', 'w21', 'gegenub', 'verstond', 'ezt', 'null', '😵', 'schiint', 'panik', 'trotz', 'andi', 'guati', 'boot', 'umd', 'true', 'schwar', 'vorau', 'namli', 'glehrt', 'moss', 'ring', 'jezt', 'benutzt', 'ann', 'gmold', 'fahred', 'soooo', 'dreck', 'euchi', 'usprobi', 'mein', 'hufig', 'schriebsch', 'raus', 'amerika', 'gehort', 'trump', 'jah', 'trinkt', 'ahlueg', 'maschin', 'weish', 'auu', 'acho', '150', 'biet', 'wunscht', 'geschrieb', 'high', 'schwitz', 'erchlar', 'getrank', 'namlich', 'hb', 'dunkel', 'chomet', 'liabi', 'pott', 'lack', 'nachem', 'wahrschindli', '🤷', 'essa', 'billet', 'negst', 'hatsch', 'chf', 'artikel', 'hoh', 'gau', 'lenzburg', 'ener', 'chent', 'family', 'werom', 'brud', 'nomau', 'stur', 'gesagt', 'kontroll', 'uberhoupt', 'derbi', 'buess', 'fendi', 'verkauft', 'ans', 'versicher', 'gfueu', 'kensch', 'linkin', 'verlieb', 'decki', 'eg', 'box', '•', 'luaga', 'io', '😂👌', 'pfann', 'wochen', 'ufstoh', 'bisi', 'hutzutag', '🍻', 'doktor', 'solothurn', 'gangi', 'music', 'tram', 'hattsch', 'salz', 'wolf', 'hof', '✌🏼', 'm23', 'schwach', 'jedefall', 'tua', 'brocht', 'spazi', 'deutschland', 'umgab', 'dera', 'schiess', 'stross', 'isch😂', 'geburi', 'downgvotet', 'phas', 'regl', 'woss', 'zua', 'bruucht', 'ime', 'medi', 'gschiss', 'gefuhl', 'hockt', 'biss', 'beantwort', 'ton', 'moched', 'zellt', 'schutz', 'negativ', 'kart', 'ver', 'verarsch', 'prinzip', 'frondin', 'gschlacht', 'gschickt', 'sowit', 'ikea', '😮', 'ball', 'ge', 'flirt', 'thailand', 'mitt', 'schul', 'derfsch', 'motz', 'kopfhor', 'websit', 'ahgfang', '✌️', 'hous', 'hochdutsch', 'spricht', 'stinkt', 'cbd', 'wahri', 'ohhh', 'hahha', 'qualitat', 'zuestand', '-ich', 'normau', 'daheim', 'garag', 'wallis', 'are', 'wiblich', 'mass', 'koff', 'ever', 'tuend', 'ufreg', 'schreibt', 'gra', 'werda', 'stern', 'fingsch', 'womm', 'vier', 'gan', 'pennt', 'auss', 'genug', 'vorhar', 'ui', 'day', 'tell', 'miet', 'afo', 'eut', 'hab', 'afa', 'gfung', 'ragnet', 'grenz', 'wan', 'form', 'drom', 'ufen', '🤦🏻\\u200d♂️', 'laufsch', 'schuss', 'nani', 'if', 'tuat', 'mos', 'fuehl', 'android', 'vorus', 'zmittag', 'ed', 'last', 'oma', '3-4', 'basl', 'ussicht', 'minr', 'gschlaf', 'fucking', 'wukli']\n",
            "acum lungimea este 2800  iar lista este  ['isch', 'de', 'au', 'i', 'ja', 'e', 'en', 'no', 'uf', 'het', 'bi', 'nid', 'ha', '😂', 'scho', 'vo', 'ned', 'd', 'mer', 'han', 'nod', 'hesch', 'bisch', 'z', '@1', '@2', 'eifach', 'a', 'mal', 'guet', 'imm', 'si', 's', '@oj', 'mach', 'u', '-', 'dr', 'grad', 'gsi', 'mi', 'nei', 'di', 'us', 'kei', '@3', 'jo', 'git', '2', 'hani', 'hend', 'mini', 'me', 'chli', 'ah', 'jodel', 'haha', 'wer', 'ganz', 'war', 'min', 'go', '😅', 'schon', 'weiss', 'meh', 'frau', 'esch', 'mol', '🤔', 'chasch', '1', 'tag', 'dank', 'hut', 'ds', 'cha', '@4', 'bim', 'opp', 'num', 'wieso', 'sich', 'gern', 'glaub', 'nut', 'alt', '😉', 'lieb', 'lut', 'ide', 'eh', 'gha', 'lang', 'nie', 'nit', '3', 'do', 'ond', 'macht', 'da', 'oj', 'voll', 'glich', 'find', 'chan', 'lueg', '😊', 'gmacht', 'o', 'w', 'richtig', 'alli', 'mega', 'bess', 'm', 'genau', 'dini', 'hed', 'ig', 'well', 'gseh', 'muess', 'leid', 'em', 'din', 'jahr', 'ab', 'wenn', 'schaff', 'erst', '🙈', '😂😂', 'halt', 'kolleg', 'aso', 'wurd', 'cho', 'gad', 'scheiss', '&', 'paar', 'mis', 'geil', 'det', 'frag', 'sit', 'abr', 'ou', 'feri', 'sorry', '@5', 'hett', 'gaht', 'oh', 'muesch', 'oppis', 'is', '5', 'gar', 'moment', 'selb', 'na', 'gang', 'mau', 'hei', 'zug', 'hat', 'kenn', 'bitt', 'bini', 'ohni', 'mann', 'oper', 'wuch', 'gueti', 'word', 'ebe', 'sag', 'seg', 'morn', 'recht', 'mim', 'best', '😍', 'heisst', 'wen', '😄', 'ish', 'ech', 'frund', 'all', 'wur', 'numm', 'ih', 'as', 'probl', 'hand', 'ni', 'ke', 'sup', 'eu', 'seit', 'ga', 'ma', 'wett', 'sach', '4', 'gseit', 'chunt', 'weisch', 'echt', 'be', 'morg', 'ne', 'wennd', '😁', 'frog', 'bett', 'gross', 'id', 'person', 'eher', 'ez', 'gah', 'nach', 'odr', 'mit', 'los', 'met', '🙄', 'hahaha', 'gseht', 'druf', 'frundin', 'eini', 'goht', 'wenig', 'opis', 'lauft', 'eis', 'cham', 'has', 'fall', 'kik', 'typ', 'schlimm', 'ufem', 'chunnt', 'leb', 'jaa', 'sex', '@6', 'mr', 'sech', 'jhj', 'chum', 'denk', 'sogar', 'woni', 'ess', '^^', 'klar', 'kennt', 'use', 'denkt', 'neu', 'merci', 'schnell', 'auto', 'eigent', 'dia', 'lust', 'gluck', 'wiso', 'suech', 'liebi', 'sii', 'machsch', 'ziit', 'fahr', 'dur', 'bier', 'fur', '😂😂😂', 'ir', 'mensch', 'den', 'ok', 'viu', '😏', 'sin', 'wed', 'dis', 'spass', 'demfall', 'son', 'bruch', 'susch', 'zwei', 'chani', 'cool', 'we', 'anderi', 'meist', 'drum', 'meinsch', 'ka', 'eif', 'passiert', 'geh', 'huer', 'brucht', 'luut', 'eig', 'gmeint', 'sott', 'xd', 'jodl', 'nam', 'for', 'schlecht', 'egal', 'ghort', 'wos', 'der', 'schrib', 'wid', '20', 'wel', '10', 'eus', 'red', 'wend', 'vill', 'gest', 'geld', 'the', 'zit', 'wenni', 'b', 'etz', 'schlaf', 'einzig', 'handy', 'wag', 'falsch', 'weg', 'erfahr', 'nacht', 'wart', 'eim', 'hahah', 'vlt', 'mues', 'abe', 'stimmt', 'zuri', 'hie', 'jetz', 'besch', 'hatt', 'irgendwi', 'trotzd', 'wa', 'send', 'geit', 'lehr', '😜', 'easy', 'wia', 'dra', 'hey', 'ine', 'hasch', 'gfuhl', 'zue', 'wohl', 'wach', 'ober', 'fast', 'hoff', 'trink', 'gfund', 'wass', 'usgang', 'das', 'chond', 'dim', 'abig', 'bild', 'nah', 'warum', 'garn', 'gut', 'iz', 'johr', 'film', 'normal', 'lab', 'soll', 'witz', 'mehr', 'wem', 'wurkli', 'sini', 'of', 'monet', 'heiss', 'bezieh', 'ume', 'nu', 'wi', 'dert', 'frou', 'post', 'lustig', 'mier', 'stadt', 'wird', 'mami', 'wott', 'jung', 'kollegin', 'antwort', 'dat', 'schrieb', 'chind', 'oft', 'auso', 'wuss', 'wit', 'ahnig', 'ca', 'dasi', 'teil', 'her', 'grund', 'weni', 'obe', 'wort', 'gnueg', 'becho', 'ufe', 'wot', 'debi', 'schwiz', 'findi', 'fertig', 'vorh', 'keis', '6', 'stund', 'beid', 'usem', 'noch', 'tont', 'allei', 'dam', 'findet', 'googl', '7', '@7', 'aui', 'frei', 'wichtig', 'p', 'dumm', 'gib', 'stell', 'chont', 'nix', 'obb', 'nimm', 'chonnt', '18', 'ufs', 'arsch', 'lern', 'se', 'angst', 'will', 'amig', 'noni', '0', 'geg', 'etc', 'tur', 'langsam', 'wetsch', 'hund', 'ar', 'musch', 'sinn', 'maa', 'sind', 'soo', 'und', 'see', 'wotsch', 'sust', 'vod', 'neui', 'inn', 'toll', 'fuhl', 'halb', 'repost', 'platz', 'je', 'wiit', 'nor', 'chonn', 'passt', 'drub', 'ane', 'ihri', '😋', 'emm', 'wirsch', 'off', 'app', 'la', 'vu', 'ner', 'letscht', 'epp', 'demit', 'spiel', 'nud', 'zam', 'seri', 'bish', 'zahl', 'chauf', 'nar', 'lauf', 'gratis', 'wemm', 'vor', 'minut', 'chunsch', 'ade', 'schuel', 'komisch', 'schwarz', 'gse', 'gond', 'niemert', 'mag', 'arm', 'dorf', 'chas', 'bruchsch', 'ort', 'fing', 'summ', 'ex', 'niem', 'wohn', 'probi', 'lah', 'bring', 'mitm', 'job', 'berlin', 'wies', 'defur', 'schwiiz', 'weis', 'tue', 'hesh', 'immerno', 'vorall', 'hallo', 'pizza', 'wenigst', 'suscht', 'lied', 'gliich', 'racht', 'uberhaupt', 'seisch', 'netflix', '30', 'gsii', 'internet', 'wurdi', 'wom', 'kommentar', 'wc', '😎', 'welt', 'elt', '☺️', 'dezu', 'gott', 'tipps', 'schad', 'bus', '😘', 'naja', 'meinig', 'schoni', 'natur', 'hmm', 'ticket', '=', 'ben', 'froh', 'nonig', 'tuet', 'lach', 'kenni', 'dutsch', '21', 'hamm', 'letzt', 'bringt', 'blod', 'ernst', 'sis', 'nimmt', '@8', 'duss', 'top', 'tipp', 'ufd', 'gid', 'oke', 'vat', 'nochi', 'dort', 'gloub', 'uss', 'ersch', 'schluss', 'kind', 'obs', 'ass', 'mached', 'machi', 'gibt', 'bescht', 'aues', 'fasch', 'zeig', 'bald', 'zrugg', 'wil', 'haut', 'afang', 'bock', 'upvot', '🤗', 'vell', 'biz', '15', 'and', 'downvot', 'fein', 'staht', 'buech', 'grossi', 'churz', 'moglich', 'chatz', 't', 'ob', 'dot', 'okay', 'alln', 'chlin', 'beidi', 'zimm', 'bar', 'land', 'einfach', 'militar', 'kennsch', 'fahrt', 'ihn', 'oppert', 'wod', 'chund', 'rot', 'lad', 'verbi', 'hilft', 'bad', 'ad', 'art', 'singl', 'geht', 'solang', 'wunsch', 'zem', 'chill', 'jemand', 'bahnhof', 'fr', 'denn', 'hast', 'obis', 'willsch', 'weh', 'wuri', 'not', 'momentan', 'miar', 'wet', 'chon', 'hass', 'irgendwo', 'gam', 'hilf', '👍', 'leut', 'erscht', 'wund', 'ei', 'langwil', 'neh', 'guat', 'aug', 'druff', 'humor', 'gedank', 'hol', 'momant', 'glas', 'pro', 'zerst', 'gnau', 'schwer', 'direkt', 'mocht', 'empfehl', 'musig', 'gwusst', 'papi', 'wou', 'zb', 'hos', 'coop', 'darf', 'extra', 'bid', '19', 'kasch', 'flug', 'uberall', '17', 'party', 'ehr', 'arzt', 'rauch', 'sport', 'bro', '12', 'irgend', 'studi', 'villicht', '8', '😇', 'openair', 'famili', 'hauptsach', '😬', 'arbeit', 'ch', 'definitiv', 'stoht', 'wand', 'jedi', 'hetti', 'schlof', 'woch', 'bzw', 'eint', 'heit', 'got', 'dehei', 'schu', 'welli', 'snap', 'gsehsch', 'sho', 'dihei', 'aut', 'vilicht', 'chopf', 'plan', 'omg', 'mangisch', '50', 'obwohl', 'schaffsch', 'ach', 'student', 'warm', 'eppis', 'freu', 'dann', 'krass', 'bern', 'wann', 'haar', 'heut', 'findsch', 'ich', 'muett', 'bitz', 'helf', '😳', 'hoch', 'sim', '22', 'itz', 'unbedingt', 'wohnig', 'kauf', 'meint', 'zersch', 'pruefig', 'hot', 'macha', 'link', 'spot', 'dier', 'versuech', 'shit', 'salb', 'vil', 'dankt', 'acht', 'sry', 'joo', 'karma', 'alkohol', '🤣', 'darum', 'ward', 'bevor', 'uber', 'wow', '👌', '😌', 'schlacht', 'luscht', 'eigentli', 'wohnsch', 'perfekt', '00', 'fett', 'you', 'sitz', 'endlich', 'to', '😀', 'migros', 'les', 'ein', 'schatz', 'vergess', 'wari', 'prufung', 'bod', 'ere', 'kai', 'keini', 'usw', 'verstand', 'werd', 'wosch', '😱', 'gall', 'ghor', 'statt', 'meld', 'due', 'chef', 'n', 'viel', 'dassi', 'zyt', 'punkt', 'fest', 'devo', 'gsicht', 'siech', 'musik', '😒', 'gunstig', 'komm', 'ii', 'aua', 'machet', 'ehrlich', 'st', 'verliebt', 'druck', 'insta', '100', 'eso', 'ufm', 'nett', 'glucklich', 'verstah', 'wurklich', 'trurig', 'kann', 'mech', 'kopf', 'aub', 'wahr', 'weli', '😔', 'widr', 'dass', 'opert', 'muss', 'nic', 'wtf', 'evtl', 'loh', 'gfallt', 'youtub', 'sus', '24', 'schiss', 'sofort', 'entscheid', 'he', 'fritig', 'wes', 'zwusch', 'eui', 'verlor', 'luegsch', '16', 'geili', 'kaputt', 'siit', 'englisch', 'vegan', 'amel', '@9', 'blau', 'drin', 'interessiert', 'velo', 'duet', 'sack', 'it', 'goh', 'wursch', 'hung', '23', 'funktioniert', 'ier', 'gasch', 'chomed', 'sig', 'vom', 'zom', 'roll', 'konnt', 'tier', 'kauft', 'ind', 'entwed', 'seid', 'liecht', 'nein', 'nai', 'kes', 'wirklich', 'absolut', 'fuck', 'zieh', 'iner', 'hor', 'muend', 'luegt', 'extr', 'kontakt', 'brued', 'sot', 'gruess', 'zahlt', 'interess', 'ztue', 'zemm', 'club', 'dech', 'nomal', 'bestand', '🙃', 'chanc', '9', 'kevin', 'bir', 'spruch', 'fang', 'nr', 'ding', 'gschrib', 'nomol', 'samstig', 'thema', 'ussert', '🙂', 'mitem', 'gnuss', '25', 'ang', 'farb', 'obbis', 'blib', 'chom', '14', 'nom', 'hubsch', 'jaaa', 'werdet', 'verdammt', 'monsch', 'gsesch', 'mah', 'zeigt', 'sunntig', 'bos', 'sowieso', 'einisch', 'ellei', 'verzell', 'freud', '😭', 'furd', 'uh', 'gmerkt', 'gluegt', 'sooo', 'sowas', 'thun', 'huus', 'tv', 'satz', 'ebb', 'gschafft', 'nackt', 'uff', 'anstatt', 'zweit', 'schick', 'mou', 'korp', 'hind', 'mued', 'sell', 'pass', 'stah', 'fleisch', 'willi', 'foti', 'okey', '🤓', 'hoi', 'spannend', 'kurz', 'saub', 'dusch', 'wasi', 'kunnt', 'elei', 'polizei', 'fuess', 'iphon', 'billig', 'end', 'hasslich', 'neus', 'schomal', '😆', 'muet', 'toff', 'jez', 'neb', 'von', 'vou', 'schribt', 'schwierig', 'stark', 'uni', 'imfall', 'sett', 'drus', 'hatti', 'fascht', 'h', 'facebook', 'mantig', 'tot', 'klein', 'merksch', 'nachh', 'sorg', '❤️', 'echli', 'per', 'weissi', 'ligg', 'aa', 'bhf', 'lohnt', 'umgeb', 'gles', 'ehm', 'hemm', 'aarau', 'schriib', 'gued', 'hahahaha', '😃', 'aha', 'heh', 'eier', 'eich', 'barn', 'gfrogt', 'blick', 'weekend', 'bem', 'channel', 'dinn', 'ehn', 'naturli', 'andern', 'geng', 'nimmsch', 'zamm', 'unterschied', 'musst', 'har', 'hock', 'franzos', 'erklar', 'bereit', 'etzt', 'wert', 'furn', 'snapchat', 'frogt', '13', 'uch', 'plotzlich', '😍😍', 'c', 'neii', 'schoggi', 'vorschlag', 'muen', 'strass', 'fruehn', 'treff', 'mir', 'chunnsch', 'won', 'imen', '20min', 'grupp', 'ame', 'badi', 'las', 'fehl', 'vorstell', 'kenned', 'traum', 'sohn', 'merkt', 'jap', 'get', 'situation', 'gno', 'uus', 'gisch', '🙊', 'unterhalt', 'penn', 'denksch', 'partn', 'ope', 'eimal', 'heimat', 'hart', 'diar', 'arschloch', 'zum', 'putz', 'start', 'logisch', 'ganzi', 'hahahah', 'sau', 'lol', 'immerhin', 'dick', 'nech', 'losch', 'nee', 'schweiz', 'suecht', 'epis', 'duu', 'spitz', '😐', 'studium', 'lass', 'schwul', 'herzig', 'spat', 'monat', 'chrank', 'iwi', 'schusch', '😝', 'ahnlich', 'glernt', 'tuur', 'immr', 'ahh', 'wiss', 'restaurant', 'jahrig', 'gag', 'mengisch', 'chamm', 'wien', 'onlin', 'gfahr', '+', '😩', 'probiert', 'fan', 'gosch', '☺', 'woh', 'gseid', '😂😂😂😂', 'nop', 'kha', 'spielt', 'iss', 'ubrig', 'verdient', 'dri', 'stress', 'herz', 'schueh', 'gell', 'choch', 'schwanz', 'frauefeld', 'grusig', 'uhr', 'postet', 'meer', 'zuefall', 'hutt', 'bestimmt', 'tatsach', 'gschrieb', 'hert', 'heb', 'wurk', 'klass', 'interessant', 'bsuech', 'bekannt', 'fu', 'gschicht', 'werded', 'sbb', 'hald', 'fruen', 'doof', 'region', 'allgemein', 'gsie', 'chlini', 'reg', 'jeda', 'fraua', 'fangt', 'usgseh', 'gfragt', '😕', 'solli', 'eue', 'kah', '40', 'schwang', 'fb', 'herr', 'deheim', '😑', 'usland', 'check', 'pc', 'beim', 'ohh', 'obi', 'zeit', 'frank', 'gsund', 'gratuli', 'kuss', 'nennt', 'kondom', 'whatsapp', 'gahn', 'gschaft', 'rest', 'schriebt', 'gsehn', 'folg', 'merk', 'vollig', 'kat', 'oich', 'fiir', 'chur', 'stond', 'simm', 'rechtig', 'mc', 'nomm', 'ziemlich', 'besti', 'freund', 'stort', 'seh', 'praktisch', 'suess', 'watt', 'milch', 'winti', 'ruhig', 'werbig', 'kanton', 'gleich', 'hoor', 'choi', 'anderst', 'fix', 'nia', 'kommt', 'katz', 'flughaf', 'wieviel', 'charakt', 'ps', 'uberleg', 'langt', 'lo', '😓', 'hotel', 'buch', 'brust', 'hanis', 'my', 'warsch', 'bruef', 'fenst', 'danka', 'fisch', 'dafur', 'stolz', 'tod', 'beni', 'konn', 'hang', 'standig', 'gd', 'kv', 'gat', 'giz', 'frueh', 'gitt', 'imn', 'derf', 'amn', 'sunn', 'vllt', 'rs', 'verkauf', 'kli', 'dasd', 'amen', 'positiv', 'fuhlt', 'august', 'nim', 'spontan', 'luft', 'zrug', 'vum', 'lost', 'komplett', 'loch', 'dummi', 'iar', 'luschtig', 'sekund', 'stimm', 'penis', 'lw', 'soviel', 'staffl', 'gschid', 'sofa', 'bueb', 'notig', 'vermiss', 'hoffent', 'dasm', 'nem', 'zh', 'gniess', 'sou', 'blibt', 'werum', 'festival', '100%', 'schwost', 'bau', 'dutschland', 'alti', 'priis', 'achtung', 'louft', 'dru', 'suechsch', 'reis', 'coiffeur', 'drbi', '👍🏻', 'zurch', 'r', 'langi', 'leer', 'hi', 'mittag', 'knapp', 'stuck', 'x', 'geb', 'lock', '😢', 'oaff', 'selt', '@', 'schritt', 'irgendwenn', 'wettsch', 'mo', 'pack', 'wint', 'lohn', 'kino', 'god', 'zviel', 'gruen', 'glac', 'agfang', 'kaffi', 'gerad', 'hsg', 'mund', 'luz', 'ohr', 'nass', 'jz', 'anonym', 'hanni', 'speziell', 'meitli', 'kennelern', 'dialekt', 'gwussi', 'video', 'gescht', 'set', 'text', 'bin', 'hamburg', 'spinn', 'deutsch', 'happy', 'oasg', 'wussed', 'total', 'gnue', 'liebt', 'fehlt', 'zwenig', 'haa', 'weck', '2017', 'lap', 'chalt', 'bwl', 'wasch', 'andersch', 'ung', 'usa', 'gheit', 'nas', 'fahrsch', 'emu', 'verbii', 'gli', 'chillig', 'cooli', 'unterweg', 'wusst', 'muessi', 'g', 'troff', '💪', 'park', 'feria', 'letschti', 'seich', 'schomol', 'steit', 'sagt', 'tind', 'ries', 'freut', 'zahlsch', 'frogsch', 'mimimi', 'viellicht', 'koch', 'unnot', 'euri', 'fend', 'starch', 'lik', 'radio', 'besser', 'brot', 'gurt', 'eper', 'math', 'nachd', 'geisch', 'dus', 'automat', 'thron', '🤔😂', 'bes', 'gess', '11', 'eme', 'vomn', 'wiu', 'alueg', 'chleid', 'haltet', 'peinlich', 'such', 'alk', 'motivation', 'hm', 'ire', 'eigentlech', 'zwusched', 'fick', 'halbi', 'lond', 'sei', 'jaja', 'gloff', 'nachricht', 'fand', 'max', 'mond', 'keni', 'thurgau', 'zimli', 'buro', 'com', 'bracht', 'brief', 'ernsthaft', 'dasch', 'vergass', 'mannlich', 'baby', 'wennt', 'fak', 'f', 'meischt', 'jogg', 'sobald', 'lit', 'fragt', 'usi', 'efach', 'liv', 'gfall', 'lif', 'drog', 'ewig', 'endi', '😫', \"'\", 'kack', '😣', 'gmuetlich', 'ums', 'egau', 'redet', 'list', '26', '😂🙈', 'test', 'usgseht', 'rein', 'wor', 'on', 'mugg', 'suechi', 'banan', 'flasch', 'lieg', 'grill', 'nurno', 'juli', 'passi', '😞', 'weu', 'drah', 'plus', 'schafft', 'mitenand', 'chend', 'ged', 'kuschl', 'fernseh', 'wei', 'stand', 'outo', 'gonn', 'burg', 'normali', 'chumi', 'hen', 'zelt', 'witzig', 'saga', 'znacht', 'wucheend', 'schuld', 'oi', 'trifft', 'krank', '👀', 'chomm', 'obig', 'ischm', 'aba', 'seged', 'verstoh', 'wurklech', 'bachelor', 'zwoi', 'black', 'empfahl', 'wuu', 'vieli', 'erwachs', 'sam', '👌🏻', 'gsehnd', 'frundschaft', 'wilsch', 'brugg', 'muehsam', 'net', 'zerscht', 'gschmack', 'fo', 'usseh', 'wg', 'mail', 'rag', 'geburtstag', 'taglich', 'muass', 'schwirig', 'wuchen', 'hetsch', 'flirtechani', 'bitch', 'schmockt', 'drufah', 'hashtag', 'bsoff', 'erfolg', '😅😂', 'seht', 'muesst', 'strand', 'ken', 'fescht', 'tanz', 'kleid', 'abelad', 'stoh', 'gald', 'polo', 'dringend', 'griff', 'salat', 'ali', 'relativ', 'okei', 'ahfang', '@10', 'drink', 'moll', 'heim', 'gstorb', 'sterb', 'fallt', 'wucha', 'denked', 'muasch', 'bechunsch', 'emn', 'schreib', 'song', 'hassig', 'grosst', 'eina', 'sucht', 'irgendwelchi', 'damal', 'sock', 'mid', 'fuhlsch', 'auno', 'verpasst', 'richtigi', 'med', 'mitti', 'bechum', 'dassd', 'gahsch', 'wohnt', 'du', '❤', 'ersti', 'blitz', 'habt', 'harzig', 'wurdet', 'gsehni', 'esh', 'ziel', 'regnet', 'debii', '🤷🏼\\u200d♀️', '👌🏼', 'gwuss', 'updat', 'foteli', 'privat', 'tut', 'lov', 'nen', 'ufmerksam', 'sem', 'pet', 'polizist', 'chash', 'jungi', 'gab', 'wiis', 'nanig', 'klappt', 'mue', 'vot', 'spar', 'tocht', 'schuch', 'sprich', 'zuekunft', 'bstell', 'muesi', 'nenn', 'gruss', 'laht', 'bewusst', 'schisst', 'idiot', 'wunderschon', 'quasi', 'tisch', 'eiget', 'walt', 'denki', 'jahrigi', 'lug', 'orang', 'drei', 'aktuell', 'balkon', 'evt', 'gras', '👍🏼', 'flach', 'usm', 'weri', 'l', 'parat', 'ov', 'wuki', 'zud', 'verchauf', 'verletzt', 'laba', 'rund', 'gwunn', 'wald', 'mast', 'seb', 'meldet', 'dan', 'koleg', 'kam', 'beleid', 'videos', 'krieg', '✌', 'produkt', 'vielleicht', '😥', 'fremd', 'akku', 'nab', 'schmerz', 'gitz', 'holl', 'chips', 'darfsch', 'truurig', 'liab', 'checkt', 'vilech', 'up', 'ufhor', 'ufstah', 'willkomm', 'franz', 'story', 'flieg', 'wirdi', 'liit', 'lg', '12i', 'losig', 'leba', 'ent', 'wured', 'somm', 'stirbt', 'abo', 'kompliziert', 'cola', 'fruh', 'hoffnig', 'kiff', '1000', 'gass', 'niveau', 'zieht', 'stellt', 'fitness', 'gemacht', 'sg', 'kostet', 'gart', 'sowiso', 'eusi', 'freundin', 'dett', '6i', 'zmach', '45', 'assessment', 'info', 'dunn', 'spil', 'isst', '28', 'hann', 'blond', 'k', 'bh', 'wersch', 'don', 'frusch', 'muul', 'mama', 'schnall', 'segi', 'why', 'kanni', 'unfall', '5i', 'uberleit', 'ko', 'steht', 'tja', 'parkplatz', '😡', 'mueh', '2-3', '60', 'kafi', 'lernt', 'duesch', 'wetti', 'frisch', 'kass', 'ussag', 'intressiert', 'aah', 'schieb', 'emol', 'tuesch', 'schono', 'ubel', 'usserd', '“', 'genial', 'erwart', 'huara', 'hus', 'chostet', 'dorfsch', 'autobahn', 'chouf', 'nd', 'friendzon', 'bstellt', 'hau', 'was', 'jep', 'mehreri', 'jemal', 'gloscht', 'tattoo', 'paus', 'verein', 'vorn', 'renn', 'une', 'nutella', 'girl', 'blas', 'natel', 'jok', 'ching', 'abschluss', 'ers', '😛', 'vogel', 'pris', 'wild', 'bekomm', 'konzert', '😍😍😍', 'band', 'tun', 'kennet', 'heissisch', 'bank', 'wii', 'real', 'haus', 'out', 'figg', 'leg', 'mind', 'mitarbeit', 'mindest', 'bmw', 'tim', 'schau', 'angscht', 'chonnti', '😅😅', 'wixx', 'attraktiv', 'fingi', 'berg', 'schiff', 'hort', 'one', 'gsellschaft', 'drauf', 'sympath', 'zama', 'schnau', 'blieb', 'aar', 'usverseh', 'itali', 'nachbar', 'gsuecht', 'lag', '200', 'telefon', 'neei', 'verdi', 'beweg', 'jugend', 'sexy', 'fakt', 'dud', 'verzellt', 'diskussion', 'glaubi', 'respekt', 'spital', 'angeri', 'wond', 'verwirrt', 'om', 'arbet', 'cod', 'gstand', 'wahrschin', 'hitz', 'wartet', 'madel', 'komischi', 'mus', 'chlii', 'ahn', '2x', 'tolli', 'schaffet', 'dor', 'morga', 'tee', 'mitneh', 'fress', 'bedutet', 'romant', 'xi', 'autos', 'zog', 'yes', 'nutzt', 'sitt', 'namal', 'niid', 'rueh', 'sound', 'aun', 'servic', 'ihrn', 'break', 'gusch', 'wechsl', 'himmel', '4i', 'dir', 'zha', 'star', 'frond', 'liegt', 'einsam', '1x', 'ebbis', 'gahd', 'ey', '😶', 'drmit', 'aner', 'firma', 'vergiss', 'wuk', 'eba', 'interessi', '3er', 'what', 'noh', 'sottsch', 'sglich', 'v', 'brutal', 'hobby', 'sgfuhl', 'erwartet', 'abend', 'traff', 'swisscom', 'trunk', 'rum', 'dena', '--', 'beidn', 'dach', 'kenneglernt', 'spiegel', 'kund', 'setz', 'erlebt', 'gsproch', 'wis', 'mussi', 'duschi', 'bruchi', 'uuf', 'kumm', 'vorteil', 'schribsch', 'gwitt', 'wared', 'gomm', 'dran', 'sozial', 'mark', 'lis', 'freiwill', 'jooo', 'wiem', 'heftig', 'woll', 'autofahr', 'stock', 'furz', 'hell', 'bluet', '80', 'wasd', 'ssj', 'down', 'nebed', 'agebot', 'ufn', 'leist', 'versteh', 'verwutscht', 'letst', 'septemb', 'aargau', 'held', 'eth', 'versuecht', 'begriff', 'amu', 'desweg', 'jedoch', 'bechunnt', 'mitemn', '🤔🤔', 'nehm', 'asiat', 'erreicht', 'win', 'verglich', 'fuessball', 'wahrschinli', 'mercii', 'grat', 'sies', 'trag', 'jed', 'entschuld', 'schwizerdutsch', 'hocksch', 'somit', 'termin', 'klaut', 'sitzt', 'typisch', 'anschin', 'nagel', 'alban', 'chlis', 'schaffa', 'wahl', '90', 'heissi', 'denket', 'lies', 'intress', 'prison', 'olt', 'chann', 'sali', 'rap', 'un', '2h', 'suff', 'sa', 'schlechti', 'back', 'fed', 'bizli', 'lahn', 'drzue', 'ai', 'pill', 'ufgfall', '@11', 'gschlecht', 'damfau', '🎉', 'fuecht', 'rappi', 'workli', 'fair', 'bach', 'big', 'huut', 'erkennt', '20i', 'baum', 'styl', 'geseh', 'eidut', 'emal', 'langet', 'rundi', 'weit', 'sotti', 'lauch', 'spani', 'glaubt', 'mom', 'mentig', 'ph', 'ghorsch', 'chat', 'jean', 'dabei', 'schnitt', 'chuchi', 'fit', 'vori', 'depression', 'drfur', 'redsch', 'riis', 'rasi', 'joor', 'ois', 'plotzli', 'studiert', 'wk', 'mull', 'naturlech', 'fruech', 'lernsch', 'roti', 'ruum', 'dont', 'hmmm', 'villech', 'abem', 'lueged', 'packli', 'ws', 'fragsch', 'hihi', 'astand', 'rock', 'meined', 'wella', 'busi', 'ihr', 'heti', 'zeich', 'chlei', 'zah', 'ging', 'fuul', 'trozd', 'grundsatz', '🙈😂', 'foreveralon', 'rat', 'spotify', 'offent', 'sosch', 'rezept', 'half', 'bruuch', 'sprach', 'zfried', 'ev', 'ironi', '🙌', 'harry', 'usbild', 'gnoh', 'zuck', 'went', 'zumind', '😂😅', 'steck', 'eppert', '27', 'umgekehrt', 'kampf', 'polit', 'benutz', 'bechunt', 'mueni', 'betrunk', 'behindert', 'breaking', 'hubschi', 'nervt', 'eimol', 'albani', 'team', 'zo', 'putzt', 'dad', 'luegi', 'www', 'kenna', 'guata', 'wahnsinn', 'swiss', 'g20', 'rapp', 'heicho', 'gym', 'zmorg', 'hoffentli', 'besseri', 'emen', 'sega', 'mitbewohn', 'machem', 'via', 'schwarzi', 'leistig', 'schlau', 'sing', 'ernahr', 'dankbar', 'passend', 'arrogant', 'legal', 'nochli', 'cousin', 'kamera', 'verhalt', 'chines', 'strom', 'rip', 'nerv', 'sy', 'm20', 'weisi', 'unglaub', 'brauch', 'training', 'ups', 'zerstort', 'nami', '18ni', 'erinner', 'korrekt', 'chonti', 'chontsch', 'hurat', 'puff', 'mac', 'troch', 'buechstab', 'chonnd', 'jungfrau', 'stei', 'bsund', 'eventuell', 'ufer', 'wlan', 'gwohnt', 'bliib', 'abstand', 'new', 'lebt', 'rugg', '🤷🏼\\u200d♂️', 'imfau', 'regelmass', 'bewerb', 't-shirt', 'fach', 'ablenk', 'opf', 'regel', 'rassist', 'daa', 'wurdsch', 'match', 'jedesmal', 'infos', 'mittwuch', 'maximilian', 'mutt', 'verbot', 'erlaubt', 'fium', 'fir', 'suuf', 'wieni', 'dritt', 'ignori', 'scham', 'noo', 'verbring', 'fragenuberfrag', 'dorfi', 'ziemli', 'ines', 'churzi', 'worda', 'endli', 'desto', 'verlur', 'lachl', 'nuut', 'minus', 'baustell', 'ids', 'oha', 'ubercho', 'irgendwas', 'chumm', 'supp', 'steu', 'verarscht', 'harz', 'nutz', '🤦🏼\\u200d♀️', 'eifacht', 'unt', '😯', 'bitzli', 'lernphas', 'chart', 'nervos', 'kaff', 'kur', 'glichi', 'sieht', 'block', 'moderator', 'schoon', 'fahl', '1-2', 'ros', 'sch', 'leck', 'kolleginn', 'degeg', 'issisch', 'einzigi', 'schloss', 'fahra', 'plotzlech', 'sms', 'saged', 'jop', 'ehe', 'notgeil', 'mod', 'mes', 'gsi😂', 'chest', 'km', 'bringsch', 'vertrau', 'europa', 'lovoo', 'besuch', 'fau', 'vermuet', 'lueget', 'reda', 'klappet', 'meini', 'tip', 'traini', 'aktiv', 'good', 'wema', 'option', 'buur', 'cheib', 'waut', 'glock', 'stor', 'darfi', 'suit', 'rucksack', 'amol', 'hing', 'bedut', 'camping', 'konto', 'your', 'gset', '🙌🏻', 'schoo', 'bruscht', 'ziet', 'ouu', 'programm', 'gend', 'mundlich', 'kalt', 'dah', 'heii', 'gsy', 'erd', 'religion', 'diskuti', 'strang', 'energi', 'usegfund', 'laptop', 'hiuft', 'spaghetti', 'bart', 'lig', 'stutz', 'drvo', 'next', 'magsch', 'suss', 'munich', '5min', 'theoret', 'drinn', 'istell', 'abgeh', 'ligt', 'druckt', 'w21', 'gegenub', 'verstond', 'ezt', 'null', '😵', 'schiint', 'panik', 'trotz', 'andi', 'guati', 'boot', 'umd', 'true', 'schwar', 'vorau', 'namli', 'glehrt', 'moss', 'ring', 'jezt', 'benutzt', 'ann', 'gmold', 'fahred', 'soooo', 'dreck', 'euchi', 'usprobi', 'mein', 'hufig', 'schriebsch', 'raus', 'amerika', 'gehort', 'trump', 'jah', 'trinkt', 'ahlueg', 'maschin', 'weish', 'auu', 'acho', '150', 'biet', 'wunscht', 'geschrieb', 'high', 'schwitz', 'erchlar', 'getrank', 'namlich', 'hb', 'dunkel', 'chomet', 'liabi', 'pott', 'lack', 'nachem', 'wahrschindli', '🤷', 'essa', 'billet', 'negst', 'hatsch', 'chf', 'artikel', 'hoh', 'gau', 'lenzburg', 'ener', 'chent', 'family', 'werom', 'brud', 'nomau', 'stur', 'gesagt', 'kontroll', 'uberhoupt', 'derbi', 'buess', 'fendi', 'verkauft', 'ans', 'versicher', 'gfueu', 'kensch', 'linkin', 'verlieb', 'decki', 'eg', 'box', '•', 'luaga', 'io', '😂👌', 'pfann', 'wochen', 'ufstoh', 'bisi', 'hutzutag', '🍻', 'doktor', 'solothurn', 'gangi', 'music', 'tram', 'hattsch', 'salz', 'wolf', 'hof', '✌🏼', 'm23', 'schwach', 'jedefall', 'tua', 'brocht', 'spazi', 'deutschland', 'umgab', 'dera', 'schiess', 'stross', 'isch😂', 'geburi', 'downgvotet', 'phas', 'regl', 'woss', 'zua', 'bruucht', 'ime', 'medi', 'gschiss', 'gefuhl', 'hockt', 'biss', 'beantwort', 'ton', 'moched', 'zellt', 'schutz', 'negativ', 'kart', 'ver', 'verarsch', 'prinzip', 'frondin', 'gschlacht', 'gschickt', 'sowit', 'ikea', '😮', 'ball', 'ge', 'flirt', 'thailand', 'mitt', 'schul', 'derfsch', 'motz', 'kopfhor', 'websit', 'ahgfang', '✌️', 'hous', 'hochdutsch', 'spricht', 'stinkt', 'cbd', 'wahri', 'ohhh', 'hahha', 'qualitat', 'zuestand', '-ich', 'normau', 'daheim', 'garag', 'wallis', 'are', 'wiblich', 'mass', 'koff', 'ever', 'tuend', 'ufreg', 'schreibt', 'gra', 'werda', 'stern', 'fingsch', 'womm', 'vier', 'gan', 'pennt', 'auss', 'genug', 'vorhar', 'ui', 'day', 'tell', 'miet', 'afo', 'eut', 'hab', 'afa', 'gfung', 'ragnet', 'grenz', 'wan', 'form', 'drom', 'ufen', '🤦🏻\\u200d♂️', 'laufsch', 'schuss', 'nani', 'if', 'tuat', 'mos', 'fuehl', 'android', 'vorus', 'zmittag', 'ed', 'last', 'oma', '3-4', 'basl', 'ussicht', 'minr', 'gschlaf', 'fucking', 'wukli']\n",
            "la sfarsit, avem  2801  cuvinte\n",
            "build dictionary =  2801\n",
            "{'UNK': 0, 'isch': 1, 'de': 2, 'au': 3, 'i': 4, 'ja': 5, 'e': 6, 'en': 7, 'no': 8, 'uf': 9, 'het': 10, 'bi': 11, 'nid': 12, 'ha': 13, '😂': 14, 'scho': 15, 'vo': 16, 'ned': 17, 'd': 18, 'mer': 19, 'han': 20, 'nod': 21, 'hesch': 22, 'bisch': 23, 'z': 24, '@1': 25, '@2': 26, 'eifach': 27, 'a': 28, 'mal': 29, 'guet': 30, 'imm': 31, 'si': 32, 's': 33, '@oj': 34, 'mach': 35, 'u': 36, '-': 37, 'dr': 38, 'grad': 39, 'gsi': 40, 'mi': 41, 'nei': 42, 'di': 43, 'us': 44, 'kei': 45, '@3': 46, 'jo': 47, 'git': 48, '2': 49, 'hani': 50, 'hend': 51, 'mini': 52, 'me': 53, 'chli': 54, 'ah': 55, 'jodel': 56, 'haha': 57, 'wer': 58, 'ganz': 59, 'war': 60, 'min': 61, 'go': 62, '😅': 63, 'schon': 64, 'weiss': 65, 'meh': 66, 'frau': 67, 'esch': 68, 'mol': 69, '🤔': 70, 'chasch': 71, '1': 72, 'tag': 73, 'dank': 74, 'hut': 75, 'ds': 76, 'cha': 77, '@4': 78, 'bim': 79, 'opp': 80, 'num': 81, 'wieso': 82, 'sich': 83, 'gern': 84, 'glaub': 85, 'nut': 86, 'alt': 87, '😉': 88, 'lieb': 89, 'lut': 90, 'ide': 91, 'eh': 92, 'gha': 93, 'lang': 94, 'nie': 95, 'nit': 96, '3': 97, 'do': 98, 'ond': 99, 'macht': 100, 'da': 101, 'oj': 102, 'voll': 103, 'glich': 104, 'find': 105, 'chan': 106, 'lueg': 107, '😊': 108, 'gmacht': 109, 'o': 110, 'w': 111, 'richtig': 112, 'alli': 113, 'mega': 114, 'bess': 115, 'm': 116, 'genau': 117, 'dini': 118, 'hed': 119, 'ig': 120, 'well': 121, 'gseh': 122, 'muess': 123, 'leid': 124, 'em': 125, 'din': 126, 'jahr': 127, 'ab': 128, 'wenn': 129, 'schaff': 130, 'erst': 131, '🙈': 132, '😂😂': 133, 'halt': 134, 'kolleg': 135, 'aso': 136, 'wurd': 137, 'cho': 138, 'gad': 139, 'scheiss': 140, '&': 141, 'paar': 142, 'mis': 143, 'geil': 144, 'det': 145, 'frag': 146, 'sit': 147, 'abr': 148, 'ou': 149, 'feri': 150, 'sorry': 151, '@5': 152, 'hett': 153, 'gaht': 154, 'oh': 155, 'muesch': 156, 'oppis': 157, 'is': 158, '5': 159, 'gar': 160, 'moment': 161, 'selb': 162, 'na': 163, 'gang': 164, 'mau': 165, 'hei': 166, 'zug': 167, 'hat': 168, 'kenn': 169, 'bitt': 170, 'bini': 171, 'ohni': 172, 'mann': 173, 'oper': 174, 'wuch': 175, 'gueti': 176, 'word': 177, 'ebe': 178, 'sag': 179, 'seg': 180, 'morn': 181, 'recht': 182, 'mim': 183, 'best': 184, '😍': 185, 'heisst': 186, 'wen': 187, '😄': 188, 'ish': 189, 'ech': 190, 'frund': 191, 'all': 192, 'wur': 193, 'numm': 194, 'ih': 195, 'as': 196, 'probl': 197, 'hand': 198, 'ni': 199, 'ke': 200, 'sup': 201, 'eu': 202, 'seit': 203, 'ga': 204, 'ma': 205, 'wett': 206, 'sach': 207, '4': 208, 'gseit': 209, 'chunt': 210, 'weisch': 211, 'echt': 212, 'be': 213, 'morg': 214, 'ne': 215, 'wennd': 216, '😁': 217, 'frog': 218, 'bett': 219, 'gross': 220, 'id': 221, 'person': 222, 'eher': 223, 'ez': 224, 'gah': 225, 'nach': 226, 'odr': 227, 'mit': 228, 'los': 229, 'met': 230, '🙄': 231, 'hahaha': 232, 'gseht': 233, 'druf': 234, 'frundin': 235, 'eini': 236, 'goht': 237, 'wenig': 238, 'opis': 239, 'lauft': 240, 'eis': 241, 'cham': 242, 'has': 243, 'fall': 244, 'kik': 245, 'typ': 246, 'schlimm': 247, 'ufem': 248, 'chunnt': 249, 'leb': 250, 'jaa': 251, 'sex': 252, '@6': 253, 'mr': 254, 'sech': 255, 'jhj': 256, 'chum': 257, 'denk': 258, 'sogar': 259, 'woni': 260, 'ess': 261, '^^': 262, 'klar': 263, 'kennt': 264, 'use': 265, 'denkt': 266, 'neu': 267, 'merci': 268, 'schnell': 269, 'auto': 270, 'eigent': 271, 'dia': 272, 'lust': 273, 'gluck': 274, 'wiso': 275, 'suech': 276, 'liebi': 277, 'sii': 278, 'machsch': 279, 'ziit': 280, 'fahr': 281, 'dur': 282, 'bier': 283, 'fur': 284, '😂😂😂': 285, 'ir': 286, 'mensch': 287, 'den': 288, 'ok': 289, 'viu': 290, '😏': 291, 'sin': 292, 'wed': 293, 'dis': 294, 'spass': 295, 'demfall': 296, 'son': 297, 'bruch': 298, 'susch': 299, 'zwei': 300, 'chani': 301, 'cool': 302, 'we': 303, 'anderi': 304, 'meist': 305, 'drum': 306, 'meinsch': 307, 'ka': 308, 'eif': 309, 'passiert': 310, 'geh': 311, 'huer': 312, 'brucht': 313, 'luut': 314, 'eig': 315, 'gmeint': 316, 'sott': 317, 'xd': 318, 'jodl': 319, 'nam': 320, 'for': 321, 'schlecht': 322, 'egal': 323, 'ghort': 324, 'wos': 325, 'der': 326, 'schrib': 327, 'wid': 328, '20': 329, 'wel': 330, '10': 331, 'eus': 332, 'red': 333, 'wend': 334, 'vill': 335, 'gest': 336, 'geld': 337, 'the': 338, 'zit': 339, 'wenni': 340, 'b': 341, 'etz': 342, 'schlaf': 343, 'einzig': 344, 'handy': 345, 'wag': 346, 'falsch': 347, 'weg': 348, 'erfahr': 349, 'nacht': 350, 'wart': 351, 'eim': 352, 'hahah': 353, 'vlt': 354, 'mues': 355, 'abe': 356, 'stimmt': 357, 'zuri': 358, 'hie': 359, 'jetz': 360, 'besch': 361, 'hatt': 362, 'irgendwi': 363, 'trotzd': 364, 'wa': 365, 'send': 366, 'geit': 367, 'lehr': 368, '😜': 369, 'easy': 370, 'wia': 371, 'dra': 372, 'hey': 373, 'ine': 374, 'hasch': 375, 'gfuhl': 376, 'zue': 377, 'wohl': 378, 'wach': 379, 'ober': 380, 'fast': 381, 'hoff': 382, 'trink': 383, 'gfund': 384, 'wass': 385, 'usgang': 386, 'das': 387, 'chond': 388, 'dim': 389, 'abig': 390, 'bild': 391, 'nah': 392, 'warum': 393, 'garn': 394, 'gut': 395, 'iz': 396, 'johr': 397, 'film': 398, 'normal': 399, 'lab': 400, 'soll': 401, 'witz': 402, 'mehr': 403, 'wem': 404, 'wurkli': 405, 'sini': 406, 'of': 407, 'monet': 408, 'heiss': 409, 'bezieh': 410, 'ume': 411, 'nu': 412, 'wi': 413, 'dert': 414, 'frou': 415, 'post': 416, 'lustig': 417, 'mier': 418, 'stadt': 419, 'wird': 420, 'mami': 421, 'wott': 422, 'jung': 423, 'kollegin': 424, 'antwort': 425, 'dat': 426, 'schrieb': 427, 'chind': 428, 'oft': 429, 'auso': 430, 'wuss': 431, 'wit': 432, 'ahnig': 433, 'ca': 434, 'dasi': 435, 'teil': 436, 'her': 437, 'grund': 438, 'weni': 439, 'obe': 440, 'wort': 441, 'gnueg': 442, 'becho': 443, 'ufe': 444, 'wot': 445, 'debi': 446, 'schwiz': 447, 'findi': 448, 'fertig': 449, 'vorh': 450, 'keis': 451, '6': 452, 'stund': 453, 'beid': 454, 'usem': 455, 'noch': 456, 'tont': 457, 'allei': 458, 'dam': 459, 'findet': 460, 'googl': 461, '7': 462, '@7': 463, 'aui': 464, 'frei': 465, 'wichtig': 466, 'p': 467, 'dumm': 468, 'gib': 469, 'stell': 470, 'chont': 471, 'nix': 472, 'obb': 473, 'nimm': 474, 'chonnt': 475, '18': 476, 'ufs': 477, 'arsch': 478, 'lern': 479, 'se': 480, 'angst': 481, 'will': 482, 'amig': 483, 'noni': 484, '0': 485, 'geg': 486, 'etc': 487, 'tur': 488, 'langsam': 489, 'wetsch': 490, 'hund': 491, 'ar': 492, 'musch': 493, 'sinn': 494, 'maa': 495, 'sind': 496, 'soo': 497, 'und': 498, 'see': 499, 'wotsch': 500, 'sust': 501, 'vod': 502, 'neui': 503, 'inn': 504, 'toll': 505, 'fuhl': 506, 'halb': 507, 'repost': 508, 'platz': 509, 'je': 510, 'wiit': 511, 'nor': 512, 'chonn': 513, 'passt': 514, 'drub': 515, 'ane': 516, 'ihri': 517, '😋': 518, 'emm': 519, 'wirsch': 520, 'off': 521, 'app': 522, 'la': 523, 'vu': 524, 'ner': 525, 'letscht': 526, 'epp': 527, 'demit': 528, 'spiel': 529, 'nud': 530, 'zam': 531, 'seri': 532, 'bish': 533, 'zahl': 534, 'chauf': 535, 'nar': 536, 'lauf': 537, 'gratis': 538, 'wemm': 539, 'vor': 540, 'minut': 541, 'chunsch': 542, 'ade': 543, 'schuel': 544, 'komisch': 545, 'schwarz': 546, 'gse': 547, 'gond': 548, 'niemert': 549, 'mag': 550, 'arm': 551, 'dorf': 552, 'chas': 553, 'bruchsch': 554, 'ort': 555, 'fing': 556, 'summ': 557, 'ex': 558, 'niem': 559, 'wohn': 560, 'probi': 561, 'lah': 562, 'bring': 563, 'mitm': 564, 'job': 565, 'berlin': 566, 'wies': 567, 'defur': 568, 'schwiiz': 569, 'weis': 570, 'tue': 571, 'hesh': 572, 'immerno': 573, 'vorall': 574, 'hallo': 575, 'pizza': 576, 'wenigst': 577, 'suscht': 578, 'lied': 579, 'gliich': 580, 'racht': 581, 'uberhaupt': 582, 'seisch': 583, 'netflix': 584, '30': 585, 'gsii': 586, 'internet': 587, 'wurdi': 588, 'wom': 589, 'kommentar': 590, 'wc': 591, '😎': 592, 'welt': 593, 'elt': 594, '☺️': 595, 'dezu': 596, 'gott': 597, 'tipps': 598, 'schad': 599, 'bus': 600, '😘': 601, 'naja': 602, 'meinig': 603, 'schoni': 604, 'natur': 605, 'hmm': 606, 'ticket': 607, '=': 608, 'ben': 609, 'froh': 610, 'nonig': 611, 'tuet': 612, 'lach': 613, 'kenni': 614, 'dutsch': 615, '21': 616, 'hamm': 617, 'letzt': 618, 'bringt': 619, 'blod': 620, 'ernst': 621, 'sis': 622, 'nimmt': 623, '@8': 624, 'duss': 625, 'top': 626, 'tipp': 627, 'ufd': 628, 'gid': 629, 'oke': 630, 'vat': 631, 'nochi': 632, 'dort': 633, 'gloub': 634, 'uss': 635, 'ersch': 636, 'schluss': 637, 'kind': 638, 'obs': 639, 'ass': 640, 'mached': 641, 'machi': 642, 'gibt': 643, 'bescht': 644, 'aues': 645, 'fasch': 646, 'zeig': 647, 'bald': 648, 'zrugg': 649, 'wil': 650, 'haut': 651, 'afang': 652, 'bock': 653, 'upvot': 654, '🤗': 655, 'vell': 656, 'biz': 657, '15': 658, 'and': 659, 'downvot': 660, 'fein': 661, 'staht': 662, 'buech': 663, 'grossi': 664, 'churz': 665, 'moglich': 666, 'chatz': 667, 't': 668, 'ob': 669, 'dot': 670, 'okay': 671, 'alln': 672, 'chlin': 673, 'beidi': 674, 'zimm': 675, 'bar': 676, 'land': 677, 'einfach': 678, 'militar': 679, 'kennsch': 680, 'fahrt': 681, 'ihn': 682, 'oppert': 683, 'wod': 684, 'chund': 685, 'rot': 686, 'lad': 687, 'verbi': 688, 'hilft': 689, 'bad': 690, 'ad': 691, 'art': 692, 'singl': 693, 'geht': 694, 'solang': 695, 'wunsch': 696, 'zem': 697, 'chill': 698, 'jemand': 699, 'bahnhof': 700, 'fr': 701, 'denn': 702, 'hast': 703, 'obis': 704, 'willsch': 705, 'weh': 706, 'wuri': 707, 'not': 708, 'momentan': 709, 'miar': 710, 'wet': 711, 'chon': 712, 'hass': 713, 'irgendwo': 714, 'gam': 715, 'hilf': 716, '👍': 717, 'leut': 718, 'erscht': 719, 'wund': 720, 'ei': 721, 'langwil': 722, 'neh': 723, 'guat': 724, 'aug': 725, 'druff': 726, 'humor': 727, 'gedank': 728, 'hol': 729, 'momant': 730, 'glas': 731, 'pro': 732, 'zerst': 733, 'gnau': 734, 'schwer': 735, 'direkt': 736, 'mocht': 737, 'empfehl': 738, 'musig': 739, 'gwusst': 740, 'papi': 741, 'wou': 742, 'zb': 743, 'hos': 744, 'coop': 745, 'darf': 746, 'extra': 747, 'bid': 748, '19': 749, 'kasch': 750, 'flug': 751, 'uberall': 752, '17': 753, 'party': 754, 'ehr': 755, 'arzt': 756, 'rauch': 757, 'sport': 758, 'bro': 759, '12': 760, 'irgend': 761, 'studi': 762, 'villicht': 763, '8': 764, '😇': 765, 'openair': 766, 'famili': 767, 'hauptsach': 768, '😬': 769, 'arbeit': 770, 'ch': 771, 'definitiv': 772, 'stoht': 773, 'wand': 774, 'jedi': 775, 'hetti': 776, 'schlof': 777, 'woch': 778, 'bzw': 779, 'eint': 780, 'heit': 781, 'got': 782, 'dehei': 783, 'schu': 784, 'welli': 785, 'snap': 786, 'gsehsch': 787, 'sho': 788, 'dihei': 789, 'aut': 790, 'vilicht': 791, 'chopf': 792, 'plan': 793, 'omg': 794, 'mangisch': 795, '50': 796, 'obwohl': 797, 'schaffsch': 798, 'ach': 799, 'student': 800, 'warm': 801, 'eppis': 802, 'freu': 803, 'dann': 804, 'krass': 805, 'bern': 806, 'wann': 807, 'haar': 808, 'heut': 809, 'findsch': 810, 'ich': 811, 'muett': 812, 'bitz': 813, 'helf': 814, '😳': 815, 'hoch': 816, 'sim': 817, '22': 818, 'itz': 819, 'unbedingt': 820, 'wohnig': 821, 'kauf': 822, 'meint': 823, 'zersch': 824, 'pruefig': 825, 'hot': 826, 'macha': 827, 'link': 828, 'spot': 829, 'dier': 830, 'versuech': 831, 'shit': 832, 'salb': 833, 'vil': 834, 'dankt': 835, 'acht': 836, 'sry': 837, 'joo': 838, 'karma': 839, 'alkohol': 840, '🤣': 841, 'darum': 842, 'ward': 843, 'bevor': 844, 'uber': 845, 'wow': 846, '👌': 847, '😌': 848, 'schlacht': 849, 'luscht': 850, 'eigentli': 851, 'wohnsch': 852, 'perfekt': 853, '00': 854, 'fett': 855, 'you': 856, 'sitz': 857, 'endlich': 858, 'to': 859, '😀': 860, 'migros': 861, 'les': 862, 'ein': 863, 'schatz': 864, 'vergess': 865, 'wari': 866, 'prufung': 867, 'bod': 868, 'ere': 869, 'kai': 870, 'keini': 871, 'usw': 872, 'verstand': 873, 'werd': 874, 'wosch': 875, '😱': 876, 'gall': 877, 'ghor': 878, 'statt': 879, 'meld': 880, 'due': 881, 'chef': 882, 'n': 883, 'viel': 884, 'dassi': 885, 'zyt': 886, 'punkt': 887, 'fest': 888, 'devo': 889, 'gsicht': 890, 'siech': 891, 'musik': 892, '😒': 893, 'gunstig': 894, 'komm': 895, 'ii': 896, 'aua': 897, 'machet': 898, 'ehrlich': 899, 'st': 900, 'verliebt': 901, 'druck': 902, 'insta': 903, '100': 904, 'eso': 905, 'ufm': 906, 'nett': 907, 'glucklich': 908, 'verstah': 909, 'wurklich': 910, 'trurig': 911, 'kann': 912, 'mech': 913, 'kopf': 914, 'aub': 915, 'wahr': 916, 'weli': 917, '😔': 918, 'widr': 919, 'dass': 920, 'opert': 921, 'muss': 922, 'nic': 923, 'wtf': 924, 'evtl': 925, 'loh': 926, 'gfallt': 927, 'youtub': 928, 'sus': 929, '24': 930, 'schiss': 931, 'sofort': 932, 'entscheid': 933, 'he': 934, 'fritig': 935, 'wes': 936, 'zwusch': 937, 'eui': 938, 'verlor': 939, 'luegsch': 940, '16': 941, 'geili': 942, 'kaputt': 943, 'siit': 944, 'englisch': 945, 'vegan': 946, 'amel': 947, '@9': 948, 'blau': 949, 'drin': 950, 'interessiert': 951, 'velo': 952, 'duet': 953, 'sack': 954, 'it': 955, 'goh': 956, 'wursch': 957, 'hung': 958, '23': 959, 'funktioniert': 960, 'ier': 961, 'gasch': 962, 'chomed': 963, 'sig': 964, 'vom': 965, 'zom': 966, 'roll': 967, 'konnt': 968, 'tier': 969, 'kauft': 970, 'ind': 971, 'entwed': 972, 'seid': 973, 'liecht': 974, 'nein': 975, 'nai': 976, 'kes': 977, 'wirklich': 978, 'absolut': 979, 'fuck': 980, 'zieh': 981, 'iner': 982, 'hor': 983, 'muend': 984, 'luegt': 985, 'extr': 986, 'kontakt': 987, 'brued': 988, 'sot': 989, 'gruess': 990, 'zahlt': 991, 'interess': 992, 'ztue': 993, 'zemm': 994, 'club': 995, 'dech': 996, 'nomal': 997, 'bestand': 998, '🙃': 999, 'chanc': 1000, '9': 1001, 'kevin': 1002, 'bir': 1003, 'spruch': 1004, 'fang': 1005, 'nr': 1006, 'ding': 1007, 'gschrib': 1008, 'nomol': 1009, 'samstig': 1010, 'thema': 1011, 'ussert': 1012, '🙂': 1013, 'mitem': 1014, 'gnuss': 1015, '25': 1016, 'ang': 1017, 'farb': 1018, 'obbis': 1019, 'blib': 1020, 'chom': 1021, '14': 1022, 'nom': 1023, 'hubsch': 1024, 'jaaa': 1025, 'werdet': 1026, 'verdammt': 1027, 'monsch': 1028, 'gsesch': 1029, 'mah': 1030, 'zeigt': 1031, 'sunntig': 1032, 'bos': 1033, 'sowieso': 1034, 'einisch': 1035, 'ellei': 1036, 'verzell': 1037, 'freud': 1038, '😭': 1039, 'furd': 1040, 'uh': 1041, 'gmerkt': 1042, 'gluegt': 1043, 'sooo': 1044, 'sowas': 1045, 'thun': 1046, 'huus': 1047, 'tv': 1048, 'satz': 1049, 'ebb': 1050, 'gschafft': 1051, 'nackt': 1052, 'uff': 1053, 'anstatt': 1054, 'zweit': 1055, 'schick': 1056, 'mou': 1057, 'korp': 1058, 'hind': 1059, 'mued': 1060, 'sell': 1061, 'pass': 1062, 'stah': 1063, 'fleisch': 1064, 'willi': 1065, 'foti': 1066, 'okey': 1067, '🤓': 1068, 'hoi': 1069, 'spannend': 1070, 'kurz': 1071, 'saub': 1072, 'dusch': 1073, 'wasi': 1074, 'kunnt': 1075, 'elei': 1076, 'polizei': 1077, 'fuess': 1078, 'iphon': 1079, 'billig': 1080, 'end': 1081, 'hasslich': 1082, 'neus': 1083, 'schomal': 1084, '😆': 1085, 'muet': 1086, 'toff': 1087, 'jez': 1088, 'neb': 1089, 'von': 1090, 'vou': 1091, 'schribt': 1092, 'schwierig': 1093, 'stark': 1094, 'uni': 1095, 'imfall': 1096, 'sett': 1097, 'drus': 1098, 'hatti': 1099, 'fascht': 1100, 'h': 1101, 'facebook': 1102, 'mantig': 1103, 'tot': 1104, 'klein': 1105, 'merksch': 1106, 'nachh': 1107, 'sorg': 1108, '❤️': 1109, 'echli': 1110, 'per': 1111, 'weissi': 1112, 'ligg': 1113, 'aa': 1114, 'bhf': 1115, 'lohnt': 1116, 'umgeb': 1117, 'gles': 1118, 'ehm': 1119, 'hemm': 1120, 'aarau': 1121, 'schriib': 1122, 'gued': 1123, 'hahahaha': 1124, '😃': 1125, 'aha': 1126, 'heh': 1127, 'eier': 1128, 'eich': 1129, 'barn': 1130, 'gfrogt': 1131, 'blick': 1132, 'weekend': 1133, 'bem': 1134, 'channel': 1135, 'dinn': 1136, 'ehn': 1137, 'naturli': 1138, 'andern': 1139, 'geng': 1140, 'nimmsch': 1141, 'zamm': 1142, 'unterschied': 1143, 'musst': 1144, 'har': 1145, 'hock': 1146, 'franzos': 1147, 'erklar': 1148, 'bereit': 1149, 'etzt': 1150, 'wert': 1151, 'furn': 1152, 'snapchat': 1153, 'frogt': 1154, '13': 1155, 'uch': 1156, 'plotzlich': 1157, '😍😍': 1158, 'c': 1159, 'neii': 1160, 'schoggi': 1161, 'vorschlag': 1162, 'muen': 1163, 'strass': 1164, 'fruehn': 1165, 'treff': 1166, 'mir': 1167, 'chunnsch': 1168, 'won': 1169, 'imen': 1170, '20min': 1171, 'grupp': 1172, 'ame': 1173, 'badi': 1174, 'las': 1175, 'fehl': 1176, 'vorstell': 1177, 'kenned': 1178, 'traum': 1179, 'sohn': 1180, 'merkt': 1181, 'jap': 1182, 'get': 1183, 'situation': 1184, 'gno': 1185, 'uus': 1186, 'gisch': 1187, '🙊': 1188, 'unterhalt': 1189, 'penn': 1190, 'denksch': 1191, 'partn': 1192, 'ope': 1193, 'eimal': 1194, 'heimat': 1195, 'hart': 1196, 'diar': 1197, 'arschloch': 1198, 'zum': 1199, 'putz': 1200, 'start': 1201, 'logisch': 1202, 'ganzi': 1203, 'hahahah': 1204, 'sau': 1205, 'lol': 1206, 'immerhin': 1207, 'dick': 1208, 'nech': 1209, 'losch': 1210, 'nee': 1211, 'schweiz': 1212, 'suecht': 1213, 'epis': 1214, 'duu': 1215, 'spitz': 1216, '😐': 1217, 'studium': 1218, 'lass': 1219, 'schwul': 1220, 'herzig': 1221, 'spat': 1222, 'monat': 1223, 'chrank': 1224, 'iwi': 1225, 'schusch': 1226, '😝': 1227, 'ahnlich': 1228, 'glernt': 1229, 'tuur': 1230, 'immr': 1231, 'ahh': 1232, 'wiss': 1233, 'restaurant': 1234, 'jahrig': 1235, 'gag': 1236, 'mengisch': 1237, 'chamm': 1238, 'wien': 1239, 'onlin': 1240, 'gfahr': 1241, '+': 1242, '😩': 1243, 'probiert': 1244, 'fan': 1245, 'gosch': 1246, '☺': 1247, 'woh': 1248, 'gseid': 1249, '😂😂😂😂': 1250, 'nop': 1251, 'kha': 1252, 'spielt': 1253, 'iss': 1254, 'ubrig': 1255, 'verdient': 1256, 'dri': 1257, 'stress': 1258, 'herz': 1259, 'schueh': 1260, 'gell': 1261, 'choch': 1262, 'schwanz': 1263, 'frauefeld': 1264, 'grusig': 1265, 'uhr': 1266, 'postet': 1267, 'meer': 1268, 'zuefall': 1269, 'hutt': 1270, 'bestimmt': 1271, 'tatsach': 1272, 'gschrieb': 1273, 'hert': 1274, 'heb': 1275, 'wurk': 1276, 'klass': 1277, 'interessant': 1278, 'bsuech': 1279, 'bekannt': 1280, 'fu': 1281, 'gschicht': 1282, 'werded': 1283, 'sbb': 1284, 'hald': 1285, 'fruen': 1286, 'doof': 1287, 'region': 1288, 'allgemein': 1289, 'gsie': 1290, 'chlini': 1291, 'reg': 1292, 'jeda': 1293, 'fraua': 1294, 'fangt': 1295, 'usgseh': 1296, 'gfragt': 1297, '😕': 1298, 'solli': 1299, 'eue': 1300, 'kah': 1301, '40': 1302, 'schwang': 1303, 'fb': 1304, 'herr': 1305, 'deheim': 1306, '😑': 1307, 'usland': 1308, 'check': 1309, 'pc': 1310, 'beim': 1311, 'ohh': 1312, 'obi': 1313, 'zeit': 1314, 'frank': 1315, 'gsund': 1316, 'gratuli': 1317, 'kuss': 1318, 'nennt': 1319, 'kondom': 1320, 'whatsapp': 1321, 'gahn': 1322, 'gschaft': 1323, 'rest': 1324, 'schriebt': 1325, 'gsehn': 1326, 'folg': 1327, 'merk': 1328, 'vollig': 1329, 'kat': 1330, 'oich': 1331, 'fiir': 1332, 'chur': 1333, 'stond': 1334, 'simm': 1335, 'rechtig': 1336, 'mc': 1337, 'nomm': 1338, 'ziemlich': 1339, 'besti': 1340, 'freund': 1341, 'stort': 1342, 'seh': 1343, 'praktisch': 1344, 'suess': 1345, 'watt': 1346, 'milch': 1347, 'winti': 1348, 'ruhig': 1349, 'werbig': 1350, 'kanton': 1351, 'gleich': 1352, 'hoor': 1353, 'choi': 1354, 'anderst': 1355, 'fix': 1356, 'nia': 1357, 'kommt': 1358, 'katz': 1359, 'flughaf': 1360, 'wieviel': 1361, 'charakt': 1362, 'ps': 1363, 'uberleg': 1364, 'langt': 1365, 'lo': 1366, '😓': 1367, 'hotel': 1368, 'buch': 1369, 'brust': 1370, 'hanis': 1371, 'my': 1372, 'warsch': 1373, 'bruef': 1374, 'fenst': 1375, 'danka': 1376, 'fisch': 1377, 'dafur': 1378, 'stolz': 1379, 'tod': 1380, 'beni': 1381, 'konn': 1382, 'hang': 1383, 'standig': 1384, 'gd': 1385, 'kv': 1386, 'gat': 1387, 'giz': 1388, 'frueh': 1389, 'gitt': 1390, 'imn': 1391, 'derf': 1392, 'amn': 1393, 'sunn': 1394, 'vllt': 1395, 'rs': 1396, 'verkauf': 1397, 'kli': 1398, 'dasd': 1399, 'amen': 1400, 'positiv': 1401, 'fuhlt': 1402, 'august': 1403, 'nim': 1404, 'spontan': 1405, 'luft': 1406, 'zrug': 1407, 'vum': 1408, 'lost': 1409, 'komplett': 1410, 'loch': 1411, 'dummi': 1412, 'iar': 1413, 'luschtig': 1414, 'sekund': 1415, 'stimm': 1416, 'penis': 1417, 'lw': 1418, 'soviel': 1419, 'staffl': 1420, 'gschid': 1421, 'sofa': 1422, 'bueb': 1423, 'notig': 1424, 'vermiss': 1425, 'hoffent': 1426, 'dasm': 1427, 'nem': 1428, 'zh': 1429, 'gniess': 1430, 'sou': 1431, 'blibt': 1432, 'werum': 1433, 'festival': 1434, '100%': 1435, 'schwost': 1436, 'bau': 1437, 'dutschland': 1438, 'alti': 1439, 'priis': 1440, 'achtung': 1441, 'louft': 1442, 'dru': 1443, 'suechsch': 1444, 'reis': 1445, 'coiffeur': 1446, 'drbi': 1447, '👍🏻': 1448, 'zurch': 1449, 'r': 1450, 'langi': 1451, 'leer': 1452, 'hi': 1453, 'mittag': 1454, 'knapp': 1455, 'stuck': 1456, 'x': 1457, 'geb': 1458, 'lock': 1459, '😢': 1460, 'oaff': 1461, 'selt': 1462, '@': 1463, 'schritt': 1464, 'irgendwenn': 1465, 'wettsch': 1466, 'mo': 1467, 'pack': 1468, 'wint': 1469, 'lohn': 1470, 'kino': 1471, 'god': 1472, 'zviel': 1473, 'gruen': 1474, 'glac': 1475, 'agfang': 1476, 'kaffi': 1477, 'gerad': 1478, 'hsg': 1479, 'mund': 1480, 'luz': 1481, 'ohr': 1482, 'nass': 1483, 'jz': 1484, 'anonym': 1485, 'hanni': 1486, 'speziell': 1487, 'meitli': 1488, 'kennelern': 1489, 'dialekt': 1490, 'gwussi': 1491, 'video': 1492, 'gescht': 1493, 'set': 1494, 'text': 1495, 'bin': 1496, 'hamburg': 1497, 'spinn': 1498, 'deutsch': 1499, 'happy': 1500, 'oasg': 1501, 'wussed': 1502, 'total': 1503, 'gnue': 1504, 'liebt': 1505, 'fehlt': 1506, 'zwenig': 1507, 'haa': 1508, 'weck': 1509, '2017': 1510, 'lap': 1511, 'chalt': 1512, 'bwl': 1513, 'wasch': 1514, 'andersch': 1515, 'ung': 1516, 'usa': 1517, 'gheit': 1518, 'nas': 1519, 'fahrsch': 1520, 'emu': 1521, 'verbii': 1522, 'gli': 1523, 'chillig': 1524, 'cooli': 1525, 'unterweg': 1526, 'wusst': 1527, 'muessi': 1528, 'g': 1529, 'troff': 1530, '💪': 1531, 'park': 1532, 'feria': 1533, 'letschti': 1534, 'seich': 1535, 'schomol': 1536, 'steit': 1537, 'sagt': 1538, 'tind': 1539, 'ries': 1540, 'freut': 1541, 'zahlsch': 1542, 'frogsch': 1543, 'mimimi': 1544, 'viellicht': 1545, 'koch': 1546, 'unnot': 1547, 'euri': 1548, 'fend': 1549, 'starch': 1550, 'lik': 1551, 'radio': 1552, 'besser': 1553, 'brot': 1554, 'gurt': 1555, 'eper': 1556, 'math': 1557, 'nachd': 1558, 'geisch': 1559, 'dus': 1560, 'automat': 1561, 'thron': 1562, '🤔😂': 1563, 'bes': 1564, 'gess': 1565, '11': 1566, 'eme': 1567, 'vomn': 1568, 'wiu': 1569, 'alueg': 1570, 'chleid': 1571, 'haltet': 1572, 'peinlich': 1573, 'such': 1574, 'alk': 1575, 'motivation': 1576, 'hm': 1577, 'ire': 1578, 'eigentlech': 1579, 'zwusched': 1580, 'fick': 1581, 'halbi': 1582, 'lond': 1583, 'sei': 1584, 'jaja': 1585, 'gloff': 1586, 'nachricht': 1587, 'fand': 1588, 'max': 1589, 'mond': 1590, 'keni': 1591, 'thurgau': 1592, 'zimli': 1593, 'buro': 1594, 'com': 1595, 'bracht': 1596, 'brief': 1597, 'ernsthaft': 1598, 'dasch': 1599, 'vergass': 1600, 'mannlich': 1601, 'baby': 1602, 'wennt': 1603, 'fak': 1604, 'f': 1605, 'meischt': 1606, 'jogg': 1607, 'sobald': 1608, 'lit': 1609, 'fragt': 1610, 'usi': 1611, 'efach': 1612, 'liv': 1613, 'gfall': 1614, 'lif': 1615, 'drog': 1616, 'ewig': 1617, 'endi': 1618, '😫': 1619, \"'\": 1620, 'kack': 1621, '😣': 1622, 'gmuetlich': 1623, 'ums': 1624, 'egau': 1625, 'redet': 1626, 'list': 1627, '26': 1628, '😂🙈': 1629, 'test': 1630, 'usgseht': 1631, 'rein': 1632, 'wor': 1633, 'on': 1634, 'mugg': 1635, 'suechi': 1636, 'banan': 1637, 'flasch': 1638, 'lieg': 1639, 'grill': 1640, 'nurno': 1641, 'juli': 1642, 'passi': 1643, '😞': 1644, 'weu': 1645, 'drah': 1646, 'plus': 1647, 'schafft': 1648, 'mitenand': 1649, 'chend': 1650, 'ged': 1651, 'kuschl': 1652, 'fernseh': 1653, 'wei': 1654, 'stand': 1655, 'outo': 1656, 'gonn': 1657, 'burg': 1658, 'normali': 1659, 'chumi': 1660, 'hen': 1661, 'zelt': 1662, 'witzig': 1663, 'saga': 1664, 'znacht': 1665, 'wucheend': 1666, 'schuld': 1667, 'oi': 1668, 'trifft': 1669, 'krank': 1670, '👀': 1671, 'chomm': 1672, 'obig': 1673, 'ischm': 1674, 'aba': 1675, 'seged': 1676, 'verstoh': 1677, 'wurklech': 1678, 'bachelor': 1679, 'zwoi': 1680, 'black': 1681, 'empfahl': 1682, 'wuu': 1683, 'vieli': 1684, 'erwachs': 1685, 'sam': 1686, '👌🏻': 1687, 'gsehnd': 1688, 'frundschaft': 1689, 'wilsch': 1690, 'brugg': 1691, 'muehsam': 1692, 'net': 1693, 'zerscht': 1694, 'gschmack': 1695, 'fo': 1696, 'usseh': 1697, 'wg': 1698, 'mail': 1699, 'rag': 1700, 'geburtstag': 1701, 'taglich': 1702, 'muass': 1703, 'schwirig': 1704, 'wuchen': 1705, 'hetsch': 1706, 'flirtechani': 1707, 'bitch': 1708, 'schmockt': 1709, 'drufah': 1710, 'hashtag': 1711, 'bsoff': 1712, 'erfolg': 1713, '😅😂': 1714, 'seht': 1715, 'muesst': 1716, 'strand': 1717, 'ken': 1718, 'fescht': 1719, 'tanz': 1720, 'kleid': 1721, 'abelad': 1722, 'stoh': 1723, 'gald': 1724, 'polo': 1725, 'dringend': 1726, 'griff': 1727, 'salat': 1728, 'ali': 1729, 'relativ': 1730, 'okei': 1731, 'ahfang': 1732, '@10': 1733, 'drink': 1734, 'moll': 1735, 'heim': 1736, 'gstorb': 1737, 'sterb': 1738, 'fallt': 1739, 'wucha': 1740, 'denked': 1741, 'muasch': 1742, 'bechunsch': 1743, 'emn': 1744, 'schreib': 1745, 'song': 1746, 'hassig': 1747, 'grosst': 1748, 'eina': 1749, 'sucht': 1750, 'irgendwelchi': 1751, 'damal': 1752, 'sock': 1753, 'mid': 1754, 'fuhlsch': 1755, 'auno': 1756, 'verpasst': 1757, 'richtigi': 1758, 'med': 1759, 'mitti': 1760, 'bechum': 1761, 'dassd': 1762, 'gahsch': 1763, 'wohnt': 1764, 'du': 1765, '❤': 1766, 'ersti': 1767, 'blitz': 1768, 'habt': 1769, 'harzig': 1770, 'wurdet': 1771, 'gsehni': 1772, 'esh': 1773, 'ziel': 1774, 'regnet': 1775, 'debii': 1776, '🤷🏼\\u200d♀️': 1777, '👌🏼': 1778, 'gwuss': 1779, 'updat': 1780, 'foteli': 1781, 'privat': 1782, 'tut': 1783, 'lov': 1784, 'nen': 1785, 'ufmerksam': 1786, 'sem': 1787, 'pet': 1788, 'polizist': 1789, 'chash': 1790, 'jungi': 1791, 'gab': 1792, 'wiis': 1793, 'nanig': 1794, 'klappt': 1795, 'mue': 1796, 'vot': 1797, 'spar': 1798, 'tocht': 1799, 'schuch': 1800, 'sprich': 1801, 'zuekunft': 1802, 'bstell': 1803, 'muesi': 1804, 'nenn': 1805, 'gruss': 1806, 'laht': 1807, 'bewusst': 1808, 'schisst': 1809, 'idiot': 1810, 'wunderschon': 1811, 'quasi': 1812, 'tisch': 1813, 'eiget': 1814, 'walt': 1815, 'denki': 1816, 'jahrigi': 1817, 'lug': 1818, 'orang': 1819, 'drei': 1820, 'aktuell': 1821, 'balkon': 1822, 'evt': 1823, 'gras': 1824, '👍🏼': 1825, 'flach': 1826, 'usm': 1827, 'weri': 1828, 'l': 1829, 'parat': 1830, 'ov': 1831, 'wuki': 1832, 'zud': 1833, 'verchauf': 1834, 'verletzt': 1835, 'laba': 1836, 'rund': 1837, 'gwunn': 1838, 'wald': 1839, 'mast': 1840, 'seb': 1841, 'meldet': 1842, 'dan': 1843, 'koleg': 1844, 'kam': 1845, 'beleid': 1846, 'videos': 1847, 'krieg': 1848, '✌': 1849, 'produkt': 1850, 'vielleicht': 1851, '😥': 1852, 'fremd': 1853, 'akku': 1854, 'nab': 1855, 'schmerz': 1856, 'gitz': 1857, 'holl': 1858, 'chips': 1859, 'darfsch': 1860, 'truurig': 1861, 'liab': 1862, 'checkt': 1863, 'vilech': 1864, 'up': 1865, 'ufhor': 1866, 'ufstah': 1867, 'willkomm': 1868, 'franz': 1869, 'story': 1870, 'flieg': 1871, 'wirdi': 1872, 'liit': 1873, 'lg': 1874, '12i': 1875, 'losig': 1876, 'leba': 1877, 'ent': 1878, 'wured': 1879, 'somm': 1880, 'stirbt': 1881, 'abo': 1882, 'kompliziert': 1883, 'cola': 1884, 'fruh': 1885, 'hoffnig': 1886, 'kiff': 1887, '1000': 1888, 'gass': 1889, 'niveau': 1890, 'zieht': 1891, 'stellt': 1892, 'fitness': 1893, 'gemacht': 1894, 'sg': 1895, 'kostet': 1896, 'gart': 1897, 'sowiso': 1898, 'eusi': 1899, 'freundin': 1900, 'dett': 1901, '6i': 1902, 'zmach': 1903, '45': 1904, 'assessment': 1905, 'info': 1906, 'dunn': 1907, 'spil': 1908, 'isst': 1909, '28': 1910, 'hann': 1911, 'blond': 1912, 'k': 1913, 'bh': 1914, 'wersch': 1915, 'don': 1916, 'frusch': 1917, 'muul': 1918, 'mama': 1919, 'schnall': 1920, 'segi': 1921, 'why': 1922, 'kanni': 1923, 'unfall': 1924, '5i': 1925, 'uberleit': 1926, 'ko': 1927, 'steht': 1928, 'tja': 1929, 'parkplatz': 1930, '😡': 1931, 'mueh': 1932, '2-3': 1933, '60': 1934, 'kafi': 1935, 'lernt': 1936, 'duesch': 1937, 'wetti': 1938, 'frisch': 1939, 'kass': 1940, 'ussag': 1941, 'intressiert': 1942, 'aah': 1943, 'schieb': 1944, 'emol': 1945, 'tuesch': 1946, 'schono': 1947, 'ubel': 1948, 'usserd': 1949, '“': 1950, 'genial': 1951, 'erwart': 1952, 'huara': 1953, 'hus': 1954, 'chostet': 1955, 'dorfsch': 1956, 'autobahn': 1957, 'chouf': 1958, 'nd': 1959, 'friendzon': 1960, 'bstellt': 1961, 'hau': 1962, 'was': 1963, 'jep': 1964, 'mehreri': 1965, 'jemal': 1966, 'gloscht': 1967, 'tattoo': 1968, 'paus': 1969, 'verein': 1970, 'vorn': 1971, 'renn': 1972, 'une': 1973, 'nutella': 1974, 'girl': 1975, 'blas': 1976, 'natel': 1977, 'jok': 1978, 'ching': 1979, 'abschluss': 1980, 'ers': 1981, '😛': 1982, 'vogel': 1983, 'pris': 1984, 'wild': 1985, 'bekomm': 1986, 'konzert': 1987, '😍😍😍': 1988, 'band': 1989, 'tun': 1990, 'kennet': 1991, 'heissisch': 1992, 'bank': 1993, 'wii': 1994, 'real': 1995, 'haus': 1996, 'out': 1997, 'figg': 1998, 'leg': 1999, 'mind': 2000, 'mitarbeit': 2001, 'mindest': 2002, 'bmw': 2003, 'tim': 2004, 'schau': 2005, 'angscht': 2006, 'chonnti': 2007, '😅😅': 2008, 'wixx': 2009, 'attraktiv': 2010, 'fingi': 2011, 'berg': 2012, 'schiff': 2013, 'hort': 2014, 'one': 2015, 'gsellschaft': 2016, 'drauf': 2017, 'sympath': 2018, 'zama': 2019, 'schnau': 2020, 'blieb': 2021, 'aar': 2022, 'usverseh': 2023, 'itali': 2024, 'nachbar': 2025, 'gsuecht': 2026, 'lag': 2027, '200': 2028, 'telefon': 2029, 'neei': 2030, 'verdi': 2031, 'beweg': 2032, 'jugend': 2033, 'sexy': 2034, 'fakt': 2035, 'dud': 2036, 'verzellt': 2037, 'diskussion': 2038, 'glaubi': 2039, 'respekt': 2040, 'spital': 2041, 'angeri': 2042, 'wond': 2043, 'verwirrt': 2044, 'om': 2045, 'arbet': 2046, 'cod': 2047, 'gstand': 2048, 'wahrschin': 2049, 'hitz': 2050, 'wartet': 2051, 'madel': 2052, 'komischi': 2053, 'mus': 2054, 'chlii': 2055, 'ahn': 2056, '2x': 2057, 'tolli': 2058, 'schaffet': 2059, 'dor': 2060, 'morga': 2061, 'tee': 2062, 'mitneh': 2063, 'fress': 2064, 'bedutet': 2065, 'romant': 2066, 'xi': 2067, 'autos': 2068, 'zog': 2069, 'yes': 2070, 'nutzt': 2071, 'sitt': 2072, 'namal': 2073, 'niid': 2074, 'rueh': 2075, 'sound': 2076, 'aun': 2077, 'servic': 2078, 'ihrn': 2079, 'break': 2080, 'gusch': 2081, 'wechsl': 2082, 'himmel': 2083, '4i': 2084, 'dir': 2085, 'zha': 2086, 'star': 2087, 'frond': 2088, 'liegt': 2089, 'einsam': 2090, '1x': 2091, 'ebbis': 2092, 'gahd': 2093, 'ey': 2094, '😶': 2095, 'drmit': 2096, 'aner': 2097, 'firma': 2098, 'vergiss': 2099, 'wuk': 2100, 'eba': 2101, 'interessi': 2102, '3er': 2103, 'what': 2104, 'noh': 2105, 'sottsch': 2106, 'sglich': 2107, 'v': 2108, 'brutal': 2109, 'hobby': 2110, 'sgfuhl': 2111, 'erwartet': 2112, 'abend': 2113, 'traff': 2114, 'swisscom': 2115, 'trunk': 2116, 'rum': 2117, 'dena': 2118, '--': 2119, 'beidn': 2120, 'dach': 2121, 'kenneglernt': 2122, 'spiegel': 2123, 'kund': 2124, 'setz': 2125, 'erlebt': 2126, 'gsproch': 2127, 'wis': 2128, 'mussi': 2129, 'duschi': 2130, 'bruchi': 2131, 'uuf': 2132, 'kumm': 2133, 'vorteil': 2134, 'schribsch': 2135, 'gwitt': 2136, 'wared': 2137, 'gomm': 2138, 'dran': 2139, 'sozial': 2140, 'mark': 2141, 'lis': 2142, 'freiwill': 2143, 'jooo': 2144, 'wiem': 2145, 'heftig': 2146, 'woll': 2147, 'autofahr': 2148, 'stock': 2149, 'furz': 2150, 'hell': 2151, 'bluet': 2152, '80': 2153, 'wasd': 2154, 'ssj': 2155, 'down': 2156, 'nebed': 2157, 'agebot': 2158, 'ufn': 2159, 'leist': 2160, 'versteh': 2161, 'verwutscht': 2162, 'letst': 2163, 'septemb': 2164, 'aargau': 2165, 'held': 2166, 'eth': 2167, 'versuecht': 2168, 'begriff': 2169, 'amu': 2170, 'desweg': 2171, 'jedoch': 2172, 'bechunnt': 2173, 'mitemn': 2174, '🤔🤔': 2175, 'nehm': 2176, 'asiat': 2177, 'erreicht': 2178, 'win': 2179, 'verglich': 2180, 'fuessball': 2181, 'wahrschinli': 2182, 'mercii': 2183, 'grat': 2184, 'sies': 2185, 'trag': 2186, 'jed': 2187, 'entschuld': 2188, 'schwizerdutsch': 2189, 'hocksch': 2190, 'somit': 2191, 'termin': 2192, 'klaut': 2193, 'sitzt': 2194, 'typisch': 2195, 'anschin': 2196, 'nagel': 2197, 'alban': 2198, 'chlis': 2199, 'schaffa': 2200, 'wahl': 2201, '90': 2202, 'heissi': 2203, 'denket': 2204, 'lies': 2205, 'intress': 2206, 'prison': 2207, 'olt': 2208, 'chann': 2209, 'sali': 2210, 'rap': 2211, 'un': 2212, '2h': 2213, 'suff': 2214, 'sa': 2215, 'schlechti': 2216, 'back': 2217, 'fed': 2218, 'bizli': 2219, 'lahn': 2220, 'drzue': 2221, 'ai': 2222, 'pill': 2223, 'ufgfall': 2224, '@11': 2225, 'gschlecht': 2226, 'damfau': 2227, '🎉': 2228, 'fuecht': 2229, 'rappi': 2230, 'workli': 2231, 'fair': 2232, 'bach': 2233, 'big': 2234, 'huut': 2235, 'erkennt': 2236, '20i': 2237, 'baum': 2238, 'styl': 2239, 'geseh': 2240, 'eidut': 2241, 'emal': 2242, 'langet': 2243, 'rundi': 2244, 'weit': 2245, 'sotti': 2246, 'lauch': 2247, 'spani': 2248, 'glaubt': 2249, 'mom': 2250, 'mentig': 2251, 'ph': 2252, 'ghorsch': 2253, 'chat': 2254, 'jean': 2255, 'dabei': 2256, 'schnitt': 2257, 'chuchi': 2258, 'fit': 2259, 'vori': 2260, 'depression': 2261, 'drfur': 2262, 'redsch': 2263, 'riis': 2264, 'rasi': 2265, 'joor': 2266, 'ois': 2267, 'plotzli': 2268, 'studiert': 2269, 'wk': 2270, 'mull': 2271, 'naturlech': 2272, 'fruech': 2273, 'lernsch': 2274, 'roti': 2275, 'ruum': 2276, 'dont': 2277, 'hmmm': 2278, 'villech': 2279, 'abem': 2280, 'lueged': 2281, 'packli': 2282, 'ws': 2283, 'fragsch': 2284, 'hihi': 2285, 'astand': 2286, 'rock': 2287, 'meined': 2288, 'wella': 2289, 'busi': 2290, 'ihr': 2291, 'heti': 2292, 'zeich': 2293, 'chlei': 2294, 'zah': 2295, 'ging': 2296, 'fuul': 2297, 'trozd': 2298, 'grundsatz': 2299, '🙈😂': 2300, 'foreveralon': 2301, 'rat': 2302, 'spotify': 2303, 'offent': 2304, 'sosch': 2305, 'rezept': 2306, 'half': 2307, 'bruuch': 2308, 'sprach': 2309, 'zfried': 2310, 'ev': 2311, 'ironi': 2312, '🙌': 2313, 'harry': 2314, 'usbild': 2315, 'gnoh': 2316, 'zuck': 2317, 'went': 2318, 'zumind': 2319, '😂😅': 2320, 'steck': 2321, 'eppert': 2322, '27': 2323, 'umgekehrt': 2324, 'kampf': 2325, 'polit': 2326, 'benutz': 2327, 'bechunt': 2328, 'mueni': 2329, 'betrunk': 2330, 'behindert': 2331, 'breaking': 2332, 'hubschi': 2333, 'nervt': 2334, 'eimol': 2335, 'albani': 2336, 'team': 2337, 'zo': 2338, 'putzt': 2339, 'dad': 2340, 'luegi': 2341, 'www': 2342, 'kenna': 2343, 'guata': 2344, 'wahnsinn': 2345, 'swiss': 2346, 'g20': 2347, 'rapp': 2348, 'heicho': 2349, 'gym': 2350, 'zmorg': 2351, 'hoffentli': 2352, 'besseri': 2353, 'emen': 2354, 'sega': 2355, 'mitbewohn': 2356, 'machem': 2357, 'via': 2358, 'schwarzi': 2359, 'leistig': 2360, 'schlau': 2361, 'sing': 2362, 'ernahr': 2363, 'dankbar': 2364, 'passend': 2365, 'arrogant': 2366, 'legal': 2367, 'nochli': 2368, 'cousin': 2369, 'kamera': 2370, 'verhalt': 2371, 'chines': 2372, 'strom': 2373, 'rip': 2374, 'nerv': 2375, 'sy': 2376, 'm20': 2377, 'weisi': 2378, 'unglaub': 2379, 'brauch': 2380, 'training': 2381, 'ups': 2382, 'zerstort': 2383, 'nami': 2384, '18ni': 2385, 'erinner': 2386, 'korrekt': 2387, 'chonti': 2388, 'chontsch': 2389, 'hurat': 2390, 'puff': 2391, 'mac': 2392, 'troch': 2393, 'buechstab': 2394, 'chonnd': 2395, 'jungfrau': 2396, 'stei': 2397, 'bsund': 2398, 'eventuell': 2399, 'ufer': 2400, 'wlan': 2401, 'gwohnt': 2402, 'bliib': 2403, 'abstand': 2404, 'new': 2405, 'lebt': 2406, 'rugg': 2407, '🤷🏼\\u200d♂️': 2408, 'imfau': 2409, 'regelmass': 2410, 'bewerb': 2411, 't-shirt': 2412, 'fach': 2413, 'ablenk': 2414, 'opf': 2415, 'regel': 2416, 'rassist': 2417, 'daa': 2418, 'wurdsch': 2419, 'match': 2420, 'jedesmal': 2421, 'infos': 2422, 'mittwuch': 2423, 'maximilian': 2424, 'mutt': 2425, 'verbot': 2426, 'erlaubt': 2427, 'fium': 2428, 'fir': 2429, 'suuf': 2430, 'wieni': 2431, 'dritt': 2432, 'ignori': 2433, 'scham': 2434, 'noo': 2435, 'verbring': 2436, 'fragenuberfrag': 2437, 'dorfi': 2438, 'ziemli': 2439, 'ines': 2440, 'churzi': 2441, 'worda': 2442, 'endli': 2443, 'desto': 2444, 'verlur': 2445, 'lachl': 2446, 'nuut': 2447, 'minus': 2448, 'baustell': 2449, 'ids': 2450, 'oha': 2451, 'ubercho': 2452, 'irgendwas': 2453, 'chumm': 2454, 'supp': 2455, 'steu': 2456, 'verarscht': 2457, 'harz': 2458, 'nutz': 2459, '🤦🏼\\u200d♀️': 2460, 'eifacht': 2461, 'unt': 2462, '😯': 2463, 'bitzli': 2464, 'lernphas': 2465, 'chart': 2466, 'nervos': 2467, 'kaff': 2468, 'kur': 2469, 'glichi': 2470, 'sieht': 2471, 'block': 2472, 'moderator': 2473, 'schoon': 2474, 'fahl': 2475, '1-2': 2476, 'ros': 2477, 'sch': 2478, 'leck': 2479, 'kolleginn': 2480, 'degeg': 2481, 'issisch': 2482, 'einzigi': 2483, 'schloss': 2484, 'fahra': 2485, 'plotzlech': 2486, 'sms': 2487, 'saged': 2488, 'jop': 2489, 'ehe': 2490, 'notgeil': 2491, 'mod': 2492, 'mes': 2493, 'gsi😂': 2494, 'chest': 2495, 'km': 2496, 'bringsch': 2497, 'vertrau': 2498, 'europa': 2499, 'lovoo': 2500, 'besuch': 2501, 'fau': 2502, 'vermuet': 2503, 'lueget': 2504, 'reda': 2505, 'klappet': 2506, 'meini': 2507, 'tip': 2508, 'traini': 2509, 'aktiv': 2510, 'good': 2511, 'wema': 2512, 'option': 2513, 'buur': 2514, 'cheib': 2515, 'waut': 2516, 'glock': 2517, 'stor': 2518, 'darfi': 2519, 'suit': 2520, 'rucksack': 2521, 'amol': 2522, 'hing': 2523, 'bedut': 2524, 'camping': 2525, 'konto': 2526, 'your': 2527, 'gset': 2528, '🙌🏻': 2529, 'schoo': 2530, 'bruscht': 2531, 'ziet': 2532, 'ouu': 2533, 'programm': 2534, 'gend': 2535, 'mundlich': 2536, 'kalt': 2537, 'dah': 2538, 'heii': 2539, 'gsy': 2540, 'erd': 2541, 'religion': 2542, 'diskuti': 2543, 'strang': 2544, 'energi': 2545, 'usegfund': 2546, 'laptop': 2547, 'hiuft': 2548, 'spaghetti': 2549, 'bart': 2550, 'lig': 2551, 'stutz': 2552, 'drvo': 2553, 'next': 2554, 'magsch': 2555, 'suss': 2556, 'munich': 2557, '5min': 2558, 'theoret': 2559, 'drinn': 2560, 'istell': 2561, 'abgeh': 2562, 'ligt': 2563, 'druckt': 2564, 'w21': 2565, 'gegenub': 2566, 'verstond': 2567, 'ezt': 2568, 'null': 2569, '😵': 2570, 'schiint': 2571, 'panik': 2572, 'trotz': 2573, 'andi': 2574, 'guati': 2575, 'boot': 2576, 'umd': 2577, 'true': 2578, 'schwar': 2579, 'vorau': 2580, 'namli': 2581, 'glehrt': 2582, 'moss': 2583, 'ring': 2584, 'jezt': 2585, 'benutzt': 2586, 'ann': 2587, 'gmold': 2588, 'fahred': 2589, 'soooo': 2590, 'dreck': 2591, 'euchi': 2592, 'usprobi': 2593, 'mein': 2594, 'hufig': 2595, 'schriebsch': 2596, 'raus': 2597, 'amerika': 2598, 'gehort': 2599, 'trump': 2600, 'jah': 2601, 'trinkt': 2602, 'ahlueg': 2603, 'maschin': 2604, 'weish': 2605, 'auu': 2606, 'acho': 2607, '150': 2608, 'biet': 2609, 'wunscht': 2610, 'geschrieb': 2611, 'high': 2612, 'schwitz': 2613, 'erchlar': 2614, 'getrank': 2615, 'namlich': 2616, 'hb': 2617, 'dunkel': 2618, 'chomet': 2619, 'liabi': 2620, 'pott': 2621, 'lack': 2622, 'nachem': 2623, 'wahrschindli': 2624, '🤷': 2625, 'essa': 2626, 'billet': 2627, 'negst': 2628, 'hatsch': 2629, 'chf': 2630, 'artikel': 2631, 'hoh': 2632, 'gau': 2633, 'lenzburg': 2634, 'ener': 2635, 'chent': 2636, 'family': 2637, 'werom': 2638, 'brud': 2639, 'nomau': 2640, 'stur': 2641, 'gesagt': 2642, 'kontroll': 2643, 'uberhoupt': 2644, 'derbi': 2645, 'buess': 2646, 'fendi': 2647, 'verkauft': 2648, 'ans': 2649, 'versicher': 2650, 'gfueu': 2651, 'kensch': 2652, 'linkin': 2653, 'verlieb': 2654, 'decki': 2655, 'eg': 2656, 'box': 2657, '•': 2658, 'luaga': 2659, 'io': 2660, '😂👌': 2661, 'pfann': 2662, 'wochen': 2663, 'ufstoh': 2664, 'bisi': 2665, 'hutzutag': 2666, '🍻': 2667, 'doktor': 2668, 'solothurn': 2669, 'gangi': 2670, 'music': 2671, 'tram': 2672, 'hattsch': 2673, 'salz': 2674, 'wolf': 2675, 'hof': 2676, '✌🏼': 2677, 'm23': 2678, 'schwach': 2679, 'jedefall': 2680, 'tua': 2681, 'brocht': 2682, 'spazi': 2683, 'deutschland': 2684, 'umgab': 2685, 'dera': 2686, 'schiess': 2687, 'stross': 2688, 'isch😂': 2689, 'geburi': 2690, 'downgvotet': 2691, 'phas': 2692, 'regl': 2693, 'woss': 2694, 'zua': 2695, 'bruucht': 2696, 'ime': 2697, 'medi': 2698, 'gschiss': 2699, 'gefuhl': 2700, 'hockt': 2701, 'biss': 2702, 'beantwort': 2703, 'ton': 2704, 'moched': 2705, 'zellt': 2706, 'schutz': 2707, 'negativ': 2708, 'kart': 2709, 'ver': 2710, 'verarsch': 2711, 'prinzip': 2712, 'frondin': 2713, 'gschlacht': 2714, 'gschickt': 2715, 'sowit': 2716, 'ikea': 2717, '😮': 2718, 'ball': 2719, 'ge': 2720, 'flirt': 2721, 'thailand': 2722, 'mitt': 2723, 'schul': 2724, 'derfsch': 2725, 'motz': 2726, 'kopfhor': 2727, 'websit': 2728, 'ahgfang': 2729, '✌️': 2730, 'hous': 2731, 'hochdutsch': 2732, 'spricht': 2733, 'stinkt': 2734, 'cbd': 2735, 'wahri': 2736, 'ohhh': 2737, 'hahha': 2738, 'qualitat': 2739, 'zuestand': 2740, '-ich': 2741, 'normau': 2742, 'daheim': 2743, 'garag': 2744, 'wallis': 2745, 'are': 2746, 'wiblich': 2747, 'mass': 2748, 'koff': 2749, 'ever': 2750, 'tuend': 2751, 'ufreg': 2752, 'schreibt': 2753, 'gra': 2754, 'werda': 2755, 'stern': 2756, 'fingsch': 2757, 'womm': 2758, 'vier': 2759, 'gan': 2760, 'pennt': 2761, 'auss': 2762, 'genug': 2763, 'vorhar': 2764, 'ui': 2765, 'day': 2766, 'tell': 2767, 'miet': 2768, 'afo': 2769, 'eut': 2770, 'hab': 2771, 'afa': 2772, 'gfung': 2773, 'ragnet': 2774, 'grenz': 2775, 'wan': 2776, 'form': 2777, 'drom': 2778, 'ufen': 2779, '🤦🏻\\u200d♂️': 2780, 'laufsch': 2781, 'schuss': 2782, 'nani': 2783, 'if': 2784, 'tuat': 2785, 'mos': 2786, 'fuehl': 2787, 'android': 2788, 'vorus': 2789, 'zmittag': 2790, 'ed': 2791, 'last': 2792, 'oma': 2793, '3-4': 2794, 'basl': 2795, 'ussicht': 2796, 'minr': 2797, 'gschlaf': 2798, 'fucking': 2799, 'wukli': 2800}\n",
            "training_ftrs shape=  (22583, 2801)\n",
            "training_ftrs[0] type=  <class 'numpy.ndarray'>\n",
            "training_ftrs[0][0] type=  <class 'numpy.float32'>\n",
            "len content validation =  3044\n",
            "index validation =  0\n",
            "first row validation =  203001,52.098389261744956,10.3544964028777,\"wenn mer anere party bi kollege en neue bro findt er hät sogar drü vo däne 😍\"\n",
            "\n",
            "second row validation =  200313,51.629865771812064,7.723453237410073,\"heii guetä wuchestart gha? jo wunderbar und du? jaa so nachde ferie chli müesam aber schüsch okeii👌 jojo nume nid z sträng nö so am afang 🙊 jo vou das isch so👌 ja danke :) aber au ig ha chli müeh gha so nach de ferie ja sicher han hüt frei gha😌\"\n",
            "\n",
            "index validation =  1000\n",
            "index validation =  2000\n",
            "index validation =  3000\n"
          ],
          "name": "stdout"
        },
        {
          "output_type": "stream",
          "text": [
            "/usr/local/lib/python3.6/dist-packages/ipykernel_launcher.py:107: VisibleDeprecationWarning: Creating an ndarray from ragged nested sequences (which is a list-or-tuple of lists-or-tuples-or ndarrays with different lengths or shapes) is deprecated. If you meant to do this, you must specify 'dtype=object' when creating the ndarray\n"
          ],
          "name": "stderr"
        },
        {
          "output_type": "stream",
          "text": [
            "{'UNK': 0, 'isch': 1, 'de': 2, 'au': 3, 'i': 4, 'ja': 5, 'e': 6, 'en': 7, 'no': 8, 'uf': 9, 'het': 10, 'bi': 11, 'nid': 12, 'ha': 13, '😂': 14, 'scho': 15, 'vo': 16, 'ned': 17, 'd': 18, 'mer': 19, 'han': 20, 'nod': 21, 'hesch': 22, 'bisch': 23, 'z': 24, '@1': 25, '@2': 26, 'eifach': 27, 'a': 28, 'mal': 29, 'guet': 30, 'imm': 31, 'si': 32, 's': 33, '@oj': 34, 'mach': 35, 'u': 36, '-': 37, 'dr': 38, 'grad': 39, 'gsi': 40, 'mi': 41, 'nei': 42, 'di': 43, 'us': 44, 'kei': 45, '@3': 46, 'jo': 47, 'git': 48, '2': 49, 'hani': 50, 'hend': 51, 'mini': 52, 'me': 53, 'chli': 54, 'ah': 55, 'jodel': 56, 'haha': 57, 'wer': 58, 'ganz': 59, 'war': 60, 'min': 61, 'go': 62, '😅': 63, 'schon': 64, 'weiss': 65, 'meh': 66, 'frau': 67, 'esch': 68, 'mol': 69, '🤔': 70, 'chasch': 71, '1': 72, 'tag': 73, 'dank': 74, 'hut': 75, 'ds': 76, 'cha': 77, '@4': 78, 'bim': 79, 'opp': 80, 'num': 81, 'wieso': 82, 'sich': 83, 'gern': 84, 'glaub': 85, 'nut': 86, 'alt': 87, '😉': 88, 'lieb': 89, 'lut': 90, 'ide': 91, 'eh': 92, 'gha': 93, 'lang': 94, 'nie': 95, 'nit': 96, '3': 97, 'do': 98, 'ond': 99, 'macht': 100, 'da': 101, 'oj': 102, 'voll': 103, 'glich': 104, 'find': 105, 'chan': 106, 'lueg': 107, '😊': 108, 'gmacht': 109, 'o': 110, 'w': 111, 'richtig': 112, 'alli': 113, 'mega': 114, 'bess': 115, 'm': 116, 'genau': 117, 'dini': 118, 'hed': 119, 'ig': 120, 'well': 121, 'gseh': 122, 'muess': 123, 'leid': 124, 'em': 125, 'din': 126, 'jahr': 127, 'ab': 128, 'wenn': 129, 'schaff': 130, 'erst': 131, '🙈': 132, '😂😂': 133, 'halt': 134, 'kolleg': 135, 'aso': 136, 'wurd': 137, 'cho': 138, 'gad': 139, 'scheiss': 140, '&': 141, 'paar': 142, 'mis': 143, 'geil': 144, 'det': 145, 'frag': 146, 'sit': 147, 'abr': 148, 'ou': 149, 'feri': 150, 'sorry': 151, '@5': 152, 'hett': 153, 'gaht': 154, 'oh': 155, 'muesch': 156, 'oppis': 157, 'is': 158, '5': 159, 'gar': 160, 'moment': 161, 'selb': 162, 'na': 163, 'gang': 164, 'mau': 165, 'hei': 166, 'zug': 167, 'hat': 168, 'kenn': 169, 'bitt': 170, 'bini': 171, 'ohni': 172, 'mann': 173, 'oper': 174, 'wuch': 175, 'gueti': 176, 'word': 177, 'ebe': 178, 'sag': 179, 'seg': 180, 'morn': 181, 'recht': 182, 'mim': 183, 'best': 184, '😍': 185, 'heisst': 186, 'wen': 187, '😄': 188, 'ish': 189, 'ech': 190, 'frund': 191, 'all': 192, 'wur': 193, 'numm': 194, 'ih': 195, 'as': 196, 'probl': 197, 'hand': 198, 'ni': 199, 'ke': 200, 'sup': 201, 'eu': 202, 'seit': 203, 'ga': 204, 'ma': 205, 'wett': 206, 'sach': 207, '4': 208, 'gseit': 209, 'chunt': 210, 'weisch': 211, 'echt': 212, 'be': 213, 'morg': 214, 'ne': 215, 'wennd': 216, '😁': 217, 'frog': 218, 'bett': 219, 'gross': 220, 'id': 221, 'person': 222, 'eher': 223, 'ez': 224, 'gah': 225, 'nach': 226, 'odr': 227, 'mit': 228, 'los': 229, 'met': 230, '🙄': 231, 'hahaha': 232, 'gseht': 233, 'druf': 234, 'frundin': 235, 'eini': 236, 'goht': 237, 'wenig': 238, 'opis': 239, 'lauft': 240, 'eis': 241, 'cham': 242, 'has': 243, 'fall': 244, 'kik': 245, 'typ': 246, 'schlimm': 247, 'ufem': 248, 'chunnt': 249, 'leb': 250, 'jaa': 251, 'sex': 252, '@6': 253, 'mr': 254, 'sech': 255, 'jhj': 256, 'chum': 257, 'denk': 258, 'sogar': 259, 'woni': 260, 'ess': 261, '^^': 262, 'klar': 263, 'kennt': 264, 'use': 265, 'denkt': 266, 'neu': 267, 'merci': 268, 'schnell': 269, 'auto': 270, 'eigent': 271, 'dia': 272, 'lust': 273, 'gluck': 274, 'wiso': 275, 'suech': 276, 'liebi': 277, 'sii': 278, 'machsch': 279, 'ziit': 280, 'fahr': 281, 'dur': 282, 'bier': 283, 'fur': 284, '😂😂😂': 285, 'ir': 286, 'mensch': 287, 'den': 288, 'ok': 289, 'viu': 290, '😏': 291, 'sin': 292, 'wed': 293, 'dis': 294, 'spass': 295, 'demfall': 296, 'son': 297, 'bruch': 298, 'susch': 299, 'zwei': 300, 'chani': 301, 'cool': 302, 'we': 303, 'anderi': 304, 'meist': 305, 'drum': 306, 'meinsch': 307, 'ka': 308, 'eif': 309, 'passiert': 310, 'geh': 311, 'huer': 312, 'brucht': 313, 'luut': 314, 'eig': 315, 'gmeint': 316, 'sott': 317, 'xd': 318, 'jodl': 319, 'nam': 320, 'for': 321, 'schlecht': 322, 'egal': 323, 'ghort': 324, 'wos': 325, 'der': 326, 'schrib': 327, 'wid': 328, '20': 329, 'wel': 330, '10': 331, 'eus': 332, 'red': 333, 'wend': 334, 'vill': 335, 'gest': 336, 'geld': 337, 'the': 338, 'zit': 339, 'wenni': 340, 'b': 341, 'etz': 342, 'schlaf': 343, 'einzig': 344, 'handy': 345, 'wag': 346, 'falsch': 347, 'weg': 348, 'erfahr': 349, 'nacht': 350, 'wart': 351, 'eim': 352, 'hahah': 353, 'vlt': 354, 'mues': 355, 'abe': 356, 'stimmt': 357, 'zuri': 358, 'hie': 359, 'jetz': 360, 'besch': 361, 'hatt': 362, 'irgendwi': 363, 'trotzd': 364, 'wa': 365, 'send': 366, 'geit': 367, 'lehr': 368, '😜': 369, 'easy': 370, 'wia': 371, 'dra': 372, 'hey': 373, 'ine': 374, 'hasch': 375, 'gfuhl': 376, 'zue': 377, 'wohl': 378, 'wach': 379, 'ober': 380, 'fast': 381, 'hoff': 382, 'trink': 383, 'gfund': 384, 'wass': 385, 'usgang': 386, 'das': 387, 'chond': 388, 'dim': 389, 'abig': 390, 'bild': 391, 'nah': 392, 'warum': 393, 'garn': 394, 'gut': 395, 'iz': 396, 'johr': 397, 'film': 398, 'normal': 399, 'lab': 400, 'soll': 401, 'witz': 402, 'mehr': 403, 'wem': 404, 'wurkli': 405, 'sini': 406, 'of': 407, 'monet': 408, 'heiss': 409, 'bezieh': 410, 'ume': 411, 'nu': 412, 'wi': 413, 'dert': 414, 'frou': 415, 'post': 416, 'lustig': 417, 'mier': 418, 'stadt': 419, 'wird': 420, 'mami': 421, 'wott': 422, 'jung': 423, 'kollegin': 424, 'antwort': 425, 'dat': 426, 'schrieb': 427, 'chind': 428, 'oft': 429, 'auso': 430, 'wuss': 431, 'wit': 432, 'ahnig': 433, 'ca': 434, 'dasi': 435, 'teil': 436, 'her': 437, 'grund': 438, 'weni': 439, 'obe': 440, 'wort': 441, 'gnueg': 442, 'becho': 443, 'ufe': 444, 'wot': 445, 'debi': 446, 'schwiz': 447, 'findi': 448, 'fertig': 449, 'vorh': 450, 'keis': 451, '6': 452, 'stund': 453, 'beid': 454, 'usem': 455, 'noch': 456, 'tont': 457, 'allei': 458, 'dam': 459, 'findet': 460, 'googl': 461, '7': 462, '@7': 463, 'aui': 464, 'frei': 465, 'wichtig': 466, 'p': 467, 'dumm': 468, 'gib': 469, 'stell': 470, 'chont': 471, 'nix': 472, 'obb': 473, 'nimm': 474, 'chonnt': 475, '18': 476, 'ufs': 477, 'arsch': 478, 'lern': 479, 'se': 480, 'angst': 481, 'will': 482, 'amig': 483, 'noni': 484, '0': 485, 'geg': 486, 'etc': 487, 'tur': 488, 'langsam': 489, 'wetsch': 490, 'hund': 491, 'ar': 492, 'musch': 493, 'sinn': 494, 'maa': 495, 'sind': 496, 'soo': 497, 'und': 498, 'see': 499, 'wotsch': 500, 'sust': 501, 'vod': 502, 'neui': 503, 'inn': 504, 'toll': 505, 'fuhl': 506, 'halb': 507, 'repost': 508, 'platz': 509, 'je': 510, 'wiit': 511, 'nor': 512, 'chonn': 513, 'passt': 514, 'drub': 515, 'ane': 516, 'ihri': 517, '😋': 518, 'emm': 519, 'wirsch': 520, 'off': 521, 'app': 522, 'la': 523, 'vu': 524, 'ner': 525, 'letscht': 526, 'epp': 527, 'demit': 528, 'spiel': 529, 'nud': 530, 'zam': 531, 'seri': 532, 'bish': 533, 'zahl': 534, 'chauf': 535, 'nar': 536, 'lauf': 537, 'gratis': 538, 'wemm': 539, 'vor': 540, 'minut': 541, 'chunsch': 542, 'ade': 543, 'schuel': 544, 'komisch': 545, 'schwarz': 546, 'gse': 547, 'gond': 548, 'niemert': 549, 'mag': 550, 'arm': 551, 'dorf': 552, 'chas': 553, 'bruchsch': 554, 'ort': 555, 'fing': 556, 'summ': 557, 'ex': 558, 'niem': 559, 'wohn': 560, 'probi': 561, 'lah': 562, 'bring': 563, 'mitm': 564, 'job': 565, 'berlin': 566, 'wies': 567, 'defur': 568, 'schwiiz': 569, 'weis': 570, 'tue': 571, 'hesh': 572, 'immerno': 573, 'vorall': 574, 'hallo': 575, 'pizza': 576, 'wenigst': 577, 'suscht': 578, 'lied': 579, 'gliich': 580, 'racht': 581, 'uberhaupt': 582, 'seisch': 583, 'netflix': 584, '30': 585, 'gsii': 586, 'internet': 587, 'wurdi': 588, 'wom': 589, 'kommentar': 590, 'wc': 591, '😎': 592, 'welt': 593, 'elt': 594, '☺️': 595, 'dezu': 596, 'gott': 597, 'tipps': 598, 'schad': 599, 'bus': 600, '😘': 601, 'naja': 602, 'meinig': 603, 'schoni': 604, 'natur': 605, 'hmm': 606, 'ticket': 607, '=': 608, 'ben': 609, 'froh': 610, 'nonig': 611, 'tuet': 612, 'lach': 613, 'kenni': 614, 'dutsch': 615, '21': 616, 'hamm': 617, 'letzt': 618, 'bringt': 619, 'blod': 620, 'ernst': 621, 'sis': 622, 'nimmt': 623, '@8': 624, 'duss': 625, 'top': 626, 'tipp': 627, 'ufd': 628, 'gid': 629, 'oke': 630, 'vat': 631, 'nochi': 632, 'dort': 633, 'gloub': 634, 'uss': 635, 'ersch': 636, 'schluss': 637, 'kind': 638, 'obs': 639, 'ass': 640, 'mached': 641, 'machi': 642, 'gibt': 643, 'bescht': 644, 'aues': 645, 'fasch': 646, 'zeig': 647, 'bald': 648, 'zrugg': 649, 'wil': 650, 'haut': 651, 'afang': 652, 'bock': 653, 'upvot': 654, '🤗': 655, 'vell': 656, 'biz': 657, '15': 658, 'and': 659, 'downvot': 660, 'fein': 661, 'staht': 662, 'buech': 663, 'grossi': 664, 'churz': 665, 'moglich': 666, 'chatz': 667, 't': 668, 'ob': 669, 'dot': 670, 'okay': 671, 'alln': 672, 'chlin': 673, 'beidi': 674, 'zimm': 675, 'bar': 676, 'land': 677, 'einfach': 678, 'militar': 679, 'kennsch': 680, 'fahrt': 681, 'ihn': 682, 'oppert': 683, 'wod': 684, 'chund': 685, 'rot': 686, 'lad': 687, 'verbi': 688, 'hilft': 689, 'bad': 690, 'ad': 691, 'art': 692, 'singl': 693, 'geht': 694, 'solang': 695, 'wunsch': 696, 'zem': 697, 'chill': 698, 'jemand': 699, 'bahnhof': 700, 'fr': 701, 'denn': 702, 'hast': 703, 'obis': 704, 'willsch': 705, 'weh': 706, 'wuri': 707, 'not': 708, 'momentan': 709, 'miar': 710, 'wet': 711, 'chon': 712, 'hass': 713, 'irgendwo': 714, 'gam': 715, 'hilf': 716, '👍': 717, 'leut': 718, 'erscht': 719, 'wund': 720, 'ei': 721, 'langwil': 722, 'neh': 723, 'guat': 724, 'aug': 725, 'druff': 726, 'humor': 727, 'gedank': 728, 'hol': 729, 'momant': 730, 'glas': 731, 'pro': 732, 'zerst': 733, 'gnau': 734, 'schwer': 735, 'direkt': 736, 'mocht': 737, 'empfehl': 738, 'musig': 739, 'gwusst': 740, 'papi': 741, 'wou': 742, 'zb': 743, 'hos': 744, 'coop': 745, 'darf': 746, 'extra': 747, 'bid': 748, '19': 749, 'kasch': 750, 'flug': 751, 'uberall': 752, '17': 753, 'party': 754, 'ehr': 755, 'arzt': 756, 'rauch': 757, 'sport': 758, 'bro': 759, '12': 760, 'irgend': 761, 'studi': 762, 'villicht': 763, '8': 764, '😇': 765, 'openair': 766, 'famili': 767, 'hauptsach': 768, '😬': 769, 'arbeit': 770, 'ch': 771, 'definitiv': 772, 'stoht': 773, 'wand': 774, 'jedi': 775, 'hetti': 776, 'schlof': 777, 'woch': 778, 'bzw': 779, 'eint': 780, 'heit': 781, 'got': 782, 'dehei': 783, 'schu': 784, 'welli': 785, 'snap': 786, 'gsehsch': 787, 'sho': 788, 'dihei': 789, 'aut': 790, 'vilicht': 791, 'chopf': 792, 'plan': 793, 'omg': 794, 'mangisch': 795, '50': 796, 'obwohl': 797, 'schaffsch': 798, 'ach': 799, 'student': 800, 'warm': 801, 'eppis': 802, 'freu': 803, 'dann': 804, 'krass': 805, 'bern': 806, 'wann': 807, 'haar': 808, 'heut': 809, 'findsch': 810, 'ich': 811, 'muett': 812, 'bitz': 813, 'helf': 814, '😳': 815, 'hoch': 816, 'sim': 817, '22': 818, 'itz': 819, 'unbedingt': 820, 'wohnig': 821, 'kauf': 822, 'meint': 823, 'zersch': 824, 'pruefig': 825, 'hot': 826, 'macha': 827, 'link': 828, 'spot': 829, 'dier': 830, 'versuech': 831, 'shit': 832, 'salb': 833, 'vil': 834, 'dankt': 835, 'acht': 836, 'sry': 837, 'joo': 838, 'karma': 839, 'alkohol': 840, '🤣': 841, 'darum': 842, 'ward': 843, 'bevor': 844, 'uber': 845, 'wow': 846, '👌': 847, '😌': 848, 'schlacht': 849, 'luscht': 850, 'eigentli': 851, 'wohnsch': 852, 'perfekt': 853, '00': 854, 'fett': 855, 'you': 856, 'sitz': 857, 'endlich': 858, 'to': 859, '😀': 860, 'migros': 861, 'les': 862, 'ein': 863, 'schatz': 864, 'vergess': 865, 'wari': 866, 'prufung': 867, 'bod': 868, 'ere': 869, 'kai': 870, 'keini': 871, 'usw': 872, 'verstand': 873, 'werd': 874, 'wosch': 875, '😱': 876, 'gall': 877, 'ghor': 878, 'statt': 879, 'meld': 880, 'due': 881, 'chef': 882, 'n': 883, 'viel': 884, 'dassi': 885, 'zyt': 886, 'punkt': 887, 'fest': 888, 'devo': 889, 'gsicht': 890, 'siech': 891, 'musik': 892, '😒': 893, 'gunstig': 894, 'komm': 895, 'ii': 896, 'aua': 897, 'machet': 898, 'ehrlich': 899, 'st': 900, 'verliebt': 901, 'druck': 902, 'insta': 903, '100': 904, 'eso': 905, 'ufm': 906, 'nett': 907, 'glucklich': 908, 'verstah': 909, 'wurklich': 910, 'trurig': 911, 'kann': 912, 'mech': 913, 'kopf': 914, 'aub': 915, 'wahr': 916, 'weli': 917, '😔': 918, 'widr': 919, 'dass': 920, 'opert': 921, 'muss': 922, 'nic': 923, 'wtf': 924, 'evtl': 925, 'loh': 926, 'gfallt': 927, 'youtub': 928, 'sus': 929, '24': 930, 'schiss': 931, 'sofort': 932, 'entscheid': 933, 'he': 934, 'fritig': 935, 'wes': 936, 'zwusch': 937, 'eui': 938, 'verlor': 939, 'luegsch': 940, '16': 941, 'geili': 942, 'kaputt': 943, 'siit': 944, 'englisch': 945, 'vegan': 946, 'amel': 947, '@9': 948, 'blau': 949, 'drin': 950, 'interessiert': 951, 'velo': 952, 'duet': 953, 'sack': 954, 'it': 955, 'goh': 956, 'wursch': 957, 'hung': 958, '23': 959, 'funktioniert': 960, 'ier': 961, 'gasch': 962, 'chomed': 963, 'sig': 964, 'vom': 965, 'zom': 966, 'roll': 967, 'konnt': 968, 'tier': 969, 'kauft': 970, 'ind': 971, 'entwed': 972, 'seid': 973, 'liecht': 974, 'nein': 975, 'nai': 976, 'kes': 977, 'wirklich': 978, 'absolut': 979, 'fuck': 980, 'zieh': 981, 'iner': 982, 'hor': 983, 'muend': 984, 'luegt': 985, 'extr': 986, 'kontakt': 987, 'brued': 988, 'sot': 989, 'gruess': 990, 'zahlt': 991, 'interess': 992, 'ztue': 993, 'zemm': 994, 'club': 995, 'dech': 996, 'nomal': 997, 'bestand': 998, '🙃': 999, 'chanc': 1000, '9': 1001, 'kevin': 1002, 'bir': 1003, 'spruch': 1004, 'fang': 1005, 'nr': 1006, 'ding': 1007, 'gschrib': 1008, 'nomol': 1009, 'samstig': 1010, 'thema': 1011, 'ussert': 1012, '🙂': 1013, 'mitem': 1014, 'gnuss': 1015, '25': 1016, 'ang': 1017, 'farb': 1018, 'obbis': 1019, 'blib': 1020, 'chom': 1021, '14': 1022, 'nom': 1023, 'hubsch': 1024, 'jaaa': 1025, 'werdet': 1026, 'verdammt': 1027, 'monsch': 1028, 'gsesch': 1029, 'mah': 1030, 'zeigt': 1031, 'sunntig': 1032, 'bos': 1033, 'sowieso': 1034, 'einisch': 1035, 'ellei': 1036, 'verzell': 1037, 'freud': 1038, '😭': 1039, 'furd': 1040, 'uh': 1041, 'gmerkt': 1042, 'gluegt': 1043, 'sooo': 1044, 'sowas': 1045, 'thun': 1046, 'huus': 1047, 'tv': 1048, 'satz': 1049, 'ebb': 1050, 'gschafft': 1051, 'nackt': 1052, 'uff': 1053, 'anstatt': 1054, 'zweit': 1055, 'schick': 1056, 'mou': 1057, 'korp': 1058, 'hind': 1059, 'mued': 1060, 'sell': 1061, 'pass': 1062, 'stah': 1063, 'fleisch': 1064, 'willi': 1065, 'foti': 1066, 'okey': 1067, '🤓': 1068, 'hoi': 1069, 'spannend': 1070, 'kurz': 1071, 'saub': 1072, 'dusch': 1073, 'wasi': 1074, 'kunnt': 1075, 'elei': 1076, 'polizei': 1077, 'fuess': 1078, 'iphon': 1079, 'billig': 1080, 'end': 1081, 'hasslich': 1082, 'neus': 1083, 'schomal': 1084, '😆': 1085, 'muet': 1086, 'toff': 1087, 'jez': 1088, 'neb': 1089, 'von': 1090, 'vou': 1091, 'schribt': 1092, 'schwierig': 1093, 'stark': 1094, 'uni': 1095, 'imfall': 1096, 'sett': 1097, 'drus': 1098, 'hatti': 1099, 'fascht': 1100, 'h': 1101, 'facebook': 1102, 'mantig': 1103, 'tot': 1104, 'klein': 1105, 'merksch': 1106, 'nachh': 1107, 'sorg': 1108, '❤️': 1109, 'echli': 1110, 'per': 1111, 'weissi': 1112, 'ligg': 1113, 'aa': 1114, 'bhf': 1115, 'lohnt': 1116, 'umgeb': 1117, 'gles': 1118, 'ehm': 1119, 'hemm': 1120, 'aarau': 1121, 'schriib': 1122, 'gued': 1123, 'hahahaha': 1124, '😃': 1125, 'aha': 1126, 'heh': 1127, 'eier': 1128, 'eich': 1129, 'barn': 1130, 'gfrogt': 1131, 'blick': 1132, 'weekend': 1133, 'bem': 1134, 'channel': 1135, 'dinn': 1136, 'ehn': 1137, 'naturli': 1138, 'andern': 1139, 'geng': 1140, 'nimmsch': 1141, 'zamm': 1142, 'unterschied': 1143, 'musst': 1144, 'har': 1145, 'hock': 1146, 'franzos': 1147, 'erklar': 1148, 'bereit': 1149, 'etzt': 1150, 'wert': 1151, 'furn': 1152, 'snapchat': 1153, 'frogt': 1154, '13': 1155, 'uch': 1156, 'plotzlich': 1157, '😍😍': 1158, 'c': 1159, 'neii': 1160, 'schoggi': 1161, 'vorschlag': 1162, 'muen': 1163, 'strass': 1164, 'fruehn': 1165, 'treff': 1166, 'mir': 1167, 'chunnsch': 1168, 'won': 1169, 'imen': 1170, '20min': 1171, 'grupp': 1172, 'ame': 1173, 'badi': 1174, 'las': 1175, 'fehl': 1176, 'vorstell': 1177, 'kenned': 1178, 'traum': 1179, 'sohn': 1180, 'merkt': 1181, 'jap': 1182, 'get': 1183, 'situation': 1184, 'gno': 1185, 'uus': 1186, 'gisch': 1187, '🙊': 1188, 'unterhalt': 1189, 'penn': 1190, 'denksch': 1191, 'partn': 1192, 'ope': 1193, 'eimal': 1194, 'heimat': 1195, 'hart': 1196, 'diar': 1197, 'arschloch': 1198, 'zum': 1199, 'putz': 1200, 'start': 1201, 'logisch': 1202, 'ganzi': 1203, 'hahahah': 1204, 'sau': 1205, 'lol': 1206, 'immerhin': 1207, 'dick': 1208, 'nech': 1209, 'losch': 1210, 'nee': 1211, 'schweiz': 1212, 'suecht': 1213, 'epis': 1214, 'duu': 1215, 'spitz': 1216, '😐': 1217, 'studium': 1218, 'lass': 1219, 'schwul': 1220, 'herzig': 1221, 'spat': 1222, 'monat': 1223, 'chrank': 1224, 'iwi': 1225, 'schusch': 1226, '😝': 1227, 'ahnlich': 1228, 'glernt': 1229, 'tuur': 1230, 'immr': 1231, 'ahh': 1232, 'wiss': 1233, 'restaurant': 1234, 'jahrig': 1235, 'gag': 1236, 'mengisch': 1237, 'chamm': 1238, 'wien': 1239, 'onlin': 1240, 'gfahr': 1241, '+': 1242, '😩': 1243, 'probiert': 1244, 'fan': 1245, 'gosch': 1246, '☺': 1247, 'woh': 1248, 'gseid': 1249, '😂😂😂😂': 1250, 'nop': 1251, 'kha': 1252, 'spielt': 1253, 'iss': 1254, 'ubrig': 1255, 'verdient': 1256, 'dri': 1257, 'stress': 1258, 'herz': 1259, 'schueh': 1260, 'gell': 1261, 'choch': 1262, 'schwanz': 1263, 'frauefeld': 1264, 'grusig': 1265, 'uhr': 1266, 'postet': 1267, 'meer': 1268, 'zuefall': 1269, 'hutt': 1270, 'bestimmt': 1271, 'tatsach': 1272, 'gschrieb': 1273, 'hert': 1274, 'heb': 1275, 'wurk': 1276, 'klass': 1277, 'interessant': 1278, 'bsuech': 1279, 'bekannt': 1280, 'fu': 1281, 'gschicht': 1282, 'werded': 1283, 'sbb': 1284, 'hald': 1285, 'fruen': 1286, 'doof': 1287, 'region': 1288, 'allgemein': 1289, 'gsie': 1290, 'chlini': 1291, 'reg': 1292, 'jeda': 1293, 'fraua': 1294, 'fangt': 1295, 'usgseh': 1296, 'gfragt': 1297, '😕': 1298, 'solli': 1299, 'eue': 1300, 'kah': 1301, '40': 1302, 'schwang': 1303, 'fb': 1304, 'herr': 1305, 'deheim': 1306, '😑': 1307, 'usland': 1308, 'check': 1309, 'pc': 1310, 'beim': 1311, 'ohh': 1312, 'obi': 1313, 'zeit': 1314, 'frank': 1315, 'gsund': 1316, 'gratuli': 1317, 'kuss': 1318, 'nennt': 1319, 'kondom': 1320, 'whatsapp': 1321, 'gahn': 1322, 'gschaft': 1323, 'rest': 1324, 'schriebt': 1325, 'gsehn': 1326, 'folg': 1327, 'merk': 1328, 'vollig': 1329, 'kat': 1330, 'oich': 1331, 'fiir': 1332, 'chur': 1333, 'stond': 1334, 'simm': 1335, 'rechtig': 1336, 'mc': 1337, 'nomm': 1338, 'ziemlich': 1339, 'besti': 1340, 'freund': 1341, 'stort': 1342, 'seh': 1343, 'praktisch': 1344, 'suess': 1345, 'watt': 1346, 'milch': 1347, 'winti': 1348, 'ruhig': 1349, 'werbig': 1350, 'kanton': 1351, 'gleich': 1352, 'hoor': 1353, 'choi': 1354, 'anderst': 1355, 'fix': 1356, 'nia': 1357, 'kommt': 1358, 'katz': 1359, 'flughaf': 1360, 'wieviel': 1361, 'charakt': 1362, 'ps': 1363, 'uberleg': 1364, 'langt': 1365, 'lo': 1366, '😓': 1367, 'hotel': 1368, 'buch': 1369, 'brust': 1370, 'hanis': 1371, 'my': 1372, 'warsch': 1373, 'bruef': 1374, 'fenst': 1375, 'danka': 1376, 'fisch': 1377, 'dafur': 1378, 'stolz': 1379, 'tod': 1380, 'beni': 1381, 'konn': 1382, 'hang': 1383, 'standig': 1384, 'gd': 1385, 'kv': 1386, 'gat': 1387, 'giz': 1388, 'frueh': 1389, 'gitt': 1390, 'imn': 1391, 'derf': 1392, 'amn': 1393, 'sunn': 1394, 'vllt': 1395, 'rs': 1396, 'verkauf': 1397, 'kli': 1398, 'dasd': 1399, 'amen': 1400, 'positiv': 1401, 'fuhlt': 1402, 'august': 1403, 'nim': 1404, 'spontan': 1405, 'luft': 1406, 'zrug': 1407, 'vum': 1408, 'lost': 1409, 'komplett': 1410, 'loch': 1411, 'dummi': 1412, 'iar': 1413, 'luschtig': 1414, 'sekund': 1415, 'stimm': 1416, 'penis': 1417, 'lw': 1418, 'soviel': 1419, 'staffl': 1420, 'gschid': 1421, 'sofa': 1422, 'bueb': 1423, 'notig': 1424, 'vermiss': 1425, 'hoffent': 1426, 'dasm': 1427, 'nem': 1428, 'zh': 1429, 'gniess': 1430, 'sou': 1431, 'blibt': 1432, 'werum': 1433, 'festival': 1434, '100%': 1435, 'schwost': 1436, 'bau': 1437, 'dutschland': 1438, 'alti': 1439, 'priis': 1440, 'achtung': 1441, 'louft': 1442, 'dru': 1443, 'suechsch': 1444, 'reis': 1445, 'coiffeur': 1446, 'drbi': 1447, '👍🏻': 1448, 'zurch': 1449, 'r': 1450, 'langi': 1451, 'leer': 1452, 'hi': 1453, 'mittag': 1454, 'knapp': 1455, 'stuck': 1456, 'x': 1457, 'geb': 1458, 'lock': 1459, '😢': 1460, 'oaff': 1461, 'selt': 1462, '@': 1463, 'schritt': 1464, 'irgendwenn': 1465, 'wettsch': 1466, 'mo': 1467, 'pack': 1468, 'wint': 1469, 'lohn': 1470, 'kino': 1471, 'god': 1472, 'zviel': 1473, 'gruen': 1474, 'glac': 1475, 'agfang': 1476, 'kaffi': 1477, 'gerad': 1478, 'hsg': 1479, 'mund': 1480, 'luz': 1481, 'ohr': 1482, 'nass': 1483, 'jz': 1484, 'anonym': 1485, 'hanni': 1486, 'speziell': 1487, 'meitli': 1488, 'kennelern': 1489, 'dialekt': 1490, 'gwussi': 1491, 'video': 1492, 'gescht': 1493, 'set': 1494, 'text': 1495, 'bin': 1496, 'hamburg': 1497, 'spinn': 1498, 'deutsch': 1499, 'happy': 1500, 'oasg': 1501, 'wussed': 1502, 'total': 1503, 'gnue': 1504, 'liebt': 1505, 'fehlt': 1506, 'zwenig': 1507, 'haa': 1508, 'weck': 1509, '2017': 1510, 'lap': 1511, 'chalt': 1512, 'bwl': 1513, 'wasch': 1514, 'andersch': 1515, 'ung': 1516, 'usa': 1517, 'gheit': 1518, 'nas': 1519, 'fahrsch': 1520, 'emu': 1521, 'verbii': 1522, 'gli': 1523, 'chillig': 1524, 'cooli': 1525, 'unterweg': 1526, 'wusst': 1527, 'muessi': 1528, 'g': 1529, 'troff': 1530, '💪': 1531, 'park': 1532, 'feria': 1533, 'letschti': 1534, 'seich': 1535, 'schomol': 1536, 'steit': 1537, 'sagt': 1538, 'tind': 1539, 'ries': 1540, 'freut': 1541, 'zahlsch': 1542, 'frogsch': 1543, 'mimimi': 1544, 'viellicht': 1545, 'koch': 1546, 'unnot': 1547, 'euri': 1548, 'fend': 1549, 'starch': 1550, 'lik': 1551, 'radio': 1552, 'besser': 1553, 'brot': 1554, 'gurt': 1555, 'eper': 1556, 'math': 1557, 'nachd': 1558, 'geisch': 1559, 'dus': 1560, 'automat': 1561, 'thron': 1562, '🤔😂': 1563, 'bes': 1564, 'gess': 1565, '11': 1566, 'eme': 1567, 'vomn': 1568, 'wiu': 1569, 'alueg': 1570, 'chleid': 1571, 'haltet': 1572, 'peinlich': 1573, 'such': 1574, 'alk': 1575, 'motivation': 1576, 'hm': 1577, 'ire': 1578, 'eigentlech': 1579, 'zwusched': 1580, 'fick': 1581, 'halbi': 1582, 'lond': 1583, 'sei': 1584, 'jaja': 1585, 'gloff': 1586, 'nachricht': 1587, 'fand': 1588, 'max': 1589, 'mond': 1590, 'keni': 1591, 'thurgau': 1592, 'zimli': 1593, 'buro': 1594, 'com': 1595, 'bracht': 1596, 'brief': 1597, 'ernsthaft': 1598, 'dasch': 1599, 'vergass': 1600, 'mannlich': 1601, 'baby': 1602, 'wennt': 1603, 'fak': 1604, 'f': 1605, 'meischt': 1606, 'jogg': 1607, 'sobald': 1608, 'lit': 1609, 'fragt': 1610, 'usi': 1611, 'efach': 1612, 'liv': 1613, 'gfall': 1614, 'lif': 1615, 'drog': 1616, 'ewig': 1617, 'endi': 1618, '😫': 1619, \"'\": 1620, 'kack': 1621, '😣': 1622, 'gmuetlich': 1623, 'ums': 1624, 'egau': 1625, 'redet': 1626, 'list': 1627, '26': 1628, '😂🙈': 1629, 'test': 1630, 'usgseht': 1631, 'rein': 1632, 'wor': 1633, 'on': 1634, 'mugg': 1635, 'suechi': 1636, 'banan': 1637, 'flasch': 1638, 'lieg': 1639, 'grill': 1640, 'nurno': 1641, 'juli': 1642, 'passi': 1643, '😞': 1644, 'weu': 1645, 'drah': 1646, 'plus': 1647, 'schafft': 1648, 'mitenand': 1649, 'chend': 1650, 'ged': 1651, 'kuschl': 1652, 'fernseh': 1653, 'wei': 1654, 'stand': 1655, 'outo': 1656, 'gonn': 1657, 'burg': 1658, 'normali': 1659, 'chumi': 1660, 'hen': 1661, 'zelt': 1662, 'witzig': 1663, 'saga': 1664, 'znacht': 1665, 'wucheend': 1666, 'schuld': 1667, 'oi': 1668, 'trifft': 1669, 'krank': 1670, '👀': 1671, 'chomm': 1672, 'obig': 1673, 'ischm': 1674, 'aba': 1675, 'seged': 1676, 'verstoh': 1677, 'wurklech': 1678, 'bachelor': 1679, 'zwoi': 1680, 'black': 1681, 'empfahl': 1682, 'wuu': 1683, 'vieli': 1684, 'erwachs': 1685, 'sam': 1686, '👌🏻': 1687, 'gsehnd': 1688, 'frundschaft': 1689, 'wilsch': 1690, 'brugg': 1691, 'muehsam': 1692, 'net': 1693, 'zerscht': 1694, 'gschmack': 1695, 'fo': 1696, 'usseh': 1697, 'wg': 1698, 'mail': 1699, 'rag': 1700, 'geburtstag': 1701, 'taglich': 1702, 'muass': 1703, 'schwirig': 1704, 'wuchen': 1705, 'hetsch': 1706, 'flirtechani': 1707, 'bitch': 1708, 'schmockt': 1709, 'drufah': 1710, 'hashtag': 1711, 'bsoff': 1712, 'erfolg': 1713, '😅😂': 1714, 'seht': 1715, 'muesst': 1716, 'strand': 1717, 'ken': 1718, 'fescht': 1719, 'tanz': 1720, 'kleid': 1721, 'abelad': 1722, 'stoh': 1723, 'gald': 1724, 'polo': 1725, 'dringend': 1726, 'griff': 1727, 'salat': 1728, 'ali': 1729, 'relativ': 1730, 'okei': 1731, 'ahfang': 1732, '@10': 1733, 'drink': 1734, 'moll': 1735, 'heim': 1736, 'gstorb': 1737, 'sterb': 1738, 'fallt': 1739, 'wucha': 1740, 'denked': 1741, 'muasch': 1742, 'bechunsch': 1743, 'emn': 1744, 'schreib': 1745, 'song': 1746, 'hassig': 1747, 'grosst': 1748, 'eina': 1749, 'sucht': 1750, 'irgendwelchi': 1751, 'damal': 1752, 'sock': 1753, 'mid': 1754, 'fuhlsch': 1755, 'auno': 1756, 'verpasst': 1757, 'richtigi': 1758, 'med': 1759, 'mitti': 1760, 'bechum': 1761, 'dassd': 1762, 'gahsch': 1763, 'wohnt': 1764, 'du': 1765, '❤': 1766, 'ersti': 1767, 'blitz': 1768, 'habt': 1769, 'harzig': 1770, 'wurdet': 1771, 'gsehni': 1772, 'esh': 1773, 'ziel': 1774, 'regnet': 1775, 'debii': 1776, '🤷🏼\\u200d♀️': 1777, '👌🏼': 1778, 'gwuss': 1779, 'updat': 1780, 'foteli': 1781, 'privat': 1782, 'tut': 1783, 'lov': 1784, 'nen': 1785, 'ufmerksam': 1786, 'sem': 1787, 'pet': 1788, 'polizist': 1789, 'chash': 1790, 'jungi': 1791, 'gab': 1792, 'wiis': 1793, 'nanig': 1794, 'klappt': 1795, 'mue': 1796, 'vot': 1797, 'spar': 1798, 'tocht': 1799, 'schuch': 1800, 'sprich': 1801, 'zuekunft': 1802, 'bstell': 1803, 'muesi': 1804, 'nenn': 1805, 'gruss': 1806, 'laht': 1807, 'bewusst': 1808, 'schisst': 1809, 'idiot': 1810, 'wunderschon': 1811, 'quasi': 1812, 'tisch': 1813, 'eiget': 1814, 'walt': 1815, 'denki': 1816, 'jahrigi': 1817, 'lug': 1818, 'orang': 1819, 'drei': 1820, 'aktuell': 1821, 'balkon': 1822, 'evt': 1823, 'gras': 1824, '👍🏼': 1825, 'flach': 1826, 'usm': 1827, 'weri': 1828, 'l': 1829, 'parat': 1830, 'ov': 1831, 'wuki': 1832, 'zud': 1833, 'verchauf': 1834, 'verletzt': 1835, 'laba': 1836, 'rund': 1837, 'gwunn': 1838, 'wald': 1839, 'mast': 1840, 'seb': 1841, 'meldet': 1842, 'dan': 1843, 'koleg': 1844, 'kam': 1845, 'beleid': 1846, 'videos': 1847, 'krieg': 1848, '✌': 1849, 'produkt': 1850, 'vielleicht': 1851, '😥': 1852, 'fremd': 1853, 'akku': 1854, 'nab': 1855, 'schmerz': 1856, 'gitz': 1857, 'holl': 1858, 'chips': 1859, 'darfsch': 1860, 'truurig': 1861, 'liab': 1862, 'checkt': 1863, 'vilech': 1864, 'up': 1865, 'ufhor': 1866, 'ufstah': 1867, 'willkomm': 1868, 'franz': 1869, 'story': 1870, 'flieg': 1871, 'wirdi': 1872, 'liit': 1873, 'lg': 1874, '12i': 1875, 'losig': 1876, 'leba': 1877, 'ent': 1878, 'wured': 1879, 'somm': 1880, 'stirbt': 1881, 'abo': 1882, 'kompliziert': 1883, 'cola': 1884, 'fruh': 1885, 'hoffnig': 1886, 'kiff': 1887, '1000': 1888, 'gass': 1889, 'niveau': 1890, 'zieht': 1891, 'stellt': 1892, 'fitness': 1893, 'gemacht': 1894, 'sg': 1895, 'kostet': 1896, 'gart': 1897, 'sowiso': 1898, 'eusi': 1899, 'freundin': 1900, 'dett': 1901, '6i': 1902, 'zmach': 1903, '45': 1904, 'assessment': 1905, 'info': 1906, 'dunn': 1907, 'spil': 1908, 'isst': 1909, '28': 1910, 'hann': 1911, 'blond': 1912, 'k': 1913, 'bh': 1914, 'wersch': 1915, 'don': 1916, 'frusch': 1917, 'muul': 1918, 'mama': 1919, 'schnall': 1920, 'segi': 1921, 'why': 1922, 'kanni': 1923, 'unfall': 1924, '5i': 1925, 'uberleit': 1926, 'ko': 1927, 'steht': 1928, 'tja': 1929, 'parkplatz': 1930, '😡': 1931, 'mueh': 1932, '2-3': 1933, '60': 1934, 'kafi': 1935, 'lernt': 1936, 'duesch': 1937, 'wetti': 1938, 'frisch': 1939, 'kass': 1940, 'ussag': 1941, 'intressiert': 1942, 'aah': 1943, 'schieb': 1944, 'emol': 1945, 'tuesch': 1946, 'schono': 1947, 'ubel': 1948, 'usserd': 1949, '“': 1950, 'genial': 1951, 'erwart': 1952, 'huara': 1953, 'hus': 1954, 'chostet': 1955, 'dorfsch': 1956, 'autobahn': 1957, 'chouf': 1958, 'nd': 1959, 'friendzon': 1960, 'bstellt': 1961, 'hau': 1962, 'was': 1963, 'jep': 1964, 'mehreri': 1965, 'jemal': 1966, 'gloscht': 1967, 'tattoo': 1968, 'paus': 1969, 'verein': 1970, 'vorn': 1971, 'renn': 1972, 'une': 1973, 'nutella': 1974, 'girl': 1975, 'blas': 1976, 'natel': 1977, 'jok': 1978, 'ching': 1979, 'abschluss': 1980, 'ers': 1981, '😛': 1982, 'vogel': 1983, 'pris': 1984, 'wild': 1985, 'bekomm': 1986, 'konzert': 1987, '😍😍😍': 1988, 'band': 1989, 'tun': 1990, 'kennet': 1991, 'heissisch': 1992, 'bank': 1993, 'wii': 1994, 'real': 1995, 'haus': 1996, 'out': 1997, 'figg': 1998, 'leg': 1999, 'mind': 2000, 'mitarbeit': 2001, 'mindest': 2002, 'bmw': 2003, 'tim': 2004, 'schau': 2005, 'angscht': 2006, 'chonnti': 2007, '😅😅': 2008, 'wixx': 2009, 'attraktiv': 2010, 'fingi': 2011, 'berg': 2012, 'schiff': 2013, 'hort': 2014, 'one': 2015, 'gsellschaft': 2016, 'drauf': 2017, 'sympath': 2018, 'zama': 2019, 'schnau': 2020, 'blieb': 2021, 'aar': 2022, 'usverseh': 2023, 'itali': 2024, 'nachbar': 2025, 'gsuecht': 2026, 'lag': 2027, '200': 2028, 'telefon': 2029, 'neei': 2030, 'verdi': 2031, 'beweg': 2032, 'jugend': 2033, 'sexy': 2034, 'fakt': 2035, 'dud': 2036, 'verzellt': 2037, 'diskussion': 2038, 'glaubi': 2039, 'respekt': 2040, 'spital': 2041, 'angeri': 2042, 'wond': 2043, 'verwirrt': 2044, 'om': 2045, 'arbet': 2046, 'cod': 2047, 'gstand': 2048, 'wahrschin': 2049, 'hitz': 2050, 'wartet': 2051, 'madel': 2052, 'komischi': 2053, 'mus': 2054, 'chlii': 2055, 'ahn': 2056, '2x': 2057, 'tolli': 2058, 'schaffet': 2059, 'dor': 2060, 'morga': 2061, 'tee': 2062, 'mitneh': 2063, 'fress': 2064, 'bedutet': 2065, 'romant': 2066, 'xi': 2067, 'autos': 2068, 'zog': 2069, 'yes': 2070, 'nutzt': 2071, 'sitt': 2072, 'namal': 2073, 'niid': 2074, 'rueh': 2075, 'sound': 2076, 'aun': 2077, 'servic': 2078, 'ihrn': 2079, 'break': 2080, 'gusch': 2081, 'wechsl': 2082, 'himmel': 2083, '4i': 2084, 'dir': 2085, 'zha': 2086, 'star': 2087, 'frond': 2088, 'liegt': 2089, 'einsam': 2090, '1x': 2091, 'ebbis': 2092, 'gahd': 2093, 'ey': 2094, '😶': 2095, 'drmit': 2096, 'aner': 2097, 'firma': 2098, 'vergiss': 2099, 'wuk': 2100, 'eba': 2101, 'interessi': 2102, '3er': 2103, 'what': 2104, 'noh': 2105, 'sottsch': 2106, 'sglich': 2107, 'v': 2108, 'brutal': 2109, 'hobby': 2110, 'sgfuhl': 2111, 'erwartet': 2112, 'abend': 2113, 'traff': 2114, 'swisscom': 2115, 'trunk': 2116, 'rum': 2117, 'dena': 2118, '--': 2119, 'beidn': 2120, 'dach': 2121, 'kenneglernt': 2122, 'spiegel': 2123, 'kund': 2124, 'setz': 2125, 'erlebt': 2126, 'gsproch': 2127, 'wis': 2128, 'mussi': 2129, 'duschi': 2130, 'bruchi': 2131, 'uuf': 2132, 'kumm': 2133, 'vorteil': 2134, 'schribsch': 2135, 'gwitt': 2136, 'wared': 2137, 'gomm': 2138, 'dran': 2139, 'sozial': 2140, 'mark': 2141, 'lis': 2142, 'freiwill': 2143, 'jooo': 2144, 'wiem': 2145, 'heftig': 2146, 'woll': 2147, 'autofahr': 2148, 'stock': 2149, 'furz': 2150, 'hell': 2151, 'bluet': 2152, '80': 2153, 'wasd': 2154, 'ssj': 2155, 'down': 2156, 'nebed': 2157, 'agebot': 2158, 'ufn': 2159, 'leist': 2160, 'versteh': 2161, 'verwutscht': 2162, 'letst': 2163, 'septemb': 2164, 'aargau': 2165, 'held': 2166, 'eth': 2167, 'versuecht': 2168, 'begriff': 2169, 'amu': 2170, 'desweg': 2171, 'jedoch': 2172, 'bechunnt': 2173, 'mitemn': 2174, '🤔🤔': 2175, 'nehm': 2176, 'asiat': 2177, 'erreicht': 2178, 'win': 2179, 'verglich': 2180, 'fuessball': 2181, 'wahrschinli': 2182, 'mercii': 2183, 'grat': 2184, 'sies': 2185, 'trag': 2186, 'jed': 2187, 'entschuld': 2188, 'schwizerdutsch': 2189, 'hocksch': 2190, 'somit': 2191, 'termin': 2192, 'klaut': 2193, 'sitzt': 2194, 'typisch': 2195, 'anschin': 2196, 'nagel': 2197, 'alban': 2198, 'chlis': 2199, 'schaffa': 2200, 'wahl': 2201, '90': 2202, 'heissi': 2203, 'denket': 2204, 'lies': 2205, 'intress': 2206, 'prison': 2207, 'olt': 2208, 'chann': 2209, 'sali': 2210, 'rap': 2211, 'un': 2212, '2h': 2213, 'suff': 2214, 'sa': 2215, 'schlechti': 2216, 'back': 2217, 'fed': 2218, 'bizli': 2219, 'lahn': 2220, 'drzue': 2221, 'ai': 2222, 'pill': 2223, 'ufgfall': 2224, '@11': 2225, 'gschlecht': 2226, 'damfau': 2227, '🎉': 2228, 'fuecht': 2229, 'rappi': 2230, 'workli': 2231, 'fair': 2232, 'bach': 2233, 'big': 2234, 'huut': 2235, 'erkennt': 2236, '20i': 2237, 'baum': 2238, 'styl': 2239, 'geseh': 2240, 'eidut': 2241, 'emal': 2242, 'langet': 2243, 'rundi': 2244, 'weit': 2245, 'sotti': 2246, 'lauch': 2247, 'spani': 2248, 'glaubt': 2249, 'mom': 2250, 'mentig': 2251, 'ph': 2252, 'ghorsch': 2253, 'chat': 2254, 'jean': 2255, 'dabei': 2256, 'schnitt': 2257, 'chuchi': 2258, 'fit': 2259, 'vori': 2260, 'depression': 2261, 'drfur': 2262, 'redsch': 2263, 'riis': 2264, 'rasi': 2265, 'joor': 2266, 'ois': 2267, 'plotzli': 2268, 'studiert': 2269, 'wk': 2270, 'mull': 2271, 'naturlech': 2272, 'fruech': 2273, 'lernsch': 2274, 'roti': 2275, 'ruum': 2276, 'dont': 2277, 'hmmm': 2278, 'villech': 2279, 'abem': 2280, 'lueged': 2281, 'packli': 2282, 'ws': 2283, 'fragsch': 2284, 'hihi': 2285, 'astand': 2286, 'rock': 2287, 'meined': 2288, 'wella': 2289, 'busi': 2290, 'ihr': 2291, 'heti': 2292, 'zeich': 2293, 'chlei': 2294, 'zah': 2295, 'ging': 2296, 'fuul': 2297, 'trozd': 2298, 'grundsatz': 2299, '🙈😂': 2300, 'foreveralon': 2301, 'rat': 2302, 'spotify': 2303, 'offent': 2304, 'sosch': 2305, 'rezept': 2306, 'half': 2307, 'bruuch': 2308, 'sprach': 2309, 'zfried': 2310, 'ev': 2311, 'ironi': 2312, '🙌': 2313, 'harry': 2314, 'usbild': 2315, 'gnoh': 2316, 'zuck': 2317, 'went': 2318, 'zumind': 2319, '😂😅': 2320, 'steck': 2321, 'eppert': 2322, '27': 2323, 'umgekehrt': 2324, 'kampf': 2325, 'polit': 2326, 'benutz': 2327, 'bechunt': 2328, 'mueni': 2329, 'betrunk': 2330, 'behindert': 2331, 'breaking': 2332, 'hubschi': 2333, 'nervt': 2334, 'eimol': 2335, 'albani': 2336, 'team': 2337, 'zo': 2338, 'putzt': 2339, 'dad': 2340, 'luegi': 2341, 'www': 2342, 'kenna': 2343, 'guata': 2344, 'wahnsinn': 2345, 'swiss': 2346, 'g20': 2347, 'rapp': 2348, 'heicho': 2349, 'gym': 2350, 'zmorg': 2351, 'hoffentli': 2352, 'besseri': 2353, 'emen': 2354, 'sega': 2355, 'mitbewohn': 2356, 'machem': 2357, 'via': 2358, 'schwarzi': 2359, 'leistig': 2360, 'schlau': 2361, 'sing': 2362, 'ernahr': 2363, 'dankbar': 2364, 'passend': 2365, 'arrogant': 2366, 'legal': 2367, 'nochli': 2368, 'cousin': 2369, 'kamera': 2370, 'verhalt': 2371, 'chines': 2372, 'strom': 2373, 'rip': 2374, 'nerv': 2375, 'sy': 2376, 'm20': 2377, 'weisi': 2378, 'unglaub': 2379, 'brauch': 2380, 'training': 2381, 'ups': 2382, 'zerstort': 2383, 'nami': 2384, '18ni': 2385, 'erinner': 2386, 'korrekt': 2387, 'chonti': 2388, 'chontsch': 2389, 'hurat': 2390, 'puff': 2391, 'mac': 2392, 'troch': 2393, 'buechstab': 2394, 'chonnd': 2395, 'jungfrau': 2396, 'stei': 2397, 'bsund': 2398, 'eventuell': 2399, 'ufer': 2400, 'wlan': 2401, 'gwohnt': 2402, 'bliib': 2403, 'abstand': 2404, 'new': 2405, 'lebt': 2406, 'rugg': 2407, '🤷🏼\\u200d♂️': 2408, 'imfau': 2409, 'regelmass': 2410, 'bewerb': 2411, 't-shirt': 2412, 'fach': 2413, 'ablenk': 2414, 'opf': 2415, 'regel': 2416, 'rassist': 2417, 'daa': 2418, 'wurdsch': 2419, 'match': 2420, 'jedesmal': 2421, 'infos': 2422, 'mittwuch': 2423, 'maximilian': 2424, 'mutt': 2425, 'verbot': 2426, 'erlaubt': 2427, 'fium': 2428, 'fir': 2429, 'suuf': 2430, 'wieni': 2431, 'dritt': 2432, 'ignori': 2433, 'scham': 2434, 'noo': 2435, 'verbring': 2436, 'fragenuberfrag': 2437, 'dorfi': 2438, 'ziemli': 2439, 'ines': 2440, 'churzi': 2441, 'worda': 2442, 'endli': 2443, 'desto': 2444, 'verlur': 2445, 'lachl': 2446, 'nuut': 2447, 'minus': 2448, 'baustell': 2449, 'ids': 2450, 'oha': 2451, 'ubercho': 2452, 'irgendwas': 2453, 'chumm': 2454, 'supp': 2455, 'steu': 2456, 'verarscht': 2457, 'harz': 2458, 'nutz': 2459, '🤦🏼\\u200d♀️': 2460, 'eifacht': 2461, 'unt': 2462, '😯': 2463, 'bitzli': 2464, 'lernphas': 2465, 'chart': 2466, 'nervos': 2467, 'kaff': 2468, 'kur': 2469, 'glichi': 2470, 'sieht': 2471, 'block': 2472, 'moderator': 2473, 'schoon': 2474, 'fahl': 2475, '1-2': 2476, 'ros': 2477, 'sch': 2478, 'leck': 2479, 'kolleginn': 2480, 'degeg': 2481, 'issisch': 2482, 'einzigi': 2483, 'schloss': 2484, 'fahra': 2485, 'plotzlech': 2486, 'sms': 2487, 'saged': 2488, 'jop': 2489, 'ehe': 2490, 'notgeil': 2491, 'mod': 2492, 'mes': 2493, 'gsi😂': 2494, 'chest': 2495, 'km': 2496, 'bringsch': 2497, 'vertrau': 2498, 'europa': 2499, 'lovoo': 2500, 'besuch': 2501, 'fau': 2502, 'vermuet': 2503, 'lueget': 2504, 'reda': 2505, 'klappet': 2506, 'meini': 2507, 'tip': 2508, 'traini': 2509, 'aktiv': 2510, 'good': 2511, 'wema': 2512, 'option': 2513, 'buur': 2514, 'cheib': 2515, 'waut': 2516, 'glock': 2517, 'stor': 2518, 'darfi': 2519, 'suit': 2520, 'rucksack': 2521, 'amol': 2522, 'hing': 2523, 'bedut': 2524, 'camping': 2525, 'konto': 2526, 'your': 2527, 'gset': 2528, '🙌🏻': 2529, 'schoo': 2530, 'bruscht': 2531, 'ziet': 2532, 'ouu': 2533, 'programm': 2534, 'gend': 2535, 'mundlich': 2536, 'kalt': 2537, 'dah': 2538, 'heii': 2539, 'gsy': 2540, 'erd': 2541, 'religion': 2542, 'diskuti': 2543, 'strang': 2544, 'energi': 2545, 'usegfund': 2546, 'laptop': 2547, 'hiuft': 2548, 'spaghetti': 2549, 'bart': 2550, 'lig': 2551, 'stutz': 2552, 'drvo': 2553, 'next': 2554, 'magsch': 2555, 'suss': 2556, 'munich': 2557, '5min': 2558, 'theoret': 2559, 'drinn': 2560, 'istell': 2561, 'abgeh': 2562, 'ligt': 2563, 'druckt': 2564, 'w21': 2565, 'gegenub': 2566, 'verstond': 2567, 'ezt': 2568, 'null': 2569, '😵': 2570, 'schiint': 2571, 'panik': 2572, 'trotz': 2573, 'andi': 2574, 'guati': 2575, 'boot': 2576, 'umd': 2577, 'true': 2578, 'schwar': 2579, 'vorau': 2580, 'namli': 2581, 'glehrt': 2582, 'moss': 2583, 'ring': 2584, 'jezt': 2585, 'benutzt': 2586, 'ann': 2587, 'gmold': 2588, 'fahred': 2589, 'soooo': 2590, 'dreck': 2591, 'euchi': 2592, 'usprobi': 2593, 'mein': 2594, 'hufig': 2595, 'schriebsch': 2596, 'raus': 2597, 'amerika': 2598, 'gehort': 2599, 'trump': 2600, 'jah': 2601, 'trinkt': 2602, 'ahlueg': 2603, 'maschin': 2604, 'weish': 2605, 'auu': 2606, 'acho': 2607, '150': 2608, 'biet': 2609, 'wunscht': 2610, 'geschrieb': 2611, 'high': 2612, 'schwitz': 2613, 'erchlar': 2614, 'getrank': 2615, 'namlich': 2616, 'hb': 2617, 'dunkel': 2618, 'chomet': 2619, 'liabi': 2620, 'pott': 2621, 'lack': 2622, 'nachem': 2623, 'wahrschindli': 2624, '🤷': 2625, 'essa': 2626, 'billet': 2627, 'negst': 2628, 'hatsch': 2629, 'chf': 2630, 'artikel': 2631, 'hoh': 2632, 'gau': 2633, 'lenzburg': 2634, 'ener': 2635, 'chent': 2636, 'family': 2637, 'werom': 2638, 'brud': 2639, 'nomau': 2640, 'stur': 2641, 'gesagt': 2642, 'kontroll': 2643, 'uberhoupt': 2644, 'derbi': 2645, 'buess': 2646, 'fendi': 2647, 'verkauft': 2648, 'ans': 2649, 'versicher': 2650, 'gfueu': 2651, 'kensch': 2652, 'linkin': 2653, 'verlieb': 2654, 'decki': 2655, 'eg': 2656, 'box': 2657, '•': 2658, 'luaga': 2659, 'io': 2660, '😂👌': 2661, 'pfann': 2662, 'wochen': 2663, 'ufstoh': 2664, 'bisi': 2665, 'hutzutag': 2666, '🍻': 2667, 'doktor': 2668, 'solothurn': 2669, 'gangi': 2670, 'music': 2671, 'tram': 2672, 'hattsch': 2673, 'salz': 2674, 'wolf': 2675, 'hof': 2676, '✌🏼': 2677, 'm23': 2678, 'schwach': 2679, 'jedefall': 2680, 'tua': 2681, 'brocht': 2682, 'spazi': 2683, 'deutschland': 2684, 'umgab': 2685, 'dera': 2686, 'schiess': 2687, 'stross': 2688, 'isch😂': 2689, 'geburi': 2690, 'downgvotet': 2691, 'phas': 2692, 'regl': 2693, 'woss': 2694, 'zua': 2695, 'bruucht': 2696, 'ime': 2697, 'medi': 2698, 'gschiss': 2699, 'gefuhl': 2700, 'hockt': 2701, 'biss': 2702, 'beantwort': 2703, 'ton': 2704, 'moched': 2705, 'zellt': 2706, 'schutz': 2707, 'negativ': 2708, 'kart': 2709, 'ver': 2710, 'verarsch': 2711, 'prinzip': 2712, 'frondin': 2713, 'gschlacht': 2714, 'gschickt': 2715, 'sowit': 2716, 'ikea': 2717, '😮': 2718, 'ball': 2719, 'ge': 2720, 'flirt': 2721, 'thailand': 2722, 'mitt': 2723, 'schul': 2724, 'derfsch': 2725, 'motz': 2726, 'kopfhor': 2727, 'websit': 2728, 'ahgfang': 2729, '✌️': 2730, 'hous': 2731, 'hochdutsch': 2732, 'spricht': 2733, 'stinkt': 2734, 'cbd': 2735, 'wahri': 2736, 'ohhh': 2737, 'hahha': 2738, 'qualitat': 2739, 'zuestand': 2740, '-ich': 2741, 'normau': 2742, 'daheim': 2743, 'garag': 2744, 'wallis': 2745, 'are': 2746, 'wiblich': 2747, 'mass': 2748, 'koff': 2749, 'ever': 2750, 'tuend': 2751, 'ufreg': 2752, 'schreibt': 2753, 'gra': 2754, 'werda': 2755, 'stern': 2756, 'fingsch': 2757, 'womm': 2758, 'vier': 2759, 'gan': 2760, 'pennt': 2761, 'auss': 2762, 'genug': 2763, 'vorhar': 2764, 'ui': 2765, 'day': 2766, 'tell': 2767, 'miet': 2768, 'afo': 2769, 'eut': 2770, 'hab': 2771, 'afa': 2772, 'gfung': 2773, 'ragnet': 2774, 'grenz': 2775, 'wan': 2776, 'form': 2777, 'drom': 2778, 'ufen': 2779, '🤦🏻\\u200d♂️': 2780, 'laufsch': 2781, 'schuss': 2782, 'nani': 2783, 'if': 2784, 'tuat': 2785, 'mos': 2786, 'fuehl': 2787, 'android': 2788, 'vorus': 2789, 'zmittag': 2790, 'ed': 2791, 'last': 2792, 'oma': 2793, '3-4': 2794, 'basl': 2795, 'ussicht': 2796, 'minr': 2797, 'gschlaf': 2798, 'fucking': 2799, 'wukli': 2800}\n",
            "len content test =  3138\n",
            "index test =  0\n",
            "first row test =  300121,\"👩min vibi funktionkert nöd... 👧hesch d'batterie dri gsteckt? 👩ja, aber das isch nöd sgliiche...\"\n",
            "\n",
            "second row test =  302441,\"ich: also langsam söti scho schlafe au ich: hesch di scho mal gwundered ob all mensche all farve glich gsehnd? @oj nei machet ned alli glich vld isch mis grüen dis blau und dis rot mis schwarz vld seitmer drum adligi sind blaublüetig will s bluet eigentlich nöd rot isch, oder doch? #allesefragvodeperspektive hani mi au scho gfröged mis rechte aug gsehts scho ned genau glich wie mis lingge hemmer da es paar stoner? #stonerthoughts\"\n",
            "\n",
            "index test =  1000\n",
            "index test =  2000\n",
            "index test =  3000\n"
          ],
          "name": "stdout"
        },
        {
          "output_type": "stream",
          "text": [
            "/usr/local/lib/python3.6/dist-packages/ipykernel_launcher.py:148: VisibleDeprecationWarning: Creating an ndarray from ragged nested sequences (which is a list-or-tuple of lists-or-tuples-or ndarrays with different lengths or shapes) is deprecated. If you meant to do this, you must specify 'dtype=object' when creating the ndarray\n"
          ],
          "name": "stderr"
        }
      ]
    },
    {
      "cell_type": "markdown",
      "metadata": {
        "id": "UKt_O_QW4bnk"
      },
      "source": [
        "## Kernel Ridge Regression:"
      ]
    },
    {
      "cell_type": "code",
      "metadata": {
        "id": "qIn4VNCHWeAV"
      },
      "source": [
        "#Kernel Ridge Regression\n",
        "\n",
        "print(\"__________________________________Work with the first batch__________________________________\")\n",
        "\n",
        "#______________________Training the batch___________________________\n",
        "training_ftrs, bow, training_labels, training_IDs = Read_training(number_training_samples, 0, training_data, training_labels, training_IDs)\n",
        "#training_ftrs, bow, training_labels, training_IDs = Read_training(len(content_training), 0, training_data, training_labels, training_IDs)\n",
        "test_ftrs, test_IDs, validation_ftrs, validation_labels, validation_IDs = Read_test_and_validation(bow, validation_data, validation_labels, validation_IDs, test_data, test_labels, test_IDs)\n",
        "#test_ftrs, test_IDs, validation_ftrs, validation_labels, validation_IDs\n",
        "\n",
        "\n",
        "print(type(training_ftrs[0][0]))\n",
        "training_ftrs = np.float32(training_ftrs)\n",
        "print(type(training_ftrs[0][0]))\n",
        "\n",
        "scaled_data_train, scaled_data_validation, scaled_data_test = Normalize_data(training_ftrs, validation_ftrs, test_ftrs)\n",
        "\n",
        "#alphas = [10 ** -7, 10 ** -6, 10**-4, 10 ** -3]#, 10 ** -2, 10 ** -1]\n",
        "alphas = [10 **0, 10 **1, 10 ** -5, 10 ** -2, 10 ** -1]\n",
        "ps = [8,3]\n",
        "\n",
        "best_score = 2000000000\n",
        "best_predicted_labels_1 = []\n",
        "best_a = -2000000000\n",
        "\n",
        "for a in alphas:\n",
        "  print(\"a currently is \", a)\n",
        "  model_krr_x = 0\n",
        "  model_krr_y = 0\n",
        "  model_krr_x = KernelRidge(alpha=a, kernel='rbf')#, degree = p)\n",
        "  model_krr_y = KernelRidge(alpha=a, kernel='rbf')#, degree = p)\n",
        "\n",
        "  ############model_krr_x, model_krr_y = Train(model_krr_x, model_krr_y, scaled_data_train, training_labels)\n",
        "  train_X_scores = [line[0] for line in training_labels]\n",
        "  train_Y_scores = [line[1] for line in training_labels]\n",
        "\n",
        "  # train the models\n",
        "  print(\"training X phase...\")\n",
        "  model_krr_x.fit(scaled_data_train, train_X_scores)\n",
        "  print(\"training Y phase...\")\n",
        "  model_krr_y.fit(scaled_data_train, train_Y_scores)\n",
        "\n",
        "\n",
        "\n",
        "\n",
        "  #______________________Predicting for validation__________________________\n",
        "  print(\"predincting for X validation...\")\n",
        "  predicted_X_labels_1 = model_krr_x.predict(scaled_data_validation)\n",
        "  print(\"predicting for Y validation...\")\n",
        "  predicted_Y_labels_1 = model_krr_y.predict(scaled_data_validation)\n",
        "  print(\"predictions done!\")\n",
        "\n",
        "  #_____________________Truncate the scores (if the parameter is true)_________________\n",
        "  if truncate_predicted_scores == True:\n",
        "    predicted_X_labels_1, predicted_Y_labels_1 = truncate_scores(predicted_X_labels_1, predicted_Y_labels_1)\n",
        "\n",
        "  #getting the score\n",
        "  #predicted_labels_1 = np.array([[predicted_X_labels_1[i], predicted_Y_labels_1[i]] for i in range(len(predicted_X_labels_1))])\n",
        "  predicted_labels_1 = []\n",
        "  for i in range(len(predicted_X_labels_1)):\n",
        "    predicted_labels_1.append([predicted_X_labels_1[i], predicted_Y_labels_1[i]])\n",
        "  predicted_labels_1 = np.array(predicted_labels_1)\n",
        "  score = compute_score(predicted_labels_1, validation_labels)\n",
        "\n",
        "  print(\"\\n\\n\\ncurrent score is \", score, \" and the best score, without this one, was \", best_score, \"\\n\\n\\n\")\n",
        "\n",
        "\n",
        "  #______________________Predicting for test__________________________\n",
        "  print(\"predincting for X test...\")\n",
        "  predicted_X_labels_1 = model_krr_x.predict(scaled_data_test)\n",
        "  print(\"predicting for Y test...\")\n",
        "  predicted_Y_labels_1 = model_krr_y.predict(scaled_data_test)\n",
        "  print(\"predictions done!\")\n",
        "\n",
        "  #_____________________Truncate the scores (if the parameter is true)_________________\n",
        "  if truncate_predicted_scores == True:\n",
        "    predicted_X_labels_1, predicted_Y_labels_1 = truncate_scores(predicted_X_labels_1, predicted_Y_labels_1)\n",
        "\n",
        "  nume_fisier = \"score=\" + str(score) + \"krr_a=\" + str(a) + \"_remove_stopwords=True\" + \"stemming=\" + str(stemming)\n",
        "  f = open('/content/drive/MyDrive/Master AI/First Year/Semester 1/PML/Predictions/' + nume_fisier + '.txt', \"a\")\n",
        "  string_to_print = convert_to_printable_string(predicted_X_labels_1, predicted_Y_labels_1)\n",
        "  if score<1.5:\n",
        "    f.write(string_to_print)\n",
        "  f.close()\n",
        "\n",
        "  if score<best_score:\n",
        "    best_score = score\n",
        "    best_predicted_labels_1 = predicted_labels_1\n",
        "    best_a = a\n",
        "\n",
        "print(\"best a 1 = \", best_a)\n",
        "\n",
        "'''La gunoi cu celelalte batch-uri, nu ne trebuie\n",
        "print(\"__________________________________Work with the second batch__________________________________\")\n",
        "#______________________Training the batch___________________________\n",
        "training_ftrs, bow, training_labels, training_IDs = Read_training(11000, 11001, training_data, training_labels, training_IDs)\n",
        "test_ftrs, validation_ftrs, validation_labels, validation_IDs = Read_test_and_validation(bow, validation_data, validation_labels, validation_IDs, test_data, test_labels, test_IDs)\n",
        "\n",
        "scaled_data_train, scaled_data_validation = Normalize_data(training_ftrs, validation_ftrs)\n",
        "\n",
        "alphas = [10 ** -5, 10 ** -4, 10 ** -3, 10 ** -2, 10 ** -1]\n",
        "ps = [3,2]\n",
        "\n",
        "best_score = 2000000000\n",
        "best_predicted_labels_3 = []\n",
        "best_p = -2000000000\n",
        "\n",
        "for p in ps:\n",
        "  a = 10 ** -5\n",
        "  print(\"currently p is \", p)\n",
        "  model_krr_x = 0\n",
        "  model_krr_y = 0\n",
        "  model_krr_x = KernelRidge(alpha=a, kernel='polynomial', degree = p)\n",
        "  model_krr_y = KernelRidge(alpha=a, kernel='polynomial', degree = p)\n",
        "\n",
        "  ######model_krr_x, model_krr_y = Train(model_krr_x, model_krr_y, scaled_data_train, training_labels)\n",
        "  train_X_scores = [line[0] for line in training_labels]\n",
        "  train_Y_scores = [line[1] for line in training_labels]\n",
        "\n",
        "  # train the models\n",
        "  print(\"training X phase...\")\n",
        "  model_krr_x.fit(scaled_data_train, train_X_scores)\n",
        "  print(\"training Y phase...\")\n",
        "  model_krr_y.fit(scaled_data_train, train_Y_scores)\n",
        "\n",
        "  #______________________Predicting#1__________________________\n",
        "  print(\"predincting for validation in X...\")\n",
        "  predicted_X_labels_2 = model_krr_x.predict(scaled_data_validation)\n",
        "  print(\"predicting for Y...\")\n",
        "  predicted_Y_labels_2 = model_krr_y.predict(scaled_data_validation)\n",
        "  print(\"predictions done!\")\n",
        "\n",
        "\n",
        "  #getting the score\n",
        "  predicted_labels_2 = np.array([[predicted_X_labels_2[i], predicted_Y_labels_2[i]] for i in range(len(predicted_X_labels_2))])\n",
        "  score = compute_score(predicted_labels_2, validation_labels)\n",
        "\n",
        "  print(\"\\n\\n\\ncurrent score is \", score, \" and the best score, without this one, was \", best_score, \"\\n\\n\\n\")\n",
        "\n",
        "  if score<best_score:\n",
        "    best_score = score\n",
        "    best_predicted_labels_2 = predicted_labels_2\n",
        "    best_p = p\n",
        "print(\"best p 2 = \", best_p)\n",
        "\n",
        "print(\"__________________________________Work with the third batch__________________________________\")\n",
        "\n",
        "#______________________Training the batch___________________________\n",
        "training_ftrs, bow, training_labels, training_IDs = Read_training(6500, 2*6500, training_data, training_labels, training_IDs)\n",
        "test_ftrs, validation_ftrs, validation_labels, validation_IDs = Read_test_and_validation(bow, validation_data, validation_labels, validation_IDs, test_data, test_labels, test_IDs)\n",
        "\n",
        "scaled_data_train, scaled_data_validation = Normalize_data(training_ftrs, validation_ftrs)\n",
        "\n",
        "alphas = [10 ** -5, 10 ** -4, 10 ** -3, 10 ** -2, 10 ** -1]\n",
        "ps = [3,2]\n",
        "\n",
        "best_score = 2000000000\n",
        "best_predicted_labels_3 = []\n",
        "best_p = -2000000000\n",
        "\n",
        "for p in ps:\n",
        "  a = 10 ** -5\n",
        "  print(\"currently p is \", p)\n",
        "  model_krr_x = 0\n",
        "  model_krr_y = 0\n",
        "  model_krr_x = KernelRidge(alpha=a, kernel='polynomial', degree = p)\n",
        "  model_krr_y = KernelRidge(alpha=a, kernel='polynomial', degree = p)\n",
        "\n",
        "  ######model_krr_x, model_krr_y = Train(model_krr_x, model_krr_y, scaled_data_train, training_labels)\n",
        "  train_X_scores = [line[0] for line in training_labels]\n",
        "  train_Y_scores = [line[1] for line in training_labels]\n",
        "\n",
        "  # train the models\n",
        "  print(\"training X phase...\")\n",
        "  model_krr_x.fit(scaled_data_train, train_X_scores)\n",
        "  print(\"training Y phase...\")\n",
        "  model_krr_y.fit(scaled_data_train, train_Y_scores)\n",
        "\n",
        "  #______________________Predicting#3__________________________\n",
        "  print(\"predincting for X...\")\n",
        "  predicted_X_labels_3 = model_krr_x.predict(scaled_data_validation)\n",
        "  print(\"predicting for Y...\")\n",
        "  predicted_Y_labels_3 = model_krr_y.predict(scaled_data_validation)\n",
        "  print(\"predictions done!\")\n",
        "\n",
        "\n",
        "  #getting the score\n",
        "  predicted_labels_3 = np.array([[predicted_X_labels_3[i], predicted_Y_labels_3[i]] for i in range(len(predicted_X_labels_1))])\n",
        "  score = compute_score(predicted_labels_3, validation_labels)\n",
        "\n",
        "  print(\"\\n\\n\\ncurrent score is \", score, \" and the best score, without this one, was \", best_score, \"\\n\\n\\n\")\n",
        "\n",
        "  if score<best_score:\n",
        "    best_score = score\n",
        "    best_predicted_labels_3 = predicted_labels_3\n",
        "    best_p = p\n",
        "\n",
        "print(\"best p 3 = \", best_p)\n",
        "'''\n",
        "\n"
      ],
      "execution_count": null,
      "outputs": []
    },
    {
      "cell_type": "code",
      "metadata": {
        "id": "9ob30vgmYP1x"
      },
      "source": [
        "3"
      ],
      "execution_count": null,
      "outputs": []
    },
    {
      "cell_type": "markdown",
      "metadata": {
        "id": "VA9E4WuC4iUm"
      },
      "source": [
        "## K nearest Neighbours Regression:"
      ]
    },
    {
      "cell_type": "code",
      "metadata": {
        "id": "owM1dLgFGiZk"
      },
      "source": [
        "#K Nearest Neighbours\n",
        "\n",
        "print(\"__________________________________Work with the first batch__________________________________\")\n",
        "\n",
        "#______________________Training the batch___________________________\n",
        "training_ftrs, bow, training_labels, training_IDs = Read_training(number_training_samples, 0, training_data, training_labels, training_IDs)\n",
        "#training_ftrs, bow, training_labels, training_IDs = Read_training(len(content_training), 0, training_data, training_labels, training_IDs)\n",
        "test_ftrs, test_IDs, validation_ftrs, validation_labels, validation_IDs = Read_test_and_validation(bow, validation_data, validation_labels, validation_IDs, test_data, test_labels, test_IDs)\n",
        "#test_ftrs, test_IDs, validation_ftrs, validation_labels, validation_IDs\n",
        "\n",
        "\n",
        "print(type(training_ftrs[0][0]))\n",
        "training_ftrs = np.float32(training_ftrs)\n",
        "print(type(training_ftrs[0][0]))\n",
        "\n",
        "scaled_data_train, scaled_data_validation, scaled_data_test = Normalize_data(training_ftrs, validation_ftrs, test_ftrs)\n",
        "\n",
        "nghs = [10, 50, 100, 200]\n",
        "\n",
        "best_score = 2000000000\n",
        "best_predicted_labels_1 = []\n",
        "best_ngh = -2000000000\n",
        "\n",
        "for ngh in nghs:\n",
        "  print(\"ngh currently is \", ngh)\n",
        "  model_knn_x = 0\n",
        "  model_knn_y = 0\n",
        "  model_knn_x = KNeighborsRegressor(n_neighbors=ngh, algorithm='kd_tree', weights='distance')\n",
        "  model_knn_y = KNeighborsRegressor(n_neighbors=ngh, algorithm='kd_tree', weights='distance')\n",
        "\n",
        "  ############model_krr_x, model_krr_y = Train(model_krr_x, model_krr_y, scaled_data_train, training_labels)\n",
        "  train_X_scores = [line[0] for line in training_labels]\n",
        "  train_Y_scores = [line[1] for line in training_labels]\n",
        "\n",
        "  # train the models\n",
        "  print(\"training X phase...\")\n",
        "  model_knn_x.fit(scaled_data_train, train_X_scores)\n",
        "  print(\"training Y phase...\")\n",
        "  model_knn_y.fit(scaled_data_train, train_Y_scores)\n",
        "\n",
        "\n",
        "\n",
        "\n",
        "  #______________________Predicting for validation__________________________\n",
        "  print(\"predincting for X validation...\")\n",
        "  predicted_X_labels_1 = model_knn_x.predict(scaled_data_validation)\n",
        "  print(\"predicting for Y validation...\")\n",
        "  predicted_Y_labels_1 = model_knn_y.predict(scaled_data_validation)\n",
        "  print(\"predictions done!\")\n",
        "\n",
        "  #_____________________Truncate the scores (if the parameter is true)_________________\n",
        "  if truncate_predicted_scores == True:\n",
        "    predicted_X_labels_1, predicted_Y_labels_1 = truncate_scores(predicted_X_labels_1, predicted_Y_labels_1)\n",
        "\n",
        "  #getting the score\n",
        "  predicted_labels_1 = []\n",
        "  for i in range(len(predicted_X_labels_1)):\n",
        "    predicted_labels_1.append([predicted_X_labels_1[i], predicted_Y_labels_1[i]])\n",
        "  predicted_labels_1 = np.array(predicted_labels_1)\n",
        "  score = compute_score(predicted_labels_1, validation_labels)\n",
        "\n",
        "  print(\"\\n\\n\\ncurrent score is \", score, \" and the best score, without this one, was \", best_score, \"\\n\\n\\n\")\n",
        "\n",
        "\n",
        "  #______________________Predicting for test__________________________\n",
        "  print(\"predincting for X test...\")\n",
        "  predicted_X_labels_1 = model_knn_x.predict(scaled_data_test)\n",
        "  print(\"predicting for Y test...\")\n",
        "  predicted_Y_labels_1 = model_knn_y.predict(scaled_data_test)\n",
        "  print(\"predictions done!\")\n",
        "\n",
        "  #_____________________Truncate the scores (if the parameter is true)_________________\n",
        "  if truncate_predicted_scores == True:\n",
        "    predicted_X_labels_1, predicted_Y_labels_1 = truncate_scores(predicted_X_labels_1, predicted_Y_labels_1)\n",
        "\n",
        "  nume_fisier = \"score=\" + str(score) + \"knn_ngh=\" + str(ngh) + \"_remove_stopwords=True\" + \"stemming=\" + str(stemming)\n",
        "  f = open('/content/drive/MyDrive/Master AI/First Year/Semester 1/PML/Predictions/' + nume_fisier + '.txt', \"a\")\n",
        "  string_to_print = convert_to_printable_string(predicted_X_labels_1, predicted_Y_labels_1)\n",
        "  if score<1.5:\n",
        "    f.write(string_to_print)\n",
        "  f.close()\n",
        "\n",
        "  if score<best_score:\n",
        "    best_score = score\n",
        "    best_predicted_labels_1 = predicted_labels_1\n",
        "    best_ngh = ngh\n",
        "\n",
        "print(\"best ngh = \", best_ngh)\n",
        "\n",
        "'''\n",
        "\n",
        "print(\"__________________________________Work with the second batch__________________________________\")\n",
        "#______________________Training the batch___________________________\n",
        "training_ftrs, bow, training_labels, training_IDs = Read_training(6500, 6500, training_data, training_labels, training_IDs)\n",
        "test_ftrs, validation_ftrs, validation_labels, validation_IDs = Read_test_and_validation(bow, validation_data, validation_labels, validation_IDs, test_data, test_labels, test_IDs)\n",
        "\n",
        "scaled_data_train, scaled_data_validation = Normalize_data(training_ftrs, validation_ftrs)\n",
        "\n",
        "neighbours = [100, 300, 500]\n",
        "\n",
        "best_score = 2000000000\n",
        "best_predicted_labels_1 = []\n",
        "best_nhg = -2000000000\n",
        "\n",
        "for nb_ngh in neighbours:\n",
        "  print(\"currently nb_ngh is \", nb_ngh)\n",
        "\n",
        "  model_knn_x = KNeighborsRegressor(n_neighbors=nb_ngh)\n",
        "  model_knn_y = KNeighborsRegressor(n_neighbors=nb_ngh)\n",
        "\n",
        "  ############model_krr_x, model_krr_y = Train(model_krr_x, model_krr_y, scaled_data_train, training_labels)\n",
        "  train_X_scores = [line[0] for line in training_labels]\n",
        "  train_Y_scores = [line[1] for line in training_labels]\n",
        "\n",
        "  # train the models\n",
        "  print(\"training X phase...\")\n",
        "  model_knn_x.fit(scaled_data_train, train_X_scores)\n",
        "  print(\"training Y phase...\")\n",
        "  model_knn_y.fit(scaled_data_train, train_Y_scores)\n",
        "\n",
        "  #______________________Predicting#1__________________________\n",
        "  print(\"predincting for validation in X...\")\n",
        "  predicted_X_labels_2 = model_knn_x.predict(scaled_data_validation)\n",
        "  print(\"predicting for Y...\")\n",
        "  predicted_Y_labels_2 = model_knn_y.predict(scaled_data_validation)\n",
        "  print(\"predictions done!\")\n",
        "\n",
        "\n",
        "  #getting the score\n",
        "  predicted_labels_2 = np.array([[predicted_X_labels_2[i], predicted_Y_labels_2[i]] for i in range(len(predicted_X_labels_2))])\n",
        "  score = compute_score(predicted_labels_2, validation_labels)\n",
        "\n",
        "  print(\"\\n\\n\\ncurrent score is \", score, \" and the best score, without this one, was \", best_score, \"\\n\\n\\n\")\n",
        "\n",
        "  if score<best_score:\n",
        "    best_score = score\n",
        "    best_predicted_labels_1 = predicted_labels_1\n",
        "    best_ngh = nb_ngh\n",
        "\n",
        "print(\"best ngh 2 = \", best_ngh)\n",
        "\n",
        "print(\"__________________________________Work with the third batch__________________________________\")\n",
        "\n",
        "#______________________Training the batch___________________________\n",
        "training_ftrs, bow, training_labels, training_IDs = Read_training(6500, 2*6500, training_data, training_labels, training_IDs)\n",
        "test_ftrs, validation_ftrs, validation_labels, validation_IDs = Read_test_and_validation(bow, validation_data, validation_labels, validation_IDs, test_data, test_labels, test_IDs)\n",
        "\n",
        "scaled_data_train, scaled_data_validation = Normalize_data(training_ftrs, validation_ftrs)\n",
        "\n",
        "neighbours = [100, 300, 500]\n",
        "\n",
        "best_score = 2000000000\n",
        "best_predicted_labels_1 = []\n",
        "best_nhg = -2000000000\n",
        "\n",
        "for nb_ngh in neighbours:\n",
        "  print(\"currently nb_ngh is \", nb_ngh)\n",
        "\n",
        "  model_knn_x = KNeighborsRegressor(n_neighbors=nb_ngh)\n",
        "  model_knn_y = KNeighborsRegressor(n_neighbors=nb_ngh)\n",
        "\n",
        "  ############model_krr_x, model_krr_y = Train(model_krr_x, model_krr_y, scaled_data_train, training_labels)\n",
        "  train_X_scores = [line[0] for line in training_labels]\n",
        "  train_Y_scores = [line[1] for line in training_labels]\n",
        "\n",
        "  # train the models\n",
        "  print(\"training X phase...\")\n",
        "  model_knn_x.fit(scaled_data_train, train_X_scores)\n",
        "  print(\"training Y phase...\")\n",
        "  model_knn_y.fit(scaled_data_train, train_Y_scores)\n",
        "  #______________________Predicting#3__________________________\n",
        "  print(\"predincting for X...\")\n",
        "  predicted_X_labels_3 = model_knn_x.predict(scaled_data_validation)\n",
        "  print(\"predicting for Y...\")\n",
        "  predicted_Y_labels_3 = model_knn_y.predict(scaled_data_validation)\n",
        "  print(\"predictions done!\")\n",
        "\n",
        "\n",
        "  #getting the score\n",
        "  predicted_labels_3 = np.array([[predicted_X_labels_3[i], predicted_Y_labels_3[i]] for i in range(len(predicted_X_labels_1))])\n",
        "  score = compute_score(predicted_labels_3, validation_labels)\n",
        "\n",
        "  print(\"\\n\\n\\ncurrent score is \", score, \" and the best score, without this one, was \", best_score, \"\\n\\n\\n\")\n",
        "\n",
        "  if score<best_score:\n",
        "    best_score = score\n",
        "    best_predicted_labels_1 = predicted_labels_1\n",
        "    best_ngh = nb_ngh\n",
        "\n",
        "print(\"best ngh 3 = \", best_ngh)\n",
        "\n",
        "'''"
      ],
      "execution_count": null,
      "outputs": []
    },
    {
      "cell_type": "markdown",
      "metadata": {
        "id": "X7R9uesr97NB"
      },
      "source": [
        "## Random Forest:"
      ]
    },
    {
      "cell_type": "code",
      "metadata": {
        "colab": {
          "base_uri": "https://localhost:8080/"
        },
        "id": "nLqph5UK96vb",
        "outputId": "c0432a5b-1163-44c2-a058-6a34ca60b4a1"
      },
      "source": [
        "#Random Forest\n",
        "\n",
        "\n",
        "print(type(training_ftrs[0][0]))\n",
        "training_ftrs = np.float32(training_ftrs)\n",
        "print(type(training_ftrs[0][0]))\n",
        "\n",
        "scaled_data_train, scaled_data_validation, scaled_data_test = Normalize_data(training_ftrs, validation_ftrs, test_ftrs)\n",
        "\n",
        "estimators = [500]#also 10?\n",
        "\n",
        "best_score = 2000000000\n",
        "best_predicted_labels_1 = []\n",
        "best_estim = -2000000000\n",
        "\n",
        "for estim in estimators:\n",
        "  print(\"estim currently is \", estim)\n",
        "  model_rfr_x = 0\n",
        "  model_rfr_x = RandomForestRegressor(n_estimators=estim, verbose=1, n_jobs=1, warm_start=True)\n",
        "  model_rfr_y = RandomForestRegressor(n_estimators=estim, verbose=1, n_jobs=1, warm_start=True)#criterion='mae'\n",
        "\n",
        "  ############model_krr_x, model_krr_y = Train(model_krr_x, model_krr_y, scaled_data_train, training_labels)\n",
        "  train_X_scores = [line[0] for line in training_labels]\n",
        "  train_Y_scores = [line[1] for line in training_labels]\n",
        "\n",
        "  # train the models\n",
        "  print(\"training X phase...\")\n",
        "  model_rfr_x.fit(scaled_data_train, train_X_scores)\n",
        "  print(\"training Y phase...\")\n",
        "  model_rfr_y.fit(scaled_data_train, train_Y_scores)\n",
        "\n",
        "\n",
        "\n",
        "\n",
        "  #______________________Predicting for validation__________________________\n",
        "  print(\"predincting for X validation...\")\n",
        "  predicted_X_labels_1 = model_rfr_x.predict(scaled_data_validation)\n",
        "  print(\"predicting for Y validation...\")\n",
        "  predicted_Y_labels_1 = model_rfr_y.predict(scaled_data_validation)\n",
        "  print(\"predictions done!\")\n",
        "\n",
        "  #_____________________Truncate the scores (if the parameter is true)_________________\n",
        "  if truncate_predicted_scores == True:\n",
        "    predicted_X_labels_1, predicted_Y_labels_1 = truncate_scores(predicted_X_labels_1, predicted_Y_labels_1)\n",
        "\n",
        "  #getting the score\n",
        "  predicted_labels_1 = []\n",
        "  for i in range(len(predicted_X_labels_1)):\n",
        "    predicted_labels_1.append([predicted_X_labels_1[i], predicted_Y_labels_1[i]])\n",
        "  predicted_labels_1 = np.array(predicted_labels_1)\n",
        "  score = compute_score(predicted_labels_1, validation_labels)\n",
        "\n",
        "  print(\"\\n\\n\\ncurrent score is \", score, \" and the best score, without this one, was \", best_score, \"\\n\\n\\n\")\n",
        "\n",
        "\n",
        "  #______________________Predicting for test__________________________\n",
        "  print(\"predincting for X test...\")\n",
        "  predicted_X_labels_1 = model_rfr_x.predict(scaled_data_test)\n",
        "  print(\"predicting for Y test...\")\n",
        "  predicted_Y_labels_1 = model_rfr_y.predict(scaled_data_test)\n",
        "  print(\"predictions done!\")\n",
        "\n",
        "  #_____________________Truncate the scores (if the parameter is true)_________________\n",
        "  if truncate_predicted_scores == True:\n",
        "    predicted_X_labels_1, predicted_Y_labels_1 = truncate_scores(predicted_X_labels_1, predicted_Y_labels_1)\n",
        "\n",
        "  nume_fisier = \"score=\" + str(score) + \"rfr_estim=\" + str(estim) + \"_remove_stopwords=True\" + \"stemming=\" + str(stemming)\n",
        "  f = open('/content/drive/MyDrive/Master AI/First Year/Semester 1/PML/Predictions/' + nume_fisier + '.txt', \"a\")\n",
        "  string_to_print = convert_to_printable_string(predicted_X_labels_1, predicted_Y_labels_1)\n",
        "  if score<1.4:\n",
        "    f.write(string_to_print)\n",
        "  f.close()\n",
        "\n",
        "  if score<best_score:\n",
        "    best_score = score\n",
        "    best_predicted_labels_1 = predicted_labels_1\n",
        "    best_estim = estim\n",
        "\n",
        "print(\"best estim = \", best_estim)\n"
      ],
      "execution_count": null,
      "outputs": [
        {
          "output_type": "stream",
          "text": [
            "<class 'numpy.float32'>\n",
            "<class 'numpy.float32'>\n",
            "1.0\n",
            "0.0006559493\n",
            "0.00065651315\n",
            "shape scaled data train (22583, 2801)\n",
            "estim currently is  500\n",
            "training X phase...\n"
          ],
          "name": "stdout"
        },
        {
          "output_type": "stream",
          "text": [
            "[Parallel(n_jobs=1)]: Using backend SequentialBackend with 1 concurrent workers.\n",
            "[Parallel(n_jobs=1)]: Done 500 out of 500 | elapsed: 194.6min finished\n"
          ],
          "name": "stderr"
        },
        {
          "output_type": "stream",
          "text": [
            "training Y phase...\n"
          ],
          "name": "stdout"
        },
        {
          "output_type": "stream",
          "text": [
            "[Parallel(n_jobs=1)]: Using backend SequentialBackend with 1 concurrent workers.\n"
          ],
          "name": "stderr"
        }
      ]
    },
    {
      "cell_type": "markdown",
      "metadata": {
        "id": "KhBTZ0VrlAlU"
      },
      "source": [
        "## BERT:"
      ]
    },
    {
      "cell_type": "code",
      "metadata": {
        "colab": {
          "base_uri": "https://localhost:8080/"
        },
        "id": "wBZGq6YUpKxD",
        "outputId": "83dfed38-dd4d-4a73-c989-25c90b30061c"
      },
      "source": [
        "!pip install simpletransformers"
      ],
      "execution_count": null,
      "outputs": [
        {
          "output_type": "stream",
          "text": [
            "Requirement already satisfied: simpletransformers in /usr/local/lib/python3.6/dist-packages (0.51.9)\n",
            "Requirement already satisfied: pandas in /usr/local/lib/python3.6/dist-packages (from simpletransformers) (1.1.5)\n",
            "Requirement already satisfied: scikit-learn in /usr/local/lib/python3.6/dist-packages (from simpletransformers) (0.22.2.post1)\n",
            "Requirement already satisfied: wandb in /usr/local/lib/python3.6/dist-packages (from simpletransformers) (0.10.12)\n",
            "Requirement already satisfied: scipy in /usr/local/lib/python3.6/dist-packages (from simpletransformers) (1.4.1)\n",
            "Requirement already satisfied: seqeval in /usr/local/lib/python3.6/dist-packages (from simpletransformers) (1.2.2)\n",
            "Requirement already satisfied: tensorboardx in /usr/local/lib/python3.6/dist-packages (from simpletransformers) (2.1)\n",
            "Requirement already satisfied: tokenizers in /usr/local/lib/python3.6/dist-packages (from simpletransformers) (0.9.4)\n",
            "Requirement already satisfied: tqdm>=4.47.0 in /usr/local/lib/python3.6/dist-packages (from simpletransformers) (4.55.1)\n",
            "Requirement already satisfied: transformers>=4.0.0 in /usr/local/lib/python3.6/dist-packages (from simpletransformers) (4.1.1)\n",
            "Requirement already satisfied: numpy in /usr/local/lib/python3.6/dist-packages (from simpletransformers) (1.19.4)\n",
            "Requirement already satisfied: regex in /usr/local/lib/python3.6/dist-packages (from simpletransformers) (2019.12.20)\n",
            "Requirement already satisfied: sentencepiece in /usr/local/lib/python3.6/dist-packages (from simpletransformers) (0.1.94)\n",
            "Requirement already satisfied: requests in /usr/local/lib/python3.6/dist-packages (from simpletransformers) (2.23.0)\n",
            "Requirement already satisfied: streamlit in /usr/local/lib/python3.6/dist-packages (from simpletransformers) (0.73.1)\n",
            "Requirement already satisfied: pytz>=2017.2 in /usr/local/lib/python3.6/dist-packages (from pandas->simpletransformers) (2018.9)\n",
            "Requirement already satisfied: python-dateutil>=2.7.3 in /usr/local/lib/python3.6/dist-packages (from pandas->simpletransformers) (2.8.1)\n",
            "Requirement already satisfied: joblib>=0.11 in /usr/local/lib/python3.6/dist-packages (from scikit-learn->simpletransformers) (1.0.0)\n",
            "Requirement already satisfied: subprocess32>=3.5.3 in /usr/local/lib/python3.6/dist-packages (from wandb->simpletransformers) (3.5.4)\n",
            "Requirement already satisfied: watchdog>=0.8.3 in /usr/local/lib/python3.6/dist-packages (from wandb->simpletransformers) (1.0.2)\n",
            "Requirement already satisfied: docker-pycreds>=0.4.0 in /usr/local/lib/python3.6/dist-packages (from wandb->simpletransformers) (0.4.0)\n",
            "Requirement already satisfied: GitPython>=1.0.0 in /usr/local/lib/python3.6/dist-packages (from wandb->simpletransformers) (3.1.11)\n",
            "Requirement already satisfied: shortuuid>=0.5.0 in /usr/local/lib/python3.6/dist-packages (from wandb->simpletransformers) (1.0.1)\n",
            "Requirement already satisfied: psutil>=5.0.0 in /usr/local/lib/python3.6/dist-packages (from wandb->simpletransformers) (5.4.8)\n",
            "Requirement already satisfied: PyYAML in /usr/local/lib/python3.6/dist-packages (from wandb->simpletransformers) (3.13)\n",
            "Requirement already satisfied: configparser>=3.8.1 in /usr/local/lib/python3.6/dist-packages (from wandb->simpletransformers) (5.0.1)\n",
            "Requirement already satisfied: six>=1.13.0 in /usr/local/lib/python3.6/dist-packages (from wandb->simpletransformers) (1.15.0)\n",
            "Requirement already satisfied: sentry-sdk>=0.4.0 in /usr/local/lib/python3.6/dist-packages (from wandb->simpletransformers) (0.19.5)\n",
            "Requirement already satisfied: protobuf>=3.12.0 in /usr/local/lib/python3.6/dist-packages (from wandb->simpletransformers) (3.12.4)\n",
            "Requirement already satisfied: promise<3,>=2.0 in /usr/local/lib/python3.6/dist-packages (from wandb->simpletransformers) (2.3)\n",
            "Requirement already satisfied: Click>=7.0 in /usr/local/lib/python3.6/dist-packages (from wandb->simpletransformers) (7.1.2)\n",
            "Requirement already satisfied: filelock in /usr/local/lib/python3.6/dist-packages (from transformers>=4.0.0->simpletransformers) (3.0.12)\n",
            "Requirement already satisfied: packaging in /usr/local/lib/python3.6/dist-packages (from transformers>=4.0.0->simpletransformers) (20.8)\n",
            "Requirement already satisfied: dataclasses; python_version < \"3.7\" in /usr/local/lib/python3.6/dist-packages (from transformers>=4.0.0->simpletransformers) (0.8)\n",
            "Requirement already satisfied: sacremoses in /usr/local/lib/python3.6/dist-packages (from transformers>=4.0.0->simpletransformers) (0.0.43)\n",
            "Requirement already satisfied: chardet<4,>=3.0.2 in /usr/local/lib/python3.6/dist-packages (from requests->simpletransformers) (3.0.4)\n",
            "Requirement already satisfied: urllib3!=1.25.0,!=1.25.1,<1.26,>=1.21.1 in /usr/local/lib/python3.6/dist-packages (from requests->simpletransformers) (1.24.3)\n",
            "Requirement already satisfied: certifi>=2017.4.17 in /usr/local/lib/python3.6/dist-packages (from requests->simpletransformers) (2020.12.5)\n",
            "Requirement already satisfied: idna<3,>=2.5 in /usr/local/lib/python3.6/dist-packages (from requests->simpletransformers) (2.10)\n",
            "Requirement already satisfied: validators in /usr/local/lib/python3.6/dist-packages (from streamlit->simpletransformers) (0.18.2)\n",
            "Requirement already satisfied: pydeck>=0.1.dev5 in /usr/local/lib/python3.6/dist-packages (from streamlit->simpletransformers) (0.5.0)\n",
            "Requirement already satisfied: altair>=3.2.0 in /usr/local/lib/python3.6/dist-packages (from streamlit->simpletransformers) (4.1.0)\n",
            "Requirement already satisfied: base58 in /usr/local/lib/python3.6/dist-packages (from streamlit->simpletransformers) (2.0.1)\n",
            "Requirement already satisfied: tzlocal in /usr/local/lib/python3.6/dist-packages (from streamlit->simpletransformers) (1.5.1)\n",
            "Requirement already satisfied: blinker in /usr/local/lib/python3.6/dist-packages (from streamlit->simpletransformers) (1.4)\n",
            "Requirement already satisfied: toml in /usr/local/lib/python3.6/dist-packages (from streamlit->simpletransformers) (0.10.2)\n",
            "Requirement already satisfied: tornado>=5.0 in /usr/local/lib/python3.6/dist-packages (from streamlit->simpletransformers) (5.1.1)\n",
            "Requirement already satisfied: astor in /usr/local/lib/python3.6/dist-packages (from streamlit->simpletransformers) (0.8.1)\n",
            "Requirement already satisfied: cachetools>=4.0 in /usr/local/lib/python3.6/dist-packages (from streamlit->simpletransformers) (4.2.0)\n",
            "Requirement already satisfied: pillow>=6.2.0 in /usr/local/lib/python3.6/dist-packages (from streamlit->simpletransformers) (7.0.0)\n",
            "Requirement already satisfied: pyarrow; python_version < \"3.9\" in /usr/local/lib/python3.6/dist-packages (from streamlit->simpletransformers) (0.14.1)\n",
            "Requirement already satisfied: gitdb<5,>=4.0.1 in /usr/local/lib/python3.6/dist-packages (from GitPython>=1.0.0->wandb->simpletransformers) (4.0.5)\n",
            "Requirement already satisfied: setuptools in /usr/local/lib/python3.6/dist-packages (from protobuf>=3.12.0->wandb->simpletransformers) (51.0.0)\n",
            "Requirement already satisfied: pyparsing>=2.0.2 in /usr/local/lib/python3.6/dist-packages (from packaging->transformers>=4.0.0->simpletransformers) (2.4.7)\n",
            "Requirement already satisfied: decorator>=3.4.0 in /usr/local/lib/python3.6/dist-packages (from validators->streamlit->simpletransformers) (4.4.2)\n",
            "Requirement already satisfied: jinja2>=2.10.1 in /usr/local/lib/python3.6/dist-packages (from pydeck>=0.1.dev5->streamlit->simpletransformers) (2.11.2)\n",
            "Requirement already satisfied: ipykernel>=5.1.2; python_version >= \"3.4\" in /usr/local/lib/python3.6/dist-packages (from pydeck>=0.1.dev5->streamlit->simpletransformers) (5.4.2)\n",
            "Requirement already satisfied: ipywidgets>=7.0.0 in /usr/local/lib/python3.6/dist-packages (from pydeck>=0.1.dev5->streamlit->simpletransformers) (7.5.1)\n",
            "Requirement already satisfied: traitlets>=4.3.2 in /usr/local/lib/python3.6/dist-packages (from pydeck>=0.1.dev5->streamlit->simpletransformers) (4.3.3)\n",
            "Requirement already satisfied: jsonschema in /usr/local/lib/python3.6/dist-packages (from altair>=3.2.0->streamlit->simpletransformers) (2.6.0)\n",
            "Requirement already satisfied: entrypoints in /usr/local/lib/python3.6/dist-packages (from altair>=3.2.0->streamlit->simpletransformers) (0.3)\n",
            "Requirement already satisfied: toolz in /usr/local/lib/python3.6/dist-packages (from altair>=3.2.0->streamlit->simpletransformers) (0.11.1)\n",
            "Requirement already satisfied: smmap<4,>=3.0.1 in /usr/local/lib/python3.6/dist-packages (from gitdb<5,>=4.0.1->GitPython>=1.0.0->wandb->simpletransformers) (3.0.4)\n",
            "Requirement already satisfied: MarkupSafe>=0.23 in /usr/local/lib/python3.6/dist-packages (from jinja2>=2.10.1->pydeck>=0.1.dev5->streamlit->simpletransformers) (1.1.1)\n",
            "Requirement already satisfied: ipython>=5.0.0 in /usr/local/lib/python3.6/dist-packages (from ipykernel>=5.1.2; python_version >= \"3.4\"->pydeck>=0.1.dev5->streamlit->simpletransformers) (5.5.0)\n",
            "Requirement already satisfied: jupyter-client in /usr/local/lib/python3.6/dist-packages (from ipykernel>=5.1.2; python_version >= \"3.4\"->pydeck>=0.1.dev5->streamlit->simpletransformers) (5.3.5)\n",
            "Requirement already satisfied: nbformat>=4.2.0 in /usr/local/lib/python3.6/dist-packages (from ipywidgets>=7.0.0->pydeck>=0.1.dev5->streamlit->simpletransformers) (5.0.8)\n",
            "Requirement already satisfied: widgetsnbextension~=3.5.0 in /usr/local/lib/python3.6/dist-packages (from ipywidgets>=7.0.0->pydeck>=0.1.dev5->streamlit->simpletransformers) (3.5.1)\n",
            "Requirement already satisfied: ipython-genutils in /usr/local/lib/python3.6/dist-packages (from traitlets>=4.3.2->pydeck>=0.1.dev5->streamlit->simpletransformers) (0.2.0)\n",
            "Requirement already satisfied: pygments in /usr/local/lib/python3.6/dist-packages (from ipython>=5.0.0->ipykernel>=5.1.2; python_version >= \"3.4\"->pydeck>=0.1.dev5->streamlit->simpletransformers) (2.6.1)\n",
            "Requirement already satisfied: pickleshare in /usr/local/lib/python3.6/dist-packages (from ipython>=5.0.0->ipykernel>=5.1.2; python_version >= \"3.4\"->pydeck>=0.1.dev5->streamlit->simpletransformers) (0.7.5)\n",
            "Requirement already satisfied: prompt-toolkit<2.0.0,>=1.0.4 in /usr/local/lib/python3.6/dist-packages (from ipython>=5.0.0->ipykernel>=5.1.2; python_version >= \"3.4\"->pydeck>=0.1.dev5->streamlit->simpletransformers) (1.0.18)\n",
            "Requirement already satisfied: pexpect; sys_platform != \"win32\" in /usr/local/lib/python3.6/dist-packages (from ipython>=5.0.0->ipykernel>=5.1.2; python_version >= \"3.4\"->pydeck>=0.1.dev5->streamlit->simpletransformers) (4.8.0)\n",
            "Requirement already satisfied: simplegeneric>0.8 in /usr/local/lib/python3.6/dist-packages (from ipython>=5.0.0->ipykernel>=5.1.2; python_version >= \"3.4\"->pydeck>=0.1.dev5->streamlit->simpletransformers) (0.8.1)\n",
            "Requirement already satisfied: jupyter-core>=4.6.0 in /usr/local/lib/python3.6/dist-packages (from jupyter-client->ipykernel>=5.1.2; python_version >= \"3.4\"->pydeck>=0.1.dev5->streamlit->simpletransformers) (4.7.0)\n",
            "Requirement already satisfied: pyzmq>=13 in /usr/local/lib/python3.6/dist-packages (from jupyter-client->ipykernel>=5.1.2; python_version >= \"3.4\"->pydeck>=0.1.dev5->streamlit->simpletransformers) (20.0.0)\n",
            "Requirement already satisfied: notebook>=4.4.1 in /usr/local/lib/python3.6/dist-packages (from widgetsnbextension~=3.5.0->ipywidgets>=7.0.0->pydeck>=0.1.dev5->streamlit->simpletransformers) (5.3.1)\n",
            "Requirement already satisfied: wcwidth in /usr/local/lib/python3.6/dist-packages (from prompt-toolkit<2.0.0,>=1.0.4->ipython>=5.0.0->ipykernel>=5.1.2; python_version >= \"3.4\"->pydeck>=0.1.dev5->streamlit->simpletransformers) (0.2.5)\n",
            "Requirement already satisfied: ptyprocess>=0.5 in /usr/local/lib/python3.6/dist-packages (from pexpect; sys_platform != \"win32\"->ipython>=5.0.0->ipykernel>=5.1.2; python_version >= \"3.4\"->pydeck>=0.1.dev5->streamlit->simpletransformers) (0.6.0)\n",
            "Requirement already satisfied: nbconvert in /usr/local/lib/python3.6/dist-packages (from notebook>=4.4.1->widgetsnbextension~=3.5.0->ipywidgets>=7.0.0->pydeck>=0.1.dev5->streamlit->simpletransformers) (5.6.1)\n",
            "Requirement already satisfied: terminado>=0.8.1 in /usr/local/lib/python3.6/dist-packages (from notebook>=4.4.1->widgetsnbextension~=3.5.0->ipywidgets>=7.0.0->pydeck>=0.1.dev5->streamlit->simpletransformers) (0.9.1)\n",
            "Requirement already satisfied: Send2Trash in /usr/local/lib/python3.6/dist-packages (from notebook>=4.4.1->widgetsnbextension~=3.5.0->ipywidgets>=7.0.0->pydeck>=0.1.dev5->streamlit->simpletransformers) (1.5.0)\n",
            "Requirement already satisfied: mistune<2,>=0.8.1 in /usr/local/lib/python3.6/dist-packages (from nbconvert->notebook>=4.4.1->widgetsnbextension~=3.5.0->ipywidgets>=7.0.0->pydeck>=0.1.dev5->streamlit->simpletransformers) (0.8.4)\n",
            "Requirement already satisfied: pandocfilters>=1.4.1 in /usr/local/lib/python3.6/dist-packages (from nbconvert->notebook>=4.4.1->widgetsnbextension~=3.5.0->ipywidgets>=7.0.0->pydeck>=0.1.dev5->streamlit->simpletransformers) (1.4.3)\n",
            "Requirement already satisfied: testpath in /usr/local/lib/python3.6/dist-packages (from nbconvert->notebook>=4.4.1->widgetsnbextension~=3.5.0->ipywidgets>=7.0.0->pydeck>=0.1.dev5->streamlit->simpletransformers) (0.4.4)\n",
            "Requirement already satisfied: bleach in /usr/local/lib/python3.6/dist-packages (from nbconvert->notebook>=4.4.1->widgetsnbextension~=3.5.0->ipywidgets>=7.0.0->pydeck>=0.1.dev5->streamlit->simpletransformers) (3.2.1)\n",
            "Requirement already satisfied: defusedxml in /usr/local/lib/python3.6/dist-packages (from nbconvert->notebook>=4.4.1->widgetsnbextension~=3.5.0->ipywidgets>=7.0.0->pydeck>=0.1.dev5->streamlit->simpletransformers) (0.6.0)\n",
            "Requirement already satisfied: webencodings in /usr/local/lib/python3.6/dist-packages (from bleach->nbconvert->notebook>=4.4.1->widgetsnbextension~=3.5.0->ipywidgets>=7.0.0->pydeck>=0.1.dev5->streamlit->simpletransformers) (0.5.1)\n"
          ],
          "name": "stdout"
        }
      ]
    },
    {
      "cell_type": "code",
      "metadata": {
        "id": "FSNiZjvhlFk2"
      },
      "source": [
        "from simpletransformers.classification import ClassificationModel, ClassificationArgs\n",
        "import logging\n",
        "import pandas"
      ],
      "execution_count": null,
      "outputs": []
    },
    {
      "cell_type": "code",
      "metadata": {
        "id": "aCxT-G1i-_1m",
        "colab": {
          "base_uri": "https://localhost:8080/"
        },
        "outputId": "faed048c-daf0-42be-8f3a-1804ef4b8114"
      },
      "source": [
        "lensi = []\n",
        "for i in range(0, len(content_training)):\n",
        "  id, lbl, tweet = Split_in_parts(content_training[i])\n",
        "  #print(len(tweet))\n",
        "  lensi.append(len(tweet))\n",
        "lensi.sort()\n",
        "print(lensi)\n",
        "print(lensi[len(lensi)//2])\n",
        "for i in range(len(lensi)):\n",
        "  if lensi[i]>240:\n",
        "    print(\"pozitia = \", i)\n",
        "    break"
      ],
      "execution_count": null,
      "outputs": [
        {
          "output_type": "stream",
          "text": [
            "[38, 41, 42, 42, 42, 43, 43, 44, 44, 44, 45, 45, 45, 46, 46, 46, 46, 46, 46, 46, 46, 46, 47, 47, 47, 47, 47, 47, 47, 47, 47, 47, 47, 47, 47, 47, 47, 47, 47, 48, 48, 48, 48, 48, 48, 49, 49, 49, 49, 49, 49, 49, 49, 49, 49, 49, 49, 49, 49, 49, 49, 49, 49, 49, 50, 50, 50, 50, 50, 50, 50, 50, 50, 50, 50, 50, 51, 51, 51, 51, 51, 51, 51, 51, 51, 51, 51, 51, 51, 52, 52, 52, 52, 52, 52, 52, 52, 52, 52, 52, 52, 52, 52, 52, 52, 52, 52, 52, 52, 52, 52, 52, 52, 52, 52, 52, 52, 52, 52, 53, 53, 53, 53, 53, 53, 53, 53, 53, 53, 53, 53, 53, 53, 53, 53, 53, 53, 53, 53, 53, 53, 53, 53, 54, 54, 54, 54, 54, 54, 54, 54, 54, 54, 54, 54, 54, 54, 54, 54, 54, 54, 54, 54, 54, 54, 54, 54, 54, 55, 55, 55, 55, 55, 55, 55, 55, 55, 55, 55, 55, 55, 55, 55, 55, 55, 55, 55, 55, 55, 55, 55, 55, 55, 55, 55, 55, 55, 55, 55, 55, 55, 55, 55, 56, 56, 56, 56, 56, 56, 56, 56, 56, 56, 56, 56, 56, 56, 56, 56, 56, 56, 56, 57, 57, 57, 57, 57, 57, 57, 57, 57, 57, 57, 57, 57, 57, 57, 57, 57, 57, 57, 57, 57, 57, 57, 57, 57, 57, 57, 57, 57, 57, 57, 57, 58, 58, 58, 58, 58, 58, 58, 58, 58, 58, 58, 58, 58, 58, 58, 58, 58, 58, 58, 58, 58, 58, 58, 58, 58, 58, 58, 58, 58, 58, 58, 58, 59, 59, 59, 59, 59, 59, 59, 59, 59, 59, 59, 59, 59, 59, 59, 59, 59, 59, 59, 59, 59, 59, 59, 59, 59, 59, 59, 59, 59, 59, 59, 59, 59, 59, 59, 59, 59, 59, 59, 59, 59, 59, 59, 59, 60, 60, 60, 60, 60, 60, 60, 60, 60, 60, 60, 60, 60, 60, 60, 60, 60, 60, 60, 60, 60, 60, 60, 60, 60, 60, 60, 60, 60, 60, 60, 60, 60, 60, 60, 60, 60, 60, 60, 60, 60, 60, 60, 61, 61, 61, 61, 61, 61, 61, 61, 61, 61, 61, 61, 61, 61, 61, 61, 61, 61, 61, 61, 61, 61, 61, 61, 61, 61, 61, 61, 61, 61, 61, 61, 61, 61, 61, 61, 61, 61, 61, 61, 61, 61, 61, 61, 61, 61, 61, 61, 61, 61, 61, 61, 61, 61, 61, 61, 61, 61, 61, 62, 62, 62, 62, 62, 62, 62, 62, 62, 62, 62, 62, 62, 62, 62, 62, 62, 62, 62, 62, 62, 62, 62, 62, 62, 62, 62, 62, 62, 62, 62, 62, 62, 62, 62, 62, 62, 62, 62, 62, 62, 63, 63, 63, 63, 63, 63, 63, 63, 63, 63, 63, 63, 63, 63, 63, 63, 63, 63, 63, 63, 63, 63, 63, 63, 63, 63, 63, 63, 63, 63, 63, 63, 63, 63, 63, 63, 63, 63, 63, 63, 63, 63, 63, 63, 63, 63, 63, 64, 64, 64, 64, 64, 64, 64, 64, 64, 64, 64, 64, 64, 64, 64, 64, 64, 64, 64, 64, 64, 64, 64, 64, 64, 64, 64, 64, 64, 64, 64, 64, 64, 64, 64, 64, 64, 64, 64, 64, 64, 64, 64, 64, 64, 64, 64, 64, 64, 64, 65, 65, 65, 65, 65, 65, 65, 65, 65, 65, 65, 65, 65, 65, 65, 65, 65, 65, 65, 65, 65, 65, 65, 65, 65, 65, 65, 65, 65, 65, 65, 65, 65, 65, 65, 65, 65, 65, 65, 65, 65, 65, 65, 65, 65, 65, 65, 65, 65, 65, 65, 65, 65, 65, 65, 65, 65, 65, 65, 65, 65, 65, 65, 65, 66, 66, 66, 66, 66, 66, 66, 66, 66, 66, 66, 66, 66, 66, 66, 66, 66, 66, 66, 66, 66, 66, 66, 66, 66, 66, 66, 66, 66, 66, 66, 66, 66, 66, 66, 66, 66, 66, 66, 66, 66, 66, 66, 66, 66, 66, 66, 66, 66, 66, 66, 66, 66, 66, 66, 66, 66, 66, 66, 66, 66, 66, 66, 66, 66, 66, 66, 67, 67, 67, 67, 67, 67, 67, 67, 67, 67, 67, 67, 67, 67, 67, 67, 67, 67, 67, 67, 67, 67, 67, 67, 67, 67, 67, 67, 67, 67, 67, 67, 67, 67, 67, 67, 67, 67, 67, 67, 67, 67, 67, 67, 67, 67, 67, 67, 67, 67, 67, 67, 67, 67, 67, 67, 67, 67, 67, 67, 67, 67, 67, 67, 67, 67, 67, 67, 67, 67, 67, 67, 67, 68, 68, 68, 68, 68, 68, 68, 68, 68, 68, 68, 68, 68, 68, 68, 68, 68, 68, 68, 68, 68, 68, 68, 68, 68, 68, 68, 68, 68, 68, 68, 68, 68, 68, 68, 68, 68, 68, 68, 68, 68, 68, 68, 68, 68, 68, 68, 68, 68, 68, 68, 68, 68, 68, 68, 68, 68, 68, 68, 68, 68, 69, 69, 69, 69, 69, 69, 69, 69, 69, 69, 69, 69, 69, 69, 69, 69, 69, 69, 69, 69, 69, 69, 69, 69, 69, 69, 69, 69, 69, 69, 69, 69, 69, 69, 69, 69, 69, 69, 69, 69, 69, 69, 69, 69, 69, 69, 69, 69, 69, 69, 69, 69, 69, 69, 69, 69, 69, 69, 70, 70, 70, 70, 70, 70, 70, 70, 70, 70, 70, 70, 70, 70, 70, 70, 70, 70, 70, 70, 70, 70, 70, 70, 70, 70, 70, 70, 70, 70, 70, 70, 70, 70, 70, 70, 70, 70, 70, 70, 70, 70, 70, 70, 70, 70, 70, 70, 70, 70, 70, 70, 70, 70, 70, 70, 70, 70, 70, 70, 70, 70, 70, 70, 70, 70, 70, 70, 70, 70, 70, 70, 70, 71, 71, 71, 71, 71, 71, 71, 71, 71, 71, 71, 71, 71, 71, 71, 71, 71, 71, 71, 71, 71, 71, 71, 71, 71, 71, 71, 71, 71, 71, 71, 71, 71, 71, 71, 71, 71, 71, 71, 71, 71, 71, 71, 71, 71, 71, 71, 71, 71, 71, 71, 71, 71, 71, 71, 71, 71, 71, 71, 71, 71, 71, 71, 71, 71, 71, 71, 71, 71, 71, 71, 71, 71, 71, 71, 71, 71, 71, 71, 71, 72, 72, 72, 72, 72, 72, 72, 72, 72, 72, 72, 72, 72, 72, 72, 72, 72, 72, 72, 72, 72, 72, 72, 72, 72, 72, 72, 72, 72, 72, 72, 72, 72, 72, 72, 72, 72, 72, 72, 72, 72, 72, 72, 72, 72, 72, 72, 72, 72, 72, 72, 72, 72, 72, 72, 72, 72, 72, 72, 72, 72, 72, 72, 72, 72, 72, 72, 72, 72, 72, 72, 72, 72, 72, 73, 73, 73, 73, 73, 73, 73, 73, 73, 73, 73, 73, 73, 73, 73, 73, 73, 73, 73, 73, 73, 73, 73, 73, 73, 73, 73, 73, 73, 73, 73, 73, 73, 73, 73, 73, 73, 73, 73, 73, 73, 73, 73, 73, 73, 73, 73, 73, 73, 73, 73, 73, 73, 73, 73, 73, 73, 73, 73, 73, 73, 73, 73, 73, 73, 73, 74, 74, 74, 74, 74, 74, 74, 74, 74, 74, 74, 74, 74, 74, 74, 74, 74, 74, 74, 74, 74, 74, 74, 74, 74, 74, 74, 74, 74, 74, 74, 74, 74, 74, 74, 74, 74, 74, 74, 74, 74, 74, 74, 74, 74, 74, 74, 74, 74, 74, 74, 74, 74, 74, 74, 74, 74, 74, 74, 75, 75, 75, 75, 75, 75, 75, 75, 75, 75, 75, 75, 75, 75, 75, 75, 75, 75, 75, 75, 75, 75, 75, 75, 75, 75, 75, 75, 75, 75, 75, 75, 75, 75, 75, 75, 75, 75, 75, 75, 75, 75, 75, 75, 75, 75, 75, 75, 75, 75, 75, 75, 75, 75, 75, 75, 75, 75, 75, 75, 75, 75, 75, 75, 75, 75, 75, 76, 76, 76, 76, 76, 76, 76, 76, 76, 76, 76, 76, 76, 76, 76, 76, 76, 76, 76, 76, 76, 76, 76, 76, 76, 76, 76, 76, 76, 76, 76, 76, 76, 76, 76, 76, 76, 76, 76, 76, 76, 76, 76, 76, 76, 76, 76, 76, 76, 76, 76, 76, 76, 76, 76, 76, 76, 76, 76, 76, 76, 76, 76, 76, 76, 76, 76, 76, 76, 76, 76, 76, 76, 76, 76, 76, 77, 77, 77, 77, 77, 77, 77, 77, 77, 77, 77, 77, 77, 77, 77, 77, 77, 77, 77, 77, 77, 77, 77, 77, 77, 77, 77, 77, 77, 77, 77, 77, 77, 77, 77, 77, 77, 77, 77, 77, 77, 77, 77, 77, 77, 77, 77, 77, 77, 77, 77, 77, 77, 77, 77, 77, 77, 77, 77, 77, 77, 78, 78, 78, 78, 78, 78, 78, 78, 78, 78, 78, 78, 78, 78, 78, 78, 78, 78, 78, 78, 78, 78, 78, 78, 78, 78, 78, 78, 78, 78, 78, 78, 78, 78, 78, 78, 78, 78, 78, 78, 78, 78, 78, 78, 78, 78, 78, 78, 78, 78, 78, 78, 78, 78, 78, 78, 78, 78, 78, 78, 78, 78, 78, 78, 78, 78, 78, 78, 78, 78, 78, 78, 78, 78, 78, 79, 79, 79, 79, 79, 79, 79, 79, 79, 79, 79, 79, 79, 79, 79, 79, 79, 79, 79, 79, 79, 79, 79, 79, 79, 79, 79, 79, 79, 79, 79, 79, 79, 79, 79, 79, 79, 79, 79, 79, 79, 79, 79, 79, 79, 79, 79, 79, 79, 79, 79, 79, 79, 79, 79, 79, 79, 80, 80, 80, 80, 80, 80, 80, 80, 80, 80, 80, 80, 80, 80, 80, 80, 80, 80, 80, 80, 80, 80, 80, 80, 80, 80, 80, 80, 80, 80, 80, 80, 80, 80, 80, 80, 80, 80, 80, 80, 80, 80, 80, 80, 80, 80, 80, 80, 80, 80, 80, 80, 80, 80, 80, 80, 80, 80, 80, 80, 80, 80, 80, 80, 80, 80, 80, 80, 80, 81, 81, 81, 81, 81, 81, 81, 81, 81, 81, 81, 81, 81, 81, 81, 81, 81, 81, 81, 81, 81, 81, 81, 81, 81, 81, 81, 81, 81, 81, 81, 81, 81, 81, 81, 81, 81, 81, 81, 81, 81, 81, 81, 81, 81, 81, 81, 81, 81, 81, 81, 81, 81, 81, 81, 81, 81, 81, 81, 81, 81, 81, 81, 81, 81, 81, 81, 81, 81, 81, 81, 81, 81, 81, 81, 81, 81, 81, 81, 81, 81, 81, 81, 81, 81, 81, 81, 82, 82, 82, 82, 82, 82, 82, 82, 82, 82, 82, 82, 82, 82, 82, 82, 82, 82, 82, 82, 82, 82, 82, 82, 82, 82, 82, 82, 82, 82, 82, 82, 82, 82, 82, 82, 82, 82, 82, 82, 82, 82, 82, 82, 82, 82, 82, 82, 82, 82, 82, 82, 82, 82, 82, 82, 82, 82, 82, 82, 82, 82, 82, 82, 82, 82, 82, 83, 83, 83, 83, 83, 83, 83, 83, 83, 83, 83, 83, 83, 83, 83, 83, 83, 83, 83, 83, 83, 83, 83, 83, 83, 83, 83, 83, 83, 83, 83, 83, 83, 83, 83, 83, 83, 83, 83, 83, 83, 83, 83, 83, 83, 83, 83, 83, 83, 83, 83, 83, 83, 83, 83, 83, 83, 83, 83, 83, 83, 83, 83, 83, 83, 83, 83, 83, 83, 83, 83, 83, 83, 83, 83, 83, 83, 83, 83, 83, 83, 84, 84, 84, 84, 84, 84, 84, 84, 84, 84, 84, 84, 84, 84, 84, 84, 84, 84, 84, 84, 84, 84, 84, 84, 84, 84, 84, 84, 84, 84, 84, 84, 84, 84, 84, 84, 84, 84, 84, 84, 84, 84, 84, 84, 84, 84, 84, 84, 84, 84, 84, 84, 84, 84, 84, 84, 84, 84, 84, 84, 84, 84, 84, 84, 84, 84, 84, 84, 84, 84, 84, 84, 84, 84, 84, 85, 85, 85, 85, 85, 85, 85, 85, 85, 85, 85, 85, 85, 85, 85, 85, 85, 85, 85, 85, 85, 85, 85, 85, 85, 85, 85, 85, 85, 85, 85, 85, 85, 85, 85, 85, 85, 85, 85, 85, 85, 85, 85, 85, 85, 85, 85, 85, 85, 85, 85, 85, 85, 85, 85, 85, 85, 85, 85, 85, 85, 85, 86, 86, 86, 86, 86, 86, 86, 86, 86, 86, 86, 86, 86, 86, 86, 86, 86, 86, 86, 86, 86, 86, 86, 86, 86, 86, 86, 86, 86, 86, 86, 86, 86, 86, 86, 86, 86, 86, 86, 86, 86, 86, 86, 86, 86, 86, 86, 86, 86, 86, 86, 86, 86, 86, 86, 86, 86, 86, 86, 86, 86, 86, 86, 86, 86, 86, 86, 86, 86, 86, 86, 86, 87, 87, 87, 87, 87, 87, 87, 87, 87, 87, 87, 87, 87, 87, 87, 87, 87, 87, 87, 87, 87, 87, 87, 87, 87, 87, 87, 87, 87, 87, 87, 87, 87, 87, 87, 87, 87, 87, 87, 87, 87, 87, 87, 87, 87, 87, 87, 87, 87, 87, 87, 87, 87, 87, 87, 87, 87, 87, 87, 87, 87, 87, 87, 87, 87, 87, 87, 88, 88, 88, 88, 88, 88, 88, 88, 88, 88, 88, 88, 88, 88, 88, 88, 88, 88, 88, 88, 88, 88, 88, 88, 88, 88, 88, 88, 88, 88, 88, 88, 88, 88, 88, 88, 88, 88, 88, 88, 88, 88, 88, 88, 88, 88, 88, 88, 88, 88, 88, 88, 88, 88, 88, 88, 88, 88, 88, 88, 88, 88, 88, 88, 88, 88, 88, 88, 88, 88, 88, 88, 88, 88, 88, 88, 88, 88, 88, 88, 88, 88, 88, 89, 89, 89, 89, 89, 89, 89, 89, 89, 89, 89, 89, 89, 89, 89, 89, 89, 89, 89, 89, 89, 89, 89, 89, 89, 89, 89, 89, 89, 89, 89, 89, 89, 89, 89, 89, 89, 89, 89, 89, 89, 89, 89, 89, 89, 89, 89, 89, 89, 89, 89, 89, 89, 89, 89, 89, 89, 89, 89, 89, 89, 89, 89, 89, 90, 90, 90, 90, 90, 90, 90, 90, 90, 90, 90, 90, 90, 90, 90, 90, 90, 90, 90, 90, 90, 90, 90, 90, 90, 90, 90, 90, 90, 90, 90, 90, 90, 90, 90, 90, 90, 90, 90, 90, 90, 90, 90, 90, 90, 90, 90, 90, 90, 90, 90, 90, 90, 90, 90, 90, 90, 90, 90, 90, 90, 90, 90, 90, 90, 90, 90, 90, 90, 91, 91, 91, 91, 91, 91, 91, 91, 91, 91, 91, 91, 91, 91, 91, 91, 91, 91, 91, 91, 91, 91, 91, 91, 91, 91, 91, 91, 91, 91, 91, 91, 91, 91, 91, 91, 91, 91, 91, 91, 91, 91, 91, 91, 91, 91, 91, 91, 91, 91, 91, 91, 91, 91, 91, 91, 91, 91, 91, 91, 91, 91, 91, 91, 91, 91, 91, 91, 91, 91, 91, 91, 91, 91, 91, 91, 92, 92, 92, 92, 92, 92, 92, 92, 92, 92, 92, 92, 92, 92, 92, 92, 92, 92, 92, 92, 92, 92, 92, 92, 92, 92, 92, 92, 92, 92, 92, 92, 92, 92, 92, 92, 92, 92, 92, 92, 92, 92, 92, 92, 92, 92, 92, 92, 92, 92, 92, 92, 92, 92, 92, 92, 92, 92, 92, 92, 92, 92, 92, 92, 92, 92, 92, 92, 92, 92, 92, 92, 92, 92, 93, 93, 93, 93, 93, 93, 93, 93, 93, 93, 93, 93, 93, 93, 93, 93, 93, 93, 93, 93, 93, 93, 93, 93, 93, 93, 93, 93, 93, 93, 93, 93, 93, 93, 93, 93, 93, 93, 93, 93, 93, 93, 93, 93, 93, 93, 93, 93, 93, 93, 93, 93, 93, 93, 93, 93, 93, 93, 93, 93, 93, 93, 93, 93, 93, 93, 93, 93, 93, 93, 93, 93, 93, 93, 93, 93, 94, 94, 94, 94, 94, 94, 94, 94, 94, 94, 94, 94, 94, 94, 94, 94, 94, 94, 94, 94, 94, 94, 94, 94, 94, 94, 94, 94, 94, 94, 94, 94, 94, 94, 94, 94, 94, 94, 94, 94, 94, 94, 94, 94, 94, 94, 94, 94, 94, 94, 94, 94, 94, 94, 94, 94, 94, 94, 94, 94, 94, 94, 94, 94, 94, 94, 94, 94, 94, 94, 94, 94, 94, 94, 94, 94, 94, 95, 95, 95, 95, 95, 95, 95, 95, 95, 95, 95, 95, 95, 95, 95, 95, 95, 95, 95, 95, 95, 95, 95, 95, 95, 95, 95, 95, 95, 95, 95, 95, 95, 95, 95, 95, 95, 95, 95, 95, 95, 95, 95, 95, 95, 95, 95, 95, 95, 95, 95, 95, 95, 95, 95, 95, 95, 95, 95, 96, 96, 96, 96, 96, 96, 96, 96, 96, 96, 96, 96, 96, 96, 96, 96, 96, 96, 96, 96, 96, 96, 96, 96, 96, 96, 96, 96, 96, 96, 96, 96, 96, 96, 96, 96, 96, 96, 96, 96, 96, 96, 96, 96, 96, 96, 96, 96, 96, 96, 96, 96, 96, 96, 96, 96, 96, 96, 96, 96, 96, 96, 96, 96, 96, 96, 96, 96, 96, 96, 96, 96, 96, 96, 96, 96, 96, 96, 96, 96, 96, 97, 97, 97, 97, 97, 97, 97, 97, 97, 97, 97, 97, 97, 97, 97, 97, 97, 97, 97, 97, 97, 97, 97, 97, 97, 97, 97, 97, 97, 97, 97, 97, 97, 97, 97, 97, 97, 97, 97, 97, 97, 97, 97, 97, 97, 97, 97, 97, 97, 97, 97, 97, 97, 97, 97, 97, 97, 97, 97, 97, 97, 97, 97, 97, 97, 97, 97, 97, 97, 97, 97, 97, 97, 97, 97, 98, 98, 98, 98, 98, 98, 98, 98, 98, 98, 98, 98, 98, 98, 98, 98, 98, 98, 98, 98, 98, 98, 98, 98, 98, 98, 98, 98, 98, 98, 98, 98, 98, 98, 98, 98, 98, 98, 98, 98, 98, 98, 98, 98, 98, 98, 98, 98, 98, 98, 98, 98, 98, 98, 98, 98, 98, 98, 98, 98, 98, 98, 98, 98, 98, 98, 98, 99, 99, 99, 99, 99, 99, 99, 99, 99, 99, 99, 99, 99, 99, 99, 99, 99, 99, 99, 99, 99, 99, 99, 99, 99, 99, 99, 99, 99, 99, 99, 99, 99, 99, 99, 99, 99, 99, 99, 99, 99, 99, 99, 99, 99, 99, 99, 99, 99, 99, 99, 99, 99, 99, 99, 99, 99, 99, 99, 99, 99, 99, 99, 99, 99, 99, 99, 99, 99, 99, 99, 99, 99, 99, 99, 99, 99, 99, 100, 100, 100, 100, 100, 100, 100, 100, 100, 100, 100, 100, 100, 100, 100, 100, 100, 100, 100, 100, 100, 100, 100, 100, 100, 100, 100, 100, 100, 100, 100, 100, 100, 100, 100, 100, 100, 100, 100, 100, 100, 100, 100, 100, 100, 100, 100, 100, 100, 100, 100, 100, 100, 100, 100, 100, 100, 100, 100, 100, 100, 100, 100, 100, 100, 100, 100, 100, 100, 100, 100, 100, 100, 100, 100, 100, 101, 101, 101, 101, 101, 101, 101, 101, 101, 101, 101, 101, 101, 101, 101, 101, 101, 101, 101, 101, 101, 101, 101, 101, 101, 101, 101, 101, 101, 101, 101, 101, 101, 101, 101, 101, 101, 101, 101, 101, 101, 101, 101, 101, 101, 101, 101, 101, 101, 101, 101, 101, 101, 101, 101, 101, 101, 101, 101, 101, 101, 102, 102, 102, 102, 102, 102, 102, 102, 102, 102, 102, 102, 102, 102, 102, 102, 102, 102, 102, 102, 102, 102, 102, 102, 102, 102, 102, 102, 102, 102, 102, 102, 102, 102, 102, 102, 102, 102, 102, 102, 102, 102, 102, 102, 102, 102, 102, 102, 102, 102, 102, 102, 102, 102, 102, 102, 102, 102, 102, 102, 102, 102, 102, 102, 102, 102, 102, 102, 102, 102, 103, 103, 103, 103, 103, 103, 103, 103, 103, 103, 103, 103, 103, 103, 103, 103, 103, 103, 103, 103, 103, 103, 103, 103, 103, 103, 103, 103, 103, 103, 103, 103, 103, 103, 103, 103, 103, 103, 103, 103, 103, 103, 103, 103, 103, 103, 103, 103, 103, 103, 103, 103, 103, 103, 103, 103, 103, 103, 103, 103, 103, 103, 103, 103, 103, 103, 103, 103, 104, 104, 104, 104, 104, 104, 104, 104, 104, 104, 104, 104, 104, 104, 104, 104, 104, 104, 104, 104, 104, 104, 104, 104, 104, 104, 104, 104, 104, 104, 104, 104, 104, 104, 104, 104, 104, 104, 104, 104, 104, 104, 104, 104, 104, 104, 104, 104, 104, 104, 104, 104, 104, 104, 104, 104, 104, 104, 104, 104, 104, 104, 104, 104, 104, 104, 104, 104, 104, 104, 104, 104, 104, 104, 105, 105, 105, 105, 105, 105, 105, 105, 105, 105, 105, 105, 105, 105, 105, 105, 105, 105, 105, 105, 105, 105, 105, 105, 105, 105, 105, 105, 105, 105, 105, 105, 105, 105, 105, 105, 105, 105, 105, 105, 105, 105, 105, 105, 105, 105, 105, 105, 105, 105, 105, 105, 105, 105, 105, 105, 105, 105, 105, 105, 105, 105, 105, 105, 105, 105, 105, 105, 105, 105, 105, 105, 106, 106, 106, 106, 106, 106, 106, 106, 106, 106, 106, 106, 106, 106, 106, 106, 106, 106, 106, 106, 106, 106, 106, 106, 106, 106, 106, 106, 106, 106, 106, 106, 106, 106, 106, 106, 106, 106, 106, 106, 106, 106, 106, 106, 106, 106, 106, 106, 106, 106, 106, 106, 106, 106, 106, 106, 106, 106, 106, 106, 106, 106, 106, 106, 107, 107, 107, 107, 107, 107, 107, 107, 107, 107, 107, 107, 107, 107, 107, 107, 107, 107, 107, 107, 107, 107, 107, 107, 107, 107, 107, 107, 107, 107, 107, 107, 107, 107, 107, 107, 107, 107, 107, 107, 107, 107, 107, 107, 107, 107, 107, 107, 107, 107, 107, 107, 107, 107, 107, 107, 107, 107, 107, 107, 107, 107, 107, 107, 107, 107, 107, 107, 107, 107, 107, 107, 107, 107, 107, 107, 107, 107, 107, 107, 107, 107, 107, 107, 107, 107, 107, 107, 107, 108, 108, 108, 108, 108, 108, 108, 108, 108, 108, 108, 108, 108, 108, 108, 108, 108, 108, 108, 108, 108, 108, 108, 108, 108, 108, 108, 108, 108, 108, 108, 108, 108, 108, 108, 108, 108, 108, 108, 108, 108, 108, 108, 108, 108, 108, 108, 108, 108, 108, 108, 108, 108, 108, 108, 108, 108, 108, 108, 108, 109, 109, 109, 109, 109, 109, 109, 109, 109, 109, 109, 109, 109, 109, 109, 109, 109, 109, 109, 109, 109, 109, 109, 109, 109, 109, 109, 109, 109, 109, 109, 109, 109, 109, 109, 109, 109, 109, 109, 109, 109, 109, 109, 109, 109, 109, 109, 109, 109, 109, 109, 109, 109, 109, 109, 109, 109, 109, 109, 109, 109, 109, 109, 109, 109, 109, 109, 109, 109, 109, 109, 109, 109, 109, 109, 109, 109, 109, 109, 109, 110, 110, 110, 110, 110, 110, 110, 110, 110, 110, 110, 110, 110, 110, 110, 110, 110, 110, 110, 110, 110, 110, 110, 110, 110, 110, 110, 110, 110, 110, 110, 110, 110, 110, 110, 110, 110, 110, 110, 110, 110, 110, 110, 110, 110, 110, 110, 110, 110, 110, 110, 110, 110, 110, 110, 110, 110, 110, 110, 110, 110, 110, 110, 110, 110, 110, 110, 110, 110, 110, 110, 110, 110, 110, 110, 110, 110, 110, 110, 110, 110, 110, 110, 110, 110, 110, 110, 110, 110, 110, 111, 111, 111, 111, 111, 111, 111, 111, 111, 111, 111, 111, 111, 111, 111, 111, 111, 111, 111, 111, 111, 111, 111, 111, 111, 111, 111, 111, 111, 111, 111, 111, 111, 111, 111, 111, 111, 111, 111, 111, 111, 111, 111, 111, 111, 111, 111, 111, 111, 111, 111, 111, 111, 111, 111, 111, 111, 111, 111, 111, 111, 111, 111, 111, 111, 111, 111, 111, 111, 111, 111, 111, 111, 111, 111, 111, 111, 111, 111, 111, 111, 111, 111, 111, 112, 112, 112, 112, 112, 112, 112, 112, 112, 112, 112, 112, 112, 112, 112, 112, 112, 112, 112, 112, 112, 112, 112, 112, 112, 112, 112, 112, 112, 112, 112, 112, 112, 112, 112, 112, 112, 112, 112, 112, 112, 112, 112, 112, 112, 112, 112, 112, 112, 112, 112, 112, 112, 112, 112, 112, 112, 112, 112, 112, 112, 112, 112, 112, 112, 112, 112, 112, 112, 112, 112, 112, 112, 112, 112, 112, 112, 112, 112, 112, 112, 112, 112, 112, 112, 112, 112, 112, 113, 113, 113, 113, 113, 113, 113, 113, 113, 113, 113, 113, 113, 113, 113, 113, 113, 113, 113, 113, 113, 113, 113, 113, 113, 113, 113, 113, 113, 113, 113, 113, 113, 113, 113, 113, 113, 113, 113, 113, 113, 113, 113, 113, 113, 113, 113, 113, 113, 113, 113, 113, 113, 113, 113, 113, 113, 113, 113, 113, 113, 113, 113, 113, 113, 113, 113, 113, 113, 114, 114, 114, 114, 114, 114, 114, 114, 114, 114, 114, 114, 114, 114, 114, 114, 114, 114, 114, 114, 114, 114, 114, 114, 114, 114, 114, 114, 114, 114, 114, 114, 114, 114, 114, 114, 114, 114, 114, 114, 114, 114, 114, 114, 114, 114, 114, 114, 114, 114, 114, 114, 114, 114, 114, 114, 114, 114, 114, 114, 114, 114, 114, 114, 114, 114, 114, 114, 114, 114, 114, 114, 114, 114, 114, 114, 114, 114, 114, 115, 115, 115, 115, 115, 115, 115, 115, 115, 115, 115, 115, 115, 115, 115, 115, 115, 115, 115, 115, 115, 115, 115, 115, 115, 115, 115, 115, 115, 115, 115, 115, 115, 115, 115, 115, 115, 115, 115, 115, 115, 115, 115, 115, 115, 115, 115, 115, 115, 115, 115, 115, 115, 115, 115, 115, 115, 115, 115, 115, 115, 115, 115, 115, 115, 115, 115, 116, 116, 116, 116, 116, 116, 116, 116, 116, 116, 116, 116, 116, 116, 116, 116, 116, 116, 116, 116, 116, 116, 116, 116, 116, 116, 116, 116, 116, 116, 116, 116, 116, 116, 116, 116, 116, 116, 116, 116, 116, 116, 116, 116, 116, 116, 116, 116, 116, 116, 116, 116, 116, 116, 116, 116, 116, 116, 116, 116, 116, 116, 116, 116, 116, 116, 116, 116, 116, 116, 116, 116, 116, 116, 116, 116, 116, 116, 116, 116, 116, 117, 117, 117, 117, 117, 117, 117, 117, 117, 117, 117, 117, 117, 117, 117, 117, 117, 117, 117, 117, 117, 117, 117, 117, 117, 117, 117, 117, 117, 117, 117, 117, 117, 117, 117, 117, 117, 117, 117, 117, 117, 117, 117, 117, 117, 117, 117, 117, 117, 117, 117, 117, 118, 118, 118, 118, 118, 118, 118, 118, 118, 118, 118, 118, 118, 118, 118, 118, 118, 118, 118, 118, 118, 118, 118, 118, 118, 118, 118, 118, 118, 118, 118, 118, 118, 118, 118, 118, 118, 118, 118, 118, 118, 118, 118, 118, 118, 118, 118, 118, 118, 118, 118, 118, 118, 118, 118, 118, 118, 118, 118, 118, 119, 119, 119, 119, 119, 119, 119, 119, 119, 119, 119, 119, 119, 119, 119, 119, 119, 119, 119, 119, 119, 119, 119, 119, 119, 119, 119, 119, 119, 119, 119, 119, 119, 119, 119, 119, 119, 119, 119, 119, 119, 119, 119, 119, 119, 119, 119, 119, 119, 119, 119, 119, 119, 119, 119, 119, 119, 119, 119, 119, 119, 119, 119, 119, 119, 119, 119, 119, 119, 119, 119, 120, 120, 120, 120, 120, 120, 120, 120, 120, 120, 120, 120, 120, 120, 120, 120, 120, 120, 120, 120, 120, 120, 120, 120, 120, 120, 120, 120, 120, 120, 120, 120, 120, 120, 120, 120, 120, 120, 120, 120, 120, 120, 120, 120, 120, 120, 120, 120, 120, 120, 120, 120, 120, 120, 120, 120, 120, 120, 120, 120, 120, 120, 121, 121, 121, 121, 121, 121, 121, 121, 121, 121, 121, 121, 121, 121, 121, 121, 121, 121, 121, 121, 121, 121, 121, 121, 121, 121, 121, 121, 121, 121, 121, 121, 121, 121, 121, 121, 121, 121, 121, 121, 121, 121, 121, 121, 121, 121, 121, 121, 121, 121, 121, 121, 121, 121, 121, 121, 121, 121, 121, 121, 121, 121, 122, 122, 122, 122, 122, 122, 122, 122, 122, 122, 122, 122, 122, 122, 122, 122, 122, 122, 122, 122, 122, 122, 122, 122, 122, 122, 122, 122, 122, 122, 122, 122, 122, 122, 122, 122, 122, 122, 122, 122, 122, 122, 122, 122, 122, 122, 122, 122, 122, 122, 122, 122, 122, 122, 122, 122, 122, 122, 122, 122, 122, 122, 122, 122, 122, 122, 122, 122, 122, 122, 122, 122, 122, 122, 122, 122, 122, 122, 122, 122, 122, 122, 123, 123, 123, 123, 123, 123, 123, 123, 123, 123, 123, 123, 123, 123, 123, 123, 123, 123, 123, 123, 123, 123, 123, 123, 123, 123, 123, 123, 123, 123, 123, 123, 123, 123, 123, 123, 123, 123, 123, 123, 123, 123, 123, 123, 123, 123, 123, 123, 123, 123, 123, 123, 123, 123, 123, 123, 123, 123, 123, 123, 123, 123, 123, 123, 123, 123, 123, 123, 123, 123, 123, 123, 123, 123, 123, 123, 123, 123, 123, 123, 123, 123, 123, 123, 123, 123, 123, 123, 123, 123, 124, 124, 124, 124, 124, 124, 124, 124, 124, 124, 124, 124, 124, 124, 124, 124, 124, 124, 124, 124, 124, 124, 124, 124, 124, 124, 124, 124, 124, 124, 124, 124, 124, 124, 124, 124, 124, 124, 124, 124, 124, 124, 124, 124, 124, 124, 124, 124, 124, 124, 124, 124, 124, 124, 124, 124, 124, 124, 124, 124, 124, 124, 124, 124, 124, 125, 125, 125, 125, 125, 125, 125, 125, 125, 125, 125, 125, 125, 125, 125, 125, 125, 125, 125, 125, 125, 125, 125, 125, 125, 125, 125, 125, 125, 125, 125, 125, 125, 125, 125, 125, 125, 125, 125, 125, 125, 125, 125, 125, 125, 125, 125, 125, 125, 125, 125, 125, 125, 125, 125, 125, 125, 125, 125, 125, 125, 125, 125, 125, 126, 126, 126, 126, 126, 126, 126, 126, 126, 126, 126, 126, 126, 126, 126, 126, 126, 126, 126, 126, 126, 126, 126, 126, 126, 126, 126, 126, 126, 126, 126, 126, 126, 126, 126, 126, 126, 126, 126, 126, 126, 126, 126, 126, 126, 126, 126, 126, 126, 126, 126, 126, 126, 126, 126, 126, 126, 126, 126, 126, 126, 126, 126, 126, 126, 126, 126, 126, 126, 126, 126, 126, 126, 126, 127, 127, 127, 127, 127, 127, 127, 127, 127, 127, 127, 127, 127, 127, 127, 127, 127, 127, 127, 127, 127, 127, 127, 127, 127, 127, 127, 127, 127, 127, 127, 127, 127, 127, 127, 127, 127, 127, 127, 127, 127, 127, 127, 127, 127, 127, 127, 127, 127, 127, 127, 127, 127, 127, 127, 127, 127, 127, 127, 127, 127, 128, 128, 128, 128, 128, 128, 128, 128, 128, 128, 128, 128, 128, 128, 128, 128, 128, 128, 128, 128, 128, 128, 128, 128, 128, 128, 128, 128, 128, 128, 128, 128, 128, 128, 128, 128, 128, 128, 128, 128, 128, 128, 128, 128, 128, 128, 128, 128, 128, 128, 128, 128, 128, 128, 128, 128, 128, 128, 128, 128, 128, 129, 129, 129, 129, 129, 129, 129, 129, 129, 129, 129, 129, 129, 129, 129, 129, 129, 129, 129, 129, 129, 129, 129, 129, 129, 129, 129, 129, 129, 129, 129, 129, 129, 129, 129, 129, 129, 129, 129, 129, 129, 129, 129, 129, 129, 129, 129, 129, 129, 129, 129, 129, 129, 129, 129, 129, 129, 129, 130, 130, 130, 130, 130, 130, 130, 130, 130, 130, 130, 130, 130, 130, 130, 130, 130, 130, 130, 130, 130, 130, 130, 130, 130, 130, 130, 130, 130, 130, 130, 130, 130, 130, 130, 130, 130, 130, 130, 130, 130, 130, 130, 130, 130, 130, 130, 130, 130, 130, 130, 130, 130, 130, 130, 130, 130, 130, 130, 130, 130, 130, 130, 130, 130, 130, 130, 131, 131, 131, 131, 131, 131, 131, 131, 131, 131, 131, 131, 131, 131, 131, 131, 131, 131, 131, 131, 131, 131, 131, 131, 131, 131, 131, 131, 131, 131, 131, 131, 131, 131, 131, 131, 131, 131, 131, 131, 131, 131, 131, 131, 131, 131, 131, 131, 131, 131, 131, 131, 131, 131, 131, 131, 131, 132, 132, 132, 132, 132, 132, 132, 132, 132, 132, 132, 132, 132, 132, 132, 132, 132, 132, 132, 132, 132, 132, 132, 132, 132, 132, 132, 132, 132, 132, 132, 132, 132, 132, 132, 132, 132, 132, 132, 132, 132, 132, 132, 132, 132, 132, 132, 132, 132, 132, 132, 132, 132, 132, 132, 132, 132, 132, 132, 133, 133, 133, 133, 133, 133, 133, 133, 133, 133, 133, 133, 133, 133, 133, 133, 133, 133, 133, 133, 133, 133, 133, 133, 133, 133, 133, 133, 133, 133, 133, 133, 133, 133, 133, 133, 133, 133, 133, 133, 133, 133, 133, 133, 133, 133, 133, 133, 133, 133, 133, 133, 133, 133, 133, 133, 134, 134, 134, 134, 134, 134, 134, 134, 134, 134, 134, 134, 134, 134, 134, 134, 134, 134, 134, 134, 134, 134, 134, 134, 134, 134, 134, 134, 134, 134, 134, 134, 134, 134, 134, 134, 134, 134, 134, 134, 134, 134, 134, 134, 134, 134, 134, 134, 134, 134, 134, 134, 134, 134, 134, 134, 134, 134, 134, 134, 134, 134, 134, 134, 134, 134, 135, 135, 135, 135, 135, 135, 135, 135, 135, 135, 135, 135, 135, 135, 135, 135, 135, 135, 135, 135, 135, 135, 135, 135, 135, 135, 135, 135, 135, 135, 135, 135, 135, 135, 135, 135, 135, 135, 135, 135, 135, 135, 135, 135, 135, 135, 135, 135, 136, 136, 136, 136, 136, 136, 136, 136, 136, 136, 136, 136, 136, 136, 136, 136, 136, 136, 136, 136, 136, 136, 136, 136, 136, 136, 136, 136, 136, 136, 136, 136, 136, 136, 136, 136, 136, 136, 136, 136, 136, 136, 136, 136, 136, 136, 136, 136, 136, 136, 136, 136, 136, 136, 136, 136, 136, 136, 136, 136, 136, 136, 136, 137, 137, 137, 137, 137, 137, 137, 137, 137, 137, 137, 137, 137, 137, 137, 137, 137, 137, 137, 137, 137, 137, 137, 137, 137, 137, 137, 137, 137, 137, 137, 137, 137, 137, 137, 137, 137, 137, 137, 137, 137, 137, 137, 137, 137, 137, 137, 137, 137, 137, 137, 137, 137, 137, 137, 137, 137, 137, 137, 137, 137, 137, 137, 138, 138, 138, 138, 138, 138, 138, 138, 138, 138, 138, 138, 138, 138, 138, 138, 138, 138, 138, 138, 138, 138, 138, 138, 138, 138, 138, 138, 138, 138, 138, 138, 138, 138, 138, 138, 138, 138, 138, 138, 138, 138, 138, 138, 138, 138, 138, 138, 138, 138, 138, 138, 138, 138, 138, 138, 138, 138, 138, 138, 138, 139, 139, 139, 139, 139, 139, 139, 139, 139, 139, 139, 139, 139, 139, 139, 139, 139, 139, 139, 139, 139, 139, 139, 139, 139, 139, 139, 139, 139, 139, 139, 139, 139, 139, 139, 139, 139, 139, 139, 139, 139, 139, 139, 139, 139, 139, 139, 139, 139, 139, 139, 139, 139, 139, 139, 139, 139, 139, 139, 139, 139, 139, 139, 140, 140, 140, 140, 140, 140, 140, 140, 140, 140, 140, 140, 140, 140, 140, 140, 140, 140, 140, 140, 140, 140, 140, 140, 140, 140, 140, 140, 140, 140, 140, 140, 140, 140, 140, 140, 140, 140, 140, 140, 140, 140, 140, 140, 140, 140, 140, 140, 140, 140, 140, 140, 140, 140, 140, 140, 140, 140, 140, 140, 140, 141, 141, 141, 141, 141, 141, 141, 141, 141, 141, 141, 141, 141, 141, 141, 141, 141, 141, 141, 141, 141, 141, 141, 141, 141, 141, 141, 141, 141, 141, 141, 141, 141, 141, 141, 141, 141, 141, 141, 141, 141, 141, 141, 141, 141, 141, 141, 141, 141, 141, 141, 141, 141, 141, 142, 142, 142, 142, 142, 142, 142, 142, 142, 142, 142, 142, 142, 142, 142, 142, 142, 142, 142, 142, 142, 142, 142, 142, 142, 142, 142, 142, 142, 142, 142, 142, 142, 142, 142, 142, 142, 142, 142, 142, 142, 142, 142, 142, 142, 142, 142, 142, 142, 142, 142, 142, 142, 142, 142, 142, 142, 142, 142, 142, 142, 142, 143, 143, 143, 143, 143, 143, 143, 143, 143, 143, 143, 143, 143, 143, 143, 143, 143, 143, 143, 143, 143, 143, 143, 143, 143, 143, 143, 143, 143, 143, 143, 143, 143, 143, 143, 143, 143, 143, 143, 143, 143, 143, 143, 143, 143, 143, 143, 143, 143, 143, 143, 143, 143, 143, 143, 143, 144, 144, 144, 144, 144, 144, 144, 144, 144, 144, 144, 144, 144, 144, 144, 144, 144, 144, 144, 144, 144, 144, 144, 144, 144, 144, 144, 144, 144, 144, 144, 144, 144, 144, 144, 144, 144, 144, 144, 144, 144, 144, 144, 144, 144, 144, 144, 144, 144, 144, 144, 144, 144, 144, 144, 144, 144, 144, 145, 145, 145, 145, 145, 145, 145, 145, 145, 145, 145, 145, 145, 145, 145, 145, 145, 145, 145, 145, 145, 145, 145, 145, 145, 145, 145, 145, 145, 145, 145, 145, 145, 145, 145, 145, 145, 145, 145, 145, 145, 145, 145, 145, 145, 145, 145, 145, 145, 145, 145, 145, 145, 145, 145, 145, 146, 146, 146, 146, 146, 146, 146, 146, 146, 146, 146, 146, 146, 146, 146, 146, 146, 146, 146, 146, 146, 146, 146, 146, 146, 146, 146, 146, 146, 146, 146, 146, 146, 146, 146, 146, 146, 146, 146, 146, 146, 146, 146, 146, 146, 146, 146, 146, 146, 146, 146, 146, 146, 146, 146, 146, 146, 146, 146, 146, 146, 146, 146, 146, 146, 146, 147, 147, 147, 147, 147, 147, 147, 147, 147, 147, 147, 147, 147, 147, 147, 147, 147, 147, 147, 147, 147, 147, 147, 147, 147, 147, 147, 147, 147, 147, 147, 147, 147, 147, 147, 147, 147, 147, 147, 147, 147, 147, 147, 147, 147, 147, 147, 147, 147, 147, 147, 147, 147, 147, 147, 147, 147, 147, 147, 147, 147, 147, 147, 147, 147, 147, 148, 148, 148, 148, 148, 148, 148, 148, 148, 148, 148, 148, 148, 148, 148, 148, 148, 148, 148, 148, 148, 148, 148, 148, 148, 148, 148, 148, 148, 148, 148, 148, 148, 148, 148, 148, 148, 148, 148, 148, 148, 148, 148, 148, 148, 148, 148, 148, 148, 148, 148, 148, 148, 148, 148, 148, 148, 148, 148, 148, 148, 148, 148, 149, 149, 149, 149, 149, 149, 149, 149, 149, 149, 149, 149, 149, 149, 149, 149, 149, 149, 149, 149, 149, 149, 149, 149, 149, 149, 149, 149, 149, 149, 149, 149, 149, 149, 149, 149, 149, 149, 149, 149, 149, 149, 149, 149, 149, 149, 149, 149, 149, 149, 149, 149, 149, 149, 149, 149, 149, 149, 149, 149, 150, 150, 150, 150, 150, 150, 150, 150, 150, 150, 150, 150, 150, 150, 150, 150, 150, 150, 150, 150, 150, 150, 150, 150, 150, 150, 150, 150, 150, 150, 150, 150, 150, 150, 150, 150, 150, 150, 150, 150, 150, 150, 150, 150, 150, 150, 150, 150, 150, 150, 150, 150, 150, 150, 150, 150, 150, 150, 150, 150, 151, 151, 151, 151, 151, 151, 151, 151, 151, 151, 151, 151, 151, 151, 151, 151, 151, 151, 151, 151, 151, 151, 151, 151, 151, 151, 151, 151, 151, 151, 151, 151, 151, 151, 151, 151, 151, 151, 151, 151, 151, 151, 151, 151, 151, 151, 151, 151, 151, 151, 151, 151, 151, 152, 152, 152, 152, 152, 152, 152, 152, 152, 152, 152, 152, 152, 152, 152, 152, 152, 152, 152, 152, 152, 152, 152, 152, 152, 152, 152, 152, 152, 152, 152, 152, 152, 152, 152, 152, 152, 152, 152, 152, 152, 152, 152, 152, 152, 152, 152, 152, 152, 152, 152, 152, 152, 152, 152, 152, 152, 152, 152, 153, 153, 153, 153, 153, 153, 153, 153, 153, 153, 153, 153, 153, 153, 153, 153, 153, 153, 153, 153, 153, 153, 153, 153, 153, 153, 153, 153, 153, 153, 153, 153, 153, 153, 153, 153, 153, 153, 153, 153, 153, 153, 153, 153, 153, 153, 153, 153, 153, 153, 153, 153, 153, 153, 153, 153, 153, 153, 153, 154, 154, 154, 154, 154, 154, 154, 154, 154, 154, 154, 154, 154, 154, 154, 154, 154, 154, 154, 154, 154, 154, 154, 154, 154, 154, 154, 154, 154, 154, 154, 154, 154, 154, 154, 154, 154, 154, 154, 154, 154, 154, 154, 154, 154, 154, 154, 154, 154, 154, 154, 154, 154, 154, 154, 154, 154, 154, 154, 154, 155, 155, 155, 155, 155, 155, 155, 155, 155, 155, 155, 155, 155, 155, 155, 155, 155, 155, 155, 155, 155, 155, 155, 155, 155, 155, 155, 155, 155, 155, 155, 155, 155, 155, 155, 155, 155, 155, 155, 155, 155, 155, 155, 155, 155, 155, 155, 155, 155, 155, 155, 155, 155, 155, 155, 155, 155, 155, 155, 155, 155, 155, 155, 155, 155, 156, 156, 156, 156, 156, 156, 156, 156, 156, 156, 156, 156, 156, 156, 156, 156, 156, 156, 156, 156, 156, 156, 156, 156, 156, 156, 156, 156, 156, 156, 156, 156, 156, 156, 156, 156, 156, 156, 156, 156, 156, 156, 156, 156, 156, 156, 156, 156, 156, 157, 157, 157, 157, 157, 157, 157, 157, 157, 157, 157, 157, 157, 157, 157, 157, 157, 157, 157, 157, 157, 157, 157, 157, 157, 157, 157, 157, 157, 157, 157, 157, 157, 157, 157, 157, 157, 157, 157, 157, 157, 157, 157, 157, 157, 157, 157, 157, 157, 157, 157, 157, 157, 157, 157, 157, 157, 157, 157, 157, 157, 158, 158, 158, 158, 158, 158, 158, 158, 158, 158, 158, 158, 158, 158, 158, 158, 158, 158, 158, 158, 158, 158, 158, 158, 158, 158, 158, 158, 158, 158, 158, 158, 158, 158, 158, 158, 158, 158, 158, 158, 158, 158, 158, 158, 158, 158, 158, 158, 158, 158, 159, 159, 159, 159, 159, 159, 159, 159, 159, 159, 159, 159, 159, 159, 159, 159, 159, 159, 159, 159, 159, 159, 159, 159, 159, 159, 159, 159, 159, 159, 159, 159, 159, 159, 159, 159, 159, 159, 159, 159, 159, 159, 159, 159, 159, 159, 159, 159, 159, 159, 159, 159, 160, 160, 160, 160, 160, 160, 160, 160, 160, 160, 160, 160, 160, 160, 160, 160, 160, 160, 160, 160, 160, 160, 160, 160, 160, 160, 160, 160, 160, 160, 160, 160, 160, 160, 160, 160, 160, 160, 160, 160, 160, 160, 160, 160, 160, 160, 160, 160, 160, 160, 160, 160, 160, 160, 161, 161, 161, 161, 161, 161, 161, 161, 161, 161, 161, 161, 161, 161, 161, 161, 161, 161, 161, 161, 161, 161, 161, 161, 161, 161, 161, 161, 161, 161, 161, 161, 161, 161, 161, 161, 161, 161, 161, 161, 161, 161, 161, 161, 161, 161, 161, 161, 161, 161, 161, 161, 161, 161, 161, 161, 161, 161, 162, 162, 162, 162, 162, 162, 162, 162, 162, 162, 162, 162, 162, 162, 162, 162, 162, 162, 162, 162, 162, 162, 162, 162, 162, 162, 162, 162, 162, 162, 162, 162, 162, 162, 162, 162, 162, 162, 162, 162, 162, 162, 162, 162, 162, 162, 162, 162, 162, 162, 163, 163, 163, 163, 163, 163, 163, 163, 163, 163, 163, 163, 163, 163, 163, 163, 163, 163, 163, 163, 163, 163, 163, 163, 163, 163, 163, 163, 163, 163, 163, 163, 163, 163, 163, 163, 163, 163, 163, 163, 163, 163, 163, 163, 163, 163, 163, 163, 163, 163, 163, 163, 163, 163, 163, 163, 163, 163, 163, 163, 163, 163, 163, 163, 164, 164, 164, 164, 164, 164, 164, 164, 164, 164, 164, 164, 164, 164, 164, 164, 164, 164, 164, 164, 164, 164, 164, 164, 164, 164, 164, 164, 164, 164, 164, 164, 164, 164, 164, 164, 164, 164, 164, 164, 164, 164, 164, 164, 164, 164, 164, 164, 164, 164, 164, 164, 164, 164, 164, 164, 164, 164, 164, 164, 164, 164, 164, 164, 164, 164, 164, 164, 165, 165, 165, 165, 165, 165, 165, 165, 165, 165, 165, 165, 165, 165, 165, 165, 165, 165, 165, 165, 165, 165, 165, 165, 165, 165, 165, 165, 165, 165, 165, 165, 165, 165, 165, 165, 165, 165, 165, 165, 165, 165, 165, 165, 165, 165, 165, 165, 165, 165, 165, 165, 165, 165, 165, 165, 166, 166, 166, 166, 166, 166, 166, 166, 166, 166, 166, 166, 166, 166, 166, 166, 166, 166, 166, 166, 166, 166, 166, 166, 166, 166, 166, 166, 166, 166, 166, 166, 166, 166, 166, 166, 166, 166, 166, 166, 166, 166, 166, 166, 166, 166, 167, 167, 167, 167, 167, 167, 167, 167, 167, 167, 167, 167, 167, 167, 167, 167, 167, 167, 167, 167, 167, 167, 167, 167, 167, 167, 167, 167, 167, 167, 167, 167, 167, 167, 167, 167, 167, 167, 167, 167, 167, 167, 167, 167, 167, 167, 167, 168, 168, 168, 168, 168, 168, 168, 168, 168, 168, 168, 168, 168, 168, 168, 168, 168, 168, 168, 168, 168, 168, 168, 168, 168, 168, 168, 168, 168, 168, 168, 168, 168, 168, 168, 168, 168, 168, 168, 168, 168, 168, 168, 168, 168, 168, 168, 168, 168, 168, 168, 168, 168, 168, 168, 168, 169, 169, 169, 169, 169, 169, 169, 169, 169, 169, 169, 169, 169, 169, 169, 169, 169, 169, 169, 169, 169, 169, 169, 169, 169, 169, 169, 169, 169, 169, 169, 169, 169, 169, 169, 169, 169, 169, 169, 169, 169, 169, 169, 169, 169, 169, 169, 169, 170, 170, 170, 170, 170, 170, 170, 170, 170, 170, 170, 170, 170, 170, 170, 170, 170, 170, 170, 170, 170, 170, 170, 170, 170, 170, 170, 170, 170, 170, 170, 170, 170, 170, 170, 170, 170, 170, 170, 170, 170, 170, 170, 170, 170, 170, 170, 170, 170, 170, 170, 170, 170, 170, 170, 170, 170, 170, 170, 170, 170, 171, 171, 171, 171, 171, 171, 171, 171, 171, 171, 171, 171, 171, 171, 171, 171, 171, 171, 171, 171, 171, 171, 171, 171, 171, 171, 171, 171, 171, 171, 171, 171, 171, 171, 171, 171, 171, 171, 171, 171, 171, 171, 171, 171, 171, 171, 171, 171, 171, 171, 171, 171, 171, 171, 171, 171, 171, 172, 172, 172, 172, 172, 172, 172, 172, 172, 172, 172, 172, 172, 172, 172, 172, 172, 172, 172, 172, 172, 172, 172, 172, 172, 172, 172, 172, 172, 172, 172, 172, 172, 172, 172, 172, 172, 172, 172, 172, 172, 172, 172, 172, 172, 172, 172, 172, 172, 172, 172, 172, 172, 172, 172, 172, 172, 172, 172, 172, 172, 173, 173, 173, 173, 173, 173, 173, 173, 173, 173, 173, 173, 173, 173, 173, 173, 173, 173, 173, 173, 173, 173, 173, 173, 173, 173, 173, 173, 173, 173, 173, 173, 173, 173, 173, 173, 173, 173, 173, 173, 173, 173, 173, 173, 173, 173, 173, 173, 173, 173, 173, 173, 173, 173, 174, 174, 174, 174, 174, 174, 174, 174, 174, 174, 174, 174, 174, 174, 174, 174, 174, 174, 174, 174, 174, 174, 174, 174, 174, 174, 174, 174, 174, 174, 174, 174, 174, 174, 174, 174, 174, 174, 174, 174, 174, 174, 174, 174, 174, 174, 174, 174, 174, 174, 174, 174, 174, 174, 174, 174, 174, 175, 175, 175, 175, 175, 175, 175, 175, 175, 175, 175, 175, 175, 175, 175, 175, 175, 175, 175, 175, 175, 175, 175, 175, 175, 175, 175, 175, 175, 175, 175, 175, 175, 175, 175, 175, 175, 175, 175, 175, 175, 175, 176, 176, 176, 176, 176, 176, 176, 176, 176, 176, 176, 176, 176, 176, 176, 176, 176, 176, 176, 176, 176, 176, 176, 176, 176, 176, 176, 176, 176, 176, 176, 176, 176, 176, 176, 176, 176, 176, 176, 176, 176, 176, 176, 176, 176, 176, 176, 176, 176, 176, 176, 176, 176, 176, 176, 176, 177, 177, 177, 177, 177, 177, 177, 177, 177, 177, 177, 177, 177, 177, 177, 177, 177, 177, 177, 177, 177, 177, 177, 177, 177, 177, 177, 177, 177, 177, 177, 177, 177, 177, 177, 177, 177, 177, 177, 177, 177, 177, 177, 177, 177, 177, 178, 178, 178, 178, 178, 178, 178, 178, 178, 178, 178, 178, 178, 178, 178, 178, 178, 178, 178, 178, 178, 178, 178, 178, 178, 178, 178, 178, 178, 178, 178, 178, 178, 178, 178, 178, 178, 178, 178, 178, 178, 178, 178, 178, 178, 178, 178, 178, 178, 178, 178, 179, 179, 179, 179, 179, 179, 179, 179, 179, 179, 179, 179, 179, 179, 179, 179, 179, 179, 179, 179, 179, 179, 179, 179, 179, 179, 179, 179, 179, 179, 179, 179, 179, 179, 179, 179, 179, 179, 179, 179, 179, 179, 179, 179, 179, 179, 179, 179, 179, 179, 179, 179, 179, 179, 180, 180, 180, 180, 180, 180, 180, 180, 180, 180, 180, 180, 180, 180, 180, 180, 180, 180, 180, 180, 180, 180, 180, 180, 180, 180, 180, 180, 180, 180, 180, 180, 180, 180, 180, 180, 180, 180, 180, 180, 180, 180, 180, 180, 180, 180, 180, 181, 181, 181, 181, 181, 181, 181, 181, 181, 181, 181, 181, 181, 181, 181, 181, 181, 181, 181, 181, 181, 181, 181, 181, 181, 181, 181, 181, 181, 181, 181, 181, 181, 181, 181, 181, 181, 181, 181, 181, 181, 181, 181, 181, 181, 181, 181, 182, 182, 182, 182, 182, 182, 182, 182, 182, 182, 182, 182, 182, 182, 182, 182, 182, 182, 182, 182, 182, 182, 182, 182, 182, 182, 182, 182, 182, 182, 182, 182, 182, 182, 182, 182, 182, 182, 182, 182, 182, 182, 182, 182, 182, 182, 182, 182, 182, 182, 182, 182, 182, 182, 182, 183, 183, 183, 183, 183, 183, 183, 183, 183, 183, 183, 183, 183, 183, 183, 183, 183, 183, 183, 183, 183, 183, 183, 183, 183, 183, 183, 183, 183, 183, 183, 183, 183, 183, 183, 183, 183, 183, 183, 183, 183, 183, 183, 183, 183, 183, 183, 183, 183, 183, 183, 183, 183, 183, 183, 183, 183, 183, 184, 184, 184, 184, 184, 184, 184, 184, 184, 184, 184, 184, 184, 184, 184, 184, 184, 184, 184, 184, 184, 184, 184, 184, 184, 184, 184, 184, 184, 184, 184, 184, 184, 184, 184, 184, 184, 184, 184, 184, 184, 184, 184, 184, 184, 184, 184, 184, 184, 185, 185, 185, 185, 185, 185, 185, 185, 185, 185, 185, 185, 185, 185, 185, 185, 185, 185, 185, 185, 185, 185, 185, 185, 185, 185, 185, 185, 185, 185, 185, 185, 185, 185, 185, 185, 185, 185, 185, 185, 185, 186, 186, 186, 186, 186, 186, 186, 186, 186, 186, 186, 186, 186, 186, 186, 186, 186, 186, 186, 186, 186, 186, 186, 186, 186, 186, 186, 186, 186, 186, 186, 186, 186, 186, 186, 186, 186, 186, 186, 186, 186, 186, 186, 186, 186, 186, 186, 186, 186, 186, 186, 186, 187, 187, 187, 187, 187, 187, 187, 187, 187, 187, 187, 187, 187, 187, 187, 187, 187, 187, 187, 187, 187, 187, 187, 187, 187, 187, 187, 187, 187, 187, 187, 187, 187, 187, 187, 187, 187, 187, 187, 188, 188, 188, 188, 188, 188, 188, 188, 188, 188, 188, 188, 188, 188, 188, 188, 188, 188, 188, 188, 188, 188, 188, 188, 188, 188, 188, 188, 188, 188, 188, 188, 188, 188, 188, 188, 188, 188, 188, 188, 188, 189, 189, 189, 189, 189, 189, 189, 189, 189, 189, 189, 189, 189, 189, 189, 189, 189, 189, 189, 189, 189, 189, 189, 189, 189, 189, 189, 189, 189, 189, 189, 189, 189, 189, 189, 189, 189, 190, 190, 190, 190, 190, 190, 190, 190, 190, 190, 190, 190, 190, 190, 190, 190, 190, 190, 190, 190, 190, 190, 190, 190, 190, 190, 190, 190, 190, 190, 190, 190, 190, 190, 190, 190, 190, 190, 190, 190, 190, 190, 190, 190, 191, 191, 191, 191, 191, 191, 191, 191, 191, 191, 191, 191, 191, 191, 191, 191, 191, 191, 191, 191, 191, 191, 191, 191, 191, 191, 191, 191, 191, 191, 191, 191, 191, 191, 191, 191, 191, 191, 191, 191, 191, 191, 191, 191, 191, 191, 191, 191, 192, 192, 192, 192, 192, 192, 192, 192, 192, 192, 192, 192, 192, 192, 192, 192, 192, 192, 192, 192, 192, 192, 192, 192, 192, 192, 192, 192, 192, 192, 192, 192, 192, 192, 192, 192, 192, 192, 192, 192, 192, 192, 192, 192, 192, 192, 192, 192, 193, 193, 193, 193, 193, 193, 193, 193, 193, 193, 193, 193, 193, 193, 193, 193, 193, 193, 193, 193, 193, 193, 193, 193, 193, 193, 193, 193, 193, 193, 193, 193, 193, 193, 193, 193, 193, 193, 193, 193, 193, 193, 193, 193, 193, 193, 193, 193, 193, 193, 193, 193, 193, 194, 194, 194, 194, 194, 194, 194, 194, 194, 194, 194, 194, 194, 194, 194, 194, 194, 194, 194, 194, 194, 194, 194, 194, 194, 194, 194, 194, 194, 194, 194, 194, 194, 194, 194, 194, 194, 194, 194, 194, 194, 194, 194, 194, 194, 194, 194, 195, 195, 195, 195, 195, 195, 195, 195, 195, 195, 195, 195, 195, 195, 195, 195, 195, 195, 195, 195, 195, 195, 195, 195, 195, 195, 195, 195, 195, 195, 195, 195, 196, 196, 196, 196, 196, 196, 196, 196, 196, 196, 196, 196, 196, 196, 196, 196, 196, 196, 196, 196, 196, 196, 196, 196, 196, 196, 196, 196, 196, 196, 196, 196, 196, 196, 196, 196, 196, 196, 196, 196, 196, 196, 196, 196, 196, 196, 196, 196, 196, 196, 196, 196, 196, 196, 196, 196, 197, 197, 197, 197, 197, 197, 197, 197, 197, 197, 197, 197, 197, 197, 197, 197, 197, 197, 197, 197, 197, 197, 197, 197, 197, 197, 197, 197, 197, 197, 197, 197, 197, 197, 197, 197, 197, 197, 197, 197, 197, 197, 198, 198, 198, 198, 198, 198, 198, 198, 198, 198, 198, 198, 198, 198, 198, 198, 198, 198, 198, 198, 198, 198, 198, 198, 198, 198, 198, 198, 198, 198, 198, 198, 198, 198, 198, 198, 198, 199, 199, 199, 199, 199, 199, 199, 199, 199, 199, 199, 199, 199, 199, 199, 199, 199, 199, 199, 199, 199, 199, 199, 199, 199, 199, 199, 199, 199, 199, 199, 199, 199, 199, 199, 199, 199, 199, 199, 199, 199, 199, 199, 199, 200, 200, 200, 200, 200, 200, 200, 200, 200, 200, 200, 200, 200, 200, 200, 200, 200, 200, 200, 200, 200, 200, 200, 200, 200, 200, 200, 200, 200, 200, 200, 200, 200, 200, 200, 200, 200, 200, 200, 200, 200, 200, 200, 200, 200, 200, 200, 200, 201, 201, 201, 201, 201, 201, 201, 201, 201, 201, 201, 201, 201, 201, 201, 201, 201, 201, 201, 201, 201, 201, 201, 201, 201, 201, 201, 201, 201, 201, 201, 201, 201, 201, 201, 201, 202, 202, 202, 202, 202, 202, 202, 202, 202, 202, 202, 202, 202, 202, 202, 202, 202, 202, 202, 202, 202, 202, 202, 202, 202, 202, 202, 202, 202, 202, 202, 202, 202, 202, 202, 202, 202, 202, 202, 202, 202, 202, 202, 202, 202, 202, 202, 202, 202, 202, 202, 202, 202, 202, 202, 203, 203, 203, 203, 203, 203, 203, 203, 203, 203, 203, 203, 203, 203, 203, 203, 203, 203, 203, 203, 203, 203, 203, 203, 203, 203, 204, 204, 204, 204, 204, 204, 204, 204, 204, 204, 204, 204, 204, 204, 204, 204, 204, 204, 204, 204, 204, 204, 204, 204, 204, 204, 204, 204, 204, 204, 204, 204, 204, 204, 204, 204, 204, 205, 205, 205, 205, 205, 205, 205, 205, 205, 205, 205, 205, 205, 205, 205, 205, 205, 205, 205, 205, 205, 205, 205, 205, 205, 205, 205, 205, 205, 205, 205, 205, 205, 205, 205, 205, 205, 205, 205, 205, 205, 205, 205, 205, 205, 206, 206, 206, 206, 206, 206, 206, 206, 206, 206, 206, 206, 206, 206, 206, 206, 206, 206, 206, 206, 206, 206, 206, 206, 206, 206, 206, 206, 206, 206, 206, 206, 206, 206, 206, 206, 206, 206, 206, 206, 207, 207, 207, 207, 207, 207, 207, 207, 207, 207, 207, 207, 207, 207, 207, 207, 207, 207, 207, 207, 207, 207, 207, 207, 207, 207, 207, 207, 207, 207, 207, 207, 207, 207, 207, 207, 207, 207, 207, 207, 207, 207, 207, 207, 207, 207, 208, 208, 208, 208, 208, 208, 208, 208, 208, 208, 208, 208, 208, 208, 208, 208, 208, 208, 208, 208, 208, 208, 208, 208, 208, 208, 208, 208, 208, 208, 208, 208, 208, 208, 208, 208, 209, 209, 209, 209, 209, 209, 209, 209, 209, 209, 209, 209, 209, 209, 209, 209, 209, 209, 209, 209, 209, 209, 209, 209, 209, 209, 209, 209, 209, 209, 209, 209, 209, 209, 209, 209, 209, 209, 209, 209, 209, 209, 209, 209, 209, 209, 209, 210, 210, 210, 210, 210, 210, 210, 210, 210, 210, 210, 210, 210, 210, 210, 210, 210, 210, 210, 210, 210, 210, 210, 210, 210, 210, 210, 210, 210, 210, 210, 210, 210, 210, 210, 210, 210, 210, 210, 210, 210, 210, 210, 210, 211, 211, 211, 211, 211, 211, 211, 211, 211, 211, 211, 211, 211, 211, 211, 211, 211, 211, 211, 211, 211, 211, 211, 211, 211, 211, 211, 211, 211, 211, 211, 211, 212, 212, 212, 212, 212, 212, 212, 212, 212, 212, 212, 212, 212, 212, 212, 212, 212, 212, 212, 212, 212, 212, 212, 212, 212, 212, 212, 212, 212, 212, 212, 212, 212, 212, 212, 212, 212, 212, 212, 212, 212, 212, 212, 212, 212, 213, 213, 213, 213, 213, 213, 213, 213, 213, 213, 213, 213, 213, 213, 213, 213, 213, 213, 213, 213, 213, 213, 213, 213, 213, 213, 213, 213, 213, 213, 213, 213, 213, 213, 213, 213, 213, 213, 213, 213, 213, 213, 213, 213, 213, 213, 213, 213, 213, 213, 213, 213, 213, 213, 213, 213, 213, 213, 213, 213, 214, 214, 214, 214, 214, 214, 214, 214, 214, 214, 214, 214, 214, 214, 214, 214, 214, 214, 214, 214, 214, 214, 214, 214, 214, 214, 214, 214, 214, 214, 214, 214, 214, 214, 214, 215, 215, 215, 215, 215, 215, 215, 215, 215, 215, 215, 215, 215, 215, 215, 215, 215, 215, 215, 215, 215, 215, 215, 215, 215, 215, 215, 215, 215, 215, 215, 215, 215, 215, 215, 215, 216, 216, 216, 216, 216, 216, 216, 216, 216, 216, 216, 216, 216, 216, 216, 216, 216, 216, 216, 216, 216, 216, 216, 216, 216, 216, 216, 216, 216, 216, 216, 216, 216, 216, 216, 216, 216, 216, 216, 216, 216, 216, 216, 217, 217, 217, 217, 217, 217, 217, 217, 217, 217, 217, 217, 217, 217, 217, 217, 217, 217, 217, 217, 217, 217, 217, 217, 217, 217, 217, 217, 217, 217, 217, 217, 217, 217, 217, 217, 217, 217, 217, 217, 217, 217, 218, 218, 218, 218, 218, 218, 218, 218, 218, 218, 218, 218, 218, 218, 218, 218, 218, 218, 218, 218, 218, 218, 218, 218, 218, 218, 218, 218, 218, 218, 218, 218, 218, 218, 218, 218, 218, 218, 218, 218, 218, 219, 219, 219, 219, 219, 219, 219, 219, 219, 219, 219, 219, 219, 219, 219, 219, 219, 219, 219, 219, 219, 219, 219, 219, 219, 219, 219, 219, 219, 219, 219, 219, 219, 219, 219, 219, 219, 219, 219, 219, 220, 220, 220, 220, 220, 220, 220, 220, 220, 220, 220, 220, 220, 220, 220, 220, 220, 220, 220, 220, 220, 220, 220, 220, 220, 220, 220, 220, 220, 220, 220, 220, 220, 220, 220, 220, 220, 220, 221, 221, 221, 221, 221, 221, 221, 221, 221, 221, 221, 221, 221, 221, 221, 221, 221, 221, 221, 221, 221, 221, 221, 221, 221, 221, 221, 221, 221, 221, 221, 221, 221, 221, 221, 221, 221, 221, 221, 222, 222, 222, 222, 222, 222, 222, 222, 222, 222, 222, 222, 222, 222, 222, 222, 222, 222, 222, 222, 222, 222, 222, 222, 222, 222, 222, 222, 222, 222, 222, 222, 222, 222, 222, 222, 222, 222, 222, 222, 222, 222, 222, 222, 222, 222, 222, 222, 222, 222, 222, 223, 223, 223, 223, 223, 223, 223, 223, 223, 223, 223, 223, 223, 223, 223, 223, 223, 223, 223, 223, 223, 223, 223, 223, 223, 223, 223, 223, 223, 223, 223, 223, 223, 223, 223, 224, 224, 224, 224, 224, 224, 224, 224, 224, 224, 224, 224, 224, 224, 224, 224, 224, 224, 224, 224, 224, 224, 224, 224, 224, 224, 224, 224, 224, 224, 224, 224, 224, 224, 224, 224, 224, 224, 224, 224, 224, 224, 224, 224, 224, 225, 225, 225, 225, 225, 225, 225, 225, 225, 225, 225, 225, 225, 225, 225, 225, 225, 225, 225, 225, 225, 225, 225, 225, 225, 225, 225, 225, 225, 226, 226, 226, 226, 226, 226, 226, 226, 226, 226, 226, 226, 226, 226, 226, 226, 226, 226, 226, 226, 226, 226, 226, 226, 226, 226, 226, 226, 226, 226, 226, 226, 226, 226, 226, 226, 226, 226, 226, 226, 227, 227, 227, 227, 227, 227, 227, 227, 227, 227, 227, 227, 227, 227, 227, 227, 227, 227, 227, 227, 227, 227, 227, 227, 227, 227, 227, 227, 227, 227, 227, 227, 228, 228, 228, 228, 228, 228, 228, 228, 228, 228, 228, 228, 228, 228, 228, 228, 228, 228, 228, 228, 228, 228, 228, 228, 228, 228, 228, 228, 228, 228, 228, 228, 228, 228, 229, 229, 229, 229, 229, 229, 229, 229, 229, 229, 229, 229, 229, 229, 229, 229, 229, 229, 229, 229, 229, 229, 229, 229, 229, 229, 229, 229, 229, 229, 229, 229, 229, 229, 229, 229, 229, 230, 230, 230, 230, 230, 230, 230, 230, 230, 230, 230, 230, 230, 230, 230, 230, 230, 230, 230, 230, 230, 230, 230, 230, 230, 230, 230, 230, 230, 230, 230, 230, 230, 230, 230, 231, 231, 231, 231, 231, 231, 231, 231, 231, 231, 231, 231, 231, 231, 231, 231, 231, 231, 231, 231, 231, 231, 231, 231, 231, 231, 231, 231, 231, 231, 231, 231, 231, 231, 231, 231, 231, 231, 231, 232, 232, 232, 232, 232, 232, 232, 232, 232, 232, 232, 232, 232, 232, 232, 232, 232, 232, 232, 232, 232, 232, 232, 232, 232, 232, 232, 232, 232, 232, 232, 232, 232, 232, 232, 233, 233, 233, 233, 233, 233, 233, 233, 233, 233, 233, 233, 233, 233, 233, 233, 233, 233, 233, 233, 233, 233, 233, 233, 233, 233, 233, 233, 233, 233, 233, 233, 233, 233, 233, 233, 233, 234, 234, 234, 234, 234, 234, 234, 234, 234, 234, 234, 234, 234, 234, 234, 234, 234, 234, 234, 234, 234, 234, 234, 234, 234, 234, 234, 234, 234, 234, 234, 234, 234, 234, 234, 234, 234, 234, 234, 234, 234, 234, 234, 234, 234, 234, 234, 234, 235, 235, 235, 235, 235, 235, 235, 235, 235, 235, 235, 235, 235, 235, 235, 235, 235, 235, 235, 235, 235, 235, 235, 235, 235, 235, 235, 235, 235, 235, 235, 235, 235, 235, 235, 236, 236, 236, 236, 236, 236, 236, 236, 236, 236, 236, 236, 236, 236, 236, 236, 236, 236, 236, 236, 236, 236, 236, 236, 236, 236, 236, 236, 236, 236, 236, 236, 236, 236, 236, 236, 236, 236, 236, 237, 237, 237, 237, 237, 237, 237, 237, 237, 237, 237, 237, 237, 237, 237, 237, 237, 237, 237, 237, 237, 237, 237, 237, 237, 237, 237, 237, 237, 237, 238, 238, 238, 238, 238, 238, 238, 238, 238, 238, 238, 238, 238, 238, 238, 238, 238, 238, 238, 238, 238, 238, 238, 238, 238, 238, 238, 238, 238, 238, 238, 238, 238, 238, 238, 238, 238, 239, 239, 239, 239, 239, 239, 239, 239, 239, 239, 239, 239, 239, 239, 239, 239, 239, 239, 239, 239, 239, 239, 239, 239, 239, 239, 239, 239, 239, 239, 239, 239, 239, 239, 239, 239, 239, 239, 239, 239, 240, 240, 240, 240, 240, 240, 240, 240, 240, 240, 240, 240, 240, 240, 240, 240, 240, 240, 240, 240, 240, 240, 240, 240, 240, 240, 240, 240, 240, 240, 240, 240, 240, 240, 240, 240, 240, 240, 240, 241, 241, 241, 241, 241, 241, 241, 241, 241, 241, 241, 241, 241, 241, 241, 241, 241, 241, 241, 241, 241, 241, 241, 241, 241, 241, 241, 241, 242, 242, 242, 242, 242, 242, 242, 242, 242, 242, 242, 242, 242, 242, 242, 242, 242, 242, 242, 242, 242, 242, 242, 242, 242, 242, 243, 243, 243, 243, 243, 243, 243, 243, 243, 243, 243, 243, 243, 243, 243, 243, 243, 243, 243, 243, 243, 243, 243, 243, 243, 243, 243, 244, 244, 244, 244, 244, 244, 244, 244, 244, 244, 244, 244, 244, 244, 244, 244, 244, 244, 244, 244, 244, 244, 244, 244, 244, 244, 244, 244, 244, 244, 244, 244, 244, 244, 244, 244, 244, 245, 245, 245, 245, 245, 245, 245, 245, 245, 245, 245, 245, 245, 245, 245, 245, 245, 245, 245, 245, 245, 245, 245, 245, 245, 245, 245, 245, 245, 245, 245, 245, 245, 245, 245, 245, 245, 245, 245, 246, 246, 246, 246, 246, 246, 246, 246, 246, 246, 246, 246, 246, 246, 246, 246, 246, 246, 246, 246, 246, 246, 246, 246, 246, 246, 246, 247, 247, 247, 247, 247, 247, 247, 247, 247, 247, 247, 247, 247, 247, 247, 247, 247, 247, 247, 247, 247, 247, 247, 247, 247, 247, 247, 247, 247, 247, 247, 247, 247, 247, 247, 248, 248, 248, 248, 248, 248, 248, 248, 248, 248, 248, 248, 248, 248, 248, 248, 248, 248, 248, 248, 248, 248, 248, 248, 248, 248, 248, 249, 249, 249, 249, 249, 249, 249, 249, 249, 249, 249, 249, 249, 249, 249, 249, 249, 249, 249, 249, 249, 249, 249, 249, 249, 249, 249, 249, 250, 250, 250, 250, 250, 250, 250, 250, 250, 250, 250, 250, 250, 250, 250, 250, 250, 250, 250, 250, 250, 250, 250, 250, 250, 250, 250, 250, 250, 250, 250, 250, 250, 250, 250, 250, 250, 250, 250, 250, 250, 250, 250, 251, 251, 251, 251, 251, 251, 251, 251, 251, 251, 251, 251, 251, 251, 251, 251, 251, 251, 251, 251, 251, 251, 251, 251, 251, 251, 251, 251, 251, 251, 251, 251, 251, 251, 251, 251, 251, 251, 251, 251, 251, 251, 251, 251, 252, 252, 252, 252, 252, 252, 252, 252, 252, 252, 252, 252, 252, 252, 252, 252, 252, 252, 252, 252, 252, 252, 252, 252, 252, 252, 252, 252, 253, 253, 253, 253, 253, 253, 253, 253, 253, 253, 253, 253, 253, 253, 253, 253, 253, 253, 253, 253, 253, 253, 253, 253, 253, 253, 253, 253, 253, 253, 253, 253, 253, 253, 253, 253, 253, 254, 254, 254, 254, 254, 254, 254, 254, 254, 254, 254, 254, 254, 254, 254, 254, 254, 254, 254, 254, 254, 254, 254, 254, 254, 254, 255, 255, 255, 255, 255, 255, 255, 255, 255, 255, 255, 255, 255, 255, 255, 255, 255, 255, 255, 255, 255, 255, 255, 255, 255, 255, 255, 255, 255, 255, 256, 256, 256, 256, 256, 256, 256, 256, 256, 256, 256, 256, 256, 256, 256, 256, 256, 256, 256, 256, 256, 256, 257, 257, 257, 257, 257, 257, 257, 257, 257, 257, 257, 257, 257, 257, 257, 257, 257, 257, 257, 257, 257, 257, 257, 257, 257, 257, 257, 257, 257, 257, 257, 258, 258, 258, 258, 258, 258, 258, 258, 258, 258, 258, 258, 258, 258, 258, 258, 258, 258, 258, 258, 258, 258, 258, 258, 258, 258, 258, 258, 258, 258, 258, 258, 258, 259, 259, 259, 259, 259, 259, 259, 259, 259, 259, 259, 259, 259, 259, 259, 259, 259, 259, 259, 259, 259, 259, 259, 259, 259, 259, 259, 259, 259, 259, 259, 259, 260, 260, 260, 260, 260, 260, 260, 260, 260, 260, 260, 260, 260, 260, 260, 260, 260, 260, 260, 260, 260, 260, 260, 260, 260, 260, 260, 260, 260, 260, 260, 260, 260, 261, 261, 261, 261, 261, 261, 261, 261, 261, 261, 261, 261, 261, 261, 261, 261, 261, 261, 261, 261, 261, 261, 261, 261, 261, 261, 261, 261, 261, 261, 261, 262, 262, 262, 262, 262, 262, 262, 262, 262, 262, 262, 262, 262, 262, 262, 262, 262, 262, 262, 263, 263, 263, 263, 263, 263, 263, 263, 263, 263, 263, 263, 263, 263, 263, 263, 263, 263, 263, 263, 263, 263, 263, 263, 263, 263, 264, 264, 264, 264, 264, 264, 264, 264, 264, 264, 264, 264, 264, 264, 264, 264, 264, 264, 264, 264, 264, 264, 264, 264, 264, 265, 265, 265, 265, 265, 265, 265, 265, 265, 265, 265, 265, 265, 265, 265, 265, 265, 265, 265, 265, 265, 265, 265, 265, 265, 265, 265, 265, 265, 265, 266, 266, 266, 266, 266, 266, 266, 266, 266, 266, 266, 266, 266, 266, 266, 266, 266, 266, 266, 266, 266, 266, 266, 266, 266, 266, 266, 266, 266, 267, 267, 267, 267, 267, 267, 267, 267, 267, 267, 267, 267, 267, 267, 267, 267, 267, 267, 267, 268, 268, 268, 268, 268, 268, 268, 268, 268, 268, 268, 268, 268, 268, 268, 268, 268, 268, 268, 268, 268, 268, 268, 268, 268, 268, 269, 269, 269, 269, 269, 269, 269, 269, 269, 269, 269, 269, 269, 269, 269, 269, 269, 269, 269, 269, 269, 269, 269, 269, 269, 269, 269, 269, 270, 270, 270, 270, 270, 270, 270, 270, 270, 270, 270, 270, 270, 270, 270, 270, 270, 270, 270, 270, 270, 270, 270, 270, 271, 271, 271, 271, 271, 271, 271, 271, 271, 271, 271, 271, 271, 271, 271, 271, 271, 271, 271, 271, 271, 271, 272, 272, 272, 272, 272, 272, 272, 272, 272, 272, 272, 272, 272, 272, 272, 272, 272, 272, 272, 272, 272, 272, 272, 272, 272, 272, 272, 272, 273, 273, 273, 273, 273, 273, 273, 273, 273, 273, 273, 273, 273, 273, 273, 273, 273, 273, 273, 273, 273, 273, 273, 273, 273, 273, 274, 274, 274, 274, 274, 274, 274, 274, 274, 274, 274, 274, 274, 274, 274, 274, 274, 274, 274, 274, 274, 274, 274, 274, 274, 275, 275, 275, 275, 275, 275, 275, 275, 275, 275, 275, 275, 275, 275, 275, 275, 275, 275, 275, 275, 275, 275, 275, 275, 275, 275, 275, 275, 275, 275, 275, 276, 276, 276, 276, 276, 276, 276, 276, 276, 276, 276, 276, 276, 276, 276, 276, 276, 276, 276, 276, 276, 276, 276, 276, 276, 276, 276, 276, 276, 276, 276, 276, 276, 276, 276, 276, 276, 276, 277, 277, 277, 277, 277, 277, 277, 277, 277, 277, 277, 277, 277, 277, 277, 277, 277, 277, 277, 277, 277, 277, 277, 277, 278, 278, 278, 278, 278, 278, 278, 278, 278, 278, 278, 278, 278, 278, 278, 278, 278, 278, 278, 278, 278, 278, 278, 278, 278, 279, 279, 279, 279, 279, 279, 279, 279, 279, 279, 279, 279, 279, 279, 279, 279, 279, 279, 279, 279, 279, 279, 279, 279, 279, 279, 279, 279, 279, 279, 279, 280, 280, 280, 280, 280, 280, 280, 280, 280, 280, 280, 280, 280, 280, 280, 280, 280, 280, 280, 280, 280, 280, 280, 280, 280, 280, 280, 280, 280, 280, 280, 280, 280, 281, 281, 281, 281, 281, 281, 281, 281, 281, 281, 281, 281, 281, 281, 281, 281, 281, 281, 281, 281, 281, 281, 281, 281, 282, 282, 282, 282, 282, 282, 282, 282, 282, 282, 282, 282, 282, 282, 282, 282, 282, 282, 282, 282, 282, 282, 282, 282, 282, 282, 283, 283, 283, 283, 283, 283, 283, 283, 283, 283, 283, 283, 283, 283, 283, 283, 283, 283, 283, 283, 283, 284, 284, 284, 284, 284, 284, 284, 284, 284, 284, 284, 284, 284, 284, 284, 284, 284, 284, 284, 285, 285, 285, 285, 285, 285, 285, 285, 285, 285, 285, 285, 285, 285, 285, 285, 285, 285, 285, 285, 285, 286, 286, 286, 286, 286, 286, 286, 286, 286, 286, 286, 286, 286, 286, 287, 287, 287, 287, 287, 287, 287, 287, 287, 287, 287, 287, 287, 287, 287, 287, 287, 287, 287, 287, 287, 287, 287, 287, 287, 287, 287, 287, 287, 287, 287, 287, 288, 288, 288, 288, 288, 288, 288, 288, 288, 288, 288, 288, 288, 288, 288, 288, 288, 288, 288, 288, 288, 288, 288, 288, 288, 288, 288, 288, 288, 288, 288, 288, 288, 288, 288, 288, 288, 288, 289, 289, 289, 289, 289, 289, 289, 289, 289, 289, 289, 289, 289, 289, 289, 289, 289, 289, 289, 289, 289, 289, 289, 289, 289, 289, 289, 289, 289, 289, 290, 290, 290, 290, 290, 290, 290, 290, 290, 290, 290, 290, 290, 290, 290, 290, 290, 290, 290, 290, 290, 290, 290, 290, 290, 290, 290, 290, 291, 291, 291, 291, 291, 291, 291, 291, 291, 291, 291, 291, 291, 291, 291, 292, 292, 292, 292, 292, 292, 292, 292, 292, 292, 292, 292, 292, 292, 292, 292, 292, 292, 292, 292, 292, 292, 292, 292, 292, 292, 292, 292, 293, 293, 293, 293, 293, 293, 293, 293, 293, 293, 293, 293, 293, 293, 293, 293, 293, 293, 293, 293, 293, 293, 293, 293, 293, 293, 293, 293, 293, 293, 293, 293, 293, 294, 294, 294, 294, 294, 294, 294, 294, 294, 294, 294, 294, 294, 294, 294, 294, 294, 294, 294, 294, 294, 294, 294, 294, 294, 294, 295, 295, 295, 295, 295, 295, 295, 295, 295, 295, 295, 295, 295, 295, 295, 295, 295, 295, 295, 295, 295, 295, 295, 295, 295, 296, 296, 296, 296, 296, 296, 296, 296, 296, 296, 296, 296, 296, 296, 296, 296, 296, 296, 296, 296, 296, 296, 296, 296, 296, 297, 297, 297, 297, 297, 297, 297, 297, 297, 297, 297, 297, 297, 297, 297, 297, 297, 297, 297, 297, 297, 297, 297, 298, 298, 298, 298, 298, 298, 298, 298, 298, 298, 298, 298, 298, 298, 298, 298, 298, 298, 298, 298, 298, 298, 299, 299, 299, 299, 299, 299, 299, 299, 299, 299, 299, 299, 299, 299, 299, 299, 299, 299, 299, 299, 299, 299, 299, 299, 299, 300, 300, 300, 300, 300, 300, 300, 300, 300, 300, 300, 300, 300, 300, 300, 300, 300, 300, 300, 300, 300, 300, 300, 300, 300, 300, 300, 300, 300, 300, 301, 301, 301, 301, 301, 301, 301, 301, 301, 301, 301, 301, 301, 301, 301, 301, 301, 301, 301, 301, 301, 301, 301, 301, 301, 301, 301, 301, 301, 301, 302, 302, 302, 302, 302, 302, 302, 302, 302, 302, 302, 302, 302, 302, 302, 302, 302, 302, 302, 302, 302, 302, 302, 303, 303, 303, 303, 303, 303, 303, 303, 303, 303, 303, 303, 303, 303, 303, 303, 303, 303, 303, 303, 303, 303, 303, 303, 304, 304, 304, 304, 304, 304, 304, 304, 304, 304, 304, 304, 304, 304, 304, 304, 304, 304, 304, 304, 304, 304, 304, 304, 304, 304, 304, 304, 304, 304, 304, 305, 305, 305, 305, 305, 305, 305, 305, 305, 305, 305, 305, 305, 305, 305, 305, 305, 305, 305, 305, 305, 305, 305, 305, 305, 305, 305, 306, 306, 306, 306, 306, 306, 306, 306, 306, 306, 306, 306, 306, 306, 306, 306, 306, 306, 306, 306, 306, 306, 306, 306, 306, 306, 306, 307, 307, 307, 307, 307, 307, 307, 307, 307, 307, 307, 307, 307, 307, 307, 307, 307, 307, 307, 307, 307, 307, 307, 307, 307, 307, 307, 308, 308, 308, 308, 308, 308, 308, 308, 308, 308, 308, 308, 308, 308, 308, 308, 308, 308, 308, 308, 308, 309, 309, 309, 309, 309, 309, 309, 309, 309, 309, 309, 309, 309, 309, 309, 309, 309, 309, 309, 309, 309, 309, 309, 309, 309, 309, 309, 309, 309, 310, 310, 310, 310, 310, 310, 310, 310, 310, 310, 310, 310, 310, 310, 310, 310, 310, 310, 310, 310, 310, 310, 310, 311, 311, 311, 311, 311, 311, 311, 311, 311, 311, 311, 311, 311, 311, 311, 311, 311, 311, 311, 311, 311, 311, 311, 311, 311, 311, 311, 311, 311, 312, 312, 312, 312, 312, 312, 312, 312, 312, 312, 312, 312, 312, 312, 312, 312, 312, 312, 312, 312, 312, 312, 313, 313, 313, 313, 313, 313, 313, 313, 313, 313, 313, 313, 313, 313, 313, 313, 313, 313, 313, 313, 313, 313, 313, 314, 314, 314, 314, 314, 314, 314, 314, 314, 314, 314, 314, 314, 314, 314, 314, 314, 314, 314, 314, 314, 314, 314, 314, 314, 314, 315, 315, 315, 315, 315, 315, 315, 315, 315, 315, 315, 315, 315, 315, 315, 315, 315, 315, 315, 315, 315, 316, 316, 316, 316, 316, 316, 316, 316, 316, 316, 316, 316, 316, 316, 316, 316, 316, 316, 316, 316, 316, 316, 316, 316, 317, 317, 317, 317, 317, 317, 317, 317, 317, 317, 317, 317, 317, 317, 317, 317, 317, 317, 317, 317, 317, 317, 317, 317, 317, 318, 318, 318, 318, 318, 318, 318, 318, 318, 318, 318, 318, 318, 318, 318, 318, 318, 318, 318, 318, 318, 318, 318, 318, 318, 318, 319, 319, 319, 319, 319, 319, 319, 319, 319, 319, 319, 319, 319, 319, 319, 319, 319, 319, 319, 319, 319, 319, 319, 319, 319, 319, 320, 320, 320, 320, 320, 320, 320, 320, 320, 320, 320, 320, 320, 320, 320, 320, 321, 321, 321, 321, 321, 321, 321, 321, 321, 321, 321, 321, 321, 321, 321, 321, 321, 321, 321, 321, 321, 321, 321, 322, 322, 322, 322, 322, 322, 322, 322, 322, 322, 322, 322, 322, 322, 322, 322, 322, 323, 323, 323, 323, 323, 323, 323, 323, 323, 323, 323, 323, 323, 323, 323, 323, 323, 323, 323, 324, 324, 324, 324, 324, 324, 324, 324, 324, 324, 324, 324, 324, 324, 324, 324, 324, 324, 324, 324, 324, 324, 324, 324, 324, 324, 324, 324, 324, 325, 325, 325, 325, 325, 325, 325, 325, 325, 325, 325, 325, 325, 325, 325, 325, 326, 326, 326, 326, 326, 326, 326, 326, 326, 326, 326, 326, 326, 326, 326, 326, 326, 326, 326, 326, 326, 326, 326, 326, 326, 327, 327, 327, 327, 327, 327, 327, 327, 327, 327, 327, 327, 327, 327, 327, 327, 327, 327, 327, 327, 327, 327, 327, 327, 327, 328, 328, 328, 328, 328, 328, 328, 328, 328, 328, 328, 328, 328, 328, 328, 328, 328, 328, 328, 329, 329, 329, 329, 329, 329, 329, 329, 329, 329, 329, 329, 329, 329, 329, 329, 329, 329, 329, 330, 330, 330, 330, 330, 330, 330, 330, 330, 330, 330, 330, 330, 330, 330, 330, 330, 330, 330, 330, 330, 330, 330, 330, 330, 330, 330, 330, 330, 330, 331, 331, 331, 331, 331, 331, 331, 331, 331, 331, 331, 331, 331, 331, 331, 331, 331, 331, 331, 331, 331, 332, 332, 332, 332, 332, 332, 332, 332, 332, 332, 332, 332, 332, 332, 332, 332, 332, 332, 332, 332, 332, 332, 332, 332, 333, 333, 333, 333, 333, 333, 333, 333, 333, 333, 333, 333, 333, 333, 333, 333, 333, 333, 333, 333, 333, 333, 333, 333, 333, 333, 333, 334, 334, 334, 334, 334, 334, 334, 334, 334, 334, 334, 334, 334, 334, 334, 334, 334, 334, 334, 335, 335, 335, 335, 335, 335, 335, 335, 335, 335, 335, 335, 335, 335, 335, 335, 335, 335, 336, 336, 336, 336, 336, 336, 336, 336, 336, 336, 336, 336, 336, 336, 336, 336, 336, 336, 336, 336, 336, 336, 336, 336, 336, 336, 336, 337, 337, 337, 337, 337, 337, 337, 337, 337, 337, 337, 337, 337, 337, 337, 337, 337, 337, 337, 337, 337, 337, 337, 338, 338, 338, 338, 338, 338, 338, 338, 338, 338, 338, 338, 338, 338, 338, 339, 339, 339, 339, 339, 339, 339, 339, 339, 339, 339, 339, 339, 339, 339, 339, 339, 339, 339, 339, 339, 339, 339, 339, 339, 339, 340, 340, 340, 340, 340, 340, 340, 340, 340, 340, 340, 340, 340, 340, 340, 341, 341, 341, 341, 341, 341, 341, 341, 341, 341, 341, 341, 341, 341, 341, 341, 341, 341, 341, 342, 342, 342, 342, 342, 342, 342, 342, 342, 342, 342, 342, 342, 342, 342, 342, 342, 342, 342, 342, 342, 342, 342, 342, 342, 343, 343, 343, 343, 343, 343, 343, 343, 343, 343, 343, 343, 343, 343, 343, 343, 343, 343, 343, 344, 344, 344, 344, 344, 344, 344, 344, 344, 344, 344, 344, 344, 344, 344, 344, 344, 344, 344, 344, 344, 345, 345, 345, 345, 345, 345, 345, 345, 345, 345, 345, 345, 345, 345, 345, 345, 345, 345, 345, 345, 345, 345, 345, 345, 345, 346, 346, 346, 346, 346, 346, 346, 346, 346, 346, 346, 346, 346, 346, 346, 346, 347, 347, 347, 347, 347, 347, 347, 347, 347, 347, 347, 347, 347, 347, 348, 348, 348, 348, 348, 348, 348, 348, 348, 348, 348, 348, 348, 348, 348, 348, 348, 348, 348, 348, 348, 348, 349, 349, 349, 349, 349, 349, 349, 349, 349, 349, 349, 349, 349, 349, 349, 349, 349, 349, 349, 349, 349, 349, 349, 349, 349, 349, 349, 349, 350, 350, 350, 350, 350, 350, 350, 350, 350, 350, 350, 350, 350, 350, 350, 350, 350, 350, 350, 350, 350, 350, 350, 350, 350, 350, 350, 351, 351, 351, 351, 351, 351, 351, 351, 351, 351, 351, 351, 351, 351, 351, 351, 351, 351, 351, 351, 351, 351, 351, 351, 352, 352, 352, 352, 352, 352, 352, 352, 352, 352, 352, 352, 352, 352, 352, 352, 352, 352, 352, 352, 352, 352, 353, 353, 353, 353, 353, 353, 353, 353, 353, 353, 353, 353, 353, 353, 353, 353, 353, 353, 353, 354, 354, 354, 354, 354, 354, 354, 354, 354, 354, 354, 354, 354, 354, 355, 355, 355, 355, 355, 355, 355, 355, 355, 355, 355, 355, 355, 355, 355, 355, 355, 355, 356, 356, 356, 356, 356, 356, 356, 356, 356, 356, 356, 356, 356, 356, 356, 356, 356, 356, 356, 356, 357, 357, 357, 357, 357, 357, 357, 357, 357, 357, 357, 357, 357, 357, 357, 357, 357, 357, 357, 358, 358, 358, 358, 358, 358, 358, 358, 358, 358, 358, 358, 358, 358, 359, 359, 359, 359, 359, 359, 359, 359, 359, 359, 359, 359, 359, 359, 359, 359, 359, 359, 359, 359, 359, 359, 360, 360, 360, 360, 360, 360, 360, 360, 360, 360, 360, 360, 360, 360, 360, 360, 360, 360, 360, 360, 361, 361, 361, 361, 361, 361, 361, 361, 361, 361, 361, 361, 361, 361, 361, 362, 362, 362, 362, 362, 362, 362, 362, 362, 362, 362, 362, 362, 362, 362, 362, 362, 362, 362, 363, 363, 363, 363, 363, 363, 363, 363, 363, 363, 363, 363, 363, 363, 363, 363, 363, 364, 364, 364, 364, 364, 364, 364, 364, 364, 364, 364, 364, 364, 364, 364, 364, 364, 365, 365, 365, 365, 365, 365, 365, 365, 365, 365, 365, 365, 365, 366, 366, 366, 366, 366, 366, 366, 366, 366, 366, 366, 366, 366, 367, 367, 367, 367, 367, 367, 367, 367, 367, 367, 367, 367, 367, 367, 367, 367, 367, 367, 368, 368, 368, 368, 368, 368, 368, 368, 368, 368, 368, 368, 368, 368, 368, 368, 368, 368, 368, 368, 368, 368, 368, 368, 368, 368, 369, 369, 369, 369, 369, 369, 369, 369, 369, 369, 369, 369, 369, 369, 369, 369, 369, 369, 369, 369, 369, 369, 369, 369, 369, 370, 370, 370, 370, 370, 370, 370, 370, 370, 370, 370, 370, 370, 370, 370, 370, 370, 370, 370, 370, 370, 370, 370, 370, 370, 371, 371, 371, 371, 371, 371, 371, 371, 371, 371, 371, 371, 371, 371, 371, 371, 371, 371, 371, 371, 371, 371, 372, 372, 372, 372, 372, 372, 372, 372, 372, 372, 372, 372, 372, 372, 373, 373, 373, 373, 373, 373, 373, 373, 373, 373, 373, 373, 373, 373, 373, 373, 373, 373, 373, 373, 373, 373, 373, 373, 373, 373, 374, 374, 374, 374, 374, 374, 374, 374, 375, 375, 375, 375, 375, 375, 375, 375, 375, 375, 375, 375, 375, 375, 375, 375, 375, 375, 376, 376, 376, 376, 376, 376, 376, 376, 376, 376, 376, 376, 376, 376, 376, 376, 376, 376, 377, 377, 377, 377, 377, 377, 377, 377, 377, 377, 377, 377, 378, 378, 378, 378, 378, 378, 378, 378, 378, 378, 378, 378, 378, 378, 378, 378, 378, 378, 378, 378, 378, 378, 379, 379, 379, 379, 379, 379, 379, 379, 379, 379, 379, 379, 379, 379, 379, 379, 379, 379, 379, 379, 379, 379, 379, 379, 380, 380, 380, 380, 380, 380, 380, 380, 380, 380, 380, 380, 380, 380, 380, 380, 380, 381, 381, 381, 381, 381, 381, 381, 381, 381, 381, 381, 381, 381, 381, 381, 381, 381, 381, 381, 381, 381, 381, 381, 382, 382, 382, 382, 382, 382, 382, 382, 382, 382, 382, 382, 382, 382, 382, 382, 382, 382, 382, 382, 382, 383, 383, 383, 383, 383, 383, 383, 383, 383, 383, 383, 383, 383, 383, 383, 383, 383, 383, 383, 383, 383, 383, 383, 383, 383, 384, 384, 384, 384, 384, 384, 384, 384, 384, 384, 384, 384, 384, 384, 384, 384, 384, 384, 384, 384, 384, 385, 385, 385, 385, 385, 385, 385, 385, 385, 385, 385, 385, 385, 385, 385, 385, 385, 385, 385, 386, 386, 386, 386, 386, 386, 386, 386, 386, 386, 386, 386, 386, 386, 386, 386, 386, 386, 386, 386, 386, 387, 387, 387, 387, 387, 387, 387, 387, 387, 387, 387, 387, 387, 387, 387, 387, 387, 388, 388, 388, 388, 388, 388, 388, 388, 388, 388, 388, 388, 388, 388, 388, 388, 388, 388, 388, 388, 388, 388, 388, 388, 388, 389, 389, 389, 389, 389, 389, 389, 389, 389, 389, 389, 389, 389, 389, 389, 389, 389, 389, 389, 389, 390, 390, 390, 390, 390, 390, 390, 390, 390, 390, 390, 390, 390, 390, 390, 390, 390, 391, 391, 391, 391, 391, 391, 391, 391, 391, 391, 391, 391, 391, 392, 392, 392, 392, 392, 392, 392, 392, 392, 392, 392, 392, 392, 392, 392, 392, 393, 393, 393, 393, 393, 393, 393, 393, 393, 393, 393, 393, 394, 394, 394, 394, 394, 394, 394, 394, 394, 394, 394, 394, 394, 394, 394, 394, 394, 395, 395, 395, 395, 395, 395, 395, 395, 395, 395, 395, 395, 395, 395, 395, 395, 395, 395, 396, 396, 396, 396, 396, 396, 396, 396, 396, 396, 396, 396, 396, 397, 397, 397, 397, 397, 397, 397, 397, 397, 397, 398, 398, 398, 398, 398, 398, 398, 398, 398, 398, 398, 398, 399, 399, 399, 399, 399, 399, 399, 399, 399, 399, 399, 399, 399, 399, 399, 399, 399, 400, 400, 400, 400, 400, 400, 400, 400, 400, 400, 400, 400, 400, 400, 400, 400, 400, 400, 400, 400, 401, 401, 401, 401, 401, 401, 401, 401, 401, 401, 401, 401, 401, 401, 401, 401, 401, 401, 401, 402, 402, 402, 402, 402, 402, 402, 402, 402, 402, 402, 402, 402, 402, 402, 402, 403, 403, 403, 403, 403, 403, 403, 403, 403, 403, 403, 403, 403, 403, 404, 404, 404, 404, 404, 404, 404, 404, 404, 404, 404, 404, 404, 404, 404, 404, 404, 405, 405, 405, 405, 405, 405, 405, 405, 405, 405, 405, 405, 405, 405, 405, 405, 405, 406, 406, 406, 406, 406, 406, 406, 406, 406, 406, 406, 406, 406, 406, 406, 406, 406, 406, 407, 407, 407, 407, 407, 407, 407, 407, 407, 407, 407, 407, 407, 407, 408, 408, 408, 408, 408, 408, 408, 408, 408, 408, 408, 408, 408, 409, 409, 409, 409, 409, 409, 409, 409, 409, 409, 409, 409, 409, 409, 409, 409, 409, 409, 409, 409, 409, 409, 410, 410, 410, 410, 410, 410, 410, 410, 410, 410, 410, 410, 410, 410, 410, 410, 410, 410, 410, 410, 410, 411, 411, 411, 411, 411, 411, 411, 411, 411, 411, 411, 411, 411, 412, 412, 412, 412, 412, 412, 412, 412, 412, 412, 412, 412, 412, 412, 412, 412, 412, 412, 412, 412, 412, 412, 412, 412, 413, 413, 413, 413, 413, 413, 413, 413, 413, 413, 413, 413, 413, 413, 414, 414, 414, 414, 414, 414, 414, 414, 414, 414, 414, 414, 414, 414, 414, 414, 414, 414, 415, 415, 415, 415, 415, 415, 415, 415, 415, 415, 415, 415, 415, 415, 415, 415, 415, 415, 415, 415, 416, 416, 416, 416, 416, 416, 416, 416, 416, 416, 416, 416, 416, 416, 416, 416, 416, 416, 416, 416, 417, 417, 417, 417, 417, 417, 417, 417, 417, 417, 417, 417, 417, 417, 417, 418, 418, 418, 418, 418, 418, 418, 418, 418, 418, 418, 418, 418, 418, 418, 418, 418, 418, 418, 418, 418, 419, 419, 419, 419, 419, 419, 419, 419, 419, 419, 419, 419, 419, 419, 419, 419, 420, 420, 420, 420, 420, 420, 420, 420, 420, 420, 420, 420, 421, 421, 421, 421, 421, 421, 421, 421, 421, 421, 421, 421, 421, 421, 421, 421, 421, 421, 421, 421, 422, 422, 422, 422, 422, 422, 422, 422, 422, 422, 422, 422, 422, 422, 422, 422, 423, 423, 423, 423, 423, 423, 423, 423, 423, 423, 423, 423, 423, 423, 423, 423, 423, 424, 424, 424, 424, 424, 424, 424, 424, 424, 424, 424, 424, 424, 424, 424, 424, 424, 425, 425, 425, 425, 425, 425, 425, 425, 425, 425, 425, 425, 426, 426, 426, 426, 426, 426, 426, 426, 426, 426, 426, 426, 426, 426, 426, 426, 426, 426, 426, 426, 426, 426, 427, 427, 427, 427, 427, 427, 427, 427, 427, 427, 427, 427, 427, 427, 427, 427, 427, 427, 427, 427, 428, 428, 428, 428, 428, 428, 428, 428, 428, 428, 428, 428, 428, 428, 429, 429, 429, 429, 429, 429, 429, 429, 429, 429, 429, 429, 429, 429, 429, 429, 429, 429, 429, 430, 430, 430, 430, 430, 430, 430, 430, 430, 430, 430, 430, 430, 430, 430, 430, 430, 430, 430, 431, 431, 431, 431, 431, 431, 431, 431, 431, 431, 431, 431, 431, 431, 431, 431, 431, 431, 432, 432, 432, 432, 432, 432, 432, 432, 432, 432, 432, 432, 432, 432, 432, 432, 432, 433, 433, 433, 433, 433, 433, 433, 433, 433, 433, 433, 433, 433, 433, 433, 433, 433, 434, 434, 434, 434, 434, 434, 434, 434, 434, 434, 434, 434, 434, 434, 434, 434, 434, 434, 435, 435, 435, 435, 435, 435, 435, 435, 435, 435, 435, 435, 435, 436, 436, 436, 436, 436, 436, 436, 436, 436, 436, 436, 436, 436, 436, 436, 436, 436, 436, 436, 436, 436, 436, 436, 436, 436, 437, 437, 437, 437, 437, 437, 437, 437, 438, 438, 438, 438, 438, 438, 438, 438, 438, 438, 438, 438, 438, 438, 438, 438, 438, 438, 438, 438, 438, 439, 439, 439, 439, 439, 439, 439, 439, 439, 439, 439, 439, 439, 439, 439, 439, 439, 439, 440, 440, 440, 440, 440, 440, 440, 440, 440, 440, 440, 440, 440, 440, 440, 440, 440, 440, 441, 441, 441, 441, 441, 441, 441, 441, 441, 441, 441, 441, 441, 441, 441, 441, 441, 441, 441, 441, 441, 441, 441, 441, 442, 442, 442, 442, 442, 442, 442, 442, 442, 442, 442, 442, 442, 442, 442, 442, 442, 442, 442, 442, 443, 443, 443, 443, 443, 443, 443, 443, 443, 443, 443, 443, 443, 443, 443, 443, 444, 444, 444, 444, 444, 444, 444, 444, 444, 444, 444, 444, 444, 444, 444, 445, 445, 445, 445, 445, 445, 445, 445, 445, 445, 445, 445, 445, 445, 446, 446, 446, 446, 446, 446, 446, 446, 446, 446, 446, 447, 447, 447, 447, 447, 447, 447, 447, 447, 447, 447, 447, 447, 447, 447, 448, 448, 448, 448, 448, 448, 448, 448, 448, 448, 448, 448, 448, 448, 448, 448, 448, 448, 448, 448, 448, 448, 448, 449, 449, 449, 449, 449, 449, 449, 449, 449, 449, 449, 449, 449, 449, 449, 449, 449, 449, 449, 449, 449, 449, 449, 450, 450, 450, 450, 450, 450, 450, 450, 450, 450, 450, 450, 450, 450, 450, 450, 451, 451, 451, 451, 451, 451, 451, 451, 451, 451, 451, 451, 451, 451, 451, 451, 451, 452, 452, 452, 452, 452, 452, 452, 452, 452, 452, 452, 452, 452, 452, 452, 452, 452, 452, 453, 453, 453, 453, 453, 453, 453, 453, 453, 453, 453, 453, 453, 453, 453, 453, 453, 453, 453, 453, 453, 453, 454, 454, 454, 454, 454, 454, 454, 454, 454, 454, 454, 454, 454, 454, 454, 454, 454, 454, 454, 454, 454, 455, 455, 455, 455, 455, 455, 455, 455, 455, 455, 455, 455, 455, 455, 455, 455, 455, 455, 455, 455, 455, 455, 455, 456, 456, 456, 456, 456, 456, 456, 456, 456, 456, 456, 456, 456, 456, 456, 457, 457, 457, 457, 457, 457, 457, 457, 457, 457, 457, 457, 457, 457, 457, 457, 457, 457, 457, 457, 457, 457, 457, 457, 458, 458, 458, 458, 458, 458, 458, 458, 458, 458, 458, 458, 458, 458, 458, 458, 458, 458, 458, 458, 458, 458, 459, 459, 459, 459, 459, 459, 459, 459, 459, 459, 459, 459, 459, 460, 460, 460, 460, 460, 460, 460, 460, 460, 460, 460, 460, 460, 460, 460, 461, 461, 461, 461, 461, 461, 461, 461, 461, 461, 461, 462, 462, 462, 462, 462, 462, 462, 462, 462, 462, 462, 462, 462, 462, 462, 462, 462, 462, 462, 462, 463, 463, 463, 463, 463, 463, 463, 463, 463, 463, 463, 463, 463, 463, 463, 463, 463, 463, 463, 464, 464, 464, 464, 464, 464, 464, 464, 464, 464, 464, 464, 464, 464, 465, 465, 465, 465, 465, 465, 465, 465, 465, 465, 465, 465, 465, 465, 465, 465, 465, 465, 465, 465, 465, 466, 466, 466, 466, 466, 466, 466, 466, 466, 466, 466, 466, 466, 466, 466, 466, 466, 466, 466, 466, 466, 466, 467, 467, 467, 467, 467, 467, 467, 467, 467, 467, 467, 467, 467, 467, 467, 467, 467, 467, 467, 467, 467, 467, 467, 468, 468, 468, 468, 468, 468, 468, 468, 468, 468, 468, 468, 468, 468, 468, 468, 468, 468, 468, 468, 468, 468, 468, 468, 468, 468, 468, 469, 469, 469, 469, 469, 469, 469, 469, 469, 469, 469, 469, 469, 469, 469, 469, 469, 469, 469, 469, 469, 469, 469, 469, 470, 470, 470, 470, 470, 470, 470, 470, 470, 470, 470, 470, 470, 470, 470, 470, 470, 470, 470, 471, 471, 471, 471, 471, 471, 471, 471, 471, 471, 471, 471, 471, 471, 471, 471, 471, 471, 471, 471, 471, 471, 471, 471, 471, 471, 472, 472, 472, 472, 472, 472, 472, 472, 472, 472, 472, 472, 472, 472, 472, 472, 472, 472, 472, 472, 472, 472, 472, 473, 473, 473, 473, 473, 473, 473, 473, 473, 473, 473, 473, 473, 473, 473, 473, 473, 473, 473, 473, 473, 473, 473, 473, 474, 474, 474, 474, 474, 474, 474, 474, 474, 474, 474, 474, 474, 474, 474, 474, 474, 474, 474, 474, 474, 474, 474, 475, 475, 475, 475, 475, 475, 475, 475, 475, 475, 475, 475, 475, 475, 475, 475, 475, 475, 475, 475, 475, 475, 475, 476, 476, 476, 476, 476, 476, 476, 476, 476, 476, 476, 476, 476, 476, 476, 476, 476, 476, 476, 476, 476, 476, 476, 476, 476, 476, 476, 477, 477, 477, 477, 477, 477, 477, 477, 477, 477, 477, 477, 477, 477, 477, 477, 477, 477, 477, 477, 477, 477, 477, 477, 477, 478, 478, 478, 478, 478, 478, 478, 478, 478, 478, 478, 478, 478, 478, 478, 478, 478, 478, 478, 478, 479, 479, 479, 479, 479, 479, 479, 479, 479, 479, 479, 479, 479, 479, 479, 479, 479, 479, 479, 479, 479, 479, 479, 479, 480, 480, 480, 480, 480, 480, 480, 480, 480, 480, 480, 480, 480, 480, 480, 480, 480, 480, 480, 480, 480, 480, 480, 480, 480, 480, 480, 480, 480, 481, 481, 481, 481, 481, 481, 481, 481, 481, 481, 481, 481, 481, 481, 481, 481, 481, 481, 481, 481, 481, 481, 481, 481, 481, 481, 482, 482, 482, 482, 482, 482, 482, 482, 482, 482, 482, 482, 482, 482, 482, 482, 482, 482, 483, 483, 483, 483, 483, 483, 483, 483, 483, 483, 483, 483, 483, 483, 483, 483, 483, 483, 483, 483, 483, 483, 483, 483, 483, 483, 483, 483, 483, 483, 483, 483, 483, 483, 484, 484, 484, 484, 484, 484, 484, 484, 484, 484, 484, 484, 484, 484, 484, 484, 484, 484, 484, 484, 484, 484, 484, 484, 484, 484, 484, 485, 485, 485, 485, 485, 485, 485, 485, 485, 485, 485, 485, 485, 485, 485, 485, 485, 485, 485, 485, 485, 485, 485, 485, 485, 485, 485, 485, 485, 485, 485, 485, 485, 485, 485, 485, 486, 486, 486, 486, 486, 486, 486, 486, 486, 486, 486, 486, 486, 486, 486, 486, 486, 486, 486, 486, 486, 486, 486, 486, 486, 486, 486, 487, 487, 487, 487, 487, 487, 487, 487, 487, 487, 487, 487, 487, 487, 487, 487, 487, 487, 487, 487, 487, 487, 487, 487, 487, 487, 487, 487, 487, 488, 488, 488, 488, 488, 488, 488, 488, 488, 488, 488, 488, 488, 488, 488, 488, 488, 488, 488, 488, 488, 488, 488, 488, 488, 488, 488, 488, 488, 488, 488, 488, 488, 488, 489, 489, 489, 489, 489, 489, 489, 489, 489, 489, 489, 489, 489, 489, 489, 489, 489, 489, 489, 489, 489, 489, 489, 489, 489, 489, 489, 489, 489, 489, 489, 490, 490, 490, 490, 490, 490, 490, 490, 490, 490, 490, 490, 490, 490, 490, 490, 490, 490, 490, 490, 490, 490, 490, 490, 490, 490, 490, 490, 490, 490, 490, 491, 491, 491, 491, 491, 491, 491, 491, 491, 491, 491, 491, 491, 491, 491, 491, 491, 491, 491, 491, 491, 491, 491, 491, 492, 492, 492, 492, 492, 492, 492, 492, 492, 492, 492, 492, 492, 492, 492, 492, 492, 492, 492, 492, 492, 492, 492, 492, 492, 492, 492, 492, 492, 492, 492, 492, 493, 493, 493, 493, 493, 493, 493, 493, 493, 493, 493, 493, 493, 493, 493, 493, 493, 493, 493, 493, 493, 493, 493, 493, 493, 493, 493, 493, 493, 493, 493, 493, 493, 494, 494, 494, 494, 494, 494, 494, 494, 494, 494, 494, 494, 494, 494, 494, 494, 494, 494, 494, 494, 494, 494, 494, 494, 494, 494, 494, 494, 494, 494, 494, 494, 494, 494, 494, 494, 494, 494, 494, 494, 495, 495, 495, 495, 495, 495, 495, 495, 495, 495, 495, 495, 495, 495, 495, 495, 495, 495, 495, 495, 495, 495, 495, 495, 495, 495, 495, 495, 495, 495, 495, 495, 495, 495, 495, 495, 495, 496, 496, 496, 496, 496, 496, 496, 496, 496, 496, 496, 496, 496, 496, 496, 496, 496, 496, 496, 496, 496, 496, 496, 496, 496, 496, 496, 496, 497, 497, 497, 497, 497, 497, 497, 497, 497, 497, 497, 497, 497, 497, 497, 497, 497, 497, 497, 497, 497, 497, 497, 497, 497, 497, 497, 497, 497, 497, 497, 497, 497, 497, 498, 498, 498, 498, 498, 498, 498, 498, 498, 498, 498, 498, 498, 498, 498, 498, 498, 498, 498, 498, 498, 498, 498, 498, 498, 498, 498, 498, 498, 498, 498, 498, 498, 498, 498, 498, 498, 498, 498, 499, 499, 499, 499, 499, 499, 499, 499, 499, 499, 499, 499, 499, 499, 499, 499, 499, 499, 499, 499, 499, 499, 499, 499, 499, 499, 499, 499, 499, 499, 499, 499, 499, 500, 500, 500, 500, 500, 500, 500, 500, 500, 500, 500, 500, 500, 500, 500, 500, 500, 500, 500, 500, 500, 500, 500, 500, 500, 500, 500, 500, 500, 500, 500, 500, 500, 500, 500, 500, 501, 501, 501, 501, 501, 501, 501, 501, 501, 501, 501, 501, 501, 501, 501, 501, 501, 501, 501, 501, 501, 501, 501, 501, 501, 501, 501, 501, 501, 501, 501, 501, 501, 501, 501, 501, 501, 501, 501, 501, 501, 501, 501, 501, 501, 502, 502, 502, 502, 502, 502, 502, 502, 502, 502, 502, 502, 502, 502, 502, 502, 502, 502, 502, 502, 502, 502, 502, 502, 502, 502, 502, 502, 502, 502, 502, 502, 502, 502, 502, 502, 502, 502, 502, 502, 502, 502, 503, 503, 503, 503, 503, 503, 503, 503, 503, 503, 503, 503, 503, 503, 503, 503, 503, 503, 503, 503, 503, 503, 503, 503, 503, 503, 503, 503, 503, 503, 503, 503, 503, 503, 503, 503, 503, 503, 503, 503, 503, 503, 503, 504, 504, 504, 504, 504, 504, 504, 504, 504, 504, 504, 504, 504, 504, 504, 504, 504, 504, 504, 504, 504, 504, 504, 504, 504, 504, 504, 504, 504, 504, 504, 504, 504, 504, 504, 504, 504, 504, 504, 504, 504, 504, 504, 505, 505, 505, 505, 505, 505, 505, 505, 505, 505, 505, 505, 505, 505, 505, 505, 505, 505, 505, 505, 505, 505, 505, 505, 505, 505, 505, 505, 505, 505, 505, 505, 505, 505, 505, 505, 505, 505, 505, 505, 505, 505, 505, 505, 505, 505, 505, 505, 505, 505, 505, 505, 505, 506, 506, 506, 506, 506, 506, 506, 506, 506, 506, 506, 506, 506, 506, 506, 506, 506, 506, 506, 506, 506, 506, 506, 506, 506, 506, 506, 506, 506, 506, 506, 506, 506, 506, 506, 506, 506, 506, 506, 507, 507, 507, 507, 507, 507, 507, 507, 507, 507, 507, 507, 507, 507, 507, 507, 507, 507, 507, 507, 507, 507, 507, 507, 507, 507, 507, 507, 507, 507, 507, 507, 507, 507, 507, 507, 507, 507, 507, 507, 507, 507, 507, 507, 507, 507, 508, 508, 508, 508, 508, 508, 508, 508, 508, 508, 508, 508, 508, 508, 508, 508, 508, 508, 508, 508, 508, 508, 508, 508, 508, 508, 508, 508, 508, 508, 508, 508, 508, 508, 508, 508, 508, 508, 508, 508, 508, 508, 508, 508, 508, 508, 508, 508, 508, 508, 508, 508, 508, 508, 508, 508, 508, 509, 509, 509, 509, 509, 509, 509, 509, 509, 509, 509, 509, 509, 509, 509, 509, 509, 509, 509, 509, 509, 509, 509, 509, 509, 509, 509, 509, 509, 509, 509, 509, 509, 509, 509, 509, 509, 509, 509, 509, 509, 509, 509, 509, 509, 509, 509, 509, 509, 509, 510, 510, 510, 510, 510, 510, 510, 510, 510, 510, 510, 510, 510, 510, 510, 510, 510, 510, 510, 510, 510, 510, 510, 510, 510, 510, 510, 510, 510, 510, 510, 510, 510, 510, 510, 510, 510, 510, 510, 510, 510, 510, 510, 510, 510, 510, 510, 510, 510, 510, 510, 510, 510, 510, 510, 511, 511, 511, 511, 511, 511, 511, 511, 511, 511, 511, 511, 511, 511, 511, 511, 511, 511, 511, 511, 511, 511, 511, 511, 511, 511, 511, 511, 511, 511, 511, 511, 511, 511, 511, 511, 511, 511, 511, 511, 511, 511, 511, 511, 511, 511, 511, 511, 512, 512, 512, 512, 512, 512, 512, 512, 512, 512, 512, 512, 512, 512, 512, 512, 512, 512, 512, 512, 512, 512, 512, 512, 512, 512, 512, 512, 512, 512, 512, 512, 512, 512, 512, 512, 512, 512, 512, 512, 512, 512, 512, 512, 512, 512, 512, 513, 513, 513, 513, 513, 513, 513, 513, 513, 513, 513, 513, 513, 513, 513, 513, 513, 513, 513, 513, 513, 513, 513, 513, 513, 513, 513, 513, 513, 513, 513, 513, 513, 513, 513, 513, 513, 513, 513, 513, 513, 513, 513, 513, 513, 513, 513, 513, 513, 513, 513, 513, 513, 513, 513, 513, 513, 513, 514, 514, 514, 514, 514, 514, 514, 514, 514, 514, 514, 514, 514, 514, 514, 514, 514, 514, 514, 514, 514, 514, 514, 514, 514, 514, 514, 514, 514, 514, 514, 514, 514, 514, 514, 514, 514, 514, 514, 514, 514, 514, 514, 514, 514, 514, 514, 515, 515, 515, 515, 515, 515, 515, 515, 515, 515, 515, 515, 515, 515, 515, 515, 515, 515, 515, 515, 515, 515, 515, 515, 515, 515, 515, 515, 515, 515, 515, 515, 515, 515, 515, 515, 515, 515, 515, 515, 515, 515, 515, 515, 515, 515, 515, 515, 515, 515, 515, 515, 515, 515, 515, 515, 515, 515, 515, 515, 515, 516, 516, 516, 516, 516, 516, 516, 516, 516, 516, 516, 516, 516, 516, 516, 516, 516, 516, 516, 516, 516, 516, 516, 516, 516, 516, 516, 516, 516, 516, 516, 516, 516, 516, 516, 516, 516, 516, 516, 516, 516, 516, 516, 516, 516, 516, 516, 516, 516, 516, 516, 516, 516, 516, 516, 516, 517, 517, 517, 517, 517, 517, 517, 517, 517, 517, 517, 517, 517, 517, 517, 517, 517, 517, 517, 517, 517, 517, 517, 517, 517, 517, 517, 517, 517, 517, 517, 517, 517, 517, 517, 517, 517, 517, 517, 517, 517, 517, 517, 517, 517, 517, 517, 517, 517, 517, 517, 517, 518, 518, 518, 518, 518, 518, 518, 518, 518, 518, 518, 518, 518, 518, 518, 518, 518, 518, 518, 518, 518, 518, 518, 518, 518, 518, 518, 518, 518, 518, 518, 518, 518, 518, 518, 518, 518, 518, 518, 518, 518, 518, 518, 518, 518, 518, 518, 518, 518, 518, 518, 518, 518, 518, 518, 518, 518, 518, 519, 519, 519, 519, 519, 519, 519, 519, 519, 519, 519, 519, 519, 519, 519, 519, 519, 519, 519, 519, 519, 519, 519, 519, 519, 519, 519, 519, 519, 519, 519, 519, 519, 519, 519, 519, 519, 519, 519, 519, 519, 519, 519, 519, 519, 519, 519, 519, 519, 519, 519, 519, 519, 519, 519, 519, 519, 519, 519, 519, 519, 519, 519, 519, 519, 519, 519, 519, 519, 519, 519, 519, 519, 519, 519, 519, 519, 520, 520, 520, 520, 520, 520, 520, 520, 520, 520, 520, 520, 520, 520, 520, 520, 520, 520, 520, 520, 520, 520, 520, 520, 520, 520, 520, 520, 520, 520, 520, 520, 520, 520, 520, 520, 520, 520, 520, 520, 520, 520, 520, 520, 520, 520, 521, 521, 521, 521, 521, 521, 521, 521, 521, 521, 521, 521, 521, 521, 521, 521, 521, 521, 521, 521, 521, 521, 521, 521, 521, 521, 521, 521, 521, 521, 521, 521, 521, 521, 521, 521, 521, 521, 521, 521, 521, 521, 521, 522, 522, 522, 522, 522, 522, 522, 522, 522, 522, 522, 522, 522, 522, 522, 522, 522, 522, 522, 522, 522, 522, 522, 522, 522, 522, 522, 522, 522, 522, 522, 522, 522, 522, 522, 522, 522, 522, 522, 523, 523, 523, 523, 523, 523, 523, 523, 523, 523, 523, 523, 523, 523, 523, 523, 523, 523, 523, 523, 523, 523, 523, 523, 523, 523, 523, 523, 523, 523, 523, 523, 523, 523, 523, 523, 523, 523, 523, 523, 523, 523, 523, 523, 523, 523, 523, 523, 523, 523, 523, 523, 523, 523, 523, 523, 524, 524, 524, 524, 524, 524, 524, 524, 524, 524, 524, 524, 524, 524, 524, 524, 524, 524, 524, 524, 524, 524, 524, 524, 524, 524, 524, 524, 524, 524, 524, 524, 524, 524, 524, 524, 524, 524, 524, 524, 524, 524, 524, 524, 524, 524, 524, 524, 524, 524, 524, 524, 524, 524, 524, 525, 525, 525, 525, 525, 525, 525, 525, 525, 525, 525, 525, 525, 525, 525, 525, 525, 525, 525, 525, 525, 525, 525, 525, 525, 525, 525, 525, 525, 525, 525, 525, 525, 525, 525, 525, 525, 525, 525, 525, 525, 525, 525, 525, 525, 525, 525, 525, 525, 525, 525, 525, 525, 525, 525, 525, 525, 525, 525, 525, 525, 525, 525, 526, 526, 526, 526, 526, 526, 526, 526, 526, 526, 526, 526, 526, 526, 526, 526, 526, 526, 526, 526, 526, 526, 526, 526, 526, 526, 526, 526, 526, 526, 526, 526, 526, 526, 526, 526, 526, 526, 526, 526, 526, 526, 526, 526, 526, 526, 526, 526, 526, 526, 526, 526, 526, 526, 526, 527, 527, 527, 527, 527, 527, 527, 527, 527, 527, 527, 527, 527, 527, 527, 527, 527, 527, 527, 527, 527, 527, 527, 527, 527, 527, 527, 527, 527, 527, 527, 527, 527, 527, 527, 527, 527, 527, 527, 527, 527, 527, 527, 527, 527, 527, 527, 527, 527, 527, 527, 527, 527, 527, 527, 528, 528, 528, 528, 528, 528, 528, 528, 528, 528, 528, 528, 528, 528, 528, 528, 528, 528, 528, 528, 528, 528, 528, 528, 528, 528, 528, 528, 528, 528, 528, 528, 528, 528, 528, 528, 528, 528, 528, 528, 528, 528, 528, 528, 528, 528, 528, 528, 528, 528, 528, 528, 528, 528, 528, 528, 528, 528, 528, 528, 528, 528, 528, 528, 528, 528, 528, 528, 528, 528, 528, 528, 528, 528, 528, 528, 529, 529, 529, 529, 529, 529, 529, 529, 529, 529, 529, 529, 529, 529, 529, 529, 529, 529, 529, 529, 529, 529, 529, 529, 529, 529, 529, 529, 529, 529, 529, 529, 529, 529, 529, 529, 529, 529, 529, 529, 529, 529, 529, 529, 529, 529, 529, 529, 529, 529, 529, 529, 529, 529, 529, 529, 529, 529, 529, 529, 529, 529, 529, 529, 529, 529, 529, 529, 529, 529, 529, 529, 529, 529, 530, 530, 530, 530, 530, 530, 530, 530, 530, 530, 530, 530, 530, 530, 530, 530, 530, 530, 530, 530, 530, 530, 530, 530, 530, 530, 530, 530, 530, 530, 530, 530, 530, 530, 530, 530, 530, 530, 530, 530, 530, 530, 530, 530, 530, 530, 530, 530, 530, 530, 530, 530, 530, 530, 530, 530, 530, 530, 530, 530, 530, 530, 530, 530, 530, 530, 530, 530, 530, 530, 530, 531, 531, 531, 531, 531, 531, 531, 531, 531, 531, 531, 531, 531, 531, 531, 531, 531, 531, 531, 531, 531, 531, 531, 531, 531, 531, 531, 531, 531, 531, 531, 531, 531, 531, 531, 531, 531, 531, 531, 531, 531, 531, 531, 531, 531, 531, 531, 531, 531, 531, 531, 531, 531, 531, 531, 531, 531, 531, 531, 531, 531, 531, 531, 531, 531, 531, 531, 531, 531, 531, 531, 531, 532, 532, 532, 532, 532, 532, 532, 532, 532, 532, 532, 532, 532, 532, 532, 532, 532, 532, 532, 532, 532, 532, 532, 532, 532, 532, 532, 532, 532, 532, 532, 532, 532, 532, 532, 532, 532, 532, 532, 532, 532, 532, 532, 532, 532, 532, 532, 532, 532, 532, 532, 532, 532, 532, 532, 532, 532, 532, 532, 532, 532, 532, 532, 532, 532, 532, 532, 532, 532, 532, 532, 532, 532, 532, 532, 532, 533, 533, 533, 533, 533, 533, 533, 533, 533, 533, 533, 533, 533, 533, 533, 533, 533, 533, 533, 533, 533, 533, 533, 533, 533, 533, 533, 533, 533, 533, 533, 533, 533, 533, 533, 533, 533, 533, 533, 533, 533, 533, 533, 533, 533, 533, 533, 533, 533, 533, 533, 533, 533, 533, 534, 534, 534, 534, 534, 534, 534, 534, 534, 534, 534, 534, 534, 534, 534, 534, 534, 534, 534, 534, 534, 534, 534, 534, 534, 534, 534, 534, 534, 534, 534, 534, 534, 534, 534, 534, 534, 534, 534, 534, 534, 534, 534, 534, 534, 534, 534, 534, 534, 534, 534, 534, 534, 534, 535, 535, 535, 535, 535, 535, 535, 535, 535, 535, 535, 535, 535, 535, 535, 535, 535, 535, 535, 535, 535, 535, 535, 535, 535, 535, 535, 535, 535, 535, 535, 535, 535, 535, 535, 535, 535, 535, 535, 535, 535, 535, 535, 535, 535, 535, 535, 535, 535, 535, 535, 535, 535, 535, 536, 536, 536, 536, 536, 536, 536, 536, 536, 536, 536, 536, 536, 536, 536, 536, 536, 536, 536, 536, 536, 536, 536, 536, 536, 536, 536, 536, 536, 536, 536, 536, 536, 536, 536, 536, 536, 536, 536, 536, 536, 536, 536, 536, 536, 536, 536, 536, 536, 536, 536, 536, 536, 536, 536, 536, 536, 536, 536, 536, 536, 536, 536, 536, 536, 536, 536, 536, 536, 536, 536, 536, 536, 536, 536, 536, 536, 536, 536, 537, 537, 537, 537, 537, 537, 537, 537, 537, 537, 537, 537, 537, 537, 537, 537, 537, 537, 537, 537, 537, 537, 537, 537, 537, 537, 537, 537, 537, 537, 537, 537, 537, 537, 537, 537, 537, 537, 537, 537, 537, 537, 537, 537, 537, 537, 537, 537, 537, 537, 537, 537, 537, 537, 537, 537, 537, 537, 537, 537, 537, 537, 537, 537, 537, 537, 537, 537, 537, 537, 537, 537, 537, 537, 537, 537, 537, 538, 538, 538, 538, 538, 538, 538, 538, 538, 538, 538, 538, 538, 538, 538, 538, 538, 538, 538, 538, 538, 538, 538, 538, 538, 538, 538, 538, 538, 538, 538, 538, 538, 538, 538, 538, 538, 538, 538, 538, 538, 538, 538, 538, 538, 538, 538, 538, 538, 538, 538, 538, 538, 538, 538, 538, 538, 538, 538, 538, 538, 538, 538, 538, 538, 538, 538, 538, 538, 538, 538, 538, 538, 539, 539, 539, 539, 539, 539, 539, 539, 539, 539, 539, 539, 539, 539, 539, 539, 539, 539, 539, 539, 539, 539, 539, 539, 539, 539, 539, 539, 539, 539, 539, 539, 539, 539, 539, 539, 539, 539, 539, 539, 539, 539, 539, 539, 539, 539, 539, 539, 539, 539, 539, 539, 539, 539, 539, 539, 539, 539, 539, 539, 539, 539, 539, 539, 539, 539, 539, 539, 539, 539, 540, 540, 540, 540, 540, 540, 540, 540, 540, 540, 540, 540, 540, 540, 540, 540, 540, 540, 540, 540, 540, 540, 540, 540, 540, 540, 540, 540, 540, 540, 540, 540, 540, 540, 540, 540, 540, 540, 540, 540, 540, 540, 540, 540, 540, 540, 540, 540, 540, 540, 540, 540, 540, 540, 540, 540, 540, 540, 540, 540, 540, 540, 541, 541, 541, 541, 541, 541, 541, 541, 541, 541, 541, 541, 541, 541, 541, 541, 541, 541, 541, 541, 541, 541, 541, 541, 541, 541, 541, 541, 541, 541, 541, 541, 541, 541, 541, 541, 541, 541, 541, 541, 541, 541, 541, 541, 541, 541, 541, 541, 541, 541, 541, 541, 541, 541, 541, 541, 541, 541, 541, 541, 541, 541, 541, 541, 541, 541, 541, 541, 541, 541, 542, 542, 542, 542, 542, 542, 542, 542, 542, 542, 542, 542, 542, 542, 542, 542, 542, 542, 542, 542, 542, 542, 542, 542, 542, 542, 542, 542, 542, 542, 542, 542, 542, 542, 542, 542, 542, 542, 542, 542, 542, 542, 542, 542, 542, 542, 542, 542, 542, 542, 542, 542, 542, 542, 542, 542, 542, 542, 542, 542, 542, 543, 543, 543, 543, 543, 543, 543, 543, 543, 543, 543, 543, 543, 543, 543, 543, 543, 543, 543, 543, 543, 543, 543, 543, 543, 543, 543, 543, 543, 543, 543, 543, 543, 543, 543, 543, 543, 543, 543, 543, 543, 543, 543, 543, 543, 543, 543, 543, 543, 543, 543, 543, 543, 543, 543, 543, 543, 543, 543, 543, 543, 543, 543, 543, 543, 543, 543, 543, 543, 543, 543, 543, 543, 543, 543, 543, 543, 543, 543, 544, 544, 544, 544, 544, 544, 544, 544, 544, 544, 544, 544, 544, 544, 544, 544, 544, 544, 544, 544, 544, 544, 544, 544, 544, 544, 544, 544, 544, 544, 544, 544, 544, 544, 544, 544, 544, 544, 544, 544, 544, 544, 544, 544, 544, 544, 544, 544, 544, 544, 544, 544, 544, 544, 544, 544, 544, 544, 544, 544, 544, 544, 544, 544, 544, 544, 544, 544, 544, 544, 544, 545, 545, 545, 545, 545, 545, 545, 545, 545, 545, 545, 545, 545, 545, 545, 545, 545, 545, 545, 545, 545, 545, 545, 545, 545, 545, 545, 545, 545, 545, 545, 545, 545, 545, 545, 545, 545, 545, 545, 545, 545, 545, 545, 545, 545, 545, 545, 545, 545, 545, 545, 545, 545, 545, 545, 545, 545, 546, 546, 546, 546, 546, 546, 546, 546, 546, 546, 546, 546, 546, 546, 546, 546, 546, 546, 546, 546, 546, 546, 546, 546, 546, 546, 546, 546, 546, 546, 546, 546, 546, 546, 546, 546, 546, 546, 546, 546, 546, 546, 546, 546, 546, 546, 546, 546, 546, 546, 546, 546, 546, 546, 546, 546, 546, 546, 546, 546, 546, 546, 546, 546, 546, 546, 546, 546, 546, 546, 546, 546, 546, 546, 546, 546, 546, 546, 546, 546, 546, 546, 546, 546, 547, 547, 547, 547, 547, 547, 547, 547, 547, 547, 547, 547, 547, 547, 547, 547, 547, 547, 547, 547, 547, 547, 547, 547, 547, 547, 547, 547, 547, 547, 547, 547, 547, 547, 547, 547, 547, 547, 547, 547, 547, 547, 547, 547, 547, 547, 547, 547, 547, 548, 548, 548, 548, 548, 548, 548, 548, 548, 548, 548, 548, 548, 548, 548, 548, 548, 548, 548, 548, 548, 548, 548, 548, 548, 548, 548, 548, 548, 548, 548, 548, 548, 548, 548, 548, 548, 548, 548, 548, 548, 548, 548, 548, 548, 548, 548, 548, 548, 548, 548, 548, 548, 548, 548, 549, 549, 549, 549, 549, 549, 549, 549, 549, 549, 549, 549, 549, 549, 549, 549, 549, 549, 549, 549, 549, 549, 549, 549, 549, 549, 549, 549, 549, 549, 549, 549, 549, 549, 549, 549, 549, 549, 549, 549, 549, 549, 549, 549, 549, 549, 549, 549, 549, 549, 549, 549, 549, 549, 549, 549, 549, 549, 549, 549, 549, 549, 549, 549, 549, 550, 550, 550, 550, 550, 550, 550, 550, 550, 550, 550, 550, 550, 550, 550, 550, 550, 550, 550, 550, 550, 550, 550, 550, 550, 550, 550, 550, 550, 550, 550, 550, 550, 550, 550, 550, 550, 550, 550, 550, 550, 550, 550, 550, 550, 550, 550, 550, 550, 550, 550, 550, 550, 550, 550, 550, 550, 550, 550, 550, 550, 550, 550, 550, 550, 550, 550, 550, 550, 550, 550, 551, 551, 551, 551, 551, 551, 551, 551, 551, 551, 551, 551, 551, 551, 551, 551, 551, 551, 551, 551, 551, 551, 551, 551, 551, 551, 551, 551, 551, 551, 551, 551, 551, 551, 551, 551, 551, 551, 551, 551, 551, 551, 551, 551, 551, 551, 551, 551, 551, 551, 551, 551, 551, 551, 551, 551, 551, 551, 551, 551, 551, 551, 551, 551, 551, 551, 551, 551, 551, 551, 551, 551, 551, 552, 552, 552, 552, 552, 552, 552, 552, 552, 552, 552, 552, 552, 552, 552, 552, 552, 552, 552, 552, 552, 552, 552, 552, 552, 552, 552, 552, 552, 552, 552, 552, 552, 552, 552, 552, 552, 552, 552, 552, 552, 552, 552, 552, 552, 552, 552, 552, 552, 552, 552, 552, 552, 552, 552, 552, 552, 552, 552, 552, 552, 552, 552, 552, 552, 552, 552, 552, 552, 552, 553, 553, 553, 553, 553, 553, 553, 553, 553, 553, 553, 553, 553, 553, 553, 553, 553, 553, 553, 553, 553, 553, 553, 553, 553, 553, 553, 553, 553, 553, 553, 553, 553, 553, 553, 553, 553, 553, 553, 553, 553, 553, 553, 553, 553, 553, 553, 553, 553, 553, 553, 553, 553, 553, 553, 553, 553, 553, 553, 553, 553, 553, 554, 554, 554, 554, 554, 554, 554, 554, 554, 554, 554, 554, 554, 554, 554, 554, 554, 554, 554, 554, 554, 554, 554, 554, 554, 554, 554, 554, 554, 554, 554, 554, 554, 554, 554, 554, 554, 554, 554, 554, 554, 554, 554, 554, 554, 554, 554, 554, 554, 554, 554, 554, 554, 554, 554, 554, 554, 554, 554, 554, 554, 554, 555, 555, 555, 555, 555, 555, 555, 555, 555, 555, 555, 555, 555, 555, 555, 555, 555, 555, 555, 555, 555, 555, 555, 555, 555, 555, 555, 555, 555, 555, 555, 555, 555, 555, 555, 555, 555, 555, 555, 555, 555, 555, 555, 555, 555, 555, 555, 555, 555, 555, 555, 555, 555, 555, 555, 555, 555, 555, 555, 555, 555, 555, 555, 555, 555, 555, 555, 555, 555, 555, 555, 555, 555, 555, 555, 555, 555, 555, 555, 555, 555, 555, 556, 556, 556, 556, 556, 556, 556, 556, 556, 556, 556, 556, 556, 556, 556, 556, 556, 556, 556, 556, 556, 556, 556, 556, 556, 556, 556, 556, 556, 556, 556, 556, 556, 556, 556, 556, 556, 556, 556, 556, 556, 556, 556, 556, 556, 556, 556, 556, 556, 556, 556, 556, 557, 557, 557, 557, 557, 557, 557, 557, 557, 557, 557, 557, 557, 557, 557, 557, 557, 557, 557, 557, 557, 557, 557, 557, 557, 557, 557, 557, 557, 557, 557, 557, 557, 557, 557, 557, 557, 557, 557, 557, 557, 557, 557, 557, 557, 557, 557, 557, 557, 557, 557, 557, 557, 557, 557, 557, 557, 557, 557, 557, 557, 557, 557, 558, 558, 558, 558, 558, 558, 558, 558, 558, 558, 558, 558, 558, 558, 558, 558, 558, 558, 558, 558, 558, 558, 558, 558, 558, 558, 558, 558, 558, 558, 558, 558, 558, 558, 558, 558, 558, 558, 558, 558, 558, 558, 558, 558, 558, 558, 558, 558, 558, 558, 558, 558, 559, 559, 559, 559, 559, 559, 559, 559, 559, 559, 559, 559, 559, 559, 559, 559, 559, 559, 559, 559, 559, 559, 559, 559, 559, 559, 559, 559, 559, 559, 559, 559, 559, 559, 559, 559, 559, 559, 559, 559, 559, 559, 559, 559, 559, 559, 559, 559, 559, 559, 559, 559, 559, 559, 559, 559, 559, 559, 559, 559, 559, 559, 559, 559, 559, 560, 560, 560, 560, 560, 560, 560, 560, 560, 560, 560, 560, 560, 560, 560, 560, 560, 560, 560, 560, 560, 560, 560, 560, 560, 560, 560, 560, 560, 560, 560, 560, 560, 560, 560, 560, 560, 560, 560, 560, 560, 560, 560, 560, 560, 560, 560, 560, 560, 560, 560, 560, 560, 560, 560, 560, 560, 560, 560, 560, 560, 560, 560, 560, 561, 561, 561, 561, 561, 561, 561, 561, 561, 561, 561, 561, 561, 561, 561, 561, 561, 561, 561, 561, 561, 561, 561, 561, 561, 561, 561, 561, 561, 561, 561, 561, 561, 561, 561, 561, 561, 561, 561, 561, 561, 561, 561, 561, 561, 561, 561, 561, 561, 561, 561, 561, 561, 561, 561, 561, 562, 562, 562, 562, 562, 562, 562, 562, 562, 562, 562, 562, 562, 562, 562, 562, 562, 562, 562, 562, 562, 562, 562, 562, 562, 562, 562, 562, 562, 562, 562, 562, 562, 562, 562, 562, 562, 562, 562, 562, 562, 562, 562, 562, 562, 562, 562, 562, 562, 562, 562, 562, 562, 562, 562, 562, 562, 562, 562, 562, 562, 562, 562, 562, 562, 562, 562, 562, 562, 563, 563, 563, 563, 563, 563, 563, 563, 563, 563, 563, 563, 563, 563, 563, 563, 563, 563, 563, 563, 563, 563, 563, 563, 563, 563, 563, 563, 563, 563, 563, 563, 563, 563, 563, 563, 563, 563, 563, 563, 563, 563, 563, 563, 563, 563, 563, 563, 563, 563, 563, 563, 563, 563, 563, 563, 563, 563, 563, 563, 563, 564, 564, 564, 564, 564, 564, 564, 564, 564, 564, 564, 564, 564, 564, 564, 564, 564, 564, 564, 564, 564, 564, 564, 564, 564, 564, 564, 564, 564, 564, 564, 564, 564, 564, 564, 564, 564, 564, 564, 564, 564, 564, 564, 564, 564, 564, 564, 564, 564, 564, 564, 564, 564, 564, 564, 564, 564, 564, 564, 564, 564, 564, 564, 565, 565, 565, 565, 565, 565, 565, 565, 565, 565, 565, 565, 565, 565, 565, 565, 565, 565, 565, 565, 565, 565, 565, 565, 565, 565, 565, 565, 565, 565, 565, 565, 565, 565, 565, 565, 565, 565, 565, 565, 565, 565, 565, 565, 565, 565, 566, 566, 566, 566, 566, 566, 566, 566, 566, 566, 566, 566, 566, 566, 566, 566, 566, 566, 566, 566, 566, 566, 566, 566, 566, 566, 566, 566, 566, 566, 566, 566, 566, 566, 566, 566, 566, 566, 566, 566, 566, 566, 566, 566, 566, 566, 566, 566, 566, 566, 566, 566, 566, 566, 566, 566, 566, 566, 566, 566, 566, 566, 566, 566, 566, 566, 566, 566, 566, 566, 566, 566, 567, 567, 567, 567, 567, 567, 567, 567, 567, 567, 567, 567, 567, 567, 567, 567, 567, 567, 567, 567, 567, 567, 567, 567, 567, 567, 567, 567, 567, 567, 567, 567, 567, 567, 567, 567, 567, 567, 567, 567, 567, 567, 567, 567, 567, 567, 567, 567, 567, 567, 567, 567, 567, 567, 567, 567, 567, 567, 568, 568, 568, 568, 568, 568, 568, 568, 568, 568, 568, 568, 568, 568, 568, 568, 568, 568, 568, 568, 568, 568, 568, 568, 568, 568, 568, 568, 568, 568, 568, 568, 568, 568, 568, 568, 568, 568, 568, 568, 568, 568, 568, 568, 568, 568, 568, 568, 568, 568, 568, 568, 568, 569, 569, 569, 569, 569, 569, 569, 569, 569, 569, 569, 569, 569, 569, 569, 569, 569, 569, 569, 569, 569, 569, 569, 569, 569, 569, 569, 569, 569, 569, 569, 569, 569, 569, 569, 569, 569, 569, 569, 569, 569, 569, 569, 569, 569, 569, 569, 569, 569, 569, 569, 569, 569, 569, 570, 570, 570, 570, 570, 570, 570, 570, 570, 570, 570, 570, 570, 570, 570, 570, 570, 570, 570, 570, 570, 570, 570, 570, 570, 570, 570, 570, 570, 570, 570, 570, 570, 570, 570, 570, 570, 570, 570, 570, 570, 570, 570, 570, 570, 570, 570, 570, 570, 570, 570, 570, 570, 570, 570, 570, 570, 570, 571, 571, 571, 571, 571, 571, 571, 571, 571, 571, 571, 571, 571, 571, 571, 571, 571, 571, 571, 571, 571, 571, 571, 571, 571, 571, 571, 571, 571, 571, 571, 571, 571, 571, 571, 571, 571, 571, 571, 571, 571, 571, 571, 571, 571, 571, 571, 571, 571, 571, 571, 571, 571, 571, 571, 571, 572, 572, 572, 572, 572, 572, 572, 572, 572, 572, 572, 572, 572, 572, 572, 572, 572, 572, 572, 572, 572, 572, 572, 572, 572, 572, 572, 572, 572, 572, 572, 572, 572, 572, 572, 572, 572, 572, 572, 572, 572, 572, 572, 572, 572, 572, 572, 572, 573, 573, 573, 573, 573, 573, 573, 573, 573, 573, 573, 573, 573, 573, 573, 573, 573, 573, 573, 573, 573, 573, 573, 573, 573, 573, 573, 573, 573, 573, 573, 573, 573, 573, 573, 573, 573, 573, 573, 573, 573, 573, 574, 574, 574, 574, 574, 574, 574, 574, 574, 574, 574, 574, 574, 574, 574, 574, 574, 574, 574, 574, 574, 574, 574, 574, 574, 574, 574, 574, 574, 574, 574, 574, 574, 574, 574, 574, 574, 574, 574, 574, 574, 574, 574, 574, 574, 574, 574, 574, 574, 574, 574, 574, 574, 574, 574, 574, 574, 575, 575, 575, 575, 575, 575, 575, 575, 575, 575, 575, 575, 575, 575, 575, 575, 575, 575, 575, 575, 575, 575, 575, 575, 575, 575, 575, 575, 575, 575, 575, 575, 575, 575, 575, 575, 575, 575, 575, 575, 575, 575, 575, 575, 575, 575, 575, 575, 575, 575, 575, 575, 575, 575, 575, 576, 576, 576, 576, 576, 576, 576, 576, 576, 576, 576, 576, 576, 576, 576, 576, 576, 576, 576, 576, 576, 576, 576, 576, 576, 576, 576, 576, 576, 576, 576, 576, 576, 576, 576, 576, 576, 576, 576, 576, 576, 576, 576, 576, 576, 576, 576, 576, 576, 576, 576, 576, 576, 576, 576, 576, 576, 576, 577, 577, 577, 577, 577, 577, 577, 577, 577, 577, 577, 577, 577, 577, 577, 577, 577, 577, 577, 577, 577, 577, 577, 577, 577, 577, 577, 577, 577, 577, 577, 577, 577, 577, 577, 577, 577, 577, 577, 577, 577, 577, 577, 577, 577, 577, 577, 577, 577, 577, 577, 577, 577, 577, 578, 578, 578, 578, 578, 578, 578, 578, 578, 578, 578, 578, 578, 578, 578, 578, 578, 578, 578, 578, 578, 578, 578, 578, 578, 578, 578, 578, 578, 578, 578, 578, 578, 578, 578, 578, 578, 578, 578, 578, 578, 578, 578, 578, 578, 578, 578, 578, 578, 578, 578, 579, 579, 579, 579, 579, 579, 579, 579, 579, 579, 579, 579, 579, 579, 579, 579, 579, 579, 579, 579, 579, 579, 579, 579, 579, 579, 579, 579, 579, 579, 579, 579, 579, 579, 579, 579, 579, 579, 579, 579, 579, 580, 580, 580, 580, 580, 580, 580, 580, 580, 580, 580, 580, 580, 580, 580, 580, 580, 580, 580, 580, 580, 580, 580, 580, 580, 580, 580, 580, 580, 580, 580, 580, 580, 580, 580, 580, 580, 580, 580, 580, 580, 580, 580, 580, 580, 580, 581, 581, 581, 581, 581, 581, 581, 581, 581, 581, 581, 581, 581, 581, 581, 581, 581, 581, 581, 581, 581, 581, 581, 581, 581, 581, 581, 581, 581, 581, 581, 581, 581, 581, 581, 581, 581, 581, 581, 581, 581, 581, 581, 581, 581, 581, 581, 581, 581, 581, 581, 581, 581, 581, 581, 581, 582, 582, 582, 582, 582, 582, 582, 582, 582, 582, 582, 582, 582, 582, 582, 582, 582, 582, 582, 582, 582, 582, 582, 582, 582, 582, 582, 582, 582, 582, 582, 582, 582, 582, 582, 582, 582, 582, 582, 582, 582, 582, 583, 583, 583, 583, 583, 583, 583, 583, 583, 583, 583, 583, 583, 583, 583, 583, 583, 583, 583, 583, 583, 583, 583, 583, 583, 583, 583, 583, 583, 583, 583, 583, 583, 583, 583, 583, 583, 583, 583, 583, 583, 583, 583, 583, 583, 583, 584, 584, 584, 584, 584, 584, 584, 584, 584, 584, 584, 584, 584, 584, 584, 584, 584, 584, 584, 584, 584, 584, 584, 584, 584, 584, 584, 584, 584, 584, 584, 584, 584, 584, 584, 584, 584, 585, 585, 585, 585, 585, 585, 585, 585, 585, 585, 585, 585, 585, 585, 585, 585, 585, 585, 585, 585, 585, 585, 585, 585, 585, 585, 585, 585, 585, 585, 585, 585, 585, 585, 585, 585, 585, 585, 586, 586, 586, 586, 586, 586, 586, 586, 586, 586, 586, 586, 586, 586, 586, 586, 586, 586, 586, 586, 586, 586, 586, 586, 586, 586, 586, 586, 586, 586, 586, 586, 586, 586, 586, 586, 586, 586, 586, 586, 586, 586, 586, 586, 587, 587, 587, 587, 587, 587, 587, 587, 587, 587, 587, 587, 587, 587, 587, 587, 587, 587, 587, 587, 587, 587, 587, 587, 587, 587, 587, 587, 587, 587, 587, 587, 587, 587, 587, 587, 587, 587, 587, 587, 587, 587, 587, 587, 587, 587, 587, 587, 587, 588, 588, 588, 588, 588, 588, 588, 588, 588, 588, 588, 588, 588, 588, 588, 588, 588, 588, 588, 588, 588, 588, 588, 588, 588, 588, 588, 588, 588, 588, 588, 588, 588, 588, 588, 588, 588, 588, 588, 588, 589, 589, 589, 589, 589, 589, 589, 589, 589, 589, 589, 589, 589, 589, 589, 589, 589, 589, 589, 589, 589, 589, 589, 589, 589, 589, 589, 589, 589, 589, 589, 589, 589, 589, 589, 589, 589, 589, 589, 589, 589, 589, 589, 589, 589, 589, 589, 589, 589, 590, 590, 590, 590, 590, 590, 590, 590, 590, 590, 590, 590, 590, 590, 590, 590, 590, 590, 590, 590, 590, 590, 590, 590, 590, 590, 590, 590, 590, 590, 590, 590, 590, 590, 590, 590, 590, 590, 590, 590, 590, 590, 590, 590, 590, 590, 591, 591, 591, 591, 591, 591, 591, 591, 591, 591, 591, 591, 591, 591, 591, 591, 591, 591, 591, 591, 591, 591, 591, 591, 591, 591, 591, 591, 592, 592, 592, 592, 592, 592, 592, 592, 592, 592, 592, 592, 592, 592, 592, 592, 592, 592, 592, 592, 592, 592, 592, 592, 592, 592, 592, 592, 592, 592, 592, 592, 592, 592, 592, 593, 593, 593, 593, 593, 593, 593, 593, 593, 593, 593, 593, 593, 593, 593, 593, 593, 593, 593, 593, 593, 593, 593, 593, 593, 593, 594, 594, 594, 594, 594, 594, 594, 594, 594, 594, 594, 594, 594, 594, 594, 594, 594, 594, 594, 594, 594, 594, 594, 594, 594, 594, 594, 594, 594, 594, 594, 594, 594, 594, 595, 595, 595, 595, 595, 595, 595, 595, 595, 595, 595, 595, 595, 595, 595, 595, 595, 595, 595, 595, 595, 595, 595, 595, 595, 595, 595, 595, 595, 595, 595, 595, 595, 595, 596, 596, 596, 596, 596, 596, 596, 596, 596, 596, 596, 596, 596, 596, 596, 596, 596, 596, 596, 596, 596, 596, 596, 596, 596, 596, 596, 596, 596, 596, 596, 596, 596, 596, 596, 597, 597, 597, 597, 597, 597, 597, 597, 597, 597, 597, 597, 597, 597, 597, 597, 597, 597, 597, 597, 597, 597, 597, 597, 597, 597, 597, 597, 597, 597, 597, 597, 597, 597, 597, 598, 598, 598, 598, 598, 598, 598, 598, 598, 598, 598, 598, 598, 598, 598, 598, 598, 598, 598, 598, 598, 598, 598, 598, 598, 598, 598, 598, 598, 598, 598, 598, 598, 598, 599, 599, 599, 599, 599, 599, 599, 599, 599, 599, 599, 599, 599, 599, 599, 599, 599, 599, 599, 599, 599, 599, 599, 599, 599, 599, 599, 599, 600, 600, 600, 600, 600, 600, 600, 600, 600, 600, 600, 600, 600, 600, 600, 600, 600, 600, 600, 601, 601, 601, 601, 601, 601, 601, 601, 601, 601, 601, 601, 601, 601, 601, 601, 601, 601, 601, 601, 601, 601, 601, 601, 601, 601, 601, 601, 601, 601, 601, 601, 602, 602, 602, 602, 602, 602, 602, 602, 602, 602, 602, 602, 602, 602, 602, 602, 603, 603, 603, 603, 603, 603, 603, 603, 603, 603, 603, 603, 603, 603, 603, 603, 603, 603, 603, 603, 603, 603, 603, 603, 604, 604, 604, 604, 604, 604, 604, 604, 604, 604, 604, 604, 604, 604, 604, 604, 604, 604, 605, 605, 605, 605, 605, 605, 605, 605, 605, 605, 605, 605, 605, 605, 605, 605, 605, 605, 606, 606, 606, 606, 606, 606, 606, 606, 606, 606, 606, 606, 606, 606, 606, 606, 607, 607, 607, 607, 607, 607, 607, 607, 607, 607, 607, 607, 607, 607, 607, 607, 607, 607, 607, 607, 607, 607, 607, 607, 608, 608, 608, 608, 608, 608, 608, 608, 608, 609, 609, 609, 609, 609, 609, 609, 609, 609, 609, 609, 609, 609, 609, 609, 609, 609, 609, 609, 609, 609, 609, 610, 610, 610, 610, 610, 610, 610, 610, 610, 610, 610, 610, 611, 611, 611, 611, 611, 611, 611, 611, 611, 611, 611, 611, 611, 611, 611, 611, 611, 611, 611, 611, 611, 611, 611, 611, 612, 612, 612, 612, 612, 612, 612, 612, 612, 612, 612, 612, 612, 613, 613, 613, 613, 613, 613, 613, 613, 613, 613, 613, 613, 613, 613, 614, 614, 614, 614, 614, 614, 614, 614, 614, 614, 614, 615, 615, 615, 615, 615, 615, 615, 615, 615, 615, 615, 615, 615, 616, 616, 616, 616, 616, 616, 616, 616, 616, 616, 616, 616, 616, 616, 616, 616, 616, 617, 617, 617, 617, 617, 617, 617, 617, 617, 617, 617, 617, 617, 617, 617, 617, 617, 617, 617, 618, 618, 618, 618, 618, 618, 618, 618, 618, 618, 618, 618, 618, 618, 618, 618, 618, 618, 618, 618, 618, 619, 619, 619, 619, 619, 619, 619, 619, 619, 619, 619, 619, 619, 619, 619, 619, 619, 619, 620, 620, 620, 620, 620, 620, 620, 620, 620, 620, 620, 620, 621, 621, 621, 621, 621, 621, 621, 621, 621, 622, 622, 622, 622, 622, 622, 622, 622, 622, 622, 622, 622, 622, 622, 622, 622, 622, 622, 623, 623, 623, 623, 623, 623, 623, 623, 623, 623, 623, 623, 623, 624, 624, 624, 624, 624, 624, 624, 624, 624, 624, 625, 625, 625, 625, 625, 625, 625, 625, 625, 625, 625, 625, 625, 626, 626, 626, 626, 626, 626, 626, 626, 626, 626, 626, 626, 627, 627, 627, 627, 627, 627, 627, 627, 627, 627, 627, 627, 628, 628, 628, 628, 628, 628, 628, 628, 628, 628, 629, 629, 629, 629, 629, 629, 629, 629, 629, 629, 629, 629, 630, 630, 630, 630, 630, 630, 630, 630, 630, 630, 630, 631, 631, 631, 631, 631, 631, 631, 631, 632, 632, 632, 632, 632, 632, 632, 632, 632, 633, 633, 633, 633, 634, 634, 634, 634, 634, 634, 635, 635, 635, 635, 635, 635, 635, 636, 636, 636, 636, 636, 636, 636, 636, 636, 636, 637, 637, 638, 638, 638, 638, 638, 638, 639, 639, 639, 639, 639, 639, 639, 639, 640, 640, 640, 640, 640, 640, 640, 640, 641, 641, 641, 641, 641, 642, 642, 642, 642, 642, 642, 642, 642, 642, 642, 643, 643, 643, 644, 644, 644, 645, 646, 647, 647, 647, 648, 648, 648, 648, 648, 648, 649, 649, 649, 649, 649, 650, 650, 650, 650, 650, 651, 651, 651, 651, 651, 651, 652, 652, 652, 652, 652, 653, 653, 653, 653, 653, 653, 655, 655, 656, 656, 657, 657, 657, 658, 658, 658, 658, 658, 659, 659, 660, 660, 660, 661, 661, 662, 662, 663, 663, 663, 663, 664, 665, 665, 666, 666, 666, 666, 667, 667, 667, 667, 667, 668, 669, 669, 669, 669, 669, 671, 671, 672, 672, 673, 674, 674, 674, 674, 675, 677, 677, 678, 679, 680, 683, 683, 684, 685, 688, 689, 690, 691, 701, 701, 701, 701, 702, 704, 705, 705, 706, 710, 714, 717, 725, 734, 735, 751]\n",
            "264\n",
            "pozitia =  10578\n"
          ],
          "name": "stdout"
        }
      ]
    },
    {
      "cell_type": "code",
      "metadata": {
        "colab": {
          "base_uri": "https://localhost:8080/"
        },
        "id": "UvMvFY5WkJnx",
        "outputId": "882f9ec8-bed9-4169-d0a4-b1e0fdbb91d1"
      },
      "source": [
        "training_labels[20][0]"
      ],
      "execution_count": null,
      "outputs": [
        {
          "output_type": "execute_result",
          "data": {
            "text/plain": [
              "50.855"
            ]
          },
          "metadata": {
            "tags": []
          },
          "execution_count": 25
        }
      ]
    },
    {
      "cell_type": "markdown",
      "metadata": {
        "id": "P2rignoKoIGC"
      },
      "source": [
        "# Varianta 1: prezic X si Y separat\n"
      ]
    },
    {
      "cell_type": "code",
      "metadata": {
        "colab": {
          "base_uri": "https://localhost:8080/"
        },
        "id": "mRYpMqd2j8Nn",
        "outputId": "30f5f49b-4886-4c4e-af45-1faf68427dda"
      },
      "source": [
        "train_data_for_transformer = []\n",
        "\n",
        "contor_mare = 0\n",
        "for i in range(len(content_training)):\n",
        "  id, lbl, tweet = Split_in_parts(content_training[i])\n",
        "  if len(tweet)>125:\n",
        "    contor_mare+=1\n",
        "    train_data_for_transformer.append(  [tweet, training_labels[i][0]] )\n",
        "print(\"tweets longer that 100: \", contor_mare)\n",
        "\n",
        "train_data_for_transformer = pandas.DataFrame(train_data_for_transformer)\n",
        "train_data_for_transformer.columns = [\"text\", \"labels\"]"
      ],
      "execution_count": null,
      "outputs": [
        {
          "output_type": "stream",
          "text": [
            "tweets longer that 100:  17663\n"
          ],
          "name": "stdout"
        }
      ]
    },
    {
      "cell_type": "code",
      "metadata": {
        "colab": {
          "base_uri": "https://localhost:8080/"
        },
        "id": "RPdq5QESlD3z",
        "outputId": "9431f923-56bb-4f39-9386-ab37fa9d8161"
      },
      "source": [
        "validation_data_for_transformer = []\n",
        "validation_to_predict = []\n",
        "for i in range(len(content_validation)):\n",
        "  id, lbl, tweet = Split_in_parts(content_validation[i])\n",
        "  contor_mare+=1\n",
        "  validation_data_for_transformer.append(  [tweet, validation_labels[i][0]] )\n",
        "  validation_to_predict.append(tweet)\n",
        "\n",
        "print(\"len validation = \", len(validation_data_for_transformer))\n",
        "validation_data_for_transformer = pandas.DataFrame(validation_data_for_transformer)\n",
        "validation_data_for_transformer.columns = [\"text\", \"labels\"]"
      ],
      "execution_count": null,
      "outputs": [
        {
          "output_type": "stream",
          "text": [
            "len validation =  3044\n"
          ],
          "name": "stdout"
        }
      ]
    },
    {
      "cell_type": "markdown",
      "metadata": {
        "id": "3yxzu7GVos7s"
      },
      "source": [
        "Definesc modelul:\n"
      ]
    },
    {
      "cell_type": "code",
      "metadata": {
        "id": "w3aQGZA6TbNI"
      },
      "source": [
        "nb_epochs = 6\n",
        "\n",
        "model_args = ClassificationArgs()\n",
        "model_args.num_train_epochs = nb_epochs\n",
        "model_args.regression = True\n",
        "model_args.learning_rate = 9e-6\n",
        "model_args.overwrite_output_dir=True\n",
        "model_args.save_model_every_epoch=True\n",
        "model_args.evaluate_during_training=True\n",
        "model_args.eval_df=validation_data_for_transformer\n",
        "model_args.output_dir=\"/content/outputs\""
      ],
      "execution_count": null,
      "outputs": []
    },
    {
      "cell_type": "code",
      "metadata": {
        "colab": {
          "base_uri": "https://localhost:8080/"
        },
        "id": "zyIKRrRcl5tE",
        "outputId": "3cb2857d-51b3-418e-aef4-2969d6c31833"
      },
      "source": [
        "\n",
        "\n",
        "model_bert = ClassificationModel(\n",
        "    \"bert\",\n",
        "    \"distilbert-base-german-cased\",\n",
        "    num_labels=1,\n",
        "    args=model_args,\n",
        "\n",
        ")"
      ],
      "execution_count": null,
      "outputs": [
        {
          "output_type": "stream",
          "text": [
            "Some weights of the model checkpoint at distilbert-base-german-cased were not used when initializing BertForSequenceClassification: ['distilbert.embeddings.word_embeddings.weight', 'distilbert.embeddings.position_embeddings.weight', 'distilbert.embeddings.LayerNorm.weight', 'distilbert.embeddings.LayerNorm.bias', 'distilbert.transformer.layer.0.attention.q_lin.weight', 'distilbert.transformer.layer.0.attention.q_lin.bias', 'distilbert.transformer.layer.0.attention.k_lin.weight', 'distilbert.transformer.layer.0.attention.k_lin.bias', 'distilbert.transformer.layer.0.attention.v_lin.weight', 'distilbert.transformer.layer.0.attention.v_lin.bias', 'distilbert.transformer.layer.0.attention.out_lin.weight', 'distilbert.transformer.layer.0.attention.out_lin.bias', 'distilbert.transformer.layer.0.sa_layer_norm.weight', 'distilbert.transformer.layer.0.sa_layer_norm.bias', 'distilbert.transformer.layer.0.ffn.lin1.weight', 'distilbert.transformer.layer.0.ffn.lin1.bias', 'distilbert.transformer.layer.0.ffn.lin2.weight', 'distilbert.transformer.layer.0.ffn.lin2.bias', 'distilbert.transformer.layer.0.output_layer_norm.weight', 'distilbert.transformer.layer.0.output_layer_norm.bias', 'distilbert.transformer.layer.1.attention.q_lin.weight', 'distilbert.transformer.layer.1.attention.q_lin.bias', 'distilbert.transformer.layer.1.attention.k_lin.weight', 'distilbert.transformer.layer.1.attention.k_lin.bias', 'distilbert.transformer.layer.1.attention.v_lin.weight', 'distilbert.transformer.layer.1.attention.v_lin.bias', 'distilbert.transformer.layer.1.attention.out_lin.weight', 'distilbert.transformer.layer.1.attention.out_lin.bias', 'distilbert.transformer.layer.1.sa_layer_norm.weight', 'distilbert.transformer.layer.1.sa_layer_norm.bias', 'distilbert.transformer.layer.1.ffn.lin1.weight', 'distilbert.transformer.layer.1.ffn.lin1.bias', 'distilbert.transformer.layer.1.ffn.lin2.weight', 'distilbert.transformer.layer.1.ffn.lin2.bias', 'distilbert.transformer.layer.1.output_layer_norm.weight', 'distilbert.transformer.layer.1.output_layer_norm.bias', 'distilbert.transformer.layer.2.attention.q_lin.weight', 'distilbert.transformer.layer.2.attention.q_lin.bias', 'distilbert.transformer.layer.2.attention.k_lin.weight', 'distilbert.transformer.layer.2.attention.k_lin.bias', 'distilbert.transformer.layer.2.attention.v_lin.weight', 'distilbert.transformer.layer.2.attention.v_lin.bias', 'distilbert.transformer.layer.2.attention.out_lin.weight', 'distilbert.transformer.layer.2.attention.out_lin.bias', 'distilbert.transformer.layer.2.sa_layer_norm.weight', 'distilbert.transformer.layer.2.sa_layer_norm.bias', 'distilbert.transformer.layer.2.ffn.lin1.weight', 'distilbert.transformer.layer.2.ffn.lin1.bias', 'distilbert.transformer.layer.2.ffn.lin2.weight', 'distilbert.transformer.layer.2.ffn.lin2.bias', 'distilbert.transformer.layer.2.output_layer_norm.weight', 'distilbert.transformer.layer.2.output_layer_norm.bias', 'distilbert.transformer.layer.3.attention.q_lin.weight', 'distilbert.transformer.layer.3.attention.q_lin.bias', 'distilbert.transformer.layer.3.attention.k_lin.weight', 'distilbert.transformer.layer.3.attention.k_lin.bias', 'distilbert.transformer.layer.3.attention.v_lin.weight', 'distilbert.transformer.layer.3.attention.v_lin.bias', 'distilbert.transformer.layer.3.attention.out_lin.weight', 'distilbert.transformer.layer.3.attention.out_lin.bias', 'distilbert.transformer.layer.3.sa_layer_norm.weight', 'distilbert.transformer.layer.3.sa_layer_norm.bias', 'distilbert.transformer.layer.3.ffn.lin1.weight', 'distilbert.transformer.layer.3.ffn.lin1.bias', 'distilbert.transformer.layer.3.ffn.lin2.weight', 'distilbert.transformer.layer.3.ffn.lin2.bias', 'distilbert.transformer.layer.3.output_layer_norm.weight', 'distilbert.transformer.layer.3.output_layer_norm.bias', 'distilbert.transformer.layer.4.attention.q_lin.weight', 'distilbert.transformer.layer.4.attention.q_lin.bias', 'distilbert.transformer.layer.4.attention.k_lin.weight', 'distilbert.transformer.layer.4.attention.k_lin.bias', 'distilbert.transformer.layer.4.attention.v_lin.weight', 'distilbert.transformer.layer.4.attention.v_lin.bias', 'distilbert.transformer.layer.4.attention.out_lin.weight', 'distilbert.transformer.layer.4.attention.out_lin.bias', 'distilbert.transformer.layer.4.sa_layer_norm.weight', 'distilbert.transformer.layer.4.sa_layer_norm.bias', 'distilbert.transformer.layer.4.ffn.lin1.weight', 'distilbert.transformer.layer.4.ffn.lin1.bias', 'distilbert.transformer.layer.4.ffn.lin2.weight', 'distilbert.transformer.layer.4.ffn.lin2.bias', 'distilbert.transformer.layer.4.output_layer_norm.weight', 'distilbert.transformer.layer.4.output_layer_norm.bias', 'distilbert.transformer.layer.5.attention.q_lin.weight', 'distilbert.transformer.layer.5.attention.q_lin.bias', 'distilbert.transformer.layer.5.attention.k_lin.weight', 'distilbert.transformer.layer.5.attention.k_lin.bias', 'distilbert.transformer.layer.5.attention.v_lin.weight', 'distilbert.transformer.layer.5.attention.v_lin.bias', 'distilbert.transformer.layer.5.attention.out_lin.weight', 'distilbert.transformer.layer.5.attention.out_lin.bias', 'distilbert.transformer.layer.5.sa_layer_norm.weight', 'distilbert.transformer.layer.5.sa_layer_norm.bias', 'distilbert.transformer.layer.5.ffn.lin1.weight', 'distilbert.transformer.layer.5.ffn.lin1.bias', 'distilbert.transformer.layer.5.ffn.lin2.weight', 'distilbert.transformer.layer.5.ffn.lin2.bias', 'distilbert.transformer.layer.5.output_layer_norm.weight', 'distilbert.transformer.layer.5.output_layer_norm.bias', 'vocab_transform.weight', 'vocab_transform.bias', 'vocab_layer_norm.weight', 'vocab_layer_norm.bias', 'vocab_projector.weight', 'vocab_projector.bias']\n",
            "- This IS expected if you are initializing BertForSequenceClassification from the checkpoint of a model trained on another task or with another architecture (e.g. initializing a BertForSequenceClassification model from a BertForPreTraining model).\n",
            "- This IS NOT expected if you are initializing BertForSequenceClassification from the checkpoint of a model that you expect to be exactly identical (initializing a BertForSequenceClassification model from a BertForSequenceClassification model).\n",
            "Some weights of BertForSequenceClassification were not initialized from the model checkpoint at distilbert-base-german-cased and are newly initialized: ['embeddings.word_embeddings.weight', 'embeddings.position_embeddings.weight', 'embeddings.token_type_embeddings.weight', 'embeddings.LayerNorm.weight', 'embeddings.LayerNorm.bias', 'encoder.layer.0.attention.self.query.weight', 'encoder.layer.0.attention.self.query.bias', 'encoder.layer.0.attention.self.key.weight', 'encoder.layer.0.attention.self.key.bias', 'encoder.layer.0.attention.self.value.weight', 'encoder.layer.0.attention.self.value.bias', 'encoder.layer.0.attention.output.dense.weight', 'encoder.layer.0.attention.output.dense.bias', 'encoder.layer.0.attention.output.LayerNorm.weight', 'encoder.layer.0.attention.output.LayerNorm.bias', 'encoder.layer.0.intermediate.dense.weight', 'encoder.layer.0.intermediate.dense.bias', 'encoder.layer.0.output.dense.weight', 'encoder.layer.0.output.dense.bias', 'encoder.layer.0.output.LayerNorm.weight', 'encoder.layer.0.output.LayerNorm.bias', 'encoder.layer.1.attention.self.query.weight', 'encoder.layer.1.attention.self.query.bias', 'encoder.layer.1.attention.self.key.weight', 'encoder.layer.1.attention.self.key.bias', 'encoder.layer.1.attention.self.value.weight', 'encoder.layer.1.attention.self.value.bias', 'encoder.layer.1.attention.output.dense.weight', 'encoder.layer.1.attention.output.dense.bias', 'encoder.layer.1.attention.output.LayerNorm.weight', 'encoder.layer.1.attention.output.LayerNorm.bias', 'encoder.layer.1.intermediate.dense.weight', 'encoder.layer.1.intermediate.dense.bias', 'encoder.layer.1.output.dense.weight', 'encoder.layer.1.output.dense.bias', 'encoder.layer.1.output.LayerNorm.weight', 'encoder.layer.1.output.LayerNorm.bias', 'encoder.layer.2.attention.self.query.weight', 'encoder.layer.2.attention.self.query.bias', 'encoder.layer.2.attention.self.key.weight', 'encoder.layer.2.attention.self.key.bias', 'encoder.layer.2.attention.self.value.weight', 'encoder.layer.2.attention.self.value.bias', 'encoder.layer.2.attention.output.dense.weight', 'encoder.layer.2.attention.output.dense.bias', 'encoder.layer.2.attention.output.LayerNorm.weight', 'encoder.layer.2.attention.output.LayerNorm.bias', 'encoder.layer.2.intermediate.dense.weight', 'encoder.layer.2.intermediate.dense.bias', 'encoder.layer.2.output.dense.weight', 'encoder.layer.2.output.dense.bias', 'encoder.layer.2.output.LayerNorm.weight', 'encoder.layer.2.output.LayerNorm.bias', 'encoder.layer.3.attention.self.query.weight', 'encoder.layer.3.attention.self.query.bias', 'encoder.layer.3.attention.self.key.weight', 'encoder.layer.3.attention.self.key.bias', 'encoder.layer.3.attention.self.value.weight', 'encoder.layer.3.attention.self.value.bias', 'encoder.layer.3.attention.output.dense.weight', 'encoder.layer.3.attention.output.dense.bias', 'encoder.layer.3.attention.output.LayerNorm.weight', 'encoder.layer.3.attention.output.LayerNorm.bias', 'encoder.layer.3.intermediate.dense.weight', 'encoder.layer.3.intermediate.dense.bias', 'encoder.layer.3.output.dense.weight', 'encoder.layer.3.output.dense.bias', 'encoder.layer.3.output.LayerNorm.weight', 'encoder.layer.3.output.LayerNorm.bias', 'encoder.layer.4.attention.self.query.weight', 'encoder.layer.4.attention.self.query.bias', 'encoder.layer.4.attention.self.key.weight', 'encoder.layer.4.attention.self.key.bias', 'encoder.layer.4.attention.self.value.weight', 'encoder.layer.4.attention.self.value.bias', 'encoder.layer.4.attention.output.dense.weight', 'encoder.layer.4.attention.output.dense.bias', 'encoder.layer.4.attention.output.LayerNorm.weight', 'encoder.layer.4.attention.output.LayerNorm.bias', 'encoder.layer.4.intermediate.dense.weight', 'encoder.layer.4.intermediate.dense.bias', 'encoder.layer.4.output.dense.weight', 'encoder.layer.4.output.dense.bias', 'encoder.layer.4.output.LayerNorm.weight', 'encoder.layer.4.output.LayerNorm.bias', 'encoder.layer.5.attention.self.query.weight', 'encoder.layer.5.attention.self.query.bias', 'encoder.layer.5.attention.self.key.weight', 'encoder.layer.5.attention.self.key.bias', 'encoder.layer.5.attention.self.value.weight', 'encoder.layer.5.attention.self.value.bias', 'encoder.layer.5.attention.output.dense.weight', 'encoder.layer.5.attention.output.dense.bias', 'encoder.layer.5.attention.output.LayerNorm.weight', 'encoder.layer.5.attention.output.LayerNorm.bias', 'encoder.layer.5.intermediate.dense.weight', 'encoder.layer.5.intermediate.dense.bias', 'encoder.layer.5.output.dense.weight', 'encoder.layer.5.output.dense.bias', 'encoder.layer.5.output.LayerNorm.weight', 'encoder.layer.5.output.LayerNorm.bias', 'encoder.layer.6.attention.self.query.weight', 'encoder.layer.6.attention.self.query.bias', 'encoder.layer.6.attention.self.key.weight', 'encoder.layer.6.attention.self.key.bias', 'encoder.layer.6.attention.self.value.weight', 'encoder.layer.6.attention.self.value.bias', 'encoder.layer.6.attention.output.dense.weight', 'encoder.layer.6.attention.output.dense.bias', 'encoder.layer.6.attention.output.LayerNorm.weight', 'encoder.layer.6.attention.output.LayerNorm.bias', 'encoder.layer.6.intermediate.dense.weight', 'encoder.layer.6.intermediate.dense.bias', 'encoder.layer.6.output.dense.weight', 'encoder.layer.6.output.dense.bias', 'encoder.layer.6.output.LayerNorm.weight', 'encoder.layer.6.output.LayerNorm.bias', 'encoder.layer.7.attention.self.query.weight', 'encoder.layer.7.attention.self.query.bias', 'encoder.layer.7.attention.self.key.weight', 'encoder.layer.7.attention.self.key.bias', 'encoder.layer.7.attention.self.value.weight', 'encoder.layer.7.attention.self.value.bias', 'encoder.layer.7.attention.output.dense.weight', 'encoder.layer.7.attention.output.dense.bias', 'encoder.layer.7.attention.output.LayerNorm.weight', 'encoder.layer.7.attention.output.LayerNorm.bias', 'encoder.layer.7.intermediate.dense.weight', 'encoder.layer.7.intermediate.dense.bias', 'encoder.layer.7.output.dense.weight', 'encoder.layer.7.output.dense.bias', 'encoder.layer.7.output.LayerNorm.weight', 'encoder.layer.7.output.LayerNorm.bias', 'encoder.layer.8.attention.self.query.weight', 'encoder.layer.8.attention.self.query.bias', 'encoder.layer.8.attention.self.key.weight', 'encoder.layer.8.attention.self.key.bias', 'encoder.layer.8.attention.self.value.weight', 'encoder.layer.8.attention.self.value.bias', 'encoder.layer.8.attention.output.dense.weight', 'encoder.layer.8.attention.output.dense.bias', 'encoder.layer.8.attention.output.LayerNorm.weight', 'encoder.layer.8.attention.output.LayerNorm.bias', 'encoder.layer.8.intermediate.dense.weight', 'encoder.layer.8.intermediate.dense.bias', 'encoder.layer.8.output.dense.weight', 'encoder.layer.8.output.dense.bias', 'encoder.layer.8.output.LayerNorm.weight', 'encoder.layer.8.output.LayerNorm.bias', 'encoder.layer.9.attention.self.query.weight', 'encoder.layer.9.attention.self.query.bias', 'encoder.layer.9.attention.self.key.weight', 'encoder.layer.9.attention.self.key.bias', 'encoder.layer.9.attention.self.value.weight', 'encoder.layer.9.attention.self.value.bias', 'encoder.layer.9.attention.output.dense.weight', 'encoder.layer.9.attention.output.dense.bias', 'encoder.layer.9.attention.output.LayerNorm.weight', 'encoder.layer.9.attention.output.LayerNorm.bias', 'encoder.layer.9.intermediate.dense.weight', 'encoder.layer.9.intermediate.dense.bias', 'encoder.layer.9.output.dense.weight', 'encoder.layer.9.output.dense.bias', 'encoder.layer.9.output.LayerNorm.weight', 'encoder.layer.9.output.LayerNorm.bias', 'encoder.layer.10.attention.self.query.weight', 'encoder.layer.10.attention.self.query.bias', 'encoder.layer.10.attention.self.key.weight', 'encoder.layer.10.attention.self.key.bias', 'encoder.layer.10.attention.self.value.weight', 'encoder.layer.10.attention.self.value.bias', 'encoder.layer.10.attention.output.dense.weight', 'encoder.layer.10.attention.output.dense.bias', 'encoder.layer.10.attention.output.LayerNorm.weight', 'encoder.layer.10.attention.output.LayerNorm.bias', 'encoder.layer.10.intermediate.dense.weight', 'encoder.layer.10.intermediate.dense.bias', 'encoder.layer.10.output.dense.weight', 'encoder.layer.10.output.dense.bias', 'encoder.layer.10.output.LayerNorm.weight', 'encoder.layer.10.output.LayerNorm.bias', 'encoder.layer.11.attention.self.query.weight', 'encoder.layer.11.attention.self.query.bias', 'encoder.layer.11.attention.self.key.weight', 'encoder.layer.11.attention.self.key.bias', 'encoder.layer.11.attention.self.value.weight', 'encoder.layer.11.attention.self.value.bias', 'encoder.layer.11.attention.output.dense.weight', 'encoder.layer.11.attention.output.dense.bias', 'encoder.layer.11.attention.output.LayerNorm.weight', 'encoder.layer.11.attention.output.LayerNorm.bias', 'encoder.layer.11.intermediate.dense.weight', 'encoder.layer.11.intermediate.dense.bias', 'encoder.layer.11.output.dense.weight', 'encoder.layer.11.output.dense.bias', 'encoder.layer.11.output.LayerNorm.weight', 'encoder.layer.11.output.LayerNorm.bias', 'pooler.dense.weight', 'pooler.dense.bias', 'classifier.weight', 'classifier.bias']\n",
            "You should probably TRAIN this model on a down-stream task to be able to use it for predictions and inference.\n"
          ],
          "name": "stderr"
        }
      ]
    },
    {
      "cell_type": "code",
      "metadata": {
        "colab": {
          "base_uri": "https://localhost:8080/",
          "height": 232,
          "referenced_widgets": [
            "a9b75d24147e40fdb419bd637a205a8a",
            "aef8c535ba474f7789b305b5e92f2db3",
            "4c9298d2d0da4fb8b332fd17f49b0060",
            "5031872d9bb74f98968e4e8bf99a8d2b",
            "c7fcb679ad25424892e79d1eec001d40",
            "2315dff45cd640869983af50c1dddb70",
            "c2b30d4eeb2c4694ba164bb394c6e432",
            "ee8a118b75e643f68bb7d06ff5aaed5b",
            "d72bbc38a3b34bdba0c80258d985e17c",
            "c932e60b22c04b31b46d895d49a40a99",
            "7f927aabb35c44c48354c9cf19ab6954",
            "6eecf94f8f3e4c5a9e50e520fe04c4d8",
            "038ec8fb73df4ce689d01a021d4bd8d0",
            "9f542851719e42828f531484c417a324",
            "b0b6d93aff6e4cb982f75eff796437ce",
            "6503a84a2c8c4331ab6fe43ba2398b82",
            "da61377ec0ad47ceb0c3353978d51173",
            "9dd9a3b0af484419b3a4b71ccd0d0278",
            "991dacf74f034b919db077ab30d24078",
            "522d6a6073a549f6b9fe98b8fc22dae8",
            "cedbfcfce4e6487bab1a8d4f0a2fc3f7",
            "1f326add182246968c2c1b3779108332",
            "8805e3400b87422497e137e2f5708835",
            "618bc96de6644862b350cc21f699873c",
            "03aba60d184f460a96f8085816980d7e",
            "c7ebfca0aa744cec9644f60e5c3852ed",
            "1403d10359f54994bdf4363cc1aec098",
            "417cfd8db6904ac6a65fab5aaee79531",
            "924c9bd262e648a088d80f8670d4ef25",
            "5d0155371bee4d6bb1a0e6f8691aec23",
            "67b8b123421b4c7bb505fdff628b864a",
            "adde751aac10476ab9217b51f0614dc1",
            "ff2fe68a92c74ad9898ddd562f7e4fd8",
            "26a01cea44174dccb72c9775699782a3",
            "b3dc08da7f214ac1baba5bb6d335de9a",
            "6eb1b85cbf1b4414a9dce4bb0f780872",
            "d941db1da7734121b6088950d1cd42e0",
            "3c557513fe474d31b2f0197b18c5a6f2",
            "4a07fcd40a3e4dec80fc39a79ed97e35",
            "569bb227fcac471797a1958df8c4a7d1",
            "53a61caa820c4bb3a0d9bfa8686c2645",
            "01a5175163684847947f5308c6a97ed6",
            "a855cdb9fe144bb292464ebddda21845",
            "991d85b0c3a740379c6eb8d1fc5ec5c6"
          ]
        },
        "id": "3cxDfEMfpUZU",
        "outputId": "bd3599d7-0efe-4d63-8d81-b9834798f4bf"
      },
      "source": [
        "model_bert.train_model(train_data_for_transformer, eval_df=validation_data_for_transformer)"
      ],
      "execution_count": null,
      "outputs": [
        {
          "output_type": "display_data",
          "data": {
            "application/vnd.jupyter.widget-view+json": {
              "model_id": "a9b75d24147e40fdb419bd637a205a8a",
              "version_minor": 0,
              "version_major": 2
            },
            "text/plain": [
              "  0%|          | 0/17663 [00:00<?, ?it/s]"
            ]
          },
          "metadata": {
            "tags": []
          }
        },
        {
          "output_type": "display_data",
          "data": {
            "application/vnd.jupyter.widget-view+json": {
              "model_id": "6eecf94f8f3e4c5a9e50e520fe04c4d8",
              "version_minor": 0,
              "version_major": 2
            },
            "text/plain": [
              "Epoch:   0%|          | 0/6 [00:00<?, ?it/s]"
            ]
          },
          "metadata": {
            "tags": []
          }
        },
        {
          "output_type": "display_data",
          "data": {
            "application/vnd.jupyter.widget-view+json": {
              "model_id": "8805e3400b87422497e137e2f5708835",
              "version_minor": 0,
              "version_major": 2
            },
            "text/plain": [
              "Running Epoch 0 of 6:   0%|          | 0/2208 [00:00<?, ?it/s]"
            ]
          },
          "metadata": {
            "tags": []
          }
        },
        {
          "output_type": "stream",
          "text": [
            "/usr/local/lib/python3.6/dist-packages/torch/optim/lr_scheduler.py:136: UserWarning: Detected call of `lr_scheduler.step()` before `optimizer.step()`. In PyTorch 1.1.0 and later, you should call them in the opposite order: `optimizer.step()` before `lr_scheduler.step()`.  Failure to do this will result in PyTorch skipping the first value of the learning rate schedule. See more details at https://pytorch.org/docs/stable/optim.html#how-to-adjust-learning-rate\n",
            "  \"https://pytorch.org/docs/stable/optim.html#how-to-adjust-learning-rate\", UserWarning)\n",
            "/usr/local/lib/python3.6/dist-packages/torch/optim/lr_scheduler.py:216: UserWarning: Please also save or load the state of the optimizer when saving or loading the scheduler.\n",
            "  warnings.warn(SAVE_STATE_WARNING, UserWarning)\n"
          ],
          "name": "stderr"
        },
        {
          "output_type": "display_data",
          "data": {
            "application/vnd.jupyter.widget-view+json": {
              "model_id": "26a01cea44174dccb72c9775699782a3",
              "version_minor": 0,
              "version_major": 2
            },
            "text/plain": [
              "Running Epoch 1 of 6:   0%|          | 0/2208 [00:00<?, ?it/s]"
            ]
          },
          "metadata": {
            "tags": []
          }
        }
      ]
    },
    {
      "cell_type": "code",
      "metadata": {
        "colab": {
          "base_uri": "https://localhost:8080/",
          "height": 162
        },
        "id": "dSBJdWdVllbt",
        "outputId": "c468eab0-4eda-4587-954e-e951a286aeda"
      },
      "source": [
        "model_bert.train_model(train_data_for_transformer, eval_df=validation_data_for_transformer)"
      ],
      "execution_count": null,
      "outputs": [
        {
          "output_type": "error",
          "ename": "NameError",
          "evalue": "ignored",
          "traceback": [
            "\u001b[0;31m---------------------------------------------------------------------------\u001b[0m",
            "\u001b[0;31mNameError\u001b[0m                                 Traceback (most recent call last)",
            "\u001b[0;32m<ipython-input-32-0f87a33f199e>\u001b[0m in \u001b[0;36m<module>\u001b[0;34m()\u001b[0m\n\u001b[0;32m----> 1\u001b[0;31m \u001b[0mmodel_bert\u001b[0m\u001b[0;34m.\u001b[0m\u001b[0mtrain_model\u001b[0m\u001b[0;34m(\u001b[0m\u001b[0mtrain_data_for_transformer\u001b[0m\u001b[0;34m,\u001b[0m \u001b[0meval_df\u001b[0m\u001b[0;34m=\u001b[0m\u001b[0mvalidation_data_for_transformer\u001b[0m\u001b[0;34m)\u001b[0m\u001b[0;34m\u001b[0m\u001b[0;34m\u001b[0m\u001b[0m\n\u001b[0m",
            "\u001b[0;31mNameError\u001b[0m: name 'model_bert' is not defined"
          ]
        }
      ]
    },
    {
      "cell_type": "code",
      "metadata": {
        "colab": {
          "base_uri": "https://localhost:8080/",
          "height": 330
        },
        "id": "rWfXnB5pTFn9",
        "outputId": "c816bb09-c89f-464c-c35b-8513bfe16618"
      },
      "source": [
        "model = ClassificationModel(\"bert\",\n",
        "    \"distilbert-base-german-cased\",\n",
        "    '''args=model_args''')"
      ],
      "execution_count": null,
      "outputs": [
        {
          "output_type": "error",
          "ename": "TypeError",
          "evalue": "ignored",
          "traceback": [
            "\u001b[0;31m---------------------------------------------------------------------------\u001b[0m",
            "\u001b[0;31mTypeError\u001b[0m                                 Traceback (most recent call last)",
            "\u001b[0;32m<ipython-input-61-8c8b04a69fa5>\u001b[0m in \u001b[0;36m<module>\u001b[0;34m()\u001b[0m\n\u001b[1;32m      1\u001b[0m model = ClassificationModel(\"bert\", \n\u001b[1;32m      2\u001b[0m     \u001b[0;34m\"distilbert-base-german-cased\"\u001b[0m\u001b[0;34m,\u001b[0m\u001b[0;34m\u001b[0m\u001b[0;34m\u001b[0m\u001b[0m\n\u001b[0;32m----> 3\u001b[0;31m     '''args=model_args''')\n\u001b[0m",
            "\u001b[0;32m/usr/local/lib/python3.6/dist-packages/simpletransformers/classification/classification_model.py\u001b[0m in \u001b[0;36m__init__\u001b[0;34m(self, model_type, model_name, num_labels, weight, args, use_cuda, cuda_device, onnx_execution_provider, **kwargs)\u001b[0m\n\u001b[1;32m    188\u001b[0m         \u001b[0;32melse\u001b[0m\u001b[0;34m:\u001b[0m\u001b[0;34m\u001b[0m\u001b[0;34m\u001b[0m\u001b[0m\n\u001b[1;32m    189\u001b[0m             \u001b[0mlen_labels_list\u001b[0m \u001b[0;34m=\u001b[0m \u001b[0;36m2\u001b[0m \u001b[0;32mif\u001b[0m \u001b[0;32mnot\u001b[0m \u001b[0mnum_labels\u001b[0m \u001b[0;32melse\u001b[0m \u001b[0mnum_labels\u001b[0m\u001b[0;34m\u001b[0m\u001b[0;34m\u001b[0m\u001b[0m\n\u001b[0;32m--> 190\u001b[0;31m             \u001b[0mself\u001b[0m\u001b[0;34m.\u001b[0m\u001b[0margs\u001b[0m\u001b[0;34m.\u001b[0m\u001b[0mlabels_list\u001b[0m \u001b[0;34m=\u001b[0m \u001b[0;34m[\u001b[0m\u001b[0mi\u001b[0m \u001b[0;32mfor\u001b[0m \u001b[0mi\u001b[0m \u001b[0;32min\u001b[0m \u001b[0mrange\u001b[0m\u001b[0;34m(\u001b[0m\u001b[0mlen_labels_list\u001b[0m\u001b[0;34m)\u001b[0m\u001b[0;34m]\u001b[0m\u001b[0;34m\u001b[0m\u001b[0;34m\u001b[0m\u001b[0m\n\u001b[0m\u001b[1;32m    191\u001b[0m \u001b[0;34m\u001b[0m\u001b[0m\n\u001b[1;32m    192\u001b[0m         \u001b[0mconfig_class\u001b[0m\u001b[0;34m,\u001b[0m \u001b[0mmodel_class\u001b[0m\u001b[0;34m,\u001b[0m \u001b[0mtokenizer_class\u001b[0m \u001b[0;34m=\u001b[0m \u001b[0mMODEL_CLASSES\u001b[0m\u001b[0;34m[\u001b[0m\u001b[0mmodel_type\u001b[0m\u001b[0;34m]\u001b[0m\u001b[0;34m\u001b[0m\u001b[0;34m\u001b[0m\u001b[0m\n",
            "\u001b[0;31mTypeError\u001b[0m: 'str' object cannot be interpreted as an integer"
          ]
        }
      ]
    },
    {
      "cell_type": "code",
      "metadata": {
        "colab": {
          "base_uri": "https://localhost:8080/",
          "height": 81,
          "referenced_widgets": [
            "21df26ff5d2c46a690cb41f3541dc8b0",
            "8cc6fc7f8a034d9a971f921020aa6148",
            "5eed584a9fa14071a3a970da58d1dc5c",
            "7e99c40307a44f1789dabb0dac086a34",
            "997f2d908af74bbab7f418090f686114",
            "e247f510b68d47479037f252408a08e8",
            "845edc6cd31b498c9eb4bc411adb353a",
            "8c819f4e66be4d34b8948d838b32131f",
            "1ea70ebc12a14b3e823dbbc443754f75",
            "453e28df9197405cab79192b6348d4bc",
            "fbf12f65a18a4cf7a7dea386c79ae64d",
            "be711a0955594ba5aa315cf849530522",
            "2e99056d9f624125855239c1151f4b1f",
            "2ac3ba6deb7a442dbd13ccb4fb89c1c1",
            "4b4f012072904e47954bf177c3559772",
            "2ec5749313054b51bf7467ce9fa824aa",
            "88bb2e7b23df4fd49bec9aa363850c5d",
            "5aaa6b23fe1a4d8b948b7de7718ccd8c",
            "6b42409ec022441fb92b1114b792ac02",
            "ac045116e6e5413695207df14c64ed5a",
            "6129344a429b4a999db1372d869e8f8a",
            "6fbe458c19824617863fc17633995c8e"
          ]
        },
        "id": "9m7GWUONpc2b",
        "outputId": "92c8967d-4202-4d71-8906-42a501dda58e"
      },
      "source": [
        "result, model_outputs, wrong_predictions = model_bert.eval_model(validation_data_for_transformer)"
      ],
      "execution_count": null,
      "outputs": [
        {
          "output_type": "display_data",
          "data": {
            "application/vnd.jupyter.widget-view+json": {
              "model_id": "21df26ff5d2c46a690cb41f3541dc8b0",
              "version_minor": 0,
              "version_major": 2
            },
            "text/plain": [
              "  0%|          | 0/3044 [00:00<?, ?it/s]"
            ]
          },
          "metadata": {
            "tags": []
          }
        },
        {
          "output_type": "display_data",
          "data": {
            "application/vnd.jupyter.widget-view+json": {
              "model_id": "be711a0955594ba5aa315cf849530522",
              "version_minor": 0,
              "version_major": 2
            },
            "text/plain": [
              "Running Evaluation:   0%|          | 0/381 [00:00<?, ?it/s]"
            ]
          },
          "metadata": {
            "tags": []
          }
        }
      ]
    },
    {
      "cell_type": "code",
      "metadata": {
        "colab": {
          "base_uri": "https://localhost:8080/"
        },
        "id": "cMzrIEk0rooj",
        "outputId": "0fbeb73e-7be1-4f79-ab75-bc9cf5fc5f87"
      },
      "source": [
        "result"
      ],
      "execution_count": null,
      "outputs": [
        {
          "output_type": "execute_result",
          "data": {
            "text/plain": [
              "{'eval_loss': 0.5301031839112285}"
            ]
          },
          "metadata": {
            "tags": []
          },
          "execution_count": 101
        }
      ]
    },
    {
      "cell_type": "code",
      "metadata": {
        "colab": {
          "base_uri": "https://localhost:8080/",
          "height": 401,
          "referenced_widgets": [
            "36c710be97154af2a630434a1d9b7569",
            "460746ac3a294f6ba79c07a0c98fd64a",
            "5aa23351443a410793ba9bf975fa69c4",
            "629b63e1aa2f459489fac1568f576833",
            "ba5c41199bb44bf9883fbce374328c15",
            "181c6923c26d428e93dc2ab3d231b892",
            "1cf9ea3fb44348f3a1cf83ccbf359ff5",
            "40bd4846ea294a1c9f8dab9cd4419795",
            "26de2e055c124e97b87571f8d6e4fab3",
            "fcb74036dea04559aa319e066f19fed2",
            "c813c630310349d0bf2654c71a2c1a73",
            "750cee353d1c4ecfac667b3796f30c26",
            "e6ed247911d8412f812f4db2602f029c",
            "78f3e63708804b30af91f26fe328f89b",
            "0e088bdae03247ed91d274e4114e603b",
            "c26d41a81a0947ad829528f1d14c86e2",
            "907f868384cc411bb642d7648afdb9e8",
            "c2d07a7dad5f4ee691648d953fd4e300",
            "b7fd38ce74364f9f9f655d923762eebb",
            "fb12ae0140de430b9582a1df5c07001a",
            "b17dc2efc61a45818a85c5729f4a613b",
            "20d14534a2ee4fd7b67db59a074ba50e"
          ]
        },
        "id": "5DQ9NNTxrt4A",
        "outputId": "1347b382-2c7d-4e25-b082-6c933ee54ccf"
      },
      "source": [
        "predictions_val, raw_outputs = model_bert.predict(validation_to_predict)"
      ],
      "execution_count": null,
      "outputs": [
        {
          "output_type": "display_data",
          "data": {
            "application/vnd.jupyter.widget-view+json": {
              "model_id": "36c710be97154af2a630434a1d9b7569",
              "version_minor": 0,
              "version_major": 2
            },
            "text/plain": [
              "  0%|          | 0/3044 [00:00<?, ?it/s]"
            ]
          },
          "metadata": {
            "tags": []
          }
        },
        {
          "output_type": "display_data",
          "data": {
            "application/vnd.jupyter.widget-view+json": {
              "model_id": "750cee353d1c4ecfac667b3796f30c26",
              "version_minor": 0,
              "version_major": 2
            },
            "text/plain": [
              "  0%|          | 0/381 [00:00<?, ?it/s]"
            ]
          },
          "metadata": {
            "tags": []
          }
        },
        {
          "output_type": "error",
          "ename": "RuntimeError",
          "evalue": "ignored",
          "traceback": [
            "\u001b[0;31m---------------------------------------------------------------------------\u001b[0m",
            "\u001b[0;31mRuntimeError\u001b[0m                              Traceback (most recent call last)",
            "\u001b[0;32m<ipython-input-120-6f375f86edbf>\u001b[0m in \u001b[0;36m<module>\u001b[0;34m()\u001b[0m\n\u001b[0;32m----> 1\u001b[0;31m \u001b[0mpredictions_val\u001b[0m\u001b[0;34m,\u001b[0m \u001b[0mraw_outputs\u001b[0m \u001b[0;34m=\u001b[0m \u001b[0mmodel_bert\u001b[0m\u001b[0;34m.\u001b[0m\u001b[0mpredict\u001b[0m\u001b[0;34m(\u001b[0m\u001b[0mvalidation_to_predict\u001b[0m\u001b[0;34m)\u001b[0m\u001b[0;34m\u001b[0m\u001b[0;34m\u001b[0m\u001b[0m\n\u001b[0m",
            "\u001b[0;32m/usr/local/lib/python3.6/dist-packages/simpletransformers/classification/classification_model.py\u001b[0m in \u001b[0;36mpredict\u001b[0;34m(self, to_predict, multi_label)\u001b[0m\n\u001b[1;32m   1428\u001b[0m                         \u001b[0;32mif\u001b[0m \u001b[0mself\u001b[0m\u001b[0;34m.\u001b[0m\u001b[0margs\u001b[0m\u001b[0;34m.\u001b[0m\u001b[0mfp16\u001b[0m\u001b[0;34m:\u001b[0m\u001b[0;34m\u001b[0m\u001b[0;34m\u001b[0m\u001b[0m\n\u001b[1;32m   1429\u001b[0m                             \u001b[0;32mwith\u001b[0m \u001b[0mamp\u001b[0m\u001b[0;34m.\u001b[0m\u001b[0mautocast\u001b[0m\u001b[0;34m(\u001b[0m\u001b[0;34m)\u001b[0m\u001b[0;34m:\u001b[0m\u001b[0;34m\u001b[0m\u001b[0;34m\u001b[0m\u001b[0m\n\u001b[0;32m-> 1430\u001b[0;31m                                 \u001b[0moutputs\u001b[0m \u001b[0;34m=\u001b[0m \u001b[0mmodel\u001b[0m\u001b[0;34m(\u001b[0m\u001b[0;34m**\u001b[0m\u001b[0minputs\u001b[0m\u001b[0;34m)\u001b[0m\u001b[0;34m\u001b[0m\u001b[0;34m\u001b[0m\u001b[0m\n\u001b[0m\u001b[1;32m   1431\u001b[0m                                 \u001b[0mtmp_eval_loss\u001b[0m\u001b[0;34m,\u001b[0m \u001b[0mlogits\u001b[0m \u001b[0;34m=\u001b[0m \u001b[0moutputs\u001b[0m\u001b[0;34m[\u001b[0m\u001b[0;34m:\u001b[0m\u001b[0;36m2\u001b[0m\u001b[0;34m]\u001b[0m\u001b[0;34m\u001b[0m\u001b[0;34m\u001b[0m\u001b[0m\n\u001b[1;32m   1432\u001b[0m                         \u001b[0;32melse\u001b[0m\u001b[0;34m:\u001b[0m\u001b[0;34m\u001b[0m\u001b[0;34m\u001b[0m\u001b[0m\n",
            "\u001b[0;32m/usr/local/lib/python3.6/dist-packages/torch/nn/modules/module.py\u001b[0m in \u001b[0;36m_call_impl\u001b[0;34m(self, *input, **kwargs)\u001b[0m\n\u001b[1;32m    725\u001b[0m             \u001b[0mresult\u001b[0m \u001b[0;34m=\u001b[0m \u001b[0mself\u001b[0m\u001b[0;34m.\u001b[0m\u001b[0m_slow_forward\u001b[0m\u001b[0;34m(\u001b[0m\u001b[0;34m*\u001b[0m\u001b[0minput\u001b[0m\u001b[0;34m,\u001b[0m \u001b[0;34m**\u001b[0m\u001b[0mkwargs\u001b[0m\u001b[0;34m)\u001b[0m\u001b[0;34m\u001b[0m\u001b[0;34m\u001b[0m\u001b[0m\n\u001b[1;32m    726\u001b[0m         \u001b[0;32melse\u001b[0m\u001b[0;34m:\u001b[0m\u001b[0;34m\u001b[0m\u001b[0;34m\u001b[0m\u001b[0m\n\u001b[0;32m--> 727\u001b[0;31m             \u001b[0mresult\u001b[0m \u001b[0;34m=\u001b[0m \u001b[0mself\u001b[0m\u001b[0;34m.\u001b[0m\u001b[0mforward\u001b[0m\u001b[0;34m(\u001b[0m\u001b[0;34m*\u001b[0m\u001b[0minput\u001b[0m\u001b[0;34m,\u001b[0m \u001b[0;34m**\u001b[0m\u001b[0mkwargs\u001b[0m\u001b[0;34m)\u001b[0m\u001b[0;34m\u001b[0m\u001b[0;34m\u001b[0m\u001b[0m\n\u001b[0m\u001b[1;32m    728\u001b[0m         for hook in itertools.chain(\n\u001b[1;32m    729\u001b[0m                 \u001b[0m_global_forward_hooks\u001b[0m\u001b[0;34m.\u001b[0m\u001b[0mvalues\u001b[0m\u001b[0;34m(\u001b[0m\u001b[0;34m)\u001b[0m\u001b[0;34m,\u001b[0m\u001b[0;34m\u001b[0m\u001b[0;34m\u001b[0m\u001b[0m\n",
            "\u001b[0;32m/usr/local/lib/python3.6/dist-packages/simpletransformers/classification/transformer_models/bert_model.py\u001b[0m in \u001b[0;36mforward\u001b[0;34m(self, input_ids, attention_mask, token_type_ids, position_ids, head_mask, inputs_embeds, labels)\u001b[0m\n\u001b[1;32m     60\u001b[0m             \u001b[0mtoken_type_ids\u001b[0m\u001b[0;34m=\u001b[0m\u001b[0mtoken_type_ids\u001b[0m\u001b[0;34m,\u001b[0m\u001b[0;34m\u001b[0m\u001b[0;34m\u001b[0m\u001b[0m\n\u001b[1;32m     61\u001b[0m             \u001b[0mposition_ids\u001b[0m\u001b[0;34m=\u001b[0m\u001b[0mposition_ids\u001b[0m\u001b[0;34m,\u001b[0m\u001b[0;34m\u001b[0m\u001b[0;34m\u001b[0m\u001b[0m\n\u001b[0;32m---> 62\u001b[0;31m             \u001b[0mhead_mask\u001b[0m\u001b[0;34m=\u001b[0m\u001b[0mhead_mask\u001b[0m\u001b[0;34m,\u001b[0m\u001b[0;34m\u001b[0m\u001b[0;34m\u001b[0m\u001b[0m\n\u001b[0m\u001b[1;32m     63\u001b[0m         )\n\u001b[1;32m     64\u001b[0m         \u001b[0;31m# Complains if input_embeds is kept\u001b[0m\u001b[0;34m\u001b[0m\u001b[0;34m\u001b[0m\u001b[0;34m\u001b[0m\u001b[0m\n",
            "\u001b[0;32m/usr/local/lib/python3.6/dist-packages/torch/nn/modules/module.py\u001b[0m in \u001b[0;36m_call_impl\u001b[0;34m(self, *input, **kwargs)\u001b[0m\n\u001b[1;32m    725\u001b[0m             \u001b[0mresult\u001b[0m \u001b[0;34m=\u001b[0m \u001b[0mself\u001b[0m\u001b[0;34m.\u001b[0m\u001b[0m_slow_forward\u001b[0m\u001b[0;34m(\u001b[0m\u001b[0;34m*\u001b[0m\u001b[0minput\u001b[0m\u001b[0;34m,\u001b[0m \u001b[0;34m**\u001b[0m\u001b[0mkwargs\u001b[0m\u001b[0;34m)\u001b[0m\u001b[0;34m\u001b[0m\u001b[0;34m\u001b[0m\u001b[0m\n\u001b[1;32m    726\u001b[0m         \u001b[0;32melse\u001b[0m\u001b[0;34m:\u001b[0m\u001b[0;34m\u001b[0m\u001b[0;34m\u001b[0m\u001b[0m\n\u001b[0;32m--> 727\u001b[0;31m             \u001b[0mresult\u001b[0m \u001b[0;34m=\u001b[0m \u001b[0mself\u001b[0m\u001b[0;34m.\u001b[0m\u001b[0mforward\u001b[0m\u001b[0;34m(\u001b[0m\u001b[0;34m*\u001b[0m\u001b[0minput\u001b[0m\u001b[0;34m,\u001b[0m \u001b[0;34m**\u001b[0m\u001b[0mkwargs\u001b[0m\u001b[0;34m)\u001b[0m\u001b[0;34m\u001b[0m\u001b[0;34m\u001b[0m\u001b[0m\n\u001b[0m\u001b[1;32m    728\u001b[0m         for hook in itertools.chain(\n\u001b[1;32m    729\u001b[0m                 \u001b[0m_global_forward_hooks\u001b[0m\u001b[0;34m.\u001b[0m\u001b[0mvalues\u001b[0m\u001b[0;34m(\u001b[0m\u001b[0;34m)\u001b[0m\u001b[0;34m,\u001b[0m\u001b[0;34m\u001b[0m\u001b[0;34m\u001b[0m\u001b[0m\n",
            "\u001b[0;32m/usr/local/lib/python3.6/dist-packages/transformers/models/bert/modeling_bert.py\u001b[0m in \u001b[0;36mforward\u001b[0;34m(self, input_ids, attention_mask, token_type_ids, position_ids, head_mask, inputs_embeds, encoder_hidden_states, encoder_attention_mask, output_attentions, output_hidden_states, return_dict)\u001b[0m\n\u001b[1;32m    870\u001b[0m             \u001b[0moutput_attentions\u001b[0m\u001b[0;34m=\u001b[0m\u001b[0moutput_attentions\u001b[0m\u001b[0;34m,\u001b[0m\u001b[0;34m\u001b[0m\u001b[0;34m\u001b[0m\u001b[0m\n\u001b[1;32m    871\u001b[0m             \u001b[0moutput_hidden_states\u001b[0m\u001b[0;34m=\u001b[0m\u001b[0moutput_hidden_states\u001b[0m\u001b[0;34m,\u001b[0m\u001b[0;34m\u001b[0m\u001b[0;34m\u001b[0m\u001b[0m\n\u001b[0;32m--> 872\u001b[0;31m             \u001b[0mreturn_dict\u001b[0m\u001b[0;34m=\u001b[0m\u001b[0mreturn_dict\u001b[0m\u001b[0;34m,\u001b[0m\u001b[0;34m\u001b[0m\u001b[0;34m\u001b[0m\u001b[0m\n\u001b[0m\u001b[1;32m    873\u001b[0m         )\n\u001b[1;32m    874\u001b[0m         \u001b[0msequence_output\u001b[0m \u001b[0;34m=\u001b[0m \u001b[0mencoder_outputs\u001b[0m\u001b[0;34m[\u001b[0m\u001b[0;36m0\u001b[0m\u001b[0;34m]\u001b[0m\u001b[0;34m\u001b[0m\u001b[0;34m\u001b[0m\u001b[0m\n",
            "\u001b[0;32m/usr/local/lib/python3.6/dist-packages/torch/nn/modules/module.py\u001b[0m in \u001b[0;36m_call_impl\u001b[0;34m(self, *input, **kwargs)\u001b[0m\n\u001b[1;32m    725\u001b[0m             \u001b[0mresult\u001b[0m \u001b[0;34m=\u001b[0m \u001b[0mself\u001b[0m\u001b[0;34m.\u001b[0m\u001b[0m_slow_forward\u001b[0m\u001b[0;34m(\u001b[0m\u001b[0;34m*\u001b[0m\u001b[0minput\u001b[0m\u001b[0;34m,\u001b[0m \u001b[0;34m**\u001b[0m\u001b[0mkwargs\u001b[0m\u001b[0;34m)\u001b[0m\u001b[0;34m\u001b[0m\u001b[0;34m\u001b[0m\u001b[0m\n\u001b[1;32m    726\u001b[0m         \u001b[0;32melse\u001b[0m\u001b[0;34m:\u001b[0m\u001b[0;34m\u001b[0m\u001b[0;34m\u001b[0m\u001b[0m\n\u001b[0;32m--> 727\u001b[0;31m             \u001b[0mresult\u001b[0m \u001b[0;34m=\u001b[0m \u001b[0mself\u001b[0m\u001b[0;34m.\u001b[0m\u001b[0mforward\u001b[0m\u001b[0;34m(\u001b[0m\u001b[0;34m*\u001b[0m\u001b[0minput\u001b[0m\u001b[0;34m,\u001b[0m \u001b[0;34m**\u001b[0m\u001b[0mkwargs\u001b[0m\u001b[0;34m)\u001b[0m\u001b[0;34m\u001b[0m\u001b[0;34m\u001b[0m\u001b[0m\n\u001b[0m\u001b[1;32m    728\u001b[0m         for hook in itertools.chain(\n\u001b[1;32m    729\u001b[0m                 \u001b[0m_global_forward_hooks\u001b[0m\u001b[0;34m.\u001b[0m\u001b[0mvalues\u001b[0m\u001b[0;34m(\u001b[0m\u001b[0;34m)\u001b[0m\u001b[0;34m,\u001b[0m\u001b[0;34m\u001b[0m\u001b[0;34m\u001b[0m\u001b[0m\n",
            "\u001b[0;32m/usr/local/lib/python3.6/dist-packages/transformers/models/bert/modeling_bert.py\u001b[0m in \u001b[0;36mforward\u001b[0;34m(self, hidden_states, attention_mask, head_mask, encoder_hidden_states, encoder_attention_mask, output_attentions, output_hidden_states, return_dict)\u001b[0m\n\u001b[1;32m    505\u001b[0m                     \u001b[0mencoder_hidden_states\u001b[0m\u001b[0;34m,\u001b[0m\u001b[0;34m\u001b[0m\u001b[0;34m\u001b[0m\u001b[0m\n\u001b[1;32m    506\u001b[0m                     \u001b[0mencoder_attention_mask\u001b[0m\u001b[0;34m,\u001b[0m\u001b[0;34m\u001b[0m\u001b[0;34m\u001b[0m\u001b[0m\n\u001b[0;32m--> 507\u001b[0;31m                     \u001b[0moutput_attentions\u001b[0m\u001b[0;34m,\u001b[0m\u001b[0;34m\u001b[0m\u001b[0;34m\u001b[0m\u001b[0m\n\u001b[0m\u001b[1;32m    508\u001b[0m                 )\n\u001b[1;32m    509\u001b[0m             \u001b[0mhidden_states\u001b[0m \u001b[0;34m=\u001b[0m \u001b[0mlayer_outputs\u001b[0m\u001b[0;34m[\u001b[0m\u001b[0;36m0\u001b[0m\u001b[0;34m]\u001b[0m\u001b[0;34m\u001b[0m\u001b[0;34m\u001b[0m\u001b[0m\n",
            "\u001b[0;32m/usr/local/lib/python3.6/dist-packages/torch/nn/modules/module.py\u001b[0m in \u001b[0;36m_call_impl\u001b[0;34m(self, *input, **kwargs)\u001b[0m\n\u001b[1;32m    725\u001b[0m             \u001b[0mresult\u001b[0m \u001b[0;34m=\u001b[0m \u001b[0mself\u001b[0m\u001b[0;34m.\u001b[0m\u001b[0m_slow_forward\u001b[0m\u001b[0;34m(\u001b[0m\u001b[0;34m*\u001b[0m\u001b[0minput\u001b[0m\u001b[0;34m,\u001b[0m \u001b[0;34m**\u001b[0m\u001b[0mkwargs\u001b[0m\u001b[0;34m)\u001b[0m\u001b[0;34m\u001b[0m\u001b[0;34m\u001b[0m\u001b[0m\n\u001b[1;32m    726\u001b[0m         \u001b[0;32melse\u001b[0m\u001b[0;34m:\u001b[0m\u001b[0;34m\u001b[0m\u001b[0;34m\u001b[0m\u001b[0m\n\u001b[0;32m--> 727\u001b[0;31m             \u001b[0mresult\u001b[0m \u001b[0;34m=\u001b[0m \u001b[0mself\u001b[0m\u001b[0;34m.\u001b[0m\u001b[0mforward\u001b[0m\u001b[0;34m(\u001b[0m\u001b[0;34m*\u001b[0m\u001b[0minput\u001b[0m\u001b[0;34m,\u001b[0m \u001b[0;34m**\u001b[0m\u001b[0mkwargs\u001b[0m\u001b[0;34m)\u001b[0m\u001b[0;34m\u001b[0m\u001b[0;34m\u001b[0m\u001b[0m\n\u001b[0m\u001b[1;32m    728\u001b[0m         for hook in itertools.chain(\n\u001b[1;32m    729\u001b[0m                 \u001b[0m_global_forward_hooks\u001b[0m\u001b[0;34m.\u001b[0m\u001b[0mvalues\u001b[0m\u001b[0;34m(\u001b[0m\u001b[0;34m)\u001b[0m\u001b[0;34m,\u001b[0m\u001b[0;34m\u001b[0m\u001b[0;34m\u001b[0m\u001b[0m\n",
            "\u001b[0;32m/usr/local/lib/python3.6/dist-packages/transformers/models/bert/modeling_bert.py\u001b[0m in \u001b[0;36mforward\u001b[0;34m(self, hidden_states, attention_mask, head_mask, encoder_hidden_states, encoder_attention_mask, output_attentions)\u001b[0m\n\u001b[1;32m    424\u001b[0m             \u001b[0mattention_mask\u001b[0m\u001b[0;34m,\u001b[0m\u001b[0;34m\u001b[0m\u001b[0;34m\u001b[0m\u001b[0m\n\u001b[1;32m    425\u001b[0m             \u001b[0mhead_mask\u001b[0m\u001b[0;34m,\u001b[0m\u001b[0;34m\u001b[0m\u001b[0;34m\u001b[0m\u001b[0m\n\u001b[0;32m--> 426\u001b[0;31m             \u001b[0moutput_attentions\u001b[0m\u001b[0;34m=\u001b[0m\u001b[0moutput_attentions\u001b[0m\u001b[0;34m,\u001b[0m\u001b[0;34m\u001b[0m\u001b[0;34m\u001b[0m\u001b[0m\n\u001b[0m\u001b[1;32m    427\u001b[0m         )\n\u001b[1;32m    428\u001b[0m         \u001b[0mattention_output\u001b[0m \u001b[0;34m=\u001b[0m \u001b[0mself_attention_outputs\u001b[0m\u001b[0;34m[\u001b[0m\u001b[0;36m0\u001b[0m\u001b[0;34m]\u001b[0m\u001b[0;34m\u001b[0m\u001b[0;34m\u001b[0m\u001b[0m\n",
            "\u001b[0;32m/usr/local/lib/python3.6/dist-packages/torch/nn/modules/module.py\u001b[0m in \u001b[0;36m_call_impl\u001b[0;34m(self, *input, **kwargs)\u001b[0m\n\u001b[1;32m    725\u001b[0m             \u001b[0mresult\u001b[0m \u001b[0;34m=\u001b[0m \u001b[0mself\u001b[0m\u001b[0;34m.\u001b[0m\u001b[0m_slow_forward\u001b[0m\u001b[0;34m(\u001b[0m\u001b[0;34m*\u001b[0m\u001b[0minput\u001b[0m\u001b[0;34m,\u001b[0m \u001b[0;34m**\u001b[0m\u001b[0mkwargs\u001b[0m\u001b[0;34m)\u001b[0m\u001b[0;34m\u001b[0m\u001b[0;34m\u001b[0m\u001b[0m\n\u001b[1;32m    726\u001b[0m         \u001b[0;32melse\u001b[0m\u001b[0;34m:\u001b[0m\u001b[0;34m\u001b[0m\u001b[0;34m\u001b[0m\u001b[0m\n\u001b[0;32m--> 727\u001b[0;31m             \u001b[0mresult\u001b[0m \u001b[0;34m=\u001b[0m \u001b[0mself\u001b[0m\u001b[0;34m.\u001b[0m\u001b[0mforward\u001b[0m\u001b[0;34m(\u001b[0m\u001b[0;34m*\u001b[0m\u001b[0minput\u001b[0m\u001b[0;34m,\u001b[0m \u001b[0;34m**\u001b[0m\u001b[0mkwargs\u001b[0m\u001b[0;34m)\u001b[0m\u001b[0;34m\u001b[0m\u001b[0;34m\u001b[0m\u001b[0m\n\u001b[0m\u001b[1;32m    728\u001b[0m         for hook in itertools.chain(\n\u001b[1;32m    729\u001b[0m                 \u001b[0m_global_forward_hooks\u001b[0m\u001b[0;34m.\u001b[0m\u001b[0mvalues\u001b[0m\u001b[0;34m(\u001b[0m\u001b[0;34m)\u001b[0m\u001b[0;34m,\u001b[0m\u001b[0;34m\u001b[0m\u001b[0;34m\u001b[0m\u001b[0m\n",
            "\u001b[0;32m/usr/local/lib/python3.6/dist-packages/transformers/models/bert/modeling_bert.py\u001b[0m in \u001b[0;36mforward\u001b[0;34m(self, hidden_states, attention_mask, head_mask, encoder_hidden_states, encoder_attention_mask, output_attentions)\u001b[0m\n\u001b[1;32m    361\u001b[0m             \u001b[0mencoder_hidden_states\u001b[0m\u001b[0;34m,\u001b[0m\u001b[0;34m\u001b[0m\u001b[0;34m\u001b[0m\u001b[0m\n\u001b[1;32m    362\u001b[0m             \u001b[0mencoder_attention_mask\u001b[0m\u001b[0;34m,\u001b[0m\u001b[0;34m\u001b[0m\u001b[0;34m\u001b[0m\u001b[0m\n\u001b[0;32m--> 363\u001b[0;31m             \u001b[0moutput_attentions\u001b[0m\u001b[0;34m,\u001b[0m\u001b[0;34m\u001b[0m\u001b[0;34m\u001b[0m\u001b[0m\n\u001b[0m\u001b[1;32m    364\u001b[0m         )\n\u001b[1;32m    365\u001b[0m         \u001b[0mattention_output\u001b[0m \u001b[0;34m=\u001b[0m \u001b[0mself\u001b[0m\u001b[0;34m.\u001b[0m\u001b[0moutput\u001b[0m\u001b[0;34m(\u001b[0m\u001b[0mself_outputs\u001b[0m\u001b[0;34m[\u001b[0m\u001b[0;36m0\u001b[0m\u001b[0;34m]\u001b[0m\u001b[0;34m,\u001b[0m \u001b[0mhidden_states\u001b[0m\u001b[0;34m)\u001b[0m\u001b[0;34m\u001b[0m\u001b[0;34m\u001b[0m\u001b[0m\n",
            "\u001b[0;32m/usr/local/lib/python3.6/dist-packages/torch/nn/modules/module.py\u001b[0m in \u001b[0;36m_call_impl\u001b[0;34m(self, *input, **kwargs)\u001b[0m\n\u001b[1;32m    725\u001b[0m             \u001b[0mresult\u001b[0m \u001b[0;34m=\u001b[0m \u001b[0mself\u001b[0m\u001b[0;34m.\u001b[0m\u001b[0m_slow_forward\u001b[0m\u001b[0;34m(\u001b[0m\u001b[0;34m*\u001b[0m\u001b[0minput\u001b[0m\u001b[0;34m,\u001b[0m \u001b[0;34m**\u001b[0m\u001b[0mkwargs\u001b[0m\u001b[0;34m)\u001b[0m\u001b[0;34m\u001b[0m\u001b[0;34m\u001b[0m\u001b[0m\n\u001b[1;32m    726\u001b[0m         \u001b[0;32melse\u001b[0m\u001b[0;34m:\u001b[0m\u001b[0;34m\u001b[0m\u001b[0;34m\u001b[0m\u001b[0m\n\u001b[0;32m--> 727\u001b[0;31m             \u001b[0mresult\u001b[0m \u001b[0;34m=\u001b[0m \u001b[0mself\u001b[0m\u001b[0;34m.\u001b[0m\u001b[0mforward\u001b[0m\u001b[0;34m(\u001b[0m\u001b[0;34m*\u001b[0m\u001b[0minput\u001b[0m\u001b[0;34m,\u001b[0m \u001b[0;34m**\u001b[0m\u001b[0mkwargs\u001b[0m\u001b[0;34m)\u001b[0m\u001b[0;34m\u001b[0m\u001b[0;34m\u001b[0m\u001b[0m\n\u001b[0m\u001b[1;32m    728\u001b[0m         for hook in itertools.chain(\n\u001b[1;32m    729\u001b[0m                 \u001b[0m_global_forward_hooks\u001b[0m\u001b[0;34m.\u001b[0m\u001b[0mvalues\u001b[0m\u001b[0;34m(\u001b[0m\u001b[0;34m)\u001b[0m\u001b[0;34m,\u001b[0m\u001b[0;34m\u001b[0m\u001b[0;34m\u001b[0m\u001b[0m\n",
            "\u001b[0;32m/usr/local/lib/python3.6/dist-packages/transformers/models/bert/modeling_bert.py\u001b[0m in \u001b[0;36mforward\u001b[0;34m(self, hidden_states, attention_mask, head_mask, encoder_hidden_states, encoder_attention_mask, output_attentions)\u001b[0m\n\u001b[1;32m    281\u001b[0m                 \u001b[0mattention_scores\u001b[0m \u001b[0;34m=\u001b[0m \u001b[0mattention_scores\u001b[0m \u001b[0;34m+\u001b[0m \u001b[0mrelative_position_scores_query\u001b[0m \u001b[0;34m+\u001b[0m \u001b[0mrelative_position_scores_key\u001b[0m\u001b[0;34m\u001b[0m\u001b[0;34m\u001b[0m\u001b[0m\n\u001b[1;32m    282\u001b[0m \u001b[0;34m\u001b[0m\u001b[0m\n\u001b[0;32m--> 283\u001b[0;31m         \u001b[0mattention_scores\u001b[0m \u001b[0;34m=\u001b[0m \u001b[0mattention_scores\u001b[0m \u001b[0;34m/\u001b[0m \u001b[0mmath\u001b[0m\u001b[0;34m.\u001b[0m\u001b[0msqrt\u001b[0m\u001b[0;34m(\u001b[0m\u001b[0mself\u001b[0m\u001b[0;34m.\u001b[0m\u001b[0mattention_head_size\u001b[0m\u001b[0;34m)\u001b[0m\u001b[0;34m\u001b[0m\u001b[0;34m\u001b[0m\u001b[0m\n\u001b[0m\u001b[1;32m    284\u001b[0m         \u001b[0;32mif\u001b[0m \u001b[0mattention_mask\u001b[0m \u001b[0;32mis\u001b[0m \u001b[0;32mnot\u001b[0m \u001b[0;32mNone\u001b[0m\u001b[0;34m:\u001b[0m\u001b[0;34m\u001b[0m\u001b[0;34m\u001b[0m\u001b[0m\n\u001b[1;32m    285\u001b[0m             \u001b[0;31m# Apply the attention mask is (precomputed for all layers in BertModel forward() function)\u001b[0m\u001b[0;34m\u001b[0m\u001b[0;34m\u001b[0m\u001b[0;34m\u001b[0m\u001b[0m\n",
            "\u001b[0;31mRuntimeError\u001b[0m: CUDA out of memory. Tried to allocate 20.00 MiB (GPU 0; 14.73 GiB total capacity; 13.65 GiB already allocated; 13.88 MiB free; 13.67 GiB reserved in total by PyTorch)"
          ]
        }
      ]
    },
    {
      "cell_type": "code",
      "metadata": {
        "id": "fQTI2AkssoXs"
      },
      "source": [
        "predictions_val"
      ],
      "execution_count": null,
      "outputs": []
    },
    {
      "cell_type": "code",
      "metadata": {
        "id": "UMYbYR6S68-m"
      },
      "source": [
        "def print_one_column(lista):\n",
        "  str = \"\""
      ],
      "execution_count": null,
      "outputs": []
    },
    {
      "cell_type": "code",
      "metadata": {
        "colab": {
          "base_uri": "https://localhost:8080/"
        },
        "id": "0fgcuWDluXpi",
        "outputId": "73b6a19a-a911-47a7-c2cb-405977cb5c1d"
      },
      "source": [
        "#for p in predictions_val:\n",
        "#  print(p)\n",
        "suma = 0\n",
        "for i in range(len(predictions_val)):\n",
        "  dif = abs(predictions_val[i] - validation_labels[i][0])\n",
        "  suma+=dif\n",
        "suma = suma/len(predictions_val)\n",
        "suma\n",
        "#5.0760718396737134"
      ],
      "execution_count": null,
      "outputs": [
        {
          "output_type": "execute_result",
          "data": {
            "text/plain": [
              "0.5966592329690101"
            ]
          },
          "metadata": {
            "tags": []
          },
          "execution_count": 114
        }
      ]
    },
    {
      "cell_type": "code",
      "metadata": {
        "id": "mtt-JpRZEZvc",
        "colab": {
          "base_uri": "https://localhost:8080/",
          "height": 128
        },
        "outputId": "d48c3ab8-4a80-400a-d6f3-e67ae01ca36f"
      },
      "source": [
        "str = \"\"\n",
        "for"
      ],
      "execution_count": null,
      "outputs": [
        {
          "output_type": "error",
          "ename": "SyntaxError",
          "evalue": "ignored",
          "traceback": [
            "\u001b[0;36m  File \u001b[0;32m\"<ipython-input-98-9ac17ce14e11>\"\u001b[0;36m, line \u001b[0;32m2\u001b[0m\n\u001b[0;31m    for\u001b[0m\n\u001b[0m        ^\u001b[0m\n\u001b[0;31mSyntaxError\u001b[0m\u001b[0;31m:\u001b[0m invalid syntax\n"
          ]
        }
      ]
    },
    {
      "cell_type": "code",
      "metadata": {
        "id": "PZ8T1PgUEL6o"
      },
      "source": [
        "nume_fisier = \"bert_x_score=\" + str(score)\n",
        "f = open('/content/drive/MyDrive/Master AI/First Year/Semester 1/PML/Predictions/' + nume_fisier + '.txt', \"a\")\n",
        "string_to_print = convert_to_printable_string(predicted_X_labels_1, predicted_Y_labels_1)\n",
        "  if score<1.5:\n",
        "    f.write(string_to_print)\n",
        "  f.close()"
      ],
      "execution_count": null,
      "outputs": []
    },
    {
      "cell_type": "markdown",
      "metadata": {
        "id": "TZ9ZXiQP8JR2"
      },
      "source": [
        "###Varianta 1: prezic X si Y deodata\n",
        "\n"
      ]
    },
    {
      "cell_type": "code",
      "metadata": {
        "colab": {
          "base_uri": "https://localhost:8080/",
          "height": 229
        },
        "id": "6lp1DLKx8gYw",
        "outputId": "37712258-74cb-4c53-e408-fb1632e01e2b"
      },
      "source": [
        "train_data_for_transformer = []\n",
        "\n",
        "contor_mare = 0\n",
        "for i in range(len(content_training)):\n",
        "  id, lbl, tweet = Split_in_parts(content_training[i])\n",
        "  if len(tweet)>0:\n",
        "    contor_mare+=1\n",
        "    train_data_for_transformer.append(  [tweet, [training_labels[i][0], training_labels[i][1]]] )\n",
        "print(\"tweets longer that 100: \", contor_mare)\n",
        "\n",
        "train_data_for_transformer = pandas.DataFrame(train_data_for_transformer)\n",
        "train_data_for_transformer.columns = [\"text\", \"labels\"]"
      ],
      "execution_count": null,
      "outputs": [
        {
          "output_type": "error",
          "ename": "NameError",
          "evalue": "ignored",
          "traceback": [
            "\u001b[0;31m---------------------------------------------------------------------------\u001b[0m",
            "\u001b[0;31mNameError\u001b[0m                                 Traceback (most recent call last)",
            "\u001b[0;32m<ipython-input-22-330c4acd5321>\u001b[0m in \u001b[0;36m<module>\u001b[0;34m()\u001b[0m\n\u001b[1;32m      6\u001b[0m   \u001b[0;32mif\u001b[0m \u001b[0mlen\u001b[0m\u001b[0;34m(\u001b[0m\u001b[0mtweet\u001b[0m\u001b[0;34m)\u001b[0m\u001b[0;34m>\u001b[0m\u001b[0;36m0\u001b[0m\u001b[0;34m:\u001b[0m\u001b[0;34m\u001b[0m\u001b[0;34m\u001b[0m\u001b[0m\n\u001b[1;32m      7\u001b[0m     \u001b[0mcontor_mare\u001b[0m\u001b[0;34m+=\u001b[0m\u001b[0;36m1\u001b[0m\u001b[0;34m\u001b[0m\u001b[0;34m\u001b[0m\u001b[0m\n\u001b[0;32m----> 8\u001b[0;31m     \u001b[0mtrain_data_for_transformer\u001b[0m\u001b[0;34m.\u001b[0m\u001b[0mappend\u001b[0m\u001b[0;34m(\u001b[0m  \u001b[0;34m[\u001b[0m\u001b[0mtweet\u001b[0m\u001b[0;34m,\u001b[0m \u001b[0;34m[\u001b[0m\u001b[0mtraining_labels\u001b[0m\u001b[0;34m[\u001b[0m\u001b[0mi\u001b[0m\u001b[0;34m]\u001b[0m\u001b[0;34m[\u001b[0m\u001b[0;36m0\u001b[0m\u001b[0;34m]\u001b[0m\u001b[0;34m,\u001b[0m \u001b[0mtraining_labels\u001b[0m\u001b[0;34m[\u001b[0m\u001b[0mi\u001b[0m\u001b[0;34m]\u001b[0m\u001b[0;34m[\u001b[0m\u001b[0;36m1\u001b[0m\u001b[0;34m]\u001b[0m\u001b[0;34m]\u001b[0m\u001b[0;34m]\u001b[0m \u001b[0;34m)\u001b[0m\u001b[0;34m\u001b[0m\u001b[0;34m\u001b[0m\u001b[0m\n\u001b[0m\u001b[1;32m      9\u001b[0m \u001b[0mprint\u001b[0m\u001b[0;34m(\u001b[0m\u001b[0;34m\"tweets longer that 100: \"\u001b[0m\u001b[0;34m,\u001b[0m \u001b[0mcontor_mare\u001b[0m\u001b[0;34m)\u001b[0m\u001b[0;34m\u001b[0m\u001b[0;34m\u001b[0m\u001b[0m\n\u001b[1;32m     10\u001b[0m \u001b[0;34m\u001b[0m\u001b[0m\n",
            "\u001b[0;31mNameError\u001b[0m: name 'training_labels' is not defined"
          ]
        }
      ]
    },
    {
      "cell_type": "markdown",
      "metadata": {
        "id": "ZyA141HBVpsx"
      },
      "source": [
        "# **Validate the models:**"
      ]
    },
    {
      "cell_type": "markdown",
      "metadata": {
        "id": "0ZNTM_DO7y2l"
      },
      "source": [
        "# Compute the obtained score:\n",
        "Using the"
      ]
    },
    {
      "cell_type": "code",
      "metadata": {
        "id": "mlvYWgkbdPV2"
      },
      "source": [
        "#De rulat din nou dupa ce da eroare:\n",
        "\n",
        "\n",
        "#best_predicted_labels_1 = np.array([[best_predicted_X_labels_1[i], best_predicted_Y_labels_1[i]] for i in range(len(predicted_X_labels_1))])\n",
        "print(\"score model 1: \", compute_score(best_predicted_labels_1, validation_labels))\n",
        "\n",
        "#best_predicted_labels_2 = np.array([[best_predicted_X_labels_2[i], best_predicted_Y_labels_2[i]] for i in range(len(predicted_X_labels_2))])\n",
        "print(\"score model 2: \", compute_score(best_predicted_labels_2, validation_labels))\n",
        "\n",
        "#best_predicted_labels_3 = np.array([[best_predicted_X_labels_3[i], best_predicted_Y_labels_3[i]] for i in range(len(predicted_X_labels_3))])\n",
        "print(\"best_score model 3: \", compute_score(best_predicted_labels_3, validation_labels))\n",
        "\n",
        "\n",
        "\n",
        "avg_prediction = (best_predicted_labels_1 + best_predicted_labels_2 + best_predicted_labels_3) / 3\n",
        "\n",
        "print(\"score combined model: \", compute_score(avg_prediction, validation_labels))\n",
        "\n",
        "\n"
      ],
      "execution_count": null,
      "outputs": []
    },
    {
      "cell_type": "code",
      "metadata": {
        "id": "kHNpBErLpBWP"
      },
      "source": [],
      "execution_count": null,
      "outputs": []
    }
  ]
}